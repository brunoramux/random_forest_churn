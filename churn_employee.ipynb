{
 "cells": [
  {
   "cell_type": "code",
   "execution_count": 1,
   "metadata": {},
   "outputs": [],
   "source": [
    "# pipenv install pandas scipy plotly scikit-learn optuna shap ipywidgets nbformat numpy==2.0"
   ]
  },
  {
   "cell_type": "code",
   "execution_count": 1,
   "metadata": {},
   "outputs": [],
   "source": [
    "import pandas as pd\n",
    "import numpy as np\n",
    "from scipy.stats import chi2_contingency\n",
    "\n",
    "import plotly.express as px\n",
    "\n",
    "from sklearn.compose import ColumnTransformer\n",
    "from sklearn.preprocessing import StandardScaler, OneHotEncoder\n",
    "\n",
    "from sklearn.ensemble import RandomForestClassifier\n",
    "from sklearn.model_selection import train_test_split, StratifiedKFold, cross_validate\n",
    "from sklearn.metrics import classification_report, confusion_matrix, ConfusionMatrixDisplay, log_loss, roc_curve, roc_auc_score, f1_score, precision_score\n",
    "\n",
    "import optuna"
   ]
  },
  {
   "cell_type": "code",
   "execution_count": 2,
   "metadata": {},
   "outputs": [
    {
     "data": {
      "text/plain": [
       "'2.2.3'"
      ]
     },
     "execution_count": 2,
     "metadata": {},
     "output_type": "execute_result"
    }
   ],
   "source": [
    "pd.__version__ "
   ]
  },
  {
   "cell_type": "code",
   "execution_count": 3,
   "metadata": {},
   "outputs": [],
   "source": [
    "df = pd.read_csv('dataset.csv')"
   ]
  },
  {
   "cell_type": "code",
   "execution_count": 4,
   "metadata": {},
   "outputs": [
    {
     "name": "stdout",
     "output_type": "stream",
     "text": [
      "<class 'pandas.core.frame.DataFrame'>\n",
      "RangeIndex: 2000 entries, 0 to 1999\n",
      "Data columns (total 20 columns):\n",
      " #   Column                     Non-Null Count  Dtype  \n",
      "---  ------                     --------------  -----  \n",
      " 0   id                         2000 non-null   object \n",
      " 1   idade                      2000 non-null   int64  \n",
      " 2   genero                     2000 non-null   object \n",
      " 3   estado_civil               2000 non-null   object \n",
      " 4   educacao                   2000 non-null   object \n",
      " 5   regime_trabalho            2000 non-null   object \n",
      " 6   data_contratacao           2000 non-null   object \n",
      " 7   data_demissao              286 non-null    object \n",
      " 8   tipo_demissao              286 non-null    object \n",
      " 9   cargo                      2000 non-null   object \n",
      " 10  salario_atual              2000 non-null   int64  \n",
      " 11  data_ultimo_feedback       2000 non-null   object \n",
      " 12  data_ultimo_aumento        2000 non-null   object \n",
      " 13  data_ultima_mudanca_cargo  2000 non-null   object \n",
      " 14  nota_avaliacao             2000 non-null   float64\n",
      " 15  acompanhamento_psicologo   2000 non-null   bool   \n",
      " 16  qtde_projetos              2000 non-null   int64  \n",
      " 17  qtde_clientes              2000 non-null   int64  \n",
      " 18  nivel_satisfacao_gestor    2000 non-null   float64\n",
      " 19  churn                      2000 non-null   int64  \n",
      "dtypes: bool(1), float64(2), int64(5), object(12)\n",
      "memory usage: 299.0+ KB\n"
     ]
    }
   ],
   "source": [
    "df.info()"
   ]
  },
  {
   "cell_type": "code",
   "execution_count": 5,
   "metadata": {},
   "outputs": [
    {
     "data": {
      "application/vnd.microsoft.datawrangler.viewer.v0+json": {
       "columns": [
        {
         "name": "index",
         "rawType": "int64",
         "type": "integer"
        },
        {
         "name": "id",
         "rawType": "object",
         "type": "string"
        },
        {
         "name": "idade",
         "rawType": "int64",
         "type": "integer"
        },
        {
         "name": "genero",
         "rawType": "object",
         "type": "string"
        },
        {
         "name": "estado_civil",
         "rawType": "object",
         "type": "string"
        },
        {
         "name": "educacao",
         "rawType": "object",
         "type": "string"
        },
        {
         "name": "regime_trabalho",
         "rawType": "object",
         "type": "string"
        },
        {
         "name": "data_contratacao",
         "rawType": "object",
         "type": "string"
        },
        {
         "name": "data_demissao",
         "rawType": "object",
         "type": "unknown"
        },
        {
         "name": "tipo_demissao",
         "rawType": "object",
         "type": "unknown"
        },
        {
         "name": "cargo",
         "rawType": "object",
         "type": "string"
        },
        {
         "name": "salario_atual",
         "rawType": "int64",
         "type": "integer"
        },
        {
         "name": "data_ultimo_feedback",
         "rawType": "object",
         "type": "string"
        },
        {
         "name": "data_ultimo_aumento",
         "rawType": "object",
         "type": "string"
        },
        {
         "name": "data_ultima_mudanca_cargo",
         "rawType": "object",
         "type": "string"
        },
        {
         "name": "nota_avaliacao",
         "rawType": "float64",
         "type": "float"
        },
        {
         "name": "acompanhamento_psicologo",
         "rawType": "bool",
         "type": "boolean"
        },
        {
         "name": "qtde_projetos",
         "rawType": "int64",
         "type": "integer"
        },
        {
         "name": "qtde_clientes",
         "rawType": "int64",
         "type": "integer"
        },
        {
         "name": "nivel_satisfacao_gestor",
         "rawType": "float64",
         "type": "float"
        },
        {
         "name": "churn",
         "rawType": "int64",
         "type": "integer"
        }
       ],
       "conversionMethod": "pd.DataFrame",
       "ref": "f4467773-e2f5-4340-95d3-654dc49b7ace",
       "rows": [
        [
         "0",
         "EMP1564",
         "37",
         "F",
         "Divorciado(a)",
         "Master",
         "Remoto",
         "2020-01-02",
         null,
         null,
         "Senior Developer",
         "10207",
         "2024-05-09",
         "2023-07-31",
         "2022-11-03",
         "9.6",
         "True",
         "5",
         "1",
         "7.0",
         "0"
        ],
        [
         "1",
         "EMP0959",
         "45",
         "Outro",
         "Divorciado(a)",
         "Master",
         "Remoto",
         "2020-01-03",
         null,
         null,
         "UX Designer",
         "23921",
         "2024-04-05",
         "2023-09-10",
         "2022-02-11",
         "8.4",
         "True",
         "8",
         "4",
         "9.1",
         "0"
        ],
        [
         "2",
         "EMP0494",
         "54",
         "M",
         "Viúvo(a)",
         "Technical Degree",
         "Híbrido",
         "2020-01-04",
         null,
         null,
         "Tech Lead",
         "15298",
         "2023-06-16",
         "2021-12-26",
         "2021-05-10",
         "8.5",
         "False",
         "9",
         "7",
         "1.3",
         "0"
        ],
        [
         "3",
         "EMP1231",
         "44",
         "M",
         "Casado(a)",
         "Bachelor",
         "Remoto",
         "2020-01-05",
         null,
         null,
         "QA Engineer",
         "15306",
         "2021-12-04",
         "2022-01-01",
         "2024-08-30",
         "7.9",
         "False",
         "8",
         "4",
         "8.4",
         "0"
        ],
        [
         "4",
         "EMP1912",
         "53",
         "Outro",
         "Viúvo(a)",
         "PhD",
         "Presencial",
         "2020-01-07",
         null,
         null,
         "Senior Developer",
         "17723",
         "2022-03-04",
         "2023-11-18",
         "2024-08-08",
         "7.5",
         "True",
         "5",
         "2",
         "8.2",
         "0"
        ]
       ],
       "shape": {
        "columns": 20,
        "rows": 5
       }
      },
      "text/html": [
       "<div>\n",
       "<style scoped>\n",
       "    .dataframe tbody tr th:only-of-type {\n",
       "        vertical-align: middle;\n",
       "    }\n",
       "\n",
       "    .dataframe tbody tr th {\n",
       "        vertical-align: top;\n",
       "    }\n",
       "\n",
       "    .dataframe thead th {\n",
       "        text-align: right;\n",
       "    }\n",
       "</style>\n",
       "<table border=\"1\" class=\"dataframe\">\n",
       "  <thead>\n",
       "    <tr style=\"text-align: right;\">\n",
       "      <th></th>\n",
       "      <th>id</th>\n",
       "      <th>idade</th>\n",
       "      <th>genero</th>\n",
       "      <th>estado_civil</th>\n",
       "      <th>educacao</th>\n",
       "      <th>regime_trabalho</th>\n",
       "      <th>data_contratacao</th>\n",
       "      <th>data_demissao</th>\n",
       "      <th>tipo_demissao</th>\n",
       "      <th>cargo</th>\n",
       "      <th>salario_atual</th>\n",
       "      <th>data_ultimo_feedback</th>\n",
       "      <th>data_ultimo_aumento</th>\n",
       "      <th>data_ultima_mudanca_cargo</th>\n",
       "      <th>nota_avaliacao</th>\n",
       "      <th>acompanhamento_psicologo</th>\n",
       "      <th>qtde_projetos</th>\n",
       "      <th>qtde_clientes</th>\n",
       "      <th>nivel_satisfacao_gestor</th>\n",
       "      <th>churn</th>\n",
       "    </tr>\n",
       "  </thead>\n",
       "  <tbody>\n",
       "    <tr>\n",
       "      <th>0</th>\n",
       "      <td>EMP1564</td>\n",
       "      <td>37</td>\n",
       "      <td>F</td>\n",
       "      <td>Divorciado(a)</td>\n",
       "      <td>Master</td>\n",
       "      <td>Remoto</td>\n",
       "      <td>2020-01-02</td>\n",
       "      <td>NaN</td>\n",
       "      <td>NaN</td>\n",
       "      <td>Senior Developer</td>\n",
       "      <td>10207</td>\n",
       "      <td>2024-05-09</td>\n",
       "      <td>2023-07-31</td>\n",
       "      <td>2022-11-03</td>\n",
       "      <td>9.6</td>\n",
       "      <td>True</td>\n",
       "      <td>5</td>\n",
       "      <td>1</td>\n",
       "      <td>7.0</td>\n",
       "      <td>0</td>\n",
       "    </tr>\n",
       "    <tr>\n",
       "      <th>1</th>\n",
       "      <td>EMP0959</td>\n",
       "      <td>45</td>\n",
       "      <td>Outro</td>\n",
       "      <td>Divorciado(a)</td>\n",
       "      <td>Master</td>\n",
       "      <td>Remoto</td>\n",
       "      <td>2020-01-03</td>\n",
       "      <td>NaN</td>\n",
       "      <td>NaN</td>\n",
       "      <td>UX Designer</td>\n",
       "      <td>23921</td>\n",
       "      <td>2024-04-05</td>\n",
       "      <td>2023-09-10</td>\n",
       "      <td>2022-02-11</td>\n",
       "      <td>8.4</td>\n",
       "      <td>True</td>\n",
       "      <td>8</td>\n",
       "      <td>4</td>\n",
       "      <td>9.1</td>\n",
       "      <td>0</td>\n",
       "    </tr>\n",
       "    <tr>\n",
       "      <th>2</th>\n",
       "      <td>EMP0494</td>\n",
       "      <td>54</td>\n",
       "      <td>M</td>\n",
       "      <td>Viúvo(a)</td>\n",
       "      <td>Technical Degree</td>\n",
       "      <td>Híbrido</td>\n",
       "      <td>2020-01-04</td>\n",
       "      <td>NaN</td>\n",
       "      <td>NaN</td>\n",
       "      <td>Tech Lead</td>\n",
       "      <td>15298</td>\n",
       "      <td>2023-06-16</td>\n",
       "      <td>2021-12-26</td>\n",
       "      <td>2021-05-10</td>\n",
       "      <td>8.5</td>\n",
       "      <td>False</td>\n",
       "      <td>9</td>\n",
       "      <td>7</td>\n",
       "      <td>1.3</td>\n",
       "      <td>0</td>\n",
       "    </tr>\n",
       "    <tr>\n",
       "      <th>3</th>\n",
       "      <td>EMP1231</td>\n",
       "      <td>44</td>\n",
       "      <td>M</td>\n",
       "      <td>Casado(a)</td>\n",
       "      <td>Bachelor</td>\n",
       "      <td>Remoto</td>\n",
       "      <td>2020-01-05</td>\n",
       "      <td>NaN</td>\n",
       "      <td>NaN</td>\n",
       "      <td>QA Engineer</td>\n",
       "      <td>15306</td>\n",
       "      <td>2021-12-04</td>\n",
       "      <td>2022-01-01</td>\n",
       "      <td>2024-08-30</td>\n",
       "      <td>7.9</td>\n",
       "      <td>False</td>\n",
       "      <td>8</td>\n",
       "      <td>4</td>\n",
       "      <td>8.4</td>\n",
       "      <td>0</td>\n",
       "    </tr>\n",
       "    <tr>\n",
       "      <th>4</th>\n",
       "      <td>EMP1912</td>\n",
       "      <td>53</td>\n",
       "      <td>Outro</td>\n",
       "      <td>Viúvo(a)</td>\n",
       "      <td>PhD</td>\n",
       "      <td>Presencial</td>\n",
       "      <td>2020-01-07</td>\n",
       "      <td>NaN</td>\n",
       "      <td>NaN</td>\n",
       "      <td>Senior Developer</td>\n",
       "      <td>17723</td>\n",
       "      <td>2022-03-04</td>\n",
       "      <td>2023-11-18</td>\n",
       "      <td>2024-08-08</td>\n",
       "      <td>7.5</td>\n",
       "      <td>True</td>\n",
       "      <td>5</td>\n",
       "      <td>2</td>\n",
       "      <td>8.2</td>\n",
       "      <td>0</td>\n",
       "    </tr>\n",
       "  </tbody>\n",
       "</table>\n",
       "</div>"
      ],
      "text/plain": [
       "        id  idade genero   estado_civil          educacao regime_trabalho  \\\n",
       "0  EMP1564     37      F  Divorciado(a)            Master          Remoto   \n",
       "1  EMP0959     45  Outro  Divorciado(a)            Master          Remoto   \n",
       "2  EMP0494     54      M       Viúvo(a)  Technical Degree         Híbrido   \n",
       "3  EMP1231     44      M      Casado(a)          Bachelor          Remoto   \n",
       "4  EMP1912     53  Outro       Viúvo(a)               PhD      Presencial   \n",
       "\n",
       "  data_contratacao data_demissao tipo_demissao             cargo  \\\n",
       "0       2020-01-02           NaN           NaN  Senior Developer   \n",
       "1       2020-01-03           NaN           NaN       UX Designer   \n",
       "2       2020-01-04           NaN           NaN         Tech Lead   \n",
       "3       2020-01-05           NaN           NaN       QA Engineer   \n",
       "4       2020-01-07           NaN           NaN  Senior Developer   \n",
       "\n",
       "   salario_atual data_ultimo_feedback data_ultimo_aumento  \\\n",
       "0          10207           2024-05-09          2023-07-31   \n",
       "1          23921           2024-04-05          2023-09-10   \n",
       "2          15298           2023-06-16          2021-12-26   \n",
       "3          15306           2021-12-04          2022-01-01   \n",
       "4          17723           2022-03-04          2023-11-18   \n",
       "\n",
       "  data_ultima_mudanca_cargo  nota_avaliacao  acompanhamento_psicologo  \\\n",
       "0                2022-11-03             9.6                      True   \n",
       "1                2022-02-11             8.4                      True   \n",
       "2                2021-05-10             8.5                     False   \n",
       "3                2024-08-30             7.9                     False   \n",
       "4                2024-08-08             7.5                      True   \n",
       "\n",
       "   qtde_projetos  qtde_clientes  nivel_satisfacao_gestor  churn  \n",
       "0              5              1                      7.0      0  \n",
       "1              8              4                      9.1      0  \n",
       "2              9              7                      1.3      0  \n",
       "3              8              4                      8.4      0  \n",
       "4              5              2                      8.2      0  "
      ]
     },
     "execution_count": 5,
     "metadata": {},
     "output_type": "execute_result"
    }
   ],
   "source": [
    "df.head()"
   ]
  },
  {
   "cell_type": "code",
   "execution_count": 6,
   "metadata": {},
   "outputs": [],
   "source": [
    "df['data_contratacao'] = pd.to_datetime(df['data_contratacao'], format=\"%Y-%m-%d\")\n",
    "df['data_demissao'] = pd.to_datetime(df['data_demissao'], format='%Y-%m-%d')\n",
    "df['data_ultimo_feedback'] = pd.to_datetime(df['data_ultimo_feedback'], format='%Y-%m-%d')\n",
    "df['data_ultimo_aumento'] = pd.to_datetime(df['data_ultimo_aumento'], format='%Y-%m-%d')\n",
    "df['data_ultima_mudanca_cargo'] = pd.to_datetime(df['data_ultima_mudanca_cargo'], format='%Y-%m-%d')"
   ]
  },
  {
   "cell_type": "code",
   "execution_count": 7,
   "metadata": {},
   "outputs": [
    {
     "name": "stdout",
     "output_type": "stream",
     "text": [
      "<class 'pandas.core.frame.DataFrame'>\n",
      "RangeIndex: 2000 entries, 0 to 1999\n",
      "Data columns (total 20 columns):\n",
      " #   Column                     Non-Null Count  Dtype         \n",
      "---  ------                     --------------  -----         \n",
      " 0   id                         2000 non-null   object        \n",
      " 1   idade                      2000 non-null   int64         \n",
      " 2   genero                     2000 non-null   object        \n",
      " 3   estado_civil               2000 non-null   object        \n",
      " 4   educacao                   2000 non-null   object        \n",
      " 5   regime_trabalho            2000 non-null   object        \n",
      " 6   data_contratacao           2000 non-null   datetime64[ns]\n",
      " 7   data_demissao              286 non-null    datetime64[ns]\n",
      " 8   tipo_demissao              286 non-null    object        \n",
      " 9   cargo                      2000 non-null   object        \n",
      " 10  salario_atual              2000 non-null   int64         \n",
      " 11  data_ultimo_feedback       2000 non-null   datetime64[ns]\n",
      " 12  data_ultimo_aumento        2000 non-null   datetime64[ns]\n",
      " 13  data_ultima_mudanca_cargo  2000 non-null   datetime64[ns]\n",
      " 14  nota_avaliacao             2000 non-null   float64       \n",
      " 15  acompanhamento_psicologo   2000 non-null   bool          \n",
      " 16  qtde_projetos              2000 non-null   int64         \n",
      " 17  qtde_clientes              2000 non-null   int64         \n",
      " 18  nivel_satisfacao_gestor    2000 non-null   float64       \n",
      " 19  churn                      2000 non-null   int64         \n",
      "dtypes: bool(1), datetime64[ns](5), float64(2), int64(5), object(7)\n",
      "memory usage: 299.0+ KB\n"
     ]
    }
   ],
   "source": [
    "df.info()"
   ]
  },
  {
   "cell_type": "code",
   "execution_count": 8,
   "metadata": {},
   "outputs": [
    {
     "data": {
      "application/vnd.microsoft.datawrangler.viewer.v0+json": {
       "columns": [
        {
         "name": "index",
         "rawType": "int64",
         "type": "integer"
        },
        {
         "name": "id",
         "rawType": "object",
         "type": "string"
        },
        {
         "name": "idade",
         "rawType": "int64",
         "type": "integer"
        },
        {
         "name": "genero",
         "rawType": "object",
         "type": "string"
        },
        {
         "name": "estado_civil",
         "rawType": "object",
         "type": "string"
        },
        {
         "name": "educacao",
         "rawType": "object",
         "type": "string"
        },
        {
         "name": "regime_trabalho",
         "rawType": "object",
         "type": "string"
        },
        {
         "name": "data_contratacao",
         "rawType": "datetime64[ns]",
         "type": "datetime"
        },
        {
         "name": "data_demissao",
         "rawType": "datetime64[ns]",
         "type": "datetime"
        },
        {
         "name": "tipo_demissao",
         "rawType": "object",
         "type": "unknown"
        },
        {
         "name": "cargo",
         "rawType": "object",
         "type": "string"
        },
        {
         "name": "salario_atual",
         "rawType": "int64",
         "type": "integer"
        },
        {
         "name": "data_ultimo_feedback",
         "rawType": "datetime64[ns]",
         "type": "datetime"
        },
        {
         "name": "data_ultimo_aumento",
         "rawType": "datetime64[ns]",
         "type": "datetime"
        },
        {
         "name": "data_ultima_mudanca_cargo",
         "rawType": "datetime64[ns]",
         "type": "datetime"
        },
        {
         "name": "nota_avaliacao",
         "rawType": "float64",
         "type": "float"
        },
        {
         "name": "acompanhamento_psicologo",
         "rawType": "bool",
         "type": "boolean"
        },
        {
         "name": "qtde_projetos",
         "rawType": "int64",
         "type": "integer"
        },
        {
         "name": "qtde_clientes",
         "rawType": "int64",
         "type": "integer"
        },
        {
         "name": "nivel_satisfacao_gestor",
         "rawType": "float64",
         "type": "float"
        },
        {
         "name": "churn",
         "rawType": "int64",
         "type": "integer"
        }
       ],
       "conversionMethod": "pd.DataFrame",
       "ref": "0a4600e6-0094-422a-b830-0a5b6acf5818",
       "rows": [
        [
         "0",
         "EMP1564",
         "37",
         "F",
         "Divorciado(a)",
         "Master",
         "Remoto",
         "2020-01-02 00:00:00",
         null,
         null,
         "Senior Developer",
         "10207",
         "2024-05-09 00:00:00",
         "2023-07-31 00:00:00",
         "2022-11-03 00:00:00",
         "9.6",
         "True",
         "5",
         "1",
         "7.0",
         "0"
        ],
        [
         "1",
         "EMP0959",
         "45",
         "Outro",
         "Divorciado(a)",
         "Master",
         "Remoto",
         "2020-01-03 00:00:00",
         null,
         null,
         "UX Designer",
         "23921",
         "2024-04-05 00:00:00",
         "2023-09-10 00:00:00",
         "2022-02-11 00:00:00",
         "8.4",
         "True",
         "8",
         "4",
         "9.1",
         "0"
        ],
        [
         "2",
         "EMP0494",
         "54",
         "M",
         "Viúvo(a)",
         "Technical Degree",
         "Híbrido",
         "2020-01-04 00:00:00",
         null,
         null,
         "Tech Lead",
         "15298",
         "2023-06-16 00:00:00",
         "2021-12-26 00:00:00",
         "2021-05-10 00:00:00",
         "8.5",
         "False",
         "9",
         "7",
         "1.3",
         "0"
        ],
        [
         "3",
         "EMP1231",
         "44",
         "M",
         "Casado(a)",
         "Bachelor",
         "Remoto",
         "2020-01-05 00:00:00",
         null,
         null,
         "QA Engineer",
         "15306",
         "2021-12-04 00:00:00",
         "2022-01-01 00:00:00",
         "2024-08-30 00:00:00",
         "7.9",
         "False",
         "8",
         "4",
         "8.4",
         "0"
        ],
        [
         "4",
         "EMP1912",
         "53",
         "Outro",
         "Viúvo(a)",
         "PhD",
         "Presencial",
         "2020-01-07 00:00:00",
         null,
         null,
         "Senior Developer",
         "17723",
         "2022-03-04 00:00:00",
         "2023-11-18 00:00:00",
         "2024-08-08 00:00:00",
         "7.5",
         "True",
         "5",
         "2",
         "8.2",
         "0"
        ]
       ],
       "shape": {
        "columns": 20,
        "rows": 5
       }
      },
      "text/html": [
       "<div>\n",
       "<style scoped>\n",
       "    .dataframe tbody tr th:only-of-type {\n",
       "        vertical-align: middle;\n",
       "    }\n",
       "\n",
       "    .dataframe tbody tr th {\n",
       "        vertical-align: top;\n",
       "    }\n",
       "\n",
       "    .dataframe thead th {\n",
       "        text-align: right;\n",
       "    }\n",
       "</style>\n",
       "<table border=\"1\" class=\"dataframe\">\n",
       "  <thead>\n",
       "    <tr style=\"text-align: right;\">\n",
       "      <th></th>\n",
       "      <th>id</th>\n",
       "      <th>idade</th>\n",
       "      <th>genero</th>\n",
       "      <th>estado_civil</th>\n",
       "      <th>educacao</th>\n",
       "      <th>regime_trabalho</th>\n",
       "      <th>data_contratacao</th>\n",
       "      <th>data_demissao</th>\n",
       "      <th>tipo_demissao</th>\n",
       "      <th>cargo</th>\n",
       "      <th>salario_atual</th>\n",
       "      <th>data_ultimo_feedback</th>\n",
       "      <th>data_ultimo_aumento</th>\n",
       "      <th>data_ultima_mudanca_cargo</th>\n",
       "      <th>nota_avaliacao</th>\n",
       "      <th>acompanhamento_psicologo</th>\n",
       "      <th>qtde_projetos</th>\n",
       "      <th>qtde_clientes</th>\n",
       "      <th>nivel_satisfacao_gestor</th>\n",
       "      <th>churn</th>\n",
       "    </tr>\n",
       "  </thead>\n",
       "  <tbody>\n",
       "    <tr>\n",
       "      <th>0</th>\n",
       "      <td>EMP1564</td>\n",
       "      <td>37</td>\n",
       "      <td>F</td>\n",
       "      <td>Divorciado(a)</td>\n",
       "      <td>Master</td>\n",
       "      <td>Remoto</td>\n",
       "      <td>2020-01-02</td>\n",
       "      <td>NaT</td>\n",
       "      <td>NaN</td>\n",
       "      <td>Senior Developer</td>\n",
       "      <td>10207</td>\n",
       "      <td>2024-05-09</td>\n",
       "      <td>2023-07-31</td>\n",
       "      <td>2022-11-03</td>\n",
       "      <td>9.6</td>\n",
       "      <td>True</td>\n",
       "      <td>5</td>\n",
       "      <td>1</td>\n",
       "      <td>7.0</td>\n",
       "      <td>0</td>\n",
       "    </tr>\n",
       "    <tr>\n",
       "      <th>1</th>\n",
       "      <td>EMP0959</td>\n",
       "      <td>45</td>\n",
       "      <td>Outro</td>\n",
       "      <td>Divorciado(a)</td>\n",
       "      <td>Master</td>\n",
       "      <td>Remoto</td>\n",
       "      <td>2020-01-03</td>\n",
       "      <td>NaT</td>\n",
       "      <td>NaN</td>\n",
       "      <td>UX Designer</td>\n",
       "      <td>23921</td>\n",
       "      <td>2024-04-05</td>\n",
       "      <td>2023-09-10</td>\n",
       "      <td>2022-02-11</td>\n",
       "      <td>8.4</td>\n",
       "      <td>True</td>\n",
       "      <td>8</td>\n",
       "      <td>4</td>\n",
       "      <td>9.1</td>\n",
       "      <td>0</td>\n",
       "    </tr>\n",
       "    <tr>\n",
       "      <th>2</th>\n",
       "      <td>EMP0494</td>\n",
       "      <td>54</td>\n",
       "      <td>M</td>\n",
       "      <td>Viúvo(a)</td>\n",
       "      <td>Technical Degree</td>\n",
       "      <td>Híbrido</td>\n",
       "      <td>2020-01-04</td>\n",
       "      <td>NaT</td>\n",
       "      <td>NaN</td>\n",
       "      <td>Tech Lead</td>\n",
       "      <td>15298</td>\n",
       "      <td>2023-06-16</td>\n",
       "      <td>2021-12-26</td>\n",
       "      <td>2021-05-10</td>\n",
       "      <td>8.5</td>\n",
       "      <td>False</td>\n",
       "      <td>9</td>\n",
       "      <td>7</td>\n",
       "      <td>1.3</td>\n",
       "      <td>0</td>\n",
       "    </tr>\n",
       "    <tr>\n",
       "      <th>3</th>\n",
       "      <td>EMP1231</td>\n",
       "      <td>44</td>\n",
       "      <td>M</td>\n",
       "      <td>Casado(a)</td>\n",
       "      <td>Bachelor</td>\n",
       "      <td>Remoto</td>\n",
       "      <td>2020-01-05</td>\n",
       "      <td>NaT</td>\n",
       "      <td>NaN</td>\n",
       "      <td>QA Engineer</td>\n",
       "      <td>15306</td>\n",
       "      <td>2021-12-04</td>\n",
       "      <td>2022-01-01</td>\n",
       "      <td>2024-08-30</td>\n",
       "      <td>7.9</td>\n",
       "      <td>False</td>\n",
       "      <td>8</td>\n",
       "      <td>4</td>\n",
       "      <td>8.4</td>\n",
       "      <td>0</td>\n",
       "    </tr>\n",
       "    <tr>\n",
       "      <th>4</th>\n",
       "      <td>EMP1912</td>\n",
       "      <td>53</td>\n",
       "      <td>Outro</td>\n",
       "      <td>Viúvo(a)</td>\n",
       "      <td>PhD</td>\n",
       "      <td>Presencial</td>\n",
       "      <td>2020-01-07</td>\n",
       "      <td>NaT</td>\n",
       "      <td>NaN</td>\n",
       "      <td>Senior Developer</td>\n",
       "      <td>17723</td>\n",
       "      <td>2022-03-04</td>\n",
       "      <td>2023-11-18</td>\n",
       "      <td>2024-08-08</td>\n",
       "      <td>7.5</td>\n",
       "      <td>True</td>\n",
       "      <td>5</td>\n",
       "      <td>2</td>\n",
       "      <td>8.2</td>\n",
       "      <td>0</td>\n",
       "    </tr>\n",
       "  </tbody>\n",
       "</table>\n",
       "</div>"
      ],
      "text/plain": [
       "        id  idade genero   estado_civil          educacao regime_trabalho  \\\n",
       "0  EMP1564     37      F  Divorciado(a)            Master          Remoto   \n",
       "1  EMP0959     45  Outro  Divorciado(a)            Master          Remoto   \n",
       "2  EMP0494     54      M       Viúvo(a)  Technical Degree         Híbrido   \n",
       "3  EMP1231     44      M      Casado(a)          Bachelor          Remoto   \n",
       "4  EMP1912     53  Outro       Viúvo(a)               PhD      Presencial   \n",
       "\n",
       "  data_contratacao data_demissao tipo_demissao             cargo  \\\n",
       "0       2020-01-02           NaT           NaN  Senior Developer   \n",
       "1       2020-01-03           NaT           NaN       UX Designer   \n",
       "2       2020-01-04           NaT           NaN         Tech Lead   \n",
       "3       2020-01-05           NaT           NaN       QA Engineer   \n",
       "4       2020-01-07           NaT           NaN  Senior Developer   \n",
       "\n",
       "   salario_atual data_ultimo_feedback data_ultimo_aumento  \\\n",
       "0          10207           2024-05-09          2023-07-31   \n",
       "1          23921           2024-04-05          2023-09-10   \n",
       "2          15298           2023-06-16          2021-12-26   \n",
       "3          15306           2021-12-04          2022-01-01   \n",
       "4          17723           2022-03-04          2023-11-18   \n",
       "\n",
       "  data_ultima_mudanca_cargo  nota_avaliacao  acompanhamento_psicologo  \\\n",
       "0                2022-11-03             9.6                      True   \n",
       "1                2022-02-11             8.4                      True   \n",
       "2                2021-05-10             8.5                     False   \n",
       "3                2024-08-30             7.9                     False   \n",
       "4                2024-08-08             7.5                      True   \n",
       "\n",
       "   qtde_projetos  qtde_clientes  nivel_satisfacao_gestor  churn  \n",
       "0              5              1                      7.0      0  \n",
       "1              8              4                      9.1      0  \n",
       "2              9              7                      1.3      0  \n",
       "3              8              4                      8.4      0  \n",
       "4              5              2                      8.2      0  "
      ]
     },
     "execution_count": 8,
     "metadata": {},
     "output_type": "execute_result"
    }
   ],
   "source": [
    "df.head()"
   ]
  },
  {
   "cell_type": "code",
   "execution_count": 10,
   "metadata": {},
   "outputs": [
    {
     "data": {
      "application/vnd.microsoft.datawrangler.viewer.v0+json": {
       "columns": [
        {
         "name": "index",
         "rawType": "int64",
         "type": "integer"
        },
        {
         "name": "id",
         "rawType": "object",
         "type": "string"
        },
        {
         "name": "idade",
         "rawType": "int64",
         "type": "integer"
        },
        {
         "name": "genero",
         "rawType": "object",
         "type": "string"
        },
        {
         "name": "estado_civil",
         "rawType": "object",
         "type": "string"
        },
        {
         "name": "educacao",
         "rawType": "object",
         "type": "string"
        },
        {
         "name": "regime_trabalho",
         "rawType": "object",
         "type": "string"
        },
        {
         "name": "data_contratacao",
         "rawType": "datetime64[ns]",
         "type": "datetime"
        },
        {
         "name": "data_demissao",
         "rawType": "datetime64[ns]",
         "type": "datetime"
        },
        {
         "name": "tipo_demissao",
         "rawType": "object",
         "type": "unknown"
        },
        {
         "name": "cargo",
         "rawType": "object",
         "type": "string"
        },
        {
         "name": "salario_atual",
         "rawType": "int64",
         "type": "integer"
        },
        {
         "name": "data_ultimo_feedback",
         "rawType": "datetime64[ns]",
         "type": "datetime"
        },
        {
         "name": "data_ultimo_aumento",
         "rawType": "datetime64[ns]",
         "type": "datetime"
        },
        {
         "name": "data_ultima_mudanca_cargo",
         "rawType": "datetime64[ns]",
         "type": "datetime"
        },
        {
         "name": "nota_avaliacao",
         "rawType": "float64",
         "type": "float"
        },
        {
         "name": "acompanhamento_psicologo",
         "rawType": "bool",
         "type": "boolean"
        },
        {
         "name": "qtde_projetos",
         "rawType": "int64",
         "type": "integer"
        },
        {
         "name": "qtde_clientes",
         "rawType": "int64",
         "type": "integer"
        },
        {
         "name": "nivel_satisfacao_gestor",
         "rawType": "float64",
         "type": "float"
        },
        {
         "name": "churn",
         "rawType": "int64",
         "type": "integer"
        }
       ],
       "conversionMethod": "pd.DataFrame",
       "ref": "931cfc5e-d0b2-440c-b95b-8e711300a119",
       "rows": [
        [
         "0",
         "EMP1564",
         "37",
         "F",
         "Divorciado(a)",
         "Master",
         "Remoto",
         "2020-01-02 00:00:00",
         null,
         null,
         "Senior Developer",
         "10207",
         "2024-05-09 00:00:00",
         "2023-07-31 00:00:00",
         "2022-11-03 00:00:00",
         "9.6",
         "True",
         "5",
         "1",
         "7.0",
         "0"
        ]
       ],
       "shape": {
        "columns": 20,
        "rows": 1
       }
      },
      "text/html": [
       "<div>\n",
       "<style scoped>\n",
       "    .dataframe tbody tr th:only-of-type {\n",
       "        vertical-align: middle;\n",
       "    }\n",
       "\n",
       "    .dataframe tbody tr th {\n",
       "        vertical-align: top;\n",
       "    }\n",
       "\n",
       "    .dataframe thead th {\n",
       "        text-align: right;\n",
       "    }\n",
       "</style>\n",
       "<table border=\"1\" class=\"dataframe\">\n",
       "  <thead>\n",
       "    <tr style=\"text-align: right;\">\n",
       "      <th></th>\n",
       "      <th>id</th>\n",
       "      <th>idade</th>\n",
       "      <th>genero</th>\n",
       "      <th>estado_civil</th>\n",
       "      <th>educacao</th>\n",
       "      <th>regime_trabalho</th>\n",
       "      <th>data_contratacao</th>\n",
       "      <th>data_demissao</th>\n",
       "      <th>tipo_demissao</th>\n",
       "      <th>cargo</th>\n",
       "      <th>salario_atual</th>\n",
       "      <th>data_ultimo_feedback</th>\n",
       "      <th>data_ultimo_aumento</th>\n",
       "      <th>data_ultima_mudanca_cargo</th>\n",
       "      <th>nota_avaliacao</th>\n",
       "      <th>acompanhamento_psicologo</th>\n",
       "      <th>qtde_projetos</th>\n",
       "      <th>qtde_clientes</th>\n",
       "      <th>nivel_satisfacao_gestor</th>\n",
       "      <th>churn</th>\n",
       "    </tr>\n",
       "  </thead>\n",
       "  <tbody>\n",
       "    <tr>\n",
       "      <th>0</th>\n",
       "      <td>EMP1564</td>\n",
       "      <td>37</td>\n",
       "      <td>F</td>\n",
       "      <td>Divorciado(a)</td>\n",
       "      <td>Master</td>\n",
       "      <td>Remoto</td>\n",
       "      <td>2020-01-02</td>\n",
       "      <td>NaT</td>\n",
       "      <td>NaN</td>\n",
       "      <td>Senior Developer</td>\n",
       "      <td>10207</td>\n",
       "      <td>2024-05-09</td>\n",
       "      <td>2023-07-31</td>\n",
       "      <td>2022-11-03</td>\n",
       "      <td>9.6</td>\n",
       "      <td>True</td>\n",
       "      <td>5</td>\n",
       "      <td>1</td>\n",
       "      <td>7.0</td>\n",
       "      <td>0</td>\n",
       "    </tr>\n",
       "  </tbody>\n",
       "</table>\n",
       "</div>"
      ],
      "text/plain": [
       "        id  idade genero   estado_civil educacao regime_trabalho  \\\n",
       "0  EMP1564     37      F  Divorciado(a)   Master          Remoto   \n",
       "\n",
       "  data_contratacao data_demissao tipo_demissao             cargo  \\\n",
       "0       2020-01-02           NaT           NaN  Senior Developer   \n",
       "\n",
       "   salario_atual data_ultimo_feedback data_ultimo_aumento  \\\n",
       "0          10207           2024-05-09          2023-07-31   \n",
       "\n",
       "  data_ultima_mudanca_cargo  nota_avaliacao  acompanhamento_psicologo  \\\n",
       "0                2022-11-03             9.6                      True   \n",
       "\n",
       "   qtde_projetos  qtde_clientes  nivel_satisfacao_gestor  churn  \n",
       "0              5              1                      7.0      0  "
      ]
     },
     "execution_count": 10,
     "metadata": {},
     "output_type": "execute_result"
    }
   ],
   "source": [
    "df[df['data_contratacao'] == '2020-01-02']"
   ]
  },
  {
   "cell_type": "code",
   "execution_count": 11,
   "metadata": {},
   "outputs": [
    {
     "data": {
      "application/vnd.microsoft.datawrangler.viewer.v0+json": {
       "columns": [
        {
         "name": "index",
         "rawType": "object",
         "type": "string"
        },
        {
         "name": "idade",
         "rawType": "float64",
         "type": "float"
        },
        {
         "name": "data_contratacao",
         "rawType": "object",
         "type": "unknown"
        },
        {
         "name": "data_demissao",
         "rawType": "object",
         "type": "unknown"
        },
        {
         "name": "salario_atual",
         "rawType": "float64",
         "type": "float"
        },
        {
         "name": "data_ultimo_feedback",
         "rawType": "object",
         "type": "unknown"
        },
        {
         "name": "data_ultimo_aumento",
         "rawType": "object",
         "type": "unknown"
        },
        {
         "name": "data_ultima_mudanca_cargo",
         "rawType": "object",
         "type": "unknown"
        },
        {
         "name": "nota_avaliacao",
         "rawType": "float64",
         "type": "float"
        },
        {
         "name": "qtde_projetos",
         "rawType": "float64",
         "type": "float"
        },
        {
         "name": "qtde_clientes",
         "rawType": "float64",
         "type": "float"
        },
        {
         "name": "nivel_satisfacao_gestor",
         "rawType": "float64",
         "type": "float"
        },
        {
         "name": "churn",
         "rawType": "float64",
         "type": "float"
        }
       ],
       "conversionMethod": "pd.DataFrame",
       "ref": "b774b4fd-5dca-4a88-9a8e-21f6c3868543",
       "rows": [
        [
         "count",
         "2000.0",
         "2000",
         "286",
         "2000.0",
         "2000",
         "2000",
         "2000",
         "2000.0",
         "2000.0",
         "2000.0",
         "2000.0",
         "2000.0"
        ],
        [
         "mean",
         "37.9385",
         "2022-04-13 08:03:07.200000",
         "2023-07-31 15:11:19.720279808",
         "14801.8345",
         "2023-06-24 02:25:26.400000",
         "2023-06-10 23:52:48.000000256",
         "2023-06-23 20:43:26.400000",
         "7.99755",
         "4.9845",
         "3.9985",
         "5.492450000000001",
         "0.143"
        ],
        [
         "min",
         "22.0",
         "2020-01-02 00:00:00",
         "2020-08-22 00:00:00",
         "5016.0",
         "2020-02-08 00:00:00",
         "2020-03-26 00:00:00",
         "2020-02-15 00:00:00",
         "6.0",
         "1.0",
         "1.0",
         "1.0",
         "0.0"
        ],
        [
         "25%",
         "30.0",
         "2021-02-12 00:00:00",
         "2022-11-03 12:00:00",
         "9844.25",
         "2022-10-27 18:00:00",
         "2022-09-24 18:00:00",
         "2022-11-03 00:00:00",
         "7.0",
         "3.0",
         "2.0",
         "3.3",
         "0.0"
        ],
        [
         "50%",
         "38.0",
         "2022-04-05 00:00:00",
         "2023-12-11 12:00:00",
         "14822.5",
         "2023-10-03 12:00:00",
         "2023-09-19 00:00:00",
         "2023-10-12 00:00:00",
         "8.0",
         "5.0",
         "4.0",
         "5.5",
         "0.0"
        ],
        [
         "75%",
         "46.0",
         "2023-06-14 06:00:00",
         "2024-06-10 18:00:00",
         "19702.5",
         "2024-05-19 06:00:00",
         "2024-05-13 06:00:00",
         "2024-05-15 06:00:00",
         "9.0",
         "7.0",
         "6.0",
         "7.7",
         "0.0"
        ],
        [
         "max",
         "54.0",
         "2024-07-25 00:00:00",
         "2024-10-21 00:00:00",
         "24988.0",
         "2024-10-23 00:00:00",
         "2024-10-22 00:00:00",
         "2024-10-23 00:00:00",
         "10.0",
         "9.0",
         "7.0",
         "10.0",
         "1.0"
        ],
        [
         "std",
         "9.456131712464762",
         null,
         null,
         "5763.45183571799",
         null,
         null,
         null,
         "1.1573239377323983",
         "2.593187625496951",
         "1.9870762406090505",
         "2.609816769293324",
         "0.3501604006067455"
        ]
       ],
       "shape": {
        "columns": 12,
        "rows": 8
       }
      },
      "text/html": [
       "<div>\n",
       "<style scoped>\n",
       "    .dataframe tbody tr th:only-of-type {\n",
       "        vertical-align: middle;\n",
       "    }\n",
       "\n",
       "    .dataframe tbody tr th {\n",
       "        vertical-align: top;\n",
       "    }\n",
       "\n",
       "    .dataframe thead th {\n",
       "        text-align: right;\n",
       "    }\n",
       "</style>\n",
       "<table border=\"1\" class=\"dataframe\">\n",
       "  <thead>\n",
       "    <tr style=\"text-align: right;\">\n",
       "      <th></th>\n",
       "      <th>idade</th>\n",
       "      <th>data_contratacao</th>\n",
       "      <th>data_demissao</th>\n",
       "      <th>salario_atual</th>\n",
       "      <th>data_ultimo_feedback</th>\n",
       "      <th>data_ultimo_aumento</th>\n",
       "      <th>data_ultima_mudanca_cargo</th>\n",
       "      <th>nota_avaliacao</th>\n",
       "      <th>qtde_projetos</th>\n",
       "      <th>qtde_clientes</th>\n",
       "      <th>nivel_satisfacao_gestor</th>\n",
       "      <th>churn</th>\n",
       "    </tr>\n",
       "  </thead>\n",
       "  <tbody>\n",
       "    <tr>\n",
       "      <th>count</th>\n",
       "      <td>2000.000000</td>\n",
       "      <td>2000</td>\n",
       "      <td>286</td>\n",
       "      <td>2000.000000</td>\n",
       "      <td>2000</td>\n",
       "      <td>2000</td>\n",
       "      <td>2000</td>\n",
       "      <td>2000.000000</td>\n",
       "      <td>2000.000000</td>\n",
       "      <td>2000.000000</td>\n",
       "      <td>2000.000000</td>\n",
       "      <td>2000.00000</td>\n",
       "    </tr>\n",
       "    <tr>\n",
       "      <th>mean</th>\n",
       "      <td>37.938500</td>\n",
       "      <td>2022-04-13 08:03:07.200000</td>\n",
       "      <td>2023-07-31 15:11:19.720279808</td>\n",
       "      <td>14801.834500</td>\n",
       "      <td>2023-06-24 02:25:26.400000</td>\n",
       "      <td>2023-06-10 23:52:48.000000256</td>\n",
       "      <td>2023-06-23 20:43:26.400000</td>\n",
       "      <td>7.997550</td>\n",
       "      <td>4.984500</td>\n",
       "      <td>3.998500</td>\n",
       "      <td>5.492450</td>\n",
       "      <td>0.14300</td>\n",
       "    </tr>\n",
       "    <tr>\n",
       "      <th>min</th>\n",
       "      <td>22.000000</td>\n",
       "      <td>2020-01-02 00:00:00</td>\n",
       "      <td>2020-08-22 00:00:00</td>\n",
       "      <td>5016.000000</td>\n",
       "      <td>2020-02-08 00:00:00</td>\n",
       "      <td>2020-03-26 00:00:00</td>\n",
       "      <td>2020-02-15 00:00:00</td>\n",
       "      <td>6.000000</td>\n",
       "      <td>1.000000</td>\n",
       "      <td>1.000000</td>\n",
       "      <td>1.000000</td>\n",
       "      <td>0.00000</td>\n",
       "    </tr>\n",
       "    <tr>\n",
       "      <th>25%</th>\n",
       "      <td>30.000000</td>\n",
       "      <td>2021-02-12 00:00:00</td>\n",
       "      <td>2022-11-03 12:00:00</td>\n",
       "      <td>9844.250000</td>\n",
       "      <td>2022-10-27 18:00:00</td>\n",
       "      <td>2022-09-24 18:00:00</td>\n",
       "      <td>2022-11-03 00:00:00</td>\n",
       "      <td>7.000000</td>\n",
       "      <td>3.000000</td>\n",
       "      <td>2.000000</td>\n",
       "      <td>3.300000</td>\n",
       "      <td>0.00000</td>\n",
       "    </tr>\n",
       "    <tr>\n",
       "      <th>50%</th>\n",
       "      <td>38.000000</td>\n",
       "      <td>2022-04-05 00:00:00</td>\n",
       "      <td>2023-12-11 12:00:00</td>\n",
       "      <td>14822.500000</td>\n",
       "      <td>2023-10-03 12:00:00</td>\n",
       "      <td>2023-09-19 00:00:00</td>\n",
       "      <td>2023-10-12 00:00:00</td>\n",
       "      <td>8.000000</td>\n",
       "      <td>5.000000</td>\n",
       "      <td>4.000000</td>\n",
       "      <td>5.500000</td>\n",
       "      <td>0.00000</td>\n",
       "    </tr>\n",
       "    <tr>\n",
       "      <th>75%</th>\n",
       "      <td>46.000000</td>\n",
       "      <td>2023-06-14 06:00:00</td>\n",
       "      <td>2024-06-10 18:00:00</td>\n",
       "      <td>19702.500000</td>\n",
       "      <td>2024-05-19 06:00:00</td>\n",
       "      <td>2024-05-13 06:00:00</td>\n",
       "      <td>2024-05-15 06:00:00</td>\n",
       "      <td>9.000000</td>\n",
       "      <td>7.000000</td>\n",
       "      <td>6.000000</td>\n",
       "      <td>7.700000</td>\n",
       "      <td>0.00000</td>\n",
       "    </tr>\n",
       "    <tr>\n",
       "      <th>max</th>\n",
       "      <td>54.000000</td>\n",
       "      <td>2024-07-25 00:00:00</td>\n",
       "      <td>2024-10-21 00:00:00</td>\n",
       "      <td>24988.000000</td>\n",
       "      <td>2024-10-23 00:00:00</td>\n",
       "      <td>2024-10-22 00:00:00</td>\n",
       "      <td>2024-10-23 00:00:00</td>\n",
       "      <td>10.000000</td>\n",
       "      <td>9.000000</td>\n",
       "      <td>7.000000</td>\n",
       "      <td>10.000000</td>\n",
       "      <td>1.00000</td>\n",
       "    </tr>\n",
       "    <tr>\n",
       "      <th>std</th>\n",
       "      <td>9.456132</td>\n",
       "      <td>NaN</td>\n",
       "      <td>NaN</td>\n",
       "      <td>5763.451836</td>\n",
       "      <td>NaN</td>\n",
       "      <td>NaN</td>\n",
       "      <td>NaN</td>\n",
       "      <td>1.157324</td>\n",
       "      <td>2.593188</td>\n",
       "      <td>1.987076</td>\n",
       "      <td>2.609817</td>\n",
       "      <td>0.35016</td>\n",
       "    </tr>\n",
       "  </tbody>\n",
       "</table>\n",
       "</div>"
      ],
      "text/plain": [
       "             idade            data_contratacao                  data_demissao  \\\n",
       "count  2000.000000                        2000                            286   \n",
       "mean     37.938500  2022-04-13 08:03:07.200000  2023-07-31 15:11:19.720279808   \n",
       "min      22.000000         2020-01-02 00:00:00            2020-08-22 00:00:00   \n",
       "25%      30.000000         2021-02-12 00:00:00            2022-11-03 12:00:00   \n",
       "50%      38.000000         2022-04-05 00:00:00            2023-12-11 12:00:00   \n",
       "75%      46.000000         2023-06-14 06:00:00            2024-06-10 18:00:00   \n",
       "max      54.000000         2024-07-25 00:00:00            2024-10-21 00:00:00   \n",
       "std       9.456132                         NaN                            NaN   \n",
       "\n",
       "       salario_atual        data_ultimo_feedback  \\\n",
       "count    2000.000000                        2000   \n",
       "mean    14801.834500  2023-06-24 02:25:26.400000   \n",
       "min      5016.000000         2020-02-08 00:00:00   \n",
       "25%      9844.250000         2022-10-27 18:00:00   \n",
       "50%     14822.500000         2023-10-03 12:00:00   \n",
       "75%     19702.500000         2024-05-19 06:00:00   \n",
       "max     24988.000000         2024-10-23 00:00:00   \n",
       "std      5763.451836                         NaN   \n",
       "\n",
       "                 data_ultimo_aumento   data_ultima_mudanca_cargo  \\\n",
       "count                           2000                        2000   \n",
       "mean   2023-06-10 23:52:48.000000256  2023-06-23 20:43:26.400000   \n",
       "min              2020-03-26 00:00:00         2020-02-15 00:00:00   \n",
       "25%              2022-09-24 18:00:00         2022-11-03 00:00:00   \n",
       "50%              2023-09-19 00:00:00         2023-10-12 00:00:00   \n",
       "75%              2024-05-13 06:00:00         2024-05-15 06:00:00   \n",
       "max              2024-10-22 00:00:00         2024-10-23 00:00:00   \n",
       "std                              NaN                         NaN   \n",
       "\n",
       "       nota_avaliacao  qtde_projetos  qtde_clientes  nivel_satisfacao_gestor  \\\n",
       "count     2000.000000    2000.000000    2000.000000              2000.000000   \n",
       "mean         7.997550       4.984500       3.998500                 5.492450   \n",
       "min          6.000000       1.000000       1.000000                 1.000000   \n",
       "25%          7.000000       3.000000       2.000000                 3.300000   \n",
       "50%          8.000000       5.000000       4.000000                 5.500000   \n",
       "75%          9.000000       7.000000       6.000000                 7.700000   \n",
       "max         10.000000       9.000000       7.000000                10.000000   \n",
       "std          1.157324       2.593188       1.987076                 2.609817   \n",
       "\n",
       "            churn  \n",
       "count  2000.00000  \n",
       "mean      0.14300  \n",
       "min       0.00000  \n",
       "25%       0.00000  \n",
       "50%       0.00000  \n",
       "75%       0.00000  \n",
       "max       1.00000  \n",
       "std       0.35016  "
      ]
     },
     "execution_count": 11,
     "metadata": {},
     "output_type": "execute_result"
    }
   ],
   "source": [
    "df.describe()"
   ]
  },
  {
   "cell_type": "code",
   "execution_count": 16,
   "metadata": {},
   "outputs": [],
   "source": [
    "df['tempo_empresa'] = df.apply(lambda x: (x['data_demissao'] - x['data_contratacao']).days if x['churn'] == 1 else (pd.Timestamp.now() - x['data_contratacao']).days, axis=1)"
   ]
  },
  {
   "cell_type": "code",
   "execution_count": 17,
   "metadata": {},
   "outputs": [
    {
     "data": {
      "application/vnd.microsoft.datawrangler.viewer.v0+json": {
       "columns": [
        {
         "name": "index",
         "rawType": "int64",
         "type": "integer"
        },
        {
         "name": "id",
         "rawType": "object",
         "type": "string"
        },
        {
         "name": "idade",
         "rawType": "int64",
         "type": "integer"
        },
        {
         "name": "genero",
         "rawType": "object",
         "type": "string"
        },
        {
         "name": "estado_civil",
         "rawType": "object",
         "type": "string"
        },
        {
         "name": "educacao",
         "rawType": "object",
         "type": "string"
        },
        {
         "name": "regime_trabalho",
         "rawType": "object",
         "type": "string"
        },
        {
         "name": "data_contratacao",
         "rawType": "datetime64[ns]",
         "type": "datetime"
        },
        {
         "name": "data_demissao",
         "rawType": "datetime64[ns]",
         "type": "datetime"
        },
        {
         "name": "tipo_demissao",
         "rawType": "object",
         "type": "unknown"
        },
        {
         "name": "cargo",
         "rawType": "object",
         "type": "string"
        },
        {
         "name": "salario_atual",
         "rawType": "int64",
         "type": "integer"
        },
        {
         "name": "data_ultimo_feedback",
         "rawType": "datetime64[ns]",
         "type": "datetime"
        },
        {
         "name": "data_ultimo_aumento",
         "rawType": "datetime64[ns]",
         "type": "datetime"
        },
        {
         "name": "data_ultima_mudanca_cargo",
         "rawType": "datetime64[ns]",
         "type": "datetime"
        },
        {
         "name": "nota_avaliacao",
         "rawType": "float64",
         "type": "float"
        },
        {
         "name": "acompanhamento_psicologo",
         "rawType": "bool",
         "type": "boolean"
        },
        {
         "name": "qtde_projetos",
         "rawType": "int64",
         "type": "integer"
        },
        {
         "name": "qtde_clientes",
         "rawType": "int64",
         "type": "integer"
        },
        {
         "name": "nivel_satisfacao_gestor",
         "rawType": "float64",
         "type": "float"
        },
        {
         "name": "churn",
         "rawType": "int64",
         "type": "integer"
        },
        {
         "name": "tempo_empresa",
         "rawType": "int64",
         "type": "integer"
        }
       ],
       "conversionMethod": "pd.DataFrame",
       "ref": "1bf95470-f21d-45a8-b2b3-84481d12c585",
       "rows": [
        [
         "0",
         "EMP1564",
         "37",
         "F",
         "Divorciado(a)",
         "Master",
         "Remoto",
         "2020-01-02 00:00:00",
         null,
         null,
         "Senior Developer",
         "10207",
         "2024-05-09 00:00:00",
         "2023-07-31 00:00:00",
         "2022-11-03 00:00:00",
         "9.6",
         "True",
         "5",
         "1",
         "7.0",
         "0",
         "1867"
        ],
        [
         "1",
         "EMP0959",
         "45",
         "Outro",
         "Divorciado(a)",
         "Master",
         "Remoto",
         "2020-01-03 00:00:00",
         null,
         null,
         "UX Designer",
         "23921",
         "2024-04-05 00:00:00",
         "2023-09-10 00:00:00",
         "2022-02-11 00:00:00",
         "8.4",
         "True",
         "8",
         "4",
         "9.1",
         "0",
         "1866"
        ],
        [
         "2",
         "EMP0494",
         "54",
         "M",
         "Viúvo(a)",
         "Technical Degree",
         "Híbrido",
         "2020-01-04 00:00:00",
         null,
         null,
         "Tech Lead",
         "15298",
         "2023-06-16 00:00:00",
         "2021-12-26 00:00:00",
         "2021-05-10 00:00:00",
         "8.5",
         "False",
         "9",
         "7",
         "1.3",
         "0",
         "1865"
        ],
        [
         "3",
         "EMP1231",
         "44",
         "M",
         "Casado(a)",
         "Bachelor",
         "Remoto",
         "2020-01-05 00:00:00",
         null,
         null,
         "QA Engineer",
         "15306",
         "2021-12-04 00:00:00",
         "2022-01-01 00:00:00",
         "2024-08-30 00:00:00",
         "7.9",
         "False",
         "8",
         "4",
         "8.4",
         "0",
         "1864"
        ],
        [
         "4",
         "EMP1912",
         "53",
         "Outro",
         "Viúvo(a)",
         "PhD",
         "Presencial",
         "2020-01-07 00:00:00",
         null,
         null,
         "Senior Developer",
         "17723",
         "2022-03-04 00:00:00",
         "2023-11-18 00:00:00",
         "2024-08-08 00:00:00",
         "7.5",
         "True",
         "5",
         "2",
         "8.2",
         "0",
         "1862"
        ]
       ],
       "shape": {
        "columns": 21,
        "rows": 5
       }
      },
      "text/html": [
       "<div>\n",
       "<style scoped>\n",
       "    .dataframe tbody tr th:only-of-type {\n",
       "        vertical-align: middle;\n",
       "    }\n",
       "\n",
       "    .dataframe tbody tr th {\n",
       "        vertical-align: top;\n",
       "    }\n",
       "\n",
       "    .dataframe thead th {\n",
       "        text-align: right;\n",
       "    }\n",
       "</style>\n",
       "<table border=\"1\" class=\"dataframe\">\n",
       "  <thead>\n",
       "    <tr style=\"text-align: right;\">\n",
       "      <th></th>\n",
       "      <th>id</th>\n",
       "      <th>idade</th>\n",
       "      <th>genero</th>\n",
       "      <th>estado_civil</th>\n",
       "      <th>educacao</th>\n",
       "      <th>regime_trabalho</th>\n",
       "      <th>data_contratacao</th>\n",
       "      <th>data_demissao</th>\n",
       "      <th>tipo_demissao</th>\n",
       "      <th>cargo</th>\n",
       "      <th>...</th>\n",
       "      <th>data_ultimo_feedback</th>\n",
       "      <th>data_ultimo_aumento</th>\n",
       "      <th>data_ultima_mudanca_cargo</th>\n",
       "      <th>nota_avaliacao</th>\n",
       "      <th>acompanhamento_psicologo</th>\n",
       "      <th>qtde_projetos</th>\n",
       "      <th>qtde_clientes</th>\n",
       "      <th>nivel_satisfacao_gestor</th>\n",
       "      <th>churn</th>\n",
       "      <th>tempo_empresa</th>\n",
       "    </tr>\n",
       "  </thead>\n",
       "  <tbody>\n",
       "    <tr>\n",
       "      <th>0</th>\n",
       "      <td>EMP1564</td>\n",
       "      <td>37</td>\n",
       "      <td>F</td>\n",
       "      <td>Divorciado(a)</td>\n",
       "      <td>Master</td>\n",
       "      <td>Remoto</td>\n",
       "      <td>2020-01-02</td>\n",
       "      <td>NaT</td>\n",
       "      <td>NaN</td>\n",
       "      <td>Senior Developer</td>\n",
       "      <td>...</td>\n",
       "      <td>2024-05-09</td>\n",
       "      <td>2023-07-31</td>\n",
       "      <td>2022-11-03</td>\n",
       "      <td>9.6</td>\n",
       "      <td>True</td>\n",
       "      <td>5</td>\n",
       "      <td>1</td>\n",
       "      <td>7.0</td>\n",
       "      <td>0</td>\n",
       "      <td>1867</td>\n",
       "    </tr>\n",
       "    <tr>\n",
       "      <th>1</th>\n",
       "      <td>EMP0959</td>\n",
       "      <td>45</td>\n",
       "      <td>Outro</td>\n",
       "      <td>Divorciado(a)</td>\n",
       "      <td>Master</td>\n",
       "      <td>Remoto</td>\n",
       "      <td>2020-01-03</td>\n",
       "      <td>NaT</td>\n",
       "      <td>NaN</td>\n",
       "      <td>UX Designer</td>\n",
       "      <td>...</td>\n",
       "      <td>2024-04-05</td>\n",
       "      <td>2023-09-10</td>\n",
       "      <td>2022-02-11</td>\n",
       "      <td>8.4</td>\n",
       "      <td>True</td>\n",
       "      <td>8</td>\n",
       "      <td>4</td>\n",
       "      <td>9.1</td>\n",
       "      <td>0</td>\n",
       "      <td>1866</td>\n",
       "    </tr>\n",
       "    <tr>\n",
       "      <th>2</th>\n",
       "      <td>EMP0494</td>\n",
       "      <td>54</td>\n",
       "      <td>M</td>\n",
       "      <td>Viúvo(a)</td>\n",
       "      <td>Technical Degree</td>\n",
       "      <td>Híbrido</td>\n",
       "      <td>2020-01-04</td>\n",
       "      <td>NaT</td>\n",
       "      <td>NaN</td>\n",
       "      <td>Tech Lead</td>\n",
       "      <td>...</td>\n",
       "      <td>2023-06-16</td>\n",
       "      <td>2021-12-26</td>\n",
       "      <td>2021-05-10</td>\n",
       "      <td>8.5</td>\n",
       "      <td>False</td>\n",
       "      <td>9</td>\n",
       "      <td>7</td>\n",
       "      <td>1.3</td>\n",
       "      <td>0</td>\n",
       "      <td>1865</td>\n",
       "    </tr>\n",
       "    <tr>\n",
       "      <th>3</th>\n",
       "      <td>EMP1231</td>\n",
       "      <td>44</td>\n",
       "      <td>M</td>\n",
       "      <td>Casado(a)</td>\n",
       "      <td>Bachelor</td>\n",
       "      <td>Remoto</td>\n",
       "      <td>2020-01-05</td>\n",
       "      <td>NaT</td>\n",
       "      <td>NaN</td>\n",
       "      <td>QA Engineer</td>\n",
       "      <td>...</td>\n",
       "      <td>2021-12-04</td>\n",
       "      <td>2022-01-01</td>\n",
       "      <td>2024-08-30</td>\n",
       "      <td>7.9</td>\n",
       "      <td>False</td>\n",
       "      <td>8</td>\n",
       "      <td>4</td>\n",
       "      <td>8.4</td>\n",
       "      <td>0</td>\n",
       "      <td>1864</td>\n",
       "    </tr>\n",
       "    <tr>\n",
       "      <th>4</th>\n",
       "      <td>EMP1912</td>\n",
       "      <td>53</td>\n",
       "      <td>Outro</td>\n",
       "      <td>Viúvo(a)</td>\n",
       "      <td>PhD</td>\n",
       "      <td>Presencial</td>\n",
       "      <td>2020-01-07</td>\n",
       "      <td>NaT</td>\n",
       "      <td>NaN</td>\n",
       "      <td>Senior Developer</td>\n",
       "      <td>...</td>\n",
       "      <td>2022-03-04</td>\n",
       "      <td>2023-11-18</td>\n",
       "      <td>2024-08-08</td>\n",
       "      <td>7.5</td>\n",
       "      <td>True</td>\n",
       "      <td>5</td>\n",
       "      <td>2</td>\n",
       "      <td>8.2</td>\n",
       "      <td>0</td>\n",
       "      <td>1862</td>\n",
       "    </tr>\n",
       "  </tbody>\n",
       "</table>\n",
       "<p>5 rows × 21 columns</p>\n",
       "</div>"
      ],
      "text/plain": [
       "        id  idade genero   estado_civil          educacao regime_trabalho  \\\n",
       "0  EMP1564     37      F  Divorciado(a)            Master          Remoto   \n",
       "1  EMP0959     45  Outro  Divorciado(a)            Master          Remoto   \n",
       "2  EMP0494     54      M       Viúvo(a)  Technical Degree         Híbrido   \n",
       "3  EMP1231     44      M      Casado(a)          Bachelor          Remoto   \n",
       "4  EMP1912     53  Outro       Viúvo(a)               PhD      Presencial   \n",
       "\n",
       "  data_contratacao data_demissao tipo_demissao             cargo  ...  \\\n",
       "0       2020-01-02           NaT           NaN  Senior Developer  ...   \n",
       "1       2020-01-03           NaT           NaN       UX Designer  ...   \n",
       "2       2020-01-04           NaT           NaN         Tech Lead  ...   \n",
       "3       2020-01-05           NaT           NaN       QA Engineer  ...   \n",
       "4       2020-01-07           NaT           NaN  Senior Developer  ...   \n",
       "\n",
       "   data_ultimo_feedback data_ultimo_aumento data_ultima_mudanca_cargo  \\\n",
       "0            2024-05-09          2023-07-31                2022-11-03   \n",
       "1            2024-04-05          2023-09-10                2022-02-11   \n",
       "2            2023-06-16          2021-12-26                2021-05-10   \n",
       "3            2021-12-04          2022-01-01                2024-08-30   \n",
       "4            2022-03-04          2023-11-18                2024-08-08   \n",
       "\n",
       "  nota_avaliacao  acompanhamento_psicologo  qtde_projetos  qtde_clientes  \\\n",
       "0            9.6                      True              5              1   \n",
       "1            8.4                      True              8              4   \n",
       "2            8.5                     False              9              7   \n",
       "3            7.9                     False              8              4   \n",
       "4            7.5                      True              5              2   \n",
       "\n",
       "   nivel_satisfacao_gestor  churn  tempo_empresa  \n",
       "0                      7.0      0           1867  \n",
       "1                      9.1      0           1866  \n",
       "2                      1.3      0           1865  \n",
       "3                      8.4      0           1864  \n",
       "4                      8.2      0           1862  \n",
       "\n",
       "[5 rows x 21 columns]"
      ]
     },
     "execution_count": 17,
     "metadata": {},
     "output_type": "execute_result"
    }
   ],
   "source": [
    "df.head()"
   ]
  },
  {
   "cell_type": "code",
   "execution_count": 18,
   "metadata": {},
   "outputs": [
    {
     "data": {
      "application/vnd.microsoft.datawrangler.viewer.v0+json": {
       "columns": [
        {
         "name": "index",
         "rawType": "int64",
         "type": "integer"
        },
        {
         "name": "id",
         "rawType": "object",
         "type": "string"
        },
        {
         "name": "idade",
         "rawType": "int64",
         "type": "integer"
        },
        {
         "name": "genero",
         "rawType": "object",
         "type": "string"
        },
        {
         "name": "estado_civil",
         "rawType": "object",
         "type": "string"
        },
        {
         "name": "educacao",
         "rawType": "object",
         "type": "string"
        },
        {
         "name": "regime_trabalho",
         "rawType": "object",
         "type": "string"
        },
        {
         "name": "data_contratacao",
         "rawType": "datetime64[ns]",
         "type": "datetime"
        },
        {
         "name": "data_demissao",
         "rawType": "datetime64[ns]",
         "type": "datetime"
        },
        {
         "name": "tipo_demissao",
         "rawType": "object",
         "type": "string"
        },
        {
         "name": "cargo",
         "rawType": "object",
         "type": "string"
        },
        {
         "name": "salario_atual",
         "rawType": "int64",
         "type": "integer"
        },
        {
         "name": "data_ultimo_feedback",
         "rawType": "datetime64[ns]",
         "type": "datetime"
        },
        {
         "name": "data_ultimo_aumento",
         "rawType": "datetime64[ns]",
         "type": "datetime"
        },
        {
         "name": "data_ultima_mudanca_cargo",
         "rawType": "datetime64[ns]",
         "type": "datetime"
        },
        {
         "name": "nota_avaliacao",
         "rawType": "float64",
         "type": "float"
        },
        {
         "name": "acompanhamento_psicologo",
         "rawType": "bool",
         "type": "boolean"
        },
        {
         "name": "qtde_projetos",
         "rawType": "int64",
         "type": "integer"
        },
        {
         "name": "qtde_clientes",
         "rawType": "int64",
         "type": "integer"
        },
        {
         "name": "nivel_satisfacao_gestor",
         "rawType": "float64",
         "type": "float"
        },
        {
         "name": "churn",
         "rawType": "int64",
         "type": "integer"
        },
        {
         "name": "tempo_empresa",
         "rawType": "int64",
         "type": "integer"
        }
       ],
       "conversionMethod": "pd.DataFrame",
       "ref": "8cc10a32-4e7c-48c3-b087-dadc63e0d194",
       "rows": [
        [
         "6",
         "EMP1152",
         "29",
         "M",
         "Casado(a)",
         "PhD",
         "Presencial",
         "2020-01-10 00:00:00",
         "2022-08-22 00:00:00",
         "Involuntária",
         "Product Manager",
         "12575",
         "2020-10-16 00:00:00",
         "2020-08-11 00:00:00",
         "2022-02-27 00:00:00",
         "9.1",
         "True",
         "6",
         "3",
         "1.9",
         "1",
         "955"
        ],
        [
         "12",
         "EMP0734",
         "46",
         "Outro",
         "Viúvo(a)",
         "Bachelor",
         "Remoto",
         "2020-01-14 00:00:00",
         "2022-06-06 00:00:00",
         "Voluntária",
         "Junior Developer",
         "12522",
         "2020-06-02 00:00:00",
         "2022-05-25 00:00:00",
         "2021-10-20 00:00:00",
         "8.9",
         "True",
         "1",
         "1",
         "5.4",
         "1",
         "874"
        ],
        [
         "19",
         "EMP1885",
         "25",
         "Outro",
         "Viúvo(a)",
         "Technical Degree",
         "Híbrido",
         "2020-01-22 00:00:00",
         "2023-11-29 00:00:00",
         "Involuntária",
         "UX Designer",
         "15487",
         "2020-02-08 00:00:00",
         "2020-06-09 00:00:00",
         "2020-02-15 00:00:00",
         "8.3",
         "False",
         "6",
         "2",
         "3.5",
         "1",
         "1407"
        ],
        [
         "20",
         "EMP1852",
         "46",
         "F",
         "Casado(a)",
         "Technical Degree",
         "Remoto",
         "2020-01-23 00:00:00",
         "2022-10-09 00:00:00",
         "Involuntária",
         "Senior Developer",
         "22882",
         "2021-05-01 00:00:00",
         "2021-06-30 00:00:00",
         "2022-08-07 00:00:00",
         "6.6",
         "True",
         "3",
         "4",
         "9.0",
         "1",
         "990"
        ],
        [
         "25",
         "EMP1079",
         "36",
         "Outro",
         "Viúvo(a)",
         "Master",
         "Híbrido",
         "2020-01-26 00:00:00",
         "2024-07-23 00:00:00",
         "Involuntária",
         "Product Manager",
         "13159",
         "2023-12-30 00:00:00",
         "2023-07-25 00:00:00",
         "2023-05-13 00:00:00",
         "7.0",
         "True",
         "9",
         "5",
         "6.8",
         "1",
         "1640"
        ]
       ],
       "shape": {
        "columns": 21,
        "rows": 5
       }
      },
      "text/html": [
       "<div>\n",
       "<style scoped>\n",
       "    .dataframe tbody tr th:only-of-type {\n",
       "        vertical-align: middle;\n",
       "    }\n",
       "\n",
       "    .dataframe tbody tr th {\n",
       "        vertical-align: top;\n",
       "    }\n",
       "\n",
       "    .dataframe thead th {\n",
       "        text-align: right;\n",
       "    }\n",
       "</style>\n",
       "<table border=\"1\" class=\"dataframe\">\n",
       "  <thead>\n",
       "    <tr style=\"text-align: right;\">\n",
       "      <th></th>\n",
       "      <th>id</th>\n",
       "      <th>idade</th>\n",
       "      <th>genero</th>\n",
       "      <th>estado_civil</th>\n",
       "      <th>educacao</th>\n",
       "      <th>regime_trabalho</th>\n",
       "      <th>data_contratacao</th>\n",
       "      <th>data_demissao</th>\n",
       "      <th>tipo_demissao</th>\n",
       "      <th>cargo</th>\n",
       "      <th>...</th>\n",
       "      <th>data_ultimo_feedback</th>\n",
       "      <th>data_ultimo_aumento</th>\n",
       "      <th>data_ultima_mudanca_cargo</th>\n",
       "      <th>nota_avaliacao</th>\n",
       "      <th>acompanhamento_psicologo</th>\n",
       "      <th>qtde_projetos</th>\n",
       "      <th>qtde_clientes</th>\n",
       "      <th>nivel_satisfacao_gestor</th>\n",
       "      <th>churn</th>\n",
       "      <th>tempo_empresa</th>\n",
       "    </tr>\n",
       "  </thead>\n",
       "  <tbody>\n",
       "    <tr>\n",
       "      <th>6</th>\n",
       "      <td>EMP1152</td>\n",
       "      <td>29</td>\n",
       "      <td>M</td>\n",
       "      <td>Casado(a)</td>\n",
       "      <td>PhD</td>\n",
       "      <td>Presencial</td>\n",
       "      <td>2020-01-10</td>\n",
       "      <td>2022-08-22</td>\n",
       "      <td>Involuntária</td>\n",
       "      <td>Product Manager</td>\n",
       "      <td>...</td>\n",
       "      <td>2020-10-16</td>\n",
       "      <td>2020-08-11</td>\n",
       "      <td>2022-02-27</td>\n",
       "      <td>9.1</td>\n",
       "      <td>True</td>\n",
       "      <td>6</td>\n",
       "      <td>3</td>\n",
       "      <td>1.9</td>\n",
       "      <td>1</td>\n",
       "      <td>955</td>\n",
       "    </tr>\n",
       "    <tr>\n",
       "      <th>12</th>\n",
       "      <td>EMP0734</td>\n",
       "      <td>46</td>\n",
       "      <td>Outro</td>\n",
       "      <td>Viúvo(a)</td>\n",
       "      <td>Bachelor</td>\n",
       "      <td>Remoto</td>\n",
       "      <td>2020-01-14</td>\n",
       "      <td>2022-06-06</td>\n",
       "      <td>Voluntária</td>\n",
       "      <td>Junior Developer</td>\n",
       "      <td>...</td>\n",
       "      <td>2020-06-02</td>\n",
       "      <td>2022-05-25</td>\n",
       "      <td>2021-10-20</td>\n",
       "      <td>8.9</td>\n",
       "      <td>True</td>\n",
       "      <td>1</td>\n",
       "      <td>1</td>\n",
       "      <td>5.4</td>\n",
       "      <td>1</td>\n",
       "      <td>874</td>\n",
       "    </tr>\n",
       "    <tr>\n",
       "      <th>19</th>\n",
       "      <td>EMP1885</td>\n",
       "      <td>25</td>\n",
       "      <td>Outro</td>\n",
       "      <td>Viúvo(a)</td>\n",
       "      <td>Technical Degree</td>\n",
       "      <td>Híbrido</td>\n",
       "      <td>2020-01-22</td>\n",
       "      <td>2023-11-29</td>\n",
       "      <td>Involuntária</td>\n",
       "      <td>UX Designer</td>\n",
       "      <td>...</td>\n",
       "      <td>2020-02-08</td>\n",
       "      <td>2020-06-09</td>\n",
       "      <td>2020-02-15</td>\n",
       "      <td>8.3</td>\n",
       "      <td>False</td>\n",
       "      <td>6</td>\n",
       "      <td>2</td>\n",
       "      <td>3.5</td>\n",
       "      <td>1</td>\n",
       "      <td>1407</td>\n",
       "    </tr>\n",
       "    <tr>\n",
       "      <th>20</th>\n",
       "      <td>EMP1852</td>\n",
       "      <td>46</td>\n",
       "      <td>F</td>\n",
       "      <td>Casado(a)</td>\n",
       "      <td>Technical Degree</td>\n",
       "      <td>Remoto</td>\n",
       "      <td>2020-01-23</td>\n",
       "      <td>2022-10-09</td>\n",
       "      <td>Involuntária</td>\n",
       "      <td>Senior Developer</td>\n",
       "      <td>...</td>\n",
       "      <td>2021-05-01</td>\n",
       "      <td>2021-06-30</td>\n",
       "      <td>2022-08-07</td>\n",
       "      <td>6.6</td>\n",
       "      <td>True</td>\n",
       "      <td>3</td>\n",
       "      <td>4</td>\n",
       "      <td>9.0</td>\n",
       "      <td>1</td>\n",
       "      <td>990</td>\n",
       "    </tr>\n",
       "    <tr>\n",
       "      <th>25</th>\n",
       "      <td>EMP1079</td>\n",
       "      <td>36</td>\n",
       "      <td>Outro</td>\n",
       "      <td>Viúvo(a)</td>\n",
       "      <td>Master</td>\n",
       "      <td>Híbrido</td>\n",
       "      <td>2020-01-26</td>\n",
       "      <td>2024-07-23</td>\n",
       "      <td>Involuntária</td>\n",
       "      <td>Product Manager</td>\n",
       "      <td>...</td>\n",
       "      <td>2023-12-30</td>\n",
       "      <td>2023-07-25</td>\n",
       "      <td>2023-05-13</td>\n",
       "      <td>7.0</td>\n",
       "      <td>True</td>\n",
       "      <td>9</td>\n",
       "      <td>5</td>\n",
       "      <td>6.8</td>\n",
       "      <td>1</td>\n",
       "      <td>1640</td>\n",
       "    </tr>\n",
       "  </tbody>\n",
       "</table>\n",
       "<p>5 rows × 21 columns</p>\n",
       "</div>"
      ],
      "text/plain": [
       "         id  idade genero estado_civil          educacao regime_trabalho  \\\n",
       "6   EMP1152     29      M    Casado(a)               PhD      Presencial   \n",
       "12  EMP0734     46  Outro     Viúvo(a)          Bachelor          Remoto   \n",
       "19  EMP1885     25  Outro     Viúvo(a)  Technical Degree         Híbrido   \n",
       "20  EMP1852     46      F    Casado(a)  Technical Degree          Remoto   \n",
       "25  EMP1079     36  Outro     Viúvo(a)            Master         Híbrido   \n",
       "\n",
       "   data_contratacao data_demissao tipo_demissao             cargo  ...  \\\n",
       "6        2020-01-10    2022-08-22  Involuntária   Product Manager  ...   \n",
       "12       2020-01-14    2022-06-06    Voluntária  Junior Developer  ...   \n",
       "19       2020-01-22    2023-11-29  Involuntária       UX Designer  ...   \n",
       "20       2020-01-23    2022-10-09  Involuntária  Senior Developer  ...   \n",
       "25       2020-01-26    2024-07-23  Involuntária   Product Manager  ...   \n",
       "\n",
       "    data_ultimo_feedback data_ultimo_aumento data_ultima_mudanca_cargo  \\\n",
       "6             2020-10-16          2020-08-11                2022-02-27   \n",
       "12            2020-06-02          2022-05-25                2021-10-20   \n",
       "19            2020-02-08          2020-06-09                2020-02-15   \n",
       "20            2021-05-01          2021-06-30                2022-08-07   \n",
       "25            2023-12-30          2023-07-25                2023-05-13   \n",
       "\n",
       "   nota_avaliacao  acompanhamento_psicologo  qtde_projetos  qtde_clientes  \\\n",
       "6             9.1                      True              6              3   \n",
       "12            8.9                      True              1              1   \n",
       "19            8.3                     False              6              2   \n",
       "20            6.6                      True              3              4   \n",
       "25            7.0                      True              9              5   \n",
       "\n",
       "    nivel_satisfacao_gestor  churn  tempo_empresa  \n",
       "6                       1.9      1            955  \n",
       "12                      5.4      1            874  \n",
       "19                      3.5      1           1407  \n",
       "20                      9.0      1            990  \n",
       "25                      6.8      1           1640  \n",
       "\n",
       "[5 rows x 21 columns]"
      ]
     },
     "execution_count": 18,
     "metadata": {},
     "output_type": "execute_result"
    }
   ],
   "source": [
    "df[df['churn'] == 1].head()"
   ]
  },
  {
   "cell_type": "code",
   "execution_count": 19,
   "metadata": {},
   "outputs": [],
   "source": [
    "df['tempo_desde_ultimo_feedback'] = df.apply(lambda x: (pd.Timestamp.now() - x['data_ultimo_feedback']).days, axis=1)"
   ]
  },
  {
   "cell_type": "code",
   "execution_count": 20,
   "metadata": {},
   "outputs": [
    {
     "data": {
      "application/vnd.microsoft.datawrangler.viewer.v0+json": {
       "columns": [
        {
         "name": "index",
         "rawType": "int64",
         "type": "integer"
        },
        {
         "name": "id",
         "rawType": "object",
         "type": "string"
        },
        {
         "name": "idade",
         "rawType": "int64",
         "type": "integer"
        },
        {
         "name": "genero",
         "rawType": "object",
         "type": "string"
        },
        {
         "name": "estado_civil",
         "rawType": "object",
         "type": "string"
        },
        {
         "name": "educacao",
         "rawType": "object",
         "type": "string"
        },
        {
         "name": "regime_trabalho",
         "rawType": "object",
         "type": "string"
        },
        {
         "name": "data_contratacao",
         "rawType": "datetime64[ns]",
         "type": "datetime"
        },
        {
         "name": "data_demissao",
         "rawType": "datetime64[ns]",
         "type": "datetime"
        },
        {
         "name": "tipo_demissao",
         "rawType": "object",
         "type": "unknown"
        },
        {
         "name": "cargo",
         "rawType": "object",
         "type": "string"
        },
        {
         "name": "salario_atual",
         "rawType": "int64",
         "type": "integer"
        },
        {
         "name": "data_ultimo_feedback",
         "rawType": "datetime64[ns]",
         "type": "datetime"
        },
        {
         "name": "data_ultimo_aumento",
         "rawType": "datetime64[ns]",
         "type": "datetime"
        },
        {
         "name": "data_ultima_mudanca_cargo",
         "rawType": "datetime64[ns]",
         "type": "datetime"
        },
        {
         "name": "nota_avaliacao",
         "rawType": "float64",
         "type": "float"
        },
        {
         "name": "acompanhamento_psicologo",
         "rawType": "bool",
         "type": "boolean"
        },
        {
         "name": "qtde_projetos",
         "rawType": "int64",
         "type": "integer"
        },
        {
         "name": "qtde_clientes",
         "rawType": "int64",
         "type": "integer"
        },
        {
         "name": "nivel_satisfacao_gestor",
         "rawType": "float64",
         "type": "float"
        },
        {
         "name": "churn",
         "rawType": "int64",
         "type": "integer"
        },
        {
         "name": "tempo_empresa",
         "rawType": "int64",
         "type": "integer"
        },
        {
         "name": "tempo_desde_ultimo_feedback",
         "rawType": "int64",
         "type": "integer"
        }
       ],
       "conversionMethod": "pd.DataFrame",
       "ref": "dd8d9a8e-87de-4520-b140-887735360da7",
       "rows": [
        [
         "0",
         "EMP1564",
         "37",
         "F",
         "Divorciado(a)",
         "Master",
         "Remoto",
         "2020-01-02 00:00:00",
         null,
         null,
         "Senior Developer",
         "10207",
         "2024-05-09 00:00:00",
         "2023-07-31 00:00:00",
         "2022-11-03 00:00:00",
         "9.6",
         "True",
         "5",
         "1",
         "7.0",
         "0",
         "1867",
         "278"
        ],
        [
         "1",
         "EMP0959",
         "45",
         "Outro",
         "Divorciado(a)",
         "Master",
         "Remoto",
         "2020-01-03 00:00:00",
         null,
         null,
         "UX Designer",
         "23921",
         "2024-04-05 00:00:00",
         "2023-09-10 00:00:00",
         "2022-02-11 00:00:00",
         "8.4",
         "True",
         "8",
         "4",
         "9.1",
         "0",
         "1866",
         "312"
        ],
        [
         "2",
         "EMP0494",
         "54",
         "M",
         "Viúvo(a)",
         "Technical Degree",
         "Híbrido",
         "2020-01-04 00:00:00",
         null,
         null,
         "Tech Lead",
         "15298",
         "2023-06-16 00:00:00",
         "2021-12-26 00:00:00",
         "2021-05-10 00:00:00",
         "8.5",
         "False",
         "9",
         "7",
         "1.3",
         "0",
         "1865",
         "606"
        ],
        [
         "3",
         "EMP1231",
         "44",
         "M",
         "Casado(a)",
         "Bachelor",
         "Remoto",
         "2020-01-05 00:00:00",
         null,
         null,
         "QA Engineer",
         "15306",
         "2021-12-04 00:00:00",
         "2022-01-01 00:00:00",
         "2024-08-30 00:00:00",
         "7.9",
         "False",
         "8",
         "4",
         "8.4",
         "0",
         "1864",
         "1165"
        ],
        [
         "4",
         "EMP1912",
         "53",
         "Outro",
         "Viúvo(a)",
         "PhD",
         "Presencial",
         "2020-01-07 00:00:00",
         null,
         null,
         "Senior Developer",
         "17723",
         "2022-03-04 00:00:00",
         "2023-11-18 00:00:00",
         "2024-08-08 00:00:00",
         "7.5",
         "True",
         "5",
         "2",
         "8.2",
         "0",
         "1862",
         "1075"
        ]
       ],
       "shape": {
        "columns": 22,
        "rows": 5
       }
      },
      "text/html": [
       "<div>\n",
       "<style scoped>\n",
       "    .dataframe tbody tr th:only-of-type {\n",
       "        vertical-align: middle;\n",
       "    }\n",
       "\n",
       "    .dataframe tbody tr th {\n",
       "        vertical-align: top;\n",
       "    }\n",
       "\n",
       "    .dataframe thead th {\n",
       "        text-align: right;\n",
       "    }\n",
       "</style>\n",
       "<table border=\"1\" class=\"dataframe\">\n",
       "  <thead>\n",
       "    <tr style=\"text-align: right;\">\n",
       "      <th></th>\n",
       "      <th>id</th>\n",
       "      <th>idade</th>\n",
       "      <th>genero</th>\n",
       "      <th>estado_civil</th>\n",
       "      <th>educacao</th>\n",
       "      <th>regime_trabalho</th>\n",
       "      <th>data_contratacao</th>\n",
       "      <th>data_demissao</th>\n",
       "      <th>tipo_demissao</th>\n",
       "      <th>cargo</th>\n",
       "      <th>...</th>\n",
       "      <th>data_ultimo_aumento</th>\n",
       "      <th>data_ultima_mudanca_cargo</th>\n",
       "      <th>nota_avaliacao</th>\n",
       "      <th>acompanhamento_psicologo</th>\n",
       "      <th>qtde_projetos</th>\n",
       "      <th>qtde_clientes</th>\n",
       "      <th>nivel_satisfacao_gestor</th>\n",
       "      <th>churn</th>\n",
       "      <th>tempo_empresa</th>\n",
       "      <th>tempo_desde_ultimo_feedback</th>\n",
       "    </tr>\n",
       "  </thead>\n",
       "  <tbody>\n",
       "    <tr>\n",
       "      <th>0</th>\n",
       "      <td>EMP1564</td>\n",
       "      <td>37</td>\n",
       "      <td>F</td>\n",
       "      <td>Divorciado(a)</td>\n",
       "      <td>Master</td>\n",
       "      <td>Remoto</td>\n",
       "      <td>2020-01-02</td>\n",
       "      <td>NaT</td>\n",
       "      <td>NaN</td>\n",
       "      <td>Senior Developer</td>\n",
       "      <td>...</td>\n",
       "      <td>2023-07-31</td>\n",
       "      <td>2022-11-03</td>\n",
       "      <td>9.6</td>\n",
       "      <td>True</td>\n",
       "      <td>5</td>\n",
       "      <td>1</td>\n",
       "      <td>7.0</td>\n",
       "      <td>0</td>\n",
       "      <td>1867</td>\n",
       "      <td>278</td>\n",
       "    </tr>\n",
       "    <tr>\n",
       "      <th>1</th>\n",
       "      <td>EMP0959</td>\n",
       "      <td>45</td>\n",
       "      <td>Outro</td>\n",
       "      <td>Divorciado(a)</td>\n",
       "      <td>Master</td>\n",
       "      <td>Remoto</td>\n",
       "      <td>2020-01-03</td>\n",
       "      <td>NaT</td>\n",
       "      <td>NaN</td>\n",
       "      <td>UX Designer</td>\n",
       "      <td>...</td>\n",
       "      <td>2023-09-10</td>\n",
       "      <td>2022-02-11</td>\n",
       "      <td>8.4</td>\n",
       "      <td>True</td>\n",
       "      <td>8</td>\n",
       "      <td>4</td>\n",
       "      <td>9.1</td>\n",
       "      <td>0</td>\n",
       "      <td>1866</td>\n",
       "      <td>312</td>\n",
       "    </tr>\n",
       "    <tr>\n",
       "      <th>2</th>\n",
       "      <td>EMP0494</td>\n",
       "      <td>54</td>\n",
       "      <td>M</td>\n",
       "      <td>Viúvo(a)</td>\n",
       "      <td>Technical Degree</td>\n",
       "      <td>Híbrido</td>\n",
       "      <td>2020-01-04</td>\n",
       "      <td>NaT</td>\n",
       "      <td>NaN</td>\n",
       "      <td>Tech Lead</td>\n",
       "      <td>...</td>\n",
       "      <td>2021-12-26</td>\n",
       "      <td>2021-05-10</td>\n",
       "      <td>8.5</td>\n",
       "      <td>False</td>\n",
       "      <td>9</td>\n",
       "      <td>7</td>\n",
       "      <td>1.3</td>\n",
       "      <td>0</td>\n",
       "      <td>1865</td>\n",
       "      <td>606</td>\n",
       "    </tr>\n",
       "    <tr>\n",
       "      <th>3</th>\n",
       "      <td>EMP1231</td>\n",
       "      <td>44</td>\n",
       "      <td>M</td>\n",
       "      <td>Casado(a)</td>\n",
       "      <td>Bachelor</td>\n",
       "      <td>Remoto</td>\n",
       "      <td>2020-01-05</td>\n",
       "      <td>NaT</td>\n",
       "      <td>NaN</td>\n",
       "      <td>QA Engineer</td>\n",
       "      <td>...</td>\n",
       "      <td>2022-01-01</td>\n",
       "      <td>2024-08-30</td>\n",
       "      <td>7.9</td>\n",
       "      <td>False</td>\n",
       "      <td>8</td>\n",
       "      <td>4</td>\n",
       "      <td>8.4</td>\n",
       "      <td>0</td>\n",
       "      <td>1864</td>\n",
       "      <td>1165</td>\n",
       "    </tr>\n",
       "    <tr>\n",
       "      <th>4</th>\n",
       "      <td>EMP1912</td>\n",
       "      <td>53</td>\n",
       "      <td>Outro</td>\n",
       "      <td>Viúvo(a)</td>\n",
       "      <td>PhD</td>\n",
       "      <td>Presencial</td>\n",
       "      <td>2020-01-07</td>\n",
       "      <td>NaT</td>\n",
       "      <td>NaN</td>\n",
       "      <td>Senior Developer</td>\n",
       "      <td>...</td>\n",
       "      <td>2023-11-18</td>\n",
       "      <td>2024-08-08</td>\n",
       "      <td>7.5</td>\n",
       "      <td>True</td>\n",
       "      <td>5</td>\n",
       "      <td>2</td>\n",
       "      <td>8.2</td>\n",
       "      <td>0</td>\n",
       "      <td>1862</td>\n",
       "      <td>1075</td>\n",
       "    </tr>\n",
       "  </tbody>\n",
       "</table>\n",
       "<p>5 rows × 22 columns</p>\n",
       "</div>"
      ],
      "text/plain": [
       "        id  idade genero   estado_civil          educacao regime_trabalho  \\\n",
       "0  EMP1564     37      F  Divorciado(a)            Master          Remoto   \n",
       "1  EMP0959     45  Outro  Divorciado(a)            Master          Remoto   \n",
       "2  EMP0494     54      M       Viúvo(a)  Technical Degree         Híbrido   \n",
       "3  EMP1231     44      M      Casado(a)          Bachelor          Remoto   \n",
       "4  EMP1912     53  Outro       Viúvo(a)               PhD      Presencial   \n",
       "\n",
       "  data_contratacao data_demissao tipo_demissao             cargo  ...  \\\n",
       "0       2020-01-02           NaT           NaN  Senior Developer  ...   \n",
       "1       2020-01-03           NaT           NaN       UX Designer  ...   \n",
       "2       2020-01-04           NaT           NaN         Tech Lead  ...   \n",
       "3       2020-01-05           NaT           NaN       QA Engineer  ...   \n",
       "4       2020-01-07           NaT           NaN  Senior Developer  ...   \n",
       "\n",
       "   data_ultimo_aumento data_ultima_mudanca_cargo nota_avaliacao  \\\n",
       "0           2023-07-31                2022-11-03            9.6   \n",
       "1           2023-09-10                2022-02-11            8.4   \n",
       "2           2021-12-26                2021-05-10            8.5   \n",
       "3           2022-01-01                2024-08-30            7.9   \n",
       "4           2023-11-18                2024-08-08            7.5   \n",
       "\n",
       "  acompanhamento_psicologo  qtde_projetos  qtde_clientes  \\\n",
       "0                     True              5              1   \n",
       "1                     True              8              4   \n",
       "2                    False              9              7   \n",
       "3                    False              8              4   \n",
       "4                     True              5              2   \n",
       "\n",
       "   nivel_satisfacao_gestor  churn  tempo_empresa  tempo_desde_ultimo_feedback  \n",
       "0                      7.0      0           1867                          278  \n",
       "1                      9.1      0           1866                          312  \n",
       "2                      1.3      0           1865                          606  \n",
       "3                      8.4      0           1864                         1165  \n",
       "4                      8.2      0           1862                         1075  \n",
       "\n",
       "[5 rows x 22 columns]"
      ]
     },
     "execution_count": 20,
     "metadata": {},
     "output_type": "execute_result"
    }
   ],
   "source": [
    "df.head()"
   ]
  },
  {
   "cell_type": "code",
   "execution_count": 21,
   "metadata": {},
   "outputs": [
    {
     "data": {
      "application/vnd.microsoft.datawrangler.viewer.v0+json": {
       "columns": [
        {
         "name": "index",
         "rawType": "int64",
         "type": "integer"
        },
        {
         "name": "id",
         "rawType": "object",
         "type": "string"
        },
        {
         "name": "idade",
         "rawType": "int64",
         "type": "integer"
        },
        {
         "name": "genero",
         "rawType": "object",
         "type": "string"
        },
        {
         "name": "estado_civil",
         "rawType": "object",
         "type": "string"
        },
        {
         "name": "educacao",
         "rawType": "object",
         "type": "string"
        },
        {
         "name": "regime_trabalho",
         "rawType": "object",
         "type": "string"
        },
        {
         "name": "data_contratacao",
         "rawType": "datetime64[ns]",
         "type": "datetime"
        },
        {
         "name": "data_demissao",
         "rawType": "datetime64[ns]",
         "type": "datetime"
        },
        {
         "name": "tipo_demissao",
         "rawType": "object",
         "type": "unknown"
        },
        {
         "name": "cargo",
         "rawType": "object",
         "type": "string"
        },
        {
         "name": "salario_atual",
         "rawType": "int64",
         "type": "integer"
        },
        {
         "name": "data_ultimo_feedback",
         "rawType": "datetime64[ns]",
         "type": "datetime"
        },
        {
         "name": "data_ultimo_aumento",
         "rawType": "datetime64[ns]",
         "type": "datetime"
        },
        {
         "name": "data_ultima_mudanca_cargo",
         "rawType": "datetime64[ns]",
         "type": "datetime"
        },
        {
         "name": "nota_avaliacao",
         "rawType": "float64",
         "type": "float"
        },
        {
         "name": "acompanhamento_psicologo",
         "rawType": "bool",
         "type": "boolean"
        },
        {
         "name": "qtde_projetos",
         "rawType": "int64",
         "type": "integer"
        },
        {
         "name": "qtde_clientes",
         "rawType": "int64",
         "type": "integer"
        },
        {
         "name": "nivel_satisfacao_gestor",
         "rawType": "float64",
         "type": "float"
        },
        {
         "name": "churn",
         "rawType": "int64",
         "type": "integer"
        },
        {
         "name": "tempo_empresa",
         "rawType": "int64",
         "type": "integer"
        },
        {
         "name": "tempo_desde_ultimo_feedback",
         "rawType": "int64",
         "type": "integer"
        }
       ],
       "conversionMethod": "pd.DataFrame",
       "ref": "57d2018e-8fec-4339-a139-eec7aea0b1a1",
       "rows": [
        [
         "1995",
         "EMP0353",
         "50",
         "Outro",
         "Viúvo(a)",
         "Bachelor",
         "Remoto",
         "2024-07-23 00:00:00",
         null,
         null,
         "QA Engineer",
         "7378",
         "2024-08-21 00:00:00",
         "2024-09-03 00:00:00",
         "2024-08-10 00:00:00",
         "9.3",
         "True",
         "6",
         "3",
         "10.0",
         "0",
         "203",
         "174"
        ],
        [
         "1996",
         "EMP1808",
         "26",
         "F",
         "Divorciado(a)",
         "PhD",
         "Presencial",
         "2024-07-24 00:00:00",
         "2024-10-06 00:00:00",
         "Voluntária",
         "Senior Developer",
         "8501",
         "2024-09-17 00:00:00",
         "2024-09-17 00:00:00",
         "2024-10-04 00:00:00",
         "9.9",
         "False",
         "4",
         "6",
         "4.7",
         "1",
         "74",
         "147"
        ],
        [
         "1997",
         "EMP0503",
         "35",
         "F",
         "Viúvo(a)",
         "PhD",
         "Presencial",
         "2024-07-24 00:00:00",
         null,
         null,
         "Senior Developer",
         "22488",
         "2024-10-14 00:00:00",
         "2024-08-15 00:00:00",
         "2024-10-19 00:00:00",
         "8.0",
         "False",
         "6",
         "1",
         "6.8",
         "0",
         "202",
         "120"
        ],
        [
         "1998",
         "EMP1266",
         "33",
         "F",
         "Viúvo(a)",
         "Technical Degree",
         "Híbrido",
         "2024-07-25 00:00:00",
         null,
         null,
         "QA Engineer",
         "13748",
         "2024-09-20 00:00:00",
         "2024-08-07 00:00:00",
         "2024-10-11 00:00:00",
         "8.7",
         "False",
         "8",
         "1",
         "2.6",
         "0",
         "201",
         "144"
        ],
        [
         "1999",
         "EMP1815",
         "53",
         "F",
         "Solteiro(a)",
         "PhD",
         "Presencial",
         "2024-07-25 00:00:00",
         null,
         null,
         "QA Engineer",
         "16819",
         "2024-10-09 00:00:00",
         "2024-09-11 00:00:00",
         "2024-09-04 00:00:00",
         "7.9",
         "False",
         "9",
         "2",
         "2.3",
         "0",
         "201",
         "125"
        ]
       ],
       "shape": {
        "columns": 22,
        "rows": 5
       }
      },
      "text/html": [
       "<div>\n",
       "<style scoped>\n",
       "    .dataframe tbody tr th:only-of-type {\n",
       "        vertical-align: middle;\n",
       "    }\n",
       "\n",
       "    .dataframe tbody tr th {\n",
       "        vertical-align: top;\n",
       "    }\n",
       "\n",
       "    .dataframe thead th {\n",
       "        text-align: right;\n",
       "    }\n",
       "</style>\n",
       "<table border=\"1\" class=\"dataframe\">\n",
       "  <thead>\n",
       "    <tr style=\"text-align: right;\">\n",
       "      <th></th>\n",
       "      <th>id</th>\n",
       "      <th>idade</th>\n",
       "      <th>genero</th>\n",
       "      <th>estado_civil</th>\n",
       "      <th>educacao</th>\n",
       "      <th>regime_trabalho</th>\n",
       "      <th>data_contratacao</th>\n",
       "      <th>data_demissao</th>\n",
       "      <th>tipo_demissao</th>\n",
       "      <th>cargo</th>\n",
       "      <th>...</th>\n",
       "      <th>data_ultimo_aumento</th>\n",
       "      <th>data_ultima_mudanca_cargo</th>\n",
       "      <th>nota_avaliacao</th>\n",
       "      <th>acompanhamento_psicologo</th>\n",
       "      <th>qtde_projetos</th>\n",
       "      <th>qtde_clientes</th>\n",
       "      <th>nivel_satisfacao_gestor</th>\n",
       "      <th>churn</th>\n",
       "      <th>tempo_empresa</th>\n",
       "      <th>tempo_desde_ultimo_feedback</th>\n",
       "    </tr>\n",
       "  </thead>\n",
       "  <tbody>\n",
       "    <tr>\n",
       "      <th>1995</th>\n",
       "      <td>EMP0353</td>\n",
       "      <td>50</td>\n",
       "      <td>Outro</td>\n",
       "      <td>Viúvo(a)</td>\n",
       "      <td>Bachelor</td>\n",
       "      <td>Remoto</td>\n",
       "      <td>2024-07-23</td>\n",
       "      <td>NaT</td>\n",
       "      <td>NaN</td>\n",
       "      <td>QA Engineer</td>\n",
       "      <td>...</td>\n",
       "      <td>2024-09-03</td>\n",
       "      <td>2024-08-10</td>\n",
       "      <td>9.3</td>\n",
       "      <td>True</td>\n",
       "      <td>6</td>\n",
       "      <td>3</td>\n",
       "      <td>10.0</td>\n",
       "      <td>0</td>\n",
       "      <td>203</td>\n",
       "      <td>174</td>\n",
       "    </tr>\n",
       "    <tr>\n",
       "      <th>1996</th>\n",
       "      <td>EMP1808</td>\n",
       "      <td>26</td>\n",
       "      <td>F</td>\n",
       "      <td>Divorciado(a)</td>\n",
       "      <td>PhD</td>\n",
       "      <td>Presencial</td>\n",
       "      <td>2024-07-24</td>\n",
       "      <td>2024-10-06</td>\n",
       "      <td>Voluntária</td>\n",
       "      <td>Senior Developer</td>\n",
       "      <td>...</td>\n",
       "      <td>2024-09-17</td>\n",
       "      <td>2024-10-04</td>\n",
       "      <td>9.9</td>\n",
       "      <td>False</td>\n",
       "      <td>4</td>\n",
       "      <td>6</td>\n",
       "      <td>4.7</td>\n",
       "      <td>1</td>\n",
       "      <td>74</td>\n",
       "      <td>147</td>\n",
       "    </tr>\n",
       "    <tr>\n",
       "      <th>1997</th>\n",
       "      <td>EMP0503</td>\n",
       "      <td>35</td>\n",
       "      <td>F</td>\n",
       "      <td>Viúvo(a)</td>\n",
       "      <td>PhD</td>\n",
       "      <td>Presencial</td>\n",
       "      <td>2024-07-24</td>\n",
       "      <td>NaT</td>\n",
       "      <td>NaN</td>\n",
       "      <td>Senior Developer</td>\n",
       "      <td>...</td>\n",
       "      <td>2024-08-15</td>\n",
       "      <td>2024-10-19</td>\n",
       "      <td>8.0</td>\n",
       "      <td>False</td>\n",
       "      <td>6</td>\n",
       "      <td>1</td>\n",
       "      <td>6.8</td>\n",
       "      <td>0</td>\n",
       "      <td>202</td>\n",
       "      <td>120</td>\n",
       "    </tr>\n",
       "    <tr>\n",
       "      <th>1998</th>\n",
       "      <td>EMP1266</td>\n",
       "      <td>33</td>\n",
       "      <td>F</td>\n",
       "      <td>Viúvo(a)</td>\n",
       "      <td>Technical Degree</td>\n",
       "      <td>Híbrido</td>\n",
       "      <td>2024-07-25</td>\n",
       "      <td>NaT</td>\n",
       "      <td>NaN</td>\n",
       "      <td>QA Engineer</td>\n",
       "      <td>...</td>\n",
       "      <td>2024-08-07</td>\n",
       "      <td>2024-10-11</td>\n",
       "      <td>8.7</td>\n",
       "      <td>False</td>\n",
       "      <td>8</td>\n",
       "      <td>1</td>\n",
       "      <td>2.6</td>\n",
       "      <td>0</td>\n",
       "      <td>201</td>\n",
       "      <td>144</td>\n",
       "    </tr>\n",
       "    <tr>\n",
       "      <th>1999</th>\n",
       "      <td>EMP1815</td>\n",
       "      <td>53</td>\n",
       "      <td>F</td>\n",
       "      <td>Solteiro(a)</td>\n",
       "      <td>PhD</td>\n",
       "      <td>Presencial</td>\n",
       "      <td>2024-07-25</td>\n",
       "      <td>NaT</td>\n",
       "      <td>NaN</td>\n",
       "      <td>QA Engineer</td>\n",
       "      <td>...</td>\n",
       "      <td>2024-09-11</td>\n",
       "      <td>2024-09-04</td>\n",
       "      <td>7.9</td>\n",
       "      <td>False</td>\n",
       "      <td>9</td>\n",
       "      <td>2</td>\n",
       "      <td>2.3</td>\n",
       "      <td>0</td>\n",
       "      <td>201</td>\n",
       "      <td>125</td>\n",
       "    </tr>\n",
       "  </tbody>\n",
       "</table>\n",
       "<p>5 rows × 22 columns</p>\n",
       "</div>"
      ],
      "text/plain": [
       "           id  idade genero   estado_civil          educacao regime_trabalho  \\\n",
       "1995  EMP0353     50  Outro       Viúvo(a)          Bachelor          Remoto   \n",
       "1996  EMP1808     26      F  Divorciado(a)               PhD      Presencial   \n",
       "1997  EMP0503     35      F       Viúvo(a)               PhD      Presencial   \n",
       "1998  EMP1266     33      F       Viúvo(a)  Technical Degree         Híbrido   \n",
       "1999  EMP1815     53      F    Solteiro(a)               PhD      Presencial   \n",
       "\n",
       "     data_contratacao data_demissao tipo_demissao             cargo  ...  \\\n",
       "1995       2024-07-23           NaT           NaN       QA Engineer  ...   \n",
       "1996       2024-07-24    2024-10-06    Voluntária  Senior Developer  ...   \n",
       "1997       2024-07-24           NaT           NaN  Senior Developer  ...   \n",
       "1998       2024-07-25           NaT           NaN       QA Engineer  ...   \n",
       "1999       2024-07-25           NaT           NaN       QA Engineer  ...   \n",
       "\n",
       "      data_ultimo_aumento data_ultima_mudanca_cargo nota_avaliacao  \\\n",
       "1995           2024-09-03                2024-08-10            9.3   \n",
       "1996           2024-09-17                2024-10-04            9.9   \n",
       "1997           2024-08-15                2024-10-19            8.0   \n",
       "1998           2024-08-07                2024-10-11            8.7   \n",
       "1999           2024-09-11                2024-09-04            7.9   \n",
       "\n",
       "     acompanhamento_psicologo  qtde_projetos  qtde_clientes  \\\n",
       "1995                     True              6              3   \n",
       "1996                    False              4              6   \n",
       "1997                    False              6              1   \n",
       "1998                    False              8              1   \n",
       "1999                    False              9              2   \n",
       "\n",
       "      nivel_satisfacao_gestor  churn  tempo_empresa  \\\n",
       "1995                     10.0      0            203   \n",
       "1996                      4.7      1             74   \n",
       "1997                      6.8      0            202   \n",
       "1998                      2.6      0            201   \n",
       "1999                      2.3      0            201   \n",
       "\n",
       "      tempo_desde_ultimo_feedback  \n",
       "1995                          174  \n",
       "1996                          147  \n",
       "1997                          120  \n",
       "1998                          144  \n",
       "1999                          125  \n",
       "\n",
       "[5 rows x 22 columns]"
      ]
     },
     "execution_count": 21,
     "metadata": {},
     "output_type": "execute_result"
    }
   ],
   "source": [
    "df.tail()"
   ]
  },
  {
   "cell_type": "code",
   "execution_count": 22,
   "metadata": {},
   "outputs": [],
   "source": [
    "df['dias_desde_ultimo_aumento'] = df.apply(lambda x: (pd.Timestamp.now() - x['data_ultimo_aumento']).days, axis=1)"
   ]
  },
  {
   "cell_type": "code",
   "execution_count": 23,
   "metadata": {},
   "outputs": [],
   "source": [
    "df['dias_desde_ultima_mudanca_cargo'] = df.apply(lambda x: (pd.Timestamp.now() - x['data_ultima_mudanca_cargo']).days, axis=1)"
   ]
  },
  {
   "cell_type": "code",
   "execution_count": 24,
   "metadata": {},
   "outputs": [
    {
     "data": {
      "application/vnd.microsoft.datawrangler.viewer.v0+json": {
       "columns": [
        {
         "name": "index",
         "rawType": "int64",
         "type": "integer"
        },
        {
         "name": "id",
         "rawType": "object",
         "type": "string"
        },
        {
         "name": "idade",
         "rawType": "int64",
         "type": "integer"
        },
        {
         "name": "genero",
         "rawType": "object",
         "type": "string"
        },
        {
         "name": "estado_civil",
         "rawType": "object",
         "type": "string"
        },
        {
         "name": "educacao",
         "rawType": "object",
         "type": "string"
        },
        {
         "name": "regime_trabalho",
         "rawType": "object",
         "type": "string"
        },
        {
         "name": "data_contratacao",
         "rawType": "datetime64[ns]",
         "type": "datetime"
        },
        {
         "name": "data_demissao",
         "rawType": "datetime64[ns]",
         "type": "datetime"
        },
        {
         "name": "tipo_demissao",
         "rawType": "object",
         "type": "unknown"
        },
        {
         "name": "cargo",
         "rawType": "object",
         "type": "string"
        },
        {
         "name": "salario_atual",
         "rawType": "int64",
         "type": "integer"
        },
        {
         "name": "data_ultimo_feedback",
         "rawType": "datetime64[ns]",
         "type": "datetime"
        },
        {
         "name": "data_ultimo_aumento",
         "rawType": "datetime64[ns]",
         "type": "datetime"
        },
        {
         "name": "data_ultima_mudanca_cargo",
         "rawType": "datetime64[ns]",
         "type": "datetime"
        },
        {
         "name": "nota_avaliacao",
         "rawType": "float64",
         "type": "float"
        },
        {
         "name": "acompanhamento_psicologo",
         "rawType": "bool",
         "type": "boolean"
        },
        {
         "name": "qtde_projetos",
         "rawType": "int64",
         "type": "integer"
        },
        {
         "name": "qtde_clientes",
         "rawType": "int64",
         "type": "integer"
        },
        {
         "name": "nivel_satisfacao_gestor",
         "rawType": "float64",
         "type": "float"
        },
        {
         "name": "churn",
         "rawType": "int64",
         "type": "integer"
        },
        {
         "name": "tempo_empresa",
         "rawType": "int64",
         "type": "integer"
        },
        {
         "name": "tempo_desde_ultimo_feedback",
         "rawType": "int64",
         "type": "integer"
        },
        {
         "name": "dias_desde_ultimo_aumento",
         "rawType": "int64",
         "type": "integer"
        },
        {
         "name": "dias_desde_ultima_mudanca_cargo",
         "rawType": "int64",
         "type": "integer"
        }
       ],
       "conversionMethod": "pd.DataFrame",
       "ref": "677ced94-4ed4-4d5a-b6a1-3c74d0a2d275",
       "rows": [
        [
         "1995",
         "EMP0353",
         "50",
         "Outro",
         "Viúvo(a)",
         "Bachelor",
         "Remoto",
         "2024-07-23 00:00:00",
         null,
         null,
         "QA Engineer",
         "7378",
         "2024-08-21 00:00:00",
         "2024-09-03 00:00:00",
         "2024-08-10 00:00:00",
         "9.3",
         "True",
         "6",
         "3",
         "10.0",
         "0",
         "203",
         "174",
         "161",
         "185"
        ],
        [
         "1996",
         "EMP1808",
         "26",
         "F",
         "Divorciado(a)",
         "PhD",
         "Presencial",
         "2024-07-24 00:00:00",
         "2024-10-06 00:00:00",
         "Voluntária",
         "Senior Developer",
         "8501",
         "2024-09-17 00:00:00",
         "2024-09-17 00:00:00",
         "2024-10-04 00:00:00",
         "9.9",
         "False",
         "4",
         "6",
         "4.7",
         "1",
         "74",
         "147",
         "147",
         "130"
        ],
        [
         "1997",
         "EMP0503",
         "35",
         "F",
         "Viúvo(a)",
         "PhD",
         "Presencial",
         "2024-07-24 00:00:00",
         null,
         null,
         "Senior Developer",
         "22488",
         "2024-10-14 00:00:00",
         "2024-08-15 00:00:00",
         "2024-10-19 00:00:00",
         "8.0",
         "False",
         "6",
         "1",
         "6.8",
         "0",
         "202",
         "120",
         "180",
         "115"
        ],
        [
         "1998",
         "EMP1266",
         "33",
         "F",
         "Viúvo(a)",
         "Technical Degree",
         "Híbrido",
         "2024-07-25 00:00:00",
         null,
         null,
         "QA Engineer",
         "13748",
         "2024-09-20 00:00:00",
         "2024-08-07 00:00:00",
         "2024-10-11 00:00:00",
         "8.7",
         "False",
         "8",
         "1",
         "2.6",
         "0",
         "201",
         "144",
         "188",
         "123"
        ],
        [
         "1999",
         "EMP1815",
         "53",
         "F",
         "Solteiro(a)",
         "PhD",
         "Presencial",
         "2024-07-25 00:00:00",
         null,
         null,
         "QA Engineer",
         "16819",
         "2024-10-09 00:00:00",
         "2024-09-11 00:00:00",
         "2024-09-04 00:00:00",
         "7.9",
         "False",
         "9",
         "2",
         "2.3",
         "0",
         "201",
         "125",
         "153",
         "160"
        ]
       ],
       "shape": {
        "columns": 24,
        "rows": 5
       }
      },
      "text/html": [
       "<div>\n",
       "<style scoped>\n",
       "    .dataframe tbody tr th:only-of-type {\n",
       "        vertical-align: middle;\n",
       "    }\n",
       "\n",
       "    .dataframe tbody tr th {\n",
       "        vertical-align: top;\n",
       "    }\n",
       "\n",
       "    .dataframe thead th {\n",
       "        text-align: right;\n",
       "    }\n",
       "</style>\n",
       "<table border=\"1\" class=\"dataframe\">\n",
       "  <thead>\n",
       "    <tr style=\"text-align: right;\">\n",
       "      <th></th>\n",
       "      <th>id</th>\n",
       "      <th>idade</th>\n",
       "      <th>genero</th>\n",
       "      <th>estado_civil</th>\n",
       "      <th>educacao</th>\n",
       "      <th>regime_trabalho</th>\n",
       "      <th>data_contratacao</th>\n",
       "      <th>data_demissao</th>\n",
       "      <th>tipo_demissao</th>\n",
       "      <th>cargo</th>\n",
       "      <th>...</th>\n",
       "      <th>nota_avaliacao</th>\n",
       "      <th>acompanhamento_psicologo</th>\n",
       "      <th>qtde_projetos</th>\n",
       "      <th>qtde_clientes</th>\n",
       "      <th>nivel_satisfacao_gestor</th>\n",
       "      <th>churn</th>\n",
       "      <th>tempo_empresa</th>\n",
       "      <th>tempo_desde_ultimo_feedback</th>\n",
       "      <th>dias_desde_ultimo_aumento</th>\n",
       "      <th>dias_desde_ultima_mudanca_cargo</th>\n",
       "    </tr>\n",
       "  </thead>\n",
       "  <tbody>\n",
       "    <tr>\n",
       "      <th>1995</th>\n",
       "      <td>EMP0353</td>\n",
       "      <td>50</td>\n",
       "      <td>Outro</td>\n",
       "      <td>Viúvo(a)</td>\n",
       "      <td>Bachelor</td>\n",
       "      <td>Remoto</td>\n",
       "      <td>2024-07-23</td>\n",
       "      <td>NaT</td>\n",
       "      <td>NaN</td>\n",
       "      <td>QA Engineer</td>\n",
       "      <td>...</td>\n",
       "      <td>9.3</td>\n",
       "      <td>True</td>\n",
       "      <td>6</td>\n",
       "      <td>3</td>\n",
       "      <td>10.0</td>\n",
       "      <td>0</td>\n",
       "      <td>203</td>\n",
       "      <td>174</td>\n",
       "      <td>161</td>\n",
       "      <td>185</td>\n",
       "    </tr>\n",
       "    <tr>\n",
       "      <th>1996</th>\n",
       "      <td>EMP1808</td>\n",
       "      <td>26</td>\n",
       "      <td>F</td>\n",
       "      <td>Divorciado(a)</td>\n",
       "      <td>PhD</td>\n",
       "      <td>Presencial</td>\n",
       "      <td>2024-07-24</td>\n",
       "      <td>2024-10-06</td>\n",
       "      <td>Voluntária</td>\n",
       "      <td>Senior Developer</td>\n",
       "      <td>...</td>\n",
       "      <td>9.9</td>\n",
       "      <td>False</td>\n",
       "      <td>4</td>\n",
       "      <td>6</td>\n",
       "      <td>4.7</td>\n",
       "      <td>1</td>\n",
       "      <td>74</td>\n",
       "      <td>147</td>\n",
       "      <td>147</td>\n",
       "      <td>130</td>\n",
       "    </tr>\n",
       "    <tr>\n",
       "      <th>1997</th>\n",
       "      <td>EMP0503</td>\n",
       "      <td>35</td>\n",
       "      <td>F</td>\n",
       "      <td>Viúvo(a)</td>\n",
       "      <td>PhD</td>\n",
       "      <td>Presencial</td>\n",
       "      <td>2024-07-24</td>\n",
       "      <td>NaT</td>\n",
       "      <td>NaN</td>\n",
       "      <td>Senior Developer</td>\n",
       "      <td>...</td>\n",
       "      <td>8.0</td>\n",
       "      <td>False</td>\n",
       "      <td>6</td>\n",
       "      <td>1</td>\n",
       "      <td>6.8</td>\n",
       "      <td>0</td>\n",
       "      <td>202</td>\n",
       "      <td>120</td>\n",
       "      <td>180</td>\n",
       "      <td>115</td>\n",
       "    </tr>\n",
       "    <tr>\n",
       "      <th>1998</th>\n",
       "      <td>EMP1266</td>\n",
       "      <td>33</td>\n",
       "      <td>F</td>\n",
       "      <td>Viúvo(a)</td>\n",
       "      <td>Technical Degree</td>\n",
       "      <td>Híbrido</td>\n",
       "      <td>2024-07-25</td>\n",
       "      <td>NaT</td>\n",
       "      <td>NaN</td>\n",
       "      <td>QA Engineer</td>\n",
       "      <td>...</td>\n",
       "      <td>8.7</td>\n",
       "      <td>False</td>\n",
       "      <td>8</td>\n",
       "      <td>1</td>\n",
       "      <td>2.6</td>\n",
       "      <td>0</td>\n",
       "      <td>201</td>\n",
       "      <td>144</td>\n",
       "      <td>188</td>\n",
       "      <td>123</td>\n",
       "    </tr>\n",
       "    <tr>\n",
       "      <th>1999</th>\n",
       "      <td>EMP1815</td>\n",
       "      <td>53</td>\n",
       "      <td>F</td>\n",
       "      <td>Solteiro(a)</td>\n",
       "      <td>PhD</td>\n",
       "      <td>Presencial</td>\n",
       "      <td>2024-07-25</td>\n",
       "      <td>NaT</td>\n",
       "      <td>NaN</td>\n",
       "      <td>QA Engineer</td>\n",
       "      <td>...</td>\n",
       "      <td>7.9</td>\n",
       "      <td>False</td>\n",
       "      <td>9</td>\n",
       "      <td>2</td>\n",
       "      <td>2.3</td>\n",
       "      <td>0</td>\n",
       "      <td>201</td>\n",
       "      <td>125</td>\n",
       "      <td>153</td>\n",
       "      <td>160</td>\n",
       "    </tr>\n",
       "  </tbody>\n",
       "</table>\n",
       "<p>5 rows × 24 columns</p>\n",
       "</div>"
      ],
      "text/plain": [
       "           id  idade genero   estado_civil          educacao regime_trabalho  \\\n",
       "1995  EMP0353     50  Outro       Viúvo(a)          Bachelor          Remoto   \n",
       "1996  EMP1808     26      F  Divorciado(a)               PhD      Presencial   \n",
       "1997  EMP0503     35      F       Viúvo(a)               PhD      Presencial   \n",
       "1998  EMP1266     33      F       Viúvo(a)  Technical Degree         Híbrido   \n",
       "1999  EMP1815     53      F    Solteiro(a)               PhD      Presencial   \n",
       "\n",
       "     data_contratacao data_demissao tipo_demissao             cargo  ...  \\\n",
       "1995       2024-07-23           NaT           NaN       QA Engineer  ...   \n",
       "1996       2024-07-24    2024-10-06    Voluntária  Senior Developer  ...   \n",
       "1997       2024-07-24           NaT           NaN  Senior Developer  ...   \n",
       "1998       2024-07-25           NaT           NaN       QA Engineer  ...   \n",
       "1999       2024-07-25           NaT           NaN       QA Engineer  ...   \n",
       "\n",
       "      nota_avaliacao acompanhamento_psicologo qtde_projetos qtde_clientes  \\\n",
       "1995             9.3                     True             6             3   \n",
       "1996             9.9                    False             4             6   \n",
       "1997             8.0                    False             6             1   \n",
       "1998             8.7                    False             8             1   \n",
       "1999             7.9                    False             9             2   \n",
       "\n",
       "      nivel_satisfacao_gestor  churn  tempo_empresa  \\\n",
       "1995                     10.0      0            203   \n",
       "1996                      4.7      1             74   \n",
       "1997                      6.8      0            202   \n",
       "1998                      2.6      0            201   \n",
       "1999                      2.3      0            201   \n",
       "\n",
       "      tempo_desde_ultimo_feedback  dias_desde_ultimo_aumento  \\\n",
       "1995                          174                        161   \n",
       "1996                          147                        147   \n",
       "1997                          120                        180   \n",
       "1998                          144                        188   \n",
       "1999                          125                        153   \n",
       "\n",
       "      dias_desde_ultima_mudanca_cargo  \n",
       "1995                              185  \n",
       "1996                              130  \n",
       "1997                              115  \n",
       "1998                              123  \n",
       "1999                              160  \n",
       "\n",
       "[5 rows x 24 columns]"
      ]
     },
     "execution_count": 24,
     "metadata": {},
     "output_type": "execute_result"
    }
   ],
   "source": [
    "df.tail()"
   ]
  },
  {
   "cell_type": "code",
   "execution_count": 26,
   "metadata": {},
   "outputs": [],
   "source": [
    "df.drop(columns=['id'], inplace=True, axis=1)"
   ]
  },
  {
   "cell_type": "code",
   "execution_count": 27,
   "metadata": {},
   "outputs": [
    {
     "data": {
      "application/vnd.microsoft.datawrangler.viewer.v0+json": {
       "columns": [
        {
         "name": "index",
         "rawType": "int64",
         "type": "integer"
        },
        {
         "name": "idade",
         "rawType": "int64",
         "type": "integer"
        },
        {
         "name": "genero",
         "rawType": "object",
         "type": "string"
        },
        {
         "name": "estado_civil",
         "rawType": "object",
         "type": "string"
        },
        {
         "name": "educacao",
         "rawType": "object",
         "type": "string"
        },
        {
         "name": "regime_trabalho",
         "rawType": "object",
         "type": "string"
        },
        {
         "name": "data_contratacao",
         "rawType": "datetime64[ns]",
         "type": "datetime"
        },
        {
         "name": "data_demissao",
         "rawType": "datetime64[ns]",
         "type": "datetime"
        },
        {
         "name": "tipo_demissao",
         "rawType": "object",
         "type": "unknown"
        },
        {
         "name": "cargo",
         "rawType": "object",
         "type": "string"
        },
        {
         "name": "salario_atual",
         "rawType": "int64",
         "type": "integer"
        },
        {
         "name": "data_ultimo_feedback",
         "rawType": "datetime64[ns]",
         "type": "datetime"
        },
        {
         "name": "data_ultimo_aumento",
         "rawType": "datetime64[ns]",
         "type": "datetime"
        },
        {
         "name": "data_ultima_mudanca_cargo",
         "rawType": "datetime64[ns]",
         "type": "datetime"
        },
        {
         "name": "nota_avaliacao",
         "rawType": "float64",
         "type": "float"
        },
        {
         "name": "acompanhamento_psicologo",
         "rawType": "bool",
         "type": "boolean"
        },
        {
         "name": "qtde_projetos",
         "rawType": "int64",
         "type": "integer"
        },
        {
         "name": "qtde_clientes",
         "rawType": "int64",
         "type": "integer"
        },
        {
         "name": "nivel_satisfacao_gestor",
         "rawType": "float64",
         "type": "float"
        },
        {
         "name": "churn",
         "rawType": "int64",
         "type": "integer"
        },
        {
         "name": "tempo_empresa",
         "rawType": "int64",
         "type": "integer"
        },
        {
         "name": "tempo_desde_ultimo_feedback",
         "rawType": "int64",
         "type": "integer"
        },
        {
         "name": "dias_desde_ultimo_aumento",
         "rawType": "int64",
         "type": "integer"
        },
        {
         "name": "dias_desde_ultima_mudanca_cargo",
         "rawType": "int64",
         "type": "integer"
        }
       ],
       "conversionMethod": "pd.DataFrame",
       "ref": "109d8917-e276-4d9e-a3f8-6fb5c4fb8b54",
       "rows": [
        [
         "0",
         "37",
         "F",
         "Divorciado(a)",
         "Master",
         "Remoto",
         "2020-01-02 00:00:00",
         null,
         null,
         "Senior Developer",
         "10207",
         "2024-05-09 00:00:00",
         "2023-07-31 00:00:00",
         "2022-11-03 00:00:00",
         "9.6",
         "True",
         "5",
         "1",
         "7.0",
         "0",
         "1867",
         "278",
         "561",
         "831"
        ],
        [
         "1",
         "45",
         "Outro",
         "Divorciado(a)",
         "Master",
         "Remoto",
         "2020-01-03 00:00:00",
         null,
         null,
         "UX Designer",
         "23921",
         "2024-04-05 00:00:00",
         "2023-09-10 00:00:00",
         "2022-02-11 00:00:00",
         "8.4",
         "True",
         "8",
         "4",
         "9.1",
         "0",
         "1866",
         "312",
         "520",
         "1096"
        ],
        [
         "2",
         "54",
         "M",
         "Viúvo(a)",
         "Technical Degree",
         "Híbrido",
         "2020-01-04 00:00:00",
         null,
         null,
         "Tech Lead",
         "15298",
         "2023-06-16 00:00:00",
         "2021-12-26 00:00:00",
         "2021-05-10 00:00:00",
         "8.5",
         "False",
         "9",
         "7",
         "1.3",
         "0",
         "1865",
         "606",
         "1143",
         "1373"
        ],
        [
         "3",
         "44",
         "M",
         "Casado(a)",
         "Bachelor",
         "Remoto",
         "2020-01-05 00:00:00",
         null,
         null,
         "QA Engineer",
         "15306",
         "2021-12-04 00:00:00",
         "2022-01-01 00:00:00",
         "2024-08-30 00:00:00",
         "7.9",
         "False",
         "8",
         "4",
         "8.4",
         "0",
         "1864",
         "1165",
         "1137",
         "165"
        ],
        [
         "4",
         "53",
         "Outro",
         "Viúvo(a)",
         "PhD",
         "Presencial",
         "2020-01-07 00:00:00",
         null,
         null,
         "Senior Developer",
         "17723",
         "2022-03-04 00:00:00",
         "2023-11-18 00:00:00",
         "2024-08-08 00:00:00",
         "7.5",
         "True",
         "5",
         "2",
         "8.2",
         "0",
         "1862",
         "1075",
         "451",
         "187"
        ]
       ],
       "shape": {
        "columns": 23,
        "rows": 5
       }
      },
      "text/html": [
       "<div>\n",
       "<style scoped>\n",
       "    .dataframe tbody tr th:only-of-type {\n",
       "        vertical-align: middle;\n",
       "    }\n",
       "\n",
       "    .dataframe tbody tr th {\n",
       "        vertical-align: top;\n",
       "    }\n",
       "\n",
       "    .dataframe thead th {\n",
       "        text-align: right;\n",
       "    }\n",
       "</style>\n",
       "<table border=\"1\" class=\"dataframe\">\n",
       "  <thead>\n",
       "    <tr style=\"text-align: right;\">\n",
       "      <th></th>\n",
       "      <th>idade</th>\n",
       "      <th>genero</th>\n",
       "      <th>estado_civil</th>\n",
       "      <th>educacao</th>\n",
       "      <th>regime_trabalho</th>\n",
       "      <th>data_contratacao</th>\n",
       "      <th>data_demissao</th>\n",
       "      <th>tipo_demissao</th>\n",
       "      <th>cargo</th>\n",
       "      <th>salario_atual</th>\n",
       "      <th>...</th>\n",
       "      <th>nota_avaliacao</th>\n",
       "      <th>acompanhamento_psicologo</th>\n",
       "      <th>qtde_projetos</th>\n",
       "      <th>qtde_clientes</th>\n",
       "      <th>nivel_satisfacao_gestor</th>\n",
       "      <th>churn</th>\n",
       "      <th>tempo_empresa</th>\n",
       "      <th>tempo_desde_ultimo_feedback</th>\n",
       "      <th>dias_desde_ultimo_aumento</th>\n",
       "      <th>dias_desde_ultima_mudanca_cargo</th>\n",
       "    </tr>\n",
       "  </thead>\n",
       "  <tbody>\n",
       "    <tr>\n",
       "      <th>0</th>\n",
       "      <td>37</td>\n",
       "      <td>F</td>\n",
       "      <td>Divorciado(a)</td>\n",
       "      <td>Master</td>\n",
       "      <td>Remoto</td>\n",
       "      <td>2020-01-02</td>\n",
       "      <td>NaT</td>\n",
       "      <td>NaN</td>\n",
       "      <td>Senior Developer</td>\n",
       "      <td>10207</td>\n",
       "      <td>...</td>\n",
       "      <td>9.6</td>\n",
       "      <td>True</td>\n",
       "      <td>5</td>\n",
       "      <td>1</td>\n",
       "      <td>7.0</td>\n",
       "      <td>0</td>\n",
       "      <td>1867</td>\n",
       "      <td>278</td>\n",
       "      <td>561</td>\n",
       "      <td>831</td>\n",
       "    </tr>\n",
       "    <tr>\n",
       "      <th>1</th>\n",
       "      <td>45</td>\n",
       "      <td>Outro</td>\n",
       "      <td>Divorciado(a)</td>\n",
       "      <td>Master</td>\n",
       "      <td>Remoto</td>\n",
       "      <td>2020-01-03</td>\n",
       "      <td>NaT</td>\n",
       "      <td>NaN</td>\n",
       "      <td>UX Designer</td>\n",
       "      <td>23921</td>\n",
       "      <td>...</td>\n",
       "      <td>8.4</td>\n",
       "      <td>True</td>\n",
       "      <td>8</td>\n",
       "      <td>4</td>\n",
       "      <td>9.1</td>\n",
       "      <td>0</td>\n",
       "      <td>1866</td>\n",
       "      <td>312</td>\n",
       "      <td>520</td>\n",
       "      <td>1096</td>\n",
       "    </tr>\n",
       "    <tr>\n",
       "      <th>2</th>\n",
       "      <td>54</td>\n",
       "      <td>M</td>\n",
       "      <td>Viúvo(a)</td>\n",
       "      <td>Technical Degree</td>\n",
       "      <td>Híbrido</td>\n",
       "      <td>2020-01-04</td>\n",
       "      <td>NaT</td>\n",
       "      <td>NaN</td>\n",
       "      <td>Tech Lead</td>\n",
       "      <td>15298</td>\n",
       "      <td>...</td>\n",
       "      <td>8.5</td>\n",
       "      <td>False</td>\n",
       "      <td>9</td>\n",
       "      <td>7</td>\n",
       "      <td>1.3</td>\n",
       "      <td>0</td>\n",
       "      <td>1865</td>\n",
       "      <td>606</td>\n",
       "      <td>1143</td>\n",
       "      <td>1373</td>\n",
       "    </tr>\n",
       "    <tr>\n",
       "      <th>3</th>\n",
       "      <td>44</td>\n",
       "      <td>M</td>\n",
       "      <td>Casado(a)</td>\n",
       "      <td>Bachelor</td>\n",
       "      <td>Remoto</td>\n",
       "      <td>2020-01-05</td>\n",
       "      <td>NaT</td>\n",
       "      <td>NaN</td>\n",
       "      <td>QA Engineer</td>\n",
       "      <td>15306</td>\n",
       "      <td>...</td>\n",
       "      <td>7.9</td>\n",
       "      <td>False</td>\n",
       "      <td>8</td>\n",
       "      <td>4</td>\n",
       "      <td>8.4</td>\n",
       "      <td>0</td>\n",
       "      <td>1864</td>\n",
       "      <td>1165</td>\n",
       "      <td>1137</td>\n",
       "      <td>165</td>\n",
       "    </tr>\n",
       "    <tr>\n",
       "      <th>4</th>\n",
       "      <td>53</td>\n",
       "      <td>Outro</td>\n",
       "      <td>Viúvo(a)</td>\n",
       "      <td>PhD</td>\n",
       "      <td>Presencial</td>\n",
       "      <td>2020-01-07</td>\n",
       "      <td>NaT</td>\n",
       "      <td>NaN</td>\n",
       "      <td>Senior Developer</td>\n",
       "      <td>17723</td>\n",
       "      <td>...</td>\n",
       "      <td>7.5</td>\n",
       "      <td>True</td>\n",
       "      <td>5</td>\n",
       "      <td>2</td>\n",
       "      <td>8.2</td>\n",
       "      <td>0</td>\n",
       "      <td>1862</td>\n",
       "      <td>1075</td>\n",
       "      <td>451</td>\n",
       "      <td>187</td>\n",
       "    </tr>\n",
       "  </tbody>\n",
       "</table>\n",
       "<p>5 rows × 23 columns</p>\n",
       "</div>"
      ],
      "text/plain": [
       "   idade genero   estado_civil          educacao regime_trabalho  \\\n",
       "0     37      F  Divorciado(a)            Master          Remoto   \n",
       "1     45  Outro  Divorciado(a)            Master          Remoto   \n",
       "2     54      M       Viúvo(a)  Technical Degree         Híbrido   \n",
       "3     44      M      Casado(a)          Bachelor          Remoto   \n",
       "4     53  Outro       Viúvo(a)               PhD      Presencial   \n",
       "\n",
       "  data_contratacao data_demissao tipo_demissao             cargo  \\\n",
       "0       2020-01-02           NaT           NaN  Senior Developer   \n",
       "1       2020-01-03           NaT           NaN       UX Designer   \n",
       "2       2020-01-04           NaT           NaN         Tech Lead   \n",
       "3       2020-01-05           NaT           NaN       QA Engineer   \n",
       "4       2020-01-07           NaT           NaN  Senior Developer   \n",
       "\n",
       "   salario_atual  ... nota_avaliacao acompanhamento_psicologo qtde_projetos  \\\n",
       "0          10207  ...            9.6                     True             5   \n",
       "1          23921  ...            8.4                     True             8   \n",
       "2          15298  ...            8.5                    False             9   \n",
       "3          15306  ...            7.9                    False             8   \n",
       "4          17723  ...            7.5                     True             5   \n",
       "\n",
       "   qtde_clientes  nivel_satisfacao_gestor  churn  tempo_empresa  \\\n",
       "0              1                      7.0      0           1867   \n",
       "1              4                      9.1      0           1866   \n",
       "2              7                      1.3      0           1865   \n",
       "3              4                      8.4      0           1864   \n",
       "4              2                      8.2      0           1862   \n",
       "\n",
       "   tempo_desde_ultimo_feedback  dias_desde_ultimo_aumento  \\\n",
       "0                          278                        561   \n",
       "1                          312                        520   \n",
       "2                          606                       1143   \n",
       "3                         1165                       1137   \n",
       "4                         1075                        451   \n",
       "\n",
       "   dias_desde_ultima_mudanca_cargo  \n",
       "0                              831  \n",
       "1                             1096  \n",
       "2                             1373  \n",
       "3                              165  \n",
       "4                              187  \n",
       "\n",
       "[5 rows x 23 columns]"
      ]
     },
     "execution_count": 27,
     "metadata": {},
     "output_type": "execute_result"
    }
   ],
   "source": [
    "df.head()"
   ]
  },
  {
   "cell_type": "markdown",
   "metadata": {},
   "source": [
    "### EDA"
   ]
  },
  {
   "cell_type": "code",
   "execution_count": 28,
   "metadata": {},
   "outputs": [
    {
     "data": {
      "text/plain": [
       "idade                                 0\n",
       "genero                                0\n",
       "estado_civil                          0\n",
       "educacao                              0\n",
       "regime_trabalho                       0\n",
       "data_contratacao                      0\n",
       "data_demissao                      1714\n",
       "tipo_demissao                      1714\n",
       "cargo                                 0\n",
       "salario_atual                         0\n",
       "data_ultimo_feedback                  0\n",
       "data_ultimo_aumento                   0\n",
       "data_ultima_mudanca_cargo             0\n",
       "nota_avaliacao                        0\n",
       "acompanhamento_psicologo              0\n",
       "qtde_projetos                         0\n",
       "qtde_clientes                         0\n",
       "nivel_satisfacao_gestor               0\n",
       "churn                                 0\n",
       "tempo_empresa                         0\n",
       "tempo_desde_ultimo_feedback           0\n",
       "dias_desde_ultimo_aumento             0\n",
       "dias_desde_ultima_mudanca_cargo       0\n",
       "dtype: int64"
      ]
     },
     "execution_count": 28,
     "metadata": {},
     "output_type": "execute_result"
    }
   ],
   "source": [
    "df.isnull().sum()"
   ]
  },
  {
   "cell_type": "code",
   "execution_count": 29,
   "metadata": {},
   "outputs": [
    {
     "data": {
      "text/plain": [
       "churn\n",
       "0    1714\n",
       "1     286\n",
       "Name: count, dtype: int64"
      ]
     },
     "execution_count": 29,
     "metadata": {},
     "output_type": "execute_result"
    }
   ],
   "source": [
    "df['churn'].value_counts()"
   ]
  },
  {
   "cell_type": "code",
   "execution_count": 33,
   "metadata": {},
   "outputs": [
    {
     "data": {
      "application/vnd.plotly.v1+json": {
       "config": {
        "plotlyServerURL": "https://plot.ly"
       },
       "data": [
        {
         "hovertemplate": "variable=count<br>churn=%{x}<br>value=%{y}<extra></extra>",
         "legendgroup": "count",
         "marker": {
          "color": "#636efa",
          "pattern": {
           "shape": ""
          }
         },
         "name": "count",
         "orientation": "v",
         "showlegend": true,
         "textposition": "auto",
         "type": "bar",
         "x": {
          "bdata": "AAE=",
          "dtype": "i1"
         },
         "xaxis": "x",
         "y": {
          "bdata": "zczMzMxsVUCZmZmZmZksQA==",
          "dtype": "f8"
         },
         "yaxis": "y"
        }
       ],
       "layout": {
        "barmode": "relative",
        "legend": {
         "title": {
          "text": "variable"
         },
         "tracegroupgap": 0
        },
        "template": {
         "data": {
          "bar": [
           {
            "error_x": {
             "color": "#2a3f5f"
            },
            "error_y": {
             "color": "#2a3f5f"
            },
            "marker": {
             "line": {
              "color": "#E5ECF6",
              "width": 0.5
             },
             "pattern": {
              "fillmode": "overlay",
              "size": 10,
              "solidity": 0.2
             }
            },
            "type": "bar"
           }
          ],
          "barpolar": [
           {
            "marker": {
             "line": {
              "color": "#E5ECF6",
              "width": 0.5
             },
             "pattern": {
              "fillmode": "overlay",
              "size": 10,
              "solidity": 0.2
             }
            },
            "type": "barpolar"
           }
          ],
          "carpet": [
           {
            "aaxis": {
             "endlinecolor": "#2a3f5f",
             "gridcolor": "white",
             "linecolor": "white",
             "minorgridcolor": "white",
             "startlinecolor": "#2a3f5f"
            },
            "baxis": {
             "endlinecolor": "#2a3f5f",
             "gridcolor": "white",
             "linecolor": "white",
             "minorgridcolor": "white",
             "startlinecolor": "#2a3f5f"
            },
            "type": "carpet"
           }
          ],
          "choropleth": [
           {
            "colorbar": {
             "outlinewidth": 0,
             "ticks": ""
            },
            "type": "choropleth"
           }
          ],
          "contour": [
           {
            "colorbar": {
             "outlinewidth": 0,
             "ticks": ""
            },
            "colorscale": [
             [
              0,
              "#0d0887"
             ],
             [
              0.1111111111111111,
              "#46039f"
             ],
             [
              0.2222222222222222,
              "#7201a8"
             ],
             [
              0.3333333333333333,
              "#9c179e"
             ],
             [
              0.4444444444444444,
              "#bd3786"
             ],
             [
              0.5555555555555556,
              "#d8576b"
             ],
             [
              0.6666666666666666,
              "#ed7953"
             ],
             [
              0.7777777777777778,
              "#fb9f3a"
             ],
             [
              0.8888888888888888,
              "#fdca26"
             ],
             [
              1,
              "#f0f921"
             ]
            ],
            "type": "contour"
           }
          ],
          "contourcarpet": [
           {
            "colorbar": {
             "outlinewidth": 0,
             "ticks": ""
            },
            "type": "contourcarpet"
           }
          ],
          "heatmap": [
           {
            "colorbar": {
             "outlinewidth": 0,
             "ticks": ""
            },
            "colorscale": [
             [
              0,
              "#0d0887"
             ],
             [
              0.1111111111111111,
              "#46039f"
             ],
             [
              0.2222222222222222,
              "#7201a8"
             ],
             [
              0.3333333333333333,
              "#9c179e"
             ],
             [
              0.4444444444444444,
              "#bd3786"
             ],
             [
              0.5555555555555556,
              "#d8576b"
             ],
             [
              0.6666666666666666,
              "#ed7953"
             ],
             [
              0.7777777777777778,
              "#fb9f3a"
             ],
             [
              0.8888888888888888,
              "#fdca26"
             ],
             [
              1,
              "#f0f921"
             ]
            ],
            "type": "heatmap"
           }
          ],
          "histogram": [
           {
            "marker": {
             "pattern": {
              "fillmode": "overlay",
              "size": 10,
              "solidity": 0.2
             }
            },
            "type": "histogram"
           }
          ],
          "histogram2d": [
           {
            "colorbar": {
             "outlinewidth": 0,
             "ticks": ""
            },
            "colorscale": [
             [
              0,
              "#0d0887"
             ],
             [
              0.1111111111111111,
              "#46039f"
             ],
             [
              0.2222222222222222,
              "#7201a8"
             ],
             [
              0.3333333333333333,
              "#9c179e"
             ],
             [
              0.4444444444444444,
              "#bd3786"
             ],
             [
              0.5555555555555556,
              "#d8576b"
             ],
             [
              0.6666666666666666,
              "#ed7953"
             ],
             [
              0.7777777777777778,
              "#fb9f3a"
             ],
             [
              0.8888888888888888,
              "#fdca26"
             ],
             [
              1,
              "#f0f921"
             ]
            ],
            "type": "histogram2d"
           }
          ],
          "histogram2dcontour": [
           {
            "colorbar": {
             "outlinewidth": 0,
             "ticks": ""
            },
            "colorscale": [
             [
              0,
              "#0d0887"
             ],
             [
              0.1111111111111111,
              "#46039f"
             ],
             [
              0.2222222222222222,
              "#7201a8"
             ],
             [
              0.3333333333333333,
              "#9c179e"
             ],
             [
              0.4444444444444444,
              "#bd3786"
             ],
             [
              0.5555555555555556,
              "#d8576b"
             ],
             [
              0.6666666666666666,
              "#ed7953"
             ],
             [
              0.7777777777777778,
              "#fb9f3a"
             ],
             [
              0.8888888888888888,
              "#fdca26"
             ],
             [
              1,
              "#f0f921"
             ]
            ],
            "type": "histogram2dcontour"
           }
          ],
          "mesh3d": [
           {
            "colorbar": {
             "outlinewidth": 0,
             "ticks": ""
            },
            "type": "mesh3d"
           }
          ],
          "parcoords": [
           {
            "line": {
             "colorbar": {
              "outlinewidth": 0,
              "ticks": ""
             }
            },
            "type": "parcoords"
           }
          ],
          "pie": [
           {
            "automargin": true,
            "type": "pie"
           }
          ],
          "scatter": [
           {
            "fillpattern": {
             "fillmode": "overlay",
             "size": 10,
             "solidity": 0.2
            },
            "type": "scatter"
           }
          ],
          "scatter3d": [
           {
            "line": {
             "colorbar": {
              "outlinewidth": 0,
              "ticks": ""
             }
            },
            "marker": {
             "colorbar": {
              "outlinewidth": 0,
              "ticks": ""
             }
            },
            "type": "scatter3d"
           }
          ],
          "scattercarpet": [
           {
            "marker": {
             "colorbar": {
              "outlinewidth": 0,
              "ticks": ""
             }
            },
            "type": "scattercarpet"
           }
          ],
          "scattergeo": [
           {
            "marker": {
             "colorbar": {
              "outlinewidth": 0,
              "ticks": ""
             }
            },
            "type": "scattergeo"
           }
          ],
          "scattergl": [
           {
            "marker": {
             "colorbar": {
              "outlinewidth": 0,
              "ticks": ""
             }
            },
            "type": "scattergl"
           }
          ],
          "scattermap": [
           {
            "marker": {
             "colorbar": {
              "outlinewidth": 0,
              "ticks": ""
             }
            },
            "type": "scattermap"
           }
          ],
          "scattermapbox": [
           {
            "marker": {
             "colorbar": {
              "outlinewidth": 0,
              "ticks": ""
             }
            },
            "type": "scattermapbox"
           }
          ],
          "scatterpolar": [
           {
            "marker": {
             "colorbar": {
              "outlinewidth": 0,
              "ticks": ""
             }
            },
            "type": "scatterpolar"
           }
          ],
          "scatterpolargl": [
           {
            "marker": {
             "colorbar": {
              "outlinewidth": 0,
              "ticks": ""
             }
            },
            "type": "scatterpolargl"
           }
          ],
          "scatterternary": [
           {
            "marker": {
             "colorbar": {
              "outlinewidth": 0,
              "ticks": ""
             }
            },
            "type": "scatterternary"
           }
          ],
          "surface": [
           {
            "colorbar": {
             "outlinewidth": 0,
             "ticks": ""
            },
            "colorscale": [
             [
              0,
              "#0d0887"
             ],
             [
              0.1111111111111111,
              "#46039f"
             ],
             [
              0.2222222222222222,
              "#7201a8"
             ],
             [
              0.3333333333333333,
              "#9c179e"
             ],
             [
              0.4444444444444444,
              "#bd3786"
             ],
             [
              0.5555555555555556,
              "#d8576b"
             ],
             [
              0.6666666666666666,
              "#ed7953"
             ],
             [
              0.7777777777777778,
              "#fb9f3a"
             ],
             [
              0.8888888888888888,
              "#fdca26"
             ],
             [
              1,
              "#f0f921"
             ]
            ],
            "type": "surface"
           }
          ],
          "table": [
           {
            "cells": {
             "fill": {
              "color": "#EBF0F8"
             },
             "line": {
              "color": "white"
             }
            },
            "header": {
             "fill": {
              "color": "#C8D4E3"
             },
             "line": {
              "color": "white"
             }
            },
            "type": "table"
           }
          ]
         },
         "layout": {
          "annotationdefaults": {
           "arrowcolor": "#2a3f5f",
           "arrowhead": 0,
           "arrowwidth": 1
          },
          "autotypenumbers": "strict",
          "coloraxis": {
           "colorbar": {
            "outlinewidth": 0,
            "ticks": ""
           }
          },
          "colorscale": {
           "diverging": [
            [
             0,
             "#8e0152"
            ],
            [
             0.1,
             "#c51b7d"
            ],
            [
             0.2,
             "#de77ae"
            ],
            [
             0.3,
             "#f1b6da"
            ],
            [
             0.4,
             "#fde0ef"
            ],
            [
             0.5,
             "#f7f7f7"
            ],
            [
             0.6,
             "#e6f5d0"
            ],
            [
             0.7,
             "#b8e186"
            ],
            [
             0.8,
             "#7fbc41"
            ],
            [
             0.9,
             "#4d9221"
            ],
            [
             1,
             "#276419"
            ]
           ],
           "sequential": [
            [
             0,
             "#0d0887"
            ],
            [
             0.1111111111111111,
             "#46039f"
            ],
            [
             0.2222222222222222,
             "#7201a8"
            ],
            [
             0.3333333333333333,
             "#9c179e"
            ],
            [
             0.4444444444444444,
             "#bd3786"
            ],
            [
             0.5555555555555556,
             "#d8576b"
            ],
            [
             0.6666666666666666,
             "#ed7953"
            ],
            [
             0.7777777777777778,
             "#fb9f3a"
            ],
            [
             0.8888888888888888,
             "#fdca26"
            ],
            [
             1,
             "#f0f921"
            ]
           ],
           "sequentialminus": [
            [
             0,
             "#0d0887"
            ],
            [
             0.1111111111111111,
             "#46039f"
            ],
            [
             0.2222222222222222,
             "#7201a8"
            ],
            [
             0.3333333333333333,
             "#9c179e"
            ],
            [
             0.4444444444444444,
             "#bd3786"
            ],
            [
             0.5555555555555556,
             "#d8576b"
            ],
            [
             0.6666666666666666,
             "#ed7953"
            ],
            [
             0.7777777777777778,
             "#fb9f3a"
            ],
            [
             0.8888888888888888,
             "#fdca26"
            ],
            [
             1,
             "#f0f921"
            ]
           ]
          },
          "colorway": [
           "#636efa",
           "#EF553B",
           "#00cc96",
           "#ab63fa",
           "#FFA15A",
           "#19d3f3",
           "#FF6692",
           "#B6E880",
           "#FF97FF",
           "#FECB52"
          ],
          "font": {
           "color": "#2a3f5f"
          },
          "geo": {
           "bgcolor": "white",
           "lakecolor": "white",
           "landcolor": "#E5ECF6",
           "showlakes": true,
           "showland": true,
           "subunitcolor": "white"
          },
          "hoverlabel": {
           "align": "left"
          },
          "hovermode": "closest",
          "mapbox": {
           "style": "light"
          },
          "paper_bgcolor": "white",
          "plot_bgcolor": "#E5ECF6",
          "polar": {
           "angularaxis": {
            "gridcolor": "white",
            "linecolor": "white",
            "ticks": ""
           },
           "bgcolor": "#E5ECF6",
           "radialaxis": {
            "gridcolor": "white",
            "linecolor": "white",
            "ticks": ""
           }
          },
          "scene": {
           "xaxis": {
            "backgroundcolor": "#E5ECF6",
            "gridcolor": "white",
            "gridwidth": 2,
            "linecolor": "white",
            "showbackground": true,
            "ticks": "",
            "zerolinecolor": "white"
           },
           "yaxis": {
            "backgroundcolor": "#E5ECF6",
            "gridcolor": "white",
            "gridwidth": 2,
            "linecolor": "white",
            "showbackground": true,
            "ticks": "",
            "zerolinecolor": "white"
           },
           "zaxis": {
            "backgroundcolor": "#E5ECF6",
            "gridcolor": "white",
            "gridwidth": 2,
            "linecolor": "white",
            "showbackground": true,
            "ticks": "",
            "zerolinecolor": "white"
           }
          },
          "shapedefaults": {
           "line": {
            "color": "#2a3f5f"
           }
          },
          "ternary": {
           "aaxis": {
            "gridcolor": "white",
            "linecolor": "white",
            "ticks": ""
           },
           "baxis": {
            "gridcolor": "white",
            "linecolor": "white",
            "ticks": ""
           },
           "bgcolor": "#E5ECF6",
           "caxis": {
            "gridcolor": "white",
            "linecolor": "white",
            "ticks": ""
           }
          },
          "title": {
           "x": 0.05
          },
          "xaxis": {
           "automargin": true,
           "gridcolor": "white",
           "linecolor": "white",
           "ticks": "",
           "title": {
            "standoff": 15
           },
           "zerolinecolor": "white",
           "zerolinewidth": 2
          },
          "yaxis": {
           "automargin": true,
           "gridcolor": "white",
           "linecolor": "white",
           "ticks": "",
           "title": {
            "standoff": 15
           },
           "zerolinecolor": "white",
           "zerolinewidth": 2
          }
         }
        },
        "title": {
         "text": "Fator de Churn"
        },
        "xaxis": {
         "anchor": "y",
         "domain": [
          0,
          1
         ],
         "title": {
          "text": "churn"
         }
        },
        "yaxis": {
         "anchor": "x",
         "domain": [
          0,
          1
         ],
         "title": {
          "text": "value"
         }
        }
       }
      }
     },
     "metadata": {},
     "output_type": "display_data"
    }
   ],
   "source": [
    "fig = px.bar(df['churn'].value_counts() / len(df) * 100, title='Fator de Churn')\n",
    "fig.show()"
   ]
  },
  {
   "cell_type": "code",
   "execution_count": 36,
   "metadata": {},
   "outputs": [
    {
     "name": "stdout",
     "output_type": "stream",
     "text": [
      "Valores únicos na coluna genero: ['F' 'Outro' 'M']\n",
      "Valores únicos na coluna estado_civil: ['Divorciado(a)' 'Viúvo(a)' 'Casado(a)' 'Solteiro(a)']\n",
      "Valores únicos na coluna educacao: ['Master' 'Technical Degree' 'Bachelor' 'PhD']\n",
      "Valores únicos na coluna regime_trabalho: ['Remoto' 'Híbrido' 'Presencial']\n",
      "Valores únicos na coluna tipo_demissao: [nan 'Involuntária' 'Voluntária']\n",
      "Valores únicos na coluna cargo: ['Senior Developer' 'UX Designer' 'Tech Lead' 'QA Engineer'\n",
      " 'Junior Developer' 'Product Manager' 'DevOps Engineer' 'Data Scientist']\n"
     ]
    }
   ],
   "source": [
    "for col in df.select_dtypes(include=['object']).columns:\n",
    "  print(f\"Valores únicos na coluna {col}:\", df[col].unique())"
   ]
  },
  {
   "cell_type": "code",
   "execution_count": 37,
   "metadata": {},
   "outputs": [
    {
     "data": {
      "application/vnd.microsoft.datawrangler.viewer.v0+json": {
       "columns": [
        {
         "name": "index",
         "rawType": "object",
         "type": "string"
        },
        {
         "name": "idade",
         "rawType": "float64",
         "type": "float"
        },
        {
         "name": "salario_atual",
         "rawType": "float64",
         "type": "float"
        },
        {
         "name": "nota_avaliacao",
         "rawType": "float64",
         "type": "float"
        },
        {
         "name": "qtde_projetos",
         "rawType": "float64",
         "type": "float"
        },
        {
         "name": "qtde_clientes",
         "rawType": "float64",
         "type": "float"
        },
        {
         "name": "nivel_satisfacao_gestor",
         "rawType": "float64",
         "type": "float"
        },
        {
         "name": "churn",
         "rawType": "float64",
         "type": "float"
        },
        {
         "name": "tempo_empresa",
         "rawType": "float64",
         "type": "float"
        },
        {
         "name": "tempo_desde_ultimo_feedback",
         "rawType": "float64",
         "type": "float"
        },
        {
         "name": "dias_desde_ultimo_aumento",
         "rawType": "float64",
         "type": "float"
        },
        {
         "name": "dias_desde_ultima_mudanca_cargo",
         "rawType": "float64",
         "type": "float"
        }
       ],
       "conversionMethod": "pd.DataFrame",
       "ref": "2026ba54-6501-4292-9a1d-7f0a49b2021d",
       "rows": [
        [
         "count",
         "2000.0",
         "2000.0",
         "2000.0",
         "2000.0",
         "2000.0",
         "2000.0",
         "2000.0",
         "2000.0",
         "2000.0",
         "2000.0",
         "2000.0"
        ],
        [
         "mean",
         "37.9385",
         "14801.8345",
         "7.99755",
         "4.9845",
         "3.9985",
         "5.492450000000001",
         "0.143",
         "954.532",
         "597.899",
         "611.005",
         "598.1365"
        ],
        [
         "std",
         "9.456131712464762",
         "5763.45183571799",
         "1.1573239377323983",
         "2.593187625496951",
         "1.9870762406090505",
         "2.609816769293324",
         "0.3501604006067455",
         "501.38969852889426",
         "395.59628032566707",
         "397.62396731672544",
         "395.91111461171"
        ],
        [
         "min",
         "22.0",
         "5016.0",
         "6.0",
         "1.0",
         "1.0",
         "1.0",
         "0.0",
         "34.0",
         "111.0",
         "112.0",
         "111.0"
        ],
        [
         "25%",
         "30.0",
         "9844.25",
         "7.0",
         "3.0",
         "2.0",
         "3.3",
         "0.0",
         "525.0",
         "267.75",
         "273.75",
         "271.75"
        ],
        [
         "50%",
         "38.0",
         "14822.5",
         "8.0",
         "5.0",
         "4.0",
         "5.5",
         "0.0",
         "950.5",
         "496.5",
         "511.0",
         "488.0"
        ],
        [
         "75%",
         "46.0",
         "19702.5",
         "9.0",
         "7.0",
         "6.0",
         "7.7",
         "0.0",
         "1381.25",
         "837.25",
         "870.25",
         "831.0"
        ],
        [
         "max",
         "54.0",
         "24988.0",
         "10.0",
         "9.0",
         "7.0",
         "10.0",
         "1.0",
         "1867.0",
         "1830.0",
         "1783.0",
         "1823.0"
        ]
       ],
       "shape": {
        "columns": 11,
        "rows": 8
       }
      },
      "text/html": [
       "<div>\n",
       "<style scoped>\n",
       "    .dataframe tbody tr th:only-of-type {\n",
       "        vertical-align: middle;\n",
       "    }\n",
       "\n",
       "    .dataframe tbody tr th {\n",
       "        vertical-align: top;\n",
       "    }\n",
       "\n",
       "    .dataframe thead th {\n",
       "        text-align: right;\n",
       "    }\n",
       "</style>\n",
       "<table border=\"1\" class=\"dataframe\">\n",
       "  <thead>\n",
       "    <tr style=\"text-align: right;\">\n",
       "      <th></th>\n",
       "      <th>idade</th>\n",
       "      <th>salario_atual</th>\n",
       "      <th>nota_avaliacao</th>\n",
       "      <th>qtde_projetos</th>\n",
       "      <th>qtde_clientes</th>\n",
       "      <th>nivel_satisfacao_gestor</th>\n",
       "      <th>churn</th>\n",
       "      <th>tempo_empresa</th>\n",
       "      <th>tempo_desde_ultimo_feedback</th>\n",
       "      <th>dias_desde_ultimo_aumento</th>\n",
       "      <th>dias_desde_ultima_mudanca_cargo</th>\n",
       "    </tr>\n",
       "  </thead>\n",
       "  <tbody>\n",
       "    <tr>\n",
       "      <th>count</th>\n",
       "      <td>2000.000000</td>\n",
       "      <td>2000.000000</td>\n",
       "      <td>2000.000000</td>\n",
       "      <td>2000.000000</td>\n",
       "      <td>2000.000000</td>\n",
       "      <td>2000.000000</td>\n",
       "      <td>2000.00000</td>\n",
       "      <td>2000.000000</td>\n",
       "      <td>2000.00000</td>\n",
       "      <td>2000.000000</td>\n",
       "      <td>2000.000000</td>\n",
       "    </tr>\n",
       "    <tr>\n",
       "      <th>mean</th>\n",
       "      <td>37.938500</td>\n",
       "      <td>14801.834500</td>\n",
       "      <td>7.997550</td>\n",
       "      <td>4.984500</td>\n",
       "      <td>3.998500</td>\n",
       "      <td>5.492450</td>\n",
       "      <td>0.14300</td>\n",
       "      <td>954.532000</td>\n",
       "      <td>597.89900</td>\n",
       "      <td>611.005000</td>\n",
       "      <td>598.136500</td>\n",
       "    </tr>\n",
       "    <tr>\n",
       "      <th>std</th>\n",
       "      <td>9.456132</td>\n",
       "      <td>5763.451836</td>\n",
       "      <td>1.157324</td>\n",
       "      <td>2.593188</td>\n",
       "      <td>1.987076</td>\n",
       "      <td>2.609817</td>\n",
       "      <td>0.35016</td>\n",
       "      <td>501.389699</td>\n",
       "      <td>395.59628</td>\n",
       "      <td>397.623967</td>\n",
       "      <td>395.911115</td>\n",
       "    </tr>\n",
       "    <tr>\n",
       "      <th>min</th>\n",
       "      <td>22.000000</td>\n",
       "      <td>5016.000000</td>\n",
       "      <td>6.000000</td>\n",
       "      <td>1.000000</td>\n",
       "      <td>1.000000</td>\n",
       "      <td>1.000000</td>\n",
       "      <td>0.00000</td>\n",
       "      <td>34.000000</td>\n",
       "      <td>111.00000</td>\n",
       "      <td>112.000000</td>\n",
       "      <td>111.000000</td>\n",
       "    </tr>\n",
       "    <tr>\n",
       "      <th>25%</th>\n",
       "      <td>30.000000</td>\n",
       "      <td>9844.250000</td>\n",
       "      <td>7.000000</td>\n",
       "      <td>3.000000</td>\n",
       "      <td>2.000000</td>\n",
       "      <td>3.300000</td>\n",
       "      <td>0.00000</td>\n",
       "      <td>525.000000</td>\n",
       "      <td>267.75000</td>\n",
       "      <td>273.750000</td>\n",
       "      <td>271.750000</td>\n",
       "    </tr>\n",
       "    <tr>\n",
       "      <th>50%</th>\n",
       "      <td>38.000000</td>\n",
       "      <td>14822.500000</td>\n",
       "      <td>8.000000</td>\n",
       "      <td>5.000000</td>\n",
       "      <td>4.000000</td>\n",
       "      <td>5.500000</td>\n",
       "      <td>0.00000</td>\n",
       "      <td>950.500000</td>\n",
       "      <td>496.50000</td>\n",
       "      <td>511.000000</td>\n",
       "      <td>488.000000</td>\n",
       "    </tr>\n",
       "    <tr>\n",
       "      <th>75%</th>\n",
       "      <td>46.000000</td>\n",
       "      <td>19702.500000</td>\n",
       "      <td>9.000000</td>\n",
       "      <td>7.000000</td>\n",
       "      <td>6.000000</td>\n",
       "      <td>7.700000</td>\n",
       "      <td>0.00000</td>\n",
       "      <td>1381.250000</td>\n",
       "      <td>837.25000</td>\n",
       "      <td>870.250000</td>\n",
       "      <td>831.000000</td>\n",
       "    </tr>\n",
       "    <tr>\n",
       "      <th>max</th>\n",
       "      <td>54.000000</td>\n",
       "      <td>24988.000000</td>\n",
       "      <td>10.000000</td>\n",
       "      <td>9.000000</td>\n",
       "      <td>7.000000</td>\n",
       "      <td>10.000000</td>\n",
       "      <td>1.00000</td>\n",
       "      <td>1867.000000</td>\n",
       "      <td>1830.00000</td>\n",
       "      <td>1783.000000</td>\n",
       "      <td>1823.000000</td>\n",
       "    </tr>\n",
       "  </tbody>\n",
       "</table>\n",
       "</div>"
      ],
      "text/plain": [
       "             idade  salario_atual  nota_avaliacao  qtde_projetos  \\\n",
       "count  2000.000000    2000.000000     2000.000000    2000.000000   \n",
       "mean     37.938500   14801.834500        7.997550       4.984500   \n",
       "std       9.456132    5763.451836        1.157324       2.593188   \n",
       "min      22.000000    5016.000000        6.000000       1.000000   \n",
       "25%      30.000000    9844.250000        7.000000       3.000000   \n",
       "50%      38.000000   14822.500000        8.000000       5.000000   \n",
       "75%      46.000000   19702.500000        9.000000       7.000000   \n",
       "max      54.000000   24988.000000       10.000000       9.000000   \n",
       "\n",
       "       qtde_clientes  nivel_satisfacao_gestor       churn  tempo_empresa  \\\n",
       "count    2000.000000              2000.000000  2000.00000    2000.000000   \n",
       "mean        3.998500                 5.492450     0.14300     954.532000   \n",
       "std         1.987076                 2.609817     0.35016     501.389699   \n",
       "min         1.000000                 1.000000     0.00000      34.000000   \n",
       "25%         2.000000                 3.300000     0.00000     525.000000   \n",
       "50%         4.000000                 5.500000     0.00000     950.500000   \n",
       "75%         6.000000                 7.700000     0.00000    1381.250000   \n",
       "max         7.000000                10.000000     1.00000    1867.000000   \n",
       "\n",
       "       tempo_desde_ultimo_feedback  dias_desde_ultimo_aumento  \\\n",
       "count                   2000.00000                2000.000000   \n",
       "mean                     597.89900                 611.005000   \n",
       "std                      395.59628                 397.623967   \n",
       "min                      111.00000                 112.000000   \n",
       "25%                      267.75000                 273.750000   \n",
       "50%                      496.50000                 511.000000   \n",
       "75%                      837.25000                 870.250000   \n",
       "max                     1830.00000                1783.000000   \n",
       "\n",
       "       dias_desde_ultima_mudanca_cargo  \n",
       "count                      2000.000000  \n",
       "mean                        598.136500  \n",
       "std                         395.911115  \n",
       "min                         111.000000  \n",
       "25%                         271.750000  \n",
       "50%                         488.000000  \n",
       "75%                         831.000000  \n",
       "max                        1823.000000  "
      ]
     },
     "execution_count": 37,
     "metadata": {},
     "output_type": "execute_result"
    }
   ],
   "source": [
    "df.select_dtypes(include=['int64', 'float64']).describe()"
   ]
  },
  {
   "cell_type": "code",
   "execution_count": 39,
   "metadata": {},
   "outputs": [
    {
     "data": {
      "application/vnd.plotly.v1+json": {
       "config": {
        "plotlyServerURL": "https://plot.ly"
       },
       "data": [
        {
         "alignmentgroup": "True",
         "hovertemplate": "churn=%{x}<br>idade=%{y}<extra></extra>",
         "legendgroup": "0",
         "marker": {
          "color": "#636efa"
         },
         "name": "0",
         "notched": false,
         "offsetgroup": "0",
         "orientation": "v",
         "showlegend": true,
         "type": "box",
         "x": {
          "bdata": "AAAAAAAAAAAAAAAAAAAAAAAAAAAAAAAAAAAAAAAAAAAAAAAAAAAAAAAAAAAAAAAAAAAAAAAAAAAAAAAAAAAAAAAAAAAAAAAAAAAAAAAAAAAAAAAAAAAAAAAAAAAAAAAAAAAAAAAAAAAAAAAAAAAAAAAAAAAAAAAAAAAAAAAAAAAAAAAAAAAAAAAAAAAAAAAAAAAAAAAAAAAAAAAAAAAAAAAAAAAAAAAAAAAAAAAAAAAAAAAAAAAAAAAAAAAAAAAAAAAAAAAAAAAAAAAAAAAAAAAAAAAAAAAAAAAAAAAAAAAAAAAAAAAAAAAAAAAAAAAAAAAAAAAAAAAAAAAAAAAAAAAAAAAAAAAAAAAAAAAAAAAAAAAAAAAAAAAAAAAAAAAAAAAAAAAAAAAAAAAAAAAAAAAAAAAAAAAAAAAAAAAAAAAAAAAAAAAAAAAAAAAAAAAAAAAAAAAAAAAAAAAAAAAAAAAAAAAAAAAAAAAAAAAAAAAAAAAAAAAAAAAAAAAAAAAAAAAAAAAAAAAAAAAAAAAAAAAAAAAAAAAAAAAAAAAAAAAAAAAAAAAAAAAAAAAAAAAAAAAAAAAAAAAAAAAAAAAAAAAAAAAAAAAAAAAAAAAAAAAAAAAAAAAAAAAAAAAAAAAAAAAAAAAAAAAAAAAAAAAAAAAAAAAAAAAAAAAAAAAAAAAAAAAAAAAAAAAAAAAAAAAAAAAAAAAAAAAAAAAAAAAAAAAAAAAAAAAAAAAAAAAAAAAAAAAAAAAAAAAAAAAAAAAAAAAAAAAAAAAAAAAAAAAAAAAAAAAAAAAAAAAAAAAAAAAAAAAAAAAAAAAAAAAAAAAAAAAAAAAAAAAAAAAAAAAAAAAAAAAAAAAAAAAAAAAAAAAAAAAAAAAAAAAAAAAAAAAAAAAAAAAAAAAAAAAAAAAAAAAAAAAAAAAAAAAAAAAAAAAAAAAAAAAAAAAAAAAAAAAAAAAAAAAAAAAAAAAAAAAAAAAAAAAAAAAAAAAAAAAAAAAAAAAAAAAAAAAAAAAAAAAAAAAAAAAAAAAAAAAAAAAAAAAAAAAAAAAAAAAAAAAAAAAAAAAAAAAAAAAAAAAAAAAAAAAAAAAAAAAAAAAAAAAAAAAAAAAAAAAAAAAAAAAAAAAAAAAAAAAAAAAAAAAAAAAAAAAAAAAAAAAAAAAAAAAAAAAAAAAAAAAAAAAAAAAAAAAAAAAAAAAAAAAAAAAAAAAAAAAAAAAAAAAAAAAAAAAAAAAAAAAAAAAAAAAAAAAAAAAAAAAAAAAAAAAAAAAAAAAAAAAAAAAAAAAAAAAAAAAAAAAAAAAAAAAAAAAAAAAAAAAAAAAAAAAAAAAAAAAAAAAAAAAAAAAAAAAAAAAAAAAAAAAAAAAAAAAAAAAAAAAAAAAAAAAAAAAAAAAAAAAAAAAAAAAAAAAAAAAAAAAAAAAAAAAAAAAAAAAAAAAAAAAAAAAAAAAAAAAAAAAAAAAAAAAAAAAAAAAAAAAAAAAAAAAAAAAAAAAAAAAAAAAAAAAAAAAAAAAAAAAAAAAAAAAAAAAAAAAAAAAAAAAAAAAAAAAAAAAAAAAAAAAAAAAAAAAAAAAAAAAAAAAAAAAAAAAAAAAAAAAAAAAAAAAAAAAAAAAAAAAAAAAAAAAAAAAAAAAAAAAAAAAAAAAAAAAAAAAAAAAAAAAAAAAAAAAAAAAAAAAAAAAAAAAAAAAAAAAAAAAAAAAAAAAAAAAAAAAAAAAAAAAAAAAAAAAAAAAAAAAAAAAAAAAAAAAAAAAAAAAAAAAAAAAAAAAAAAAAAAAAAAAAAAAAAAAAAAAAAAAAAAAAAAAAAAAAAAAAAAAAAAAAAAAAAAAAAAAAAAAAAAAAAAAAAAAAAAAAAAAAAAAAAAAAAAAAAAAAAAAAAAAAAAAAAAAAAAAAAAAAAAAAAAAAAAAAAAAAAAAAAAAAAAAAAAAAAAAAAAAAAAAAAAAAAAAAAAAAAAAAAAAAAAAAAAAAAAAAAAAAAAAAAAAAAAAAAAAAAAAAAAAAAAAAAAAAAAAAAAAAAAAAAAAAAAAAAAAAAAAAAAAAAAAAAAAAAAAAAAAAAAAAAAAAAAAAAAAAAAAAAAAAAAAAAAAAAAAAAAAAAAAAAAAAAAAAAAAAAAAAAAAAAAAAAAAAAAAAAAAAAAAAAAAAAAAAAAAAAAAAAAAAAAAAAAAAAAAAAAAAAAAAAAAAAAAAAAAAAAAAAAAAAAAAAAAAAAAAAAAAAAAAAAAAAAAAAAAAAAAAAAAAAAAAAAAAAAAAAAAAAAAAAAAAAAAAAAAAAAAAAA==",
          "dtype": "i1"
         },
         "x0": " ",
         "xaxis": "x",
         "y": {
          "bdata": "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",
          "dtype": "i1"
         },
         "y0": " ",
         "yaxis": "y"
        },
        {
         "alignmentgroup": "True",
         "hovertemplate": "churn=%{x}<br>idade=%{y}<extra></extra>",
         "legendgroup": "1",
         "marker": {
          "color": "#EF553B"
         },
         "name": "1",
         "notched": false,
         "offsetgroup": "1",
         "orientation": "v",
         "showlegend": true,
         "type": "box",
         "x": {
          "bdata": "AQEBAQEBAQEBAQEBAQEBAQEBAQEBAQEBAQEBAQEBAQEBAQEBAQEBAQEBAQEBAQEBAQEBAQEBAQEBAQEBAQEBAQEBAQEBAQEBAQEBAQEBAQEBAQEBAQEBAQEBAQEBAQEBAQEBAQEBAQEBAQEBAQEBAQEBAQEBAQEBAQEBAQEBAQEBAQEBAQEBAQEBAQEBAQEBAQEBAQEBAQEBAQEBAQEBAQEBAQEBAQEBAQEBAQEBAQEBAQEBAQEBAQEBAQEBAQEBAQEBAQEBAQEBAQEBAQEBAQEBAQEBAQEBAQEBAQEBAQEBAQEBAQEBAQEBAQEBAQEBAQEBAQEBAQEBAQEBAQEBAQEBAQEBAQEBAQEBAQEBAQEBAQEBAQEBAQEBAQEBAQ==",
          "dtype": "i1"
         },
         "x0": " ",
         "xaxis": "x",
         "y": {
          "bdata": "HS4ZLiQrIykbIhgyMyIuJhkfJhsuMh0nJCwxMTEtKTAqKCYyLDAgNDA0IiMeJBkbHC4WLy4aMyklJCYhMBg2HSErHzMiJBwmGSYsNhscICkgJCImICYyGSQjKyceLCIoMR4pGCwaNDIzGRceNTYbFxgzIycwNh41JTUyJzI1LCsaICorKSoxGSEfLR8qKSolMhYWLDAdGSYiLCUbISUXLRkoKRsdMzYxMzEiGSQjHhcXIjAtKS8iISI0NjEyIR0mIBcwIiQiNC8aKTQhKBgoHzI2JxovGyUdKiolKSc1MisnIxklMRczKCgwIyMpGjM0KS4jGh8YJi8YNSMoNDAsJjIoLyArLy8XIhgeHDEeKysjIRgeGSQZJi0aMScYGg==",
          "dtype": "i1"
         },
         "y0": " ",
         "yaxis": "y"
        }
       ],
       "layout": {
        "boxmode": "overlay",
        "legend": {
         "title": {
          "text": "churn"
         },
         "tracegroupgap": 0
        },
        "template": {
         "data": {
          "bar": [
           {
            "error_x": {
             "color": "#2a3f5f"
            },
            "error_y": {
             "color": "#2a3f5f"
            },
            "marker": {
             "line": {
              "color": "#E5ECF6",
              "width": 0.5
             },
             "pattern": {
              "fillmode": "overlay",
              "size": 10,
              "solidity": 0.2
             }
            },
            "type": "bar"
           }
          ],
          "barpolar": [
           {
            "marker": {
             "line": {
              "color": "#E5ECF6",
              "width": 0.5
             },
             "pattern": {
              "fillmode": "overlay",
              "size": 10,
              "solidity": 0.2
             }
            },
            "type": "barpolar"
           }
          ],
          "carpet": [
           {
            "aaxis": {
             "endlinecolor": "#2a3f5f",
             "gridcolor": "white",
             "linecolor": "white",
             "minorgridcolor": "white",
             "startlinecolor": "#2a3f5f"
            },
            "baxis": {
             "endlinecolor": "#2a3f5f",
             "gridcolor": "white",
             "linecolor": "white",
             "minorgridcolor": "white",
             "startlinecolor": "#2a3f5f"
            },
            "type": "carpet"
           }
          ],
          "choropleth": [
           {
            "colorbar": {
             "outlinewidth": 0,
             "ticks": ""
            },
            "type": "choropleth"
           }
          ],
          "contour": [
           {
            "colorbar": {
             "outlinewidth": 0,
             "ticks": ""
            },
            "colorscale": [
             [
              0,
              "#0d0887"
             ],
             [
              0.1111111111111111,
              "#46039f"
             ],
             [
              0.2222222222222222,
              "#7201a8"
             ],
             [
              0.3333333333333333,
              "#9c179e"
             ],
             [
              0.4444444444444444,
              "#bd3786"
             ],
             [
              0.5555555555555556,
              "#d8576b"
             ],
             [
              0.6666666666666666,
              "#ed7953"
             ],
             [
              0.7777777777777778,
              "#fb9f3a"
             ],
             [
              0.8888888888888888,
              "#fdca26"
             ],
             [
              1,
              "#f0f921"
             ]
            ],
            "type": "contour"
           }
          ],
          "contourcarpet": [
           {
            "colorbar": {
             "outlinewidth": 0,
             "ticks": ""
            },
            "type": "contourcarpet"
           }
          ],
          "heatmap": [
           {
            "colorbar": {
             "outlinewidth": 0,
             "ticks": ""
            },
            "colorscale": [
             [
              0,
              "#0d0887"
             ],
             [
              0.1111111111111111,
              "#46039f"
             ],
             [
              0.2222222222222222,
              "#7201a8"
             ],
             [
              0.3333333333333333,
              "#9c179e"
             ],
             [
              0.4444444444444444,
              "#bd3786"
             ],
             [
              0.5555555555555556,
              "#d8576b"
             ],
             [
              0.6666666666666666,
              "#ed7953"
             ],
             [
              0.7777777777777778,
              "#fb9f3a"
             ],
             [
              0.8888888888888888,
              "#fdca26"
             ],
             [
              1,
              "#f0f921"
             ]
            ],
            "type": "heatmap"
           }
          ],
          "histogram": [
           {
            "marker": {
             "pattern": {
              "fillmode": "overlay",
              "size": 10,
              "solidity": 0.2
             }
            },
            "type": "histogram"
           }
          ],
          "histogram2d": [
           {
            "colorbar": {
             "outlinewidth": 0,
             "ticks": ""
            },
            "colorscale": [
             [
              0,
              "#0d0887"
             ],
             [
              0.1111111111111111,
              "#46039f"
             ],
             [
              0.2222222222222222,
              "#7201a8"
             ],
             [
              0.3333333333333333,
              "#9c179e"
             ],
             [
              0.4444444444444444,
              "#bd3786"
             ],
             [
              0.5555555555555556,
              "#d8576b"
             ],
             [
              0.6666666666666666,
              "#ed7953"
             ],
             [
              0.7777777777777778,
              "#fb9f3a"
             ],
             [
              0.8888888888888888,
              "#fdca26"
             ],
             [
              1,
              "#f0f921"
             ]
            ],
            "type": "histogram2d"
           }
          ],
          "histogram2dcontour": [
           {
            "colorbar": {
             "outlinewidth": 0,
             "ticks": ""
            },
            "colorscale": [
             [
              0,
              "#0d0887"
             ],
             [
              0.1111111111111111,
              "#46039f"
             ],
             [
              0.2222222222222222,
              "#7201a8"
             ],
             [
              0.3333333333333333,
              "#9c179e"
             ],
             [
              0.4444444444444444,
              "#bd3786"
             ],
             [
              0.5555555555555556,
              "#d8576b"
             ],
             [
              0.6666666666666666,
              "#ed7953"
             ],
             [
              0.7777777777777778,
              "#fb9f3a"
             ],
             [
              0.8888888888888888,
              "#fdca26"
             ],
             [
              1,
              "#f0f921"
             ]
            ],
            "type": "histogram2dcontour"
           }
          ],
          "mesh3d": [
           {
            "colorbar": {
             "outlinewidth": 0,
             "ticks": ""
            },
            "type": "mesh3d"
           }
          ],
          "parcoords": [
           {
            "line": {
             "colorbar": {
              "outlinewidth": 0,
              "ticks": ""
             }
            },
            "type": "parcoords"
           }
          ],
          "pie": [
           {
            "automargin": true,
            "type": "pie"
           }
          ],
          "scatter": [
           {
            "fillpattern": {
             "fillmode": "overlay",
             "size": 10,
             "solidity": 0.2
            },
            "type": "scatter"
           }
          ],
          "scatter3d": [
           {
            "line": {
             "colorbar": {
              "outlinewidth": 0,
              "ticks": ""
             }
            },
            "marker": {
             "colorbar": {
              "outlinewidth": 0,
              "ticks": ""
             }
            },
            "type": "scatter3d"
           }
          ],
          "scattercarpet": [
           {
            "marker": {
             "colorbar": {
              "outlinewidth": 0,
              "ticks": ""
             }
            },
            "type": "scattercarpet"
           }
          ],
          "scattergeo": [
           {
            "marker": {
             "colorbar": {
              "outlinewidth": 0,
              "ticks": ""
             }
            },
            "type": "scattergeo"
           }
          ],
          "scattergl": [
           {
            "marker": {
             "colorbar": {
              "outlinewidth": 0,
              "ticks": ""
             }
            },
            "type": "scattergl"
           }
          ],
          "scattermap": [
           {
            "marker": {
             "colorbar": {
              "outlinewidth": 0,
              "ticks": ""
             }
            },
            "type": "scattermap"
           }
          ],
          "scattermapbox": [
           {
            "marker": {
             "colorbar": {
              "outlinewidth": 0,
              "ticks": ""
             }
            },
            "type": "scattermapbox"
           }
          ],
          "scatterpolar": [
           {
            "marker": {
             "colorbar": {
              "outlinewidth": 0,
              "ticks": ""
             }
            },
            "type": "scatterpolar"
           }
          ],
          "scatterpolargl": [
           {
            "marker": {
             "colorbar": {
              "outlinewidth": 0,
              "ticks": ""
             }
            },
            "type": "scatterpolargl"
           }
          ],
          "scatterternary": [
           {
            "marker": {
             "colorbar": {
              "outlinewidth": 0,
              "ticks": ""
             }
            },
            "type": "scatterternary"
           }
          ],
          "surface": [
           {
            "colorbar": {
             "outlinewidth": 0,
             "ticks": ""
            },
            "colorscale": [
             [
              0,
              "#0d0887"
             ],
             [
              0.1111111111111111,
              "#46039f"
             ],
             [
              0.2222222222222222,
              "#7201a8"
             ],
             [
              0.3333333333333333,
              "#9c179e"
             ],
             [
              0.4444444444444444,
              "#bd3786"
             ],
             [
              0.5555555555555556,
              "#d8576b"
             ],
             [
              0.6666666666666666,
              "#ed7953"
             ],
             [
              0.7777777777777778,
              "#fb9f3a"
             ],
             [
              0.8888888888888888,
              "#fdca26"
             ],
             [
              1,
              "#f0f921"
             ]
            ],
            "type": "surface"
           }
          ],
          "table": [
           {
            "cells": {
             "fill": {
              "color": "#EBF0F8"
             },
             "line": {
              "color": "white"
             }
            },
            "header": {
             "fill": {
              "color": "#C8D4E3"
             },
             "line": {
              "color": "white"
             }
            },
            "type": "table"
           }
          ]
         },
         "layout": {
          "annotationdefaults": {
           "arrowcolor": "#2a3f5f",
           "arrowhead": 0,
           "arrowwidth": 1
          },
          "autotypenumbers": "strict",
          "coloraxis": {
           "colorbar": {
            "outlinewidth": 0,
            "ticks": ""
           }
          },
          "colorscale": {
           "diverging": [
            [
             0,
             "#8e0152"
            ],
            [
             0.1,
             "#c51b7d"
            ],
            [
             0.2,
             "#de77ae"
            ],
            [
             0.3,
             "#f1b6da"
            ],
            [
             0.4,
             "#fde0ef"
            ],
            [
             0.5,
             "#f7f7f7"
            ],
            [
             0.6,
             "#e6f5d0"
            ],
            [
             0.7,
             "#b8e186"
            ],
            [
             0.8,
             "#7fbc41"
            ],
            [
             0.9,
             "#4d9221"
            ],
            [
             1,
             "#276419"
            ]
           ],
           "sequential": [
            [
             0,
             "#0d0887"
            ],
            [
             0.1111111111111111,
             "#46039f"
            ],
            [
             0.2222222222222222,
             "#7201a8"
            ],
            [
             0.3333333333333333,
             "#9c179e"
            ],
            [
             0.4444444444444444,
             "#bd3786"
            ],
            [
             0.5555555555555556,
             "#d8576b"
            ],
            [
             0.6666666666666666,
             "#ed7953"
            ],
            [
             0.7777777777777778,
             "#fb9f3a"
            ],
            [
             0.8888888888888888,
             "#fdca26"
            ],
            [
             1,
             "#f0f921"
            ]
           ],
           "sequentialminus": [
            [
             0,
             "#0d0887"
            ],
            [
             0.1111111111111111,
             "#46039f"
            ],
            [
             0.2222222222222222,
             "#7201a8"
            ],
            [
             0.3333333333333333,
             "#9c179e"
            ],
            [
             0.4444444444444444,
             "#bd3786"
            ],
            [
             0.5555555555555556,
             "#d8576b"
            ],
            [
             0.6666666666666666,
             "#ed7953"
            ],
            [
             0.7777777777777778,
             "#fb9f3a"
            ],
            [
             0.8888888888888888,
             "#fdca26"
            ],
            [
             1,
             "#f0f921"
            ]
           ]
          },
          "colorway": [
           "#636efa",
           "#EF553B",
           "#00cc96",
           "#ab63fa",
           "#FFA15A",
           "#19d3f3",
           "#FF6692",
           "#B6E880",
           "#FF97FF",
           "#FECB52"
          ],
          "font": {
           "color": "#2a3f5f"
          },
          "geo": {
           "bgcolor": "white",
           "lakecolor": "white",
           "landcolor": "#E5ECF6",
           "showlakes": true,
           "showland": true,
           "subunitcolor": "white"
          },
          "hoverlabel": {
           "align": "left"
          },
          "hovermode": "closest",
          "mapbox": {
           "style": "light"
          },
          "paper_bgcolor": "white",
          "plot_bgcolor": "#E5ECF6",
          "polar": {
           "angularaxis": {
            "gridcolor": "white",
            "linecolor": "white",
            "ticks": ""
           },
           "bgcolor": "#E5ECF6",
           "radialaxis": {
            "gridcolor": "white",
            "linecolor": "white",
            "ticks": ""
           }
          },
          "scene": {
           "xaxis": {
            "backgroundcolor": "#E5ECF6",
            "gridcolor": "white",
            "gridwidth": 2,
            "linecolor": "white",
            "showbackground": true,
            "ticks": "",
            "zerolinecolor": "white"
           },
           "yaxis": {
            "backgroundcolor": "#E5ECF6",
            "gridcolor": "white",
            "gridwidth": 2,
            "linecolor": "white",
            "showbackground": true,
            "ticks": "",
            "zerolinecolor": "white"
           },
           "zaxis": {
            "backgroundcolor": "#E5ECF6",
            "gridcolor": "white",
            "gridwidth": 2,
            "linecolor": "white",
            "showbackground": true,
            "ticks": "",
            "zerolinecolor": "white"
           }
          },
          "shapedefaults": {
           "line": {
            "color": "#2a3f5f"
           }
          },
          "ternary": {
           "aaxis": {
            "gridcolor": "white",
            "linecolor": "white",
            "ticks": ""
           },
           "baxis": {
            "gridcolor": "white",
            "linecolor": "white",
            "ticks": ""
           },
           "bgcolor": "#E5ECF6",
           "caxis": {
            "gridcolor": "white",
            "linecolor": "white",
            "ticks": ""
           }
          },
          "title": {
           "x": 0.05
          },
          "xaxis": {
           "automargin": true,
           "gridcolor": "white",
           "linecolor": "white",
           "ticks": "",
           "title": {
            "standoff": 15
           },
           "zerolinecolor": "white",
           "zerolinewidth": 2
          },
          "yaxis": {
           "automargin": true,
           "gridcolor": "white",
           "linecolor": "white",
           "ticks": "",
           "title": {
            "standoff": 15
           },
           "zerolinecolor": "white",
           "zerolinewidth": 2
          }
         }
        },
        "title": {
         "text": "Boxplot da coluna idade"
        },
        "xaxis": {
         "anchor": "y",
         "categoryarray": [
          0,
          1
         ],
         "categoryorder": "array",
         "domain": [
          0,
          1
         ],
         "title": {
          "text": "churn"
         }
        },
        "yaxis": {
         "anchor": "x",
         "domain": [
          0,
          1
         ],
         "title": {
          "text": "idade"
         }
        }
       }
      }
     },
     "metadata": {},
     "output_type": "display_data"
    },
    {
     "data": {
      "application/vnd.plotly.v1+json": {
       "config": {
        "plotlyServerURL": "https://plot.ly"
       },
       "data": [
        {
         "alignmentgroup": "True",
         "hovertemplate": "churn=%{x}<br>salario_atual=%{y}<extra></extra>",
         "legendgroup": "0",
         "marker": {
          "color": "#636efa"
         },
         "name": "0",
         "notched": false,
         "offsetgroup": "0",
         "orientation": "v",
         "showlegend": true,
         "type": "box",
         "x": {
          "bdata": "AAAAAAAAAAAAAAAAAAAAAAAAAAAAAAAAAAAAAAAAAAAAAAAAAAAAAAAAAAAAAAAAAAAAAAAAAAAAAAAAAAAAAAAAAAAAAAAAAAAAAAAAAAAAAAAAAAAAAAAAAAAAAAAAAAAAAAAAAAAAAAAAAAAAAAAAAAAAAAAAAAAAAAAAAAAAAAAAAAAAAAAAAAAAAAAAAAAAAAAAAAAAAAAAAAAAAAAAAAAAAAAAAAAAAAAAAAAAAAAAAAAAAAAAAAAAAAAAAAAAAAAAAAAAAAAAAAAAAAAAAAAAAAAAAAAAAAAAAAAAAAAAAAAAAAAAAAAAAAAAAAAAAAAAAAAAAAAAAAAAAAAAAAAAAAAAAAAAAAAAAAAAAAAAAAAAAAAAAAAAAAAAAAAAAAAAAAAAAAAAAAAAAAAAAAAAAAAAAAAAAAAAAAAAAAAAAAAAAAAAAAAAAAAAAAAAAAAAAAAAAAAAAAAAAAAAAAAAAAAAAAAAAAAAAAAAAAAAAAAAAAAAAAAAAAAAAAAAAAAAAAAAAAAAAAAAAAAAAAAAAAAAAAAAAAAAAAAAAAAAAAAAAAAAAAAAAAAAAAAAAAAAAAAAAAAAAAAAAAAAAAAAAAAAAAAAAAAAAAAAAAAAAAAAAAAAAAAAAAAAAAAAAAAAAAAAAAAAAAAAAAAAAAAAAAAAAAAAAAAAAAAAAAAAAAAAAAAAAAAAAAAAAAAAAAAAAAAAAAAAAAAAAAAAAAAAAAAAAAAAAAAAAAAAAAAAAAAAAAAAAAAAAAAAAAAAAAAAAAAAAAAAAAAAAAAAAAAAAAAAAAAAAAAAAAAAAAAAAAAAAAAAAAAAAAAAAAAAAAAAAAAAAAAAAAAAAAAAAAAAAAAAAAAAAAAAAAAAAAAAAAAAAAAAAAAAAAAAAAAAAAAAAAAAAAAAAAAAAAAAAAAAAAAAAAAAAAAAAAAAAAAAAAAAAAAAAAAAAAAAAAAAAAAAAAAAAAAAAAAAAAAAAAAAAAAAAAAAAAAAAAAAAAAAAAAAAAAAAAAAAAAAAAAAAAAAAAAAAAAAAAAAAAAAAAAAAAAAAAAAAAAAAAAAAAAAAAAAAAAAAAAAAAAAAAAAAAAAAAAAAAAAAAAAAAAAAAAAAAAAAAAAAAAAAAAAAAAAAAAAAAAAAAAAAAAAAAAAAAAAAAAAAAAAAAAAAAAAAAAAAAAAAAAAAAAAAAAAAAAAAAAAAAAAAAAAAAAAAAAAAAAAAAAAAAAAAAAAAAAAAAAAAAAAAAAAAAAAAAAAAAAAAAAAAAAAAAAAAAAAAAAAAAAAAAAAAAAAAAAAAAAAAAAAAAAAAAAAAAAAAAAAAAAAAAAAAAAAAAAAAAAAAAAAAAAAAAAAAAAAAAAAAAAAAAAAAAAAAAAAAAAAAAAAAAAAAAAAAAAAAAAAAAAAAAAAAAAAAAAAAAAAAAAAAAAAAAAAAAAAAAAAAAAAAAAAAAAAAAAAAAAAAAAAAAAAAAAAAAAAAAAAAAAAAAAAAAAAAAAAAAAAAAAAAAAAAAAAAAAAAAAAAAAAAAAAAAAAAAAAAAAAAAAAAAAAAAAAAAAAAAAAAAAAAAAAAAAAAAAAAAAAAAAAAAAAAAAAAAAAAAAAAAAAAAAAAAAAAAAAAAAAAAAAAAAAAAAAAAAAAAAAAAAAAAAAAAAAAAAAAAAAAAAAAAAAAAAAAAAAAAAAAAAAAAAAAAAAAAAAAAAAAAAAAAAAAAAAAAAAAAAAAAAAAAAAAAAAAAAAAAAAAAAAAAAAAAAAAAAAAAAAAAAAAAAAAAAAAAAAAAAAAAAAAAAAAAAAAAAAAAAAAAAAAAAAAAAAAAAAAAAAAAAAAAAAAAAAAAAAAAAAAAAAAAAAAAAAAAAAAAAAAAAAAAAAAAAAAAAAAAAAAAAAAAAAAAAAAAAAAAAAAAAAAAAAAAAAAAAAAAAAAAAAAAAAAAAAAAAAAAAAAAAAAAAAAAAAAAAAAAAAAAAAAAAAAAAAAAAAAAAAAAAAAAAAAAAAAAAAAAAAAAAAAAAAAAAAAAAAAAAAAAAAAAAAAAAAAAAAAAAAAAAAAAAAAAAAAAAAAAAAAAAAAAAAAAAAAAAAAAAAAAAAAAAAAAAAAAAAAAAAAAAAAAAAAAAAAAAAAAAAAAAAAAAAAAAAAAAAAAAAAAAAAAAAAAAAAAAAAAAAAAAAAAAAAAAAAAAAAAAAAAAAAAAAAAAAAAAAAAAAAAAAAAAAAAAAAAAAAAAAAAAAAAAAAAAAAAAAAAAAAAAAAAAAAAAAAAAAAAAAAAAAAAAAAAAAAAAAAAAAAA==",
          "dtype": "i1"
         },
         "x0": " ",
         "xaxis": "x",
         "y": {
          "bdata": "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",
          "dtype": "i2"
         },
         "y0": " ",
         "yaxis": "y"
        },
        {
         "alignmentgroup": "True",
         "hovertemplate": "churn=%{x}<br>salario_atual=%{y}<extra></extra>",
         "legendgroup": "1",
         "marker": {
          "color": "#EF553B"
         },
         "name": "1",
         "notched": false,
         "offsetgroup": "1",
         "orientation": "v",
         "showlegend": true,
         "type": "box",
         "x": {
          "bdata": "AQEBAQEBAQEBAQEBAQEBAQEBAQEBAQEBAQEBAQEBAQEBAQEBAQEBAQEBAQEBAQEBAQEBAQEBAQEBAQEBAQEBAQEBAQEBAQEBAQEBAQEBAQEBAQEBAQEBAQEBAQEBAQEBAQEBAQEBAQEBAQEBAQEBAQEBAQEBAQEBAQEBAQEBAQEBAQEBAQEBAQEBAQEBAQEBAQEBAQEBAQEBAQEBAQEBAQEBAQEBAQEBAQEBAQEBAQEBAQEBAQEBAQEBAQEBAQEBAQEBAQEBAQEBAQEBAQEBAQEBAQEBAQEBAQEBAQEBAQEBAQEBAQEBAQEBAQEBAQEBAQEBAQEBAQEBAQEBAQEBAQEBAQEBAQEBAQEBAQEBAQEBAQEBAQEBAQEBAQEBAQ==",
          "dtype": "i1"
         },
         "x0": " ",
         "xaxis": "x",
         "y": {
          "bdata": "HzHqMH88YllnM5M3/hq0XAc5MFqBNtk9glUZOeUtrS4nVB5EAym8IX44mBNBNdY4dVZbJxtAkVE2Rjha7lLfNl0ZWDglFTAqEDXFQXVQ8l/vFcJEXT6XRfQ/KB8aTsYvsUb8VONSmSPbYO4xWDkmJwFECkzKHlFUFBx/U84xUWDMFacnXCLbHZwcUjURINAgiDUrKZg6qkbqGKIkUSlYF4A750vJJyAdxFxfSV0bc09rG1w7Pi1hWKIT9jGjM51WC0vXWFsUpR34JGBEml9cNmYwj0yNT6Mdf1PLOVNFkDvvSCsu4Tk7NXpThksURjsjezKFYc5ElDGmJxJQGh9mJuA3aSHNTmUeWU3VVfoWYCT5Tj5A7E1US4cfYy+rSWpLPS7xE5UcaCUCMnkpQUmPVT5d+hqcFidEkSbHOiwgaznRJXc7D1i6VU8W+CPpKKJKJFG1NUtVFFiYX50n+VQtUIUbSz+cRZEwZBfNGtkyGCpzRHdfwEQvU3MbKky3PkBFExXEKpZZjTrZNDM3sSbQP6VVq1ggXH4pbU13KcFZqTdSHc5A2VOdJZxF7R8dHqc6wE0ZINsUEj34IMpEYR/JWOBFejCsGq5H/U3TGWlIQFdSXmof0TSMIPYUIThzJxQXiDp/F8UxxiGRS9pA6FmvRbg6AjsJFpJhzBo4HEIhpVhYJzgvl1WjJcVGVFSuU5EiNS9EJ3VJwhcKX7If2hnKLchMVVioKNke1x6BU58qtUA9KhJXrBfQLVs1NSE=",
          "dtype": "i2"
         },
         "y0": " ",
         "yaxis": "y"
        }
       ],
       "layout": {
        "boxmode": "overlay",
        "legend": {
         "title": {
          "text": "churn"
         },
         "tracegroupgap": 0
        },
        "template": {
         "data": {
          "bar": [
           {
            "error_x": {
             "color": "#2a3f5f"
            },
            "error_y": {
             "color": "#2a3f5f"
            },
            "marker": {
             "line": {
              "color": "#E5ECF6",
              "width": 0.5
             },
             "pattern": {
              "fillmode": "overlay",
              "size": 10,
              "solidity": 0.2
             }
            },
            "type": "bar"
           }
          ],
          "barpolar": [
           {
            "marker": {
             "line": {
              "color": "#E5ECF6",
              "width": 0.5
             },
             "pattern": {
              "fillmode": "overlay",
              "size": 10,
              "solidity": 0.2
             }
            },
            "type": "barpolar"
           }
          ],
          "carpet": [
           {
            "aaxis": {
             "endlinecolor": "#2a3f5f",
             "gridcolor": "white",
             "linecolor": "white",
             "minorgridcolor": "white",
             "startlinecolor": "#2a3f5f"
            },
            "baxis": {
             "endlinecolor": "#2a3f5f",
             "gridcolor": "white",
             "linecolor": "white",
             "minorgridcolor": "white",
             "startlinecolor": "#2a3f5f"
            },
            "type": "carpet"
           }
          ],
          "choropleth": [
           {
            "colorbar": {
             "outlinewidth": 0,
             "ticks": ""
            },
            "type": "choropleth"
           }
          ],
          "contour": [
           {
            "colorbar": {
             "outlinewidth": 0,
             "ticks": ""
            },
            "colorscale": [
             [
              0,
              "#0d0887"
             ],
             [
              0.1111111111111111,
              "#46039f"
             ],
             [
              0.2222222222222222,
              "#7201a8"
             ],
             [
              0.3333333333333333,
              "#9c179e"
             ],
             [
              0.4444444444444444,
              "#bd3786"
             ],
             [
              0.5555555555555556,
              "#d8576b"
             ],
             [
              0.6666666666666666,
              "#ed7953"
             ],
             [
              0.7777777777777778,
              "#fb9f3a"
             ],
             [
              0.8888888888888888,
              "#fdca26"
             ],
             [
              1,
              "#f0f921"
             ]
            ],
            "type": "contour"
           }
          ],
          "contourcarpet": [
           {
            "colorbar": {
             "outlinewidth": 0,
             "ticks": ""
            },
            "type": "contourcarpet"
           }
          ],
          "heatmap": [
           {
            "colorbar": {
             "outlinewidth": 0,
             "ticks": ""
            },
            "colorscale": [
             [
              0,
              "#0d0887"
             ],
             [
              0.1111111111111111,
              "#46039f"
             ],
             [
              0.2222222222222222,
              "#7201a8"
             ],
             [
              0.3333333333333333,
              "#9c179e"
             ],
             [
              0.4444444444444444,
              "#bd3786"
             ],
             [
              0.5555555555555556,
              "#d8576b"
             ],
             [
              0.6666666666666666,
              "#ed7953"
             ],
             [
              0.7777777777777778,
              "#fb9f3a"
             ],
             [
              0.8888888888888888,
              "#fdca26"
             ],
             [
              1,
              "#f0f921"
             ]
            ],
            "type": "heatmap"
           }
          ],
          "histogram": [
           {
            "marker": {
             "pattern": {
              "fillmode": "overlay",
              "size": 10,
              "solidity": 0.2
             }
            },
            "type": "histogram"
           }
          ],
          "histogram2d": [
           {
            "colorbar": {
             "outlinewidth": 0,
             "ticks": ""
            },
            "colorscale": [
             [
              0,
              "#0d0887"
             ],
             [
              0.1111111111111111,
              "#46039f"
             ],
             [
              0.2222222222222222,
              "#7201a8"
             ],
             [
              0.3333333333333333,
              "#9c179e"
             ],
             [
              0.4444444444444444,
              "#bd3786"
             ],
             [
              0.5555555555555556,
              "#d8576b"
             ],
             [
              0.6666666666666666,
              "#ed7953"
             ],
             [
              0.7777777777777778,
              "#fb9f3a"
             ],
             [
              0.8888888888888888,
              "#fdca26"
             ],
             [
              1,
              "#f0f921"
             ]
            ],
            "type": "histogram2d"
           }
          ],
          "histogram2dcontour": [
           {
            "colorbar": {
             "outlinewidth": 0,
             "ticks": ""
            },
            "colorscale": [
             [
              0,
              "#0d0887"
             ],
             [
              0.1111111111111111,
              "#46039f"
             ],
             [
              0.2222222222222222,
              "#7201a8"
             ],
             [
              0.3333333333333333,
              "#9c179e"
             ],
             [
              0.4444444444444444,
              "#bd3786"
             ],
             [
              0.5555555555555556,
              "#d8576b"
             ],
             [
              0.6666666666666666,
              "#ed7953"
             ],
             [
              0.7777777777777778,
              "#fb9f3a"
             ],
             [
              0.8888888888888888,
              "#fdca26"
             ],
             [
              1,
              "#f0f921"
             ]
            ],
            "type": "histogram2dcontour"
           }
          ],
          "mesh3d": [
           {
            "colorbar": {
             "outlinewidth": 0,
             "ticks": ""
            },
            "type": "mesh3d"
           }
          ],
          "parcoords": [
           {
            "line": {
             "colorbar": {
              "outlinewidth": 0,
              "ticks": ""
             }
            },
            "type": "parcoords"
           }
          ],
          "pie": [
           {
            "automargin": true,
            "type": "pie"
           }
          ],
          "scatter": [
           {
            "fillpattern": {
             "fillmode": "overlay",
             "size": 10,
             "solidity": 0.2
            },
            "type": "scatter"
           }
          ],
          "scatter3d": [
           {
            "line": {
             "colorbar": {
              "outlinewidth": 0,
              "ticks": ""
             }
            },
            "marker": {
             "colorbar": {
              "outlinewidth": 0,
              "ticks": ""
             }
            },
            "type": "scatter3d"
           }
          ],
          "scattercarpet": [
           {
            "marker": {
             "colorbar": {
              "outlinewidth": 0,
              "ticks": ""
             }
            },
            "type": "scattercarpet"
           }
          ],
          "scattergeo": [
           {
            "marker": {
             "colorbar": {
              "outlinewidth": 0,
              "ticks": ""
             }
            },
            "type": "scattergeo"
           }
          ],
          "scattergl": [
           {
            "marker": {
             "colorbar": {
              "outlinewidth": 0,
              "ticks": ""
             }
            },
            "type": "scattergl"
           }
          ],
          "scattermap": [
           {
            "marker": {
             "colorbar": {
              "outlinewidth": 0,
              "ticks": ""
             }
            },
            "type": "scattermap"
           }
          ],
          "scattermapbox": [
           {
            "marker": {
             "colorbar": {
              "outlinewidth": 0,
              "ticks": ""
             }
            },
            "type": "scattermapbox"
           }
          ],
          "scatterpolar": [
           {
            "marker": {
             "colorbar": {
              "outlinewidth": 0,
              "ticks": ""
             }
            },
            "type": "scatterpolar"
           }
          ],
          "scatterpolargl": [
           {
            "marker": {
             "colorbar": {
              "outlinewidth": 0,
              "ticks": ""
             }
            },
            "type": "scatterpolargl"
           }
          ],
          "scatterternary": [
           {
            "marker": {
             "colorbar": {
              "outlinewidth": 0,
              "ticks": ""
             }
            },
            "type": "scatterternary"
           }
          ],
          "surface": [
           {
            "colorbar": {
             "outlinewidth": 0,
             "ticks": ""
            },
            "colorscale": [
             [
              0,
              "#0d0887"
             ],
             [
              0.1111111111111111,
              "#46039f"
             ],
             [
              0.2222222222222222,
              "#7201a8"
             ],
             [
              0.3333333333333333,
              "#9c179e"
             ],
             [
              0.4444444444444444,
              "#bd3786"
             ],
             [
              0.5555555555555556,
              "#d8576b"
             ],
             [
              0.6666666666666666,
              "#ed7953"
             ],
             [
              0.7777777777777778,
              "#fb9f3a"
             ],
             [
              0.8888888888888888,
              "#fdca26"
             ],
             [
              1,
              "#f0f921"
             ]
            ],
            "type": "surface"
           }
          ],
          "table": [
           {
            "cells": {
             "fill": {
              "color": "#EBF0F8"
             },
             "line": {
              "color": "white"
             }
            },
            "header": {
             "fill": {
              "color": "#C8D4E3"
             },
             "line": {
              "color": "white"
             }
            },
            "type": "table"
           }
          ]
         },
         "layout": {
          "annotationdefaults": {
           "arrowcolor": "#2a3f5f",
           "arrowhead": 0,
           "arrowwidth": 1
          },
          "autotypenumbers": "strict",
          "coloraxis": {
           "colorbar": {
            "outlinewidth": 0,
            "ticks": ""
           }
          },
          "colorscale": {
           "diverging": [
            [
             0,
             "#8e0152"
            ],
            [
             0.1,
             "#c51b7d"
            ],
            [
             0.2,
             "#de77ae"
            ],
            [
             0.3,
             "#f1b6da"
            ],
            [
             0.4,
             "#fde0ef"
            ],
            [
             0.5,
             "#f7f7f7"
            ],
            [
             0.6,
             "#e6f5d0"
            ],
            [
             0.7,
             "#b8e186"
            ],
            [
             0.8,
             "#7fbc41"
            ],
            [
             0.9,
             "#4d9221"
            ],
            [
             1,
             "#276419"
            ]
           ],
           "sequential": [
            [
             0,
             "#0d0887"
            ],
            [
             0.1111111111111111,
             "#46039f"
            ],
            [
             0.2222222222222222,
             "#7201a8"
            ],
            [
             0.3333333333333333,
             "#9c179e"
            ],
            [
             0.4444444444444444,
             "#bd3786"
            ],
            [
             0.5555555555555556,
             "#d8576b"
            ],
            [
             0.6666666666666666,
             "#ed7953"
            ],
            [
             0.7777777777777778,
             "#fb9f3a"
            ],
            [
             0.8888888888888888,
             "#fdca26"
            ],
            [
             1,
             "#f0f921"
            ]
           ],
           "sequentialminus": [
            [
             0,
             "#0d0887"
            ],
            [
             0.1111111111111111,
             "#46039f"
            ],
            [
             0.2222222222222222,
             "#7201a8"
            ],
            [
             0.3333333333333333,
             "#9c179e"
            ],
            [
             0.4444444444444444,
             "#bd3786"
            ],
            [
             0.5555555555555556,
             "#d8576b"
            ],
            [
             0.6666666666666666,
             "#ed7953"
            ],
            [
             0.7777777777777778,
             "#fb9f3a"
            ],
            [
             0.8888888888888888,
             "#fdca26"
            ],
            [
             1,
             "#f0f921"
            ]
           ]
          },
          "colorway": [
           "#636efa",
           "#EF553B",
           "#00cc96",
           "#ab63fa",
           "#FFA15A",
           "#19d3f3",
           "#FF6692",
           "#B6E880",
           "#FF97FF",
           "#FECB52"
          ],
          "font": {
           "color": "#2a3f5f"
          },
          "geo": {
           "bgcolor": "white",
           "lakecolor": "white",
           "landcolor": "#E5ECF6",
           "showlakes": true,
           "showland": true,
           "subunitcolor": "white"
          },
          "hoverlabel": {
           "align": "left"
          },
          "hovermode": "closest",
          "mapbox": {
           "style": "light"
          },
          "paper_bgcolor": "white",
          "plot_bgcolor": "#E5ECF6",
          "polar": {
           "angularaxis": {
            "gridcolor": "white",
            "linecolor": "white",
            "ticks": ""
           },
           "bgcolor": "#E5ECF6",
           "radialaxis": {
            "gridcolor": "white",
            "linecolor": "white",
            "ticks": ""
           }
          },
          "scene": {
           "xaxis": {
            "backgroundcolor": "#E5ECF6",
            "gridcolor": "white",
            "gridwidth": 2,
            "linecolor": "white",
            "showbackground": true,
            "ticks": "",
            "zerolinecolor": "white"
           },
           "yaxis": {
            "backgroundcolor": "#E5ECF6",
            "gridcolor": "white",
            "gridwidth": 2,
            "linecolor": "white",
            "showbackground": true,
            "ticks": "",
            "zerolinecolor": "white"
           },
           "zaxis": {
            "backgroundcolor": "#E5ECF6",
            "gridcolor": "white",
            "gridwidth": 2,
            "linecolor": "white",
            "showbackground": true,
            "ticks": "",
            "zerolinecolor": "white"
           }
          },
          "shapedefaults": {
           "line": {
            "color": "#2a3f5f"
           }
          },
          "ternary": {
           "aaxis": {
            "gridcolor": "white",
            "linecolor": "white",
            "ticks": ""
           },
           "baxis": {
            "gridcolor": "white",
            "linecolor": "white",
            "ticks": ""
           },
           "bgcolor": "#E5ECF6",
           "caxis": {
            "gridcolor": "white",
            "linecolor": "white",
            "ticks": ""
           }
          },
          "title": {
           "x": 0.05
          },
          "xaxis": {
           "automargin": true,
           "gridcolor": "white",
           "linecolor": "white",
           "ticks": "",
           "title": {
            "standoff": 15
           },
           "zerolinecolor": "white",
           "zerolinewidth": 2
          },
          "yaxis": {
           "automargin": true,
           "gridcolor": "white",
           "linecolor": "white",
           "ticks": "",
           "title": {
            "standoff": 15
           },
           "zerolinecolor": "white",
           "zerolinewidth": 2
          }
         }
        },
        "title": {
         "text": "Boxplot da coluna salario_atual"
        },
        "xaxis": {
         "anchor": "y",
         "categoryarray": [
          0,
          1
         ],
         "categoryorder": "array",
         "domain": [
          0,
          1
         ],
         "title": {
          "text": "churn"
         }
        },
        "yaxis": {
         "anchor": "x",
         "domain": [
          0,
          1
         ],
         "title": {
          "text": "salario_atual"
         }
        }
       }
      }
     },
     "metadata": {},
     "output_type": "display_data"
    },
    {
     "data": {
      "application/vnd.plotly.v1+json": {
       "config": {
        "plotlyServerURL": "https://plot.ly"
       },
       "data": [
        {
         "alignmentgroup": "True",
         "hovertemplate": "churn=%{x}<br>nota_avaliacao=%{y}<extra></extra>",
         "legendgroup": "0",
         "marker": {
          "color": "#636efa"
         },
         "name": "0",
         "notched": false,
         "offsetgroup": "0",
         "orientation": "v",
         "showlegend": true,
         "type": "box",
         "x": {
          "bdata": "AAAAAAAAAAAAAAAAAAAAAAAAAAAAAAAAAAAAAAAAAAAAAAAAAAAAAAAAAAAAAAAAAAAAAAAAAAAAAAAAAAAAAAAAAAAAAAAAAAAAAAAAAAAAAAAAAAAAAAAAAAAAAAAAAAAAAAAAAAAAAAAAAAAAAAAAAAAAAAAAAAAAAAAAAAAAAAAAAAAAAAAAAAAAAAAAAAAAAAAAAAAAAAAAAAAAAAAAAAAAAAAAAAAAAAAAAAAAAAAAAAAAAAAAAAAAAAAAAAAAAAAAAAAAAAAAAAAAAAAAAAAAAAAAAAAAAAAAAAAAAAAAAAAAAAAAAAAAAAAAAAAAAAAAAAAAAAAAAAAAAAAAAAAAAAAAAAAAAAAAAAAAAAAAAAAAAAAAAAAAAAAAAAAAAAAAAAAAAAAAAAAAAAAAAAAAAAAAAAAAAAAAAAAAAAAAAAAAAAAAAAAAAAAAAAAAAAAAAAAAAAAAAAAAAAAAAAAAAAAAAAAAAAAAAAAAAAAAAAAAAAAAAAAAAAAAAAAAAAAAAAAAAAAAAAAAAAAAAAAAAAAAAAAAAAAAAAAAAAAAAAAAAAAAAAAAAAAAAAAAAAAAAAAAAAAAAAAAAAAAAAAAAAAAAAAAAAAAAAAAAAAAAAAAAAAAAAAAAAAAAAAAAAAAAAAAAAAAAAAAAAAAAAAAAAAAAAAAAAAAAAAAAAAAAAAAAAAAAAAAAAAAAAAAAAAAAAAAAAAAAAAAAAAAAAAAAAAAAAAAAAAAAAAAAAAAAAAAAAAAAAAAAAAAAAAAAAAAAAAAAAAAAAAAAAAAAAAAAAAAAAAAAAAAAAAAAAAAAAAAAAAAAAAAAAAAAAAAAAAAAAAAAAAAAAAAAAAAAAAAAAAAAAAAAAAAAAAAAAAAAAAAAAAAAAAAAAAAAAAAAAAAAAAAAAAAAAAAAAAAAAAAAAAAAAAAAAAAAAAAAAAAAAAAAAAAAAAAAAAAAAAAAAAAAAAAAAAAAAAAAAAAAAAAAAAAAAAAAAAAAAAAAAAAAAAAAAAAAAAAAAAAAAAAAAAAAAAAAAAAAAAAAAAAAAAAAAAAAAAAAAAAAAAAAAAAAAAAAAAAAAAAAAAAAAAAAAAAAAAAAAAAAAAAAAAAAAAAAAAAAAAAAAAAAAAAAAAAAAAAAAAAAAAAAAAAAAAAAAAAAAAAAAAAAAAAAAAAAAAAAAAAAAAAAAAAAAAAAAAAAAAAAAAAAAAAAAAAAAAAAAAAAAAAAAAAAAAAAAAAAAAAAAAAAAAAAAAAAAAAAAAAAAAAAAAAAAAAAAAAAAAAAAAAAAAAAAAAAAAAAAAAAAAAAAAAAAAAAAAAAAAAAAAAAAAAAAAAAAAAAAAAAAAAAAAAAAAAAAAAAAAAAAAAAAAAAAAAAAAAAAAAAAAAAAAAAAAAAAAAAAAAAAAAAAAAAAAAAAAAAAAAAAAAAAAAAAAAAAAAAAAAAAAAAAAAAAAAAAAAAAAAAAAAAAAAAAAAAAAAAAAAAAAAAAAAAAAAAAAAAAAAAAAAAAAAAAAAAAAAAAAAAAAAAAAAAAAAAAAAAAAAAAAAAAAAAAAAAAAAAAAAAAAAAAAAAAAAAAAAAAAAAAAAAAAAAAAAAAAAAAAAAAAAAAAAAAAAAAAAAAAAAAAAAAAAAAAAAAAAAAAAAAAAAAAAAAAAAAAAAAAAAAAAAAAAAAAAAAAAAAAAAAAAAAAAAAAAAAAAAAAAAAAAAAAAAAAAAAAAAAAAAAAAAAAAAAAAAAAAAAAAAAAAAAAAAAAAAAAAAAAAAAAAAAAAAAAAAAAAAAAAAAAAAAAAAAAAAAAAAAAAAAAAAAAAAAAAAAAAAAAAAAAAAAAAAAAAAAAAAAAAAAAAAAAAAAAAAAAAAAAAAAAAAAAAAAAAAAAAAAAAAAAAAAAAAAAAAAAAAAAAAAAAAAAAAAAAAAAAAAAAAAAAAAAAAAAAAAAAAAAAAAAAAAAAAAAAAAAAAAAAAAAAAAAAAAAAAAAAAAAAAAAAAAAAAAAAAAAAAAAAAAAAAAAAAAAAAAAAAAAAAAAAAAAAAAAAAAAAAAAAAAAAAAAAAAAAAAAAAAAAAAAAAAAAAAAAAAAAAAAAAAAAAAAAAAAAAAAAAAAAAAAAAAAAAAAAAAAAAAAAAAAAAAAAAAAAAAAAAAAAAAAAAAAAAAAAAAAAAAAAAAAAAAAAAAAAAAAAAAAAAAAAAAAAAAAAAAAAAAAAAAAAAAAAAAAAAAAAAAAAAAAAAAAAAAAAAAAAAAAAAAAAAAAAAAAAAAAAAAAAAAAAAAAAAAAAAAAAAAAAAA==",
          "dtype": "i1"
         },
         "x0": " ",
         "xaxis": "x",
         "y": {
          "bdata": "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",
          "dtype": "f8"
         },
         "y0": " ",
         "yaxis": "y"
        },
        {
         "alignmentgroup": "True",
         "hovertemplate": "churn=%{x}<br>nota_avaliacao=%{y}<extra></extra>",
         "legendgroup": "1",
         "marker": {
          "color": "#EF553B"
         },
         "name": "1",
         "notched": false,
         "offsetgroup": "1",
         "orientation": "v",
         "showlegend": true,
         "type": "box",
         "x": {
          "bdata": "AQEBAQEBAQEBAQEBAQEBAQEBAQEBAQEBAQEBAQEBAQEBAQEBAQEBAQEBAQEBAQEBAQEBAQEBAQEBAQEBAQEBAQEBAQEBAQEBAQEBAQEBAQEBAQEBAQEBAQEBAQEBAQEBAQEBAQEBAQEBAQEBAQEBAQEBAQEBAQEBAQEBAQEBAQEBAQEBAQEBAQEBAQEBAQEBAQEBAQEBAQEBAQEBAQEBAQEBAQEBAQEBAQEBAQEBAQEBAQEBAQEBAQEBAQEBAQEBAQEBAQEBAQEBAQEBAQEBAQEBAQEBAQEBAQEBAQEBAQEBAQEBAQEBAQEBAQEBAQEBAQEBAQEBAQEBAQEBAQEBAQEBAQEBAQEBAQEBAQEBAQEBAQEBAQEBAQEBAQEBAQ==",
          "dtype": "i1"
         },
         "x0": " ",
         "xaxis": "x",
         "y": {
          "bdata": "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",
          "dtype": "f8"
         },
         "y0": " ",
         "yaxis": "y"
        }
       ],
       "layout": {
        "boxmode": "overlay",
        "legend": {
         "title": {
          "text": "churn"
         },
         "tracegroupgap": 0
        },
        "template": {
         "data": {
          "bar": [
           {
            "error_x": {
             "color": "#2a3f5f"
            },
            "error_y": {
             "color": "#2a3f5f"
            },
            "marker": {
             "line": {
              "color": "#E5ECF6",
              "width": 0.5
             },
             "pattern": {
              "fillmode": "overlay",
              "size": 10,
              "solidity": 0.2
             }
            },
            "type": "bar"
           }
          ],
          "barpolar": [
           {
            "marker": {
             "line": {
              "color": "#E5ECF6",
              "width": 0.5
             },
             "pattern": {
              "fillmode": "overlay",
              "size": 10,
              "solidity": 0.2
             }
            },
            "type": "barpolar"
           }
          ],
          "carpet": [
           {
            "aaxis": {
             "endlinecolor": "#2a3f5f",
             "gridcolor": "white",
             "linecolor": "white",
             "minorgridcolor": "white",
             "startlinecolor": "#2a3f5f"
            },
            "baxis": {
             "endlinecolor": "#2a3f5f",
             "gridcolor": "white",
             "linecolor": "white",
             "minorgridcolor": "white",
             "startlinecolor": "#2a3f5f"
            },
            "type": "carpet"
           }
          ],
          "choropleth": [
           {
            "colorbar": {
             "outlinewidth": 0,
             "ticks": ""
            },
            "type": "choropleth"
           }
          ],
          "contour": [
           {
            "colorbar": {
             "outlinewidth": 0,
             "ticks": ""
            },
            "colorscale": [
             [
              0,
              "#0d0887"
             ],
             [
              0.1111111111111111,
              "#46039f"
             ],
             [
              0.2222222222222222,
              "#7201a8"
             ],
             [
              0.3333333333333333,
              "#9c179e"
             ],
             [
              0.4444444444444444,
              "#bd3786"
             ],
             [
              0.5555555555555556,
              "#d8576b"
             ],
             [
              0.6666666666666666,
              "#ed7953"
             ],
             [
              0.7777777777777778,
              "#fb9f3a"
             ],
             [
              0.8888888888888888,
              "#fdca26"
             ],
             [
              1,
              "#f0f921"
             ]
            ],
            "type": "contour"
           }
          ],
          "contourcarpet": [
           {
            "colorbar": {
             "outlinewidth": 0,
             "ticks": ""
            },
            "type": "contourcarpet"
           }
          ],
          "heatmap": [
           {
            "colorbar": {
             "outlinewidth": 0,
             "ticks": ""
            },
            "colorscale": [
             [
              0,
              "#0d0887"
             ],
             [
              0.1111111111111111,
              "#46039f"
             ],
             [
              0.2222222222222222,
              "#7201a8"
             ],
             [
              0.3333333333333333,
              "#9c179e"
             ],
             [
              0.4444444444444444,
              "#bd3786"
             ],
             [
              0.5555555555555556,
              "#d8576b"
             ],
             [
              0.6666666666666666,
              "#ed7953"
             ],
             [
              0.7777777777777778,
              "#fb9f3a"
             ],
             [
              0.8888888888888888,
              "#fdca26"
             ],
             [
              1,
              "#f0f921"
             ]
            ],
            "type": "heatmap"
           }
          ],
          "histogram": [
           {
            "marker": {
             "pattern": {
              "fillmode": "overlay",
              "size": 10,
              "solidity": 0.2
             }
            },
            "type": "histogram"
           }
          ],
          "histogram2d": [
           {
            "colorbar": {
             "outlinewidth": 0,
             "ticks": ""
            },
            "colorscale": [
             [
              0,
              "#0d0887"
             ],
             [
              0.1111111111111111,
              "#46039f"
             ],
             [
              0.2222222222222222,
              "#7201a8"
             ],
             [
              0.3333333333333333,
              "#9c179e"
             ],
             [
              0.4444444444444444,
              "#bd3786"
             ],
             [
              0.5555555555555556,
              "#d8576b"
             ],
             [
              0.6666666666666666,
              "#ed7953"
             ],
             [
              0.7777777777777778,
              "#fb9f3a"
             ],
             [
              0.8888888888888888,
              "#fdca26"
             ],
             [
              1,
              "#f0f921"
             ]
            ],
            "type": "histogram2d"
           }
          ],
          "histogram2dcontour": [
           {
            "colorbar": {
             "outlinewidth": 0,
             "ticks": ""
            },
            "colorscale": [
             [
              0,
              "#0d0887"
             ],
             [
              0.1111111111111111,
              "#46039f"
             ],
             [
              0.2222222222222222,
              "#7201a8"
             ],
             [
              0.3333333333333333,
              "#9c179e"
             ],
             [
              0.4444444444444444,
              "#bd3786"
             ],
             [
              0.5555555555555556,
              "#d8576b"
             ],
             [
              0.6666666666666666,
              "#ed7953"
             ],
             [
              0.7777777777777778,
              "#fb9f3a"
             ],
             [
              0.8888888888888888,
              "#fdca26"
             ],
             [
              1,
              "#f0f921"
             ]
            ],
            "type": "histogram2dcontour"
           }
          ],
          "mesh3d": [
           {
            "colorbar": {
             "outlinewidth": 0,
             "ticks": ""
            },
            "type": "mesh3d"
           }
          ],
          "parcoords": [
           {
            "line": {
             "colorbar": {
              "outlinewidth": 0,
              "ticks": ""
             }
            },
            "type": "parcoords"
           }
          ],
          "pie": [
           {
            "automargin": true,
            "type": "pie"
           }
          ],
          "scatter": [
           {
            "fillpattern": {
             "fillmode": "overlay",
             "size": 10,
             "solidity": 0.2
            },
            "type": "scatter"
           }
          ],
          "scatter3d": [
           {
            "line": {
             "colorbar": {
              "outlinewidth": 0,
              "ticks": ""
             }
            },
            "marker": {
             "colorbar": {
              "outlinewidth": 0,
              "ticks": ""
             }
            },
            "type": "scatter3d"
           }
          ],
          "scattercarpet": [
           {
            "marker": {
             "colorbar": {
              "outlinewidth": 0,
              "ticks": ""
             }
            },
            "type": "scattercarpet"
           }
          ],
          "scattergeo": [
           {
            "marker": {
             "colorbar": {
              "outlinewidth": 0,
              "ticks": ""
             }
            },
            "type": "scattergeo"
           }
          ],
          "scattergl": [
           {
            "marker": {
             "colorbar": {
              "outlinewidth": 0,
              "ticks": ""
             }
            },
            "type": "scattergl"
           }
          ],
          "scattermap": [
           {
            "marker": {
             "colorbar": {
              "outlinewidth": 0,
              "ticks": ""
             }
            },
            "type": "scattermap"
           }
          ],
          "scattermapbox": [
           {
            "marker": {
             "colorbar": {
              "outlinewidth": 0,
              "ticks": ""
             }
            },
            "type": "scattermapbox"
           }
          ],
          "scatterpolar": [
           {
            "marker": {
             "colorbar": {
              "outlinewidth": 0,
              "ticks": ""
             }
            },
            "type": "scatterpolar"
           }
          ],
          "scatterpolargl": [
           {
            "marker": {
             "colorbar": {
              "outlinewidth": 0,
              "ticks": ""
             }
            },
            "type": "scatterpolargl"
           }
          ],
          "scatterternary": [
           {
            "marker": {
             "colorbar": {
              "outlinewidth": 0,
              "ticks": ""
             }
            },
            "type": "scatterternary"
           }
          ],
          "surface": [
           {
            "colorbar": {
             "outlinewidth": 0,
             "ticks": ""
            },
            "colorscale": [
             [
              0,
              "#0d0887"
             ],
             [
              0.1111111111111111,
              "#46039f"
             ],
             [
              0.2222222222222222,
              "#7201a8"
             ],
             [
              0.3333333333333333,
              "#9c179e"
             ],
             [
              0.4444444444444444,
              "#bd3786"
             ],
             [
              0.5555555555555556,
              "#d8576b"
             ],
             [
              0.6666666666666666,
              "#ed7953"
             ],
             [
              0.7777777777777778,
              "#fb9f3a"
             ],
             [
              0.8888888888888888,
              "#fdca26"
             ],
             [
              1,
              "#f0f921"
             ]
            ],
            "type": "surface"
           }
          ],
          "table": [
           {
            "cells": {
             "fill": {
              "color": "#EBF0F8"
             },
             "line": {
              "color": "white"
             }
            },
            "header": {
             "fill": {
              "color": "#C8D4E3"
             },
             "line": {
              "color": "white"
             }
            },
            "type": "table"
           }
          ]
         },
         "layout": {
          "annotationdefaults": {
           "arrowcolor": "#2a3f5f",
           "arrowhead": 0,
           "arrowwidth": 1
          },
          "autotypenumbers": "strict",
          "coloraxis": {
           "colorbar": {
            "outlinewidth": 0,
            "ticks": ""
           }
          },
          "colorscale": {
           "diverging": [
            [
             0,
             "#8e0152"
            ],
            [
             0.1,
             "#c51b7d"
            ],
            [
             0.2,
             "#de77ae"
            ],
            [
             0.3,
             "#f1b6da"
            ],
            [
             0.4,
             "#fde0ef"
            ],
            [
             0.5,
             "#f7f7f7"
            ],
            [
             0.6,
             "#e6f5d0"
            ],
            [
             0.7,
             "#b8e186"
            ],
            [
             0.8,
             "#7fbc41"
            ],
            [
             0.9,
             "#4d9221"
            ],
            [
             1,
             "#276419"
            ]
           ],
           "sequential": [
            [
             0,
             "#0d0887"
            ],
            [
             0.1111111111111111,
             "#46039f"
            ],
            [
             0.2222222222222222,
             "#7201a8"
            ],
            [
             0.3333333333333333,
             "#9c179e"
            ],
            [
             0.4444444444444444,
             "#bd3786"
            ],
            [
             0.5555555555555556,
             "#d8576b"
            ],
            [
             0.6666666666666666,
             "#ed7953"
            ],
            [
             0.7777777777777778,
             "#fb9f3a"
            ],
            [
             0.8888888888888888,
             "#fdca26"
            ],
            [
             1,
             "#f0f921"
            ]
           ],
           "sequentialminus": [
            [
             0,
             "#0d0887"
            ],
            [
             0.1111111111111111,
             "#46039f"
            ],
            [
             0.2222222222222222,
             "#7201a8"
            ],
            [
             0.3333333333333333,
             "#9c179e"
            ],
            [
             0.4444444444444444,
             "#bd3786"
            ],
            [
             0.5555555555555556,
             "#d8576b"
            ],
            [
             0.6666666666666666,
             "#ed7953"
            ],
            [
             0.7777777777777778,
             "#fb9f3a"
            ],
            [
             0.8888888888888888,
             "#fdca26"
            ],
            [
             1,
             "#f0f921"
            ]
           ]
          },
          "colorway": [
           "#636efa",
           "#EF553B",
           "#00cc96",
           "#ab63fa",
           "#FFA15A",
           "#19d3f3",
           "#FF6692",
           "#B6E880",
           "#FF97FF",
           "#FECB52"
          ],
          "font": {
           "color": "#2a3f5f"
          },
          "geo": {
           "bgcolor": "white",
           "lakecolor": "white",
           "landcolor": "#E5ECF6",
           "showlakes": true,
           "showland": true,
           "subunitcolor": "white"
          },
          "hoverlabel": {
           "align": "left"
          },
          "hovermode": "closest",
          "mapbox": {
           "style": "light"
          },
          "paper_bgcolor": "white",
          "plot_bgcolor": "#E5ECF6",
          "polar": {
           "angularaxis": {
            "gridcolor": "white",
            "linecolor": "white",
            "ticks": ""
           },
           "bgcolor": "#E5ECF6",
           "radialaxis": {
            "gridcolor": "white",
            "linecolor": "white",
            "ticks": ""
           }
          },
          "scene": {
           "xaxis": {
            "backgroundcolor": "#E5ECF6",
            "gridcolor": "white",
            "gridwidth": 2,
            "linecolor": "white",
            "showbackground": true,
            "ticks": "",
            "zerolinecolor": "white"
           },
           "yaxis": {
            "backgroundcolor": "#E5ECF6",
            "gridcolor": "white",
            "gridwidth": 2,
            "linecolor": "white",
            "showbackground": true,
            "ticks": "",
            "zerolinecolor": "white"
           },
           "zaxis": {
            "backgroundcolor": "#E5ECF6",
            "gridcolor": "white",
            "gridwidth": 2,
            "linecolor": "white",
            "showbackground": true,
            "ticks": "",
            "zerolinecolor": "white"
           }
          },
          "shapedefaults": {
           "line": {
            "color": "#2a3f5f"
           }
          },
          "ternary": {
           "aaxis": {
            "gridcolor": "white",
            "linecolor": "white",
            "ticks": ""
           },
           "baxis": {
            "gridcolor": "white",
            "linecolor": "white",
            "ticks": ""
           },
           "bgcolor": "#E5ECF6",
           "caxis": {
            "gridcolor": "white",
            "linecolor": "white",
            "ticks": ""
           }
          },
          "title": {
           "x": 0.05
          },
          "xaxis": {
           "automargin": true,
           "gridcolor": "white",
           "linecolor": "white",
           "ticks": "",
           "title": {
            "standoff": 15
           },
           "zerolinecolor": "white",
           "zerolinewidth": 2
          },
          "yaxis": {
           "automargin": true,
           "gridcolor": "white",
           "linecolor": "white",
           "ticks": "",
           "title": {
            "standoff": 15
           },
           "zerolinecolor": "white",
           "zerolinewidth": 2
          }
         }
        },
        "title": {
         "text": "Boxplot da coluna nota_avaliacao"
        },
        "xaxis": {
         "anchor": "y",
         "categoryarray": [
          0,
          1
         ],
         "categoryorder": "array",
         "domain": [
          0,
          1
         ],
         "title": {
          "text": "churn"
         }
        },
        "yaxis": {
         "anchor": "x",
         "domain": [
          0,
          1
         ],
         "title": {
          "text": "nota_avaliacao"
         }
        }
       }
      }
     },
     "metadata": {},
     "output_type": "display_data"
    },
    {
     "data": {
      "application/vnd.plotly.v1+json": {
       "config": {
        "plotlyServerURL": "https://plot.ly"
       },
       "data": [
        {
         "alignmentgroup": "True",
         "hovertemplate": "churn=%{x}<br>qtde_projetos=%{y}<extra></extra>",
         "legendgroup": "0",
         "marker": {
          "color": "#636efa"
         },
         "name": "0",
         "notched": false,
         "offsetgroup": "0",
         "orientation": "v",
         "showlegend": true,
         "type": "box",
         "x": {
          "bdata": "AAAAAAAAAAAAAAAAAAAAAAAAAAAAAAAAAAAAAAAAAAAAAAAAAAAAAAAAAAAAAAAAAAAAAAAAAAAAAAAAAAAAAAAAAAAAAAAAAAAAAAAAAAAAAAAAAAAAAAAAAAAAAAAAAAAAAAAAAAAAAAAAAAAAAAAAAAAAAAAAAAAAAAAAAAAAAAAAAAAAAAAAAAAAAAAAAAAAAAAAAAAAAAAAAAAAAAAAAAAAAAAAAAAAAAAAAAAAAAAAAAAAAAAAAAAAAAAAAAAAAAAAAAAAAAAAAAAAAAAAAAAAAAAAAAAAAAAAAAAAAAAAAAAAAAAAAAAAAAAAAAAAAAAAAAAAAAAAAAAAAAAAAAAAAAAAAAAAAAAAAAAAAAAAAAAAAAAAAAAAAAAAAAAAAAAAAAAAAAAAAAAAAAAAAAAAAAAAAAAAAAAAAAAAAAAAAAAAAAAAAAAAAAAAAAAAAAAAAAAAAAAAAAAAAAAAAAAAAAAAAAAAAAAAAAAAAAAAAAAAAAAAAAAAAAAAAAAAAAAAAAAAAAAAAAAAAAAAAAAAAAAAAAAAAAAAAAAAAAAAAAAAAAAAAAAAAAAAAAAAAAAAAAAAAAAAAAAAAAAAAAAAAAAAAAAAAAAAAAAAAAAAAAAAAAAAAAAAAAAAAAAAAAAAAAAAAAAAAAAAAAAAAAAAAAAAAAAAAAAAAAAAAAAAAAAAAAAAAAAAAAAAAAAAAAAAAAAAAAAAAAAAAAAAAAAAAAAAAAAAAAAAAAAAAAAAAAAAAAAAAAAAAAAAAAAAAAAAAAAAAAAAAAAAAAAAAAAAAAAAAAAAAAAAAAAAAAAAAAAAAAAAAAAAAAAAAAAAAAAAAAAAAAAAAAAAAAAAAAAAAAAAAAAAAAAAAAAAAAAAAAAAAAAAAAAAAAAAAAAAAAAAAAAAAAAAAAAAAAAAAAAAAAAAAAAAAAAAAAAAAAAAAAAAAAAAAAAAAAAAAAAAAAAAAAAAAAAAAAAAAAAAAAAAAAAAAAAAAAAAAAAAAAAAAAAAAAAAAAAAAAAAAAAAAAAAAAAAAAAAAAAAAAAAAAAAAAAAAAAAAAAAAAAAAAAAAAAAAAAAAAAAAAAAAAAAAAAAAAAAAAAAAAAAAAAAAAAAAAAAAAAAAAAAAAAAAAAAAAAAAAAAAAAAAAAAAAAAAAAAAAAAAAAAAAAAAAAAAAAAAAAAAAAAAAAAAAAAAAAAAAAAAAAAAAAAAAAAAAAAAAAAAAAAAAAAAAAAAAAAAAAAAAAAAAAAAAAAAAAAAAAAAAAAAAAAAAAAAAAAAAAAAAAAAAAAAAAAAAAAAAAAAAAAAAAAAAAAAAAAAAAAAAAAAAAAAAAAAAAAAAAAAAAAAAAAAAAAAAAAAAAAAAAAAAAAAAAAAAAAAAAAAAAAAAAAAAAAAAAAAAAAAAAAAAAAAAAAAAAAAAAAAAAAAAAAAAAAAAAAAAAAAAAAAAAAAAAAAAAAAAAAAAAAAAAAAAAAAAAAAAAAAAAAAAAAAAAAAAAAAAAAAAAAAAAAAAAAAAAAAAAAAAAAAAAAAAAAAAAAAAAAAAAAAAAAAAAAAAAAAAAAAAAAAAAAAAAAAAAAAAAAAAAAAAAAAAAAAAAAAAAAAAAAAAAAAAAAAAAAAAAAAAAAAAAAAAAAAAAAAAAAAAAAAAAAAAAAAAAAAAAAAAAAAAAAAAAAAAAAAAAAAAAAAAAAAAAAAAAAAAAAAAAAAAAAAAAAAAAAAAAAAAAAAAAAAAAAAAAAAAAAAAAAAAAAAAAAAAAAAAAAAAAAAAAAAAAAAAAAAAAAAAAAAAAAAAAAAAAAAAAAAAAAAAAAAAAAAAAAAAAAAAAAAAAAAAAAAAAAAAAAAAAAAAAAAAAAAAAAAAAAAAAAAAAAAAAAAAAAAAAAAAAAAAAAAAAAAAAAAAAAAAAAAAAAAAAAAAAAAAAAAAAAAAAAAAAAAAAAAAAAAAAAAAAAAAAAAAAAAAAAAAAAAAAAAAAAAAAAAAAAAAAAAAAAAAAAAAAAAAAAAAAAAAAAAAAAAAAAAAAAAAAAAAAAAAAAAAAAAAAAAAAAAAAAAAAAAAAAAAAAAAAAAAAAAAAAAAAAAAAAAAAAAAAAAAAAAAAAAAAAAAAAAAAAAAAAAAAAAAAAAAAAAAAAAAAAAAAAAAAAAAAAAAAAAAAAAAAAAAAAAAAAAAAAAAAAAAAAAAAAAAAAAAAAAAAAAAAAAAAAAAAAAAAAAAAAAAAAAAAAAAAAAAAAAAAAAAAAAAAAAAAAAAAAAAAAAAAAAAAAAAAAAAAAAAAAAAAAAAAAAA==",
          "dtype": "i1"
         },
         "x0": " ",
         "xaxis": "x",
         "y": {
          "bdata": "BQgJCAUIBggDBgMDAwYIAQECBQYJBgUIBgMHCAEBCQUEAQQGBAECBgEHCQgJBgQCAwUIBwYDAgQFCAcBCQkJCQkGAgUCAgkGAgkJAQcBAgkHBgYFBAEGCQUCBwgBAgEDBAQHBQECAgMDAwcEAgIJAgYGCQcHAgMBAgcIAQUBBgQFCAIHCAQGAQkBCQUBCAUGCQUBCAYFCAgGBwQEAQEBAwcJCAcCBAgECQcCAgEFBAgGBgkEAQQCCQUHBwQHCQcDCQgHAwUCBgYECQYDAgYIAQMCAwEDBQMCCQMIBQkECAgHBgYDAgIJCAUDBwgECAYCAwgGCAMIBQYGCAMHCQIDAgQDBwUICQUDBAEBCQICBAEJAgICBAkFAgEICQIFAgkHCQkCAwYBCQQFBwMBBQMHAQkFBwcBCQgFAwgJAwQBBQMIAgMGBwcDBQkIBgMJBgUHAwMCBwgHCAcCAgYDCAMJAggICAkDBgUBCQMCCQECBgQCBgQJCAYFCQkICQMDBwQGBwgJAwIIBwMHBgYFBwIBBAcHCQYBAwIDBgECBwkEBQkFAwkJBgUCCAECAQkBAgIDBAUDBgIDAggECAkCBAYCBgUCBQMHBgYJBAcEAgUHAgEJBQIHCAQGBAgICQIICQEJCAQBBAcHBwEFBQMICQYFBQEDBgQEAwIBAQYHBgUFBwICBgUJAwgFAQgBBQIIBQcIBAkIAwgFAQcDBwYIAgYHBwQBBAcJBAUJCQQGBwMDBwYJAwkJBQQBCQcDCAYBBAUIBQMFBwUDAgEBBgMJBwIFAwQIAQIGAggBBgkCBQkBCAkEBQUFAgMFBgcHBwMDBAgHBAYGCQEJAwkIBAYBBgYJCQYCAgMGAgcCCAMJBwUFBAIBAgYIBQgCAwMCBAYFBQECCQIDBAEGBQEFBwEIBwUEBwMEBAUCCQEIBwgGCQUCBAEDCAMDAQUIAgcBAwECCAYDBAcHAgMDBQMFBQMIAwgDBwEDAwkBAwECAwYECQYCAQMDBwEFBwYJAQYBBQUFBAgJBgcFAgcJCQMCBwUECAUEAQkBCAEFBQIBBQUFBwQBBgMEBQQGAgcCBAgECQEIAQgJBQYIAgUGBQgGBAYIAwcBBAUCCAYDAgkFBAIEAwEGBAgIAgIGCQYHBwcDBQMJAgYFBwkBAwUDBgcGCQUBBwUBBQIFBwkBAwEIAQIGAQIECQEEBgEHAgYBAwgGAgIGAQUGCAkFCQIHAgUFBQQHAgYICAkGCQgFBwkFAgEBBQMJAQcBBAMDCAIBBQcDBQEIAwMGBAUGAwIIBQUBBAYFBgUEAgYHCQEECQkIAwUIBwQEAQEJBAYGBgYJBgUDAwMEBQgJAgYCAQYGBAMGCAEDAQEGAQcEBgICCAcGAwgIBggBCAgGCQQEAQYDBwIDBQcJBwEJBwgBAwYGCAkEBAkFBAkECQcIBQEJAQEJAwIBBAgJBgIBCAQBAQMHAQkCBgkHAwYBAQEIAgMCAggIBgUFBAMFBwkFAgIHBgUJBwcDAwMFAwQECQgECQIDBQMGCAIDAwkGAgYECAkGBAcGCQkBCQMDCAkICAkHBQYHBQQEAQYDBwMGCAQGAwMHAwcBAQYHBgQEAQMBAgYCBQMDBAYEBAQJBAIJBgQIBwkGBQkFBwMCBQUEBQcHAgQFAwMJCAQHAQYJBgQFAgYEBwgFAgMHBgcIAwgIAgUEAwcCBAkIAQYCBwUIBQkHCAkJBAQJAgEGAQIGBwMECQEIAwUCCAkEAgUIBQkFAQMIAgIGBAQICAkBAQcEBgEFBgEEAwEBCAIIAwQDBwIFBgUJBQYBBgcBBwkHAgkIAQgIBggDBgMBBAYBBAkIAwYIBAEEBAIIAwkFBwYCCAUBBAMCBgcJBgUJBwMBCQgHBwQJBQUDAQMCBgkCBwMCBAYCCQEHBQEDBgEJCAQBBwYBAQcFAQMGCQQFAgMFCAEJAgkHAQUBBAcECQUCCAQGBwgGBwMDBggFAwICAwEJBQQJAgkCAgICBwUDCQgIAgEGBQUIAgEDAgkCCQYFBAIEBgQIAwEIBQgHAgkBAQMEBwkGAwUDBQcDAQEEBQYIBAcEAQECBggGCAEBBgEFAwEHBQQIBgMDAQUHBggBCAEGBgcDBwcIAgIFBQkCBwUIAQECAwkDBwkEAwcDBgIGBQYEBgcIBQgJCQMCBgkHBggEAgIGAQIGBQkFCQkFAwQHCQIEAgQBAQgBAwYDCAQFCAUEBAgJAwEFBAkDAwkECQUHCAEJBQgIBAkGBwcFBAMHAggFCQcFBgMIAwEGBgQEBgYICQ==",
          "dtype": "i1"
         },
         "y0": " ",
         "yaxis": "y"
        },
        {
         "alignmentgroup": "True",
         "hovertemplate": "churn=%{x}<br>qtde_projetos=%{y}<extra></extra>",
         "legendgroup": "1",
         "marker": {
          "color": "#EF553B"
         },
         "name": "1",
         "notched": false,
         "offsetgroup": "1",
         "orientation": "v",
         "showlegend": true,
         "type": "box",
         "x": {
          "bdata": "AQEBAQEBAQEBAQEBAQEBAQEBAQEBAQEBAQEBAQEBAQEBAQEBAQEBAQEBAQEBAQEBAQEBAQEBAQEBAQEBAQEBAQEBAQEBAQEBAQEBAQEBAQEBAQEBAQEBAQEBAQEBAQEBAQEBAQEBAQEBAQEBAQEBAQEBAQEBAQEBAQEBAQEBAQEBAQEBAQEBAQEBAQEBAQEBAQEBAQEBAQEBAQEBAQEBAQEBAQEBAQEBAQEBAQEBAQEBAQEBAQEBAQEBAQEBAQEBAQEBAQEBAQEBAQEBAQEBAQEBAQEBAQEBAQEBAQEBAQEBAQEBAQEBAQEBAQEBAQEBAQEBAQEBAQEBAQEBAQEBAQEBAQEBAQEBAQEBAQEBAQEBAQEBAQEBAQEBAQEBAQ==",
          "dtype": "i1"
         },
         "x0": " ",
         "xaxis": "x",
         "y": {
          "bdata": "BgEGAwkCAgIGCQgBBgIEAwkECAMHAQcDBwkCBgEEBQcJBAEJCAMCAQUHBQcGBwIIAQkIBgkJBgkGBwICCAECAQYFAQcBCAQEBwUJBwIEBAUBBQIFBQMEAgIJBwIFBQIBBAQEAgUJBQUBCQEHAwUGAwYEBwQFBAgBAQEGCAYHBwUEBwUFCAEEAggFAQgBBwUCAgkBCAUJBQUIBwIEBwkJAgQBAQcCBwUBBAIIBAUIAwgEAwcEBQUFAgkFBwUDAwkDAwcCBwkGCQkDAwYFAQYJAQkHBwUIBQgGCAYFAgkCBAcECAgJBgYEBgcFAQUEAQICBwIHAQEGBwQDBAMDAwMBCQMBCAEDBQQGCAkIBgkIBAEHAwkECAEFCAUIBQgGBA==",
          "dtype": "i1"
         },
         "y0": " ",
         "yaxis": "y"
        }
       ],
       "layout": {
        "boxmode": "overlay",
        "legend": {
         "title": {
          "text": "churn"
         },
         "tracegroupgap": 0
        },
        "template": {
         "data": {
          "bar": [
           {
            "error_x": {
             "color": "#2a3f5f"
            },
            "error_y": {
             "color": "#2a3f5f"
            },
            "marker": {
             "line": {
              "color": "#E5ECF6",
              "width": 0.5
             },
             "pattern": {
              "fillmode": "overlay",
              "size": 10,
              "solidity": 0.2
             }
            },
            "type": "bar"
           }
          ],
          "barpolar": [
           {
            "marker": {
             "line": {
              "color": "#E5ECF6",
              "width": 0.5
             },
             "pattern": {
              "fillmode": "overlay",
              "size": 10,
              "solidity": 0.2
             }
            },
            "type": "barpolar"
           }
          ],
          "carpet": [
           {
            "aaxis": {
             "endlinecolor": "#2a3f5f",
             "gridcolor": "white",
             "linecolor": "white",
             "minorgridcolor": "white",
             "startlinecolor": "#2a3f5f"
            },
            "baxis": {
             "endlinecolor": "#2a3f5f",
             "gridcolor": "white",
             "linecolor": "white",
             "minorgridcolor": "white",
             "startlinecolor": "#2a3f5f"
            },
            "type": "carpet"
           }
          ],
          "choropleth": [
           {
            "colorbar": {
             "outlinewidth": 0,
             "ticks": ""
            },
            "type": "choropleth"
           }
          ],
          "contour": [
           {
            "colorbar": {
             "outlinewidth": 0,
             "ticks": ""
            },
            "colorscale": [
             [
              0,
              "#0d0887"
             ],
             [
              0.1111111111111111,
              "#46039f"
             ],
             [
              0.2222222222222222,
              "#7201a8"
             ],
             [
              0.3333333333333333,
              "#9c179e"
             ],
             [
              0.4444444444444444,
              "#bd3786"
             ],
             [
              0.5555555555555556,
              "#d8576b"
             ],
             [
              0.6666666666666666,
              "#ed7953"
             ],
             [
              0.7777777777777778,
              "#fb9f3a"
             ],
             [
              0.8888888888888888,
              "#fdca26"
             ],
             [
              1,
              "#f0f921"
             ]
            ],
            "type": "contour"
           }
          ],
          "contourcarpet": [
           {
            "colorbar": {
             "outlinewidth": 0,
             "ticks": ""
            },
            "type": "contourcarpet"
           }
          ],
          "heatmap": [
           {
            "colorbar": {
             "outlinewidth": 0,
             "ticks": ""
            },
            "colorscale": [
             [
              0,
              "#0d0887"
             ],
             [
              0.1111111111111111,
              "#46039f"
             ],
             [
              0.2222222222222222,
              "#7201a8"
             ],
             [
              0.3333333333333333,
              "#9c179e"
             ],
             [
              0.4444444444444444,
              "#bd3786"
             ],
             [
              0.5555555555555556,
              "#d8576b"
             ],
             [
              0.6666666666666666,
              "#ed7953"
             ],
             [
              0.7777777777777778,
              "#fb9f3a"
             ],
             [
              0.8888888888888888,
              "#fdca26"
             ],
             [
              1,
              "#f0f921"
             ]
            ],
            "type": "heatmap"
           }
          ],
          "histogram": [
           {
            "marker": {
             "pattern": {
              "fillmode": "overlay",
              "size": 10,
              "solidity": 0.2
             }
            },
            "type": "histogram"
           }
          ],
          "histogram2d": [
           {
            "colorbar": {
             "outlinewidth": 0,
             "ticks": ""
            },
            "colorscale": [
             [
              0,
              "#0d0887"
             ],
             [
              0.1111111111111111,
              "#46039f"
             ],
             [
              0.2222222222222222,
              "#7201a8"
             ],
             [
              0.3333333333333333,
              "#9c179e"
             ],
             [
              0.4444444444444444,
              "#bd3786"
             ],
             [
              0.5555555555555556,
              "#d8576b"
             ],
             [
              0.6666666666666666,
              "#ed7953"
             ],
             [
              0.7777777777777778,
              "#fb9f3a"
             ],
             [
              0.8888888888888888,
              "#fdca26"
             ],
             [
              1,
              "#f0f921"
             ]
            ],
            "type": "histogram2d"
           }
          ],
          "histogram2dcontour": [
           {
            "colorbar": {
             "outlinewidth": 0,
             "ticks": ""
            },
            "colorscale": [
             [
              0,
              "#0d0887"
             ],
             [
              0.1111111111111111,
              "#46039f"
             ],
             [
              0.2222222222222222,
              "#7201a8"
             ],
             [
              0.3333333333333333,
              "#9c179e"
             ],
             [
              0.4444444444444444,
              "#bd3786"
             ],
             [
              0.5555555555555556,
              "#d8576b"
             ],
             [
              0.6666666666666666,
              "#ed7953"
             ],
             [
              0.7777777777777778,
              "#fb9f3a"
             ],
             [
              0.8888888888888888,
              "#fdca26"
             ],
             [
              1,
              "#f0f921"
             ]
            ],
            "type": "histogram2dcontour"
           }
          ],
          "mesh3d": [
           {
            "colorbar": {
             "outlinewidth": 0,
             "ticks": ""
            },
            "type": "mesh3d"
           }
          ],
          "parcoords": [
           {
            "line": {
             "colorbar": {
              "outlinewidth": 0,
              "ticks": ""
             }
            },
            "type": "parcoords"
           }
          ],
          "pie": [
           {
            "automargin": true,
            "type": "pie"
           }
          ],
          "scatter": [
           {
            "fillpattern": {
             "fillmode": "overlay",
             "size": 10,
             "solidity": 0.2
            },
            "type": "scatter"
           }
          ],
          "scatter3d": [
           {
            "line": {
             "colorbar": {
              "outlinewidth": 0,
              "ticks": ""
             }
            },
            "marker": {
             "colorbar": {
              "outlinewidth": 0,
              "ticks": ""
             }
            },
            "type": "scatter3d"
           }
          ],
          "scattercarpet": [
           {
            "marker": {
             "colorbar": {
              "outlinewidth": 0,
              "ticks": ""
             }
            },
            "type": "scattercarpet"
           }
          ],
          "scattergeo": [
           {
            "marker": {
             "colorbar": {
              "outlinewidth": 0,
              "ticks": ""
             }
            },
            "type": "scattergeo"
           }
          ],
          "scattergl": [
           {
            "marker": {
             "colorbar": {
              "outlinewidth": 0,
              "ticks": ""
             }
            },
            "type": "scattergl"
           }
          ],
          "scattermap": [
           {
            "marker": {
             "colorbar": {
              "outlinewidth": 0,
              "ticks": ""
             }
            },
            "type": "scattermap"
           }
          ],
          "scattermapbox": [
           {
            "marker": {
             "colorbar": {
              "outlinewidth": 0,
              "ticks": ""
             }
            },
            "type": "scattermapbox"
           }
          ],
          "scatterpolar": [
           {
            "marker": {
             "colorbar": {
              "outlinewidth": 0,
              "ticks": ""
             }
            },
            "type": "scatterpolar"
           }
          ],
          "scatterpolargl": [
           {
            "marker": {
             "colorbar": {
              "outlinewidth": 0,
              "ticks": ""
             }
            },
            "type": "scatterpolargl"
           }
          ],
          "scatterternary": [
           {
            "marker": {
             "colorbar": {
              "outlinewidth": 0,
              "ticks": ""
             }
            },
            "type": "scatterternary"
           }
          ],
          "surface": [
           {
            "colorbar": {
             "outlinewidth": 0,
             "ticks": ""
            },
            "colorscale": [
             [
              0,
              "#0d0887"
             ],
             [
              0.1111111111111111,
              "#46039f"
             ],
             [
              0.2222222222222222,
              "#7201a8"
             ],
             [
              0.3333333333333333,
              "#9c179e"
             ],
             [
              0.4444444444444444,
              "#bd3786"
             ],
             [
              0.5555555555555556,
              "#d8576b"
             ],
             [
              0.6666666666666666,
              "#ed7953"
             ],
             [
              0.7777777777777778,
              "#fb9f3a"
             ],
             [
              0.8888888888888888,
              "#fdca26"
             ],
             [
              1,
              "#f0f921"
             ]
            ],
            "type": "surface"
           }
          ],
          "table": [
           {
            "cells": {
             "fill": {
              "color": "#EBF0F8"
             },
             "line": {
              "color": "white"
             }
            },
            "header": {
             "fill": {
              "color": "#C8D4E3"
             },
             "line": {
              "color": "white"
             }
            },
            "type": "table"
           }
          ]
         },
         "layout": {
          "annotationdefaults": {
           "arrowcolor": "#2a3f5f",
           "arrowhead": 0,
           "arrowwidth": 1
          },
          "autotypenumbers": "strict",
          "coloraxis": {
           "colorbar": {
            "outlinewidth": 0,
            "ticks": ""
           }
          },
          "colorscale": {
           "diverging": [
            [
             0,
             "#8e0152"
            ],
            [
             0.1,
             "#c51b7d"
            ],
            [
             0.2,
             "#de77ae"
            ],
            [
             0.3,
             "#f1b6da"
            ],
            [
             0.4,
             "#fde0ef"
            ],
            [
             0.5,
             "#f7f7f7"
            ],
            [
             0.6,
             "#e6f5d0"
            ],
            [
             0.7,
             "#b8e186"
            ],
            [
             0.8,
             "#7fbc41"
            ],
            [
             0.9,
             "#4d9221"
            ],
            [
             1,
             "#276419"
            ]
           ],
           "sequential": [
            [
             0,
             "#0d0887"
            ],
            [
             0.1111111111111111,
             "#46039f"
            ],
            [
             0.2222222222222222,
             "#7201a8"
            ],
            [
             0.3333333333333333,
             "#9c179e"
            ],
            [
             0.4444444444444444,
             "#bd3786"
            ],
            [
             0.5555555555555556,
             "#d8576b"
            ],
            [
             0.6666666666666666,
             "#ed7953"
            ],
            [
             0.7777777777777778,
             "#fb9f3a"
            ],
            [
             0.8888888888888888,
             "#fdca26"
            ],
            [
             1,
             "#f0f921"
            ]
           ],
           "sequentialminus": [
            [
             0,
             "#0d0887"
            ],
            [
             0.1111111111111111,
             "#46039f"
            ],
            [
             0.2222222222222222,
             "#7201a8"
            ],
            [
             0.3333333333333333,
             "#9c179e"
            ],
            [
             0.4444444444444444,
             "#bd3786"
            ],
            [
             0.5555555555555556,
             "#d8576b"
            ],
            [
             0.6666666666666666,
             "#ed7953"
            ],
            [
             0.7777777777777778,
             "#fb9f3a"
            ],
            [
             0.8888888888888888,
             "#fdca26"
            ],
            [
             1,
             "#f0f921"
            ]
           ]
          },
          "colorway": [
           "#636efa",
           "#EF553B",
           "#00cc96",
           "#ab63fa",
           "#FFA15A",
           "#19d3f3",
           "#FF6692",
           "#B6E880",
           "#FF97FF",
           "#FECB52"
          ],
          "font": {
           "color": "#2a3f5f"
          },
          "geo": {
           "bgcolor": "white",
           "lakecolor": "white",
           "landcolor": "#E5ECF6",
           "showlakes": true,
           "showland": true,
           "subunitcolor": "white"
          },
          "hoverlabel": {
           "align": "left"
          },
          "hovermode": "closest",
          "mapbox": {
           "style": "light"
          },
          "paper_bgcolor": "white",
          "plot_bgcolor": "#E5ECF6",
          "polar": {
           "angularaxis": {
            "gridcolor": "white",
            "linecolor": "white",
            "ticks": ""
           },
           "bgcolor": "#E5ECF6",
           "radialaxis": {
            "gridcolor": "white",
            "linecolor": "white",
            "ticks": ""
           }
          },
          "scene": {
           "xaxis": {
            "backgroundcolor": "#E5ECF6",
            "gridcolor": "white",
            "gridwidth": 2,
            "linecolor": "white",
            "showbackground": true,
            "ticks": "",
            "zerolinecolor": "white"
           },
           "yaxis": {
            "backgroundcolor": "#E5ECF6",
            "gridcolor": "white",
            "gridwidth": 2,
            "linecolor": "white",
            "showbackground": true,
            "ticks": "",
            "zerolinecolor": "white"
           },
           "zaxis": {
            "backgroundcolor": "#E5ECF6",
            "gridcolor": "white",
            "gridwidth": 2,
            "linecolor": "white",
            "showbackground": true,
            "ticks": "",
            "zerolinecolor": "white"
           }
          },
          "shapedefaults": {
           "line": {
            "color": "#2a3f5f"
           }
          },
          "ternary": {
           "aaxis": {
            "gridcolor": "white",
            "linecolor": "white",
            "ticks": ""
           },
           "baxis": {
            "gridcolor": "white",
            "linecolor": "white",
            "ticks": ""
           },
           "bgcolor": "#E5ECF6",
           "caxis": {
            "gridcolor": "white",
            "linecolor": "white",
            "ticks": ""
           }
          },
          "title": {
           "x": 0.05
          },
          "xaxis": {
           "automargin": true,
           "gridcolor": "white",
           "linecolor": "white",
           "ticks": "",
           "title": {
            "standoff": 15
           },
           "zerolinecolor": "white",
           "zerolinewidth": 2
          },
          "yaxis": {
           "automargin": true,
           "gridcolor": "white",
           "linecolor": "white",
           "ticks": "",
           "title": {
            "standoff": 15
           },
           "zerolinecolor": "white",
           "zerolinewidth": 2
          }
         }
        },
        "title": {
         "text": "Boxplot da coluna qtde_projetos"
        },
        "xaxis": {
         "anchor": "y",
         "categoryarray": [
          0,
          1
         ],
         "categoryorder": "array",
         "domain": [
          0,
          1
         ],
         "title": {
          "text": "churn"
         }
        },
        "yaxis": {
         "anchor": "x",
         "domain": [
          0,
          1
         ],
         "title": {
          "text": "qtde_projetos"
         }
        }
       }
      }
     },
     "metadata": {},
     "output_type": "display_data"
    },
    {
     "data": {
      "application/vnd.plotly.v1+json": {
       "config": {
        "plotlyServerURL": "https://plot.ly"
       },
       "data": [
        {
         "alignmentgroup": "True",
         "hovertemplate": "churn=%{x}<br>qtde_clientes=%{y}<extra></extra>",
         "legendgroup": "0",
         "marker": {
          "color": "#636efa"
         },
         "name": "0",
         "notched": false,
         "offsetgroup": "0",
         "orientation": "v",
         "showlegend": true,
         "type": "box",
         "x": {
          "bdata": "AAAAAAAAAAAAAAAAAAAAAAAAAAAAAAAAAAAAAAAAAAAAAAAAAAAAAAAAAAAAAAAAAAAAAAAAAAAAAAAAAAAAAAAAAAAAAAAAAAAAAAAAAAAAAAAAAAAAAAAAAAAAAAAAAAAAAAAAAAAAAAAAAAAAAAAAAAAAAAAAAAAAAAAAAAAAAAAAAAAAAAAAAAAAAAAAAAAAAAAAAAAAAAAAAAAAAAAAAAAAAAAAAAAAAAAAAAAAAAAAAAAAAAAAAAAAAAAAAAAAAAAAAAAAAAAAAAAAAAAAAAAAAAAAAAAAAAAAAAAAAAAAAAAAAAAAAAAAAAAAAAAAAAAAAAAAAAAAAAAAAAAAAAAAAAAAAAAAAAAAAAAAAAAAAAAAAAAAAAAAAAAAAAAAAAAAAAAAAAAAAAAAAAAAAAAAAAAAAAAAAAAAAAAAAAAAAAAAAAAAAAAAAAAAAAAAAAAAAAAAAAAAAAAAAAAAAAAAAAAAAAAAAAAAAAAAAAAAAAAAAAAAAAAAAAAAAAAAAAAAAAAAAAAAAAAAAAAAAAAAAAAAAAAAAAAAAAAAAAAAAAAAAAAAAAAAAAAAAAAAAAAAAAAAAAAAAAAAAAAAAAAAAAAAAAAAAAAAAAAAAAAAAAAAAAAAAAAAAAAAAAAAAAAAAAAAAAAAAAAAAAAAAAAAAAAAAAAAAAAAAAAAAAAAAAAAAAAAAAAAAAAAAAAAAAAAAAAAAAAAAAAAAAAAAAAAAAAAAAAAAAAAAAAAAAAAAAAAAAAAAAAAAAAAAAAAAAAAAAAAAAAAAAAAAAAAAAAAAAAAAAAAAAAAAAAAAAAAAAAAAAAAAAAAAAAAAAAAAAAAAAAAAAAAAAAAAAAAAAAAAAAAAAAAAAAAAAAAAAAAAAAAAAAAAAAAAAAAAAAAAAAAAAAAAAAAAAAAAAAAAAAAAAAAAAAAAAAAAAAAAAAAAAAAAAAAAAAAAAAAAAAAAAAAAAAAAAAAAAAAAAAAAAAAAAAAAAAAAAAAAAAAAAAAAAAAAAAAAAAAAAAAAAAAAAAAAAAAAAAAAAAAAAAAAAAAAAAAAAAAAAAAAAAAAAAAAAAAAAAAAAAAAAAAAAAAAAAAAAAAAAAAAAAAAAAAAAAAAAAAAAAAAAAAAAAAAAAAAAAAAAAAAAAAAAAAAAAAAAAAAAAAAAAAAAAAAAAAAAAAAAAAAAAAAAAAAAAAAAAAAAAAAAAAAAAAAAAAAAAAAAAAAAAAAAAAAAAAAAAAAAAAAAAAAAAAAAAAAAAAAAAAAAAAAAAAAAAAAAAAAAAAAAAAAAAAAAAAAAAAAAAAAAAAAAAAAAAAAAAAAAAAAAAAAAAAAAAAAAAAAAAAAAAAAAAAAAAAAAAAAAAAAAAAAAAAAAAAAAAAAAAAAAAAAAAAAAAAAAAAAAAAAAAAAAAAAAAAAAAAAAAAAAAAAAAAAAAAAAAAAAAAAAAAAAAAAAAAAAAAAAAAAAAAAAAAAAAAAAAAAAAAAAAAAAAAAAAAAAAAAAAAAAAAAAAAAAAAAAAAAAAAAAAAAAAAAAAAAAAAAAAAAAAAAAAAAAAAAAAAAAAAAAAAAAAAAAAAAAAAAAAAAAAAAAAAAAAAAAAAAAAAAAAAAAAAAAAAAAAAAAAAAAAAAAAAAAAAAAAAAAAAAAAAAAAAAAAAAAAAAAAAAAAAAAAAAAAAAAAAAAAAAAAAAAAAAAAAAAAAAAAAAAAAAAAAAAAAAAAAAAAAAAAAAAAAAAAAAAAAAAAAAAAAAAAAAAAAAAAAAAAAAAAAAAAAAAAAAAAAAAAAAAAAAAAAAAAAAAAAAAAAAAAAAAAAAAAAAAAAAAAAAAAAAAAAAAAAAAAAAAAAAAAAAAAAAAAAAAAAAAAAAAAAAAAAAAAAAAAAAAAAAAAAAAAAAAAAAAAAAAAAAAAAAAAAAAAAAAAAAAAAAAAAAAAAAAAAAAAAAAAAAAAAAAAAAAAAAAAAAAAAAAAAAAAAAAAAAAAAAAAAAAAAAAAAAAAAAAAAAAAAAAAAAAAAAAAAAAAAAAAAAAAAAAAAAAAAAAAAAAAAAAAAAAAAAAAAAAAAAAAAAAAAAAAAAAAAAAAAAAAAAAAAAAAAAAAAAAAAAAAAAAAAAAAAAAAAAAAAAAAAAAAAAAAAAAAAAAAAAAAAAAAAAAAAAAAAAAAAAAAAAAAAAAAAAAAAAAAAAAAAAAAAAAAAAAAAAAAAAAAAAAAAAAAAAAAAAAAAAAAAAAAAAAAAAAAAAAAAAAAAAAAAAAAAAAAAAAAAAAAAAAAAAAAAAAAAAAAAAAAAAA==",
          "dtype": "i1"
         },
         "x0": " ",
         "xaxis": "x",
         "y": {
          "bdata": "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",
          "dtype": "i1"
         },
         "y0": " ",
         "yaxis": "y"
        },
        {
         "alignmentgroup": "True",
         "hovertemplate": "churn=%{x}<br>qtde_clientes=%{y}<extra></extra>",
         "legendgroup": "1",
         "marker": {
          "color": "#EF553B"
         },
         "name": "1",
         "notched": false,
         "offsetgroup": "1",
         "orientation": "v",
         "showlegend": true,
         "type": "box",
         "x": {
          "bdata": "AQEBAQEBAQEBAQEBAQEBAQEBAQEBAQEBAQEBAQEBAQEBAQEBAQEBAQEBAQEBAQEBAQEBAQEBAQEBAQEBAQEBAQEBAQEBAQEBAQEBAQEBAQEBAQEBAQEBAQEBAQEBAQEBAQEBAQEBAQEBAQEBAQEBAQEBAQEBAQEBAQEBAQEBAQEBAQEBAQEBAQEBAQEBAQEBAQEBAQEBAQEBAQEBAQEBAQEBAQEBAQEBAQEBAQEBAQEBAQEBAQEBAQEBAQEBAQEBAQEBAQEBAQEBAQEBAQEBAQEBAQEBAQEBAQEBAQEBAQEBAQEBAQEBAQEBAQEBAQEBAQEBAQEBAQEBAQEBAQEBAQEBAQEBAQEBAQEBAQEBAQEBAQEBAQEBAQEBAQEBAQ==",
          "dtype": "i1"
         },
         "x0": " ",
         "xaxis": "x",
         "y": {
          "bdata": "AwECBAUCAwYHBQQFBAYBBQYEBQEDAgUBAQMEAgUCAQEEBQQCBwYGBQIEAwYCAwICAwcCAQMCBwQGBgIDAgUCAwIBAQUFBgMEAgQEBgEDAwcEBQIGBAEEAQECBQUGBQEGBgYEAQUEAwQFAQEFBgEGBAQFAQEGBwEBBQUGBAEHBgEDAwMBBQMGBAEEBQUHBAUDAgQDBwIDBwUFBQIBAgIEAgUBAgICAwUGAQEGBgYBBAcBBQcCAwYEBAIGAwYBAQYGBQcDBwQGAwMCAQIBAQYDAwEGAQUGAwQEAwMFBwMGBgIHBwcFAQEBAQECAQEHAwMDAwcHBwIFBgcDBQQHBAUEAgYBBwYDBwIBBgUCAQMGBgMGBwQHBQQBBgYHBwEGBg==",
          "dtype": "i1"
         },
         "y0": " ",
         "yaxis": "y"
        }
       ],
       "layout": {
        "boxmode": "overlay",
        "legend": {
         "title": {
          "text": "churn"
         },
         "tracegroupgap": 0
        },
        "template": {
         "data": {
          "bar": [
           {
            "error_x": {
             "color": "#2a3f5f"
            },
            "error_y": {
             "color": "#2a3f5f"
            },
            "marker": {
             "line": {
              "color": "#E5ECF6",
              "width": 0.5
             },
             "pattern": {
              "fillmode": "overlay",
              "size": 10,
              "solidity": 0.2
             }
            },
            "type": "bar"
           }
          ],
          "barpolar": [
           {
            "marker": {
             "line": {
              "color": "#E5ECF6",
              "width": 0.5
             },
             "pattern": {
              "fillmode": "overlay",
              "size": 10,
              "solidity": 0.2
             }
            },
            "type": "barpolar"
           }
          ],
          "carpet": [
           {
            "aaxis": {
             "endlinecolor": "#2a3f5f",
             "gridcolor": "white",
             "linecolor": "white",
             "minorgridcolor": "white",
             "startlinecolor": "#2a3f5f"
            },
            "baxis": {
             "endlinecolor": "#2a3f5f",
             "gridcolor": "white",
             "linecolor": "white",
             "minorgridcolor": "white",
             "startlinecolor": "#2a3f5f"
            },
            "type": "carpet"
           }
          ],
          "choropleth": [
           {
            "colorbar": {
             "outlinewidth": 0,
             "ticks": ""
            },
            "type": "choropleth"
           }
          ],
          "contour": [
           {
            "colorbar": {
             "outlinewidth": 0,
             "ticks": ""
            },
            "colorscale": [
             [
              0,
              "#0d0887"
             ],
             [
              0.1111111111111111,
              "#46039f"
             ],
             [
              0.2222222222222222,
              "#7201a8"
             ],
             [
              0.3333333333333333,
              "#9c179e"
             ],
             [
              0.4444444444444444,
              "#bd3786"
             ],
             [
              0.5555555555555556,
              "#d8576b"
             ],
             [
              0.6666666666666666,
              "#ed7953"
             ],
             [
              0.7777777777777778,
              "#fb9f3a"
             ],
             [
              0.8888888888888888,
              "#fdca26"
             ],
             [
              1,
              "#f0f921"
             ]
            ],
            "type": "contour"
           }
          ],
          "contourcarpet": [
           {
            "colorbar": {
             "outlinewidth": 0,
             "ticks": ""
            },
            "type": "contourcarpet"
           }
          ],
          "heatmap": [
           {
            "colorbar": {
             "outlinewidth": 0,
             "ticks": ""
            },
            "colorscale": [
             [
              0,
              "#0d0887"
             ],
             [
              0.1111111111111111,
              "#46039f"
             ],
             [
              0.2222222222222222,
              "#7201a8"
             ],
             [
              0.3333333333333333,
              "#9c179e"
             ],
             [
              0.4444444444444444,
              "#bd3786"
             ],
             [
              0.5555555555555556,
              "#d8576b"
             ],
             [
              0.6666666666666666,
              "#ed7953"
             ],
             [
              0.7777777777777778,
              "#fb9f3a"
             ],
             [
              0.8888888888888888,
              "#fdca26"
             ],
             [
              1,
              "#f0f921"
             ]
            ],
            "type": "heatmap"
           }
          ],
          "histogram": [
           {
            "marker": {
             "pattern": {
              "fillmode": "overlay",
              "size": 10,
              "solidity": 0.2
             }
            },
            "type": "histogram"
           }
          ],
          "histogram2d": [
           {
            "colorbar": {
             "outlinewidth": 0,
             "ticks": ""
            },
            "colorscale": [
             [
              0,
              "#0d0887"
             ],
             [
              0.1111111111111111,
              "#46039f"
             ],
             [
              0.2222222222222222,
              "#7201a8"
             ],
             [
              0.3333333333333333,
              "#9c179e"
             ],
             [
              0.4444444444444444,
              "#bd3786"
             ],
             [
              0.5555555555555556,
              "#d8576b"
             ],
             [
              0.6666666666666666,
              "#ed7953"
             ],
             [
              0.7777777777777778,
              "#fb9f3a"
             ],
             [
              0.8888888888888888,
              "#fdca26"
             ],
             [
              1,
              "#f0f921"
             ]
            ],
            "type": "histogram2d"
           }
          ],
          "histogram2dcontour": [
           {
            "colorbar": {
             "outlinewidth": 0,
             "ticks": ""
            },
            "colorscale": [
             [
              0,
              "#0d0887"
             ],
             [
              0.1111111111111111,
              "#46039f"
             ],
             [
              0.2222222222222222,
              "#7201a8"
             ],
             [
              0.3333333333333333,
              "#9c179e"
             ],
             [
              0.4444444444444444,
              "#bd3786"
             ],
             [
              0.5555555555555556,
              "#d8576b"
             ],
             [
              0.6666666666666666,
              "#ed7953"
             ],
             [
              0.7777777777777778,
              "#fb9f3a"
             ],
             [
              0.8888888888888888,
              "#fdca26"
             ],
             [
              1,
              "#f0f921"
             ]
            ],
            "type": "histogram2dcontour"
           }
          ],
          "mesh3d": [
           {
            "colorbar": {
             "outlinewidth": 0,
             "ticks": ""
            },
            "type": "mesh3d"
           }
          ],
          "parcoords": [
           {
            "line": {
             "colorbar": {
              "outlinewidth": 0,
              "ticks": ""
             }
            },
            "type": "parcoords"
           }
          ],
          "pie": [
           {
            "automargin": true,
            "type": "pie"
           }
          ],
          "scatter": [
           {
            "fillpattern": {
             "fillmode": "overlay",
             "size": 10,
             "solidity": 0.2
            },
            "type": "scatter"
           }
          ],
          "scatter3d": [
           {
            "line": {
             "colorbar": {
              "outlinewidth": 0,
              "ticks": ""
             }
            },
            "marker": {
             "colorbar": {
              "outlinewidth": 0,
              "ticks": ""
             }
            },
            "type": "scatter3d"
           }
          ],
          "scattercarpet": [
           {
            "marker": {
             "colorbar": {
              "outlinewidth": 0,
              "ticks": ""
             }
            },
            "type": "scattercarpet"
           }
          ],
          "scattergeo": [
           {
            "marker": {
             "colorbar": {
              "outlinewidth": 0,
              "ticks": ""
             }
            },
            "type": "scattergeo"
           }
          ],
          "scattergl": [
           {
            "marker": {
             "colorbar": {
              "outlinewidth": 0,
              "ticks": ""
             }
            },
            "type": "scattergl"
           }
          ],
          "scattermap": [
           {
            "marker": {
             "colorbar": {
              "outlinewidth": 0,
              "ticks": ""
             }
            },
            "type": "scattermap"
           }
          ],
          "scattermapbox": [
           {
            "marker": {
             "colorbar": {
              "outlinewidth": 0,
              "ticks": ""
             }
            },
            "type": "scattermapbox"
           }
          ],
          "scatterpolar": [
           {
            "marker": {
             "colorbar": {
              "outlinewidth": 0,
              "ticks": ""
             }
            },
            "type": "scatterpolar"
           }
          ],
          "scatterpolargl": [
           {
            "marker": {
             "colorbar": {
              "outlinewidth": 0,
              "ticks": ""
             }
            },
            "type": "scatterpolargl"
           }
          ],
          "scatterternary": [
           {
            "marker": {
             "colorbar": {
              "outlinewidth": 0,
              "ticks": ""
             }
            },
            "type": "scatterternary"
           }
          ],
          "surface": [
           {
            "colorbar": {
             "outlinewidth": 0,
             "ticks": ""
            },
            "colorscale": [
             [
              0,
              "#0d0887"
             ],
             [
              0.1111111111111111,
              "#46039f"
             ],
             [
              0.2222222222222222,
              "#7201a8"
             ],
             [
              0.3333333333333333,
              "#9c179e"
             ],
             [
              0.4444444444444444,
              "#bd3786"
             ],
             [
              0.5555555555555556,
              "#d8576b"
             ],
             [
              0.6666666666666666,
              "#ed7953"
             ],
             [
              0.7777777777777778,
              "#fb9f3a"
             ],
             [
              0.8888888888888888,
              "#fdca26"
             ],
             [
              1,
              "#f0f921"
             ]
            ],
            "type": "surface"
           }
          ],
          "table": [
           {
            "cells": {
             "fill": {
              "color": "#EBF0F8"
             },
             "line": {
              "color": "white"
             }
            },
            "header": {
             "fill": {
              "color": "#C8D4E3"
             },
             "line": {
              "color": "white"
             }
            },
            "type": "table"
           }
          ]
         },
         "layout": {
          "annotationdefaults": {
           "arrowcolor": "#2a3f5f",
           "arrowhead": 0,
           "arrowwidth": 1
          },
          "autotypenumbers": "strict",
          "coloraxis": {
           "colorbar": {
            "outlinewidth": 0,
            "ticks": ""
           }
          },
          "colorscale": {
           "diverging": [
            [
             0,
             "#8e0152"
            ],
            [
             0.1,
             "#c51b7d"
            ],
            [
             0.2,
             "#de77ae"
            ],
            [
             0.3,
             "#f1b6da"
            ],
            [
             0.4,
             "#fde0ef"
            ],
            [
             0.5,
             "#f7f7f7"
            ],
            [
             0.6,
             "#e6f5d0"
            ],
            [
             0.7,
             "#b8e186"
            ],
            [
             0.8,
             "#7fbc41"
            ],
            [
             0.9,
             "#4d9221"
            ],
            [
             1,
             "#276419"
            ]
           ],
           "sequential": [
            [
             0,
             "#0d0887"
            ],
            [
             0.1111111111111111,
             "#46039f"
            ],
            [
             0.2222222222222222,
             "#7201a8"
            ],
            [
             0.3333333333333333,
             "#9c179e"
            ],
            [
             0.4444444444444444,
             "#bd3786"
            ],
            [
             0.5555555555555556,
             "#d8576b"
            ],
            [
             0.6666666666666666,
             "#ed7953"
            ],
            [
             0.7777777777777778,
             "#fb9f3a"
            ],
            [
             0.8888888888888888,
             "#fdca26"
            ],
            [
             1,
             "#f0f921"
            ]
           ],
           "sequentialminus": [
            [
             0,
             "#0d0887"
            ],
            [
             0.1111111111111111,
             "#46039f"
            ],
            [
             0.2222222222222222,
             "#7201a8"
            ],
            [
             0.3333333333333333,
             "#9c179e"
            ],
            [
             0.4444444444444444,
             "#bd3786"
            ],
            [
             0.5555555555555556,
             "#d8576b"
            ],
            [
             0.6666666666666666,
             "#ed7953"
            ],
            [
             0.7777777777777778,
             "#fb9f3a"
            ],
            [
             0.8888888888888888,
             "#fdca26"
            ],
            [
             1,
             "#f0f921"
            ]
           ]
          },
          "colorway": [
           "#636efa",
           "#EF553B",
           "#00cc96",
           "#ab63fa",
           "#FFA15A",
           "#19d3f3",
           "#FF6692",
           "#B6E880",
           "#FF97FF",
           "#FECB52"
          ],
          "font": {
           "color": "#2a3f5f"
          },
          "geo": {
           "bgcolor": "white",
           "lakecolor": "white",
           "landcolor": "#E5ECF6",
           "showlakes": true,
           "showland": true,
           "subunitcolor": "white"
          },
          "hoverlabel": {
           "align": "left"
          },
          "hovermode": "closest",
          "mapbox": {
           "style": "light"
          },
          "paper_bgcolor": "white",
          "plot_bgcolor": "#E5ECF6",
          "polar": {
           "angularaxis": {
            "gridcolor": "white",
            "linecolor": "white",
            "ticks": ""
           },
           "bgcolor": "#E5ECF6",
           "radialaxis": {
            "gridcolor": "white",
            "linecolor": "white",
            "ticks": ""
           }
          },
          "scene": {
           "xaxis": {
            "backgroundcolor": "#E5ECF6",
            "gridcolor": "white",
            "gridwidth": 2,
            "linecolor": "white",
            "showbackground": true,
            "ticks": "",
            "zerolinecolor": "white"
           },
           "yaxis": {
            "backgroundcolor": "#E5ECF6",
            "gridcolor": "white",
            "gridwidth": 2,
            "linecolor": "white",
            "showbackground": true,
            "ticks": "",
            "zerolinecolor": "white"
           },
           "zaxis": {
            "backgroundcolor": "#E5ECF6",
            "gridcolor": "white",
            "gridwidth": 2,
            "linecolor": "white",
            "showbackground": true,
            "ticks": "",
            "zerolinecolor": "white"
           }
          },
          "shapedefaults": {
           "line": {
            "color": "#2a3f5f"
           }
          },
          "ternary": {
           "aaxis": {
            "gridcolor": "white",
            "linecolor": "white",
            "ticks": ""
           },
           "baxis": {
            "gridcolor": "white",
            "linecolor": "white",
            "ticks": ""
           },
           "bgcolor": "#E5ECF6",
           "caxis": {
            "gridcolor": "white",
            "linecolor": "white",
            "ticks": ""
           }
          },
          "title": {
           "x": 0.05
          },
          "xaxis": {
           "automargin": true,
           "gridcolor": "white",
           "linecolor": "white",
           "ticks": "",
           "title": {
            "standoff": 15
           },
           "zerolinecolor": "white",
           "zerolinewidth": 2
          },
          "yaxis": {
           "automargin": true,
           "gridcolor": "white",
           "linecolor": "white",
           "ticks": "",
           "title": {
            "standoff": 15
           },
           "zerolinecolor": "white",
           "zerolinewidth": 2
          }
         }
        },
        "title": {
         "text": "Boxplot da coluna qtde_clientes"
        },
        "xaxis": {
         "anchor": "y",
         "categoryarray": [
          0,
          1
         ],
         "categoryorder": "array",
         "domain": [
          0,
          1
         ],
         "title": {
          "text": "churn"
         }
        },
        "yaxis": {
         "anchor": "x",
         "domain": [
          0,
          1
         ],
         "title": {
          "text": "qtde_clientes"
         }
        }
       }
      }
     },
     "metadata": {},
     "output_type": "display_data"
    },
    {
     "data": {
      "application/vnd.plotly.v1+json": {
       "config": {
        "plotlyServerURL": "https://plot.ly"
       },
       "data": [
        {
         "alignmentgroup": "True",
         "hovertemplate": "churn=%{x}<br>nivel_satisfacao_gestor=%{y}<extra></extra>",
         "legendgroup": "0",
         "marker": {
          "color": "#636efa"
         },
         "name": "0",
         "notched": false,
         "offsetgroup": "0",
         "orientation": "v",
         "showlegend": true,
         "type": "box",
         "x": {
          "bdata": "AAAAAAAAAAAAAAAAAAAAAAAAAAAAAAAAAAAAAAAAAAAAAAAAAAAAAAAAAAAAAAAAAAAAAAAAAAAAAAAAAAAAAAAAAAAAAAAAAAAAAAAAAAAAAAAAAAAAAAAAAAAAAAAAAAAAAAAAAAAAAAAAAAAAAAAAAAAAAAAAAAAAAAAAAAAAAAAAAAAAAAAAAAAAAAAAAAAAAAAAAAAAAAAAAAAAAAAAAAAAAAAAAAAAAAAAAAAAAAAAAAAAAAAAAAAAAAAAAAAAAAAAAAAAAAAAAAAAAAAAAAAAAAAAAAAAAAAAAAAAAAAAAAAAAAAAAAAAAAAAAAAAAAAAAAAAAAAAAAAAAAAAAAAAAAAAAAAAAAAAAAAAAAAAAAAAAAAAAAAAAAAAAAAAAAAAAAAAAAAAAAAAAAAAAAAAAAAAAAAAAAAAAAAAAAAAAAAAAAAAAAAAAAAAAAAAAAAAAAAAAAAAAAAAAAAAAAAAAAAAAAAAAAAAAAAAAAAAAAAAAAAAAAAAAAAAAAAAAAAAAAAAAAAAAAAAAAAAAAAAAAAAAAAAAAAAAAAAAAAAAAAAAAAAAAAAAAAAAAAAAAAAAAAAAAAAAAAAAAAAAAAAAAAAAAAAAAAAAAAAAAAAAAAAAAAAAAAAAAAAAAAAAAAAAAAAAAAAAAAAAAAAAAAAAAAAAAAAAAAAAAAAAAAAAAAAAAAAAAAAAAAAAAAAAAAAAAAAAAAAAAAAAAAAAAAAAAAAAAAAAAAAAAAAAAAAAAAAAAAAAAAAAAAAAAAAAAAAAAAAAAAAAAAAAAAAAAAAAAAAAAAAAAAAAAAAAAAAAAAAAAAAAAAAAAAAAAAAAAAAAAAAAAAAAAAAAAAAAAAAAAAAAAAAAAAAAAAAAAAAAAAAAAAAAAAAAAAAAAAAAAAAAAAAAAAAAAAAAAAAAAAAAAAAAAAAAAAAAAAAAAAAAAAAAAAAAAAAAAAAAAAAAAAAAAAAAAAAAAAAAAAAAAAAAAAAAAAAAAAAAAAAAAAAAAAAAAAAAAAAAAAAAAAAAAAAAAAAAAAAAAAAAAAAAAAAAAAAAAAAAAAAAAAAAAAAAAAAAAAAAAAAAAAAAAAAAAAAAAAAAAAAAAAAAAAAAAAAAAAAAAAAAAAAAAAAAAAAAAAAAAAAAAAAAAAAAAAAAAAAAAAAAAAAAAAAAAAAAAAAAAAAAAAAAAAAAAAAAAAAAAAAAAAAAAAAAAAAAAAAAAAAAAAAAAAAAAAAAAAAAAAAAAAAAAAAAAAAAAAAAAAAAAAAAAAAAAAAAAAAAAAAAAAAAAAAAAAAAAAAAAAAAAAAAAAAAAAAAAAAAAAAAAAAAAAAAAAAAAAAAAAAAAAAAAAAAAAAAAAAAAAAAAAAAAAAAAAAAAAAAAAAAAAAAAAAAAAAAAAAAAAAAAAAAAAAAAAAAAAAAAAAAAAAAAAAAAAAAAAAAAAAAAAAAAAAAAAAAAAAAAAAAAAAAAAAAAAAAAAAAAAAAAAAAAAAAAAAAAAAAAAAAAAAAAAAAAAAAAAAAAAAAAAAAAAAAAAAAAAAAAAAAAAAAAAAAAAAAAAAAAAAAAAAAAAAAAAAAAAAAAAAAAAAAAAAAAAAAAAAAAAAAAAAAAAAAAAAAAAAAAAAAAAAAAAAAAAAAAAAAAAAAAAAAAAAAAAAAAAAAAAAAAAAAAAAAAAAAAAAAAAAAAAAAAAAAAAAAAAAAAAAAAAAAAAAAAAAAAAAAAAAAAAAAAAAAAAAAAAAAAAAAAAAAAAAAAAAAAAAAAAAAAAAAAAAAAAAAAAAAAAAAAAAAAAAAAAAAAAAAAAAAAAAAAAAAAAAAAAAAAAAAAAAAAAAAAAAAAAAAAAAAAAAAAAAAAAAAAAAAAAAAAAAAAAAAAAAAAAAAAAAAAAAAAAAAAAAAAAAAAAAAAAAAAAAAAAAAAAAAAAAAAAAAAAAAAAAAAAAAAAAAAAAAAAAAAAAAAAAAAAAAAAAAAAAAAAAAAAAAAAAAAAAAAAAAAAAAAAAAAAAAAAAAAAAAAAAAAAAAAAAAAAAAAAAAAAAAAAAAAAAAAAAAAAAAAAAAAAAAAAAAAAAAAAAAAAAAAAAAAAAAAAAAAAAAAAAAAAAAAAAAAAAAAAAAAAAAAAAAAAAAAAAAAAAAAAAAAAAAAAAAAAAAAAAAAAAAAAAAAAAAAAAAAAAAAAAAAAAAAAAAAAAAAAAAAAAAAAAAAAAAAAAAAAAAAAAAAAAAAAAAAAAAAAAAAAAAAAAAAAAAAAAAAAAAAAAAAAAAAAAAAAAAAAAAAAAAAAAAAAAAA==",
          "dtype": "i1"
         },
         "x0": " ",
         "xaxis": "x",
         "y": {
          "bdata": "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",
          "dtype": "f8"
         },
         "y0": " ",
         "yaxis": "y"
        },
        {
         "alignmentgroup": "True",
         "hovertemplate": "churn=%{x}<br>nivel_satisfacao_gestor=%{y}<extra></extra>",
         "legendgroup": "1",
         "marker": {
          "color": "#EF553B"
         },
         "name": "1",
         "notched": false,
         "offsetgroup": "1",
         "orientation": "v",
         "showlegend": true,
         "type": "box",
         "x": {
          "bdata": "AQEBAQEBAQEBAQEBAQEBAQEBAQEBAQEBAQEBAQEBAQEBAQEBAQEBAQEBAQEBAQEBAQEBAQEBAQEBAQEBAQEBAQEBAQEBAQEBAQEBAQEBAQEBAQEBAQEBAQEBAQEBAQEBAQEBAQEBAQEBAQEBAQEBAQEBAQEBAQEBAQEBAQEBAQEBAQEBAQEBAQEBAQEBAQEBAQEBAQEBAQEBAQEBAQEBAQEBAQEBAQEBAQEBAQEBAQEBAQEBAQEBAQEBAQEBAQEBAQEBAQEBAQEBAQEBAQEBAQEBAQEBAQEBAQEBAQEBAQEBAQEBAQEBAQEBAQEBAQEBAQEBAQEBAQEBAQEBAQEBAQEBAQEBAQEBAQEBAQEBAQEBAQEBAQEBAQEBAQEBAQ==",
          "dtype": "i1"
         },
         "x0": " ",
         "xaxis": "x",
         "y": {
          "bdata": "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",
          "dtype": "f8"
         },
         "y0": " ",
         "yaxis": "y"
        }
       ],
       "layout": {
        "boxmode": "overlay",
        "legend": {
         "title": {
          "text": "churn"
         },
         "tracegroupgap": 0
        },
        "template": {
         "data": {
          "bar": [
           {
            "error_x": {
             "color": "#2a3f5f"
            },
            "error_y": {
             "color": "#2a3f5f"
            },
            "marker": {
             "line": {
              "color": "#E5ECF6",
              "width": 0.5
             },
             "pattern": {
              "fillmode": "overlay",
              "size": 10,
              "solidity": 0.2
             }
            },
            "type": "bar"
           }
          ],
          "barpolar": [
           {
            "marker": {
             "line": {
              "color": "#E5ECF6",
              "width": 0.5
             },
             "pattern": {
              "fillmode": "overlay",
              "size": 10,
              "solidity": 0.2
             }
            },
            "type": "barpolar"
           }
          ],
          "carpet": [
           {
            "aaxis": {
             "endlinecolor": "#2a3f5f",
             "gridcolor": "white",
             "linecolor": "white",
             "minorgridcolor": "white",
             "startlinecolor": "#2a3f5f"
            },
            "baxis": {
             "endlinecolor": "#2a3f5f",
             "gridcolor": "white",
             "linecolor": "white",
             "minorgridcolor": "white",
             "startlinecolor": "#2a3f5f"
            },
            "type": "carpet"
           }
          ],
          "choropleth": [
           {
            "colorbar": {
             "outlinewidth": 0,
             "ticks": ""
            },
            "type": "choropleth"
           }
          ],
          "contour": [
           {
            "colorbar": {
             "outlinewidth": 0,
             "ticks": ""
            },
            "colorscale": [
             [
              0,
              "#0d0887"
             ],
             [
              0.1111111111111111,
              "#46039f"
             ],
             [
              0.2222222222222222,
              "#7201a8"
             ],
             [
              0.3333333333333333,
              "#9c179e"
             ],
             [
              0.4444444444444444,
              "#bd3786"
             ],
             [
              0.5555555555555556,
              "#d8576b"
             ],
             [
              0.6666666666666666,
              "#ed7953"
             ],
             [
              0.7777777777777778,
              "#fb9f3a"
             ],
             [
              0.8888888888888888,
              "#fdca26"
             ],
             [
              1,
              "#f0f921"
             ]
            ],
            "type": "contour"
           }
          ],
          "contourcarpet": [
           {
            "colorbar": {
             "outlinewidth": 0,
             "ticks": ""
            },
            "type": "contourcarpet"
           }
          ],
          "heatmap": [
           {
            "colorbar": {
             "outlinewidth": 0,
             "ticks": ""
            },
            "colorscale": [
             [
              0,
              "#0d0887"
             ],
             [
              0.1111111111111111,
              "#46039f"
             ],
             [
              0.2222222222222222,
              "#7201a8"
             ],
             [
              0.3333333333333333,
              "#9c179e"
             ],
             [
              0.4444444444444444,
              "#bd3786"
             ],
             [
              0.5555555555555556,
              "#d8576b"
             ],
             [
              0.6666666666666666,
              "#ed7953"
             ],
             [
              0.7777777777777778,
              "#fb9f3a"
             ],
             [
              0.8888888888888888,
              "#fdca26"
             ],
             [
              1,
              "#f0f921"
             ]
            ],
            "type": "heatmap"
           }
          ],
          "histogram": [
           {
            "marker": {
             "pattern": {
              "fillmode": "overlay",
              "size": 10,
              "solidity": 0.2
             }
            },
            "type": "histogram"
           }
          ],
          "histogram2d": [
           {
            "colorbar": {
             "outlinewidth": 0,
             "ticks": ""
            },
            "colorscale": [
             [
              0,
              "#0d0887"
             ],
             [
              0.1111111111111111,
              "#46039f"
             ],
             [
              0.2222222222222222,
              "#7201a8"
             ],
             [
              0.3333333333333333,
              "#9c179e"
             ],
             [
              0.4444444444444444,
              "#bd3786"
             ],
             [
              0.5555555555555556,
              "#d8576b"
             ],
             [
              0.6666666666666666,
              "#ed7953"
             ],
             [
              0.7777777777777778,
              "#fb9f3a"
             ],
             [
              0.8888888888888888,
              "#fdca26"
             ],
             [
              1,
              "#f0f921"
             ]
            ],
            "type": "histogram2d"
           }
          ],
          "histogram2dcontour": [
           {
            "colorbar": {
             "outlinewidth": 0,
             "ticks": ""
            },
            "colorscale": [
             [
              0,
              "#0d0887"
             ],
             [
              0.1111111111111111,
              "#46039f"
             ],
             [
              0.2222222222222222,
              "#7201a8"
             ],
             [
              0.3333333333333333,
              "#9c179e"
             ],
             [
              0.4444444444444444,
              "#bd3786"
             ],
             [
              0.5555555555555556,
              "#d8576b"
             ],
             [
              0.6666666666666666,
              "#ed7953"
             ],
             [
              0.7777777777777778,
              "#fb9f3a"
             ],
             [
              0.8888888888888888,
              "#fdca26"
             ],
             [
              1,
              "#f0f921"
             ]
            ],
            "type": "histogram2dcontour"
           }
          ],
          "mesh3d": [
           {
            "colorbar": {
             "outlinewidth": 0,
             "ticks": ""
            },
            "type": "mesh3d"
           }
          ],
          "parcoords": [
           {
            "line": {
             "colorbar": {
              "outlinewidth": 0,
              "ticks": ""
             }
            },
            "type": "parcoords"
           }
          ],
          "pie": [
           {
            "automargin": true,
            "type": "pie"
           }
          ],
          "scatter": [
           {
            "fillpattern": {
             "fillmode": "overlay",
             "size": 10,
             "solidity": 0.2
            },
            "type": "scatter"
           }
          ],
          "scatter3d": [
           {
            "line": {
             "colorbar": {
              "outlinewidth": 0,
              "ticks": ""
             }
            },
            "marker": {
             "colorbar": {
              "outlinewidth": 0,
              "ticks": ""
             }
            },
            "type": "scatter3d"
           }
          ],
          "scattercarpet": [
           {
            "marker": {
             "colorbar": {
              "outlinewidth": 0,
              "ticks": ""
             }
            },
            "type": "scattercarpet"
           }
          ],
          "scattergeo": [
           {
            "marker": {
             "colorbar": {
              "outlinewidth": 0,
              "ticks": ""
             }
            },
            "type": "scattergeo"
           }
          ],
          "scattergl": [
           {
            "marker": {
             "colorbar": {
              "outlinewidth": 0,
              "ticks": ""
             }
            },
            "type": "scattergl"
           }
          ],
          "scattermap": [
           {
            "marker": {
             "colorbar": {
              "outlinewidth": 0,
              "ticks": ""
             }
            },
            "type": "scattermap"
           }
          ],
          "scattermapbox": [
           {
            "marker": {
             "colorbar": {
              "outlinewidth": 0,
              "ticks": ""
             }
            },
            "type": "scattermapbox"
           }
          ],
          "scatterpolar": [
           {
            "marker": {
             "colorbar": {
              "outlinewidth": 0,
              "ticks": ""
             }
            },
            "type": "scatterpolar"
           }
          ],
          "scatterpolargl": [
           {
            "marker": {
             "colorbar": {
              "outlinewidth": 0,
              "ticks": ""
             }
            },
            "type": "scatterpolargl"
           }
          ],
          "scatterternary": [
           {
            "marker": {
             "colorbar": {
              "outlinewidth": 0,
              "ticks": ""
             }
            },
            "type": "scatterternary"
           }
          ],
          "surface": [
           {
            "colorbar": {
             "outlinewidth": 0,
             "ticks": ""
            },
            "colorscale": [
             [
              0,
              "#0d0887"
             ],
             [
              0.1111111111111111,
              "#46039f"
             ],
             [
              0.2222222222222222,
              "#7201a8"
             ],
             [
              0.3333333333333333,
              "#9c179e"
             ],
             [
              0.4444444444444444,
              "#bd3786"
             ],
             [
              0.5555555555555556,
              "#d8576b"
             ],
             [
              0.6666666666666666,
              "#ed7953"
             ],
             [
              0.7777777777777778,
              "#fb9f3a"
             ],
             [
              0.8888888888888888,
              "#fdca26"
             ],
             [
              1,
              "#f0f921"
             ]
            ],
            "type": "surface"
           }
          ],
          "table": [
           {
            "cells": {
             "fill": {
              "color": "#EBF0F8"
             },
             "line": {
              "color": "white"
             }
            },
            "header": {
             "fill": {
              "color": "#C8D4E3"
             },
             "line": {
              "color": "white"
             }
            },
            "type": "table"
           }
          ]
         },
         "layout": {
          "annotationdefaults": {
           "arrowcolor": "#2a3f5f",
           "arrowhead": 0,
           "arrowwidth": 1
          },
          "autotypenumbers": "strict",
          "coloraxis": {
           "colorbar": {
            "outlinewidth": 0,
            "ticks": ""
           }
          },
          "colorscale": {
           "diverging": [
            [
             0,
             "#8e0152"
            ],
            [
             0.1,
             "#c51b7d"
            ],
            [
             0.2,
             "#de77ae"
            ],
            [
             0.3,
             "#f1b6da"
            ],
            [
             0.4,
             "#fde0ef"
            ],
            [
             0.5,
             "#f7f7f7"
            ],
            [
             0.6,
             "#e6f5d0"
            ],
            [
             0.7,
             "#b8e186"
            ],
            [
             0.8,
             "#7fbc41"
            ],
            [
             0.9,
             "#4d9221"
            ],
            [
             1,
             "#276419"
            ]
           ],
           "sequential": [
            [
             0,
             "#0d0887"
            ],
            [
             0.1111111111111111,
             "#46039f"
            ],
            [
             0.2222222222222222,
             "#7201a8"
            ],
            [
             0.3333333333333333,
             "#9c179e"
            ],
            [
             0.4444444444444444,
             "#bd3786"
            ],
            [
             0.5555555555555556,
             "#d8576b"
            ],
            [
             0.6666666666666666,
             "#ed7953"
            ],
            [
             0.7777777777777778,
             "#fb9f3a"
            ],
            [
             0.8888888888888888,
             "#fdca26"
            ],
            [
             1,
             "#f0f921"
            ]
           ],
           "sequentialminus": [
            [
             0,
             "#0d0887"
            ],
            [
             0.1111111111111111,
             "#46039f"
            ],
            [
             0.2222222222222222,
             "#7201a8"
            ],
            [
             0.3333333333333333,
             "#9c179e"
            ],
            [
             0.4444444444444444,
             "#bd3786"
            ],
            [
             0.5555555555555556,
             "#d8576b"
            ],
            [
             0.6666666666666666,
             "#ed7953"
            ],
            [
             0.7777777777777778,
             "#fb9f3a"
            ],
            [
             0.8888888888888888,
             "#fdca26"
            ],
            [
             1,
             "#f0f921"
            ]
           ]
          },
          "colorway": [
           "#636efa",
           "#EF553B",
           "#00cc96",
           "#ab63fa",
           "#FFA15A",
           "#19d3f3",
           "#FF6692",
           "#B6E880",
           "#FF97FF",
           "#FECB52"
          ],
          "font": {
           "color": "#2a3f5f"
          },
          "geo": {
           "bgcolor": "white",
           "lakecolor": "white",
           "landcolor": "#E5ECF6",
           "showlakes": true,
           "showland": true,
           "subunitcolor": "white"
          },
          "hoverlabel": {
           "align": "left"
          },
          "hovermode": "closest",
          "mapbox": {
           "style": "light"
          },
          "paper_bgcolor": "white",
          "plot_bgcolor": "#E5ECF6",
          "polar": {
           "angularaxis": {
            "gridcolor": "white",
            "linecolor": "white",
            "ticks": ""
           },
           "bgcolor": "#E5ECF6",
           "radialaxis": {
            "gridcolor": "white",
            "linecolor": "white",
            "ticks": ""
           }
          },
          "scene": {
           "xaxis": {
            "backgroundcolor": "#E5ECF6",
            "gridcolor": "white",
            "gridwidth": 2,
            "linecolor": "white",
            "showbackground": true,
            "ticks": "",
            "zerolinecolor": "white"
           },
           "yaxis": {
            "backgroundcolor": "#E5ECF6",
            "gridcolor": "white",
            "gridwidth": 2,
            "linecolor": "white",
            "showbackground": true,
            "ticks": "",
            "zerolinecolor": "white"
           },
           "zaxis": {
            "backgroundcolor": "#E5ECF6",
            "gridcolor": "white",
            "gridwidth": 2,
            "linecolor": "white",
            "showbackground": true,
            "ticks": "",
            "zerolinecolor": "white"
           }
          },
          "shapedefaults": {
           "line": {
            "color": "#2a3f5f"
           }
          },
          "ternary": {
           "aaxis": {
            "gridcolor": "white",
            "linecolor": "white",
            "ticks": ""
           },
           "baxis": {
            "gridcolor": "white",
            "linecolor": "white",
            "ticks": ""
           },
           "bgcolor": "#E5ECF6",
           "caxis": {
            "gridcolor": "white",
            "linecolor": "white",
            "ticks": ""
           }
          },
          "title": {
           "x": 0.05
          },
          "xaxis": {
           "automargin": true,
           "gridcolor": "white",
           "linecolor": "white",
           "ticks": "",
           "title": {
            "standoff": 15
           },
           "zerolinecolor": "white",
           "zerolinewidth": 2
          },
          "yaxis": {
           "automargin": true,
           "gridcolor": "white",
           "linecolor": "white",
           "ticks": "",
           "title": {
            "standoff": 15
           },
           "zerolinecolor": "white",
           "zerolinewidth": 2
          }
         }
        },
        "title": {
         "text": "Boxplot da coluna nivel_satisfacao_gestor"
        },
        "xaxis": {
         "anchor": "y",
         "categoryarray": [
          0,
          1
         ],
         "categoryorder": "array",
         "domain": [
          0,
          1
         ],
         "title": {
          "text": "churn"
         }
        },
        "yaxis": {
         "anchor": "x",
         "domain": [
          0,
          1
         ],
         "title": {
          "text": "nivel_satisfacao_gestor"
         }
        }
       }
      }
     },
     "metadata": {},
     "output_type": "display_data"
    },
    {
     "data": {
      "application/vnd.plotly.v1+json": {
       "config": {
        "plotlyServerURL": "https://plot.ly"
       },
       "data": [
        {
         "alignmentgroup": "True",
         "hovertemplate": "churn=%{x}<br>tempo_empresa=%{y}<extra></extra>",
         "legendgroup": "0",
         "marker": {
          "color": "#636efa"
         },
         "name": "0",
         "notched": false,
         "offsetgroup": "0",
         "orientation": "v",
         "showlegend": true,
         "type": "box",
         "x": {
          "bdata": "AAAAAAAAAAAAAAAAAAAAAAAAAAAAAAAAAAAAAAAAAAAAAAAAAAAAAAAAAAAAAAAAAAAAAAAAAAAAAAAAAAAAAAAAAAAAAAAAAAAAAAAAAAAAAAAAAAAAAAAAAAAAAAAAAAAAAAAAAAAAAAAAAAAAAAAAAAAAAAAAAAAAAAAAAAAAAAAAAAAAAAAAAAAAAAAAAAAAAAAAAAAAAAAAAAAAAAAAAAAAAAAAAAAAAAAAAAAAAAAAAAAAAAAAAAAAAAAAAAAAAAAAAAAAAAAAAAAAAAAAAAAAAAAAAAAAAAAAAAAAAAAAAAAAAAAAAAAAAAAAAAAAAAAAAAAAAAAAAAAAAAAAAAAAAAAAAAAAAAAAAAAAAAAAAAAAAAAAAAAAAAAAAAAAAAAAAAAAAAAAAAAAAAAAAAAAAAAAAAAAAAAAAAAAAAAAAAAAAAAAAAAAAAAAAAAAAAAAAAAAAAAAAAAAAAAAAAAAAAAAAAAAAAAAAAAAAAAAAAAAAAAAAAAAAAAAAAAAAAAAAAAAAAAAAAAAAAAAAAAAAAAAAAAAAAAAAAAAAAAAAAAAAAAAAAAAAAAAAAAAAAAAAAAAAAAAAAAAAAAAAAAAAAAAAAAAAAAAAAAAAAAAAAAAAAAAAAAAAAAAAAAAAAAAAAAAAAAAAAAAAAAAAAAAAAAAAAAAAAAAAAAAAAAAAAAAAAAAAAAAAAAAAAAAAAAAAAAAAAAAAAAAAAAAAAAAAAAAAAAAAAAAAAAAAAAAAAAAAAAAAAAAAAAAAAAAAAAAAAAAAAAAAAAAAAAAAAAAAAAAAAAAAAAAAAAAAAAAAAAAAAAAAAAAAAAAAAAAAAAAAAAAAAAAAAAAAAAAAAAAAAAAAAAAAAAAAAAAAAAAAAAAAAAAAAAAAAAAAAAAAAAAAAAAAAAAAAAAAAAAAAAAAAAAAAAAAAAAAAAAAAAAAAAAAAAAAAAAAAAAAAAAAAAAAAAAAAAAAAAAAAAAAAAAAAAAAAAAAAAAAAAAAAAAAAAAAAAAAAAAAAAAAAAAAAAAAAAAAAAAAAAAAAAAAAAAAAAAAAAAAAAAAAAAAAAAAAAAAAAAAAAAAAAAAAAAAAAAAAAAAAAAAAAAAAAAAAAAAAAAAAAAAAAAAAAAAAAAAAAAAAAAAAAAAAAAAAAAAAAAAAAAAAAAAAAAAAAAAAAAAAAAAAAAAAAAAAAAAAAAAAAAAAAAAAAAAAAAAAAAAAAAAAAAAAAAAAAAAAAAAAAAAAAAAAAAAAAAAAAAAAAAAAAAAAAAAAAAAAAAAAAAAAAAAAAAAAAAAAAAAAAAAAAAAAAAAAAAAAAAAAAAAAAAAAAAAAAAAAAAAAAAAAAAAAAAAAAAAAAAAAAAAAAAAAAAAAAAAAAAAAAAAAAAAAAAAAAAAAAAAAAAAAAAAAAAAAAAAAAAAAAAAAAAAAAAAAAAAAAAAAAAAAAAAAAAAAAAAAAAAAAAAAAAAAAAAAAAAAAAAAAAAAAAAAAAAAAAAAAAAAAAAAAAAAAAAAAAAAAAAAAAAAAAAAAAAAAAAAAAAAAAAAAAAAAAAAAAAAAAAAAAAAAAAAAAAAAAAAAAAAAAAAAAAAAAAAAAAAAAAAAAAAAAAAAAAAAAAAAAAAAAAAAAAAAAAAAAAAAAAAAAAAAAAAAAAAAAAAAAAAAAAAAAAAAAAAAAAAAAAAAAAAAAAAAAAAAAAAAAAAAAAAAAAAAAAAAAAAAAAAAAAAAAAAAAAAAAAAAAAAAAAAAAAAAAAAAAAAAAAAAAAAAAAAAAAAAAAAAAAAAAAAAAAAAAAAAAAAAAAAAAAAAAAAAAAAAAAAAAAAAAAAAAAAAAAAAAAAAAAAAAAAAAAAAAAAAAAAAAAAAAAAAAAAAAAAAAAAAAAAAAAAAAAAAAAAAAAAAAAAAAAAAAAAAAAAAAAAAAAAAAAAAAAAAAAAAAAAAAAAAAAAAAAAAAAAAAAAAAAAAAAAAAAAAAAAAAAAAAAAAAAAAAAAAAAAAAAAAAAAAAAAAAAAAAAAAAAAAAAAAAAAAAAAAAAAAAAAAAAAAAAAAAAAAAAAAAAAAAAAAAAAAAAAAAAAAAAAAAAAAAAAAAAAAAAAAAAAAAAAAAAAAAAAAAAAAAAAAAAAAAAAAAAAAAAAAAAAAAAAAAAAAAAAAAAAAAAAAAAAAAAAAAAAAAAAAAAAAAAAAAAAAAAAAAAAAAAAAAAAAAAAAAAAAAAAAAAAAAAAAAAAAAAAAAAAAAAAAAAAAAAAAAAAAAAAAAAAAAAAAAAAAAAAAAAAAAAAAAAAAAAA==",
          "dtype": "i1"
         },
         "x0": " ",
         "xaxis": "x",
         "y": {
          "bdata": "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",
          "dtype": "i2"
         },
         "y0": " ",
         "yaxis": "y"
        },
        {
         "alignmentgroup": "True",
         "hovertemplate": "churn=%{x}<br>tempo_empresa=%{y}<extra></extra>",
         "legendgroup": "1",
         "marker": {
          "color": "#EF553B"
         },
         "name": "1",
         "notched": false,
         "offsetgroup": "1",
         "orientation": "v",
         "showlegend": true,
         "type": "box",
         "x": {
          "bdata": "AQEBAQEBAQEBAQEBAQEBAQEBAQEBAQEBAQEBAQEBAQEBAQEBAQEBAQEBAQEBAQEBAQEBAQEBAQEBAQEBAQEBAQEBAQEBAQEBAQEBAQEBAQEBAQEBAQEBAQEBAQEBAQEBAQEBAQEBAQEBAQEBAQEBAQEBAQEBAQEBAQEBAQEBAQEBAQEBAQEBAQEBAQEBAQEBAQEBAQEBAQEBAQEBAQEBAQEBAQEBAQEBAQEBAQEBAQEBAQEBAQEBAQEBAQEBAQEBAQEBAQEBAQEBAQEBAQEBAQEBAQEBAQEBAQEBAQEBAQEBAQEBAQEBAQEBAQEBAQEBAQEBAQEBAQEBAQEBAQEBAQEBAQEBAQEBAQEBAQEBAQEBAQEBAQEBAQEBAQEBAQ==",
          "dtype": "i1"
         },
         "x0": " ",
         "xaxis": "x",
         "y": {
          "bdata": "uwNqA38F3gNoBokE+QJVAT0DZQUEBnYCGQKZAIEDDwJzBTEFNgXSAt4DVAVdBDoEGwO7BOYEHQM9BWMCWQIAAccEkQCDBAoD+QOjAxkC6wVuAQAEJgL4A/kArwAmAE8ALQDWBcUB/ALCATUAxwMCBGAApANkAD4CuwIrAAUFUgL4AIwBqQHUA68AYQF9AzMBHQTNAo8EUQAPAzIF7wTNA6gBTARAAkIEawS8BL0EcwFRBKQECQU/BDEBsQBjBIgC0wSPAoUAdgBEBK0EYQDnAIsEFwKrAagAawQ8AlwBsABzA8wCigAdAqwAOwDJAG0D4gMCA40AvwNFAaQCaQGFAbkDqAOlA98CCwJiAWkD/gGHA+YCVwLKAO8DkwNrA/YCbwBfAfsBIAKmArgBIwJGA6MABwN8AIkDXALDAngAXwEEARQB3wIuAEMCxQFHAhkCPwKnAYsACwIuAHMCNQHPAigAegACAYMAlACjAuEARQLVASYA+ABIAMsBVABpAWoAXABWAiwBxwHpAE4ADQIIAQcBCwJLAWMA5QBHAV8AtwFMAVAB5ACNAQ8BlgFOAXQARQGWAcIBpQG2AKEA8gC4AfkAcgHGATEBZQFjAAUBTgHQAHIAngGKAdgAUQH/AF4BaAFqAVkAPQEZAQEBTgG3ACIAKADSALgATgCpALYALwB9AEAABAHsADEAXgDnAD8A4gDPANQAzgBDALMAggCbALoAMwBJAE4AYQBmACoAjABiAGAARgBGAGQASgA=",
          "dtype": "i2"
         },
         "y0": " ",
         "yaxis": "y"
        }
       ],
       "layout": {
        "boxmode": "overlay",
        "legend": {
         "title": {
          "text": "churn"
         },
         "tracegroupgap": 0
        },
        "template": {
         "data": {
          "bar": [
           {
            "error_x": {
             "color": "#2a3f5f"
            },
            "error_y": {
             "color": "#2a3f5f"
            },
            "marker": {
             "line": {
              "color": "#E5ECF6",
              "width": 0.5
             },
             "pattern": {
              "fillmode": "overlay",
              "size": 10,
              "solidity": 0.2
             }
            },
            "type": "bar"
           }
          ],
          "barpolar": [
           {
            "marker": {
             "line": {
              "color": "#E5ECF6",
              "width": 0.5
             },
             "pattern": {
              "fillmode": "overlay",
              "size": 10,
              "solidity": 0.2
             }
            },
            "type": "barpolar"
           }
          ],
          "carpet": [
           {
            "aaxis": {
             "endlinecolor": "#2a3f5f",
             "gridcolor": "white",
             "linecolor": "white",
             "minorgridcolor": "white",
             "startlinecolor": "#2a3f5f"
            },
            "baxis": {
             "endlinecolor": "#2a3f5f",
             "gridcolor": "white",
             "linecolor": "white",
             "minorgridcolor": "white",
             "startlinecolor": "#2a3f5f"
            },
            "type": "carpet"
           }
          ],
          "choropleth": [
           {
            "colorbar": {
             "outlinewidth": 0,
             "ticks": ""
            },
            "type": "choropleth"
           }
          ],
          "contour": [
           {
            "colorbar": {
             "outlinewidth": 0,
             "ticks": ""
            },
            "colorscale": [
             [
              0,
              "#0d0887"
             ],
             [
              0.1111111111111111,
              "#46039f"
             ],
             [
              0.2222222222222222,
              "#7201a8"
             ],
             [
              0.3333333333333333,
              "#9c179e"
             ],
             [
              0.4444444444444444,
              "#bd3786"
             ],
             [
              0.5555555555555556,
              "#d8576b"
             ],
             [
              0.6666666666666666,
              "#ed7953"
             ],
             [
              0.7777777777777778,
              "#fb9f3a"
             ],
             [
              0.8888888888888888,
              "#fdca26"
             ],
             [
              1,
              "#f0f921"
             ]
            ],
            "type": "contour"
           }
          ],
          "contourcarpet": [
           {
            "colorbar": {
             "outlinewidth": 0,
             "ticks": ""
            },
            "type": "contourcarpet"
           }
          ],
          "heatmap": [
           {
            "colorbar": {
             "outlinewidth": 0,
             "ticks": ""
            },
            "colorscale": [
             [
              0,
              "#0d0887"
             ],
             [
              0.1111111111111111,
              "#46039f"
             ],
             [
              0.2222222222222222,
              "#7201a8"
             ],
             [
              0.3333333333333333,
              "#9c179e"
             ],
             [
              0.4444444444444444,
              "#bd3786"
             ],
             [
              0.5555555555555556,
              "#d8576b"
             ],
             [
              0.6666666666666666,
              "#ed7953"
             ],
             [
              0.7777777777777778,
              "#fb9f3a"
             ],
             [
              0.8888888888888888,
              "#fdca26"
             ],
             [
              1,
              "#f0f921"
             ]
            ],
            "type": "heatmap"
           }
          ],
          "histogram": [
           {
            "marker": {
             "pattern": {
              "fillmode": "overlay",
              "size": 10,
              "solidity": 0.2
             }
            },
            "type": "histogram"
           }
          ],
          "histogram2d": [
           {
            "colorbar": {
             "outlinewidth": 0,
             "ticks": ""
            },
            "colorscale": [
             [
              0,
              "#0d0887"
             ],
             [
              0.1111111111111111,
              "#46039f"
             ],
             [
              0.2222222222222222,
              "#7201a8"
             ],
             [
              0.3333333333333333,
              "#9c179e"
             ],
             [
              0.4444444444444444,
              "#bd3786"
             ],
             [
              0.5555555555555556,
              "#d8576b"
             ],
             [
              0.6666666666666666,
              "#ed7953"
             ],
             [
              0.7777777777777778,
              "#fb9f3a"
             ],
             [
              0.8888888888888888,
              "#fdca26"
             ],
             [
              1,
              "#f0f921"
             ]
            ],
            "type": "histogram2d"
           }
          ],
          "histogram2dcontour": [
           {
            "colorbar": {
             "outlinewidth": 0,
             "ticks": ""
            },
            "colorscale": [
             [
              0,
              "#0d0887"
             ],
             [
              0.1111111111111111,
              "#46039f"
             ],
             [
              0.2222222222222222,
              "#7201a8"
             ],
             [
              0.3333333333333333,
              "#9c179e"
             ],
             [
              0.4444444444444444,
              "#bd3786"
             ],
             [
              0.5555555555555556,
              "#d8576b"
             ],
             [
              0.6666666666666666,
              "#ed7953"
             ],
             [
              0.7777777777777778,
              "#fb9f3a"
             ],
             [
              0.8888888888888888,
              "#fdca26"
             ],
             [
              1,
              "#f0f921"
             ]
            ],
            "type": "histogram2dcontour"
           }
          ],
          "mesh3d": [
           {
            "colorbar": {
             "outlinewidth": 0,
             "ticks": ""
            },
            "type": "mesh3d"
           }
          ],
          "parcoords": [
           {
            "line": {
             "colorbar": {
              "outlinewidth": 0,
              "ticks": ""
             }
            },
            "type": "parcoords"
           }
          ],
          "pie": [
           {
            "automargin": true,
            "type": "pie"
           }
          ],
          "scatter": [
           {
            "fillpattern": {
             "fillmode": "overlay",
             "size": 10,
             "solidity": 0.2
            },
            "type": "scatter"
           }
          ],
          "scatter3d": [
           {
            "line": {
             "colorbar": {
              "outlinewidth": 0,
              "ticks": ""
             }
            },
            "marker": {
             "colorbar": {
              "outlinewidth": 0,
              "ticks": ""
             }
            },
            "type": "scatter3d"
           }
          ],
          "scattercarpet": [
           {
            "marker": {
             "colorbar": {
              "outlinewidth": 0,
              "ticks": ""
             }
            },
            "type": "scattercarpet"
           }
          ],
          "scattergeo": [
           {
            "marker": {
             "colorbar": {
              "outlinewidth": 0,
              "ticks": ""
             }
            },
            "type": "scattergeo"
           }
          ],
          "scattergl": [
           {
            "marker": {
             "colorbar": {
              "outlinewidth": 0,
              "ticks": ""
             }
            },
            "type": "scattergl"
           }
          ],
          "scattermap": [
           {
            "marker": {
             "colorbar": {
              "outlinewidth": 0,
              "ticks": ""
             }
            },
            "type": "scattermap"
           }
          ],
          "scattermapbox": [
           {
            "marker": {
             "colorbar": {
              "outlinewidth": 0,
              "ticks": ""
             }
            },
            "type": "scattermapbox"
           }
          ],
          "scatterpolar": [
           {
            "marker": {
             "colorbar": {
              "outlinewidth": 0,
              "ticks": ""
             }
            },
            "type": "scatterpolar"
           }
          ],
          "scatterpolargl": [
           {
            "marker": {
             "colorbar": {
              "outlinewidth": 0,
              "ticks": ""
             }
            },
            "type": "scatterpolargl"
           }
          ],
          "scatterternary": [
           {
            "marker": {
             "colorbar": {
              "outlinewidth": 0,
              "ticks": ""
             }
            },
            "type": "scatterternary"
           }
          ],
          "surface": [
           {
            "colorbar": {
             "outlinewidth": 0,
             "ticks": ""
            },
            "colorscale": [
             [
              0,
              "#0d0887"
             ],
             [
              0.1111111111111111,
              "#46039f"
             ],
             [
              0.2222222222222222,
              "#7201a8"
             ],
             [
              0.3333333333333333,
              "#9c179e"
             ],
             [
              0.4444444444444444,
              "#bd3786"
             ],
             [
              0.5555555555555556,
              "#d8576b"
             ],
             [
              0.6666666666666666,
              "#ed7953"
             ],
             [
              0.7777777777777778,
              "#fb9f3a"
             ],
             [
              0.8888888888888888,
              "#fdca26"
             ],
             [
              1,
              "#f0f921"
             ]
            ],
            "type": "surface"
           }
          ],
          "table": [
           {
            "cells": {
             "fill": {
              "color": "#EBF0F8"
             },
             "line": {
              "color": "white"
             }
            },
            "header": {
             "fill": {
              "color": "#C8D4E3"
             },
             "line": {
              "color": "white"
             }
            },
            "type": "table"
           }
          ]
         },
         "layout": {
          "annotationdefaults": {
           "arrowcolor": "#2a3f5f",
           "arrowhead": 0,
           "arrowwidth": 1
          },
          "autotypenumbers": "strict",
          "coloraxis": {
           "colorbar": {
            "outlinewidth": 0,
            "ticks": ""
           }
          },
          "colorscale": {
           "diverging": [
            [
             0,
             "#8e0152"
            ],
            [
             0.1,
             "#c51b7d"
            ],
            [
             0.2,
             "#de77ae"
            ],
            [
             0.3,
             "#f1b6da"
            ],
            [
             0.4,
             "#fde0ef"
            ],
            [
             0.5,
             "#f7f7f7"
            ],
            [
             0.6,
             "#e6f5d0"
            ],
            [
             0.7,
             "#b8e186"
            ],
            [
             0.8,
             "#7fbc41"
            ],
            [
             0.9,
             "#4d9221"
            ],
            [
             1,
             "#276419"
            ]
           ],
           "sequential": [
            [
             0,
             "#0d0887"
            ],
            [
             0.1111111111111111,
             "#46039f"
            ],
            [
             0.2222222222222222,
             "#7201a8"
            ],
            [
             0.3333333333333333,
             "#9c179e"
            ],
            [
             0.4444444444444444,
             "#bd3786"
            ],
            [
             0.5555555555555556,
             "#d8576b"
            ],
            [
             0.6666666666666666,
             "#ed7953"
            ],
            [
             0.7777777777777778,
             "#fb9f3a"
            ],
            [
             0.8888888888888888,
             "#fdca26"
            ],
            [
             1,
             "#f0f921"
            ]
           ],
           "sequentialminus": [
            [
             0,
             "#0d0887"
            ],
            [
             0.1111111111111111,
             "#46039f"
            ],
            [
             0.2222222222222222,
             "#7201a8"
            ],
            [
             0.3333333333333333,
             "#9c179e"
            ],
            [
             0.4444444444444444,
             "#bd3786"
            ],
            [
             0.5555555555555556,
             "#d8576b"
            ],
            [
             0.6666666666666666,
             "#ed7953"
            ],
            [
             0.7777777777777778,
             "#fb9f3a"
            ],
            [
             0.8888888888888888,
             "#fdca26"
            ],
            [
             1,
             "#f0f921"
            ]
           ]
          },
          "colorway": [
           "#636efa",
           "#EF553B",
           "#00cc96",
           "#ab63fa",
           "#FFA15A",
           "#19d3f3",
           "#FF6692",
           "#B6E880",
           "#FF97FF",
           "#FECB52"
          ],
          "font": {
           "color": "#2a3f5f"
          },
          "geo": {
           "bgcolor": "white",
           "lakecolor": "white",
           "landcolor": "#E5ECF6",
           "showlakes": true,
           "showland": true,
           "subunitcolor": "white"
          },
          "hoverlabel": {
           "align": "left"
          },
          "hovermode": "closest",
          "mapbox": {
           "style": "light"
          },
          "paper_bgcolor": "white",
          "plot_bgcolor": "#E5ECF6",
          "polar": {
           "angularaxis": {
            "gridcolor": "white",
            "linecolor": "white",
            "ticks": ""
           },
           "bgcolor": "#E5ECF6",
           "radialaxis": {
            "gridcolor": "white",
            "linecolor": "white",
            "ticks": ""
           }
          },
          "scene": {
           "xaxis": {
            "backgroundcolor": "#E5ECF6",
            "gridcolor": "white",
            "gridwidth": 2,
            "linecolor": "white",
            "showbackground": true,
            "ticks": "",
            "zerolinecolor": "white"
           },
           "yaxis": {
            "backgroundcolor": "#E5ECF6",
            "gridcolor": "white",
            "gridwidth": 2,
            "linecolor": "white",
            "showbackground": true,
            "ticks": "",
            "zerolinecolor": "white"
           },
           "zaxis": {
            "backgroundcolor": "#E5ECF6",
            "gridcolor": "white",
            "gridwidth": 2,
            "linecolor": "white",
            "showbackground": true,
            "ticks": "",
            "zerolinecolor": "white"
           }
          },
          "shapedefaults": {
           "line": {
            "color": "#2a3f5f"
           }
          },
          "ternary": {
           "aaxis": {
            "gridcolor": "white",
            "linecolor": "white",
            "ticks": ""
           },
           "baxis": {
            "gridcolor": "white",
            "linecolor": "white",
            "ticks": ""
           },
           "bgcolor": "#E5ECF6",
           "caxis": {
            "gridcolor": "white",
            "linecolor": "white",
            "ticks": ""
           }
          },
          "title": {
           "x": 0.05
          },
          "xaxis": {
           "automargin": true,
           "gridcolor": "white",
           "linecolor": "white",
           "ticks": "",
           "title": {
            "standoff": 15
           },
           "zerolinecolor": "white",
           "zerolinewidth": 2
          },
          "yaxis": {
           "automargin": true,
           "gridcolor": "white",
           "linecolor": "white",
           "ticks": "",
           "title": {
            "standoff": 15
           },
           "zerolinecolor": "white",
           "zerolinewidth": 2
          }
         }
        },
        "title": {
         "text": "Boxplot da coluna tempo_empresa"
        },
        "xaxis": {
         "anchor": "y",
         "categoryarray": [
          0,
          1
         ],
         "categoryorder": "array",
         "domain": [
          0,
          1
         ],
         "title": {
          "text": "churn"
         }
        },
        "yaxis": {
         "anchor": "x",
         "domain": [
          0,
          1
         ],
         "title": {
          "text": "tempo_empresa"
         }
        }
       }
      }
     },
     "metadata": {},
     "output_type": "display_data"
    },
    {
     "data": {
      "application/vnd.plotly.v1+json": {
       "config": {
        "plotlyServerURL": "https://plot.ly"
       },
       "data": [
        {
         "alignmentgroup": "True",
         "hovertemplate": "churn=%{x}<br>tempo_desde_ultimo_feedback=%{y}<extra></extra>",
         "legendgroup": "0",
         "marker": {
          "color": "#636efa"
         },
         "name": "0",
         "notched": false,
         "offsetgroup": "0",
         "orientation": "v",
         "showlegend": true,
         "type": "box",
         "x": {
          "bdata": "AAAAAAAAAAAAAAAAAAAAAAAAAAAAAAAAAAAAAAAAAAAAAAAAAAAAAAAAAAAAAAAAAAAAAAAAAAAAAAAAAAAAAAAAAAAAAAAAAAAAAAAAAAAAAAAAAAAAAAAAAAAAAAAAAAAAAAAAAAAAAAAAAAAAAAAAAAAAAAAAAAAAAAAAAAAAAAAAAAAAAAAAAAAAAAAAAAAAAAAAAAAAAAAAAAAAAAAAAAAAAAAAAAAAAAAAAAAAAAAAAAAAAAAAAAAAAAAAAAAAAAAAAAAAAAAAAAAAAAAAAAAAAAAAAAAAAAAAAAAAAAAAAAAAAAAAAAAAAAAAAAAAAAAAAAAAAAAAAAAAAAAAAAAAAAAAAAAAAAAAAAAAAAAAAAAAAAAAAAAAAAAAAAAAAAAAAAAAAAAAAAAAAAAAAAAAAAAAAAAAAAAAAAAAAAAAAAAAAAAAAAAAAAAAAAAAAAAAAAAAAAAAAAAAAAAAAAAAAAAAAAAAAAAAAAAAAAAAAAAAAAAAAAAAAAAAAAAAAAAAAAAAAAAAAAAAAAAAAAAAAAAAAAAAAAAAAAAAAAAAAAAAAAAAAAAAAAAAAAAAAAAAAAAAAAAAAAAAAAAAAAAAAAAAAAAAAAAAAAAAAAAAAAAAAAAAAAAAAAAAAAAAAAAAAAAAAAAAAAAAAAAAAAAAAAAAAAAAAAAAAAAAAAAAAAAAAAAAAAAAAAAAAAAAAAAAAAAAAAAAAAAAAAAAAAAAAAAAAAAAAAAAAAAAAAAAAAAAAAAAAAAAAAAAAAAAAAAAAAAAAAAAAAAAAAAAAAAAAAAAAAAAAAAAAAAAAAAAAAAAAAAAAAAAAAAAAAAAAAAAAAAAAAAAAAAAAAAAAAAAAAAAAAAAAAAAAAAAAAAAAAAAAAAAAAAAAAAAAAAAAAAAAAAAAAAAAAAAAAAAAAAAAAAAAAAAAAAAAAAAAAAAAAAAAAAAAAAAAAAAAAAAAAAAAAAAAAAAAAAAAAAAAAAAAAAAAAAAAAAAAAAAAAAAAAAAAAAAAAAAAAAAAAAAAAAAAAAAAAAAAAAAAAAAAAAAAAAAAAAAAAAAAAAAAAAAAAAAAAAAAAAAAAAAAAAAAAAAAAAAAAAAAAAAAAAAAAAAAAAAAAAAAAAAAAAAAAAAAAAAAAAAAAAAAAAAAAAAAAAAAAAAAAAAAAAAAAAAAAAAAAAAAAAAAAAAAAAAAAAAAAAAAAAAAAAAAAAAAAAAAAAAAAAAAAAAAAAAAAAAAAAAAAAAAAAAAAAAAAAAAAAAAAAAAAAAAAAAAAAAAAAAAAAAAAAAAAAAAAAAAAAAAAAAAAAAAAAAAAAAAAAAAAAAAAAAAAAAAAAAAAAAAAAAAAAAAAAAAAAAAAAAAAAAAAAAAAAAAAAAAAAAAAAAAAAAAAAAAAAAAAAAAAAAAAAAAAAAAAAAAAAAAAAAAAAAAAAAAAAAAAAAAAAAAAAAAAAAAAAAAAAAAAAAAAAAAAAAAAAAAAAAAAAAAAAAAAAAAAAAAAAAAAAAAAAAAAAAAAAAAAAAAAAAAAAAAAAAAAAAAAAAAAAAAAAAAAAAAAAAAAAAAAAAAAAAAAAAAAAAAAAAAAAAAAAAAAAAAAAAAAAAAAAAAAAAAAAAAAAAAAAAAAAAAAAAAAAAAAAAAAAAAAAAAAAAAAAAAAAAAAAAAAAAAAAAAAAAAAAAAAAAAAAAAAAAAAAAAAAAAAAAAAAAAAAAAAAAAAAAAAAAAAAAAAAAAAAAAAAAAAAAAAAAAAAAAAAAAAAAAAAAAAAAAAAAAAAAAAAAAAAAAAAAAAAAAAAAAAAAAAAAAAAAAAAAAAAAAAAAAAAAAAAAAAAAAAAAAAAAAAAAAAAAAAAAAAAAAAAAAAAAAAAAAAAAAAAAAAAAAAAAAAAAAAAAAAAAAAAAAAAAAAAAAAAAAAAAAAAAAAAAAAAAAAAAAAAAAAAAAAAAAAAAAAAAAAAAAAAAAAAAAAAAAAAAAAAAAAAAAAAAAAAAAAAAAAAAAAAAAAAAAAAAAAAAAAAAAAAAAAAAAAAAAAAAAAAAAAAAAAAAAAAAAAAAAAAAAAAAAAAAAAAAAAAAAAAAAAAAAAAAAAAAAAAAAAAAAAAAAAAAAAAAAAAAAAAAAAAAAAAAAAAAAAAAAAAAAAAAAAAAAAAAAAAAAAAAAAAAAAAAAAAAAAAAAAAAAAAAAAAAAAAAAAAAAAAAAAAAAAAAAAAAAAAAAAAAAAAAAAAAAAAAAAAAAAAAAAAAAAAAAAAAAAAAAAAAAAAAAAAAAAAAAAAAAAAAAAAAAAAAAA==",
          "dtype": "i1"
         },
         "x0": " ",
         "xaxis": "x",
         "y": {
          "bdata": "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",
          "dtype": "i2"
         },
         "y0": " ",
         "yaxis": "y"
        },
        {
         "alignmentgroup": "True",
         "hovertemplate": "churn=%{x}<br>tempo_desde_ultimo_feedback=%{y}<extra></extra>",
         "legendgroup": "1",
         "marker": {
          "color": "#EF553B"
         },
         "name": "1",
         "notched": false,
         "offsetgroup": "1",
         "orientation": "v",
         "showlegend": true,
         "type": "box",
         "x": {
          "bdata": "AQEBAQEBAQEBAQEBAQEBAQEBAQEBAQEBAQEBAQEBAQEBAQEBAQEBAQEBAQEBAQEBAQEBAQEBAQEBAQEBAQEBAQEBAQEBAQEBAQEBAQEBAQEBAQEBAQEBAQEBAQEBAQEBAQEBAQEBAQEBAQEBAQEBAQEBAQEBAQEBAQEBAQEBAQEBAQEBAQEBAQEBAQEBAQEBAQEBAQEBAQEBAQEBAQEBAQEBAQEBAQEBAQEBAQEBAQEBAQEBAQEBAQEBAQEBAQEBAQEBAQEBAQEBAQEBAQEBAQEBAQEBAQEBAQEBAQEBAQEBAQEBAQEBAQEBAQEBAQEBAQEBAQEBAQEBAQEBAQEBAQEBAQEBAQEBAQEBAQEBAQEBAQEBAQEBAQEBAQEBAQ==",
          "dtype": "i1"
         },
         "x0": " ",
         "xaxis": "x",
         "y": {
          "bdata": "KwazBiYHZgWZAe0D5gYMB0IFkQUoAjMGPAWWBqUGagYkBTQCxwa0Bv0EbgaCBdQE5wNIBlcGwAVaApAEzgSaBYYGWQZOBHAE6wMZBokFpASOBekEqQUuBqIFIwZMBh8GOAbLAvEEDwXLBDUGVAOoAs4F9QXOBYoFGAT+Bc4DTgXvBeUEigVdBJ8F1gXkAwUFKAU4A7gCdgUJA1IBowHFAiAFpgF6A5UBLAL7AtsC0gQnA7MELwVFAuEEZgWEA9UEzgLtBCMFSQUrAuEDFAUZBTMFTgMNBfUEPQOGBJ0EjwS6AgoE5QSeBMsE4wRCBGoDbASlAm4E7AJYBK8CdAOWBE4CUAIQAlwCagN1A+MBpgTOAuQC9QNpBHMB/QMtBMQBCATxAzADIgJcA/8CUwIqA74DuQLmA0EC2ANkAskD7wIFA0ADUgGYA0YCfwN6AuICjgJQAzMDYQNlA78C9QITAzkDJwN9AusC0wL5AhUDWwKaAvsCfgK+AoAC6ALjAs4CrgJPApcCMgEYApsC0gF+ApQCVwKwAZkCEgJRAoUCTwFkAuAB6gFAAnwBrQGYAQsCfAFTAcMA0AGpAegB5wErARMC0wBMAd8BHQHlAfMB0gH0AcUBlAHAAFQB1ABKAc4AVAEuAcsBcwH+ABUBnwC4AaoBmAEbARABqwE+AQoBdgGMAWEBBAHwAHoBQQEoAWwB7QDJANAAOAFEATUBuAC0AH4AKAEIAQQB4QDnAN4AxAC9ALoAqQCgAMoAkwA=",
          "dtype": "i2"
         },
         "y0": " ",
         "yaxis": "y"
        }
       ],
       "layout": {
        "boxmode": "overlay",
        "legend": {
         "title": {
          "text": "churn"
         },
         "tracegroupgap": 0
        },
        "template": {
         "data": {
          "bar": [
           {
            "error_x": {
             "color": "#2a3f5f"
            },
            "error_y": {
             "color": "#2a3f5f"
            },
            "marker": {
             "line": {
              "color": "#E5ECF6",
              "width": 0.5
             },
             "pattern": {
              "fillmode": "overlay",
              "size": 10,
              "solidity": 0.2
             }
            },
            "type": "bar"
           }
          ],
          "barpolar": [
           {
            "marker": {
             "line": {
              "color": "#E5ECF6",
              "width": 0.5
             },
             "pattern": {
              "fillmode": "overlay",
              "size": 10,
              "solidity": 0.2
             }
            },
            "type": "barpolar"
           }
          ],
          "carpet": [
           {
            "aaxis": {
             "endlinecolor": "#2a3f5f",
             "gridcolor": "white",
             "linecolor": "white",
             "minorgridcolor": "white",
             "startlinecolor": "#2a3f5f"
            },
            "baxis": {
             "endlinecolor": "#2a3f5f",
             "gridcolor": "white",
             "linecolor": "white",
             "minorgridcolor": "white",
             "startlinecolor": "#2a3f5f"
            },
            "type": "carpet"
           }
          ],
          "choropleth": [
           {
            "colorbar": {
             "outlinewidth": 0,
             "ticks": ""
            },
            "type": "choropleth"
           }
          ],
          "contour": [
           {
            "colorbar": {
             "outlinewidth": 0,
             "ticks": ""
            },
            "colorscale": [
             [
              0,
              "#0d0887"
             ],
             [
              0.1111111111111111,
              "#46039f"
             ],
             [
              0.2222222222222222,
              "#7201a8"
             ],
             [
              0.3333333333333333,
              "#9c179e"
             ],
             [
              0.4444444444444444,
              "#bd3786"
             ],
             [
              0.5555555555555556,
              "#d8576b"
             ],
             [
              0.6666666666666666,
              "#ed7953"
             ],
             [
              0.7777777777777778,
              "#fb9f3a"
             ],
             [
              0.8888888888888888,
              "#fdca26"
             ],
             [
              1,
              "#f0f921"
             ]
            ],
            "type": "contour"
           }
          ],
          "contourcarpet": [
           {
            "colorbar": {
             "outlinewidth": 0,
             "ticks": ""
            },
            "type": "contourcarpet"
           }
          ],
          "heatmap": [
           {
            "colorbar": {
             "outlinewidth": 0,
             "ticks": ""
            },
            "colorscale": [
             [
              0,
              "#0d0887"
             ],
             [
              0.1111111111111111,
              "#46039f"
             ],
             [
              0.2222222222222222,
              "#7201a8"
             ],
             [
              0.3333333333333333,
              "#9c179e"
             ],
             [
              0.4444444444444444,
              "#bd3786"
             ],
             [
              0.5555555555555556,
              "#d8576b"
             ],
             [
              0.6666666666666666,
              "#ed7953"
             ],
             [
              0.7777777777777778,
              "#fb9f3a"
             ],
             [
              0.8888888888888888,
              "#fdca26"
             ],
             [
              1,
              "#f0f921"
             ]
            ],
            "type": "heatmap"
           }
          ],
          "histogram": [
           {
            "marker": {
             "pattern": {
              "fillmode": "overlay",
              "size": 10,
              "solidity": 0.2
             }
            },
            "type": "histogram"
           }
          ],
          "histogram2d": [
           {
            "colorbar": {
             "outlinewidth": 0,
             "ticks": ""
            },
            "colorscale": [
             [
              0,
              "#0d0887"
             ],
             [
              0.1111111111111111,
              "#46039f"
             ],
             [
              0.2222222222222222,
              "#7201a8"
             ],
             [
              0.3333333333333333,
              "#9c179e"
             ],
             [
              0.4444444444444444,
              "#bd3786"
             ],
             [
              0.5555555555555556,
              "#d8576b"
             ],
             [
              0.6666666666666666,
              "#ed7953"
             ],
             [
              0.7777777777777778,
              "#fb9f3a"
             ],
             [
              0.8888888888888888,
              "#fdca26"
             ],
             [
              1,
              "#f0f921"
             ]
            ],
            "type": "histogram2d"
           }
          ],
          "histogram2dcontour": [
           {
            "colorbar": {
             "outlinewidth": 0,
             "ticks": ""
            },
            "colorscale": [
             [
              0,
              "#0d0887"
             ],
             [
              0.1111111111111111,
              "#46039f"
             ],
             [
              0.2222222222222222,
              "#7201a8"
             ],
             [
              0.3333333333333333,
              "#9c179e"
             ],
             [
              0.4444444444444444,
              "#bd3786"
             ],
             [
              0.5555555555555556,
              "#d8576b"
             ],
             [
              0.6666666666666666,
              "#ed7953"
             ],
             [
              0.7777777777777778,
              "#fb9f3a"
             ],
             [
              0.8888888888888888,
              "#fdca26"
             ],
             [
              1,
              "#f0f921"
             ]
            ],
            "type": "histogram2dcontour"
           }
          ],
          "mesh3d": [
           {
            "colorbar": {
             "outlinewidth": 0,
             "ticks": ""
            },
            "type": "mesh3d"
           }
          ],
          "parcoords": [
           {
            "line": {
             "colorbar": {
              "outlinewidth": 0,
              "ticks": ""
             }
            },
            "type": "parcoords"
           }
          ],
          "pie": [
           {
            "automargin": true,
            "type": "pie"
           }
          ],
          "scatter": [
           {
            "fillpattern": {
             "fillmode": "overlay",
             "size": 10,
             "solidity": 0.2
            },
            "type": "scatter"
           }
          ],
          "scatter3d": [
           {
            "line": {
             "colorbar": {
              "outlinewidth": 0,
              "ticks": ""
             }
            },
            "marker": {
             "colorbar": {
              "outlinewidth": 0,
              "ticks": ""
             }
            },
            "type": "scatter3d"
           }
          ],
          "scattercarpet": [
           {
            "marker": {
             "colorbar": {
              "outlinewidth": 0,
              "ticks": ""
             }
            },
            "type": "scattercarpet"
           }
          ],
          "scattergeo": [
           {
            "marker": {
             "colorbar": {
              "outlinewidth": 0,
              "ticks": ""
             }
            },
            "type": "scattergeo"
           }
          ],
          "scattergl": [
           {
            "marker": {
             "colorbar": {
              "outlinewidth": 0,
              "ticks": ""
             }
            },
            "type": "scattergl"
           }
          ],
          "scattermap": [
           {
            "marker": {
             "colorbar": {
              "outlinewidth": 0,
              "ticks": ""
             }
            },
            "type": "scattermap"
           }
          ],
          "scattermapbox": [
           {
            "marker": {
             "colorbar": {
              "outlinewidth": 0,
              "ticks": ""
             }
            },
            "type": "scattermapbox"
           }
          ],
          "scatterpolar": [
           {
            "marker": {
             "colorbar": {
              "outlinewidth": 0,
              "ticks": ""
             }
            },
            "type": "scatterpolar"
           }
          ],
          "scatterpolargl": [
           {
            "marker": {
             "colorbar": {
              "outlinewidth": 0,
              "ticks": ""
             }
            },
            "type": "scatterpolargl"
           }
          ],
          "scatterternary": [
           {
            "marker": {
             "colorbar": {
              "outlinewidth": 0,
              "ticks": ""
             }
            },
            "type": "scatterternary"
           }
          ],
          "surface": [
           {
            "colorbar": {
             "outlinewidth": 0,
             "ticks": ""
            },
            "colorscale": [
             [
              0,
              "#0d0887"
             ],
             [
              0.1111111111111111,
              "#46039f"
             ],
             [
              0.2222222222222222,
              "#7201a8"
             ],
             [
              0.3333333333333333,
              "#9c179e"
             ],
             [
              0.4444444444444444,
              "#bd3786"
             ],
             [
              0.5555555555555556,
              "#d8576b"
             ],
             [
              0.6666666666666666,
              "#ed7953"
             ],
             [
              0.7777777777777778,
              "#fb9f3a"
             ],
             [
              0.8888888888888888,
              "#fdca26"
             ],
             [
              1,
              "#f0f921"
             ]
            ],
            "type": "surface"
           }
          ],
          "table": [
           {
            "cells": {
             "fill": {
              "color": "#EBF0F8"
             },
             "line": {
              "color": "white"
             }
            },
            "header": {
             "fill": {
              "color": "#C8D4E3"
             },
             "line": {
              "color": "white"
             }
            },
            "type": "table"
           }
          ]
         },
         "layout": {
          "annotationdefaults": {
           "arrowcolor": "#2a3f5f",
           "arrowhead": 0,
           "arrowwidth": 1
          },
          "autotypenumbers": "strict",
          "coloraxis": {
           "colorbar": {
            "outlinewidth": 0,
            "ticks": ""
           }
          },
          "colorscale": {
           "diverging": [
            [
             0,
             "#8e0152"
            ],
            [
             0.1,
             "#c51b7d"
            ],
            [
             0.2,
             "#de77ae"
            ],
            [
             0.3,
             "#f1b6da"
            ],
            [
             0.4,
             "#fde0ef"
            ],
            [
             0.5,
             "#f7f7f7"
            ],
            [
             0.6,
             "#e6f5d0"
            ],
            [
             0.7,
             "#b8e186"
            ],
            [
             0.8,
             "#7fbc41"
            ],
            [
             0.9,
             "#4d9221"
            ],
            [
             1,
             "#276419"
            ]
           ],
           "sequential": [
            [
             0,
             "#0d0887"
            ],
            [
             0.1111111111111111,
             "#46039f"
            ],
            [
             0.2222222222222222,
             "#7201a8"
            ],
            [
             0.3333333333333333,
             "#9c179e"
            ],
            [
             0.4444444444444444,
             "#bd3786"
            ],
            [
             0.5555555555555556,
             "#d8576b"
            ],
            [
             0.6666666666666666,
             "#ed7953"
            ],
            [
             0.7777777777777778,
             "#fb9f3a"
            ],
            [
             0.8888888888888888,
             "#fdca26"
            ],
            [
             1,
             "#f0f921"
            ]
           ],
           "sequentialminus": [
            [
             0,
             "#0d0887"
            ],
            [
             0.1111111111111111,
             "#46039f"
            ],
            [
             0.2222222222222222,
             "#7201a8"
            ],
            [
             0.3333333333333333,
             "#9c179e"
            ],
            [
             0.4444444444444444,
             "#bd3786"
            ],
            [
             0.5555555555555556,
             "#d8576b"
            ],
            [
             0.6666666666666666,
             "#ed7953"
            ],
            [
             0.7777777777777778,
             "#fb9f3a"
            ],
            [
             0.8888888888888888,
             "#fdca26"
            ],
            [
             1,
             "#f0f921"
            ]
           ]
          },
          "colorway": [
           "#636efa",
           "#EF553B",
           "#00cc96",
           "#ab63fa",
           "#FFA15A",
           "#19d3f3",
           "#FF6692",
           "#B6E880",
           "#FF97FF",
           "#FECB52"
          ],
          "font": {
           "color": "#2a3f5f"
          },
          "geo": {
           "bgcolor": "white",
           "lakecolor": "white",
           "landcolor": "#E5ECF6",
           "showlakes": true,
           "showland": true,
           "subunitcolor": "white"
          },
          "hoverlabel": {
           "align": "left"
          },
          "hovermode": "closest",
          "mapbox": {
           "style": "light"
          },
          "paper_bgcolor": "white",
          "plot_bgcolor": "#E5ECF6",
          "polar": {
           "angularaxis": {
            "gridcolor": "white",
            "linecolor": "white",
            "ticks": ""
           },
           "bgcolor": "#E5ECF6",
           "radialaxis": {
            "gridcolor": "white",
            "linecolor": "white",
            "ticks": ""
           }
          },
          "scene": {
           "xaxis": {
            "backgroundcolor": "#E5ECF6",
            "gridcolor": "white",
            "gridwidth": 2,
            "linecolor": "white",
            "showbackground": true,
            "ticks": "",
            "zerolinecolor": "white"
           },
           "yaxis": {
            "backgroundcolor": "#E5ECF6",
            "gridcolor": "white",
            "gridwidth": 2,
            "linecolor": "white",
            "showbackground": true,
            "ticks": "",
            "zerolinecolor": "white"
           },
           "zaxis": {
            "backgroundcolor": "#E5ECF6",
            "gridcolor": "white",
            "gridwidth": 2,
            "linecolor": "white",
            "showbackground": true,
            "ticks": "",
            "zerolinecolor": "white"
           }
          },
          "shapedefaults": {
           "line": {
            "color": "#2a3f5f"
           }
          },
          "ternary": {
           "aaxis": {
            "gridcolor": "white",
            "linecolor": "white",
            "ticks": ""
           },
           "baxis": {
            "gridcolor": "white",
            "linecolor": "white",
            "ticks": ""
           },
           "bgcolor": "#E5ECF6",
           "caxis": {
            "gridcolor": "white",
            "linecolor": "white",
            "ticks": ""
           }
          },
          "title": {
           "x": 0.05
          },
          "xaxis": {
           "automargin": true,
           "gridcolor": "white",
           "linecolor": "white",
           "ticks": "",
           "title": {
            "standoff": 15
           },
           "zerolinecolor": "white",
           "zerolinewidth": 2
          },
          "yaxis": {
           "automargin": true,
           "gridcolor": "white",
           "linecolor": "white",
           "ticks": "",
           "title": {
            "standoff": 15
           },
           "zerolinecolor": "white",
           "zerolinewidth": 2
          }
         }
        },
        "title": {
         "text": "Boxplot da coluna tempo_desde_ultimo_feedback"
        },
        "xaxis": {
         "anchor": "y",
         "categoryarray": [
          0,
          1
         ],
         "categoryorder": "array",
         "domain": [
          0,
          1
         ],
         "title": {
          "text": "churn"
         }
        },
        "yaxis": {
         "anchor": "x",
         "domain": [
          0,
          1
         ],
         "title": {
          "text": "tempo_desde_ultimo_feedback"
         }
        }
       }
      }
     },
     "metadata": {},
     "output_type": "display_data"
    },
    {
     "data": {
      "application/vnd.plotly.v1+json": {
       "config": {
        "plotlyServerURL": "https://plot.ly"
       },
       "data": [
        {
         "alignmentgroup": "True",
         "hovertemplate": "churn=%{x}<br>dias_desde_ultimo_aumento=%{y}<extra></extra>",
         "legendgroup": "0",
         "marker": {
          "color": "#636efa"
         },
         "name": "0",
         "notched": false,
         "offsetgroup": "0",
         "orientation": "v",
         "showlegend": true,
         "type": "box",
         "x": {
          "bdata": "AAAAAAAAAAAAAAAAAAAAAAAAAAAAAAAAAAAAAAAAAAAAAAAAAAAAAAAAAAAAAAAAAAAAAAAAAAAAAAAAAAAAAAAAAAAAAAAAAAAAAAAAAAAAAAAAAAAAAAAAAAAAAAAAAAAAAAAAAAAAAAAAAAAAAAAAAAAAAAAAAAAAAAAAAAAAAAAAAAAAAAAAAAAAAAAAAAAAAAAAAAAAAAAAAAAAAAAAAAAAAAAAAAAAAAAAAAAAAAAAAAAAAAAAAAAAAAAAAAAAAAAAAAAAAAAAAAAAAAAAAAAAAAAAAAAAAAAAAAAAAAAAAAAAAAAAAAAAAAAAAAAAAAAAAAAAAAAAAAAAAAAAAAAAAAAAAAAAAAAAAAAAAAAAAAAAAAAAAAAAAAAAAAAAAAAAAAAAAAAAAAAAAAAAAAAAAAAAAAAAAAAAAAAAAAAAAAAAAAAAAAAAAAAAAAAAAAAAAAAAAAAAAAAAAAAAAAAAAAAAAAAAAAAAAAAAAAAAAAAAAAAAAAAAAAAAAAAAAAAAAAAAAAAAAAAAAAAAAAAAAAAAAAAAAAAAAAAAAAAAAAAAAAAAAAAAAAAAAAAAAAAAAAAAAAAAAAAAAAAAAAAAAAAAAAAAAAAAAAAAAAAAAAAAAAAAAAAAAAAAAAAAAAAAAAAAAAAAAAAAAAAAAAAAAAAAAAAAAAAAAAAAAAAAAAAAAAAAAAAAAAAAAAAAAAAAAAAAAAAAAAAAAAAAAAAAAAAAAAAAAAAAAAAAAAAAAAAAAAAAAAAAAAAAAAAAAAAAAAAAAAAAAAAAAAAAAAAAAAAAAAAAAAAAAAAAAAAAAAAAAAAAAAAAAAAAAAAAAAAAAAAAAAAAAAAAAAAAAAAAAAAAAAAAAAAAAAAAAAAAAAAAAAAAAAAAAAAAAAAAAAAAAAAAAAAAAAAAAAAAAAAAAAAAAAAAAAAAAAAAAAAAAAAAAAAAAAAAAAAAAAAAAAAAAAAAAAAAAAAAAAAAAAAAAAAAAAAAAAAAAAAAAAAAAAAAAAAAAAAAAAAAAAAAAAAAAAAAAAAAAAAAAAAAAAAAAAAAAAAAAAAAAAAAAAAAAAAAAAAAAAAAAAAAAAAAAAAAAAAAAAAAAAAAAAAAAAAAAAAAAAAAAAAAAAAAAAAAAAAAAAAAAAAAAAAAAAAAAAAAAAAAAAAAAAAAAAAAAAAAAAAAAAAAAAAAAAAAAAAAAAAAAAAAAAAAAAAAAAAAAAAAAAAAAAAAAAAAAAAAAAAAAAAAAAAAAAAAAAAAAAAAAAAAAAAAAAAAAAAAAAAAAAAAAAAAAAAAAAAAAAAAAAAAAAAAAAAAAAAAAAAAAAAAAAAAAAAAAAAAAAAAAAAAAAAAAAAAAAAAAAAAAAAAAAAAAAAAAAAAAAAAAAAAAAAAAAAAAAAAAAAAAAAAAAAAAAAAAAAAAAAAAAAAAAAAAAAAAAAAAAAAAAAAAAAAAAAAAAAAAAAAAAAAAAAAAAAAAAAAAAAAAAAAAAAAAAAAAAAAAAAAAAAAAAAAAAAAAAAAAAAAAAAAAAAAAAAAAAAAAAAAAAAAAAAAAAAAAAAAAAAAAAAAAAAAAAAAAAAAAAAAAAAAAAAAAAAAAAAAAAAAAAAAAAAAAAAAAAAAAAAAAAAAAAAAAAAAAAAAAAAAAAAAAAAAAAAAAAAAAAAAAAAAAAAAAAAAAAAAAAAAAAAAAAAAAAAAAAAAAAAAAAAAAAAAAAAAAAAAAAAAAAAAAAAAAAAAAAAAAAAAAAAAAAAAAAAAAAAAAAAAAAAAAAAAAAAAAAAAAAAAAAAAAAAAAAAAAAAAAAAAAAAAAAAAAAAAAAAAAAAAAAAAAAAAAAAAAAAAAAAAAAAAAAAAAAAAAAAAAAAAAAAAAAAAAAAAAAAAAAAAAAAAAAAAAAAAAAAAAAAAAAAAAAAAAAAAAAAAAAAAAAAAAAAAAAAAAAAAAAAAAAAAAAAAAAAAAAAAAAAAAAAAAAAAAAAAAAAAAAAAAAAAAAAAAAAAAAAAAAAAAAAAAAAAAAAAAAAAAAAAAAAAAAAAAAAAAAAAAAAAAAAAAAAAAAAAAAAAAAAAAAAAAAAAAAAAAAAAAAAAAAAAAAAAAAAAAAAAAAAAAAAAAAAAAAAAAAAAAAAAAAAAAAAAAAAAAAAAAAAAAAAAAAAAAAAAAAAAAAAAAAAAAAAAAAAAAAAAAAAAAAAAAAAAAAAAAAAAAAAAAAAAAAAAAAAAAAAAAAAAAAAAAAAAAAAAAAAAAAAAAAAAAAAAAAAAAAAAAAAAAAAAAAAAAAAAAAAAAAAAAA==",
          "dtype": "i1"
         },
         "x0": " ",
         "xaxis": "x",
         "y": {
          "bdata": "MQIIAncEcQTDAZIGfQJPAd0E3wLrAhAD8QGzAKIFNwWRAP0A9AWsBMcBMAXmAt0ABgazAowBDAOoAG0FVAE9BCwGHARvAo0AYAE2AUQGeAM9A+oDMgKpBvEBMwJhBKoBZgLNBUwGvARDBBMEEwJCAnwGdQbeALUATQbsBMwEqQMnBOADTgRpBtAFswFNBe4AqwZpBqcCfAQJBP4ElAJHBIEELwSIBiMExAAhA+wBvQH9Bf0AJAXoBAsBFwUKA58FbQaZAmADEgSYASsCiQOZAkMCuwXKBLcB+wUHBfwFjgF8Ak8GZwKHA2oBAwJ9BOAFdAEZBHgCLQWvAYQAbwX4AsoAoABbBCME7QFRBikC2gErAaABlgXuAaoEsgPIBZwBhgLEAToGMAQeAwsFYAGZBrsEVwGHBU4FaQXdAyMEbwKqBcAFYAEmAncFvQLKA80C7AD2At8ElgVeA8kFbwJtAVcF3wQUAwoEQAGeAE8BlwWRA5oB2wNFBIQFyQVxAyQCLgN0AuMBTgKJA78BDAYGBQYGqwWEBAoDZgPeBQIE/wG9ADsG9QJEASsBAAXGAi0GZwE3BvAEowH3BZEC3wJXBP4AdAWTAwsCMANoAi8DlQQyA38EvQRGBMcCXwRKAzgFVgS6AhEG0AIVBawFKQGSAVgF7AW/AKgAyAUCAnkCHwMCAgMGwwHLAkEEKQTsAlEDxQX+AzEG6AHDBL4FmgKWAlcFIwMkBeACHAaVBcwBdgNhAUIDwwPwAEcBtgTFBcMA0wT1AbwAmQOzAkgBWgKWA5sAQwONBIgCLgQhBBsF/QAZA9wF6wM8AZIBLQTXBHMDjAFpBTsBtQCfBLwDWQPTANEAPAXwAJsDOAUDBrYCfwU9AW4CSAWuAfcCrQX6AD8ESgTKA9EAEgHdBGcDwgEhATcBiAQHAhYCwQNxAccFSQFsBDgDbgHLA08FqwMmA1YFTgGPAE4EFQWaBUED8wBUAzABagHwAV0DwAODAnIBwQV9AWMD0AJNA1YFmQNJBXACzgMBAo8DzgGDBTMDsgEGA3MF3gSQAxwEVgROAc4BkwELBPMBoQPlAXMAegGIA4YBjQG2Au4D5AO3ACwCvQK4ApgFgAGZBHUEvADwAyMCgQS7AJADaQX6A2ICwQNjAogAiAIpBNEC7QP4ABgD0AF2A4kD8gIfBYgERwH4AaoEyAHDBHIE9wLoAckAZgOyAwcEDwJqAncElQNgAYAE4wNWBVsB0QNTBFgE/gLxAjgFxgDCBMcB7gCyA/0AlQI+BBEBOwQ8BPkAoAA7BRUFvQKbA0gDNQP+A8kBbQQZA7wBOgKbASEE0ALmAigEcwG+BLYDCQPyArsDBwXxAE4F3wFYAbUCBAGyAjoDkgTaAHkCugJBA4AC/QOFBFMEFQRbBOUBDgS/A6YAxgEhAp4CmQFaBLMEDgWgAJoCigD1AZUEQgLKBPYBUAOaA4MBmwAqBOACUgPFAeYC/QOoBP0ExwDuBIkETQGIBHADnwO7ATgEewAjBOMAfATNAFADdwNEAgABHQQDBIAC3wI1AXABlwHNA/cDngDZA7YEIwJJAXgETQOoADkBhAHfAnkDrwOcA1kE5QNJBEAC5gH/A28CtATfAL8BVwGtAnICtQADBIcDVgSgBJYBBQNWBCcERQE7AogCewQ2BIQDDgRKBNQD+wMuA4IAowLtAvQDywIwAxgBEARVBHEB1AMLAaYE9QH0AegAHgOQBDcChALZAiAE1gE2AUwCjwEGA2MCIAN9AGACywAjA+oDCQS4ANACdgNQAq8B0AOOBJsDBQGfAokASAPwA3kBJAKSAUIEvwK6A/QCBAQiAoQERATMA3cBvAFxAqYDzgAdBOMBngDrATsC/QGQAXICPgPnAu8AFwMdA1gD5wN6Aq8BtgK8A34CjgJeAa4CMgOUAwsDmgJHA64D4wEPBEsBDgOPAAECGwTKAUsC0AJkBK0DDQO2ARYEDQRiAXUApwDHAsMBNgF0ABwDLAF3ACMCrwN1ASoEHgJ7AoADjwKuAjECzwLyAfMCMAOxAhYEKASyA7gBuAOOAxkCKQKSAjkDwAJCAQ8ChwO1ApAA0ACZARAB9gCVAmAC6QJjAQUDggGMABUEfQPEAYMCygHnAVIDyANAA0gBjwPZADEDvgBOAocArQGcAg0EBQErBPECnQAVAV4BmQBUAvYBpgOcA4cD3ALlAS0BfQPrA94AxQDvA+kC6ADMA+sC8QFgAjEBOwO+ApEBcQK9AiYDygKzAVMDWQJBAzYDzQHmADMBUALUAegBDQGGAK0C8gN7AnEDPQLxA+kBeAHwAeUCrgCiAQECqQIsAY4DxwGDA7ECzANnA7gBqQL6APAA9QCUAsABvQCXAPcC3gPQAMIBhQJzAgsCZALgA/UA4QJuA3kCLAPHACYCugKyA5EAoAF8AcUDngN/AfAAygCrAnwCTQPiAPMCNgL5AdsB+wLdArsCkQIPAk4CXQG7AhEBawFoAUADzwJBA4ICSgJbAYQDkANJAQoBqwK4A7kBRAI2ArED/wBzAR4DTwL7AH8BaAGzAnUDuAKDAj0BfgFtAfkAXQEdAlACWAE4AnIA8AHaAjkBSQGXAoMDkgL4AI8A8AJ7AkwDHgO4AAoDAwMAAjkCqwFEA+cB8ALcAJ0AhANEAsgBvQKKAKQC7gCSAJgBKAJhAv4BzADtAiQDBwLkAC0D3AHEARsBhgGuATkBigJpAvYAhAD7ABkC4QD6ASQDMANUAtQA0wLBAaYB9AEoA6EA7QDMAisCQwL8AVUBtACeAs0BlADNAT0B7gIlAXcAcgHCAbkAjwCjAlMBRAFXAh8CpgISASUCtQBHAZACAAL1An4CKQN3AIIA3AIEAaEBiQK9AsoCjwKOABAC9wDzARwDpAGnAScBrALjAR8CTAKzAnwCqwKvAb0B2QJ4AdcCoQBwAUQC/AAvAdYC+QKBABYDuwGsAkgCIwHKAMoATQJgAq8BugByAVkCqQL4AiIBnAH8AhsCYwJtAsYCmgKAAGsC7gLeAH8CTAEzAtMC6wCUAKcBDQLlARwC3gH3AXQCvgHSAb0BhgKwAqcCYAH0AF4CfwFlAYUAzQBVAaoCgQAlAtcCTgKpATUB4ADKAecAqALtAVoCUQJbAXkAQQI3AiMC0wDSAY4AnACGAK0C7QDgAaoAfQF+AskAZgEmAmMCSAG/ACwCnABlATwB/QEeAsYA1wH1Af4ArAClAKsBhQEbAf8BuAHYAdQBeAJsAhIC/ADgAAgCgQCYADcCcQKTAUYCRAECAs0A/QHHAOgB1QDIAEMB4QECASABvwCGAG0CZQI4ApoBTQFjAhwBLgE7AWgCLgF8AQcCFwFjAi4CnQHAAI8AygFeAvgA9gDIAL8B7gDJAMoBfAHVAd8A7gEdASIBrwAtAscATgI0AX0BZwGKALwAAgFMAioBoABlAToBxwCyAQoCPQEhAiABGAEkASEBIwG6AeAAxwASAcQBtAH7AUUBGAJdAeAB7gAwARwB1wGgAZYBeQCmAakADwKOAJEAkgF9AUoBqAGDAA4CRwHMAfoBegEIAs8AdAElAiMCEgKBAVABzACjAPQB7wBkARsCUAFkAX8BKAGdAL0AkwEFAqUB+gAcAZkAOgFNAewAGALEAccBpQHdAP0AcgGxAZ8BGAEgAQYB7gHqAScBZAFEAYEA5gGmAJoB6QCBAXwBswGjALEAswCCAXsAdgFYAacB6AFBAagBVAGgAQkB3wEhAYoA1wDqAIsAHwF2AUwBwQCtAbQA+QB5ANkAtQAUAcMBjQHoACEBowA5Ab8BWAGRAaYAlAHmAIoBeAG5AUABrQDLAcIAhgC3AB4B0wAwAeUAHwHiAFsBmwGHAYUB/AB+AMkAwwEnAfQArgCuAKMB8QA2Aa0BuwDLAFkB/QB/AVQBwQC9AJ4AEAFyATwBywDZALkADwEQASMByACFAK8AQAEdAZgBngCHAJ8A7gDCAEEBGgE+AdEAiwHUANQA1wCxAGwBpQCUAGoBYgGDAIgBqADzAI8AJwHjAP8AcwCoAHYB8QCMAP8AAwGKAF0BngCEAPoAsABFAQIB1wDDAM4ATwHlAEIBGgHJAMUASAHcALsAKwEEARcBiwCUAJ0AWAHRAIcAdQD8AKMAwQABASQBHQHmAEwB/wC9AMkABAGHANQAngBHAXIAgACeAJIAeQCxAHwAygCBAHMAHgEkAe4AGwGVAA4BMwFwADoBrwAiAf8AnQDqAOUA6gDvABcB4gD6AAAB7wBwAIwA7QCzANIAkgChAPkAsAB7AHwAfACgAOMA4gD3AKAAkwDHAOAACQGwAPgAngChAH0AfgAQAbYA2gC+AP0A8ACVAH0AgwC2ALgAsgDLAN8AgwCBAIcAvgDRALEAegDdAMMAAQF1AJ8AtwDPAO8AoACiAPQAyABwAOgAuQDYANUAhAB1AKYA5gDeAOkAcQCkAH8AgwCUAKUAowDgAI8AwwCyAHkAegCPAN0AiwDPAJwApwDYAKIAogCBAHYAdAB+AL8AegC6AL8AtQCIAIUAngCpAHkAzADMAMYAoQC0ALwAmQA=",
          "dtype": "i2"
         },
         "y0": " ",
         "yaxis": "y"
        },
        {
         "alignmentgroup": "True",
         "hovertemplate": "churn=%{x}<br>dias_desde_ultimo_aumento=%{y}<extra></extra>",
         "legendgroup": "1",
         "marker": {
          "color": "#EF553B"
         },
         "name": "1",
         "notched": false,
         "offsetgroup": "1",
         "orientation": "v",
         "showlegend": true,
         "type": "box",
         "x": {
          "bdata": "AQEBAQEBAQEBAQEBAQEBAQEBAQEBAQEBAQEBAQEBAQEBAQEBAQEBAQEBAQEBAQEBAQEBAQEBAQEBAQEBAQEBAQEBAQEBAQEBAQEBAQEBAQEBAQEBAQEBAQEBAQEBAQEBAQEBAQEBAQEBAQEBAQEBAQEBAQEBAQEBAQEBAQEBAQEBAQEBAQEBAQEBAQEBAQEBAQEBAQEBAQEBAQEBAQEBAQEBAQEBAQEBAQEBAQEBAQEBAQEBAQEBAQEBAQEBAQEBAQEBAQEBAQEBAQEBAQEBAQEBAQEBAQEBAQEBAQEBAQEBAQEBAQEBAQEBAQEBAQEBAQEBAQEBAQEBAQEBAQEBAQEBAQEBAQEBAQEBAQEBAQEBAQEBAQEBAQEBAQEBAQ==",
          "dtype": "i1"
         },
         "x0": " ",
         "xaxis": "x",
         "y": {
          "bdata": "bQbhA6wGKgU3AnIGygUUBvcG7AN9BdUGOwV6BjoE4Qb7BTsCfAVvBDsEgQYnA4EEEgR/BTQDiQZXAkgFogVKBoECXAYbAjcFCQZlBG8FPQKGBacFsQUXBdMF7gVdBksGPAZ7APkFSQUrBhAGbwUQBdoF3QLNBdIFOAUXBn0DnAUiBeUE7QUOBFIF7ARaBR0FdAN7BeoCowV3A4gDfwKgAiUFUwImBSYEFAXOAi4FaQUsBJABXAGyApgESwX0AlIDRQWpBCEFEAUFBdgASAWSBGAEgQTrBPcEswF5AzMFiASQAg0E+gT4BLkE9gTcBNoBeQQwBM4EhgIxBMMC8QPNBJIEgQFHBB0CoAOiBK4CoQS6A/YCuAP2A1MBWAQgATgEUQReA/UCkgJSA+oCMQMZBJkDpQP2A9cBbwOZA7ADeANdA6gD0QGVA8QBOgNfAT8D+QHDAg4DZgFDA2QCxgKRAiEDDANwAr8CogJpAu0CsAF1AeYCvAKxAgsCoQKsAuICnQJhAocCGgIpAsECcAEnArkBFwJhAnkCQQKoAYQCGgISAsEBIgIqARsC/wC8AV0C/AHhAXwBSwLLAUQC1AGrAKABgQHNABsBkAEPAiEBfgHlAaEBegF1AZgBZgFgAQwBAwENAacBxgDvAOQApQC0AaMBpAEcAQUBkAEtARABcgEvAXwBKgG8AFsBeAEJATcBZgHuAOYABwEpAS4BEQG8AIAAHgHeAAEBvQD5ANwA1ADUAMYAugDBANAAkwA=",
          "dtype": "i2"
         },
         "y0": " ",
         "yaxis": "y"
        }
       ],
       "layout": {
        "boxmode": "overlay",
        "legend": {
         "title": {
          "text": "churn"
         },
         "tracegroupgap": 0
        },
        "template": {
         "data": {
          "bar": [
           {
            "error_x": {
             "color": "#2a3f5f"
            },
            "error_y": {
             "color": "#2a3f5f"
            },
            "marker": {
             "line": {
              "color": "#E5ECF6",
              "width": 0.5
             },
             "pattern": {
              "fillmode": "overlay",
              "size": 10,
              "solidity": 0.2
             }
            },
            "type": "bar"
           }
          ],
          "barpolar": [
           {
            "marker": {
             "line": {
              "color": "#E5ECF6",
              "width": 0.5
             },
             "pattern": {
              "fillmode": "overlay",
              "size": 10,
              "solidity": 0.2
             }
            },
            "type": "barpolar"
           }
          ],
          "carpet": [
           {
            "aaxis": {
             "endlinecolor": "#2a3f5f",
             "gridcolor": "white",
             "linecolor": "white",
             "minorgridcolor": "white",
             "startlinecolor": "#2a3f5f"
            },
            "baxis": {
             "endlinecolor": "#2a3f5f",
             "gridcolor": "white",
             "linecolor": "white",
             "minorgridcolor": "white",
             "startlinecolor": "#2a3f5f"
            },
            "type": "carpet"
           }
          ],
          "choropleth": [
           {
            "colorbar": {
             "outlinewidth": 0,
             "ticks": ""
            },
            "type": "choropleth"
           }
          ],
          "contour": [
           {
            "colorbar": {
             "outlinewidth": 0,
             "ticks": ""
            },
            "colorscale": [
             [
              0,
              "#0d0887"
             ],
             [
              0.1111111111111111,
              "#46039f"
             ],
             [
              0.2222222222222222,
              "#7201a8"
             ],
             [
              0.3333333333333333,
              "#9c179e"
             ],
             [
              0.4444444444444444,
              "#bd3786"
             ],
             [
              0.5555555555555556,
              "#d8576b"
             ],
             [
              0.6666666666666666,
              "#ed7953"
             ],
             [
              0.7777777777777778,
              "#fb9f3a"
             ],
             [
              0.8888888888888888,
              "#fdca26"
             ],
             [
              1,
              "#f0f921"
             ]
            ],
            "type": "contour"
           }
          ],
          "contourcarpet": [
           {
            "colorbar": {
             "outlinewidth": 0,
             "ticks": ""
            },
            "type": "contourcarpet"
           }
          ],
          "heatmap": [
           {
            "colorbar": {
             "outlinewidth": 0,
             "ticks": ""
            },
            "colorscale": [
             [
              0,
              "#0d0887"
             ],
             [
              0.1111111111111111,
              "#46039f"
             ],
             [
              0.2222222222222222,
              "#7201a8"
             ],
             [
              0.3333333333333333,
              "#9c179e"
             ],
             [
              0.4444444444444444,
              "#bd3786"
             ],
             [
              0.5555555555555556,
              "#d8576b"
             ],
             [
              0.6666666666666666,
              "#ed7953"
             ],
             [
              0.7777777777777778,
              "#fb9f3a"
             ],
             [
              0.8888888888888888,
              "#fdca26"
             ],
             [
              1,
              "#f0f921"
             ]
            ],
            "type": "heatmap"
           }
          ],
          "histogram": [
           {
            "marker": {
             "pattern": {
              "fillmode": "overlay",
              "size": 10,
              "solidity": 0.2
             }
            },
            "type": "histogram"
           }
          ],
          "histogram2d": [
           {
            "colorbar": {
             "outlinewidth": 0,
             "ticks": ""
            },
            "colorscale": [
             [
              0,
              "#0d0887"
             ],
             [
              0.1111111111111111,
              "#46039f"
             ],
             [
              0.2222222222222222,
              "#7201a8"
             ],
             [
              0.3333333333333333,
              "#9c179e"
             ],
             [
              0.4444444444444444,
              "#bd3786"
             ],
             [
              0.5555555555555556,
              "#d8576b"
             ],
             [
              0.6666666666666666,
              "#ed7953"
             ],
             [
              0.7777777777777778,
              "#fb9f3a"
             ],
             [
              0.8888888888888888,
              "#fdca26"
             ],
             [
              1,
              "#f0f921"
             ]
            ],
            "type": "histogram2d"
           }
          ],
          "histogram2dcontour": [
           {
            "colorbar": {
             "outlinewidth": 0,
             "ticks": ""
            },
            "colorscale": [
             [
              0,
              "#0d0887"
             ],
             [
              0.1111111111111111,
              "#46039f"
             ],
             [
              0.2222222222222222,
              "#7201a8"
             ],
             [
              0.3333333333333333,
              "#9c179e"
             ],
             [
              0.4444444444444444,
              "#bd3786"
             ],
             [
              0.5555555555555556,
              "#d8576b"
             ],
             [
              0.6666666666666666,
              "#ed7953"
             ],
             [
              0.7777777777777778,
              "#fb9f3a"
             ],
             [
              0.8888888888888888,
              "#fdca26"
             ],
             [
              1,
              "#f0f921"
             ]
            ],
            "type": "histogram2dcontour"
           }
          ],
          "mesh3d": [
           {
            "colorbar": {
             "outlinewidth": 0,
             "ticks": ""
            },
            "type": "mesh3d"
           }
          ],
          "parcoords": [
           {
            "line": {
             "colorbar": {
              "outlinewidth": 0,
              "ticks": ""
             }
            },
            "type": "parcoords"
           }
          ],
          "pie": [
           {
            "automargin": true,
            "type": "pie"
           }
          ],
          "scatter": [
           {
            "fillpattern": {
             "fillmode": "overlay",
             "size": 10,
             "solidity": 0.2
            },
            "type": "scatter"
           }
          ],
          "scatter3d": [
           {
            "line": {
             "colorbar": {
              "outlinewidth": 0,
              "ticks": ""
             }
            },
            "marker": {
             "colorbar": {
              "outlinewidth": 0,
              "ticks": ""
             }
            },
            "type": "scatter3d"
           }
          ],
          "scattercarpet": [
           {
            "marker": {
             "colorbar": {
              "outlinewidth": 0,
              "ticks": ""
             }
            },
            "type": "scattercarpet"
           }
          ],
          "scattergeo": [
           {
            "marker": {
             "colorbar": {
              "outlinewidth": 0,
              "ticks": ""
             }
            },
            "type": "scattergeo"
           }
          ],
          "scattergl": [
           {
            "marker": {
             "colorbar": {
              "outlinewidth": 0,
              "ticks": ""
             }
            },
            "type": "scattergl"
           }
          ],
          "scattermap": [
           {
            "marker": {
             "colorbar": {
              "outlinewidth": 0,
              "ticks": ""
             }
            },
            "type": "scattermap"
           }
          ],
          "scattermapbox": [
           {
            "marker": {
             "colorbar": {
              "outlinewidth": 0,
              "ticks": ""
             }
            },
            "type": "scattermapbox"
           }
          ],
          "scatterpolar": [
           {
            "marker": {
             "colorbar": {
              "outlinewidth": 0,
              "ticks": ""
             }
            },
            "type": "scatterpolar"
           }
          ],
          "scatterpolargl": [
           {
            "marker": {
             "colorbar": {
              "outlinewidth": 0,
              "ticks": ""
             }
            },
            "type": "scatterpolargl"
           }
          ],
          "scatterternary": [
           {
            "marker": {
             "colorbar": {
              "outlinewidth": 0,
              "ticks": ""
             }
            },
            "type": "scatterternary"
           }
          ],
          "surface": [
           {
            "colorbar": {
             "outlinewidth": 0,
             "ticks": ""
            },
            "colorscale": [
             [
              0,
              "#0d0887"
             ],
             [
              0.1111111111111111,
              "#46039f"
             ],
             [
              0.2222222222222222,
              "#7201a8"
             ],
             [
              0.3333333333333333,
              "#9c179e"
             ],
             [
              0.4444444444444444,
              "#bd3786"
             ],
             [
              0.5555555555555556,
              "#d8576b"
             ],
             [
              0.6666666666666666,
              "#ed7953"
             ],
             [
              0.7777777777777778,
              "#fb9f3a"
             ],
             [
              0.8888888888888888,
              "#fdca26"
             ],
             [
              1,
              "#f0f921"
             ]
            ],
            "type": "surface"
           }
          ],
          "table": [
           {
            "cells": {
             "fill": {
              "color": "#EBF0F8"
             },
             "line": {
              "color": "white"
             }
            },
            "header": {
             "fill": {
              "color": "#C8D4E3"
             },
             "line": {
              "color": "white"
             }
            },
            "type": "table"
           }
          ]
         },
         "layout": {
          "annotationdefaults": {
           "arrowcolor": "#2a3f5f",
           "arrowhead": 0,
           "arrowwidth": 1
          },
          "autotypenumbers": "strict",
          "coloraxis": {
           "colorbar": {
            "outlinewidth": 0,
            "ticks": ""
           }
          },
          "colorscale": {
           "diverging": [
            [
             0,
             "#8e0152"
            ],
            [
             0.1,
             "#c51b7d"
            ],
            [
             0.2,
             "#de77ae"
            ],
            [
             0.3,
             "#f1b6da"
            ],
            [
             0.4,
             "#fde0ef"
            ],
            [
             0.5,
             "#f7f7f7"
            ],
            [
             0.6,
             "#e6f5d0"
            ],
            [
             0.7,
             "#b8e186"
            ],
            [
             0.8,
             "#7fbc41"
            ],
            [
             0.9,
             "#4d9221"
            ],
            [
             1,
             "#276419"
            ]
           ],
           "sequential": [
            [
             0,
             "#0d0887"
            ],
            [
             0.1111111111111111,
             "#46039f"
            ],
            [
             0.2222222222222222,
             "#7201a8"
            ],
            [
             0.3333333333333333,
             "#9c179e"
            ],
            [
             0.4444444444444444,
             "#bd3786"
            ],
            [
             0.5555555555555556,
             "#d8576b"
            ],
            [
             0.6666666666666666,
             "#ed7953"
            ],
            [
             0.7777777777777778,
             "#fb9f3a"
            ],
            [
             0.8888888888888888,
             "#fdca26"
            ],
            [
             1,
             "#f0f921"
            ]
           ],
           "sequentialminus": [
            [
             0,
             "#0d0887"
            ],
            [
             0.1111111111111111,
             "#46039f"
            ],
            [
             0.2222222222222222,
             "#7201a8"
            ],
            [
             0.3333333333333333,
             "#9c179e"
            ],
            [
             0.4444444444444444,
             "#bd3786"
            ],
            [
             0.5555555555555556,
             "#d8576b"
            ],
            [
             0.6666666666666666,
             "#ed7953"
            ],
            [
             0.7777777777777778,
             "#fb9f3a"
            ],
            [
             0.8888888888888888,
             "#fdca26"
            ],
            [
             1,
             "#f0f921"
            ]
           ]
          },
          "colorway": [
           "#636efa",
           "#EF553B",
           "#00cc96",
           "#ab63fa",
           "#FFA15A",
           "#19d3f3",
           "#FF6692",
           "#B6E880",
           "#FF97FF",
           "#FECB52"
          ],
          "font": {
           "color": "#2a3f5f"
          },
          "geo": {
           "bgcolor": "white",
           "lakecolor": "white",
           "landcolor": "#E5ECF6",
           "showlakes": true,
           "showland": true,
           "subunitcolor": "white"
          },
          "hoverlabel": {
           "align": "left"
          },
          "hovermode": "closest",
          "mapbox": {
           "style": "light"
          },
          "paper_bgcolor": "white",
          "plot_bgcolor": "#E5ECF6",
          "polar": {
           "angularaxis": {
            "gridcolor": "white",
            "linecolor": "white",
            "ticks": ""
           },
           "bgcolor": "#E5ECF6",
           "radialaxis": {
            "gridcolor": "white",
            "linecolor": "white",
            "ticks": ""
           }
          },
          "scene": {
           "xaxis": {
            "backgroundcolor": "#E5ECF6",
            "gridcolor": "white",
            "gridwidth": 2,
            "linecolor": "white",
            "showbackground": true,
            "ticks": "",
            "zerolinecolor": "white"
           },
           "yaxis": {
            "backgroundcolor": "#E5ECF6",
            "gridcolor": "white",
            "gridwidth": 2,
            "linecolor": "white",
            "showbackground": true,
            "ticks": "",
            "zerolinecolor": "white"
           },
           "zaxis": {
            "backgroundcolor": "#E5ECF6",
            "gridcolor": "white",
            "gridwidth": 2,
            "linecolor": "white",
            "showbackground": true,
            "ticks": "",
            "zerolinecolor": "white"
           }
          },
          "shapedefaults": {
           "line": {
            "color": "#2a3f5f"
           }
          },
          "ternary": {
           "aaxis": {
            "gridcolor": "white",
            "linecolor": "white",
            "ticks": ""
           },
           "baxis": {
            "gridcolor": "white",
            "linecolor": "white",
            "ticks": ""
           },
           "bgcolor": "#E5ECF6",
           "caxis": {
            "gridcolor": "white",
            "linecolor": "white",
            "ticks": ""
           }
          },
          "title": {
           "x": 0.05
          },
          "xaxis": {
           "automargin": true,
           "gridcolor": "white",
           "linecolor": "white",
           "ticks": "",
           "title": {
            "standoff": 15
           },
           "zerolinecolor": "white",
           "zerolinewidth": 2
          },
          "yaxis": {
           "automargin": true,
           "gridcolor": "white",
           "linecolor": "white",
           "ticks": "",
           "title": {
            "standoff": 15
           },
           "zerolinecolor": "white",
           "zerolinewidth": 2
          }
         }
        },
        "title": {
         "text": "Boxplot da coluna dias_desde_ultimo_aumento"
        },
        "xaxis": {
         "anchor": "y",
         "categoryarray": [
          0,
          1
         ],
         "categoryorder": "array",
         "domain": [
          0,
          1
         ],
         "title": {
          "text": "churn"
         }
        },
        "yaxis": {
         "anchor": "x",
         "domain": [
          0,
          1
         ],
         "title": {
          "text": "dias_desde_ultimo_aumento"
         }
        }
       }
      }
     },
     "metadata": {},
     "output_type": "display_data"
    },
    {
     "data": {
      "application/vnd.plotly.v1+json": {
       "config": {
        "plotlyServerURL": "https://plot.ly"
       },
       "data": [
        {
         "alignmentgroup": "True",
         "hovertemplate": "churn=%{x}<br>dias_desde_ultima_mudanca_cargo=%{y}<extra></extra>",
         "legendgroup": "0",
         "marker": {
          "color": "#636efa"
         },
         "name": "0",
         "notched": false,
         "offsetgroup": "0",
         "orientation": "v",
         "showlegend": true,
         "type": "box",
         "x": {
          "bdata": "AAAAAAAAAAAAAAAAAAAAAAAAAAAAAAAAAAAAAAAAAAAAAAAAAAAAAAAAAAAAAAAAAAAAAAAAAAAAAAAAAAAAAAAAAAAAAAAAAAAAAAAAAAAAAAAAAAAAAAAAAAAAAAAAAAAAAAAAAAAAAAAAAAAAAAAAAAAAAAAAAAAAAAAAAAAAAAAAAAAAAAAAAAAAAAAAAAAAAAAAAAAAAAAAAAAAAAAAAAAAAAAAAAAAAAAAAAAAAAAAAAAAAAAAAAAAAAAAAAAAAAAAAAAAAAAAAAAAAAAAAAAAAAAAAAAAAAAAAAAAAAAAAAAAAAAAAAAAAAAAAAAAAAAAAAAAAAAAAAAAAAAAAAAAAAAAAAAAAAAAAAAAAAAAAAAAAAAAAAAAAAAAAAAAAAAAAAAAAAAAAAAAAAAAAAAAAAAAAAAAAAAAAAAAAAAAAAAAAAAAAAAAAAAAAAAAAAAAAAAAAAAAAAAAAAAAAAAAAAAAAAAAAAAAAAAAAAAAAAAAAAAAAAAAAAAAAAAAAAAAAAAAAAAAAAAAAAAAAAAAAAAAAAAAAAAAAAAAAAAAAAAAAAAAAAAAAAAAAAAAAAAAAAAAAAAAAAAAAAAAAAAAAAAAAAAAAAAAAAAAAAAAAAAAAAAAAAAAAAAAAAAAAAAAAAAAAAAAAAAAAAAAAAAAAAAAAAAAAAAAAAAAAAAAAAAAAAAAAAAAAAAAAAAAAAAAAAAAAAAAAAAAAAAAAAAAAAAAAAAAAAAAAAAAAAAAAAAAAAAAAAAAAAAAAAAAAAAAAAAAAAAAAAAAAAAAAAAAAAAAAAAAAAAAAAAAAAAAAAAAAAAAAAAAAAAAAAAAAAAAAAAAAAAAAAAAAAAAAAAAAAAAAAAAAAAAAAAAAAAAAAAAAAAAAAAAAAAAAAAAAAAAAAAAAAAAAAAAAAAAAAAAAAAAAAAAAAAAAAAAAAAAAAAAAAAAAAAAAAAAAAAAAAAAAAAAAAAAAAAAAAAAAAAAAAAAAAAAAAAAAAAAAAAAAAAAAAAAAAAAAAAAAAAAAAAAAAAAAAAAAAAAAAAAAAAAAAAAAAAAAAAAAAAAAAAAAAAAAAAAAAAAAAAAAAAAAAAAAAAAAAAAAAAAAAAAAAAAAAAAAAAAAAAAAAAAAAAAAAAAAAAAAAAAAAAAAAAAAAAAAAAAAAAAAAAAAAAAAAAAAAAAAAAAAAAAAAAAAAAAAAAAAAAAAAAAAAAAAAAAAAAAAAAAAAAAAAAAAAAAAAAAAAAAAAAAAAAAAAAAAAAAAAAAAAAAAAAAAAAAAAAAAAAAAAAAAAAAAAAAAAAAAAAAAAAAAAAAAAAAAAAAAAAAAAAAAAAAAAAAAAAAAAAAAAAAAAAAAAAAAAAAAAAAAAAAAAAAAAAAAAAAAAAAAAAAAAAAAAAAAAAAAAAAAAAAAAAAAAAAAAAAAAAAAAAAAAAAAAAAAAAAAAAAAAAAAAAAAAAAAAAAAAAAAAAAAAAAAAAAAAAAAAAAAAAAAAAAAAAAAAAAAAAAAAAAAAAAAAAAAAAAAAAAAAAAAAAAAAAAAAAAAAAAAAAAAAAAAAAAAAAAAAAAAAAAAAAAAAAAAAAAAAAAAAAAAAAAAAAAAAAAAAAAAAAAAAAAAAAAAAAAAAAAAAAAAAAAAAAAAAAAAAAAAAAAAAAAAAAAAAAAAAAAAAAAAAAAAAAAAAAAAAAAAAAAAAAAAAAAAAAAAAAAAAAAAAAAAAAAAAAAAAAAAAAAAAAAAAAAAAAAAAAAAAAAAAAAAAAAAAAAAAAAAAAAAAAAAAAAAAAAAAAAAAAAAAAAAAAAAAAAAAAAAAAAAAAAAAAAAAAAAAAAAAAAAAAAAAAAAAAAAAAAAAAAAAAAAAAAAAAAAAAAAAAAAAAAAAAAAAAAAAAAAAAAAAAAAAAAAAAAAAAAAAAAAAAAAAAAAAAAAAAAAAAAAAAAAAAAAAAAAAAAAAAAAAAAAAAAAAAAAAAAAAAAAAAAAAAAAAAAAAAAAAAAAAAAAAAAAAAAAAAAAAAAAAAAAAAAAAAAAAAAAAAAAAAAAAAAAAAAAAAAAAAAAAAAAAAAAAAAAAAAAAAAAAAAAAAAAAAAAAAAAAAAAAAAAAAAAAAAAAAAAAAAAAAAAAAAAAAAAAAAAAAAAAAAAAAAAAAAAAAAAAAAAAAAAAAAAAAAAAAAAAAAAAAAAAAAAAAAAAAAAAAAAAAAAAAAAAAAAAAAAAAAAAAAAAAAAAAAAAAAAAAAAAAAAAAAAAAAAAAAAAAAAAAAAAAAAAAAAAAAAAAAAAAAAAAAAAAAAA==",
          "dtype": "i1"
         },
         "x0": " ",
         "xaxis": "x",
         "y": {
          "bdata": "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",
          "dtype": "i2"
         },
         "y0": " ",
         "yaxis": "y"
        },
        {
         "alignmentgroup": "True",
         "hovertemplate": "churn=%{x}<br>dias_desde_ultima_mudanca_cargo=%{y}<extra></extra>",
         "legendgroup": "1",
         "marker": {
          "color": "#EF553B"
         },
         "name": "1",
         "notched": false,
         "offsetgroup": "1",
         "orientation": "v",
         "showlegend": true,
         "type": "box",
         "x": {
          "bdata": "AQEBAQEBAQEBAQEBAQEBAQEBAQEBAQEBAQEBAQEBAQEBAQEBAQEBAQEBAQEBAQEBAQEBAQEBAQEBAQEBAQEBAQEBAQEBAQEBAQEBAQEBAQEBAQEBAQEBAQEBAQEBAQEBAQEBAQEBAQEBAQEBAQEBAQEBAQEBAQEBAQEBAQEBAQEBAQEBAQEBAQEBAQEBAQEBAQEBAQEBAQEBAQEBAQEBAQEBAQEBAQEBAQEBAQEBAQEBAQEBAQEBAQEBAQEBAQEBAQEBAQEBAQEBAQEBAQEBAQEBAQEBAQEBAQEBAQEBAQEBAQEBAQEBAQEBAQEBAQEBAQEBAQEBAQEBAQEBAQEBAQEBAQEBAQEBAQEBAQEBAQEBAQEBAQEBAQEBAQEBAQ==",
          "dtype": "i1"
         },
         "x0": " ",
         "xaxis": "x",
         "y": {
          "bdata": "OAS6BB8HlwOAAmQFNQYaB5kEfAR5AzUG5ASyBjgFPwb/BOgBMQaSBIsFxgRiBNkCIwWEBRQEXwW3AUAGwARoBlsDjwbMA0EG8wKsBEYGaAPUBTAG9gV7AjkGyAVaBkAGTAY8BhYFpgNSBTgGrgN5BdYFMwXOBd4FfgUKBsoC7wX5BbUELAXBBJgF3QR+AhkFFAPzBHUCgwX8A7oEtQFVBaIEfASGBIYCbQQbBYADbQWtBGgEHgPCAtYE8gStAYUEAQTmA08FDgU8AtgAIAW3BP8AdQPwA8IEOQL1BDgF/wTKBLoE8ARUBG4E4gTABKEELgIjAnwEOQPrBNQEuANpA1IB4wGoA6QEiQSeA4IDUAN3ASUEPANnBPUDQAOAA94C+QM5A4oDmQP6Ai8DSwP3A40DFgOhAxIBlAPZAbUD8gJeAxgDiAKDA/YBkQLJAZQB7gEHAxQD2QJCA3kBUwJkAj4DHgPGAiUDBQMBAnICawEZAvkC3gLbAsMBuwKHAa4CqgK1Aq4BQAEcArkC9gA5AlcCigGtAX8C6gGVAVMCagLGAYAC8AEHAgICzwFUAjMC9wHjAR8BZwGxAb0BNAI4AhoCGALpAeIBfQHSAegBcwGJAdsBAgKtAe4BCAHZAZsBTAHlAOgBHgHYALMBagFsAbcBngGIASUBbgEwAZIBdQFiAUMBvgCWAFMBOwHdAF8BAgHYAEUBSAEZAeUA8QAGAeoABwERAfoAtACgAN0AigC5ANoA1ADWAIMAggA=",
          "dtype": "i2"
         },
         "y0": " ",
         "yaxis": "y"
        }
       ],
       "layout": {
        "boxmode": "overlay",
        "legend": {
         "title": {
          "text": "churn"
         },
         "tracegroupgap": 0
        },
        "template": {
         "data": {
          "bar": [
           {
            "error_x": {
             "color": "#2a3f5f"
            },
            "error_y": {
             "color": "#2a3f5f"
            },
            "marker": {
             "line": {
              "color": "#E5ECF6",
              "width": 0.5
             },
             "pattern": {
              "fillmode": "overlay",
              "size": 10,
              "solidity": 0.2
             }
            },
            "type": "bar"
           }
          ],
          "barpolar": [
           {
            "marker": {
             "line": {
              "color": "#E5ECF6",
              "width": 0.5
             },
             "pattern": {
              "fillmode": "overlay",
              "size": 10,
              "solidity": 0.2
             }
            },
            "type": "barpolar"
           }
          ],
          "carpet": [
           {
            "aaxis": {
             "endlinecolor": "#2a3f5f",
             "gridcolor": "white",
             "linecolor": "white",
             "minorgridcolor": "white",
             "startlinecolor": "#2a3f5f"
            },
            "baxis": {
             "endlinecolor": "#2a3f5f",
             "gridcolor": "white",
             "linecolor": "white",
             "minorgridcolor": "white",
             "startlinecolor": "#2a3f5f"
            },
            "type": "carpet"
           }
          ],
          "choropleth": [
           {
            "colorbar": {
             "outlinewidth": 0,
             "ticks": ""
            },
            "type": "choropleth"
           }
          ],
          "contour": [
           {
            "colorbar": {
             "outlinewidth": 0,
             "ticks": ""
            },
            "colorscale": [
             [
              0,
              "#0d0887"
             ],
             [
              0.1111111111111111,
              "#46039f"
             ],
             [
              0.2222222222222222,
              "#7201a8"
             ],
             [
              0.3333333333333333,
              "#9c179e"
             ],
             [
              0.4444444444444444,
              "#bd3786"
             ],
             [
              0.5555555555555556,
              "#d8576b"
             ],
             [
              0.6666666666666666,
              "#ed7953"
             ],
             [
              0.7777777777777778,
              "#fb9f3a"
             ],
             [
              0.8888888888888888,
              "#fdca26"
             ],
             [
              1,
              "#f0f921"
             ]
            ],
            "type": "contour"
           }
          ],
          "contourcarpet": [
           {
            "colorbar": {
             "outlinewidth": 0,
             "ticks": ""
            },
            "type": "contourcarpet"
           }
          ],
          "heatmap": [
           {
            "colorbar": {
             "outlinewidth": 0,
             "ticks": ""
            },
            "colorscale": [
             [
              0,
              "#0d0887"
             ],
             [
              0.1111111111111111,
              "#46039f"
             ],
             [
              0.2222222222222222,
              "#7201a8"
             ],
             [
              0.3333333333333333,
              "#9c179e"
             ],
             [
              0.4444444444444444,
              "#bd3786"
             ],
             [
              0.5555555555555556,
              "#d8576b"
             ],
             [
              0.6666666666666666,
              "#ed7953"
             ],
             [
              0.7777777777777778,
              "#fb9f3a"
             ],
             [
              0.8888888888888888,
              "#fdca26"
             ],
             [
              1,
              "#f0f921"
             ]
            ],
            "type": "heatmap"
           }
          ],
          "histogram": [
           {
            "marker": {
             "pattern": {
              "fillmode": "overlay",
              "size": 10,
              "solidity": 0.2
             }
            },
            "type": "histogram"
           }
          ],
          "histogram2d": [
           {
            "colorbar": {
             "outlinewidth": 0,
             "ticks": ""
            },
            "colorscale": [
             [
              0,
              "#0d0887"
             ],
             [
              0.1111111111111111,
              "#46039f"
             ],
             [
              0.2222222222222222,
              "#7201a8"
             ],
             [
              0.3333333333333333,
              "#9c179e"
             ],
             [
              0.4444444444444444,
              "#bd3786"
             ],
             [
              0.5555555555555556,
              "#d8576b"
             ],
             [
              0.6666666666666666,
              "#ed7953"
             ],
             [
              0.7777777777777778,
              "#fb9f3a"
             ],
             [
              0.8888888888888888,
              "#fdca26"
             ],
             [
              1,
              "#f0f921"
             ]
            ],
            "type": "histogram2d"
           }
          ],
          "histogram2dcontour": [
           {
            "colorbar": {
             "outlinewidth": 0,
             "ticks": ""
            },
            "colorscale": [
             [
              0,
              "#0d0887"
             ],
             [
              0.1111111111111111,
              "#46039f"
             ],
             [
              0.2222222222222222,
              "#7201a8"
             ],
             [
              0.3333333333333333,
              "#9c179e"
             ],
             [
              0.4444444444444444,
              "#bd3786"
             ],
             [
              0.5555555555555556,
              "#d8576b"
             ],
             [
              0.6666666666666666,
              "#ed7953"
             ],
             [
              0.7777777777777778,
              "#fb9f3a"
             ],
             [
              0.8888888888888888,
              "#fdca26"
             ],
             [
              1,
              "#f0f921"
             ]
            ],
            "type": "histogram2dcontour"
           }
          ],
          "mesh3d": [
           {
            "colorbar": {
             "outlinewidth": 0,
             "ticks": ""
            },
            "type": "mesh3d"
           }
          ],
          "parcoords": [
           {
            "line": {
             "colorbar": {
              "outlinewidth": 0,
              "ticks": ""
             }
            },
            "type": "parcoords"
           }
          ],
          "pie": [
           {
            "automargin": true,
            "type": "pie"
           }
          ],
          "scatter": [
           {
            "fillpattern": {
             "fillmode": "overlay",
             "size": 10,
             "solidity": 0.2
            },
            "type": "scatter"
           }
          ],
          "scatter3d": [
           {
            "line": {
             "colorbar": {
              "outlinewidth": 0,
              "ticks": ""
             }
            },
            "marker": {
             "colorbar": {
              "outlinewidth": 0,
              "ticks": ""
             }
            },
            "type": "scatter3d"
           }
          ],
          "scattercarpet": [
           {
            "marker": {
             "colorbar": {
              "outlinewidth": 0,
              "ticks": ""
             }
            },
            "type": "scattercarpet"
           }
          ],
          "scattergeo": [
           {
            "marker": {
             "colorbar": {
              "outlinewidth": 0,
              "ticks": ""
             }
            },
            "type": "scattergeo"
           }
          ],
          "scattergl": [
           {
            "marker": {
             "colorbar": {
              "outlinewidth": 0,
              "ticks": ""
             }
            },
            "type": "scattergl"
           }
          ],
          "scattermap": [
           {
            "marker": {
             "colorbar": {
              "outlinewidth": 0,
              "ticks": ""
             }
            },
            "type": "scattermap"
           }
          ],
          "scattermapbox": [
           {
            "marker": {
             "colorbar": {
              "outlinewidth": 0,
              "ticks": ""
             }
            },
            "type": "scattermapbox"
           }
          ],
          "scatterpolar": [
           {
            "marker": {
             "colorbar": {
              "outlinewidth": 0,
              "ticks": ""
             }
            },
            "type": "scatterpolar"
           }
          ],
          "scatterpolargl": [
           {
            "marker": {
             "colorbar": {
              "outlinewidth": 0,
              "ticks": ""
             }
            },
            "type": "scatterpolargl"
           }
          ],
          "scatterternary": [
           {
            "marker": {
             "colorbar": {
              "outlinewidth": 0,
              "ticks": ""
             }
            },
            "type": "scatterternary"
           }
          ],
          "surface": [
           {
            "colorbar": {
             "outlinewidth": 0,
             "ticks": ""
            },
            "colorscale": [
             [
              0,
              "#0d0887"
             ],
             [
              0.1111111111111111,
              "#46039f"
             ],
             [
              0.2222222222222222,
              "#7201a8"
             ],
             [
              0.3333333333333333,
              "#9c179e"
             ],
             [
              0.4444444444444444,
              "#bd3786"
             ],
             [
              0.5555555555555556,
              "#d8576b"
             ],
             [
              0.6666666666666666,
              "#ed7953"
             ],
             [
              0.7777777777777778,
              "#fb9f3a"
             ],
             [
              0.8888888888888888,
              "#fdca26"
             ],
             [
              1,
              "#f0f921"
             ]
            ],
            "type": "surface"
           }
          ],
          "table": [
           {
            "cells": {
             "fill": {
              "color": "#EBF0F8"
             },
             "line": {
              "color": "white"
             }
            },
            "header": {
             "fill": {
              "color": "#C8D4E3"
             },
             "line": {
              "color": "white"
             }
            },
            "type": "table"
           }
          ]
         },
         "layout": {
          "annotationdefaults": {
           "arrowcolor": "#2a3f5f",
           "arrowhead": 0,
           "arrowwidth": 1
          },
          "autotypenumbers": "strict",
          "coloraxis": {
           "colorbar": {
            "outlinewidth": 0,
            "ticks": ""
           }
          },
          "colorscale": {
           "diverging": [
            [
             0,
             "#8e0152"
            ],
            [
             0.1,
             "#c51b7d"
            ],
            [
             0.2,
             "#de77ae"
            ],
            [
             0.3,
             "#f1b6da"
            ],
            [
             0.4,
             "#fde0ef"
            ],
            [
             0.5,
             "#f7f7f7"
            ],
            [
             0.6,
             "#e6f5d0"
            ],
            [
             0.7,
             "#b8e186"
            ],
            [
             0.8,
             "#7fbc41"
            ],
            [
             0.9,
             "#4d9221"
            ],
            [
             1,
             "#276419"
            ]
           ],
           "sequential": [
            [
             0,
             "#0d0887"
            ],
            [
             0.1111111111111111,
             "#46039f"
            ],
            [
             0.2222222222222222,
             "#7201a8"
            ],
            [
             0.3333333333333333,
             "#9c179e"
            ],
            [
             0.4444444444444444,
             "#bd3786"
            ],
            [
             0.5555555555555556,
             "#d8576b"
            ],
            [
             0.6666666666666666,
             "#ed7953"
            ],
            [
             0.7777777777777778,
             "#fb9f3a"
            ],
            [
             0.8888888888888888,
             "#fdca26"
            ],
            [
             1,
             "#f0f921"
            ]
           ],
           "sequentialminus": [
            [
             0,
             "#0d0887"
            ],
            [
             0.1111111111111111,
             "#46039f"
            ],
            [
             0.2222222222222222,
             "#7201a8"
            ],
            [
             0.3333333333333333,
             "#9c179e"
            ],
            [
             0.4444444444444444,
             "#bd3786"
            ],
            [
             0.5555555555555556,
             "#d8576b"
            ],
            [
             0.6666666666666666,
             "#ed7953"
            ],
            [
             0.7777777777777778,
             "#fb9f3a"
            ],
            [
             0.8888888888888888,
             "#fdca26"
            ],
            [
             1,
             "#f0f921"
            ]
           ]
          },
          "colorway": [
           "#636efa",
           "#EF553B",
           "#00cc96",
           "#ab63fa",
           "#FFA15A",
           "#19d3f3",
           "#FF6692",
           "#B6E880",
           "#FF97FF",
           "#FECB52"
          ],
          "font": {
           "color": "#2a3f5f"
          },
          "geo": {
           "bgcolor": "white",
           "lakecolor": "white",
           "landcolor": "#E5ECF6",
           "showlakes": true,
           "showland": true,
           "subunitcolor": "white"
          },
          "hoverlabel": {
           "align": "left"
          },
          "hovermode": "closest",
          "mapbox": {
           "style": "light"
          },
          "paper_bgcolor": "white",
          "plot_bgcolor": "#E5ECF6",
          "polar": {
           "angularaxis": {
            "gridcolor": "white",
            "linecolor": "white",
            "ticks": ""
           },
           "bgcolor": "#E5ECF6",
           "radialaxis": {
            "gridcolor": "white",
            "linecolor": "white",
            "ticks": ""
           }
          },
          "scene": {
           "xaxis": {
            "backgroundcolor": "#E5ECF6",
            "gridcolor": "white",
            "gridwidth": 2,
            "linecolor": "white",
            "showbackground": true,
            "ticks": "",
            "zerolinecolor": "white"
           },
           "yaxis": {
            "backgroundcolor": "#E5ECF6",
            "gridcolor": "white",
            "gridwidth": 2,
            "linecolor": "white",
            "showbackground": true,
            "ticks": "",
            "zerolinecolor": "white"
           },
           "zaxis": {
            "backgroundcolor": "#E5ECF6",
            "gridcolor": "white",
            "gridwidth": 2,
            "linecolor": "white",
            "showbackground": true,
            "ticks": "",
            "zerolinecolor": "white"
           }
          },
          "shapedefaults": {
           "line": {
            "color": "#2a3f5f"
           }
          },
          "ternary": {
           "aaxis": {
            "gridcolor": "white",
            "linecolor": "white",
            "ticks": ""
           },
           "baxis": {
            "gridcolor": "white",
            "linecolor": "white",
            "ticks": ""
           },
           "bgcolor": "#E5ECF6",
           "caxis": {
            "gridcolor": "white",
            "linecolor": "white",
            "ticks": ""
           }
          },
          "title": {
           "x": 0.05
          },
          "xaxis": {
           "automargin": true,
           "gridcolor": "white",
           "linecolor": "white",
           "ticks": "",
           "title": {
            "standoff": 15
           },
           "zerolinecolor": "white",
           "zerolinewidth": 2
          },
          "yaxis": {
           "automargin": true,
           "gridcolor": "white",
           "linecolor": "white",
           "ticks": "",
           "title": {
            "standoff": 15
           },
           "zerolinecolor": "white",
           "zerolinewidth": 2
          }
         }
        },
        "title": {
         "text": "Boxplot da coluna dias_desde_ultima_mudanca_cargo"
        },
        "xaxis": {
         "anchor": "y",
         "categoryarray": [
          0,
          1
         ],
         "categoryorder": "array",
         "domain": [
          0,
          1
         ],
         "title": {
          "text": "churn"
         }
        },
        "yaxis": {
         "anchor": "x",
         "domain": [
          0,
          1
         ],
         "title": {
          "text": "dias_desde_ultima_mudanca_cargo"
         }
        }
       }
      }
     },
     "metadata": {},
     "output_type": "display_data"
    }
   ],
   "source": [
    "for col in df.select_dtypes(include=['int64', 'float64']).columns:\n",
    "  if col != 'churn':\n",
    "    fig = px.box(df, x='churn', y=col, title=f'Boxplot da coluna {col}', color='churn')\n",
    "    fig.show()"
   ]
  },
  {
   "cell_type": "code",
   "execution_count": 44,
   "metadata": {},
   "outputs": [
    {
     "data": {
      "application/vnd.plotly.v1+json": {
       "config": {
        "plotlyServerURL": "https://plot.ly"
       },
       "data": [
        {
         "coloraxis": "coloraxis",
         "hovertemplate": "x: %{x}<br>y: %{y}<br>color: %{z}<extra></extra>",
         "name": "0",
         "text": {
          "bdata": "AAAAAAAA8D90+k23h91rvzXzIzBpDk0/RHFygQJPlr9yNj1Qw5Qlv1CRPf0Q7Gw/WyUW4jGgiD/qTujau/B9v7AeiCXWNYK/N1BYNV/2nb9wb3H6IZqDv3T6TbeH3Wu/AAAAAAAA8D9bVw4ZBOSuP7mhZw2u81i/BxatuVTYUz//nFX09+iYv40E9MRxkZm/otmw1yrEgD/yqkdd7h6KPwZLFqJZbpQ/SJJB/yN9kL818yMwaQ5NP1tXDhkE5K4/AAAAAAAA8D9q9RqlOV6ZP7keRBCngpw/sADAGgG3cr+dPHueifOBP9dIjWjadpC/dDpry405Xb/1D3Rod1Jqv3rPAL1Jom2/RHFygQJPlr+5oWcNrvNYv2r1GqU5Xpk/AAAAAAAA8D/w0d2aggJ9P3sdh4+e5H2/HztiIN8fab+9pmoKKwOEP5wo6k6ddmU/84ppEOf4kT+0wKCSiyJ+P3I2PVDDlCW/BxatuVTYUz+5HkQQp4KcP/DR3ZqCAn0/AAAAAAAA8D87IxjxXOFwv78DPDvjgqG/TzhOfI0Tgj+DNSTRJgKsv4F5voWZYKG/vjYnLT1Anb9QkT39EOxsP/+cVfT36Ji/sADAGgG3cr97HYePnuR9vzsjGPFc4XC/AAAAAAAA8D+e+V4URNaWv5RbC5Jc2pC/hfoiGER+Xr+H5Fanjv2FP//qzqXSJaG/WyUW4jGgiD+NBPTEcZGZv508e56J84E/HztiIN8fab+/Azw744Khv575XhRE1pa/AAAAAAAA8D/zONk+dzHXv9TAGD3SB84/IENjbAC5yz9Qbqdi4U/NP+pO6Nq78H2/otmw1yrEgD/XSI1o2naQv72magorA4Q/TzhOfI0Tgj+UWwuSXNqQv/M42T53Mde/AAAAAAAA8D/Olb0iTHDbP1/CXDM6W9w/JIsDap3P2z+wHogl1jWCv/KqR13uHoo/dDpry405Xb+cKOpOnXZlP4M1JNEmAqy/hfoiGER+Xr/UwBg90gfOP86VvSJMcNs/AAAAAAAA8D+x7Sw5FW3gP5K0CCvgeOA/N1BYNV/2nb8GSxaiWW6UP/UPdGh3Umq/84ppEOf4kT+Beb6FmWChv4fkVqeO/YU/IENjbAC5yz9fwlwzOlvcP7HtLDkVbeA/AAAAAAAA8D/FhdofmxThP3BvcfohmoO/SJJB/yN9kL96zwC9SaJtv7TAoJKLIn4/vjYnLT1Anb//6s6l0iWhv1Bup2LhT80/JIsDap3P2z+StAgr4HjgP8WF2h+bFOE/AAAAAAAA8D8=",
          "dtype": "f8",
          "shape": "11, 11"
         },
         "textfont": {
          "size": 12
         },
         "texttemplate": "%{text:.1%}",
         "type": "heatmap",
         "x": [
          "idade",
          "salario_atual",
          "nota_avaliacao",
          "qtde_projetos",
          "qtde_clientes",
          "nivel_satisfacao_gestor",
          "churn",
          "tempo_empresa",
          "tempo_desde_ultimo_feedback",
          "dias_desde_ultimo_aumento",
          "dias_desde_ultima_mudanca_cargo"
         ],
         "xaxis": "x",
         "y": [
          "idade",
          "salario_atual",
          "nota_avaliacao",
          "qtde_projetos",
          "qtde_clientes",
          "nivel_satisfacao_gestor",
          "churn",
          "tempo_empresa",
          "tempo_desde_ultimo_feedback",
          "dias_desde_ultimo_aumento",
          "dias_desde_ultima_mudanca_cargo"
         ],
         "yaxis": "y",
         "z": {
          "bdata": "AAAAAAAA8D90+k23h91rvzXzIzBpDk0/RHFygQJPlr9yNj1Qw5Qlv1CRPf0Q7Gw/WyUW4jGgiD/qTujau/B9v7AeiCXWNYK/N1BYNV/2nb9wb3H6IZqDv3T6TbeH3Wu/AAAAAAAA8D9bVw4ZBOSuP7mhZw2u81i/BxatuVTYUz//nFX09+iYv40E9MRxkZm/otmw1yrEgD/yqkdd7h6KPwZLFqJZbpQ/SJJB/yN9kL818yMwaQ5NP1tXDhkE5K4/AAAAAAAA8D9q9RqlOV6ZP7keRBCngpw/sADAGgG3cr+dPHueifOBP9dIjWjadpC/dDpry405Xb/1D3Rod1Jqv3rPAL1Jom2/RHFygQJPlr+5oWcNrvNYv2r1GqU5Xpk/AAAAAAAA8D/w0d2aggJ9P3sdh4+e5H2/HztiIN8fab+9pmoKKwOEP5wo6k6ddmU/84ppEOf4kT+0wKCSiyJ+P3I2PVDDlCW/BxatuVTYUz+5HkQQp4KcP/DR3ZqCAn0/AAAAAAAA8D87IxjxXOFwv78DPDvjgqG/TzhOfI0Tgj+DNSTRJgKsv4F5voWZYKG/vjYnLT1Anb9QkT39EOxsP/+cVfT36Ji/sADAGgG3cr97HYePnuR9vzsjGPFc4XC/AAAAAAAA8D+e+V4URNaWv5RbC5Jc2pC/hfoiGER+Xr+H5Fanjv2FP//qzqXSJaG/WyUW4jGgiD+NBPTEcZGZv508e56J84E/HztiIN8fab+/Azw744Khv575XhRE1pa/AAAAAAAA8D/zONk+dzHXv9TAGD3SB84/IENjbAC5yz9Qbqdi4U/NP+pO6Nq78H2/otmw1yrEgD/XSI1o2naQv72magorA4Q/TzhOfI0Tgj+UWwuSXNqQv/M42T53Mde/AAAAAAAA8D/Olb0iTHDbP1/CXDM6W9w/JIsDap3P2z+wHogl1jWCv/KqR13uHoo/dDpry405Xb+cKOpOnXZlP4M1JNEmAqy/hfoiGER+Xr/UwBg90gfOP86VvSJMcNs/AAAAAAAA8D+x7Sw5FW3gP5K0CCvgeOA/N1BYNV/2nb8GSxaiWW6UP/UPdGh3Umq/84ppEOf4kT+Beb6FmWChv4fkVqeO/YU/IENjbAC5yz9fwlwzOlvcP7HtLDkVbeA/AAAAAAAA8D/FhdofmxThP3BvcfohmoO/SJJB/yN9kL96zwC9SaJtv7TAoJKLIn4/vjYnLT1Anb//6s6l0iWhv1Bup2LhT80/JIsDap3P2z+StAgr4HjgP8WF2h+bFOE/AAAAAAAA8D8=",
          "dtype": "f8",
          "shape": "11, 11"
         }
        }
       ],
       "layout": {
        "coloraxis": {
         "cmax": 1,
         "cmin": -1,
         "colorscale": [
          [
           0,
           "#440154"
          ],
          [
           0.1111111111111111,
           "#482878"
          ],
          [
           0.2222222222222222,
           "#3e4989"
          ],
          [
           0.3333333333333333,
           "#31688e"
          ],
          [
           0.4444444444444444,
           "#26828e"
          ],
          [
           0.5555555555555556,
           "#1f9e89"
          ],
          [
           0.6666666666666666,
           "#35b779"
          ],
          [
           0.7777777777777778,
           "#6ece58"
          ],
          [
           0.8888888888888888,
           "#b5de2b"
          ],
          [
           1,
           "#fde725"
          ]
         ]
        },
        "font": {
         "size": 10
        },
        "height": 800,
        "template": {
         "data": {
          "bar": [
           {
            "error_x": {
             "color": "#2a3f5f"
            },
            "error_y": {
             "color": "#2a3f5f"
            },
            "marker": {
             "line": {
              "color": "#E5ECF6",
              "width": 0.5
             },
             "pattern": {
              "fillmode": "overlay",
              "size": 10,
              "solidity": 0.2
             }
            },
            "type": "bar"
           }
          ],
          "barpolar": [
           {
            "marker": {
             "line": {
              "color": "#E5ECF6",
              "width": 0.5
             },
             "pattern": {
              "fillmode": "overlay",
              "size": 10,
              "solidity": 0.2
             }
            },
            "type": "barpolar"
           }
          ],
          "carpet": [
           {
            "aaxis": {
             "endlinecolor": "#2a3f5f",
             "gridcolor": "white",
             "linecolor": "white",
             "minorgridcolor": "white",
             "startlinecolor": "#2a3f5f"
            },
            "baxis": {
             "endlinecolor": "#2a3f5f",
             "gridcolor": "white",
             "linecolor": "white",
             "minorgridcolor": "white",
             "startlinecolor": "#2a3f5f"
            },
            "type": "carpet"
           }
          ],
          "choropleth": [
           {
            "colorbar": {
             "outlinewidth": 0,
             "ticks": ""
            },
            "type": "choropleth"
           }
          ],
          "contour": [
           {
            "colorbar": {
             "outlinewidth": 0,
             "ticks": ""
            },
            "colorscale": [
             [
              0,
              "#0d0887"
             ],
             [
              0.1111111111111111,
              "#46039f"
             ],
             [
              0.2222222222222222,
              "#7201a8"
             ],
             [
              0.3333333333333333,
              "#9c179e"
             ],
             [
              0.4444444444444444,
              "#bd3786"
             ],
             [
              0.5555555555555556,
              "#d8576b"
             ],
             [
              0.6666666666666666,
              "#ed7953"
             ],
             [
              0.7777777777777778,
              "#fb9f3a"
             ],
             [
              0.8888888888888888,
              "#fdca26"
             ],
             [
              1,
              "#f0f921"
             ]
            ],
            "type": "contour"
           }
          ],
          "contourcarpet": [
           {
            "colorbar": {
             "outlinewidth": 0,
             "ticks": ""
            },
            "type": "contourcarpet"
           }
          ],
          "heatmap": [
           {
            "colorbar": {
             "outlinewidth": 0,
             "ticks": ""
            },
            "colorscale": [
             [
              0,
              "#0d0887"
             ],
             [
              0.1111111111111111,
              "#46039f"
             ],
             [
              0.2222222222222222,
              "#7201a8"
             ],
             [
              0.3333333333333333,
              "#9c179e"
             ],
             [
              0.4444444444444444,
              "#bd3786"
             ],
             [
              0.5555555555555556,
              "#d8576b"
             ],
             [
              0.6666666666666666,
              "#ed7953"
             ],
             [
              0.7777777777777778,
              "#fb9f3a"
             ],
             [
              0.8888888888888888,
              "#fdca26"
             ],
             [
              1,
              "#f0f921"
             ]
            ],
            "type": "heatmap"
           }
          ],
          "histogram": [
           {
            "marker": {
             "pattern": {
              "fillmode": "overlay",
              "size": 10,
              "solidity": 0.2
             }
            },
            "type": "histogram"
           }
          ],
          "histogram2d": [
           {
            "colorbar": {
             "outlinewidth": 0,
             "ticks": ""
            },
            "colorscale": [
             [
              0,
              "#0d0887"
             ],
             [
              0.1111111111111111,
              "#46039f"
             ],
             [
              0.2222222222222222,
              "#7201a8"
             ],
             [
              0.3333333333333333,
              "#9c179e"
             ],
             [
              0.4444444444444444,
              "#bd3786"
             ],
             [
              0.5555555555555556,
              "#d8576b"
             ],
             [
              0.6666666666666666,
              "#ed7953"
             ],
             [
              0.7777777777777778,
              "#fb9f3a"
             ],
             [
              0.8888888888888888,
              "#fdca26"
             ],
             [
              1,
              "#f0f921"
             ]
            ],
            "type": "histogram2d"
           }
          ],
          "histogram2dcontour": [
           {
            "colorbar": {
             "outlinewidth": 0,
             "ticks": ""
            },
            "colorscale": [
             [
              0,
              "#0d0887"
             ],
             [
              0.1111111111111111,
              "#46039f"
             ],
             [
              0.2222222222222222,
              "#7201a8"
             ],
             [
              0.3333333333333333,
              "#9c179e"
             ],
             [
              0.4444444444444444,
              "#bd3786"
             ],
             [
              0.5555555555555556,
              "#d8576b"
             ],
             [
              0.6666666666666666,
              "#ed7953"
             ],
             [
              0.7777777777777778,
              "#fb9f3a"
             ],
             [
              0.8888888888888888,
              "#fdca26"
             ],
             [
              1,
              "#f0f921"
             ]
            ],
            "type": "histogram2dcontour"
           }
          ],
          "mesh3d": [
           {
            "colorbar": {
             "outlinewidth": 0,
             "ticks": ""
            },
            "type": "mesh3d"
           }
          ],
          "parcoords": [
           {
            "line": {
             "colorbar": {
              "outlinewidth": 0,
              "ticks": ""
             }
            },
            "type": "parcoords"
           }
          ],
          "pie": [
           {
            "automargin": true,
            "type": "pie"
           }
          ],
          "scatter": [
           {
            "fillpattern": {
             "fillmode": "overlay",
             "size": 10,
             "solidity": 0.2
            },
            "type": "scatter"
           }
          ],
          "scatter3d": [
           {
            "line": {
             "colorbar": {
              "outlinewidth": 0,
              "ticks": ""
             }
            },
            "marker": {
             "colorbar": {
              "outlinewidth": 0,
              "ticks": ""
             }
            },
            "type": "scatter3d"
           }
          ],
          "scattercarpet": [
           {
            "marker": {
             "colorbar": {
              "outlinewidth": 0,
              "ticks": ""
             }
            },
            "type": "scattercarpet"
           }
          ],
          "scattergeo": [
           {
            "marker": {
             "colorbar": {
              "outlinewidth": 0,
              "ticks": ""
             }
            },
            "type": "scattergeo"
           }
          ],
          "scattergl": [
           {
            "marker": {
             "colorbar": {
              "outlinewidth": 0,
              "ticks": ""
             }
            },
            "type": "scattergl"
           }
          ],
          "scattermap": [
           {
            "marker": {
             "colorbar": {
              "outlinewidth": 0,
              "ticks": ""
             }
            },
            "type": "scattermap"
           }
          ],
          "scattermapbox": [
           {
            "marker": {
             "colorbar": {
              "outlinewidth": 0,
              "ticks": ""
             }
            },
            "type": "scattermapbox"
           }
          ],
          "scatterpolar": [
           {
            "marker": {
             "colorbar": {
              "outlinewidth": 0,
              "ticks": ""
             }
            },
            "type": "scatterpolar"
           }
          ],
          "scatterpolargl": [
           {
            "marker": {
             "colorbar": {
              "outlinewidth": 0,
              "ticks": ""
             }
            },
            "type": "scatterpolargl"
           }
          ],
          "scatterternary": [
           {
            "marker": {
             "colorbar": {
              "outlinewidth": 0,
              "ticks": ""
             }
            },
            "type": "scatterternary"
           }
          ],
          "surface": [
           {
            "colorbar": {
             "outlinewidth": 0,
             "ticks": ""
            },
            "colorscale": [
             [
              0,
              "#0d0887"
             ],
             [
              0.1111111111111111,
              "#46039f"
             ],
             [
              0.2222222222222222,
              "#7201a8"
             ],
             [
              0.3333333333333333,
              "#9c179e"
             ],
             [
              0.4444444444444444,
              "#bd3786"
             ],
             [
              0.5555555555555556,
              "#d8576b"
             ],
             [
              0.6666666666666666,
              "#ed7953"
             ],
             [
              0.7777777777777778,
              "#fb9f3a"
             ],
             [
              0.8888888888888888,
              "#fdca26"
             ],
             [
              1,
              "#f0f921"
             ]
            ],
            "type": "surface"
           }
          ],
          "table": [
           {
            "cells": {
             "fill": {
              "color": "#EBF0F8"
             },
             "line": {
              "color": "white"
             }
            },
            "header": {
             "fill": {
              "color": "#C8D4E3"
             },
             "line": {
              "color": "white"
             }
            },
            "type": "table"
           }
          ]
         },
         "layout": {
          "annotationdefaults": {
           "arrowcolor": "#2a3f5f",
           "arrowhead": 0,
           "arrowwidth": 1
          },
          "autotypenumbers": "strict",
          "coloraxis": {
           "colorbar": {
            "outlinewidth": 0,
            "ticks": ""
           }
          },
          "colorscale": {
           "diverging": [
            [
             0,
             "#8e0152"
            ],
            [
             0.1,
             "#c51b7d"
            ],
            [
             0.2,
             "#de77ae"
            ],
            [
             0.3,
             "#f1b6da"
            ],
            [
             0.4,
             "#fde0ef"
            ],
            [
             0.5,
             "#f7f7f7"
            ],
            [
             0.6,
             "#e6f5d0"
            ],
            [
             0.7,
             "#b8e186"
            ],
            [
             0.8,
             "#7fbc41"
            ],
            [
             0.9,
             "#4d9221"
            ],
            [
             1,
             "#276419"
            ]
           ],
           "sequential": [
            [
             0,
             "#0d0887"
            ],
            [
             0.1111111111111111,
             "#46039f"
            ],
            [
             0.2222222222222222,
             "#7201a8"
            ],
            [
             0.3333333333333333,
             "#9c179e"
            ],
            [
             0.4444444444444444,
             "#bd3786"
            ],
            [
             0.5555555555555556,
             "#d8576b"
            ],
            [
             0.6666666666666666,
             "#ed7953"
            ],
            [
             0.7777777777777778,
             "#fb9f3a"
            ],
            [
             0.8888888888888888,
             "#fdca26"
            ],
            [
             1,
             "#f0f921"
            ]
           ],
           "sequentialminus": [
            [
             0,
             "#0d0887"
            ],
            [
             0.1111111111111111,
             "#46039f"
            ],
            [
             0.2222222222222222,
             "#7201a8"
            ],
            [
             0.3333333333333333,
             "#9c179e"
            ],
            [
             0.4444444444444444,
             "#bd3786"
            ],
            [
             0.5555555555555556,
             "#d8576b"
            ],
            [
             0.6666666666666666,
             "#ed7953"
            ],
            [
             0.7777777777777778,
             "#fb9f3a"
            ],
            [
             0.8888888888888888,
             "#fdca26"
            ],
            [
             1,
             "#f0f921"
            ]
           ]
          },
          "colorway": [
           "#636efa",
           "#EF553B",
           "#00cc96",
           "#ab63fa",
           "#FFA15A",
           "#19d3f3",
           "#FF6692",
           "#B6E880",
           "#FF97FF",
           "#FECB52"
          ],
          "font": {
           "color": "#2a3f5f"
          },
          "geo": {
           "bgcolor": "white",
           "lakecolor": "white",
           "landcolor": "#E5ECF6",
           "showlakes": true,
           "showland": true,
           "subunitcolor": "white"
          },
          "hoverlabel": {
           "align": "left"
          },
          "hovermode": "closest",
          "mapbox": {
           "style": "light"
          },
          "paper_bgcolor": "white",
          "plot_bgcolor": "#E5ECF6",
          "polar": {
           "angularaxis": {
            "gridcolor": "white",
            "linecolor": "white",
            "ticks": ""
           },
           "bgcolor": "#E5ECF6",
           "radialaxis": {
            "gridcolor": "white",
            "linecolor": "white",
            "ticks": ""
           }
          },
          "scene": {
           "xaxis": {
            "backgroundcolor": "#E5ECF6",
            "gridcolor": "white",
            "gridwidth": 2,
            "linecolor": "white",
            "showbackground": true,
            "ticks": "",
            "zerolinecolor": "white"
           },
           "yaxis": {
            "backgroundcolor": "#E5ECF6",
            "gridcolor": "white",
            "gridwidth": 2,
            "linecolor": "white",
            "showbackground": true,
            "ticks": "",
            "zerolinecolor": "white"
           },
           "zaxis": {
            "backgroundcolor": "#E5ECF6",
            "gridcolor": "white",
            "gridwidth": 2,
            "linecolor": "white",
            "showbackground": true,
            "ticks": "",
            "zerolinecolor": "white"
           }
          },
          "shapedefaults": {
           "line": {
            "color": "#2a3f5f"
           }
          },
          "ternary": {
           "aaxis": {
            "gridcolor": "white",
            "linecolor": "white",
            "ticks": ""
           },
           "baxis": {
            "gridcolor": "white",
            "linecolor": "white",
            "ticks": ""
           },
           "bgcolor": "#E5ECF6",
           "caxis": {
            "gridcolor": "white",
            "linecolor": "white",
            "ticks": ""
           }
          },
          "title": {
           "x": 0.05
          },
          "xaxis": {
           "automargin": true,
           "gridcolor": "white",
           "linecolor": "white",
           "ticks": "",
           "title": {
            "standoff": 15
           },
           "zerolinecolor": "white",
           "zerolinewidth": 2
          },
          "yaxis": {
           "automargin": true,
           "gridcolor": "white",
           "linecolor": "white",
           "ticks": "",
           "title": {
            "standoff": 15
           },
           "zerolinecolor": "white",
           "zerolinewidth": 2
          }
         }
        },
        "title": {
         "font": {
          "size": 14
         },
         "text": "Matriz de Correlação"
        },
        "width": 1000,
        "xaxis": {
         "anchor": "y",
         "constrain": "domain",
         "domain": [
          0,
          1
         ],
         "scaleanchor": "y"
        },
        "yaxis": {
         "anchor": "x",
         "autorange": "reversed",
         "constrain": "domain",
         "domain": [
          0,
          1
         ]
        }
       }
      }
     },
     "metadata": {},
     "output_type": "display_data"
    }
   ],
   "source": [
    "colunas_numericas = df.select_dtypes(include=['int64', 'float64']).columns\n",
    "corr_matrix = df[colunas_numericas].corr()\n",
    "\n",
    "fig = px.imshow(corr_matrix, title='Matriz de Correlação', color_continuous_scale='Viridis', zmin=-1, zmax=1)\n",
    "\n",
    "fig.update_traces(text=corr_matrix, texttemplate='%{text:.1%}', textfont={'size': 12})\n",
    "fig.update_layout(width=1000, height=800, title_font=dict(size=14), font=dict(size=10))\n",
    "\n",
    "fig.show()"
   ]
  },
  {
   "cell_type": "code",
   "execution_count": 46,
   "metadata": {},
   "outputs": [
    {
     "data": {
      "application/vnd.plotly.v1+json": {
       "config": {
        "plotlyServerURL": "https://plot.ly"
       },
       "data": [
        {
         "dimensions": [
          {
           "axis": {
            "matches": true
           },
           "label": "idade",
           "values": {
            "bdata": "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",
            "dtype": "i1"
           }
          },
          {
           "axis": {
            "matches": true
           },
           "label": "salario_atual",
           "values": {
            "bdata": "3ydxXcI7yjs7RWsZHzEDQYNByjMdWrY36jDKU3owMy/kU1EkjFt/PGJZkCa+NWRQw1ZnM4stkzeBW5souUtJIy5glxn+GjpJ6jWkVuIktFxvMQc54l4gIpEsMFrwRIxaqkqoKKM58TDLV0MvD1G8R4E2OyjxVcUrcz1VTMJBMV/WHFhHuRjQLvNBYkDqXg432T0gXyRh2TTAJQ4eNiSnKl5YeRiCVRk5lxQFTstZ2zWaFRxH5S0gK4IfDmFgGCs/OFw9Va0u+y1mGckb5lckP3ksqygrXBhQMByFPfQ9J1T+PpUY3V9bQx5E8lMDKc48qBxDXggZEho+Gngp/BRwS44s3jZ1XDU3ei1cIbwhGif2UaxWfjiYE0E1+RxZVmcqlhU4MNY4TVSTJP9fSl2QNFcmdVa5II875RZbJ0MY5V19JfdW/lFKMIBXyC/JPcUrVlWhLdZbzElBRC5NUFZPOLM1G0C3Sog6EBeRUchdnRXZODZGOFoHV/kn7lLLEwkzs0D1Kt82XRkpI1g4JRXRNjAqeD2aXtZWWRyUH+9VRx8gWNlAEDXnVVpWKlhfPiJTBVyIFENKoVGtXyBRcCvFQXVQMyDNQPJfiysBKFRZ1DCbYIZTyRcOWk5a+yfJNfNelE3vFXFgUSdmOqIUZEOmF/NEwkRdPrtF5kyXRag/xUA5NSE0LhTiNedHV0i5HUE1QBTuQA87dzqIPuRa5kWsQL5VhSbVQtlVTTz0P6hgKB8aTtw6lE/GL2Y/AUGxRjNMVRuXN/EiZBzcGDZLLCL8VLEjuyr4XGE39zrRWO07FkWDPrwVsRwaLXIrnGF8LYIj41J/M45H5jyZI9tgbh7uMeZYph4NRQ0s6kApP789WDnkPGE9XB1kIkApYS0ERL4uc0e9Ockr8lUwHUA9lxkMMTpBCyCYKiYnXDM+KQFECkxzLmo+hTmmF64vuEPnPPgiBl3VJ8oefzkJIuIlUVSiTzBSFByYI1I2f1PCL+ZZ812RPmkhQzskKM4hzjH9LVFghFfMFY5MFhZ/LKEXhT/fLf5D81M1H+hOYhinJ0pYgSAFI581D03NQRMl60lcImMZBkYXXqpAChX1MxgyBRvcI9dLNyjOTGVd2x3WKYIm0B7EQFU4UVGcHLRL3VMgXHk14SjkRx4sUjURIIQeOSeRLQZbUSSHMhEzOk0MQQ0W0CCINeYTHEYnTZgw1yYrKTEhZTDRVlk8cUd3G0AdVh23FiphMS+4TUkfyCtQLogemDpvPlJMi0VoNyAwGFuLHGgslCHWEydHRyQAWKpG6DzqGJ46oiQMLQZTWCGaL1EpWBczVDcqtyuiUFI2dx+AO80XSDjnS+AhySchH84waRvYLyAdA1HLTMRcEhWfQDdAX0maOhVYXRsQOnNPoBotVZkX8zCjVdsZzCM7Hq5ZpV5rG/cUQEe5OXA2ZBiCRylN0UXBMXs5u2AGW1w76Rk+LUxPLSojX2FYmV3gFSdfZUWwLWtNohNoM8klQhUHQNhOyFdIJfZaUxr9JepbACp0Ko4iYS72MSAsJ1yjM44Y+CFGGBcb5FKdViNEflNhKwtL5T8dJtdY1CbfE7Ak+UK6PmEaBVByGCkeWxRzTAs/yl+lHTYsVRg1Hckt+CSGN8lGmR6QHStBSypgRJpfeRu0F+VNu1iSTJFGXDbPL2Ywj0zdXUIduViNT5FGYUe6WS1Xox1OLwUkp03AQ39TyzmOJlgg8imSIlNFHzyUTBE2aC2EOIxQqF/iRm5ADF3/LsYoCCiQO+suHGAfJTs8+CzvLu9I2lL2XeY2KFnxMhVMV0rsQysuNFjHO3cxJDp2Jgkd+jgpF5tWx1H/X+E5Hx1dXFI2IEEEUlA0OzV6U4ZL3yyVNFFSWyCwK0cfmjNIRtQTBBQURllLg0xeTAQ7DDZ+KUtGHkPiS6tC7CgtS5BgB1D9WlMqzDsgTzsjezKFYXZM/ULdGc5ElDEJT6YnSDxfMhBfXVx2FZcVIx94HedMUmFALrgoElBwIlheuyJ1FrAVcUd+JZk/WUlXFKIiGh89LVQbVGATRVcWt029UChd6lRsS2JTLTRCSJMcZiabLkAlFRe0UcYmjhl9J+A3txWKFJ1UsSyYIWkhhDvNTuRaZR5ZTQBbDVC1EzYkHyPVVQYpASZdF9YgbUaJRtZP40zuSjFc+hY8FmAk+U4yGu5WZziuPeNH8FpEMf8xNBrtVD5AFlYYIGRByEqFN7I7miXjWOxNFD1LHq0eEzpUSyA5cl2nMRRShx+rLxRbeCljLK0eOj0NX7Ngdh+KXMVUoks/VIwbKTwWF+cWWFm9Jjoj605YTcw/gTYJYDQ7A1U8JNkZqxdjL0BKZCiIJQwzFEqrSZQ6z0wKRqM+aksYPZlFsT6pN/MdgjJEQaxcVVWmSI5UwCuLYT0uZyfqT9EhCCILVhwUrUIuTx9TPlGvQ9c/lFB+GvET/DEYQNJFLSWvVE0nQ0PLKbRClRzhRyhTMRUPX0VHaCUCMlFAn1RcOsFa21IeUJ1ULVgcV3kp2T6SUT1WVRdvJEsjhxxXQLEdF1PcUpwuGjetKEQfZRQ9UkokHRZpJkY1rCiFJK42QRptKOlHO0RBSeYzfhfDM/hLqSePVUccuFCwSX4X2yGIFHUhwik+XdMvtiMXPppM31k6Pwkd+hqcFnotJ0SCP6Q760vyE75W5TD3PDlY6EJSUB8qQjxBHDlL0R+rJoRUlGDWYL1aFyOtPy1VVxZ+NlUuMy5vJmhYkkfDX4lN3T76R7lL+yn8IS9BF0mYJSdYzxTdPSclCij7GqMVj1D8JohIKxrQFhtfDyYDO3hfTiGRJqUnxzrSWItfi0FPMJ0ec1uGJpxJXlWFYPRKolHKX88dLCBkIARf3DoWIw8ftlGYW/FTVzs9WWs5tkawJglUTTuKGXwvBCjRJfI9hUuJXIY6ERt3Oy47Th1TP4Q09hflX7pXKEPoMAJIHBt0L25JelHVH2g8D1gwTVRJFDb2Uw1U3jwQN6VVDjTgP2we+jbCLYROV0vFVS8oqhV9YH4dW1yUNWk/ulVSRE8WNz+DJfgjzRl7Tz5JhkFPQZcfH1QhKUke0yNnYdtD6SiOK0s9okqLLxZMDCN0TbFMsUkpX0VWCiErQh48V1BrSWApgTWZKd5dJFEbVDhHEC+8K3VDfjkOP4JFkTu1NQo7S1VWH/5SUhzCThRYLVKYXysumCLEM4RMOj16GppYBiE0MeJBnDISNH0W2CFaKIw20U/GV8JRYi3/VBhPnScPOsJanzKeOORKKyyRJYJTEUH5VC1QpVGFGx85XyxOJks/CESRX6BSdz6cRQpMcyihFpEwlz+OFiI6PkvjE14cVkhkF9kjzCwBRgVE7zKhFc0a2TLURD8mixaSHRgqbyhTUIc8vkNJSWJJMFgfFEEq8FRoKust6SagGSxM6zerUMUmzi5NGRMpEC5jXHNE4BigUp4+nlSJGSo3alAqP31N1TN3X8oh0hsJNsBEmjv2GxMlzTHzG/FIpk3NLH8yeTWRVS9T9DV6J2MX7lmsRvIcCz1zGwBg8zQETaZXNCCPYSpMRSlpPmMcaVCcP7c+AjzyRSNgQEXZMxMVwSicXMQqwkv/H+Qh2E8QQWhZllkKVZUXXWGNOoIpWk7KTzMbchr1Jqpd2TSxReZORlszN88ZMDp8FL5DsSZQOJtHAFIXT5hCwhr1VEsmnxnQR7oeZUNYT91DsT6BF8A4SUOGJU0ePEG/NyxGWCsKSYZaGzdIQDFVCkV+P4FTx1HQP1IrCEClVbsUiFSWT8A/GSmrWPoyQSvPFzciKl/qHXQ6DVwgXMYhfim8G6dTZjJtTdZG7Dl3KZI/wVmzHslahBtaMIZGbV5VKwxh5x5eXxQ8qTfkLbU3RyxSHQU1/CzOQOYh2VOYSepCLiuNN8xEnSWTTdgbgDlsQu1MD0kESsQ7Dyo0YcU3nEWWImBEDRvtH6AxCkz2Wo0cXTGgXStCyEAdHkkepzrATWkb3VAZINsUAxnDPM0q8kwbFf1E8EwUSScx7iUUIhhObTuPYBI9yDeiVO4pwCIvGZBKMzNmGy8t+CA6RMpEAy0UQ2EfkDAeWiwcozgZM6tByVh6S/4n4EVQPuQvsxxBLFdF+R/vQxtQejCsGvtUu1qkSK5HwU2IUrxckDXRIqpWq0sGO/satVgTLVpVnhX9TUUpGlkLSvouLSB/LWsgJSaAWvFWZzQKGjtDHBy6FrMzXDZMIcwz0xmYOmlIiEkRVGJf3U2JIFpI/0AaP28dQFeZVqIwTStyNVJeah/RNDc6dCOoUZovhlSPGQkZS07OR2ZfjCCjJvYUwCwhOIEzDV9PKrAdQxxzJxQXZkqaN0dGwUB5J4EftzIXQLsT7F6pK2A6nTF7S7NMMDIHPEpR8RkURYg6fxfpIu0ZVCDYM24wR0AxXFNhpDcDXXJOxTHGIfJgPBnISX5UpCk5NC4UeVP1PEZFuBUnFaAb603OF28plzs9WpFLEjQsL/NC/yxFXaQurzWtS+5HlVAMUtAboEd0JL5a2kBMNgMnzzLoWbE2aFQrIIVIhTVDUq9F51MUOWlZuDohPbZHAjuxVwlStV/uMfUz7hfgHFtcn0SMV2oYAl0JFpJhzBpMRg1h4k89GVtO9D44HEIhkyWvMdtN2l9tRbkX1FUKNjM5HFFIYIs48TsSHnQsoUGlWNVcPyJ/Qds/IUZYJxxbOFyCHr1W9yZ4QexDMxawIJxhOC8bO5dVGkyjJVJG6EvRKLpffibFRuAhVFSQL65T9FQfGbUZcVZSR+NM616RIroUliTzHZxONS9EJ6hKTTRDHhIxpxawGoZWXk11Sd5RUF3YP04m0FtuKFRg+C8vLskc9jtyT+5djiALHAIsk1LCFzkuCl8rJ/pYFzCzQHwkMzWwGo9YaUGvN4BfmTF3McQhCzfcKrIfykkUNUo/4SPUXokvU0QwYKNH2hnKLetgyEyDOGkyARxVWNsacj0LFgAf9yy6WpVK8EPEMtc90UzrFjNZ8EmPHV5LfUYgXZsTvjjLSAVSfyuRFV0bNBYYRS06qCiJOYshWjx/Jow/mBXdNjItO0rZHuwhwBnpUio5bTw2MNce/zKuKv8vI0t1YBIkFFTPMtc4tEhrOqNGgVMjJPkd3iafKoIjKkqrO7VAGjsAPrRa91xWN0RNrSziFXZEZTD/FOVIeyxKM4BPukWgMMBZfRxlPAgrxlQ9Ku5VtVkrOIleMCfzHTsmtxmbIgIdX0ISV343yCojHYcnrBeKJu83uVGGKVMcXxoaH91Y40UiKNAtWzVpT/tRdiZYPboZ/DUXHnU60hw1IdhXtDWzQQ==",
            "dtype": "i2"
           }
          },
          {
           "axis": {
            "matches": true
           },
           "label": "nota_avaliacao",
           "values": {
            "bdata": "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",
            "dtype": "f8"
           }
          },
          {
           "axis": {
            "matches": true
           },
           "label": "qtde_projetos",
           "values": {
            "bdata": "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",
            "dtype": "i1"
           }
          },
          {
           "axis": {
            "matches": true
           },
           "label": "qtde_clientes",
           "values": {
            "bdata": "AQQHBAIEAwQBBgEFAQYCBAEBBgIEAgQEBgUBAgcDAQUFAQMGBAIHBgEHBQcBBQUBBwQGBQMBBwcEAgUEAQQFAwMEBAQCAgcEBQMHBAQGBwUGBAQGAgQCBAECAQMDBgcHBgYFBAIEBQEBAQUBBAMHBgEFBgcEAwUDAgEGAQEBBwQFBgUFAgUBAgQGAwIFBwIFAQQBBwYCAQcGAQIDBAMBAQYDBwYDBwYHAQcGAwMBBwcGBAMGBQICBAQFAgUEAQMCAgEBBAUFBAMCBgQCBgYGBQYHBwMDBgMGAwMHBAMFBwYGAgQFBgUBAwUBBgIDAgIDAwIDBQEHAgEDBAMFAwYDAgEFBwUFAQcHBQMCAgMGAQQHAwYEBwICAwICAwIGAQMDBwcHAgIBBwcCAQECAwUBAwQHBwIHBgIHAgIBBgEDBwIFBQQEBQUDBwIDBwEEBgIEBwUGBAMEAgcBBAEEAwcGBgYEAQYEBgICBgQCBQcBAwcEAgIBBQUEBAUCBQMGAgMDBwICBgEDBAUHBgIGBQEHAwMCBwMCBQEDBAYDAQEEAQIBAQQGBQIFAgYCAgUFBAEHBwcDBgMFBQUCBwUDAgQDBAIFBwMGBwQHBwIDAwUFBAcEBQIEBgcHBAQEBAICAgMFAQMDBAMGAgEHAwICBAMDBwMDBAcBBAQFAQUEAgQGAgcGBQIEBQIGAQcBBAQBBgIDAQEBBQcHBQECBQICAgcFBwUBBQYCAQUFBgcFAQYGBwQDBgIEAgUEAQQEBAIHAQQDBgUFAQEFAgMCBQYCBgYGBgEGBQYCBQYDBAUCBAYBAwEBAgMBBQcDBgUHAgQDAQYCAwYEBAIFAQYCBgEDBQMBBQYDBQQGAQcGBwcGAQYEBQUFAQEDBwcCBAQFAQcGBgcEBQMBBQcBBQMFBQIDAgIEBQUHBQMBBgIFBAMHAQYHAgcGBgcCBQMFAwEHBQMBBQUFBAUGBwIHBQQGAwMBBQUFBQcGBAUBAQQDBQMCBQEBAQUFBwQCAwICBAIGBgICBgMCBAQCBQYFAQEEAQUBAQEGAQQFBwMDBAYEBwYDBQMFAQUGAQYHAgMHBwcCBgEDBgIDBgcEAQIHBQIFBwIHBgIEAwUHBwcEAgIFBQYDBwUGAQYEBwIHAwEFBgQFBgUCBwYFBAQHBgMDBgcBBQEGBwEGBgQEBQUEAwUDBgECAwEEBAUFBQcCBwMEAwICBwQHAwECBAQGBAUHBQUEAgMHBAMCAwcBAwIHBQEHBwIGBAIBAgcBAQYDAwYEBAQHAgMHBQMBAwYBAgQDBQUHBwEDBQYFAwcGBQUCBgUBBAYDBAEHBgUGBQUEAQIDBQIGAQMHBgMDBwcGAwUCAwUCBQMEAgIHBQQDBwEHBAcEBQIGAwIEBgYHBgYGAwYHAQYDAgIHBQQEBgYCBwIFAgYHAQQFBwMGBwcBBQUEBAIDAgMDAwIGBgICAgMHAQEEBQUGAQEHBQEHAwIEAgcBBgcCBAYFAgEFAgMHBAYEBQUGBAMHBAQDAQcDAQQCAQQHAgECBgIDBwUCBwEEAQcCBAEFBQQHBgcFBQUGAgUGBAcFAQcGBQECAQIGAgQBBgMDAgEBBgMBBAYGBAYDBAMCBgMGAgECBAQEBgQBAgUBBQQEAQUDAgQDBQUHAQQHAwECBQEFBgQDBgcFBQMCBAIHBgUHBgMCBgEBBQYGBAEHAgIEBgcFBQQBBQYHAgUCAgcGBgIGBAUDBQICAwEFBgIBAQQBBgYHAwIDAQQEAwIGBAQBAwMGAQYGAQYDAgEEBAQFAgYBAQUGBAIGAgcEBgMFAQYHAgEDAgEDAwEBBgcEBQMFAQMFBAUFAgYGAwUEAwEFAwMCAgcHBAECBQQBBQQBAgIFBwYEBwMFAwcEBgQGAQMEAwIEBwYBAgEHBQICAQECAQIBAQYFBwECBwYEAwQGBQUFBAYFBAcBAwIEAwECBAYBAQEBBQYCBQUGBgUGBAYEAgIDBgUCBQMGAQQHBgYEBAQBBAMHBAMFAwIGBQcBBwYBBgQGBQIHAgEGBQQCAwMFAwYGAgEGBwYDBAMEAgYDBwQEBwcDBQUGBwcFAgcFAgUBAQEEAgIGBwYFBQECBwQFBgQDBAcDAQMCBQMHBgMBAQMBBAMFBAYCBQYFAQEHBQYBAgEBAQYCBwUBBQYDAQEHBwMFBgcCBAMDAQQDBwUCBAYEBgMHAwUEBQMFBgMDBwcBBgQDBgIGBwEBBwcFAQUGBgQCBAEEBgUCAQUDBQMCBQEBBwUBAwMFAgUDAQIFBQcHBwYEBQUDBgMHAwUFAwUBBQcCBgQDAgYDBwEGAwQHBAUBBAMGBQUEBQIFBAcGAgQBBAMCBgUFAQIDBAUFAgYDAwQGAwQHBwcEAQIHAwYFBQMGBgMFBwICAwQDBgEBBgEDBAQCBgUHAQQCBQQGAQIEBwEDAgcCAwcDAgUCAgcCBwEFAwUFBgYCAwEFAgYCBAcCAQcGAgUGBAQFBgcDBgMFBgYFAwcCBwQDAQcBBwEBBAEHAwYCAQcGBAYEBgMFBAQDBAEHAgcDBgQEAQcEAwEFAgMFAwcEBQECAgUHBgYHBAcHBwECAwIGAwEGBgEHBgQGBgEFBQUBBQUFBwIHBwYDBwEDAQMEAwIDBwcFBwIDBwYEBAIHBAEBBgEBBgEHBwQGBgUDAwYBAQI=",
            "dtype": "i1"
           }
          },
          {
           "axis": {
            "matches": true
           },
           "label": "nivel_satisfacao_gestor",
           "values": {
            "bdata": "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",
            "dtype": "f8"
           }
          },
          {
           "axis": {
            "matches": true
           },
           "label": "churn",
           "values": {
            "bdata": "AAAAAAAAAQAAAAAAAQAAAAAAAAEBAAAAAAEAAQAAAAAAAAEAAAAAAQABAAAAAQAAAAAAAAAAAAABAAAAAAAAAAAAAAAAAAAAAQAAAAAAAAAAAAEBAAAAAAAAAQAAAAAAAAABAAAAAAAAAAAAAAAAAQAAAAABAAEAAAAAAAAAAAAAAAAAAAABAAAAAQEBAAAAAAABAAAAAAAAAQAAAAEAAAAAAAAAAAAAAAAAAAAAAAAAAQAAAAEAAAABAQAAAQAAAAABAQABAQABAAAAAAAAAAAAAQAAAAAAAAAAAAAAAAEBAAABAAAAAAAAAAAAAAAAAAEAAAAAAAAAAQEAAAEAAAAAAAAAAAAAAAAAAAAAAAAAAAAAAAEAAQEAAAEAAAEAAAAAAAAAAAEAAAAAAAAAAAAAAAAAAAAAAQAAAAEBAAEAAAAAAAAAAQAAAAAAAAAAAAAAAAAAAAAAAAABAAABAQAAAAAAAAAAAAABAAAAAQAAAQAAAQAAAAAAAAAAAQABAAEAAAAAAAAAAAAAAAEAAAAAAAAAAAEAAAAAAAAAAAAAAAAAAQAAAAAAAAEAAAAAAAAAAQEAAAAAAAAAAAAAAQEAAAAAAAEAAAAAAAAAAAAAAAAAAAAAAQAAAAAAAAAAAAAAAAABAAEAAQAAAAABAQAAAAAAAAEAAAEAAQAAAAABAAABAAAAAQAAAQABAAAAAAAAAAAAAAEAAAAAAAAAAAAAAAABAAEAAAABAAAAAAAAAQAAAAAAAAAAAAAAAAAAAAEAAAEAAAAAAAEAAAABAAABAAAAAAAAAAAAAQAAAAEAAAAAAQAAAAAAAAEBAAAAAAAAAQABAQAAAAEAAAAAAQAAAAABAQAAAAABAAAAAAAAAAAAAAAAAAEAAAAAAAABAAAAAAAAAAABAAAAAAAAAAAAAAABAAAAAAAAAQEBAAAAAAAAAAAAAAEAAAAAAAAAAAAAAAAAAAAAAAABAQEAAAABAQABAAAAAAAAAAAAAAAAAQAAAAAAAAAAAAAAAQAAAAAAAAAAAAAAAAAAAQAAAAAAAAABAAAAAAABAAEAAQEAAAAAAAEAAAAAAAAAAAAAAQABAQAAAAAAAAAAAAABAAAAAAAAAAABAAAAAAEAAAAAAQAAAAAAAAAAAAAAAAAAAAAAAAAAAAAAAAAAAAAAAAEAAAAAAAEAAAAAAQAAAAAAAAAAAAAAAAABAAAAAAAAAAAAAAAAAAABAAAAAAAAAAAAAQAAAAAAAQEAAAAAAAAAAAABAAAAAAAAAAAAAAAAAAAAAAAAAAAAAAAAAAAAAAEAAAAAAAEAAAAAAAAAAAEAAAAAAAAAAQEAAQAAAAAAAAAAAAAAAAAAAAAAAAAAAAAAAAAAAAAAAAAAAAAAAAAAAAAAAAAAAAAAAAAAAAAAAAAAAAEAAQAAAAAAAAAAAAAAAAAAAQAAAAAAAAAAAAABAAAAAAAAAAEAAAAAAAEAAAAAAAAAAAAAAAAAAAAAAQAAAAAAAAAAAAAAAAAAAAAAAAAAAAAAAQABAAABAAAAAAAAAAAAAAAAAQAAAQAAAAAAAAAAAAAAAAAAAAAAAQAAAAAAAAAAAAEAAQAAAAABAAEAAAAAAAAAAAAAAAAAAAAAAAAAAAAAAQAAAAAAAAAAAAEBAAEAAAABAAAAAAEAAAABAAAAAAAAAAEAAAAAAAABAQAAAAABAAAAAAAAAAAAAAAAAAAAAAAAAAAAAAABAAAAAAAAAAAAAAEAAAABAAAAAAAAAAAAAAABAAAAAAAAAAEAAAAAAAABAAAAAAABAAAAAQABAAABAAAAAAAAAQAAAAEAAAAAAAAAAQAAAAEAAAAAAQAAAAAAAAAAAAAAAAAAAAAAAAAAAAAAAAAAAAAAAAAAAAEAAAEAAAAAAAEAAAAAAAAAAAEAAQAAAAEAAAEAAQAAAAAAAAAAAAAAAQAAAAEAAAEAAQAAAAAAAQAAAAAAAAAAAAAAAQAAAAEAAAAAAAAAAAEAAQEAAAEBAAAAAAAAAAAAAAAAAAABAAAAAAAAAAAAAQABAAABAAAAAAAAAQAAAQAAAAAAAAAAAQEAAAABAAAAAAAAAAAAAAAAAAEAAAAAAAAAAAAAAAAAAAAAAAAAAQABAAAAAAAAAAAAAQAAAAABAQEAAAAAAAAAAAAAAQABAAEAAAAAAAEBAAAAAAAAAAAAAAAAAAAAAAAAAAABAQAAAAAAAAAAAAAAAQEAAAAAAAAAAAAAAAAAAAAAAAABAAAAAAAAAAAAAAAAAAAAAQAAAAEAAAAAAAABAAAAAQAAAQAAAAAAAAAAAAAAAAEBAQAAAAAAAAEBAAAAAAAAAAAAAAAAAAAAAAEAAAAAAAEAAAAAAAAAAAAAAQABAAEAAAAAAAEAAQABAAAAAAAAAAEAAAAAAQEAAAAAAAAAAAEAAAAAAAAAAAAAAAAAAAAAAAEAAQAAAAAAAAAAAAAAAAAAAAABAAAAAAAAAAAAAQEAAQAAAAEAAAAAAAAAAAAAAAAAAAAAAAAAAAAAAAAAAAAAAQAAAAAAAAAAAAEAAAAAAAABAAAAAAAAAAAAAAAAAQAAAAEAAAABAAAAAAAAAAAAAAAAAAAAAAAAAAAAAAEAAAAAAAAAAAAAAAEAAAAAAQAAAAAAAAAAAAABAQAAAAAAAAAAAAEAAAA=",
            "dtype": "i1"
           }
          },
          {
           "axis": {
            "matches": true
           },
           "label": "tempo_empresa",
           "values": {
            "bdata": "SwdKB0kHSAdGB0UHuwNCB0EHQAc/Bz8HagM+Bz0HPAc8BzsHOQd/Bd4DNQc1BzQHMwdoBjIHiQQwBy4HLQctBy0HKwf5AikHJgcmByYHVQEkBz0DIQcgByAHZQUcBxoHGgcZBxkHFwcXBxYHFQcRBwQGEQcRBw0HDQcLBwoHCgcJBwcHBgcFBwUHAwcCBwEHdgIBBwAHAAf/Bv8G/wb/BvwG/AYZApkA+wb6BvoG+Qb4BvcGgQPzBvIG8gbyBvAG8AbwBg8C7wbvBu4G7gbtBuoG6QboBuYG5QbiBuIGcwXhBuAG4AbfBjEF3AY2BdgG1wbWBtUG1QbSBtIG0QbOBs4GzAbLBssGygbKBtICyQbGBsMG3gNUBV0Evwa+Br4GvQa7BjoEuwa7BroGuga6BrkGGwO3BrYGtga7BLUGtAazBrEGsQawBq8GrQatBq0GrQatBq0GrAasBqsGqwarBqkG5gSnBqYGpgYdA6UGpAakBj0FYwKdBpwGWQKbBpoGmAaWBgABxwSVBpEAgwSTBgoDkwaSBpIGkgaRBpEGkAaQBo4G+QOOBo0GhwaGBoYGhQaFBoQGggaBBoEGgAajAxkCfwZ+BusFfAZ7BnsGewZ6BnoGegZ5BnkGeAZ3BncGdAZuAXQGcwZyBnIGcgZxBnEGAAQmAm8Gbwb4A24GbgZtBm0GbQZsBmwGawZpBmkGZgZlBmUGZAZkBmQGYwZjBmMGYwZjBmEGYAb5AF8GrwAmAFwGWwZPAFkGVwYtAFcGVAZTBlIGTwZOBk4GTQbWBUwGSgZJBkkGSAZHBkcGRwZGBkUGRAZDBkMGQwZCBkEGxQE+Bj4GPQb8AsIBPQY1ADkGOAY3BjcGNwY3BjYGxwM1BjQGMwYzBjMGMwYzBjIGMQYvBi4GLgYtBiwGLAYrBioGKAYmBgIEJgYmBmAApAMiBiIGIQYhBiEGHwYeBh0GHQYcBmQAGwYbBhsGPgIaBhoGuwIZBhkGKwAWBhQGFAYTBhEGEQYRBhEGBQUQBlICDgb4AAsGCgYKBgoGCQYJBgkGCQYHBgcGBgaMAQYGBQYDBgMGAQYBBgAGAAapAfwF+wX6BfkF+QX4BfgF+AX2BfYF9gX2BfYF1AP1BfQF8QXwBfAF7wWvAOsF6gXqBekF6QXnBeUFYQF9A+IF4QXhBeAF3wXfBd8F3gXeBd0FMwEdBNwF2wXZBdgF1wXNAtYF1AXUBdMF0gXQBc8FzwXOBc4FzgXOBc0FzQXMBcsFjwTKBcgFyAXIBccFxgXEBcQFxAXDBcMFwwXDBVEAvwUPA7sFMgW6BbgFtwW1Be8EzQO0BbQFtAW0BbQFswWoAa8FrwVMBK0FQAKsBasFqgWoBUIEqAWoBWsEpgWlBaMFvASfBZ4FvQSdBXMBnAWcBZsFmgWYBZcFlgWWBZQFkwVRBJEFkAWQBY8FjQWNBY0FjAWMBYsFigWIBaQEhwUJBYYFhgWFBT8EhAWCBYEFgAV/BX0FMQF5BXgFeAV4BXYFdgV1BXUFdAVzBXMFcwVwBXAFcAWxAG4FbgVjBGwFbAVqBWkFaAWIAmYFZgVmBdMEZAVkBY8CZAVjBWIFYgVgBWAFXwVdBV0FhQBbBVsFWgV2AFkFWQVYBVUFRARTBVMFUAVQBVAFUAWtBGEATQVNBU0FTQVMBUsF5wBKBYsEFwJIBUgFRwWrAUcFRgVFBUMFqABCBUIFQAU+BWsEPAI8BToFOQU4BVwBNgU2BTIFMQUwBS8FLwUvBS8FLgUtBSoFKgWwACoFKQUnBSYFJgUlBXMDIwUhBSAFIAUfBR8FHwUeBcwCHAUcBRoFGgUaBRkFGAUXBRcFFwUWBYoAFgUWBRUFEwUTBRMFHQKsADsAEAUQBQ8FDwUOBQwFCQUIBQgFBwXJAAUFBQUFBQMFAgUBBQEFAQX/BP0E/QT8BPwE/AT8BPsE+gT3BG0D4gMCA/ME8gTyBI0AvwPxBEUB8ATvBO8E6wTrBOoE6QTpBOkE6QToBOgEpALnBOcE5gTlBOQE4wTiBOIE4gTeBNwEaQHbBNoE2QTYBNYE1QTVBNUE1ATUBNQE0wTTBNMEhQHQBM4EzQTMBMsEywTKBLkDyATGBMYExQTFBKgDwASlA74E3wILAroEuQS4BLgEtwRiAbYEtQS0BLMEsgSxBK8ErgStBKwEaQOpBP4BhwOmBKYEpgSlBKQEowSjBKIEogSiBOYCnwSeBJ0EnASXBJYElgSVBFcClASTBJAEjwTKAI4EjgSOBIsE7wOJBIgEiASHBIYEhQSDBIIEggSABIAEgAR/BH4EfQR9BH0EewR4BHcEdgR1BHUEdQRxBHAEbgRtBG0EbQSTA2sEagRqBGgEZQRrA2IEYQRgBF8E9gJdBF0EXARaBFgEVwRXBFYEVgRWBFYEVQRVBG8AVQRVBFIEUQRRBFAETwROBE4ETgRNBEwETARMBF8BSARGBEUERAREBEQERARDBEIE+wFABD8EPwQ/BD8EIAKmAj0EPQQ9BD0EOwQ7BDsEOgQ6BLgBOQQ5BDkENwQ2BDYENQQ0BDQEMwQzBDIEMgQyBDEEMAQwBDAELgQrBCoEKQQoBCgEKAQoBCcEJwQjAiYEJQQkBCMEIgRGAyIEIQQhBB8EHgQdBB0EHASjABwEGwQYBBgEGAQWBBUEBwN8ABEEiQMPBA8EDgQOBA4EDgQOBA4EDQQMBAwEDAQLBAcEBgQDBAMEAgQCBAIEAAQABP4D/QP9A/0D+wP6A/oD+QP5A/gD9QP0A/MD8gPyA/ID8gPxA+8D7gPtA+wD6wPqA+oD6QPpA+kD6APnA+YD5QPkA+MD4wNcAuEDwwLdA9wD3APbA9oD2APWA9YD1gPVA9QD0gPSA9IDeADRA9AD0APPA8sDyQPIA8gDyAPHA18BxAPEA8QDxAPEA8IDwQMEAcADvwO9A70DvAMUAbwDvAO7A7oDugO4A7cDtgO2A7YDtQO1A7QDswOzA7ID3wKxA7ADrwOuA60DrAOqA6oDqQOpA6kDqQOoA6gDpgOmA6UDpQOkA6MDogOhA6EDLgCfA0MCnAObA8UBmQOYA5gDlwOXA5YDlQOVA5QDkwOTA5EDRwKMA4wDGQKLA4sDiQOJA4kDiQOIA4gDhwOGA4YDhQOBA4EDgAN+A30DPwJ5A3gDdwN2A3YDdgNyA3EDcQOnAW8DiwBqA2kDaANnAwsCZgMuAGQDYwNiA2IDYgNhA2ADXwNeA10DXQNdA1wDWgNZA1gDWANVA1QDVANUA1IDcwJRA1ADUANOA00DTQNNA0wDSwM1Ac8CSAMoAEcDRwNDA3oAQQNBA0EDPgMCAT0DPAM8A4MAOwM7AzkDOQM5AzcDNgOUADUDMwMyAy8DLwMsA6MC4QAoAyUDJAMkA0UCJAMjAyIDIgMhAx8DHgMeAx0DHQMdAx0DHAMbAxoDGgMYAxgDFwMWAxYDFgMQA9UBDwMOAw0DDQMKAwkDBwMEAwQDAgMmAAEDAAP/AvgA/gL9AvwC+wL7AvoC+QL5AvgC+AL3AkgA9gL1AvUC9QL0AvIC8ALLAe8C7gLtAusC6gLpAlQA5wLnAucC5gLmAmkB5QLlAuICagDiAlwA3wLfAlYC3gLdAt0C2wLaAtkCLAHYAtcC1wLHAdUC1QLTAtEC0ALQAs8C6QDPAs4CzgJOAM0CzQLMAssCDQLLAsoCygLKAsoCygLJAscCxgLGAsUCxQLFAsMCwgLBAr4CvgK9Ar0CvQK8ArwCuwK5ArgCtQK0ArQCswKzArECsQIIAbACrgIHAa0CrAKqAqoCqQILAqgCpgKkAqMCowKiAp4CnQJLAZwCYwCaApoClwLlAJcClQJHAZICXwCRApACkAKQAo8CjQKNAowCjAKLAooCtwGKAokCiAJMAYcChgJQAYYC5ACEAoMCgQJ/An4CjQF7AnkCeQJ5AngCeAJ2AnYCdAJ0AnMCDwFxAnECbwKWAW0CbQJrAmoCaQJoAmMCYwJOAWECdABFAWACXwKWAcIBXgJdAlwCWwJbAlsCWQJXAlcCVgJWAlUCVQJUAqUBUAJQAk8CTwJOAk4CTAJMAkwCtgBLAqEASAJIAvIARQJEAkMCQwJBAkECuAFAAj0C+QA9AjwCOwI7AjoCOgI5AjkCcgHGATcCNwI3AjEBNAIzAjICMgIxAjECMQIxAjACMAIvAi8CLwJlAS0CLQItAi0CLAIrAioCKAIoAicCJwInAiUCJAIkAiQCJAIkAiICYwAiAgUBIAIfAh8CHgIeAhwCGwIYAhcCTgEWAhUCFQIVAtAAcgCeARECEQIQAhACEAIQAg4CDgIOAg0CigEMAtgACgJRAQkCCAIGAgYCBAL/AF4BAQIBAgACAAL+Af4B/gH9AfwB+gH5AfcB9gH2AfUB9QHzAe8B7gHuAWgBagHsAewB7AHsAesB6wHqAekB6QHpAegBWQA9AeQB4wHjAeIB4gHhAeEB4QHgAd8B3gHdAdoB2QHZAdgB1gHUARkB0QHRAdEBzwHPAc4BzAHLAcsBywHKAcoBygHJAckBAQHHAcYBxQFOAcQBwgHCAcIBwAHAAbcAvwG/Ab0BIgC8AbwBKAC6AboBuQG5AbcBtgG2AbQBsQGxAbABrQHSALgATgCrAaoBqQGpAakBqAGpALYApwGlAaQBpAGiAaIBogGhAZ8BnwGeAZsBmgGZAZgBlwEvAJYBkwGQAZABjgF9AIsBigGJAYgBhgGGAYUBggGCAYEBQACBAQQBfwHsAH4BfQF8AXwBewExAHoBXgB4AecAdwF2AXYBdQFzAXIBcQE/AHEBcAFwAW8B4gDPAGsBaQFoAWcBZwFlAWQBYwHUAF8BXwFeAVwBWgFYAVcBVQFVAVQBVAFTAVIBUgFRAVEBUAHOAEsBQwBKAUoBSQFJAUgBSAFIAUgBRwFHAUMBQwFCAUEBQQFAAbMAPgE+AT4BPgE9ATwBOwE5ATcBggCbADABugAvAS8BLgEzACwBLAEsASsBKgEqASkBKQEnAScBJwElASUBJAEjASMBIwEjASMBIgEhASEBHgEeAR4BHQEdARwBSQAbARoBGQEYARYBFAESARIBEQFOABABDwEOAQ4BDQEMAWEACwEKAQoBCQEHAQcBBwEHAQUBAwEDAQIBZgABAQEBAAEqAP4A/QD9AIwA/AD7APsA+gD5APkA+AD4APgA+AD3APcA9wD2APUA9ADzAPMA8wDyAPEA7wBiAO4A7gDqAOoA5wDnAOcA5QDkAOEA3wBgAN4A3QDdAN0ARgDcANwA2wDbANsA2gDZANgA1wDWAEYAZADWANQA0wDPAM8AzgDOAMsAywBKAMoAyQDJAA==",
            "dtype": "i2"
           }
          },
          {
           "axis": {
            "matches": true
           },
           "label": "tempo_desde_ultimo_feedback",
           "values": {
            "bdata": "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",
            "dtype": "i2"
           }
          },
          {
           "axis": {
            "matches": true
           },
           "label": "dias_desde_ultimo_aumento",
           "values": {
            "bdata": "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",
            "dtype": "i2"
           }
          },
          {
           "axis": {
            "matches": true
           },
           "label": "dias_desde_ultima_mudanca_cargo",
           "values": {
            "bdata": "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",
            "dtype": "i2"
           }
          }
         ],
         "hovertemplate": "%{xaxis.title.text}=%{x}<br>%{yaxis.title.text}=%{y}<br>churn=%{marker.color}<extra></extra>",
         "legendgroup": "",
         "marker": {
          "color": {
           "bdata": "AAAAAAAAAQAAAAAAAQAAAAAAAAEBAAAAAAEAAQAAAAAAAAEAAAAAAQABAAAAAQAAAAAAAAAAAAABAAAAAAAAAAAAAAAAAAAAAQAAAAAAAAAAAAEBAAAAAAAAAQAAAAAAAAABAAAAAAAAAAAAAAAAAQAAAAABAAEAAAAAAAAAAAAAAAAAAAABAAAAAQEBAAAAAAABAAAAAAAAAQAAAAEAAAAAAAAAAAAAAAAAAAAAAAAAAQAAAAEAAAABAQAAAQAAAAABAQABAQABAAAAAAAAAAAAAQAAAAAAAAAAAAAAAAEBAAABAAAAAAAAAAAAAAAAAAEAAAAAAAAAAQEAAAEAAAAAAAAAAAAAAAAAAAAAAAAAAAAAAAEAAQEAAAEAAAEAAAAAAAAAAAEAAAAAAAAAAAAAAAAAAAAAAQAAAAEBAAEAAAAAAAAAAQAAAAAAAAAAAAAAAAAAAAAAAAABAAABAQAAAAAAAAAAAAABAAAAAQAAAQAAAQAAAAAAAAAAAQABAAEAAAAAAAAAAAAAAAEAAAAAAAAAAAEAAAAAAAAAAAAAAAAAAQAAAAAAAAEAAAAAAAAAAQEAAAAAAAAAAAAAAQEAAAAAAAEAAAAAAAAAAAAAAAAAAAAAAQAAAAAAAAAAAAAAAAABAAEAAQAAAAABAQAAAAAAAAEAAAEAAQAAAAABAAABAAAAAQAAAQABAAAAAAAAAAAAAAEAAAAAAAAAAAAAAAABAAEAAAABAAAAAAAAAQAAAAAAAAAAAAAAAAAAAAEAAAEAAAAAAAEAAAABAAABAAAAAAAAAAAAAQAAAAEAAAAAAQAAAAAAAAEBAAAAAAAAAQABAQAAAAEAAAAAAQAAAAABAQAAAAABAAAAAAAAAAAAAAAAAAEAAAAAAAABAAAAAAAAAAABAAAAAAAAAAAAAAABAAAAAAAAAQEBAAAAAAAAAAAAAAEAAAAAAAAAAAAAAAAAAAAAAAABAQEAAAABAQABAAAAAAAAAAAAAAAAAQAAAAAAAAAAAAAAAQAAAAAAAAAAAAAAAAAAAQAAAAAAAAABAAAAAAABAAEAAQEAAAAAAAEAAAAAAAAAAAAAAQABAQAAAAAAAAAAAAABAAAAAAAAAAABAAAAAAEAAAAAAQAAAAAAAAAAAAAAAAAAAAAAAAAAAAAAAAAAAAAAAAEAAAAAAAEAAAAAAQAAAAAAAAAAAAAAAAABAAAAAAAAAAAAAAAAAAABAAAAAAAAAAAAAQAAAAAAAQEAAAAAAAAAAAABAAAAAAAAAAAAAAAAAAAAAAAAAAAAAAAAAAAAAAEAAAAAAAEAAAAAAAAAAAEAAAAAAAAAAQEAAQAAAAAAAAAAAAAAAAAAAAAAAAAAAAAAAAAAAAAAAAAAAAAAAAAAAAAAAAAAAAAAAAAAAAAAAAAAAAEAAQAAAAAAAAAAAAAAAAAAAQAAAAAAAAAAAAABAAAAAAAAAAEAAAAAAAEAAAAAAAAAAAAAAAAAAAAAAQAAAAAAAAAAAAAAAAAAAAAAAAAAAAAAAQABAAABAAAAAAAAAAAAAAAAAQAAAQAAAAAAAAAAAAAAAAAAAAAAAQAAAAAAAAAAAAEAAQAAAAABAAEAAAAAAAAAAAAAAAAAAAAAAAAAAAAAAQAAAAAAAAAAAAEBAAEAAAABAAAAAAEAAAABAAAAAAAAAAEAAAAAAAABAQAAAAABAAAAAAAAAAAAAAAAAAAAAAAAAAAAAAABAAAAAAAAAAAAAAEAAAABAAAAAAAAAAAAAAABAAAAAAAAAAEAAAAAAAABAAAAAAABAAAAAQABAAABAAAAAAAAAQAAAAEAAAAAAAAAAQAAAAEAAAAAAQAAAAAAAAAAAAAAAAAAAAAAAAAAAAAAAAAAAAAAAAAAAAEAAAEAAAAAAAEAAAAAAAAAAAEAAQAAAAEAAAEAAQAAAAAAAAAAAAAAAQAAAAEAAAEAAQAAAAAAAQAAAAAAAAAAAAAAAQAAAAEAAAAAAAAAAAEAAQEAAAEBAAAAAAAAAAAAAAAAAAABAAAAAAAAAAAAAQABAAABAAAAAAAAAQAAAQAAAAAAAAAAAQEAAAABAAAAAAAAAAAAAAAAAAEAAAAAAAAAAAAAAAAAAAAAAAAAAQABAAAAAAAAAAAAAQAAAAABAQEAAAAAAAAAAAAAAQABAAEAAAAAAAEBAAAAAAAAAAAAAAAAAAAAAAAAAAABAQAAAAAAAAAAAAAAAQEAAAAAAAAAAAAAAAAAAAAAAAABAAAAAAAAAAAAAAAAAAAAAQAAAAEAAAAAAAABAAAAAQAAAQAAAAAAAAAAAAAAAAEBAQAAAAAAAAEBAAAAAAAAAAAAAAAAAAAAAAEAAAAAAAEAAAAAAAAAAAAAAQABAAEAAAAAAAEAAQABAAAAAAAAAAEAAAAAAQEAAAAAAAAAAAEAAAAAAAAAAAAAAAAAAAAAAAEAAQAAAAAAAAAAAAAAAAAAAAABAAAAAAAAAAAAAQEAAQAAAAEAAAAAAAAAAAAAAAAAAAAAAAAAAAAAAAAAAAAAAQAAAAAAAAAAAAEAAAAAAAABAAAAAAAAAAAAAAAAAQAAAAEAAAABAAAAAAAAAAAAAAAAAAAAAAAAAAAAAAEAAAAAAAAAAAAAAAEAAAAAAQAAAAAAAAAAAAABAQAAAAAAAAAAAAEAAAA=",
           "dtype": "i1"
          },
          "coloraxis": "coloraxis",
          "symbol": "circle"
         },
         "name": "",
         "showlegend": false,
         "type": "splom"
        }
       ],
       "layout": {
        "coloraxis": {
         "colorbar": {
          "title": {
           "text": "churn"
          }
         },
         "colorscale": [
          [
           0,
           "#0d0887"
          ],
          [
           0.1111111111111111,
           "#46039f"
          ],
          [
           0.2222222222222222,
           "#7201a8"
          ],
          [
           0.3333333333333333,
           "#9c179e"
          ],
          [
           0.4444444444444444,
           "#bd3786"
          ],
          [
           0.5555555555555556,
           "#d8576b"
          ],
          [
           0.6666666666666666,
           "#ed7953"
          ],
          [
           0.7777777777777778,
           "#fb9f3a"
          ],
          [
           0.8888888888888888,
           "#fdca26"
          ],
          [
           1,
           "#f0f921"
          ]
         ]
        },
        "dragmode": "select",
        "font": {
         "size": 10
        },
        "height": 1000,
        "legend": {
         "tracegroupgap": 0
        },
        "template": {
         "data": {
          "bar": [
           {
            "error_x": {
             "color": "#2a3f5f"
            },
            "error_y": {
             "color": "#2a3f5f"
            },
            "marker": {
             "line": {
              "color": "#E5ECF6",
              "width": 0.5
             },
             "pattern": {
              "fillmode": "overlay",
              "size": 10,
              "solidity": 0.2
             }
            },
            "type": "bar"
           }
          ],
          "barpolar": [
           {
            "marker": {
             "line": {
              "color": "#E5ECF6",
              "width": 0.5
             },
             "pattern": {
              "fillmode": "overlay",
              "size": 10,
              "solidity": 0.2
             }
            },
            "type": "barpolar"
           }
          ],
          "carpet": [
           {
            "aaxis": {
             "endlinecolor": "#2a3f5f",
             "gridcolor": "white",
             "linecolor": "white",
             "minorgridcolor": "white",
             "startlinecolor": "#2a3f5f"
            },
            "baxis": {
             "endlinecolor": "#2a3f5f",
             "gridcolor": "white",
             "linecolor": "white",
             "minorgridcolor": "white",
             "startlinecolor": "#2a3f5f"
            },
            "type": "carpet"
           }
          ],
          "choropleth": [
           {
            "colorbar": {
             "outlinewidth": 0,
             "ticks": ""
            },
            "type": "choropleth"
           }
          ],
          "contour": [
           {
            "colorbar": {
             "outlinewidth": 0,
             "ticks": ""
            },
            "colorscale": [
             [
              0,
              "#0d0887"
             ],
             [
              0.1111111111111111,
              "#46039f"
             ],
             [
              0.2222222222222222,
              "#7201a8"
             ],
             [
              0.3333333333333333,
              "#9c179e"
             ],
             [
              0.4444444444444444,
              "#bd3786"
             ],
             [
              0.5555555555555556,
              "#d8576b"
             ],
             [
              0.6666666666666666,
              "#ed7953"
             ],
             [
              0.7777777777777778,
              "#fb9f3a"
             ],
             [
              0.8888888888888888,
              "#fdca26"
             ],
             [
              1,
              "#f0f921"
             ]
            ],
            "type": "contour"
           }
          ],
          "contourcarpet": [
           {
            "colorbar": {
             "outlinewidth": 0,
             "ticks": ""
            },
            "type": "contourcarpet"
           }
          ],
          "heatmap": [
           {
            "colorbar": {
             "outlinewidth": 0,
             "ticks": ""
            },
            "colorscale": [
             [
              0,
              "#0d0887"
             ],
             [
              0.1111111111111111,
              "#46039f"
             ],
             [
              0.2222222222222222,
              "#7201a8"
             ],
             [
              0.3333333333333333,
              "#9c179e"
             ],
             [
              0.4444444444444444,
              "#bd3786"
             ],
             [
              0.5555555555555556,
              "#d8576b"
             ],
             [
              0.6666666666666666,
              "#ed7953"
             ],
             [
              0.7777777777777778,
              "#fb9f3a"
             ],
             [
              0.8888888888888888,
              "#fdca26"
             ],
             [
              1,
              "#f0f921"
             ]
            ],
            "type": "heatmap"
           }
          ],
          "histogram": [
           {
            "marker": {
             "pattern": {
              "fillmode": "overlay",
              "size": 10,
              "solidity": 0.2
             }
            },
            "type": "histogram"
           }
          ],
          "histogram2d": [
           {
            "colorbar": {
             "outlinewidth": 0,
             "ticks": ""
            },
            "colorscale": [
             [
              0,
              "#0d0887"
             ],
             [
              0.1111111111111111,
              "#46039f"
             ],
             [
              0.2222222222222222,
              "#7201a8"
             ],
             [
              0.3333333333333333,
              "#9c179e"
             ],
             [
              0.4444444444444444,
              "#bd3786"
             ],
             [
              0.5555555555555556,
              "#d8576b"
             ],
             [
              0.6666666666666666,
              "#ed7953"
             ],
             [
              0.7777777777777778,
              "#fb9f3a"
             ],
             [
              0.8888888888888888,
              "#fdca26"
             ],
             [
              1,
              "#f0f921"
             ]
            ],
            "type": "histogram2d"
           }
          ],
          "histogram2dcontour": [
           {
            "colorbar": {
             "outlinewidth": 0,
             "ticks": ""
            },
            "colorscale": [
             [
              0,
              "#0d0887"
             ],
             [
              0.1111111111111111,
              "#46039f"
             ],
             [
              0.2222222222222222,
              "#7201a8"
             ],
             [
              0.3333333333333333,
              "#9c179e"
             ],
             [
              0.4444444444444444,
              "#bd3786"
             ],
             [
              0.5555555555555556,
              "#d8576b"
             ],
             [
              0.6666666666666666,
              "#ed7953"
             ],
             [
              0.7777777777777778,
              "#fb9f3a"
             ],
             [
              0.8888888888888888,
              "#fdca26"
             ],
             [
              1,
              "#f0f921"
             ]
            ],
            "type": "histogram2dcontour"
           }
          ],
          "mesh3d": [
           {
            "colorbar": {
             "outlinewidth": 0,
             "ticks": ""
            },
            "type": "mesh3d"
           }
          ],
          "parcoords": [
           {
            "line": {
             "colorbar": {
              "outlinewidth": 0,
              "ticks": ""
             }
            },
            "type": "parcoords"
           }
          ],
          "pie": [
           {
            "automargin": true,
            "type": "pie"
           }
          ],
          "scatter": [
           {
            "fillpattern": {
             "fillmode": "overlay",
             "size": 10,
             "solidity": 0.2
            },
            "type": "scatter"
           }
          ],
          "scatter3d": [
           {
            "line": {
             "colorbar": {
              "outlinewidth": 0,
              "ticks": ""
             }
            },
            "marker": {
             "colorbar": {
              "outlinewidth": 0,
              "ticks": ""
             }
            },
            "type": "scatter3d"
           }
          ],
          "scattercarpet": [
           {
            "marker": {
             "colorbar": {
              "outlinewidth": 0,
              "ticks": ""
             }
            },
            "type": "scattercarpet"
           }
          ],
          "scattergeo": [
           {
            "marker": {
             "colorbar": {
              "outlinewidth": 0,
              "ticks": ""
             }
            },
            "type": "scattergeo"
           }
          ],
          "scattergl": [
           {
            "marker": {
             "colorbar": {
              "outlinewidth": 0,
              "ticks": ""
             }
            },
            "type": "scattergl"
           }
          ],
          "scattermap": [
           {
            "marker": {
             "colorbar": {
              "outlinewidth": 0,
              "ticks": ""
             }
            },
            "type": "scattermap"
           }
          ],
          "scattermapbox": [
           {
            "marker": {
             "colorbar": {
              "outlinewidth": 0,
              "ticks": ""
             }
            },
            "type": "scattermapbox"
           }
          ],
          "scatterpolar": [
           {
            "marker": {
             "colorbar": {
              "outlinewidth": 0,
              "ticks": ""
             }
            },
            "type": "scatterpolar"
           }
          ],
          "scatterpolargl": [
           {
            "marker": {
             "colorbar": {
              "outlinewidth": 0,
              "ticks": ""
             }
            },
            "type": "scatterpolargl"
           }
          ],
          "scatterternary": [
           {
            "marker": {
             "colorbar": {
              "outlinewidth": 0,
              "ticks": ""
             }
            },
            "type": "scatterternary"
           }
          ],
          "surface": [
           {
            "colorbar": {
             "outlinewidth": 0,
             "ticks": ""
            },
            "colorscale": [
             [
              0,
              "#0d0887"
             ],
             [
              0.1111111111111111,
              "#46039f"
             ],
             [
              0.2222222222222222,
              "#7201a8"
             ],
             [
              0.3333333333333333,
              "#9c179e"
             ],
             [
              0.4444444444444444,
              "#bd3786"
             ],
             [
              0.5555555555555556,
              "#d8576b"
             ],
             [
              0.6666666666666666,
              "#ed7953"
             ],
             [
              0.7777777777777778,
              "#fb9f3a"
             ],
             [
              0.8888888888888888,
              "#fdca26"
             ],
             [
              1,
              "#f0f921"
             ]
            ],
            "type": "surface"
           }
          ],
          "table": [
           {
            "cells": {
             "fill": {
              "color": "#EBF0F8"
             },
             "line": {
              "color": "white"
             }
            },
            "header": {
             "fill": {
              "color": "#C8D4E3"
             },
             "line": {
              "color": "white"
             }
            },
            "type": "table"
           }
          ]
         },
         "layout": {
          "annotationdefaults": {
           "arrowcolor": "#2a3f5f",
           "arrowhead": 0,
           "arrowwidth": 1
          },
          "autotypenumbers": "strict",
          "coloraxis": {
           "colorbar": {
            "outlinewidth": 0,
            "ticks": ""
           }
          },
          "colorscale": {
           "diverging": [
            [
             0,
             "#8e0152"
            ],
            [
             0.1,
             "#c51b7d"
            ],
            [
             0.2,
             "#de77ae"
            ],
            [
             0.3,
             "#f1b6da"
            ],
            [
             0.4,
             "#fde0ef"
            ],
            [
             0.5,
             "#f7f7f7"
            ],
            [
             0.6,
             "#e6f5d0"
            ],
            [
             0.7,
             "#b8e186"
            ],
            [
             0.8,
             "#7fbc41"
            ],
            [
             0.9,
             "#4d9221"
            ],
            [
             1,
             "#276419"
            ]
           ],
           "sequential": [
            [
             0,
             "#0d0887"
            ],
            [
             0.1111111111111111,
             "#46039f"
            ],
            [
             0.2222222222222222,
             "#7201a8"
            ],
            [
             0.3333333333333333,
             "#9c179e"
            ],
            [
             0.4444444444444444,
             "#bd3786"
            ],
            [
             0.5555555555555556,
             "#d8576b"
            ],
            [
             0.6666666666666666,
             "#ed7953"
            ],
            [
             0.7777777777777778,
             "#fb9f3a"
            ],
            [
             0.8888888888888888,
             "#fdca26"
            ],
            [
             1,
             "#f0f921"
            ]
           ],
           "sequentialminus": [
            [
             0,
             "#0d0887"
            ],
            [
             0.1111111111111111,
             "#46039f"
            ],
            [
             0.2222222222222222,
             "#7201a8"
            ],
            [
             0.3333333333333333,
             "#9c179e"
            ],
            [
             0.4444444444444444,
             "#bd3786"
            ],
            [
             0.5555555555555556,
             "#d8576b"
            ],
            [
             0.6666666666666666,
             "#ed7953"
            ],
            [
             0.7777777777777778,
             "#fb9f3a"
            ],
            [
             0.8888888888888888,
             "#fdca26"
            ],
            [
             1,
             "#f0f921"
            ]
           ]
          },
          "colorway": [
           "#636efa",
           "#EF553B",
           "#00cc96",
           "#ab63fa",
           "#FFA15A",
           "#19d3f3",
           "#FF6692",
           "#B6E880",
           "#FF97FF",
           "#FECB52"
          ],
          "font": {
           "color": "#2a3f5f"
          },
          "geo": {
           "bgcolor": "white",
           "lakecolor": "white",
           "landcolor": "#E5ECF6",
           "showlakes": true,
           "showland": true,
           "subunitcolor": "white"
          },
          "hoverlabel": {
           "align": "left"
          },
          "hovermode": "closest",
          "mapbox": {
           "style": "light"
          },
          "paper_bgcolor": "white",
          "plot_bgcolor": "#E5ECF6",
          "polar": {
           "angularaxis": {
            "gridcolor": "white",
            "linecolor": "white",
            "ticks": ""
           },
           "bgcolor": "#E5ECF6",
           "radialaxis": {
            "gridcolor": "white",
            "linecolor": "white",
            "ticks": ""
           }
          },
          "scene": {
           "xaxis": {
            "backgroundcolor": "#E5ECF6",
            "gridcolor": "white",
            "gridwidth": 2,
            "linecolor": "white",
            "showbackground": true,
            "ticks": "",
            "zerolinecolor": "white"
           },
           "yaxis": {
            "backgroundcolor": "#E5ECF6",
            "gridcolor": "white",
            "gridwidth": 2,
            "linecolor": "white",
            "showbackground": true,
            "ticks": "",
            "zerolinecolor": "white"
           },
           "zaxis": {
            "backgroundcolor": "#E5ECF6",
            "gridcolor": "white",
            "gridwidth": 2,
            "linecolor": "white",
            "showbackground": true,
            "ticks": "",
            "zerolinecolor": "white"
           }
          },
          "shapedefaults": {
           "line": {
            "color": "#2a3f5f"
           }
          },
          "ternary": {
           "aaxis": {
            "gridcolor": "white",
            "linecolor": "white",
            "ticks": ""
           },
           "baxis": {
            "gridcolor": "white",
            "linecolor": "white",
            "ticks": ""
           },
           "bgcolor": "#E5ECF6",
           "caxis": {
            "gridcolor": "white",
            "linecolor": "white",
            "ticks": ""
           }
          },
          "title": {
           "x": 0.05
          },
          "xaxis": {
           "automargin": true,
           "gridcolor": "white",
           "linecolor": "white",
           "ticks": "",
           "title": {
            "standoff": 15
           },
           "zerolinecolor": "white",
           "zerolinewidth": 2
          },
          "yaxis": {
           "automargin": true,
           "gridcolor": "white",
           "linecolor": "white",
           "ticks": "",
           "title": {
            "standoff": 15
           },
           "zerolinecolor": "white",
           "zerolinewidth": 2
          }
         }
        },
        "title": {
         "font": {
          "size": 14
         },
         "text": "Scatter Matrix"
        },
        "width": 1200
       }
      }
     },
     "metadata": {},
     "output_type": "display_data"
    }
   ],
   "source": [
    "fig = px.scatter_matrix(df, dimensions=colunas_numericas, color='churn', title='Scatter Matrix')\n",
    "fig.update_layout(width=1200, height=1000, title_font=dict(size=14), font=dict(size=10))\n",
    "\n",
    "fig.show()"
   ]
  },
  {
   "cell_type": "code",
   "execution_count": 47,
   "metadata": {},
   "outputs": [
    {
     "name": "stdout",
     "output_type": "stream",
     "text": [
      "\n",
      "Teste Chi-quadrado para genero vs Churn\n",
      "p-value: 0.6391382063144609\n",
      "Variáveis são independentes\n",
      "\n",
      "Teste Chi-quadrado para estado_civil vs Churn\n",
      "p-value: 0.8332629331272039\n",
      "Variáveis são independentes\n",
      "\n",
      "Teste Chi-quadrado para educacao vs Churn\n",
      "p-value: 0.2047514912138827\n",
      "Variáveis são independentes\n",
      "\n",
      "Teste Chi-quadrado para regime_trabalho vs Churn\n",
      "p-value: 0.9751275918764937\n",
      "Variáveis são independentes\n",
      "\n",
      "Teste Chi-quadrado para tipo_demissao vs Churn\n",
      "p-value: 1.0\n",
      "Variáveis são independentes\n",
      "\n",
      "Teste Chi-quadrado para cargo vs Churn\n",
      "p-value: 0.4586024122014407\n",
      "Variáveis são independentes\n"
     ]
    }
   ],
   "source": [
    "colunas_categoricas = df.select_dtypes(include=['object']).columns\n",
    "for col in colunas_categoricas:\n",
    "  contigency_table = pd.crosstab(df[col], df['churn'])\n",
    "  chi2, p_value, dof, expected = chi2_contingency(contigency_table)\n",
    "  print(f'\\nTeste Chi-quadrado para {col} vs Churn')\n",
    "  print(f'p-value: {p_value}')\n",
    "  if p_value <= 0.05:\n",
    "    print('Variáveis são dependentes')\n",
    "  else:\n",
    "    print('Variáveis são independentes')"
   ]
  },
  {
   "cell_type": "code",
   "execution_count": 49,
   "metadata": {},
   "outputs": [
    {
     "data": {
      "application/vnd.plotly.v1+json": {
       "config": {
        "plotlyServerURL": "https://plot.ly"
       },
       "data": [
        {
         "alignmentgroup": "True",
         "bingroup": "x",
         "hovertemplate": "churn=0<br>genero=%{x}<br>count=%{y}<extra></extra>",
         "legendgroup": "0",
         "marker": {
          "color": "#636efa",
          "pattern": {
           "shape": ""
          }
         },
         "name": "0",
         "offsetgroup": "0",
         "orientation": "v",
         "showlegend": true,
         "type": "histogram",
         "x": [
          "F",
          "Outro",
          "M",
          "M",
          "Outro",
          "Outro",
          "F",
          "M",
          "M",
          "M",
          "Outro",
          "F",
          "Outro",
          "M",
          "F",
          "Outro",
          "Outro",
          "Outro",
          "F",
          "F",
          "Outro",
          "F",
          "F",
          "Outro",
          "M",
          "F",
          "F",
          "M",
          "Outro",
          "Outro",
          "Outro",
          "F",
          "F",
          "M",
          "Outro",
          "Outro",
          "Outro",
          "M",
          "M",
          "F",
          "M",
          "Outro",
          "F",
          "Outro",
          "Outro",
          "M",
          "M",
          "F",
          "M",
          "Outro",
          "Outro",
          "M",
          "Outro",
          "M",
          "M",
          "M",
          "M",
          "Outro",
          "M",
          "F",
          "F",
          "M",
          "F",
          "M",
          "Outro",
          "Outro",
          "Outro",
          "M",
          "M",
          "F",
          "F",
          "F",
          "Outro",
          "F",
          "Outro",
          "F",
          "Outro",
          "Outro",
          "F",
          "F",
          "F",
          "F",
          "M",
          "M",
          "Outro",
          "Outro",
          "M",
          "Outro",
          "Outro",
          "F",
          "F",
          "Outro",
          "Outro",
          "Outro",
          "M",
          "M",
          "F",
          "M",
          "Outro",
          "Outro",
          "M",
          "F",
          "Outro",
          "Outro",
          "F",
          "M",
          "M",
          "Outro",
          "Outro",
          "Outro",
          "F",
          "M",
          "Outro",
          "F",
          "Outro",
          "F",
          "F",
          "Outro",
          "F",
          "Outro",
          "Outro",
          "M",
          "F",
          "M",
          "F",
          "M",
          "F",
          "F",
          "Outro",
          "F",
          "F",
          "Outro",
          "F",
          "F",
          "F",
          "F",
          "Outro",
          "Outro",
          "M",
          "Outro",
          "Outro",
          "Outro",
          "F",
          "Outro",
          "F",
          "F",
          "M",
          "F",
          "M",
          "Outro",
          "Outro",
          "M",
          "F",
          "F",
          "F",
          "F",
          "Outro",
          "M",
          "F",
          "M",
          "M",
          "Outro",
          "Outro",
          "F",
          "F",
          "M",
          "Outro",
          "F",
          "M",
          "Outro",
          "F",
          "F",
          "F",
          "F",
          "M",
          "M",
          "Outro",
          "M",
          "F",
          "M",
          "F",
          "M",
          "F",
          "F",
          "Outro",
          "M",
          "F",
          "Outro",
          "F",
          "M",
          "Outro",
          "F",
          "M",
          "F",
          "F",
          "Outro",
          "M",
          "M",
          "Outro",
          "F",
          "Outro",
          "M",
          "M",
          "Outro",
          "M",
          "F",
          "F",
          "F",
          "F",
          "Outro",
          "Outro",
          "M",
          "Outro",
          "F",
          "F",
          "M",
          "M",
          "Outro",
          "M",
          "F",
          "F",
          "M",
          "M",
          "Outro",
          "Outro",
          "M",
          "Outro",
          "F",
          "M",
          "F",
          "M",
          "F",
          "M",
          "F",
          "Outro",
          "F",
          "Outro",
          "M",
          "F",
          "Outro",
          "M",
          "F",
          "Outro",
          "M",
          "F",
          "M",
          "Outro",
          "M",
          "F",
          "M",
          "Outro",
          "M",
          "M",
          "F",
          "F",
          "Outro",
          "F",
          "F",
          "M",
          "M",
          "Outro",
          "F",
          "F",
          "M",
          "Outro",
          "M",
          "Outro",
          "F",
          "M",
          "M",
          "F",
          "M",
          "M",
          "Outro",
          "F",
          "M",
          "M",
          "Outro",
          "F",
          "F",
          "Outro",
          "Outro",
          "Outro",
          "Outro",
          "F",
          "F",
          "M",
          "M",
          "Outro",
          "M",
          "F",
          "M",
          "Outro",
          "M",
          "Outro",
          "Outro",
          "Outro",
          "Outro",
          "F",
          "M",
          "M",
          "M",
          "M",
          "M",
          "F",
          "Outro",
          "F",
          "F",
          "Outro",
          "Outro",
          "F",
          "F",
          "Outro",
          "M",
          "M",
          "M",
          "Outro",
          "F",
          "F",
          "M",
          "F",
          "F",
          "M",
          "M",
          "M",
          "M",
          "Outro",
          "Outro",
          "F",
          "Outro",
          "M",
          "F",
          "M",
          "Outro",
          "Outro",
          "F",
          "M",
          "F",
          "Outro",
          "F",
          "M",
          "F",
          "Outro",
          "M",
          "Outro",
          "Outro",
          "Outro",
          "Outro",
          "Outro",
          "M",
          "Outro",
          "F",
          "F",
          "Outro",
          "M",
          "F",
          "M",
          "F",
          "F",
          "Outro",
          "M",
          "M",
          "F",
          "F",
          "M",
          "F",
          "M",
          "Outro",
          "F",
          "M",
          "F",
          "Outro",
          "F",
          "F",
          "M",
          "Outro",
          "Outro",
          "F",
          "Outro",
          "F",
          "M",
          "M",
          "F",
          "F",
          "M",
          "M",
          "Outro",
          "M",
          "Outro",
          "M",
          "F",
          "M",
          "Outro",
          "Outro",
          "Outro",
          "M",
          "M",
          "Outro",
          "M",
          "M",
          "Outro",
          "Outro",
          "M",
          "Outro",
          "F",
          "Outro",
          "M",
          "Outro",
          "Outro",
          "M",
          "Outro",
          "Outro",
          "Outro",
          "M",
          "F",
          "M",
          "Outro",
          "M",
          "M",
          "F",
          "M",
          "F",
          "F",
          "F",
          "M",
          "M",
          "M",
          "Outro",
          "Outro",
          "F",
          "Outro",
          "F",
          "F",
          "F",
          "Outro",
          "Outro",
          "Outro",
          "Outro",
          "F",
          "Outro",
          "M",
          "F",
          "M",
          "F",
          "Outro",
          "M",
          "Outro",
          "F",
          "Outro",
          "Outro",
          "M",
          "F",
          "F",
          "F",
          "F",
          "F",
          "Outro",
          "Outro",
          "F",
          "F",
          "Outro",
          "F",
          "F",
          "M",
          "F",
          "Outro",
          "Outro",
          "Outro",
          "M",
          "F",
          "Outro",
          "M",
          "M",
          "Outro",
          "M",
          "F",
          "Outro",
          "F",
          "M",
          "F",
          "M",
          "Outro",
          "M",
          "F",
          "M",
          "M",
          "F",
          "Outro",
          "M",
          "Outro",
          "Outro",
          "M",
          "M",
          "Outro",
          "F",
          "F",
          "M",
          "Outro",
          "Outro",
          "F",
          "Outro",
          "M",
          "Outro",
          "Outro",
          "M",
          "F",
          "Outro",
          "M",
          "F",
          "M",
          "M",
          "Outro",
          "F",
          "F",
          "M",
          "M",
          "F",
          "M",
          "M",
          "Outro",
          "M",
          "Outro",
          "F",
          "M",
          "F",
          "F",
          "M",
          "Outro",
          "F",
          "M",
          "F",
          "M",
          "Outro",
          "M",
          "Outro",
          "M",
          "M",
          "M",
          "F",
          "Outro",
          "F",
          "M",
          "Outro",
          "F",
          "F",
          "M",
          "Outro",
          "M",
          "F",
          "Outro",
          "Outro",
          "M",
          "F",
          "Outro",
          "Outro",
          "F",
          "M",
          "F",
          "Outro",
          "F",
          "Outro",
          "Outro",
          "F",
          "M",
          "Outro",
          "M",
          "M",
          "M",
          "F",
          "Outro",
          "M",
          "M",
          "Outro",
          "F",
          "Outro",
          "M",
          "F",
          "Outro",
          "M",
          "F",
          "Outro",
          "M",
          "Outro",
          "Outro",
          "Outro",
          "F",
          "M",
          "Outro",
          "M",
          "Outro",
          "Outro",
          "F",
          "F",
          "F",
          "M",
          "F",
          "M",
          "Outro",
          "M",
          "M",
          "M",
          "Outro",
          "F",
          "M",
          "Outro",
          "F",
          "F",
          "Outro",
          "M",
          "F",
          "Outro",
          "Outro",
          "F",
          "F",
          "F",
          "Outro",
          "F",
          "M",
          "Outro",
          "F",
          "M",
          "F",
          "F",
          "Outro",
          "F",
          "F",
          "F",
          "Outro",
          "M",
          "F",
          "Outro",
          "Outro",
          "M",
          "F",
          "Outro",
          "Outro",
          "F",
          "F",
          "M",
          "M",
          "M",
          "M",
          "Outro",
          "Outro",
          "Outro",
          "M",
          "F",
          "Outro",
          "Outro",
          "F",
          "M",
          "M",
          "M",
          "F",
          "F",
          "Outro",
          "F",
          "M",
          "M",
          "M",
          "F",
          "F",
          "M",
          "Outro",
          "Outro",
          "Outro",
          "M",
          "Outro",
          "F",
          "Outro",
          "Outro",
          "F",
          "F",
          "M",
          "Outro",
          "Outro",
          "Outro",
          "Outro",
          "M",
          "Outro",
          "M",
          "M",
          "F",
          "M",
          "F",
          "M",
          "M",
          "Outro",
          "F",
          "M",
          "M",
          "Outro",
          "M",
          "Outro",
          "M",
          "M",
          "F",
          "F",
          "Outro",
          "M",
          "Outro",
          "Outro",
          "M",
          "Outro",
          "F",
          "Outro",
          "F",
          "Outro",
          "M",
          "M",
          "F",
          "Outro",
          "Outro",
          "F",
          "M",
          "F",
          "F",
          "F",
          "F",
          "M",
          "F",
          "F",
          "M",
          "M",
          "M",
          "M",
          "M",
          "F",
          "F",
          "F",
          "M",
          "Outro",
          "F",
          "F",
          "M",
          "F",
          "F",
          "Outro",
          "F",
          "F",
          "F",
          "F",
          "M",
          "F",
          "Outro",
          "F",
          "M",
          "M",
          "M",
          "M",
          "M",
          "M",
          "Outro",
          "F",
          "M",
          "M",
          "M",
          "F",
          "M",
          "Outro",
          "M",
          "M",
          "Outro",
          "Outro",
          "Outro",
          "M",
          "F",
          "Outro",
          "M",
          "F",
          "F",
          "Outro",
          "F",
          "M",
          "F",
          "F",
          "M",
          "Outro",
          "M",
          "F",
          "F",
          "F",
          "F",
          "F",
          "F",
          "M",
          "F",
          "F",
          "F",
          "Outro",
          "F",
          "M",
          "F",
          "M",
          "F",
          "F",
          "M",
          "M",
          "Outro",
          "Outro",
          "F",
          "M",
          "Outro",
          "F",
          "F",
          "F",
          "M",
          "M",
          "M",
          "F",
          "M",
          "M",
          "M",
          "Outro",
          "F",
          "F",
          "F",
          "M",
          "M",
          "F",
          "Outro",
          "M",
          "Outro",
          "M",
          "M",
          "F",
          "F",
          "M",
          "F",
          "M",
          "F",
          "F",
          "M",
          "M",
          "Outro",
          "Outro",
          "M",
          "M",
          "Outro",
          "F",
          "Outro",
          "M",
          "M",
          "F",
          "M",
          "M",
          "Outro",
          "M",
          "Outro",
          "F",
          "Outro",
          "M",
          "Outro",
          "M",
          "F",
          "Outro",
          "Outro",
          "F",
          "M",
          "M",
          "M",
          "F",
          "F",
          "F",
          "M",
          "M",
          "Outro",
          "Outro",
          "Outro",
          "Outro",
          "M",
          "F",
          "Outro",
          "F",
          "F",
          "F",
          "F",
          "F",
          "Outro",
          "F",
          "F",
          "F",
          "F",
          "Outro",
          "Outro",
          "F",
          "F",
          "M",
          "M",
          "Outro",
          "F",
          "F",
          "M",
          "M",
          "Outro",
          "F",
          "Outro",
          "M",
          "M",
          "Outro",
          "F",
          "F",
          "F",
          "M",
          "Outro",
          "F",
          "M",
          "Outro",
          "M",
          "M",
          "M",
          "Outro",
          "Outro",
          "Outro",
          "M",
          "M",
          "F",
          "Outro",
          "M",
          "M",
          "Outro",
          "Outro",
          "F",
          "F",
          "F",
          "M",
          "M",
          "M",
          "Outro",
          "M",
          "F",
          "Outro",
          "M",
          "M",
          "Outro",
          "M",
          "Outro",
          "M",
          "Outro",
          "Outro",
          "Outro",
          "Outro",
          "M",
          "F",
          "M",
          "M",
          "F",
          "M",
          "M",
          "Outro",
          "M",
          "Outro",
          "Outro",
          "F",
          "M",
          "Outro",
          "F",
          "Outro",
          "F",
          "Outro",
          "Outro",
          "Outro",
          "M",
          "Outro",
          "Outro",
          "Outro",
          "F",
          "Outro",
          "M",
          "Outro",
          "M",
          "M",
          "F",
          "Outro",
          "F",
          "Outro",
          "M",
          "M",
          "F",
          "Outro",
          "F",
          "F",
          "M",
          "M",
          "M",
          "M",
          "M",
          "F",
          "F",
          "Outro",
          "Outro",
          "F",
          "M",
          "Outro",
          "Outro",
          "M",
          "M",
          "Outro",
          "Outro",
          "Outro",
          "M",
          "M",
          "F",
          "Outro",
          "Outro",
          "F",
          "M",
          "Outro",
          "F",
          "M",
          "Outro",
          "M",
          "F",
          "M",
          "M",
          "M",
          "Outro",
          "M",
          "M",
          "M",
          "M",
          "M",
          "M",
          "Outro",
          "F",
          "Outro",
          "Outro",
          "M",
          "Outro",
          "Outro",
          "F",
          "Outro",
          "F",
          "Outro",
          "M",
          "M",
          "Outro",
          "Outro",
          "M",
          "M",
          "M",
          "F",
          "Outro",
          "Outro",
          "M",
          "Outro",
          "M",
          "M",
          "F",
          "M",
          "Outro",
          "Outro",
          "M",
          "Outro",
          "F",
          "M",
          "M",
          "F",
          "M",
          "M",
          "Outro",
          "M",
          "M",
          "F",
          "F",
          "M",
          "M",
          "Outro",
          "M",
          "M",
          "M",
          "Outro",
          "Outro",
          "F",
          "Outro",
          "F",
          "Outro",
          "F",
          "M",
          "Outro",
          "F",
          "F",
          "F",
          "M",
          "F",
          "F",
          "Outro",
          "Outro",
          "Outro",
          "M",
          "F",
          "F",
          "F",
          "Outro",
          "M",
          "F",
          "F",
          "M",
          "Outro",
          "M",
          "Outro",
          "M",
          "M",
          "F",
          "M",
          "M",
          "M",
          "F",
          "Outro",
          "M",
          "F",
          "M",
          "F",
          "Outro",
          "Outro",
          "Outro",
          "F",
          "Outro",
          "Outro",
          "F",
          "M",
          "Outro",
          "Outro",
          "Outro",
          "F",
          "M",
          "F",
          "Outro",
          "Outro",
          "F",
          "Outro",
          "Outro",
          "M",
          "Outro",
          "F",
          "F",
          "F",
          "Outro",
          "M",
          "F",
          "F",
          "M",
          "Outro",
          "Outro",
          "Outro",
          "F",
          "M",
          "M",
          "F",
          "Outro",
          "Outro",
          "F",
          "F",
          "M",
          "F",
          "F",
          "Outro",
          "Outro",
          "Outro",
          "M",
          "F",
          "Outro",
          "M",
          "M",
          "Outro",
          "F",
          "F",
          "M",
          "F",
          "F",
          "F",
          "F",
          "F",
          "F",
          "M",
          "Outro",
          "Outro",
          "M",
          "Outro",
          "F",
          "F",
          "F",
          "F",
          "F",
          "F",
          "F",
          "F",
          "M",
          "M",
          "F",
          "F",
          "Outro",
          "M",
          "F",
          "M",
          "M",
          "F",
          "M",
          "M",
          "Outro",
          "M",
          "F",
          "M",
          "F",
          "F",
          "M",
          "Outro",
          "Outro",
          "F",
          "M",
          "F",
          "Outro",
          "Outro",
          "F",
          "M",
          "Outro",
          "Outro",
          "F",
          "Outro",
          "F",
          "M",
          "Outro",
          "F",
          "F",
          "Outro",
          "Outro",
          "F",
          "Outro",
          "Outro",
          "M",
          "Outro",
          "M",
          "Outro",
          "Outro",
          "M",
          "Outro",
          "Outro",
          "Outro",
          "M",
          "M",
          "M",
          "Outro",
          "F",
          "M",
          "F",
          "Outro",
          "M",
          "Outro",
          "F",
          "F",
          "M",
          "M",
          "Outro",
          "Outro",
          "Outro",
          "M",
          "M",
          "Outro",
          "M",
          "F",
          "Outro",
          "Outro",
          "F",
          "M",
          "Outro",
          "M",
          "F",
          "Outro",
          "M",
          "M",
          "M",
          "F",
          "Outro",
          "F",
          "Outro",
          "F",
          "F",
          "M",
          "Outro",
          "M",
          "F",
          "M",
          "M",
          "F",
          "M",
          "F",
          "Outro",
          "Outro",
          "F",
          "Outro",
          "M",
          "F",
          "Outro",
          "Outro",
          "Outro",
          "Outro",
          "M",
          "F",
          "M",
          "Outro",
          "Outro",
          "Outro",
          "F",
          "M",
          "M",
          "M",
          "M",
          "F",
          "Outro",
          "Outro",
          "F",
          "F",
          "F",
          "Outro",
          "M",
          "M",
          "M",
          "M",
          "M",
          "Outro",
          "Outro",
          "M",
          "M",
          "M",
          "Outro",
          "F",
          "M",
          "F",
          "Outro",
          "Outro",
          "M",
          "Outro",
          "F",
          "Outro",
          "F",
          "M",
          "Outro",
          "Outro",
          "F",
          "Outro",
          "Outro",
          "Outro",
          "M",
          "M",
          "F",
          "F",
          "F",
          "F",
          "M",
          "Outro",
          "M",
          "M",
          "Outro",
          "F",
          "F",
          "M",
          "Outro",
          "F",
          "F",
          "Outro",
          "M",
          "F",
          "F",
          "F",
          "Outro",
          "Outro",
          "Outro",
          "Outro",
          "F",
          "F",
          "Outro",
          "Outro",
          "Outro",
          "M",
          "Outro",
          "Outro",
          "Outro",
          "M",
          "F",
          "Outro",
          "F",
          "Outro",
          "F",
          "F",
          "M",
          "F",
          "M",
          "M",
          "F",
          "F",
          "F",
          "M",
          "M",
          "F",
          "M",
          "Outro",
          "M",
          "Outro",
          "M",
          "F",
          "Outro",
          "Outro",
          "F",
          "Outro",
          "M",
          "F",
          "F",
          "F",
          "M",
          "Outro",
          "M",
          "M",
          "F",
          "Outro",
          "M",
          "Outro",
          "M",
          "M",
          "F",
          "F",
          "M",
          "Outro",
          "Outro",
          "M",
          "M",
          "M",
          "M",
          "Outro",
          "F",
          "Outro",
          "Outro",
          "M",
          "M",
          "Outro",
          "Outro",
          "Outro",
          "Outro",
          "Outro",
          "F",
          "F",
          "M",
          "M",
          "M",
          "F",
          "M",
          "Outro",
          "Outro",
          "F",
          "Outro",
          "Outro",
          "F",
          "Outro",
          "M",
          "M",
          "Outro",
          "Outro",
          "M",
          "M",
          "F",
          "F",
          "Outro",
          "M",
          "Outro",
          "F",
          "Outro",
          "M",
          "Outro",
          "F",
          "F",
          "Outro",
          "Outro",
          "Outro",
          "Outro",
          "F",
          "M",
          "M",
          "Outro",
          "F",
          "Outro",
          "Outro",
          "M",
          "M",
          "M",
          "M",
          "Outro",
          "M",
          "F",
          "Outro",
          "Outro",
          "Outro",
          "Outro",
          "Outro",
          "M",
          "Outro",
          "M",
          "F",
          "F",
          "M",
          "Outro",
          "M",
          "M",
          "F",
          "Outro",
          "Outro",
          "M",
          "Outro",
          "F",
          "Outro",
          "M",
          "F",
          "Outro",
          "M",
          "Outro",
          "F",
          "Outro",
          "F",
          "F",
          "F",
          "Outro",
          "Outro",
          "F",
          "Outro",
          "M",
          "Outro",
          "F",
          "F",
          "F",
          "M",
          "F",
          "F",
          "M",
          "M",
          "Outro",
          "M",
          "M",
          "Outro",
          "M",
          "M",
          "M",
          "M",
          "Outro",
          "M",
          "M",
          "F",
          "Outro",
          "M",
          "Outro",
          "M",
          "Outro",
          "F",
          "M",
          "F",
          "Outro",
          "Outro",
          "F",
          "M",
          "Outro",
          "M",
          "F",
          "M",
          "M",
          "Outro",
          "M",
          "F",
          "Outro",
          "F",
          "Outro",
          "F",
          "F",
          "F",
          "M",
          "Outro",
          "F",
          "F",
          "F",
          "F",
          "M",
          "M",
          "M",
          "M",
          "Outro",
          "F",
          "M",
          "M",
          "Outro",
          "F",
          "F",
          "F",
          "F",
          "F",
          "F",
          "M",
          "Outro",
          "F",
          "M",
          "M",
          "F",
          "M",
          "M",
          "M",
          "F",
          "F",
          "F",
          "Outro",
          "Outro",
          "Outro",
          "M",
          "M",
          "M",
          "F",
          "F",
          "F",
          "F",
          "F",
          "Outro",
          "Outro",
          "M",
          "M",
          "Outro",
          "F",
          "F",
          "F",
          "M",
          "M",
          "M",
          "Outro",
          "M",
          "M",
          "M",
          "F",
          "M",
          "M",
          "Outro",
          "Outro",
          "M",
          "M",
          "F",
          "M",
          "Outro",
          "F",
          "Outro",
          "Outro",
          "Outro",
          "F",
          "Outro",
          "M",
          "Outro",
          "Outro",
          "F",
          "F",
          "F",
          "F",
          "Outro",
          "Outro",
          "M",
          "F",
          "Outro",
          "Outro",
          "M",
          "M",
          "F",
          "M",
          "Outro",
          "F",
          "Outro",
          "M",
          "F",
          "M",
          "M",
          "M",
          "M",
          "F",
          "Outro",
          "F",
          "F",
          "M",
          "F",
          "F",
          "Outro",
          "F",
          "M",
          "M",
          "Outro",
          "F",
          "Outro",
          "Outro",
          "F",
          "Outro",
          "F",
          "Outro",
          "M",
          "M",
          "Outro",
          "M",
          "M",
          "F",
          "F",
          "M",
          "Outro",
          "M",
          "Outro",
          "M",
          "M",
          "M",
          "F",
          "Outro",
          "M",
          "Outro",
          "F",
          "F",
          "Outro",
          "F",
          "F",
          "F"
         ],
         "xaxis": "x",
         "yaxis": "y"
        },
        {
         "alignmentgroup": "True",
         "bingroup": "x",
         "hovertemplate": "churn=1<br>genero=%{x}<br>count=%{y}<extra></extra>",
         "legendgroup": "1",
         "marker": {
          "color": "#EF553B",
          "pattern": {
           "shape": ""
          }
         },
         "name": "1",
         "offsetgroup": "1",
         "orientation": "v",
         "showlegend": true,
         "type": "histogram",
         "x": [
          "M",
          "Outro",
          "Outro",
          "F",
          "Outro",
          "F",
          "Outro",
          "M",
          "Outro",
          "M",
          "F",
          "F",
          "M",
          "F",
          "F",
          "M",
          "M",
          "M",
          "Outro",
          "M",
          "Outro",
          "F",
          "F",
          "F",
          "Outro",
          "F",
          "M",
          "Outro",
          "M",
          "M",
          "Outro",
          "F",
          "Outro",
          "Outro",
          "M",
          "Outro",
          "Outro",
          "F",
          "Outro",
          "Outro",
          "M",
          "Outro",
          "M",
          "Outro",
          "F",
          "M",
          "F",
          "Outro",
          "Outro",
          "F",
          "Outro",
          "Outro",
          "M",
          "F",
          "F",
          "F",
          "Outro",
          "F",
          "F",
          "F",
          "F",
          "F",
          "Outro",
          "Outro",
          "M",
          "Outro",
          "Outro",
          "Outro",
          "F",
          "Outro",
          "M",
          "M",
          "M",
          "F",
          "M",
          "Outro",
          "M",
          "F",
          "F",
          "F",
          "Outro",
          "M",
          "M",
          "F",
          "F",
          "F",
          "M",
          "M",
          "Outro",
          "F",
          "M",
          "Outro",
          "F",
          "Outro",
          "M",
          "F",
          "M",
          "F",
          "Outro",
          "F",
          "F",
          "M",
          "F",
          "F",
          "M",
          "F",
          "Outro",
          "F",
          "F",
          "Outro",
          "Outro",
          "M",
          "F",
          "F",
          "F",
          "F",
          "F",
          "Outro",
          "F",
          "M",
          "F",
          "M",
          "Outro",
          "Outro",
          "F",
          "F",
          "Outro",
          "M",
          "F",
          "F",
          "M",
          "M",
          "Outro",
          "M",
          "M",
          "M",
          "Outro",
          "M",
          "M",
          "F",
          "M",
          "F",
          "Outro",
          "Outro",
          "F",
          "M",
          "M",
          "Outro",
          "Outro",
          "M",
          "F",
          "M",
          "F",
          "F",
          "M",
          "F",
          "Outro",
          "M",
          "Outro",
          "M",
          "Outro",
          "Outro",
          "M",
          "M",
          "Outro",
          "M",
          "M",
          "Outro",
          "Outro",
          "F",
          "F",
          "F",
          "F",
          "M",
          "M",
          "M",
          "M",
          "Outro",
          "Outro",
          "F",
          "F",
          "M",
          "F",
          "F",
          "M",
          "F",
          "Outro",
          "F",
          "Outro",
          "M",
          "F",
          "M",
          "F",
          "Outro",
          "F",
          "M",
          "F",
          "M",
          "M",
          "M",
          "F",
          "M",
          "Outro",
          "Outro",
          "F",
          "F",
          "M",
          "M",
          "F",
          "F",
          "Outro",
          "Outro",
          "F",
          "F",
          "M",
          "Outro",
          "F",
          "Outro",
          "Outro",
          "M",
          "M",
          "Outro",
          "Outro",
          "M",
          "F",
          "M",
          "Outro",
          "F",
          "M",
          "Outro",
          "M",
          "F",
          "Outro",
          "Outro",
          "Outro",
          "Outro",
          "Outro",
          "Outro",
          "M",
          "Outro",
          "M",
          "F",
          "Outro",
          "M",
          "M",
          "Outro",
          "F",
          "Outro",
          "F",
          "Outro",
          "Outro",
          "M",
          "M",
          "F",
          "F",
          "F",
          "M",
          "Outro",
          "M",
          "F",
          "M",
          "F",
          "F",
          "F",
          "F",
          "M",
          "Outro",
          "Outro",
          "F",
          "Outro",
          "M",
          "Outro",
          "Outro",
          "M",
          "Outro",
          "M",
          "Outro",
          "Outro",
          "F",
          "Outro",
          "M",
          "Outro",
          "F",
          "Outro",
          "Outro",
          "F"
         ],
         "xaxis": "x",
         "yaxis": "y"
        }
       ],
       "layout": {
        "barmode": "group",
        "legend": {
         "title": {
          "text": "churn"
         },
         "tracegroupgap": 0
        },
        "template": {
         "data": {
          "bar": [
           {
            "error_x": {
             "color": "#2a3f5f"
            },
            "error_y": {
             "color": "#2a3f5f"
            },
            "marker": {
             "line": {
              "color": "#E5ECF6",
              "width": 0.5
             },
             "pattern": {
              "fillmode": "overlay",
              "size": 10,
              "solidity": 0.2
             }
            },
            "type": "bar"
           }
          ],
          "barpolar": [
           {
            "marker": {
             "line": {
              "color": "#E5ECF6",
              "width": 0.5
             },
             "pattern": {
              "fillmode": "overlay",
              "size": 10,
              "solidity": 0.2
             }
            },
            "type": "barpolar"
           }
          ],
          "carpet": [
           {
            "aaxis": {
             "endlinecolor": "#2a3f5f",
             "gridcolor": "white",
             "linecolor": "white",
             "minorgridcolor": "white",
             "startlinecolor": "#2a3f5f"
            },
            "baxis": {
             "endlinecolor": "#2a3f5f",
             "gridcolor": "white",
             "linecolor": "white",
             "minorgridcolor": "white",
             "startlinecolor": "#2a3f5f"
            },
            "type": "carpet"
           }
          ],
          "choropleth": [
           {
            "colorbar": {
             "outlinewidth": 0,
             "ticks": ""
            },
            "type": "choropleth"
           }
          ],
          "contour": [
           {
            "colorbar": {
             "outlinewidth": 0,
             "ticks": ""
            },
            "colorscale": [
             [
              0,
              "#0d0887"
             ],
             [
              0.1111111111111111,
              "#46039f"
             ],
             [
              0.2222222222222222,
              "#7201a8"
             ],
             [
              0.3333333333333333,
              "#9c179e"
             ],
             [
              0.4444444444444444,
              "#bd3786"
             ],
             [
              0.5555555555555556,
              "#d8576b"
             ],
             [
              0.6666666666666666,
              "#ed7953"
             ],
             [
              0.7777777777777778,
              "#fb9f3a"
             ],
             [
              0.8888888888888888,
              "#fdca26"
             ],
             [
              1,
              "#f0f921"
             ]
            ],
            "type": "contour"
           }
          ],
          "contourcarpet": [
           {
            "colorbar": {
             "outlinewidth": 0,
             "ticks": ""
            },
            "type": "contourcarpet"
           }
          ],
          "heatmap": [
           {
            "colorbar": {
             "outlinewidth": 0,
             "ticks": ""
            },
            "colorscale": [
             [
              0,
              "#0d0887"
             ],
             [
              0.1111111111111111,
              "#46039f"
             ],
             [
              0.2222222222222222,
              "#7201a8"
             ],
             [
              0.3333333333333333,
              "#9c179e"
             ],
             [
              0.4444444444444444,
              "#bd3786"
             ],
             [
              0.5555555555555556,
              "#d8576b"
             ],
             [
              0.6666666666666666,
              "#ed7953"
             ],
             [
              0.7777777777777778,
              "#fb9f3a"
             ],
             [
              0.8888888888888888,
              "#fdca26"
             ],
             [
              1,
              "#f0f921"
             ]
            ],
            "type": "heatmap"
           }
          ],
          "histogram": [
           {
            "marker": {
             "pattern": {
              "fillmode": "overlay",
              "size": 10,
              "solidity": 0.2
             }
            },
            "type": "histogram"
           }
          ],
          "histogram2d": [
           {
            "colorbar": {
             "outlinewidth": 0,
             "ticks": ""
            },
            "colorscale": [
             [
              0,
              "#0d0887"
             ],
             [
              0.1111111111111111,
              "#46039f"
             ],
             [
              0.2222222222222222,
              "#7201a8"
             ],
             [
              0.3333333333333333,
              "#9c179e"
             ],
             [
              0.4444444444444444,
              "#bd3786"
             ],
             [
              0.5555555555555556,
              "#d8576b"
             ],
             [
              0.6666666666666666,
              "#ed7953"
             ],
             [
              0.7777777777777778,
              "#fb9f3a"
             ],
             [
              0.8888888888888888,
              "#fdca26"
             ],
             [
              1,
              "#f0f921"
             ]
            ],
            "type": "histogram2d"
           }
          ],
          "histogram2dcontour": [
           {
            "colorbar": {
             "outlinewidth": 0,
             "ticks": ""
            },
            "colorscale": [
             [
              0,
              "#0d0887"
             ],
             [
              0.1111111111111111,
              "#46039f"
             ],
             [
              0.2222222222222222,
              "#7201a8"
             ],
             [
              0.3333333333333333,
              "#9c179e"
             ],
             [
              0.4444444444444444,
              "#bd3786"
             ],
             [
              0.5555555555555556,
              "#d8576b"
             ],
             [
              0.6666666666666666,
              "#ed7953"
             ],
             [
              0.7777777777777778,
              "#fb9f3a"
             ],
             [
              0.8888888888888888,
              "#fdca26"
             ],
             [
              1,
              "#f0f921"
             ]
            ],
            "type": "histogram2dcontour"
           }
          ],
          "mesh3d": [
           {
            "colorbar": {
             "outlinewidth": 0,
             "ticks": ""
            },
            "type": "mesh3d"
           }
          ],
          "parcoords": [
           {
            "line": {
             "colorbar": {
              "outlinewidth": 0,
              "ticks": ""
             }
            },
            "type": "parcoords"
           }
          ],
          "pie": [
           {
            "automargin": true,
            "type": "pie"
           }
          ],
          "scatter": [
           {
            "fillpattern": {
             "fillmode": "overlay",
             "size": 10,
             "solidity": 0.2
            },
            "type": "scatter"
           }
          ],
          "scatter3d": [
           {
            "line": {
             "colorbar": {
              "outlinewidth": 0,
              "ticks": ""
             }
            },
            "marker": {
             "colorbar": {
              "outlinewidth": 0,
              "ticks": ""
             }
            },
            "type": "scatter3d"
           }
          ],
          "scattercarpet": [
           {
            "marker": {
             "colorbar": {
              "outlinewidth": 0,
              "ticks": ""
             }
            },
            "type": "scattercarpet"
           }
          ],
          "scattergeo": [
           {
            "marker": {
             "colorbar": {
              "outlinewidth": 0,
              "ticks": ""
             }
            },
            "type": "scattergeo"
           }
          ],
          "scattergl": [
           {
            "marker": {
             "colorbar": {
              "outlinewidth": 0,
              "ticks": ""
             }
            },
            "type": "scattergl"
           }
          ],
          "scattermap": [
           {
            "marker": {
             "colorbar": {
              "outlinewidth": 0,
              "ticks": ""
             }
            },
            "type": "scattermap"
           }
          ],
          "scattermapbox": [
           {
            "marker": {
             "colorbar": {
              "outlinewidth": 0,
              "ticks": ""
             }
            },
            "type": "scattermapbox"
           }
          ],
          "scatterpolar": [
           {
            "marker": {
             "colorbar": {
              "outlinewidth": 0,
              "ticks": ""
             }
            },
            "type": "scatterpolar"
           }
          ],
          "scatterpolargl": [
           {
            "marker": {
             "colorbar": {
              "outlinewidth": 0,
              "ticks": ""
             }
            },
            "type": "scatterpolargl"
           }
          ],
          "scatterternary": [
           {
            "marker": {
             "colorbar": {
              "outlinewidth": 0,
              "ticks": ""
             }
            },
            "type": "scatterternary"
           }
          ],
          "surface": [
           {
            "colorbar": {
             "outlinewidth": 0,
             "ticks": ""
            },
            "colorscale": [
             [
              0,
              "#0d0887"
             ],
             [
              0.1111111111111111,
              "#46039f"
             ],
             [
              0.2222222222222222,
              "#7201a8"
             ],
             [
              0.3333333333333333,
              "#9c179e"
             ],
             [
              0.4444444444444444,
              "#bd3786"
             ],
             [
              0.5555555555555556,
              "#d8576b"
             ],
             [
              0.6666666666666666,
              "#ed7953"
             ],
             [
              0.7777777777777778,
              "#fb9f3a"
             ],
             [
              0.8888888888888888,
              "#fdca26"
             ],
             [
              1,
              "#f0f921"
             ]
            ],
            "type": "surface"
           }
          ],
          "table": [
           {
            "cells": {
             "fill": {
              "color": "#EBF0F8"
             },
             "line": {
              "color": "white"
             }
            },
            "header": {
             "fill": {
              "color": "#C8D4E3"
             },
             "line": {
              "color": "white"
             }
            },
            "type": "table"
           }
          ]
         },
         "layout": {
          "annotationdefaults": {
           "arrowcolor": "#2a3f5f",
           "arrowhead": 0,
           "arrowwidth": 1
          },
          "autotypenumbers": "strict",
          "coloraxis": {
           "colorbar": {
            "outlinewidth": 0,
            "ticks": ""
           }
          },
          "colorscale": {
           "diverging": [
            [
             0,
             "#8e0152"
            ],
            [
             0.1,
             "#c51b7d"
            ],
            [
             0.2,
             "#de77ae"
            ],
            [
             0.3,
             "#f1b6da"
            ],
            [
             0.4,
             "#fde0ef"
            ],
            [
             0.5,
             "#f7f7f7"
            ],
            [
             0.6,
             "#e6f5d0"
            ],
            [
             0.7,
             "#b8e186"
            ],
            [
             0.8,
             "#7fbc41"
            ],
            [
             0.9,
             "#4d9221"
            ],
            [
             1,
             "#276419"
            ]
           ],
           "sequential": [
            [
             0,
             "#0d0887"
            ],
            [
             0.1111111111111111,
             "#46039f"
            ],
            [
             0.2222222222222222,
             "#7201a8"
            ],
            [
             0.3333333333333333,
             "#9c179e"
            ],
            [
             0.4444444444444444,
             "#bd3786"
            ],
            [
             0.5555555555555556,
             "#d8576b"
            ],
            [
             0.6666666666666666,
             "#ed7953"
            ],
            [
             0.7777777777777778,
             "#fb9f3a"
            ],
            [
             0.8888888888888888,
             "#fdca26"
            ],
            [
             1,
             "#f0f921"
            ]
           ],
           "sequentialminus": [
            [
             0,
             "#0d0887"
            ],
            [
             0.1111111111111111,
             "#46039f"
            ],
            [
             0.2222222222222222,
             "#7201a8"
            ],
            [
             0.3333333333333333,
             "#9c179e"
            ],
            [
             0.4444444444444444,
             "#bd3786"
            ],
            [
             0.5555555555555556,
             "#d8576b"
            ],
            [
             0.6666666666666666,
             "#ed7953"
            ],
            [
             0.7777777777777778,
             "#fb9f3a"
            ],
            [
             0.8888888888888888,
             "#fdca26"
            ],
            [
             1,
             "#f0f921"
            ]
           ]
          },
          "colorway": [
           "#636efa",
           "#EF553B",
           "#00cc96",
           "#ab63fa",
           "#FFA15A",
           "#19d3f3",
           "#FF6692",
           "#B6E880",
           "#FF97FF",
           "#FECB52"
          ],
          "font": {
           "color": "#2a3f5f"
          },
          "geo": {
           "bgcolor": "white",
           "lakecolor": "white",
           "landcolor": "#E5ECF6",
           "showlakes": true,
           "showland": true,
           "subunitcolor": "white"
          },
          "hoverlabel": {
           "align": "left"
          },
          "hovermode": "closest",
          "mapbox": {
           "style": "light"
          },
          "paper_bgcolor": "white",
          "plot_bgcolor": "#E5ECF6",
          "polar": {
           "angularaxis": {
            "gridcolor": "white",
            "linecolor": "white",
            "ticks": ""
           },
           "bgcolor": "#E5ECF6",
           "radialaxis": {
            "gridcolor": "white",
            "linecolor": "white",
            "ticks": ""
           }
          },
          "scene": {
           "xaxis": {
            "backgroundcolor": "#E5ECF6",
            "gridcolor": "white",
            "gridwidth": 2,
            "linecolor": "white",
            "showbackground": true,
            "ticks": "",
            "zerolinecolor": "white"
           },
           "yaxis": {
            "backgroundcolor": "#E5ECF6",
            "gridcolor": "white",
            "gridwidth": 2,
            "linecolor": "white",
            "showbackground": true,
            "ticks": "",
            "zerolinecolor": "white"
           },
           "zaxis": {
            "backgroundcolor": "#E5ECF6",
            "gridcolor": "white",
            "gridwidth": 2,
            "linecolor": "white",
            "showbackground": true,
            "ticks": "",
            "zerolinecolor": "white"
           }
          },
          "shapedefaults": {
           "line": {
            "color": "#2a3f5f"
           }
          },
          "ternary": {
           "aaxis": {
            "gridcolor": "white",
            "linecolor": "white",
            "ticks": ""
           },
           "baxis": {
            "gridcolor": "white",
            "linecolor": "white",
            "ticks": ""
           },
           "bgcolor": "#E5ECF6",
           "caxis": {
            "gridcolor": "white",
            "linecolor": "white",
            "ticks": ""
           }
          },
          "title": {
           "x": 0.05
          },
          "xaxis": {
           "automargin": true,
           "gridcolor": "white",
           "linecolor": "white",
           "ticks": "",
           "title": {
            "standoff": 15
           },
           "zerolinecolor": "white",
           "zerolinewidth": 2
          },
          "yaxis": {
           "automargin": true,
           "gridcolor": "white",
           "linecolor": "white",
           "ticks": "",
           "title": {
            "standoff": 15
           },
           "zerolinecolor": "white",
           "zerolinewidth": 2
          }
         }
        },
        "title": {
         "text": "Histograma da coluna genero"
        },
        "xaxis": {
         "anchor": "y",
         "domain": [
          0,
          1
         ],
         "title": {
          "text": "genero"
         }
        },
        "yaxis": {
         "anchor": "x",
         "domain": [
          0,
          1
         ],
         "title": {
          "text": "count"
         }
        }
       }
      }
     },
     "metadata": {},
     "output_type": "display_data"
    },
    {
     "data": {
      "application/vnd.plotly.v1+json": {
       "config": {
        "plotlyServerURL": "https://plot.ly"
       },
       "data": [
        {
         "alignmentgroup": "True",
         "bingroup": "x",
         "hovertemplate": "churn=0<br>estado_civil=%{x}<br>count=%{y}<extra></extra>",
         "legendgroup": "0",
         "marker": {
          "color": "#636efa",
          "pattern": {
           "shape": ""
          }
         },
         "name": "0",
         "offsetgroup": "0",
         "orientation": "v",
         "showlegend": true,
         "type": "histogram",
         "x": [
          "Divorciado(a)",
          "Divorciado(a)",
          "Viúvo(a)",
          "Casado(a)",
          "Viúvo(a)",
          "Casado(a)",
          "Viúvo(a)",
          "Casado(a)",
          "Viúvo(a)",
          "Divorciado(a)",
          "Casado(a)",
          "Casado(a)",
          "Casado(a)",
          "Solteiro(a)",
          "Casado(a)",
          "Viúvo(a)",
          "Viúvo(a)",
          "Solteiro(a)",
          "Casado(a)",
          "Viúvo(a)",
          "Solteiro(a)",
          "Divorciado(a)",
          "Solteiro(a)",
          "Divorciado(a)",
          "Divorciado(a)",
          "Divorciado(a)",
          "Casado(a)",
          "Divorciado(a)",
          "Divorciado(a)",
          "Viúvo(a)",
          "Divorciado(a)",
          "Casado(a)",
          "Viúvo(a)",
          "Viúvo(a)",
          "Viúvo(a)",
          "Casado(a)",
          "Divorciado(a)",
          "Solteiro(a)",
          "Casado(a)",
          "Divorciado(a)",
          "Divorciado(a)",
          "Casado(a)",
          "Solteiro(a)",
          "Casado(a)",
          "Solteiro(a)",
          "Solteiro(a)",
          "Solteiro(a)",
          "Divorciado(a)",
          "Divorciado(a)",
          "Solteiro(a)",
          "Viúvo(a)",
          "Solteiro(a)",
          "Casado(a)",
          "Solteiro(a)",
          "Divorciado(a)",
          "Casado(a)",
          "Divorciado(a)",
          "Viúvo(a)",
          "Divorciado(a)",
          "Casado(a)",
          "Viúvo(a)",
          "Casado(a)",
          "Casado(a)",
          "Divorciado(a)",
          "Solteiro(a)",
          "Viúvo(a)",
          "Casado(a)",
          "Divorciado(a)",
          "Casado(a)",
          "Solteiro(a)",
          "Solteiro(a)",
          "Viúvo(a)",
          "Solteiro(a)",
          "Divorciado(a)",
          "Casado(a)",
          "Divorciado(a)",
          "Divorciado(a)",
          "Casado(a)",
          "Viúvo(a)",
          "Casado(a)",
          "Divorciado(a)",
          "Solteiro(a)",
          "Viúvo(a)",
          "Viúvo(a)",
          "Viúvo(a)",
          "Solteiro(a)",
          "Solteiro(a)",
          "Divorciado(a)",
          "Solteiro(a)",
          "Divorciado(a)",
          "Viúvo(a)",
          "Divorciado(a)",
          "Divorciado(a)",
          "Solteiro(a)",
          "Solteiro(a)",
          "Solteiro(a)",
          "Casado(a)",
          "Viúvo(a)",
          "Viúvo(a)",
          "Solteiro(a)",
          "Divorciado(a)",
          "Solteiro(a)",
          "Casado(a)",
          "Casado(a)",
          "Casado(a)",
          "Solteiro(a)",
          "Divorciado(a)",
          "Divorciado(a)",
          "Viúvo(a)",
          "Viúvo(a)",
          "Solteiro(a)",
          "Viúvo(a)",
          "Casado(a)",
          "Viúvo(a)",
          "Viúvo(a)",
          "Viúvo(a)",
          "Solteiro(a)",
          "Divorciado(a)",
          "Viúvo(a)",
          "Viúvo(a)",
          "Solteiro(a)",
          "Viúvo(a)",
          "Casado(a)",
          "Solteiro(a)",
          "Casado(a)",
          "Viúvo(a)",
          "Solteiro(a)",
          "Solteiro(a)",
          "Solteiro(a)",
          "Viúvo(a)",
          "Casado(a)",
          "Viúvo(a)",
          "Viúvo(a)",
          "Solteiro(a)",
          "Divorciado(a)",
          "Divorciado(a)",
          "Casado(a)",
          "Casado(a)",
          "Viúvo(a)",
          "Solteiro(a)",
          "Divorciado(a)",
          "Divorciado(a)",
          "Viúvo(a)",
          "Casado(a)",
          "Divorciado(a)",
          "Solteiro(a)",
          "Solteiro(a)",
          "Casado(a)",
          "Viúvo(a)",
          "Viúvo(a)",
          "Casado(a)",
          "Divorciado(a)",
          "Viúvo(a)",
          "Solteiro(a)",
          "Viúvo(a)",
          "Viúvo(a)",
          "Solteiro(a)",
          "Viúvo(a)",
          "Viúvo(a)",
          "Casado(a)",
          "Solteiro(a)",
          "Casado(a)",
          "Solteiro(a)",
          "Solteiro(a)",
          "Casado(a)",
          "Viúvo(a)",
          "Viúvo(a)",
          "Divorciado(a)",
          "Divorciado(a)",
          "Casado(a)",
          "Solteiro(a)",
          "Casado(a)",
          "Divorciado(a)",
          "Divorciado(a)",
          "Divorciado(a)",
          "Solteiro(a)",
          "Solteiro(a)",
          "Casado(a)",
          "Casado(a)",
          "Casado(a)",
          "Viúvo(a)",
          "Solteiro(a)",
          "Solteiro(a)",
          "Solteiro(a)",
          "Viúvo(a)",
          "Casado(a)",
          "Viúvo(a)",
          "Divorciado(a)",
          "Viúvo(a)",
          "Solteiro(a)",
          "Divorciado(a)",
          "Solteiro(a)",
          "Casado(a)",
          "Casado(a)",
          "Divorciado(a)",
          "Casado(a)",
          "Solteiro(a)",
          "Solteiro(a)",
          "Solteiro(a)",
          "Solteiro(a)",
          "Solteiro(a)",
          "Divorciado(a)",
          "Solteiro(a)",
          "Divorciado(a)",
          "Viúvo(a)",
          "Divorciado(a)",
          "Viúvo(a)",
          "Casado(a)",
          "Casado(a)",
          "Viúvo(a)",
          "Solteiro(a)",
          "Casado(a)",
          "Divorciado(a)",
          "Viúvo(a)",
          "Divorciado(a)",
          "Divorciado(a)",
          "Solteiro(a)",
          "Divorciado(a)",
          "Divorciado(a)",
          "Casado(a)",
          "Divorciado(a)",
          "Divorciado(a)",
          "Casado(a)",
          "Casado(a)",
          "Divorciado(a)",
          "Viúvo(a)",
          "Divorciado(a)",
          "Solteiro(a)",
          "Divorciado(a)",
          "Solteiro(a)",
          "Viúvo(a)",
          "Casado(a)",
          "Casado(a)",
          "Divorciado(a)",
          "Solteiro(a)",
          "Solteiro(a)",
          "Casado(a)",
          "Viúvo(a)",
          "Solteiro(a)",
          "Divorciado(a)",
          "Solteiro(a)",
          "Divorciado(a)",
          "Solteiro(a)",
          "Casado(a)",
          "Casado(a)",
          "Divorciado(a)",
          "Casado(a)",
          "Casado(a)",
          "Viúvo(a)",
          "Viúvo(a)",
          "Divorciado(a)",
          "Divorciado(a)",
          "Divorciado(a)",
          "Casado(a)",
          "Viúvo(a)",
          "Casado(a)",
          "Solteiro(a)",
          "Solteiro(a)",
          "Solteiro(a)",
          "Solteiro(a)",
          "Casado(a)",
          "Casado(a)",
          "Casado(a)",
          "Solteiro(a)",
          "Viúvo(a)",
          "Solteiro(a)",
          "Solteiro(a)",
          "Viúvo(a)",
          "Divorciado(a)",
          "Viúvo(a)",
          "Viúvo(a)",
          "Casado(a)",
          "Casado(a)",
          "Casado(a)",
          "Casado(a)",
          "Divorciado(a)",
          "Divorciado(a)",
          "Casado(a)",
          "Solteiro(a)",
          "Viúvo(a)",
          "Solteiro(a)",
          "Divorciado(a)",
          "Casado(a)",
          "Viúvo(a)",
          "Divorciado(a)",
          "Divorciado(a)",
          "Casado(a)",
          "Casado(a)",
          "Casado(a)",
          "Casado(a)",
          "Solteiro(a)",
          "Viúvo(a)",
          "Solteiro(a)",
          "Solteiro(a)",
          "Viúvo(a)",
          "Solteiro(a)",
          "Divorciado(a)",
          "Viúvo(a)",
          "Solteiro(a)",
          "Divorciado(a)",
          "Casado(a)",
          "Divorciado(a)",
          "Casado(a)",
          "Viúvo(a)",
          "Casado(a)",
          "Divorciado(a)",
          "Divorciado(a)",
          "Casado(a)",
          "Casado(a)",
          "Viúvo(a)",
          "Divorciado(a)",
          "Casado(a)",
          "Casado(a)",
          "Casado(a)",
          "Viúvo(a)",
          "Solteiro(a)",
          "Viúvo(a)",
          "Viúvo(a)",
          "Divorciado(a)",
          "Solteiro(a)",
          "Divorciado(a)",
          "Divorciado(a)",
          "Viúvo(a)",
          "Solteiro(a)",
          "Divorciado(a)",
          "Casado(a)",
          "Solteiro(a)",
          "Viúvo(a)",
          "Viúvo(a)",
          "Divorciado(a)",
          "Casado(a)",
          "Viúvo(a)",
          "Viúvo(a)",
          "Viúvo(a)",
          "Solteiro(a)",
          "Casado(a)",
          "Divorciado(a)",
          "Divorciado(a)",
          "Divorciado(a)",
          "Viúvo(a)",
          "Viúvo(a)",
          "Solteiro(a)",
          "Divorciado(a)",
          "Casado(a)",
          "Viúvo(a)",
          "Casado(a)",
          "Casado(a)",
          "Solteiro(a)",
          "Casado(a)",
          "Casado(a)",
          "Viúvo(a)",
          "Casado(a)",
          "Solteiro(a)",
          "Solteiro(a)",
          "Casado(a)",
          "Divorciado(a)",
          "Solteiro(a)",
          "Viúvo(a)",
          "Solteiro(a)",
          "Casado(a)",
          "Viúvo(a)",
          "Divorciado(a)",
          "Viúvo(a)",
          "Viúvo(a)",
          "Viúvo(a)",
          "Divorciado(a)",
          "Solteiro(a)",
          "Solteiro(a)",
          "Viúvo(a)",
          "Viúvo(a)",
          "Casado(a)",
          "Solteiro(a)",
          "Viúvo(a)",
          "Casado(a)",
          "Casado(a)",
          "Solteiro(a)",
          "Casado(a)",
          "Solteiro(a)",
          "Divorciado(a)",
          "Solteiro(a)",
          "Solteiro(a)",
          "Divorciado(a)",
          "Divorciado(a)",
          "Casado(a)",
          "Divorciado(a)",
          "Divorciado(a)",
          "Casado(a)",
          "Solteiro(a)",
          "Viúvo(a)",
          "Solteiro(a)",
          "Solteiro(a)",
          "Divorciado(a)",
          "Divorciado(a)",
          "Divorciado(a)",
          "Divorciado(a)",
          "Divorciado(a)",
          "Divorciado(a)",
          "Casado(a)",
          "Solteiro(a)",
          "Solteiro(a)",
          "Solteiro(a)",
          "Solteiro(a)",
          "Solteiro(a)",
          "Viúvo(a)",
          "Viúvo(a)",
          "Casado(a)",
          "Solteiro(a)",
          "Divorciado(a)",
          "Solteiro(a)",
          "Divorciado(a)",
          "Divorciado(a)",
          "Viúvo(a)",
          "Casado(a)",
          "Viúvo(a)",
          "Solteiro(a)",
          "Casado(a)",
          "Divorciado(a)",
          "Viúvo(a)",
          "Solteiro(a)",
          "Viúvo(a)",
          "Casado(a)",
          "Viúvo(a)",
          "Casado(a)",
          "Casado(a)",
          "Casado(a)",
          "Solteiro(a)",
          "Divorciado(a)",
          "Viúvo(a)",
          "Divorciado(a)",
          "Viúvo(a)",
          "Casado(a)",
          "Divorciado(a)",
          "Viúvo(a)",
          "Solteiro(a)",
          "Solteiro(a)",
          "Divorciado(a)",
          "Solteiro(a)",
          "Solteiro(a)",
          "Casado(a)",
          "Viúvo(a)",
          "Viúvo(a)",
          "Casado(a)",
          "Divorciado(a)",
          "Viúvo(a)",
          "Casado(a)",
          "Viúvo(a)",
          "Divorciado(a)",
          "Solteiro(a)",
          "Solteiro(a)",
          "Solteiro(a)",
          "Divorciado(a)",
          "Casado(a)",
          "Solteiro(a)",
          "Solteiro(a)",
          "Divorciado(a)",
          "Casado(a)",
          "Viúvo(a)",
          "Viúvo(a)",
          "Solteiro(a)",
          "Divorciado(a)",
          "Solteiro(a)",
          "Casado(a)",
          "Solteiro(a)",
          "Solteiro(a)",
          "Divorciado(a)",
          "Divorciado(a)",
          "Solteiro(a)",
          "Solteiro(a)",
          "Solteiro(a)",
          "Divorciado(a)",
          "Divorciado(a)",
          "Solteiro(a)",
          "Solteiro(a)",
          "Divorciado(a)",
          "Casado(a)",
          "Solteiro(a)",
          "Divorciado(a)",
          "Solteiro(a)",
          "Solteiro(a)",
          "Divorciado(a)",
          "Casado(a)",
          "Casado(a)",
          "Divorciado(a)",
          "Casado(a)",
          "Solteiro(a)",
          "Casado(a)",
          "Solteiro(a)",
          "Solteiro(a)",
          "Divorciado(a)",
          "Casado(a)",
          "Casado(a)",
          "Divorciado(a)",
          "Solteiro(a)",
          "Divorciado(a)",
          "Casado(a)",
          "Solteiro(a)",
          "Divorciado(a)",
          "Solteiro(a)",
          "Solteiro(a)",
          "Casado(a)",
          "Casado(a)",
          "Solteiro(a)",
          "Divorciado(a)",
          "Viúvo(a)",
          "Divorciado(a)",
          "Solteiro(a)",
          "Casado(a)",
          "Viúvo(a)",
          "Solteiro(a)",
          "Solteiro(a)",
          "Viúvo(a)",
          "Casado(a)",
          "Divorciado(a)",
          "Viúvo(a)",
          "Solteiro(a)",
          "Divorciado(a)",
          "Casado(a)",
          "Divorciado(a)",
          "Solteiro(a)",
          "Viúvo(a)",
          "Divorciado(a)",
          "Casado(a)",
          "Solteiro(a)",
          "Solteiro(a)",
          "Viúvo(a)",
          "Solteiro(a)",
          "Solteiro(a)",
          "Solteiro(a)",
          "Divorciado(a)",
          "Divorciado(a)",
          "Divorciado(a)",
          "Solteiro(a)",
          "Divorciado(a)",
          "Solteiro(a)",
          "Solteiro(a)",
          "Casado(a)",
          "Casado(a)",
          "Divorciado(a)",
          "Divorciado(a)",
          "Solteiro(a)",
          "Solteiro(a)",
          "Viúvo(a)",
          "Casado(a)",
          "Viúvo(a)",
          "Viúvo(a)",
          "Casado(a)",
          "Solteiro(a)",
          "Casado(a)",
          "Casado(a)",
          "Solteiro(a)",
          "Solteiro(a)",
          "Casado(a)",
          "Casado(a)",
          "Solteiro(a)",
          "Viúvo(a)",
          "Casado(a)",
          "Solteiro(a)",
          "Solteiro(a)",
          "Viúvo(a)",
          "Solteiro(a)",
          "Casado(a)",
          "Solteiro(a)",
          "Casado(a)",
          "Solteiro(a)",
          "Casado(a)",
          "Viúvo(a)",
          "Solteiro(a)",
          "Divorciado(a)",
          "Solteiro(a)",
          "Viúvo(a)",
          "Viúvo(a)",
          "Viúvo(a)",
          "Casado(a)",
          "Divorciado(a)",
          "Divorciado(a)",
          "Viúvo(a)",
          "Solteiro(a)",
          "Casado(a)",
          "Divorciado(a)",
          "Viúvo(a)",
          "Divorciado(a)",
          "Solteiro(a)",
          "Divorciado(a)",
          "Solteiro(a)",
          "Casado(a)",
          "Casado(a)",
          "Divorciado(a)",
          "Viúvo(a)",
          "Viúvo(a)",
          "Divorciado(a)",
          "Solteiro(a)",
          "Solteiro(a)",
          "Solteiro(a)",
          "Viúvo(a)",
          "Casado(a)",
          "Divorciado(a)",
          "Solteiro(a)",
          "Casado(a)",
          "Viúvo(a)",
          "Solteiro(a)",
          "Solteiro(a)",
          "Divorciado(a)",
          "Divorciado(a)",
          "Divorciado(a)",
          "Divorciado(a)",
          "Viúvo(a)",
          "Viúvo(a)",
          "Viúvo(a)",
          "Divorciado(a)",
          "Divorciado(a)",
          "Viúvo(a)",
          "Viúvo(a)",
          "Viúvo(a)",
          "Viúvo(a)",
          "Casado(a)",
          "Solteiro(a)",
          "Casado(a)",
          "Solteiro(a)",
          "Casado(a)",
          "Casado(a)",
          "Divorciado(a)",
          "Divorciado(a)",
          "Casado(a)",
          "Casado(a)",
          "Divorciado(a)",
          "Divorciado(a)",
          "Viúvo(a)",
          "Divorciado(a)",
          "Solteiro(a)",
          "Viúvo(a)",
          "Solteiro(a)",
          "Viúvo(a)",
          "Divorciado(a)",
          "Solteiro(a)",
          "Casado(a)",
          "Viúvo(a)",
          "Divorciado(a)",
          "Divorciado(a)",
          "Solteiro(a)",
          "Viúvo(a)",
          "Casado(a)",
          "Viúvo(a)",
          "Viúvo(a)",
          "Solteiro(a)",
          "Viúvo(a)",
          "Casado(a)",
          "Casado(a)",
          "Viúvo(a)",
          "Divorciado(a)",
          "Divorciado(a)",
          "Casado(a)",
          "Viúvo(a)",
          "Solteiro(a)",
          "Divorciado(a)",
          "Solteiro(a)",
          "Divorciado(a)",
          "Solteiro(a)",
          "Divorciado(a)",
          "Divorciado(a)",
          "Casado(a)",
          "Viúvo(a)",
          "Viúvo(a)",
          "Casado(a)",
          "Viúvo(a)",
          "Casado(a)",
          "Viúvo(a)",
          "Viúvo(a)",
          "Divorciado(a)",
          "Solteiro(a)",
          "Solteiro(a)",
          "Casado(a)",
          "Casado(a)",
          "Divorciado(a)",
          "Divorciado(a)",
          "Casado(a)",
          "Divorciado(a)",
          "Divorciado(a)",
          "Divorciado(a)",
          "Viúvo(a)",
          "Divorciado(a)",
          "Solteiro(a)",
          "Viúvo(a)",
          "Divorciado(a)",
          "Divorciado(a)",
          "Divorciado(a)",
          "Divorciado(a)",
          "Viúvo(a)",
          "Casado(a)",
          "Divorciado(a)",
          "Casado(a)",
          "Divorciado(a)",
          "Viúvo(a)",
          "Divorciado(a)",
          "Viúvo(a)",
          "Divorciado(a)",
          "Divorciado(a)",
          "Casado(a)",
          "Viúvo(a)",
          "Solteiro(a)",
          "Divorciado(a)",
          "Casado(a)",
          "Solteiro(a)",
          "Casado(a)",
          "Divorciado(a)",
          "Casado(a)",
          "Viúvo(a)",
          "Casado(a)",
          "Casado(a)",
          "Viúvo(a)",
          "Divorciado(a)",
          "Casado(a)",
          "Viúvo(a)",
          "Solteiro(a)",
          "Solteiro(a)",
          "Divorciado(a)",
          "Viúvo(a)",
          "Divorciado(a)",
          "Solteiro(a)",
          "Viúvo(a)",
          "Solteiro(a)",
          "Viúvo(a)",
          "Viúvo(a)",
          "Viúvo(a)",
          "Casado(a)",
          "Divorciado(a)",
          "Casado(a)",
          "Divorciado(a)",
          "Casado(a)",
          "Casado(a)",
          "Viúvo(a)",
          "Solteiro(a)",
          "Viúvo(a)",
          "Casado(a)",
          "Viúvo(a)",
          "Solteiro(a)",
          "Viúvo(a)",
          "Viúvo(a)",
          "Divorciado(a)",
          "Solteiro(a)",
          "Casado(a)",
          "Viúvo(a)",
          "Solteiro(a)",
          "Solteiro(a)",
          "Viúvo(a)",
          "Divorciado(a)",
          "Solteiro(a)",
          "Solteiro(a)",
          "Solteiro(a)",
          "Solteiro(a)",
          "Divorciado(a)",
          "Casado(a)",
          "Divorciado(a)",
          "Casado(a)",
          "Casado(a)",
          "Casado(a)",
          "Casado(a)",
          "Divorciado(a)",
          "Solteiro(a)",
          "Solteiro(a)",
          "Casado(a)",
          "Viúvo(a)",
          "Casado(a)",
          "Divorciado(a)",
          "Solteiro(a)",
          "Casado(a)",
          "Solteiro(a)",
          "Viúvo(a)",
          "Viúvo(a)",
          "Casado(a)",
          "Viúvo(a)",
          "Solteiro(a)",
          "Solteiro(a)",
          "Casado(a)",
          "Solteiro(a)",
          "Divorciado(a)",
          "Solteiro(a)",
          "Divorciado(a)",
          "Viúvo(a)",
          "Divorciado(a)",
          "Divorciado(a)",
          "Viúvo(a)",
          "Divorciado(a)",
          "Casado(a)",
          "Solteiro(a)",
          "Divorciado(a)",
          "Solteiro(a)",
          "Divorciado(a)",
          "Solteiro(a)",
          "Viúvo(a)",
          "Divorciado(a)",
          "Solteiro(a)",
          "Casado(a)",
          "Divorciado(a)",
          "Viúvo(a)",
          "Casado(a)",
          "Viúvo(a)",
          "Divorciado(a)",
          "Viúvo(a)",
          "Solteiro(a)",
          "Divorciado(a)",
          "Divorciado(a)",
          "Divorciado(a)",
          "Casado(a)",
          "Divorciado(a)",
          "Casado(a)",
          "Casado(a)",
          "Casado(a)",
          "Viúvo(a)",
          "Casado(a)",
          "Divorciado(a)",
          "Divorciado(a)",
          "Casado(a)",
          "Solteiro(a)",
          "Viúvo(a)",
          "Casado(a)",
          "Solteiro(a)",
          "Casado(a)",
          "Divorciado(a)",
          "Casado(a)",
          "Solteiro(a)",
          "Divorciado(a)",
          "Divorciado(a)",
          "Solteiro(a)",
          "Solteiro(a)",
          "Viúvo(a)",
          "Solteiro(a)",
          "Viúvo(a)",
          "Casado(a)",
          "Viúvo(a)",
          "Viúvo(a)",
          "Viúvo(a)",
          "Divorciado(a)",
          "Divorciado(a)",
          "Casado(a)",
          "Divorciado(a)",
          "Casado(a)",
          "Viúvo(a)",
          "Viúvo(a)",
          "Casado(a)",
          "Viúvo(a)",
          "Viúvo(a)",
          "Divorciado(a)",
          "Divorciado(a)",
          "Divorciado(a)",
          "Viúvo(a)",
          "Viúvo(a)",
          "Solteiro(a)",
          "Solteiro(a)",
          "Solteiro(a)",
          "Casado(a)",
          "Casado(a)",
          "Solteiro(a)",
          "Divorciado(a)",
          "Casado(a)",
          "Solteiro(a)",
          "Viúvo(a)",
          "Casado(a)",
          "Solteiro(a)",
          "Divorciado(a)",
          "Solteiro(a)",
          "Divorciado(a)",
          "Casado(a)",
          "Viúvo(a)",
          "Casado(a)",
          "Casado(a)",
          "Casado(a)",
          "Casado(a)",
          "Casado(a)",
          "Solteiro(a)",
          "Divorciado(a)",
          "Casado(a)",
          "Divorciado(a)",
          "Divorciado(a)",
          "Casado(a)",
          "Solteiro(a)",
          "Casado(a)",
          "Solteiro(a)",
          "Divorciado(a)",
          "Divorciado(a)",
          "Viúvo(a)",
          "Solteiro(a)",
          "Solteiro(a)",
          "Solteiro(a)",
          "Solteiro(a)",
          "Solteiro(a)",
          "Casado(a)",
          "Casado(a)",
          "Viúvo(a)",
          "Solteiro(a)",
          "Viúvo(a)",
          "Viúvo(a)",
          "Casado(a)",
          "Casado(a)",
          "Viúvo(a)",
          "Divorciado(a)",
          "Solteiro(a)",
          "Divorciado(a)",
          "Solteiro(a)",
          "Viúvo(a)",
          "Viúvo(a)",
          "Solteiro(a)",
          "Casado(a)",
          "Casado(a)",
          "Casado(a)",
          "Solteiro(a)",
          "Casado(a)",
          "Casado(a)",
          "Divorciado(a)",
          "Solteiro(a)",
          "Viúvo(a)",
          "Solteiro(a)",
          "Casado(a)",
          "Casado(a)",
          "Viúvo(a)",
          "Divorciado(a)",
          "Divorciado(a)",
          "Solteiro(a)",
          "Divorciado(a)",
          "Viúvo(a)",
          "Solteiro(a)",
          "Viúvo(a)",
          "Casado(a)",
          "Divorciado(a)",
          "Casado(a)",
          "Divorciado(a)",
          "Viúvo(a)",
          "Casado(a)",
          "Viúvo(a)",
          "Viúvo(a)",
          "Viúvo(a)",
          "Viúvo(a)",
          "Solteiro(a)",
          "Divorciado(a)",
          "Solteiro(a)",
          "Solteiro(a)",
          "Divorciado(a)",
          "Divorciado(a)",
          "Casado(a)",
          "Viúvo(a)",
          "Solteiro(a)",
          "Casado(a)",
          "Viúvo(a)",
          "Divorciado(a)",
          "Divorciado(a)",
          "Divorciado(a)",
          "Viúvo(a)",
          "Divorciado(a)",
          "Viúvo(a)",
          "Casado(a)",
          "Divorciado(a)",
          "Divorciado(a)",
          "Divorciado(a)",
          "Divorciado(a)",
          "Viúvo(a)",
          "Divorciado(a)",
          "Solteiro(a)",
          "Viúvo(a)",
          "Casado(a)",
          "Divorciado(a)",
          "Casado(a)",
          "Divorciado(a)",
          "Solteiro(a)",
          "Viúvo(a)",
          "Casado(a)",
          "Casado(a)",
          "Casado(a)",
          "Casado(a)",
          "Viúvo(a)",
          "Divorciado(a)",
          "Viúvo(a)",
          "Casado(a)",
          "Casado(a)",
          "Divorciado(a)",
          "Solteiro(a)",
          "Solteiro(a)",
          "Viúvo(a)",
          "Solteiro(a)",
          "Divorciado(a)",
          "Divorciado(a)",
          "Casado(a)",
          "Solteiro(a)",
          "Casado(a)",
          "Divorciado(a)",
          "Solteiro(a)",
          "Divorciado(a)",
          "Viúvo(a)",
          "Divorciado(a)",
          "Viúvo(a)",
          "Viúvo(a)",
          "Solteiro(a)",
          "Casado(a)",
          "Divorciado(a)",
          "Solteiro(a)",
          "Casado(a)",
          "Solteiro(a)",
          "Solteiro(a)",
          "Viúvo(a)",
          "Solteiro(a)",
          "Divorciado(a)",
          "Divorciado(a)",
          "Casado(a)",
          "Casado(a)",
          "Solteiro(a)",
          "Viúvo(a)",
          "Solteiro(a)",
          "Divorciado(a)",
          "Casado(a)",
          "Viúvo(a)",
          "Divorciado(a)",
          "Viúvo(a)",
          "Divorciado(a)",
          "Divorciado(a)",
          "Divorciado(a)",
          "Solteiro(a)",
          "Viúvo(a)",
          "Casado(a)",
          "Divorciado(a)",
          "Divorciado(a)",
          "Solteiro(a)",
          "Solteiro(a)",
          "Viúvo(a)",
          "Divorciado(a)",
          "Divorciado(a)",
          "Viúvo(a)",
          "Divorciado(a)",
          "Viúvo(a)",
          "Casado(a)",
          "Solteiro(a)",
          "Casado(a)",
          "Solteiro(a)",
          "Viúvo(a)",
          "Divorciado(a)",
          "Casado(a)",
          "Divorciado(a)",
          "Casado(a)",
          "Solteiro(a)",
          "Casado(a)",
          "Viúvo(a)",
          "Viúvo(a)",
          "Casado(a)",
          "Solteiro(a)",
          "Divorciado(a)",
          "Viúvo(a)",
          "Divorciado(a)",
          "Solteiro(a)",
          "Solteiro(a)",
          "Viúvo(a)",
          "Divorciado(a)",
          "Viúvo(a)",
          "Divorciado(a)",
          "Divorciado(a)",
          "Divorciado(a)",
          "Casado(a)",
          "Solteiro(a)",
          "Divorciado(a)",
          "Casado(a)",
          "Casado(a)",
          "Solteiro(a)",
          "Divorciado(a)",
          "Viúvo(a)",
          "Divorciado(a)",
          "Solteiro(a)",
          "Casado(a)",
          "Casado(a)",
          "Solteiro(a)",
          "Viúvo(a)",
          "Viúvo(a)",
          "Viúvo(a)",
          "Viúvo(a)",
          "Divorciado(a)",
          "Casado(a)",
          "Viúvo(a)",
          "Solteiro(a)",
          "Casado(a)",
          "Solteiro(a)",
          "Divorciado(a)",
          "Solteiro(a)",
          "Divorciado(a)",
          "Casado(a)",
          "Divorciado(a)",
          "Viúvo(a)",
          "Divorciado(a)",
          "Viúvo(a)",
          "Divorciado(a)",
          "Viúvo(a)",
          "Viúvo(a)",
          "Casado(a)",
          "Divorciado(a)",
          "Solteiro(a)",
          "Viúvo(a)",
          "Casado(a)",
          "Casado(a)",
          "Casado(a)",
          "Solteiro(a)",
          "Casado(a)",
          "Casado(a)",
          "Solteiro(a)",
          "Viúvo(a)",
          "Viúvo(a)",
          "Solteiro(a)",
          "Casado(a)",
          "Casado(a)",
          "Viúvo(a)",
          "Divorciado(a)",
          "Solteiro(a)",
          "Casado(a)",
          "Casado(a)",
          "Solteiro(a)",
          "Casado(a)",
          "Viúvo(a)",
          "Casado(a)",
          "Viúvo(a)",
          "Viúvo(a)",
          "Solteiro(a)",
          "Casado(a)",
          "Casado(a)",
          "Divorciado(a)",
          "Solteiro(a)",
          "Solteiro(a)",
          "Divorciado(a)",
          "Casado(a)",
          "Divorciado(a)",
          "Casado(a)",
          "Casado(a)",
          "Casado(a)",
          "Viúvo(a)",
          "Divorciado(a)",
          "Viúvo(a)",
          "Solteiro(a)",
          "Divorciado(a)",
          "Divorciado(a)",
          "Divorciado(a)",
          "Solteiro(a)",
          "Casado(a)",
          "Casado(a)",
          "Divorciado(a)",
          "Viúvo(a)",
          "Solteiro(a)",
          "Solteiro(a)",
          "Casado(a)",
          "Casado(a)",
          "Divorciado(a)",
          "Casado(a)",
          "Viúvo(a)",
          "Solteiro(a)",
          "Divorciado(a)",
          "Divorciado(a)",
          "Casado(a)",
          "Viúvo(a)",
          "Viúvo(a)",
          "Casado(a)",
          "Viúvo(a)",
          "Viúvo(a)",
          "Viúvo(a)",
          "Casado(a)",
          "Viúvo(a)",
          "Casado(a)",
          "Viúvo(a)",
          "Viúvo(a)",
          "Casado(a)",
          "Solteiro(a)",
          "Solteiro(a)",
          "Divorciado(a)",
          "Casado(a)",
          "Divorciado(a)",
          "Casado(a)",
          "Viúvo(a)",
          "Divorciado(a)",
          "Divorciado(a)",
          "Divorciado(a)",
          "Casado(a)",
          "Solteiro(a)",
          "Divorciado(a)",
          "Casado(a)",
          "Solteiro(a)",
          "Casado(a)",
          "Viúvo(a)",
          "Solteiro(a)",
          "Casado(a)",
          "Solteiro(a)",
          "Divorciado(a)",
          "Divorciado(a)",
          "Casado(a)",
          "Solteiro(a)",
          "Casado(a)",
          "Solteiro(a)",
          "Casado(a)",
          "Solteiro(a)",
          "Solteiro(a)",
          "Solteiro(a)",
          "Divorciado(a)",
          "Solteiro(a)",
          "Solteiro(a)",
          "Casado(a)",
          "Solteiro(a)",
          "Solteiro(a)",
          "Viúvo(a)",
          "Viúvo(a)",
          "Divorciado(a)",
          "Casado(a)",
          "Casado(a)",
          "Divorciado(a)",
          "Divorciado(a)",
          "Viúvo(a)",
          "Divorciado(a)",
          "Viúvo(a)",
          "Viúvo(a)",
          "Divorciado(a)",
          "Viúvo(a)",
          "Casado(a)",
          "Divorciado(a)",
          "Casado(a)",
          "Casado(a)",
          "Divorciado(a)",
          "Solteiro(a)",
          "Divorciado(a)",
          "Divorciado(a)",
          "Casado(a)",
          "Solteiro(a)",
          "Divorciado(a)",
          "Solteiro(a)",
          "Casado(a)",
          "Casado(a)",
          "Casado(a)",
          "Casado(a)",
          "Casado(a)",
          "Divorciado(a)",
          "Viúvo(a)",
          "Viúvo(a)",
          "Divorciado(a)",
          "Divorciado(a)",
          "Solteiro(a)",
          "Viúvo(a)",
          "Divorciado(a)",
          "Divorciado(a)",
          "Divorciado(a)",
          "Viúvo(a)",
          "Divorciado(a)",
          "Divorciado(a)",
          "Divorciado(a)",
          "Divorciado(a)",
          "Divorciado(a)",
          "Casado(a)",
          "Viúvo(a)",
          "Casado(a)",
          "Solteiro(a)",
          "Casado(a)",
          "Divorciado(a)",
          "Divorciado(a)",
          "Viúvo(a)",
          "Casado(a)",
          "Divorciado(a)",
          "Viúvo(a)",
          "Viúvo(a)",
          "Divorciado(a)",
          "Viúvo(a)",
          "Viúvo(a)",
          "Casado(a)",
          "Divorciado(a)",
          "Divorciado(a)",
          "Casado(a)",
          "Divorciado(a)",
          "Casado(a)",
          "Casado(a)",
          "Casado(a)",
          "Viúvo(a)",
          "Viúvo(a)",
          "Divorciado(a)",
          "Viúvo(a)",
          "Viúvo(a)",
          "Casado(a)",
          "Divorciado(a)",
          "Viúvo(a)",
          "Divorciado(a)",
          "Solteiro(a)",
          "Viúvo(a)",
          "Viúvo(a)",
          "Divorciado(a)",
          "Casado(a)",
          "Viúvo(a)",
          "Viúvo(a)",
          "Viúvo(a)",
          "Solteiro(a)",
          "Viúvo(a)",
          "Divorciado(a)",
          "Solteiro(a)",
          "Viúvo(a)",
          "Viúvo(a)",
          "Divorciado(a)",
          "Divorciado(a)",
          "Viúvo(a)",
          "Divorciado(a)",
          "Viúvo(a)",
          "Viúvo(a)",
          "Divorciado(a)",
          "Casado(a)",
          "Divorciado(a)",
          "Viúvo(a)",
          "Viúvo(a)",
          "Solteiro(a)",
          "Solteiro(a)",
          "Solteiro(a)",
          "Viúvo(a)",
          "Solteiro(a)",
          "Solteiro(a)",
          "Casado(a)",
          "Casado(a)",
          "Viúvo(a)",
          "Solteiro(a)",
          "Casado(a)",
          "Solteiro(a)",
          "Divorciado(a)",
          "Viúvo(a)",
          "Viúvo(a)",
          "Solteiro(a)",
          "Viúvo(a)",
          "Viúvo(a)",
          "Viúvo(a)",
          "Casado(a)",
          "Casado(a)",
          "Viúvo(a)",
          "Divorciado(a)",
          "Viúvo(a)",
          "Divorciado(a)",
          "Viúvo(a)",
          "Casado(a)",
          "Casado(a)",
          "Divorciado(a)",
          "Viúvo(a)",
          "Solteiro(a)",
          "Viúvo(a)",
          "Divorciado(a)",
          "Casado(a)",
          "Divorciado(a)",
          "Divorciado(a)",
          "Casado(a)",
          "Casado(a)",
          "Viúvo(a)",
          "Solteiro(a)",
          "Divorciado(a)",
          "Divorciado(a)",
          "Solteiro(a)",
          "Solteiro(a)",
          "Viúvo(a)",
          "Divorciado(a)",
          "Solteiro(a)",
          "Solteiro(a)",
          "Viúvo(a)",
          "Solteiro(a)",
          "Viúvo(a)",
          "Solteiro(a)",
          "Viúvo(a)",
          "Divorciado(a)",
          "Casado(a)",
          "Casado(a)",
          "Casado(a)",
          "Divorciado(a)",
          "Viúvo(a)",
          "Viúvo(a)",
          "Solteiro(a)",
          "Viúvo(a)",
          "Viúvo(a)",
          "Divorciado(a)",
          "Casado(a)",
          "Viúvo(a)",
          "Casado(a)",
          "Solteiro(a)",
          "Solteiro(a)",
          "Viúvo(a)",
          "Viúvo(a)",
          "Divorciado(a)",
          "Solteiro(a)",
          "Casado(a)",
          "Viúvo(a)",
          "Solteiro(a)",
          "Casado(a)",
          "Viúvo(a)",
          "Solteiro(a)",
          "Solteiro(a)",
          "Divorciado(a)",
          "Solteiro(a)",
          "Casado(a)",
          "Divorciado(a)",
          "Viúvo(a)",
          "Casado(a)",
          "Viúvo(a)",
          "Divorciado(a)",
          "Casado(a)",
          "Solteiro(a)",
          "Viúvo(a)",
          "Viúvo(a)",
          "Solteiro(a)",
          "Casado(a)",
          "Viúvo(a)",
          "Casado(a)",
          "Divorciado(a)",
          "Divorciado(a)",
          "Divorciado(a)",
          "Casado(a)",
          "Casado(a)",
          "Casado(a)",
          "Casado(a)",
          "Divorciado(a)",
          "Solteiro(a)",
          "Divorciado(a)",
          "Solteiro(a)",
          "Solteiro(a)",
          "Casado(a)",
          "Viúvo(a)",
          "Viúvo(a)",
          "Viúvo(a)",
          "Casado(a)",
          "Solteiro(a)",
          "Divorciado(a)",
          "Solteiro(a)",
          "Viúvo(a)",
          "Casado(a)",
          "Casado(a)",
          "Viúvo(a)",
          "Casado(a)",
          "Solteiro(a)",
          "Solteiro(a)",
          "Casado(a)",
          "Divorciado(a)",
          "Divorciado(a)",
          "Divorciado(a)",
          "Casado(a)",
          "Solteiro(a)",
          "Divorciado(a)",
          "Divorciado(a)",
          "Casado(a)",
          "Divorciado(a)",
          "Solteiro(a)",
          "Divorciado(a)",
          "Divorciado(a)",
          "Viúvo(a)",
          "Viúvo(a)",
          "Divorciado(a)",
          "Divorciado(a)",
          "Divorciado(a)",
          "Casado(a)",
          "Solteiro(a)",
          "Solteiro(a)",
          "Divorciado(a)",
          "Solteiro(a)",
          "Viúvo(a)",
          "Casado(a)",
          "Solteiro(a)",
          "Divorciado(a)",
          "Solteiro(a)",
          "Viúvo(a)",
          "Solteiro(a)",
          "Casado(a)",
          "Divorciado(a)",
          "Viúvo(a)",
          "Viúvo(a)",
          "Viúvo(a)",
          "Divorciado(a)",
          "Divorciado(a)",
          "Solteiro(a)",
          "Casado(a)",
          "Solteiro(a)",
          "Divorciado(a)",
          "Casado(a)",
          "Viúvo(a)",
          "Divorciado(a)",
          "Viúvo(a)",
          "Solteiro(a)",
          "Casado(a)",
          "Divorciado(a)",
          "Casado(a)",
          "Divorciado(a)",
          "Casado(a)",
          "Viúvo(a)",
          "Solteiro(a)",
          "Divorciado(a)",
          "Casado(a)",
          "Divorciado(a)",
          "Divorciado(a)",
          "Solteiro(a)",
          "Divorciado(a)",
          "Casado(a)",
          "Casado(a)",
          "Solteiro(a)",
          "Divorciado(a)",
          "Solteiro(a)",
          "Solteiro(a)",
          "Solteiro(a)",
          "Solteiro(a)",
          "Solteiro(a)",
          "Viúvo(a)",
          "Solteiro(a)",
          "Casado(a)",
          "Viúvo(a)",
          "Divorciado(a)",
          "Viúvo(a)",
          "Viúvo(a)",
          "Divorciado(a)",
          "Casado(a)",
          "Viúvo(a)",
          "Solteiro(a)",
          "Viúvo(a)",
          "Viúvo(a)",
          "Divorciado(a)",
          "Casado(a)",
          "Casado(a)",
          "Viúvo(a)",
          "Viúvo(a)",
          "Viúvo(a)",
          "Solteiro(a)",
          "Solteiro(a)",
          "Casado(a)",
          "Casado(a)",
          "Divorciado(a)",
          "Casado(a)",
          "Solteiro(a)",
          "Viúvo(a)",
          "Viúvo(a)",
          "Casado(a)",
          "Casado(a)",
          "Solteiro(a)",
          "Solteiro(a)",
          "Viúvo(a)",
          "Casado(a)",
          "Viúvo(a)",
          "Viúvo(a)",
          "Viúvo(a)",
          "Casado(a)",
          "Casado(a)",
          "Casado(a)",
          "Solteiro(a)",
          "Divorciado(a)",
          "Viúvo(a)",
          "Divorciado(a)",
          "Divorciado(a)",
          "Divorciado(a)",
          "Solteiro(a)",
          "Solteiro(a)",
          "Solteiro(a)",
          "Solteiro(a)",
          "Divorciado(a)",
          "Divorciado(a)",
          "Casado(a)",
          "Solteiro(a)",
          "Viúvo(a)",
          "Casado(a)",
          "Solteiro(a)",
          "Divorciado(a)",
          "Viúvo(a)",
          "Viúvo(a)",
          "Solteiro(a)",
          "Viúvo(a)",
          "Divorciado(a)",
          "Viúvo(a)",
          "Solteiro(a)",
          "Divorciado(a)",
          "Casado(a)",
          "Viúvo(a)",
          "Casado(a)",
          "Solteiro(a)",
          "Solteiro(a)",
          "Viúvo(a)",
          "Casado(a)",
          "Casado(a)",
          "Casado(a)",
          "Solteiro(a)",
          "Casado(a)",
          "Viúvo(a)",
          "Solteiro(a)",
          "Viúvo(a)",
          "Casado(a)",
          "Solteiro(a)",
          "Solteiro(a)",
          "Casado(a)",
          "Casado(a)",
          "Viúvo(a)",
          "Viúvo(a)",
          "Divorciado(a)",
          "Casado(a)",
          "Divorciado(a)",
          "Viúvo(a)",
          "Viúvo(a)",
          "Solteiro(a)",
          "Viúvo(a)",
          "Solteiro(a)",
          "Viúvo(a)",
          "Solteiro(a)",
          "Viúvo(a)",
          "Casado(a)",
          "Casado(a)",
          "Solteiro(a)",
          "Solteiro(a)",
          "Divorciado(a)",
          "Divorciado(a)",
          "Divorciado(a)",
          "Viúvo(a)",
          "Casado(a)",
          "Solteiro(a)",
          "Casado(a)",
          "Casado(a)",
          "Divorciado(a)",
          "Divorciado(a)",
          "Solteiro(a)",
          "Divorciado(a)",
          "Divorciado(a)",
          "Casado(a)",
          "Solteiro(a)",
          "Solteiro(a)",
          "Viúvo(a)",
          "Casado(a)",
          "Solteiro(a)",
          "Solteiro(a)",
          "Viúvo(a)",
          "Viúvo(a)",
          "Viúvo(a)",
          "Casado(a)",
          "Casado(a)",
          "Solteiro(a)",
          "Casado(a)",
          "Viúvo(a)",
          "Viúvo(a)",
          "Viúvo(a)",
          "Divorciado(a)",
          "Solteiro(a)",
          "Divorciado(a)",
          "Divorciado(a)",
          "Casado(a)",
          "Viúvo(a)",
          "Casado(a)",
          "Solteiro(a)",
          "Divorciado(a)",
          "Casado(a)",
          "Viúvo(a)",
          "Solteiro(a)",
          "Casado(a)",
          "Solteiro(a)",
          "Solteiro(a)",
          "Divorciado(a)",
          "Divorciado(a)",
          "Solteiro(a)",
          "Solteiro(a)",
          "Casado(a)",
          "Viúvo(a)",
          "Casado(a)",
          "Divorciado(a)",
          "Casado(a)",
          "Casado(a)",
          "Divorciado(a)",
          "Divorciado(a)",
          "Divorciado(a)",
          "Viúvo(a)",
          "Divorciado(a)",
          "Divorciado(a)",
          "Viúvo(a)",
          "Divorciado(a)",
          "Viúvo(a)",
          "Viúvo(a)",
          "Solteiro(a)",
          "Casado(a)",
          "Viúvo(a)",
          "Solteiro(a)",
          "Viúvo(a)",
          "Solteiro(a)",
          "Casado(a)",
          "Casado(a)",
          "Divorciado(a)",
          "Casado(a)",
          "Solteiro(a)",
          "Divorciado(a)",
          "Solteiro(a)",
          "Solteiro(a)",
          "Viúvo(a)",
          "Divorciado(a)",
          "Divorciado(a)",
          "Casado(a)",
          "Viúvo(a)",
          "Solteiro(a)",
          "Viúvo(a)",
          "Solteiro(a)",
          "Casado(a)",
          "Viúvo(a)",
          "Divorciado(a)",
          "Casado(a)",
          "Divorciado(a)",
          "Solteiro(a)",
          "Divorciado(a)",
          "Divorciado(a)",
          "Divorciado(a)",
          "Casado(a)",
          "Casado(a)",
          "Viúvo(a)",
          "Viúvo(a)",
          "Casado(a)",
          "Solteiro(a)",
          "Solteiro(a)",
          "Viúvo(a)",
          "Solteiro(a)",
          "Casado(a)",
          "Divorciado(a)",
          "Solteiro(a)",
          "Divorciado(a)",
          "Casado(a)",
          "Casado(a)",
          "Casado(a)",
          "Solteiro(a)",
          "Viúvo(a)",
          "Divorciado(a)",
          "Viúvo(a)",
          "Casado(a)",
          "Solteiro(a)",
          "Viúvo(a)",
          "Viúvo(a)",
          "Viúvo(a)",
          "Solteiro(a)"
         ],
         "xaxis": "x",
         "yaxis": "y"
        },
        {
         "alignmentgroup": "True",
         "bingroup": "x",
         "hovertemplate": "churn=1<br>estado_civil=%{x}<br>count=%{y}<extra></extra>",
         "legendgroup": "1",
         "marker": {
          "color": "#EF553B",
          "pattern": {
           "shape": ""
          }
         },
         "name": "1",
         "offsetgroup": "1",
         "orientation": "v",
         "showlegend": true,
         "type": "histogram",
         "x": [
          "Casado(a)",
          "Viúvo(a)",
          "Viúvo(a)",
          "Casado(a)",
          "Viúvo(a)",
          "Divorciado(a)",
          "Solteiro(a)",
          "Divorciado(a)",
          "Casado(a)",
          "Solteiro(a)",
          "Divorciado(a)",
          "Solteiro(a)",
          "Solteiro(a)",
          "Viúvo(a)",
          "Casado(a)",
          "Viúvo(a)",
          "Divorciado(a)",
          "Divorciado(a)",
          "Divorciado(a)",
          "Solteiro(a)",
          "Casado(a)",
          "Casado(a)",
          "Viúvo(a)",
          "Divorciado(a)",
          "Viúvo(a)",
          "Viúvo(a)",
          "Divorciado(a)",
          "Casado(a)",
          "Solteiro(a)",
          "Viúvo(a)",
          "Divorciado(a)",
          "Divorciado(a)",
          "Casado(a)",
          "Divorciado(a)",
          "Viúvo(a)",
          "Solteiro(a)",
          "Casado(a)",
          "Divorciado(a)",
          "Solteiro(a)",
          "Solteiro(a)",
          "Solteiro(a)",
          "Divorciado(a)",
          "Viúvo(a)",
          "Solteiro(a)",
          "Casado(a)",
          "Solteiro(a)",
          "Solteiro(a)",
          "Solteiro(a)",
          "Solteiro(a)",
          "Divorciado(a)",
          "Solteiro(a)",
          "Divorciado(a)",
          "Viúvo(a)",
          "Viúvo(a)",
          "Casado(a)",
          "Casado(a)",
          "Viúvo(a)",
          "Solteiro(a)",
          "Casado(a)",
          "Divorciado(a)",
          "Casado(a)",
          "Solteiro(a)",
          "Solteiro(a)",
          "Solteiro(a)",
          "Casado(a)",
          "Divorciado(a)",
          "Divorciado(a)",
          "Viúvo(a)",
          "Solteiro(a)",
          "Viúvo(a)",
          "Divorciado(a)",
          "Casado(a)",
          "Casado(a)",
          "Viúvo(a)",
          "Solteiro(a)",
          "Casado(a)",
          "Divorciado(a)",
          "Divorciado(a)",
          "Viúvo(a)",
          "Viúvo(a)",
          "Viúvo(a)",
          "Casado(a)",
          "Viúvo(a)",
          "Viúvo(a)",
          "Divorciado(a)",
          "Casado(a)",
          "Divorciado(a)",
          "Viúvo(a)",
          "Divorciado(a)",
          "Viúvo(a)",
          "Viúvo(a)",
          "Casado(a)",
          "Viúvo(a)",
          "Solteiro(a)",
          "Divorciado(a)",
          "Solteiro(a)",
          "Divorciado(a)",
          "Viúvo(a)",
          "Solteiro(a)",
          "Viúvo(a)",
          "Solteiro(a)",
          "Divorciado(a)",
          "Casado(a)",
          "Casado(a)",
          "Divorciado(a)",
          "Viúvo(a)",
          "Casado(a)",
          "Divorciado(a)",
          "Viúvo(a)",
          "Viúvo(a)",
          "Viúvo(a)",
          "Viúvo(a)",
          "Viúvo(a)",
          "Solteiro(a)",
          "Solteiro(a)",
          "Casado(a)",
          "Viúvo(a)",
          "Casado(a)",
          "Solteiro(a)",
          "Divorciado(a)",
          "Viúvo(a)",
          "Viúvo(a)",
          "Solteiro(a)",
          "Viúvo(a)",
          "Viúvo(a)",
          "Divorciado(a)",
          "Divorciado(a)",
          "Viúvo(a)",
          "Casado(a)",
          "Solteiro(a)",
          "Casado(a)",
          "Casado(a)",
          "Solteiro(a)",
          "Viúvo(a)",
          "Solteiro(a)",
          "Solteiro(a)",
          "Viúvo(a)",
          "Viúvo(a)",
          "Divorciado(a)",
          "Viúvo(a)",
          "Solteiro(a)",
          "Solteiro(a)",
          "Viúvo(a)",
          "Viúvo(a)",
          "Viúvo(a)",
          "Casado(a)",
          "Casado(a)",
          "Solteiro(a)",
          "Divorciado(a)",
          "Casado(a)",
          "Divorciado(a)",
          "Solteiro(a)",
          "Viúvo(a)",
          "Divorciado(a)",
          "Divorciado(a)",
          "Divorciado(a)",
          "Divorciado(a)",
          "Viúvo(a)",
          "Casado(a)",
          "Casado(a)",
          "Divorciado(a)",
          "Viúvo(a)",
          "Solteiro(a)",
          "Solteiro(a)",
          "Casado(a)",
          "Casado(a)",
          "Casado(a)",
          "Viúvo(a)",
          "Viúvo(a)",
          "Casado(a)",
          "Divorciado(a)",
          "Divorciado(a)",
          "Solteiro(a)",
          "Casado(a)",
          "Casado(a)",
          "Casado(a)",
          "Solteiro(a)",
          "Casado(a)",
          "Solteiro(a)",
          "Solteiro(a)",
          "Divorciado(a)",
          "Divorciado(a)",
          "Viúvo(a)",
          "Divorciado(a)",
          "Casado(a)",
          "Casado(a)",
          "Divorciado(a)",
          "Casado(a)",
          "Solteiro(a)",
          "Solteiro(a)",
          "Solteiro(a)",
          "Viúvo(a)",
          "Viúvo(a)",
          "Casado(a)",
          "Divorciado(a)",
          "Casado(a)",
          "Divorciado(a)",
          "Casado(a)",
          "Divorciado(a)",
          "Viúvo(a)",
          "Solteiro(a)",
          "Solteiro(a)",
          "Divorciado(a)",
          "Casado(a)",
          "Viúvo(a)",
          "Solteiro(a)",
          "Solteiro(a)",
          "Casado(a)",
          "Solteiro(a)",
          "Solteiro(a)",
          "Casado(a)",
          "Divorciado(a)",
          "Casado(a)",
          "Viúvo(a)",
          "Casado(a)",
          "Divorciado(a)",
          "Viúvo(a)",
          "Divorciado(a)",
          "Casado(a)",
          "Casado(a)",
          "Divorciado(a)",
          "Divorciado(a)",
          "Solteiro(a)",
          "Divorciado(a)",
          "Solteiro(a)",
          "Viúvo(a)",
          "Solteiro(a)",
          "Solteiro(a)",
          "Divorciado(a)",
          "Casado(a)",
          "Divorciado(a)",
          "Casado(a)",
          "Casado(a)",
          "Solteiro(a)",
          "Divorciado(a)",
          "Casado(a)",
          "Divorciado(a)",
          "Divorciado(a)",
          "Solteiro(a)",
          "Casado(a)",
          "Solteiro(a)",
          "Casado(a)",
          "Divorciado(a)",
          "Viúvo(a)",
          "Viúvo(a)",
          "Viúvo(a)",
          "Divorciado(a)",
          "Divorciado(a)",
          "Solteiro(a)",
          "Solteiro(a)",
          "Divorciado(a)",
          "Viúvo(a)",
          "Solteiro(a)",
          "Viúvo(a)",
          "Divorciado(a)",
          "Casado(a)",
          "Viúvo(a)",
          "Casado(a)",
          "Viúvo(a)",
          "Casado(a)",
          "Viúvo(a)",
          "Divorciado(a)",
          "Casado(a)",
          "Solteiro(a)",
          "Viúvo(a)",
          "Casado(a)",
          "Viúvo(a)",
          "Divorciado(a)",
          "Divorciado(a)",
          "Solteiro(a)",
          "Solteiro(a)",
          "Casado(a)",
          "Viúvo(a)",
          "Viúvo(a)",
          "Divorciado(a)",
          "Viúvo(a)",
          "Solteiro(a)",
          "Viúvo(a)",
          "Solteiro(a)",
          "Viúvo(a)",
          "Viúvo(a)",
          "Solteiro(a)",
          "Solteiro(a)",
          "Divorciado(a)",
          "Divorciado(a)",
          "Divorciado(a)"
         ],
         "xaxis": "x",
         "yaxis": "y"
        }
       ],
       "layout": {
        "barmode": "group",
        "legend": {
         "title": {
          "text": "churn"
         },
         "tracegroupgap": 0
        },
        "template": {
         "data": {
          "bar": [
           {
            "error_x": {
             "color": "#2a3f5f"
            },
            "error_y": {
             "color": "#2a3f5f"
            },
            "marker": {
             "line": {
              "color": "#E5ECF6",
              "width": 0.5
             },
             "pattern": {
              "fillmode": "overlay",
              "size": 10,
              "solidity": 0.2
             }
            },
            "type": "bar"
           }
          ],
          "barpolar": [
           {
            "marker": {
             "line": {
              "color": "#E5ECF6",
              "width": 0.5
             },
             "pattern": {
              "fillmode": "overlay",
              "size": 10,
              "solidity": 0.2
             }
            },
            "type": "barpolar"
           }
          ],
          "carpet": [
           {
            "aaxis": {
             "endlinecolor": "#2a3f5f",
             "gridcolor": "white",
             "linecolor": "white",
             "minorgridcolor": "white",
             "startlinecolor": "#2a3f5f"
            },
            "baxis": {
             "endlinecolor": "#2a3f5f",
             "gridcolor": "white",
             "linecolor": "white",
             "minorgridcolor": "white",
             "startlinecolor": "#2a3f5f"
            },
            "type": "carpet"
           }
          ],
          "choropleth": [
           {
            "colorbar": {
             "outlinewidth": 0,
             "ticks": ""
            },
            "type": "choropleth"
           }
          ],
          "contour": [
           {
            "colorbar": {
             "outlinewidth": 0,
             "ticks": ""
            },
            "colorscale": [
             [
              0,
              "#0d0887"
             ],
             [
              0.1111111111111111,
              "#46039f"
             ],
             [
              0.2222222222222222,
              "#7201a8"
             ],
             [
              0.3333333333333333,
              "#9c179e"
             ],
             [
              0.4444444444444444,
              "#bd3786"
             ],
             [
              0.5555555555555556,
              "#d8576b"
             ],
             [
              0.6666666666666666,
              "#ed7953"
             ],
             [
              0.7777777777777778,
              "#fb9f3a"
             ],
             [
              0.8888888888888888,
              "#fdca26"
             ],
             [
              1,
              "#f0f921"
             ]
            ],
            "type": "contour"
           }
          ],
          "contourcarpet": [
           {
            "colorbar": {
             "outlinewidth": 0,
             "ticks": ""
            },
            "type": "contourcarpet"
           }
          ],
          "heatmap": [
           {
            "colorbar": {
             "outlinewidth": 0,
             "ticks": ""
            },
            "colorscale": [
             [
              0,
              "#0d0887"
             ],
             [
              0.1111111111111111,
              "#46039f"
             ],
             [
              0.2222222222222222,
              "#7201a8"
             ],
             [
              0.3333333333333333,
              "#9c179e"
             ],
             [
              0.4444444444444444,
              "#bd3786"
             ],
             [
              0.5555555555555556,
              "#d8576b"
             ],
             [
              0.6666666666666666,
              "#ed7953"
             ],
             [
              0.7777777777777778,
              "#fb9f3a"
             ],
             [
              0.8888888888888888,
              "#fdca26"
             ],
             [
              1,
              "#f0f921"
             ]
            ],
            "type": "heatmap"
           }
          ],
          "histogram": [
           {
            "marker": {
             "pattern": {
              "fillmode": "overlay",
              "size": 10,
              "solidity": 0.2
             }
            },
            "type": "histogram"
           }
          ],
          "histogram2d": [
           {
            "colorbar": {
             "outlinewidth": 0,
             "ticks": ""
            },
            "colorscale": [
             [
              0,
              "#0d0887"
             ],
             [
              0.1111111111111111,
              "#46039f"
             ],
             [
              0.2222222222222222,
              "#7201a8"
             ],
             [
              0.3333333333333333,
              "#9c179e"
             ],
             [
              0.4444444444444444,
              "#bd3786"
             ],
             [
              0.5555555555555556,
              "#d8576b"
             ],
             [
              0.6666666666666666,
              "#ed7953"
             ],
             [
              0.7777777777777778,
              "#fb9f3a"
             ],
             [
              0.8888888888888888,
              "#fdca26"
             ],
             [
              1,
              "#f0f921"
             ]
            ],
            "type": "histogram2d"
           }
          ],
          "histogram2dcontour": [
           {
            "colorbar": {
             "outlinewidth": 0,
             "ticks": ""
            },
            "colorscale": [
             [
              0,
              "#0d0887"
             ],
             [
              0.1111111111111111,
              "#46039f"
             ],
             [
              0.2222222222222222,
              "#7201a8"
             ],
             [
              0.3333333333333333,
              "#9c179e"
             ],
             [
              0.4444444444444444,
              "#bd3786"
             ],
             [
              0.5555555555555556,
              "#d8576b"
             ],
             [
              0.6666666666666666,
              "#ed7953"
             ],
             [
              0.7777777777777778,
              "#fb9f3a"
             ],
             [
              0.8888888888888888,
              "#fdca26"
             ],
             [
              1,
              "#f0f921"
             ]
            ],
            "type": "histogram2dcontour"
           }
          ],
          "mesh3d": [
           {
            "colorbar": {
             "outlinewidth": 0,
             "ticks": ""
            },
            "type": "mesh3d"
           }
          ],
          "parcoords": [
           {
            "line": {
             "colorbar": {
              "outlinewidth": 0,
              "ticks": ""
             }
            },
            "type": "parcoords"
           }
          ],
          "pie": [
           {
            "automargin": true,
            "type": "pie"
           }
          ],
          "scatter": [
           {
            "fillpattern": {
             "fillmode": "overlay",
             "size": 10,
             "solidity": 0.2
            },
            "type": "scatter"
           }
          ],
          "scatter3d": [
           {
            "line": {
             "colorbar": {
              "outlinewidth": 0,
              "ticks": ""
             }
            },
            "marker": {
             "colorbar": {
              "outlinewidth": 0,
              "ticks": ""
             }
            },
            "type": "scatter3d"
           }
          ],
          "scattercarpet": [
           {
            "marker": {
             "colorbar": {
              "outlinewidth": 0,
              "ticks": ""
             }
            },
            "type": "scattercarpet"
           }
          ],
          "scattergeo": [
           {
            "marker": {
             "colorbar": {
              "outlinewidth": 0,
              "ticks": ""
             }
            },
            "type": "scattergeo"
           }
          ],
          "scattergl": [
           {
            "marker": {
             "colorbar": {
              "outlinewidth": 0,
              "ticks": ""
             }
            },
            "type": "scattergl"
           }
          ],
          "scattermap": [
           {
            "marker": {
             "colorbar": {
              "outlinewidth": 0,
              "ticks": ""
             }
            },
            "type": "scattermap"
           }
          ],
          "scattermapbox": [
           {
            "marker": {
             "colorbar": {
              "outlinewidth": 0,
              "ticks": ""
             }
            },
            "type": "scattermapbox"
           }
          ],
          "scatterpolar": [
           {
            "marker": {
             "colorbar": {
              "outlinewidth": 0,
              "ticks": ""
             }
            },
            "type": "scatterpolar"
           }
          ],
          "scatterpolargl": [
           {
            "marker": {
             "colorbar": {
              "outlinewidth": 0,
              "ticks": ""
             }
            },
            "type": "scatterpolargl"
           }
          ],
          "scatterternary": [
           {
            "marker": {
             "colorbar": {
              "outlinewidth": 0,
              "ticks": ""
             }
            },
            "type": "scatterternary"
           }
          ],
          "surface": [
           {
            "colorbar": {
             "outlinewidth": 0,
             "ticks": ""
            },
            "colorscale": [
             [
              0,
              "#0d0887"
             ],
             [
              0.1111111111111111,
              "#46039f"
             ],
             [
              0.2222222222222222,
              "#7201a8"
             ],
             [
              0.3333333333333333,
              "#9c179e"
             ],
             [
              0.4444444444444444,
              "#bd3786"
             ],
             [
              0.5555555555555556,
              "#d8576b"
             ],
             [
              0.6666666666666666,
              "#ed7953"
             ],
             [
              0.7777777777777778,
              "#fb9f3a"
             ],
             [
              0.8888888888888888,
              "#fdca26"
             ],
             [
              1,
              "#f0f921"
             ]
            ],
            "type": "surface"
           }
          ],
          "table": [
           {
            "cells": {
             "fill": {
              "color": "#EBF0F8"
             },
             "line": {
              "color": "white"
             }
            },
            "header": {
             "fill": {
              "color": "#C8D4E3"
             },
             "line": {
              "color": "white"
             }
            },
            "type": "table"
           }
          ]
         },
         "layout": {
          "annotationdefaults": {
           "arrowcolor": "#2a3f5f",
           "arrowhead": 0,
           "arrowwidth": 1
          },
          "autotypenumbers": "strict",
          "coloraxis": {
           "colorbar": {
            "outlinewidth": 0,
            "ticks": ""
           }
          },
          "colorscale": {
           "diverging": [
            [
             0,
             "#8e0152"
            ],
            [
             0.1,
             "#c51b7d"
            ],
            [
             0.2,
             "#de77ae"
            ],
            [
             0.3,
             "#f1b6da"
            ],
            [
             0.4,
             "#fde0ef"
            ],
            [
             0.5,
             "#f7f7f7"
            ],
            [
             0.6,
             "#e6f5d0"
            ],
            [
             0.7,
             "#b8e186"
            ],
            [
             0.8,
             "#7fbc41"
            ],
            [
             0.9,
             "#4d9221"
            ],
            [
             1,
             "#276419"
            ]
           ],
           "sequential": [
            [
             0,
             "#0d0887"
            ],
            [
             0.1111111111111111,
             "#46039f"
            ],
            [
             0.2222222222222222,
             "#7201a8"
            ],
            [
             0.3333333333333333,
             "#9c179e"
            ],
            [
             0.4444444444444444,
             "#bd3786"
            ],
            [
             0.5555555555555556,
             "#d8576b"
            ],
            [
             0.6666666666666666,
             "#ed7953"
            ],
            [
             0.7777777777777778,
             "#fb9f3a"
            ],
            [
             0.8888888888888888,
             "#fdca26"
            ],
            [
             1,
             "#f0f921"
            ]
           ],
           "sequentialminus": [
            [
             0,
             "#0d0887"
            ],
            [
             0.1111111111111111,
             "#46039f"
            ],
            [
             0.2222222222222222,
             "#7201a8"
            ],
            [
             0.3333333333333333,
             "#9c179e"
            ],
            [
             0.4444444444444444,
             "#bd3786"
            ],
            [
             0.5555555555555556,
             "#d8576b"
            ],
            [
             0.6666666666666666,
             "#ed7953"
            ],
            [
             0.7777777777777778,
             "#fb9f3a"
            ],
            [
             0.8888888888888888,
             "#fdca26"
            ],
            [
             1,
             "#f0f921"
            ]
           ]
          },
          "colorway": [
           "#636efa",
           "#EF553B",
           "#00cc96",
           "#ab63fa",
           "#FFA15A",
           "#19d3f3",
           "#FF6692",
           "#B6E880",
           "#FF97FF",
           "#FECB52"
          ],
          "font": {
           "color": "#2a3f5f"
          },
          "geo": {
           "bgcolor": "white",
           "lakecolor": "white",
           "landcolor": "#E5ECF6",
           "showlakes": true,
           "showland": true,
           "subunitcolor": "white"
          },
          "hoverlabel": {
           "align": "left"
          },
          "hovermode": "closest",
          "mapbox": {
           "style": "light"
          },
          "paper_bgcolor": "white",
          "plot_bgcolor": "#E5ECF6",
          "polar": {
           "angularaxis": {
            "gridcolor": "white",
            "linecolor": "white",
            "ticks": ""
           },
           "bgcolor": "#E5ECF6",
           "radialaxis": {
            "gridcolor": "white",
            "linecolor": "white",
            "ticks": ""
           }
          },
          "scene": {
           "xaxis": {
            "backgroundcolor": "#E5ECF6",
            "gridcolor": "white",
            "gridwidth": 2,
            "linecolor": "white",
            "showbackground": true,
            "ticks": "",
            "zerolinecolor": "white"
           },
           "yaxis": {
            "backgroundcolor": "#E5ECF6",
            "gridcolor": "white",
            "gridwidth": 2,
            "linecolor": "white",
            "showbackground": true,
            "ticks": "",
            "zerolinecolor": "white"
           },
           "zaxis": {
            "backgroundcolor": "#E5ECF6",
            "gridcolor": "white",
            "gridwidth": 2,
            "linecolor": "white",
            "showbackground": true,
            "ticks": "",
            "zerolinecolor": "white"
           }
          },
          "shapedefaults": {
           "line": {
            "color": "#2a3f5f"
           }
          },
          "ternary": {
           "aaxis": {
            "gridcolor": "white",
            "linecolor": "white",
            "ticks": ""
           },
           "baxis": {
            "gridcolor": "white",
            "linecolor": "white",
            "ticks": ""
           },
           "bgcolor": "#E5ECF6",
           "caxis": {
            "gridcolor": "white",
            "linecolor": "white",
            "ticks": ""
           }
          },
          "title": {
           "x": 0.05
          },
          "xaxis": {
           "automargin": true,
           "gridcolor": "white",
           "linecolor": "white",
           "ticks": "",
           "title": {
            "standoff": 15
           },
           "zerolinecolor": "white",
           "zerolinewidth": 2
          },
          "yaxis": {
           "automargin": true,
           "gridcolor": "white",
           "linecolor": "white",
           "ticks": "",
           "title": {
            "standoff": 15
           },
           "zerolinecolor": "white",
           "zerolinewidth": 2
          }
         }
        },
        "title": {
         "text": "Histograma da coluna estado_civil"
        },
        "xaxis": {
         "anchor": "y",
         "domain": [
          0,
          1
         ],
         "title": {
          "text": "estado_civil"
         }
        },
        "yaxis": {
         "anchor": "x",
         "domain": [
          0,
          1
         ],
         "title": {
          "text": "count"
         }
        }
       }
      }
     },
     "metadata": {},
     "output_type": "display_data"
    },
    {
     "data": {
      "application/vnd.plotly.v1+json": {
       "config": {
        "plotlyServerURL": "https://plot.ly"
       },
       "data": [
        {
         "alignmentgroup": "True",
         "bingroup": "x",
         "hovertemplate": "churn=0<br>educacao=%{x}<br>count=%{y}<extra></extra>",
         "legendgroup": "0",
         "marker": {
          "color": "#636efa",
          "pattern": {
           "shape": ""
          }
         },
         "name": "0",
         "offsetgroup": "0",
         "orientation": "v",
         "showlegend": true,
         "type": "histogram",
         "x": [
          "Master",
          "Master",
          "Technical Degree",
          "Bachelor",
          "PhD",
          "Technical Degree",
          "PhD",
          "Technical Degree",
          "PhD",
          "PhD",
          "PhD",
          "Master",
          "PhD",
          "Master",
          "Master",
          "Bachelor",
          "PhD",
          "Master",
          "Technical Degree",
          "PhD",
          "Master",
          "Technical Degree",
          "Master",
          "PhD",
          "Technical Degree",
          "Master",
          "Technical Degree",
          "Bachelor",
          "Bachelor",
          "Bachelor",
          "PhD",
          "Master",
          "Master",
          "Technical Degree",
          "Master",
          "Technical Degree",
          "Master",
          "Master",
          "Master",
          "Master",
          "Master",
          "PhD",
          "PhD",
          "Technical Degree",
          "Master",
          "Master",
          "Master",
          "Master",
          "Bachelor",
          "Technical Degree",
          "PhD",
          "Bachelor",
          "Master",
          "Bachelor",
          "Bachelor",
          "Master",
          "PhD",
          "Bachelor",
          "Bachelor",
          "Master",
          "PhD",
          "Technical Degree",
          "Master",
          "Master",
          "Bachelor",
          "Master",
          "Master",
          "PhD",
          "PhD",
          "Technical Degree",
          "Bachelor",
          "Bachelor",
          "Master",
          "Technical Degree",
          "Bachelor",
          "Master",
          "Master",
          "Master",
          "PhD",
          "Bachelor",
          "Master",
          "Technical Degree",
          "Technical Degree",
          "Technical Degree",
          "Master",
          "Technical Degree",
          "PhD",
          "Master",
          "PhD",
          "Technical Degree",
          "Master",
          "Master",
          "Technical Degree",
          "Technical Degree",
          "PhD",
          "Master",
          "Master",
          "Bachelor",
          "PhD",
          "PhD",
          "Bachelor",
          "Bachelor",
          "PhD",
          "Master",
          "Technical Degree",
          "Technical Degree",
          "Bachelor",
          "Bachelor",
          "Bachelor",
          "Master",
          "Master",
          "Master",
          "Master",
          "Bachelor",
          "PhD",
          "PhD",
          "Technical Degree",
          "PhD",
          "Technical Degree",
          "Master",
          "Master",
          "Technical Degree",
          "Bachelor",
          "Master",
          "Master",
          "Bachelor",
          "Technical Degree",
          "Master",
          "Bachelor",
          "Master",
          "Master",
          "PhD",
          "PhD",
          "Bachelor",
          "Master",
          "Bachelor",
          "Bachelor",
          "PhD",
          "Technical Degree",
          "PhD",
          "PhD",
          "PhD",
          "Technical Degree",
          "Technical Degree",
          "Technical Degree",
          "Master",
          "Bachelor",
          "Technical Degree",
          "Technical Degree",
          "Technical Degree",
          "Master",
          "Bachelor",
          "Master",
          "Technical Degree",
          "Technical Degree",
          "Technical Degree",
          "Technical Degree",
          "Master",
          "Master",
          "Master",
          "Bachelor",
          "PhD",
          "Bachelor",
          "PhD",
          "Technical Degree",
          "Technical Degree",
          "Master",
          "Master",
          "PhD",
          "Technical Degree",
          "Bachelor",
          "Technical Degree",
          "Bachelor",
          "Bachelor",
          "Technical Degree",
          "Technical Degree",
          "Bachelor",
          "PhD",
          "Master",
          "Technical Degree",
          "PhD",
          "PhD",
          "PhD",
          "Technical Degree",
          "Master",
          "PhD",
          "Technical Degree",
          "Technical Degree",
          "Bachelor",
          "PhD",
          "Bachelor",
          "PhD",
          "Master",
          "PhD",
          "PhD",
          "Master",
          "Bachelor",
          "Bachelor",
          "Technical Degree",
          "PhD",
          "PhD",
          "PhD",
          "Bachelor",
          "Bachelor",
          "Bachelor",
          "PhD",
          "Master",
          "PhD",
          "PhD",
          "Master",
          "Technical Degree",
          "PhD",
          "Technical Degree",
          "Technical Degree",
          "PhD",
          "PhD",
          "Master",
          "Technical Degree",
          "PhD",
          "Technical Degree",
          "Bachelor",
          "Bachelor",
          "Technical Degree",
          "Bachelor",
          "Bachelor",
          "Bachelor",
          "Technical Degree",
          "Master",
          "Technical Degree",
          "Bachelor",
          "Master",
          "Technical Degree",
          "Technical Degree",
          "Master",
          "Bachelor",
          "Technical Degree",
          "Technical Degree",
          "Bachelor",
          "Technical Degree",
          "Master",
          "Master",
          "Master",
          "Technical Degree",
          "Technical Degree",
          "Bachelor",
          "PhD",
          "Master",
          "Master",
          "Bachelor",
          "Master",
          "PhD",
          "Bachelor",
          "Bachelor",
          "PhD",
          "Bachelor",
          "Master",
          "Technical Degree",
          "Technical Degree",
          "PhD",
          "Technical Degree",
          "PhD",
          "Technical Degree",
          "Technical Degree",
          "Technical Degree",
          "Master",
          "Master",
          "Technical Degree",
          "Technical Degree",
          "Master",
          "Technical Degree",
          "PhD",
          "Master",
          "Master",
          "PhD",
          "Bachelor",
          "PhD",
          "Technical Degree",
          "Technical Degree",
          "Technical Degree",
          "Bachelor",
          "Master",
          "Bachelor",
          "Technical Degree",
          "PhD",
          "Bachelor",
          "Technical Degree",
          "Master",
          "PhD",
          "Bachelor",
          "Master",
          "Master",
          "Bachelor",
          "Master",
          "Technical Degree",
          "Technical Degree",
          "Technical Degree",
          "PhD",
          "Master",
          "Master",
          "Bachelor",
          "Bachelor",
          "Master",
          "Master",
          "Bachelor",
          "PhD",
          "Master",
          "PhD",
          "Master",
          "PhD",
          "Master",
          "Master",
          "Technical Degree",
          "PhD",
          "PhD",
          "Bachelor",
          "Technical Degree",
          "Master",
          "Bachelor",
          "Bachelor",
          "Master",
          "Bachelor",
          "PhD",
          "Bachelor",
          "Master",
          "Master",
          "Technical Degree",
          "Technical Degree",
          "PhD",
          "Technical Degree",
          "Technical Degree",
          "Technical Degree",
          "Bachelor",
          "PhD",
          "PhD",
          "Bachelor",
          "Bachelor",
          "Master",
          "Master",
          "Master",
          "Bachelor",
          "Bachelor",
          "PhD",
          "Bachelor",
          "Technical Degree",
          "Master",
          "Master",
          "PhD",
          "Master",
          "PhD",
          "Technical Degree",
          "PhD",
          "Bachelor",
          "Technical Degree",
          "PhD",
          "PhD",
          "Technical Degree",
          "Master",
          "Master",
          "Technical Degree",
          "Master",
          "Master",
          "Bachelor",
          "Technical Degree",
          "PhD",
          "Technical Degree",
          "PhD",
          "Technical Degree",
          "Bachelor",
          "Master",
          "PhD",
          "Bachelor",
          "Master",
          "PhD",
          "PhD",
          "PhD",
          "Technical Degree",
          "Bachelor",
          "PhD",
          "Master",
          "Master",
          "Bachelor",
          "Master",
          "Master",
          "Bachelor",
          "Bachelor",
          "Master",
          "Technical Degree",
          "Bachelor",
          "PhD",
          "Master",
          "PhD",
          "PhD",
          "Technical Degree",
          "PhD",
          "Master",
          "Bachelor",
          "PhD",
          "Master",
          "Master",
          "Technical Degree",
          "Master",
          "PhD",
          "PhD",
          "Technical Degree",
          "Technical Degree",
          "Master",
          "Bachelor",
          "Bachelor",
          "Technical Degree",
          "Bachelor",
          "Technical Degree",
          "PhD",
          "PhD",
          "PhD",
          "Bachelor",
          "Technical Degree",
          "Bachelor",
          "PhD",
          "Master",
          "Technical Degree",
          "Master",
          "Master",
          "Bachelor",
          "Technical Degree",
          "Bachelor",
          "Bachelor",
          "Bachelor",
          "Technical Degree",
          "Master",
          "PhD",
          "Technical Degree",
          "Master",
          "PhD",
          "Bachelor",
          "Technical Degree",
          "Technical Degree",
          "Technical Degree",
          "Bachelor",
          "Bachelor",
          "PhD",
          "Master",
          "Technical Degree",
          "Master",
          "Bachelor",
          "PhD",
          "Master",
          "Master",
          "Technical Degree",
          "Technical Degree",
          "Technical Degree",
          "Technical Degree",
          "Bachelor",
          "PhD",
          "Bachelor",
          "Technical Degree",
          "Bachelor",
          "Bachelor",
          "PhD",
          "PhD",
          "Bachelor",
          "Technical Degree",
          "Master",
          "Technical Degree",
          "Bachelor",
          "PhD",
          "PhD",
          "PhD",
          "Bachelor",
          "PhD",
          "Master",
          "PhD",
          "Master",
          "Master",
          "Technical Degree",
          "Master",
          "PhD",
          "PhD",
          "Bachelor",
          "Bachelor",
          "Bachelor",
          "Bachelor",
          "Master",
          "Technical Degree",
          "Technical Degree",
          "Bachelor",
          "Technical Degree",
          "Bachelor",
          "PhD",
          "PhD",
          "PhD",
          "Bachelor",
          "Technical Degree",
          "Master",
          "Technical Degree",
          "Bachelor",
          "Technical Degree",
          "Bachelor",
          "Technical Degree",
          "Technical Degree",
          "Master",
          "Master",
          "Master",
          "Bachelor",
          "Master",
          "Technical Degree",
          "Master",
          "Master",
          "Technical Degree",
          "Bachelor",
          "PhD",
          "Technical Degree",
          "Technical Degree",
          "PhD",
          "Master",
          "Technical Degree",
          "Master",
          "Master",
          "Bachelor",
          "Master",
          "PhD",
          "Bachelor",
          "Master",
          "Technical Degree",
          "PhD",
          "Technical Degree",
          "Master",
          "Technical Degree",
          "PhD",
          "Master",
          "Bachelor",
          "Technical Degree",
          "PhD",
          "PhD",
          "Master",
          "Technical Degree",
          "Master",
          "Master",
          "Master",
          "PhD",
          "PhD",
          "Technical Degree",
          "Bachelor",
          "Bachelor",
          "Bachelor",
          "PhD",
          "Master",
          "PhD",
          "PhD",
          "PhD",
          "Master",
          "Master",
          "Master",
          "Master",
          "PhD",
          "Master",
          "Bachelor",
          "PhD",
          "Master",
          "Technical Degree",
          "Technical Degree",
          "PhD",
          "Bachelor",
          "Master",
          "Master",
          "Master",
          "PhD",
          "Technical Degree",
          "Technical Degree",
          "PhD",
          "PhD",
          "Technical Degree",
          "Technical Degree",
          "Bachelor",
          "Master",
          "PhD",
          "Bachelor",
          "Technical Degree",
          "PhD",
          "Bachelor",
          "Bachelor",
          "PhD",
          "PhD",
          "Technical Degree",
          "Master",
          "Technical Degree",
          "Master",
          "Master",
          "Bachelor",
          "Technical Degree",
          "PhD",
          "PhD",
          "Master",
          "Master",
          "PhD",
          "Bachelor",
          "PhD",
          "Master",
          "Master",
          "Master",
          "PhD",
          "Bachelor",
          "Technical Degree",
          "Technical Degree",
          "Master",
          "Bachelor",
          "Technical Degree",
          "Technical Degree",
          "Bachelor",
          "PhD",
          "PhD",
          "Master",
          "Technical Degree",
          "Bachelor",
          "PhD",
          "PhD",
          "Technical Degree",
          "Technical Degree",
          "Bachelor",
          "Bachelor",
          "Master",
          "Bachelor",
          "Technical Degree",
          "Master",
          "Technical Degree",
          "Technical Degree",
          "Bachelor",
          "Master",
          "Bachelor",
          "Master",
          "PhD",
          "Master",
          "Technical Degree",
          "PhD",
          "Bachelor",
          "Bachelor",
          "Bachelor",
          "Master",
          "PhD",
          "Master",
          "Bachelor",
          "Technical Degree",
          "Technical Degree",
          "PhD",
          "Technical Degree",
          "Master",
          "Technical Degree",
          "Technical Degree",
          "PhD",
          "Master",
          "PhD",
          "Master",
          "Master",
          "Bachelor",
          "Bachelor",
          "Bachelor",
          "PhD",
          "Master",
          "PhD",
          "Master",
          "Technical Degree",
          "Technical Degree",
          "Master",
          "Bachelor",
          "Bachelor",
          "Master",
          "PhD",
          "PhD",
          "Bachelor",
          "Master",
          "Master",
          "Master",
          "Master",
          "Master",
          "Bachelor",
          "Bachelor",
          "PhD",
          "Master",
          "PhD",
          "Bachelor",
          "Master",
          "Master",
          "Technical Degree",
          "Master",
          "Bachelor",
          "Bachelor",
          "Technical Degree",
          "PhD",
          "PhD",
          "Technical Degree",
          "PhD",
          "Master",
          "PhD",
          "PhD",
          "Master",
          "Bachelor",
          "Bachelor",
          "PhD",
          "PhD",
          "Technical Degree",
          "PhD",
          "PhD",
          "Bachelor",
          "PhD",
          "Bachelor",
          "Master",
          "Bachelor",
          "Technical Degree",
          "Technical Degree",
          "Master",
          "Bachelor",
          "PhD",
          "PhD",
          "PhD",
          "Technical Degree",
          "PhD",
          "Technical Degree",
          "PhD",
          "PhD",
          "PhD",
          "Bachelor",
          "Master",
          "Master",
          "Bachelor",
          "Bachelor",
          "Technical Degree",
          "Bachelor",
          "Master",
          "Master",
          "Master",
          "Technical Degree",
          "Technical Degree",
          "Technical Degree",
          "Bachelor",
          "Bachelor",
          "Technical Degree",
          "Technical Degree",
          "Master",
          "Bachelor",
          "PhD",
          "Bachelor",
          "Technical Degree",
          "PhD",
          "PhD",
          "Bachelor",
          "Master",
          "Master",
          "Bachelor",
          "Master",
          "Bachelor",
          "Technical Degree",
          "Technical Degree",
          "Bachelor",
          "PhD",
          "Technical Degree",
          "PhD",
          "Master",
          "Technical Degree",
          "PhD",
          "Master",
          "Technical Degree",
          "Technical Degree",
          "Bachelor",
          "PhD",
          "Master",
          "Bachelor",
          "Technical Degree",
          "Bachelor",
          "Master",
          "PhD",
          "Bachelor",
          "PhD",
          "Bachelor",
          "Master",
          "Technical Degree",
          "Technical Degree",
          "Master",
          "PhD",
          "Technical Degree",
          "Technical Degree",
          "Technical Degree",
          "Master",
          "PhD",
          "PhD",
          "Bachelor",
          "PhD",
          "Bachelor",
          "Bachelor",
          "Master",
          "Bachelor",
          "PhD",
          "Master",
          "Bachelor",
          "PhD",
          "PhD",
          "PhD",
          "Master",
          "Master",
          "Bachelor",
          "Master",
          "PhD",
          "Bachelor",
          "Master",
          "Bachelor",
          "Master",
          "Technical Degree",
          "Bachelor",
          "PhD",
          "Bachelor",
          "PhD",
          "Technical Degree",
          "Master",
          "Master",
          "Technical Degree",
          "Technical Degree",
          "Technical Degree",
          "Master",
          "Bachelor",
          "Bachelor",
          "Bachelor",
          "PhD",
          "Bachelor",
          "Master",
          "PhD",
          "Bachelor",
          "PhD",
          "Technical Degree",
          "Master",
          "Technical Degree",
          "Bachelor",
          "Technical Degree",
          "Bachelor",
          "Technical Degree",
          "Bachelor",
          "Technical Degree",
          "Bachelor",
          "Bachelor",
          "Technical Degree",
          "PhD",
          "Technical Degree",
          "PhD",
          "Master",
          "Master",
          "Master",
          "Master",
          "PhD",
          "PhD",
          "Technical Degree",
          "Master",
          "Technical Degree",
          "Bachelor",
          "Master",
          "PhD",
          "PhD",
          "Technical Degree",
          "Bachelor",
          "Master",
          "PhD",
          "Master",
          "Bachelor",
          "Bachelor",
          "Technical Degree",
          "Master",
          "Technical Degree",
          "Bachelor",
          "Master",
          "Technical Degree",
          "PhD",
          "Technical Degree",
          "Master",
          "Bachelor",
          "PhD",
          "Technical Degree",
          "Master",
          "PhD",
          "Master",
          "Technical Degree",
          "Bachelor",
          "Bachelor",
          "PhD",
          "Master",
          "Technical Degree",
          "PhD",
          "Master",
          "PhD",
          "PhD",
          "Master",
          "PhD",
          "Technical Degree",
          "Technical Degree",
          "Master",
          "Bachelor",
          "Technical Degree",
          "Technical Degree",
          "Master",
          "Master",
          "Bachelor",
          "Technical Degree",
          "Master",
          "Master",
          "PhD",
          "PhD",
          "Master",
          "Bachelor",
          "Bachelor",
          "Technical Degree",
          "Master",
          "Master",
          "Technical Degree",
          "Master",
          "Bachelor",
          "Master",
          "Bachelor",
          "Bachelor",
          "PhD",
          "Technical Degree",
          "Master",
          "PhD",
          "Master",
          "Bachelor",
          "Technical Degree",
          "Technical Degree",
          "Master",
          "Bachelor",
          "Bachelor",
          "Bachelor",
          "PhD",
          "Bachelor",
          "Technical Degree",
          "Master",
          "Bachelor",
          "Bachelor",
          "PhD",
          "Bachelor",
          "Master",
          "Bachelor",
          "Master",
          "Master",
          "Master",
          "Master",
          "Technical Degree",
          "Master",
          "Technical Degree",
          "Technical Degree",
          "Technical Degree",
          "Master",
          "Master",
          "PhD",
          "Bachelor",
          "Master",
          "Master",
          "Technical Degree",
          "Technical Degree",
          "Master",
          "Technical Degree",
          "Technical Degree",
          "Technical Degree",
          "Technical Degree",
          "Technical Degree",
          "Bachelor",
          "PhD",
          "Bachelor",
          "Bachelor",
          "Master",
          "Master",
          "PhD",
          "Bachelor",
          "Technical Degree",
          "Bachelor",
          "Bachelor",
          "Bachelor",
          "Technical Degree",
          "Technical Degree",
          "Technical Degree",
          "PhD",
          "Technical Degree",
          "Master",
          "Technical Degree",
          "Technical Degree",
          "Master",
          "Bachelor",
          "Technical Degree",
          "Technical Degree",
          "Master",
          "Bachelor",
          "PhD",
          "PhD",
          "Bachelor",
          "Master",
          "Master",
          "PhD",
          "Master",
          "PhD",
          "Technical Degree",
          "Technical Degree",
          "Master",
          "PhD",
          "Bachelor",
          "PhD",
          "Technical Degree",
          "Master",
          "PhD",
          "Bachelor",
          "Master",
          "Bachelor",
          "Technical Degree",
          "Technical Degree",
          "PhD",
          "Technical Degree",
          "Technical Degree",
          "Master",
          "Bachelor",
          "Master",
          "Master",
          "Bachelor",
          "PhD",
          "Master",
          "Master",
          "Technical Degree",
          "PhD",
          "Technical Degree",
          "Master",
          "PhD",
          "PhD",
          "Technical Degree",
          "PhD",
          "Bachelor",
          "Master",
          "PhD",
          "Bachelor",
          "Technical Degree",
          "Master",
          "Technical Degree",
          "Bachelor",
          "Bachelor",
          "Bachelor",
          "PhD",
          "Bachelor",
          "PhD",
          "Master",
          "Master",
          "PhD",
          "Technical Degree",
          "Technical Degree",
          "Bachelor",
          "Technical Degree",
          "Bachelor",
          "Master",
          "PhD",
          "Technical Degree",
          "Technical Degree",
          "PhD",
          "Technical Degree",
          "Master",
          "PhD",
          "Master",
          "Technical Degree",
          "Bachelor",
          "Master",
          "PhD",
          "Technical Degree",
          "PhD",
          "Technical Degree",
          "Master",
          "PhD",
          "Master",
          "Master",
          "Bachelor",
          "Technical Degree",
          "Master",
          "PhD",
          "PhD",
          "PhD",
          "PhD",
          "Bachelor",
          "Technical Degree",
          "Bachelor",
          "Master",
          "PhD",
          "Master",
          "Master",
          "PhD",
          "PhD",
          "PhD",
          "Bachelor",
          "Master",
          "Technical Degree",
          "Bachelor",
          "PhD",
          "PhD",
          "PhD",
          "Master",
          "PhD",
          "PhD",
          "Bachelor",
          "PhD",
          "PhD",
          "Master",
          "Bachelor",
          "Bachelor",
          "PhD",
          "PhD",
          "Master",
          "Bachelor",
          "Master",
          "Master",
          "PhD",
          "Master",
          "PhD",
          "Technical Degree",
          "Bachelor",
          "Master",
          "Bachelor",
          "Master",
          "Master",
          "Bachelor",
          "PhD",
          "PhD",
          "Technical Degree",
          "Master",
          "Technical Degree",
          "PhD",
          "PhD",
          "Bachelor",
          "PhD",
          "Master",
          "Master",
          "Technical Degree",
          "Master",
          "Technical Degree",
          "Master",
          "PhD",
          "Technical Degree",
          "PhD",
          "Master",
          "PhD",
          "PhD",
          "Master",
          "Bachelor",
          "PhD",
          "Bachelor",
          "Bachelor",
          "PhD",
          "Master",
          "Master",
          "PhD",
          "Bachelor",
          "Technical Degree",
          "PhD",
          "Technical Degree",
          "Technical Degree",
          "Master",
          "Master",
          "PhD",
          "Technical Degree",
          "Master",
          "Master",
          "PhD",
          "Master",
          "PhD",
          "Master",
          "Bachelor",
          "Technical Degree",
          "Technical Degree",
          "Technical Degree",
          "Master",
          "PhD",
          "Bachelor",
          "Technical Degree",
          "Bachelor",
          "Bachelor",
          "Technical Degree",
          "PhD",
          "Bachelor",
          "Master",
          "Bachelor",
          "Master",
          "Master",
          "PhD",
          "Bachelor",
          "Master",
          "Technical Degree",
          "Technical Degree",
          "Bachelor",
          "Technical Degree",
          "Technical Degree",
          "Master",
          "Bachelor",
          "Bachelor",
          "Technical Degree",
          "Bachelor",
          "Master",
          "Technical Degree",
          "PhD",
          "Technical Degree",
          "Master",
          "Master",
          "PhD",
          "PhD",
          "Master",
          "Master",
          "Bachelor",
          "Bachelor",
          "Bachelor",
          "Master",
          "PhD",
          "PhD",
          "Master",
          "Bachelor",
          "Master",
          "Bachelor",
          "Technical Degree",
          "PhD",
          "Technical Degree",
          "Bachelor",
          "Technical Degree",
          "Bachelor",
          "PhD",
          "Bachelor",
          "Master",
          "PhD",
          "Master",
          "Technical Degree",
          "Technical Degree",
          "Technical Degree",
          "Bachelor",
          "Bachelor",
          "PhD",
          "PhD",
          "PhD",
          "Technical Degree",
          "Master",
          "Master",
          "Bachelor",
          "Bachelor",
          "Master",
          "Master",
          "PhD",
          "Master",
          "Bachelor",
          "Technical Degree",
          "Bachelor",
          "Bachelor",
          "Bachelor",
          "Technical Degree",
          "Bachelor",
          "Master",
          "Bachelor",
          "Master",
          "Technical Degree",
          "Technical Degree",
          "PhD",
          "Bachelor",
          "Technical Degree",
          "Master",
          "PhD",
          "Technical Degree",
          "PhD",
          "PhD",
          "Technical Degree",
          "Bachelor",
          "PhD",
          "PhD",
          "PhD",
          "Master",
          "PhD",
          "PhD",
          "PhD",
          "PhD",
          "Bachelor",
          "PhD",
          "PhD",
          "Bachelor",
          "Technical Degree",
          "Technical Degree",
          "Bachelor",
          "Bachelor",
          "Master",
          "Technical Degree",
          "Technical Degree",
          "PhD",
          "Bachelor",
          "Master",
          "PhD",
          "Bachelor",
          "PhD",
          "Master",
          "PhD",
          "Master",
          "Master",
          "PhD",
          "Bachelor",
          "PhD",
          "Master",
          "PhD",
          "Bachelor",
          "PhD",
          "Master",
          "Bachelor",
          "PhD",
          "Bachelor",
          "Bachelor",
          "Master",
          "Master",
          "Bachelor",
          "Bachelor",
          "Master",
          "PhD",
          "Bachelor",
          "PhD",
          "Master",
          "Bachelor",
          "Bachelor",
          "PhD",
          "Bachelor",
          "PhD",
          "PhD",
          "Master",
          "Master",
          "PhD",
          "Technical Degree",
          "Master",
          "Technical Degree",
          "Master",
          "Bachelor",
          "Technical Degree",
          "Bachelor",
          "PhD",
          "PhD",
          "PhD",
          "Master",
          "Master",
          "Technical Degree",
          "Technical Degree",
          "Bachelor",
          "PhD",
          "Technical Degree",
          "Technical Degree",
          "Technical Degree",
          "PhD",
          "Technical Degree",
          "Technical Degree",
          "PhD",
          "Technical Degree",
          "Technical Degree",
          "PhD",
          "Technical Degree",
          "Technical Degree",
          "Technical Degree",
          "Bachelor",
          "PhD",
          "Master",
          "Bachelor",
          "Technical Degree",
          "Master",
          "Master",
          "PhD",
          "Master",
          "Bachelor",
          "Master",
          "Bachelor",
          "PhD",
          "PhD",
          "Bachelor",
          "PhD",
          "PhD",
          "Bachelor",
          "PhD",
          "Master",
          "PhD",
          "Master",
          "Technical Degree",
          "Master",
          "Technical Degree",
          "Bachelor",
          "Bachelor",
          "Master",
          "Bachelor",
          "Bachelor",
          "Technical Degree",
          "Bachelor",
          "PhD",
          "PhD",
          "Technical Degree",
          "Bachelor",
          "PhD",
          "PhD",
          "Bachelor",
          "Bachelor",
          "PhD",
          "Master",
          "PhD",
          "Technical Degree",
          "Bachelor",
          "Bachelor",
          "Technical Degree",
          "PhD",
          "Technical Degree",
          "Technical Degree",
          "PhD",
          "Technical Degree",
          "PhD",
          "Technical Degree",
          "Bachelor",
          "Bachelor",
          "Bachelor",
          "PhD",
          "PhD",
          "Technical Degree",
          "PhD",
          "Technical Degree",
          "Bachelor",
          "Bachelor",
          "Master",
          "Master",
          "Master",
          "Master",
          "PhD",
          "PhD",
          "PhD",
          "Bachelor",
          "Technical Degree",
          "Technical Degree",
          "Master",
          "Master",
          "Master",
          "Technical Degree",
          "Bachelor",
          "Technical Degree",
          "PhD",
          "Master",
          "Master",
          "Bachelor",
          "Master",
          "Master",
          "PhD",
          "Technical Degree",
          "Bachelor",
          "Bachelor",
          "Bachelor",
          "Technical Degree",
          "Master",
          "PhD",
          "Bachelor",
          "Technical Degree",
          "Master",
          "Bachelor",
          "Master",
          "Technical Degree",
          "Master",
          "Master",
          "Master",
          "Master",
          "PhD",
          "Technical Degree",
          "Master",
          "Bachelor",
          "Master",
          "Master",
          "Bachelor",
          "Master",
          "Master",
          "PhD",
          "Master",
          "PhD",
          "Bachelor",
          "PhD",
          "Master",
          "Master",
          "PhD",
          "Master",
          "Master",
          "Master",
          "PhD",
          "PhD",
          "Technical Degree",
          "Master",
          "Bachelor",
          "Bachelor",
          "Technical Degree",
          "PhD",
          "Master",
          "Technical Degree",
          "Master",
          "PhD",
          "Bachelor",
          "Bachelor",
          "PhD",
          "PhD",
          "PhD",
          "Master",
          "Master",
          "Bachelor",
          "PhD",
          "Technical Degree",
          "PhD",
          "Technical Degree",
          "Technical Degree",
          "PhD",
          "PhD",
          "Master",
          "PhD",
          "Master",
          "Master",
          "PhD",
          "Bachelor",
          "Bachelor",
          "Technical Degree",
          "PhD",
          "Bachelor",
          "PhD",
          "Technical Degree",
          "Bachelor",
          "PhD",
          "Technical Degree",
          "Technical Degree",
          "PhD",
          "Master",
          "PhD",
          "PhD",
          "PhD",
          "Bachelor",
          "Bachelor",
          "Bachelor",
          "PhD",
          "Technical Degree",
          "Bachelor",
          "PhD",
          "Technical Degree",
          "Technical Degree",
          "PhD",
          "Bachelor",
          "PhD",
          "Bachelor",
          "Bachelor",
          "Technical Degree",
          "Master",
          "PhD",
          "Bachelor",
          "Master",
          "PhD",
          "Bachelor",
          "PhD",
          "Bachelor",
          "Bachelor",
          "PhD",
          "Bachelor",
          "Technical Degree",
          "PhD",
          "Bachelor",
          "Technical Degree",
          "PhD",
          "Technical Degree",
          "Bachelor",
          "Technical Degree",
          "Bachelor",
          "Master",
          "Master",
          "Bachelor",
          "Master",
          "Bachelor",
          "Bachelor",
          "PhD",
          "Master",
          "Bachelor",
          "Bachelor",
          "Technical Degree",
          "Technical Degree",
          "Master",
          "Technical Degree",
          "Technical Degree",
          "Technical Degree",
          "Master",
          "PhD",
          "PhD",
          "Master",
          "Bachelor",
          "Technical Degree",
          "Technical Degree",
          "Technical Degree",
          "Technical Degree",
          "Bachelor",
          "Technical Degree",
          "Technical Degree",
          "Technical Degree",
          "Master",
          "Bachelor",
          "PhD",
          "Technical Degree",
          "PhD",
          "Bachelor",
          "Master",
          "Master",
          "Bachelor",
          "Master",
          "Bachelor",
          "Technical Degree",
          "Bachelor",
          "Technical Degree",
          "Master",
          "PhD",
          "Technical Degree",
          "Technical Degree",
          "Technical Degree",
          "PhD",
          "Master",
          "Bachelor",
          "Master",
          "Technical Degree",
          "Master",
          "Master",
          "Master",
          "Master",
          "PhD",
          "Bachelor",
          "Technical Degree",
          "PhD",
          "Technical Degree",
          "Technical Degree",
          "Technical Degree",
          "Master",
          "PhD",
          "PhD",
          "Master",
          "Technical Degree",
          "Bachelor",
          "Master",
          "Master",
          "Bachelor",
          "Technical Degree",
          "Bachelor",
          "Master",
          "Bachelor",
          "Bachelor",
          "Technical Degree",
          "PhD",
          "Bachelor",
          "Master",
          "Master",
          "Master",
          "Technical Degree",
          "Bachelor",
          "Bachelor",
          "Bachelor",
          "Master",
          "Bachelor",
          "Bachelor",
          "Master",
          "PhD",
          "Master",
          "Master",
          "Technical Degree",
          "Technical Degree",
          "PhD",
          "Bachelor",
          "Master",
          "Bachelor",
          "PhD",
          "Technical Degree",
          "Master",
          "Technical Degree",
          "Master",
          "Master",
          "Bachelor",
          "Bachelor",
          "Technical Degree",
          "Technical Degree",
          "Master",
          "Bachelor",
          "Technical Degree",
          "Bachelor",
          "Bachelor",
          "PhD",
          "Master",
          "PhD",
          "Master",
          "PhD",
          "Master",
          "Bachelor",
          "Master",
          "Master",
          "Master",
          "Master",
          "Bachelor",
          "Master",
          "Master",
          "PhD",
          "Bachelor",
          "PhD",
          "Technical Degree",
          "PhD",
          "PhD",
          "PhD",
          "Master",
          "Bachelor",
          "Master",
          "Technical Degree",
          "Master",
          "Technical Degree",
          "Technical Degree",
          "Master",
          "Bachelor",
          "Technical Degree",
          "Master",
          "Technical Degree",
          "PhD",
          "Master",
          "Bachelor",
          "PhD",
          "Bachelor",
          "Technical Degree",
          "Bachelor",
          "PhD",
          "Technical Degree",
          "PhD"
         ],
         "xaxis": "x",
         "yaxis": "y"
        },
        {
         "alignmentgroup": "True",
         "bingroup": "x",
         "hovertemplate": "churn=1<br>educacao=%{x}<br>count=%{y}<extra></extra>",
         "legendgroup": "1",
         "marker": {
          "color": "#EF553B",
          "pattern": {
           "shape": ""
          }
         },
         "name": "1",
         "offsetgroup": "1",
         "orientation": "v",
         "showlegend": true,
         "type": "histogram",
         "x": [
          "PhD",
          "Bachelor",
          "Technical Degree",
          "Technical Degree",
          "Master",
          "Technical Degree",
          "PhD",
          "Master",
          "Technical Degree",
          "Master",
          "Technical Degree",
          "Bachelor",
          "PhD",
          "Master",
          "Master",
          "Technical Degree",
          "Technical Degree",
          "Master",
          "PhD",
          "PhD",
          "Master",
          "Bachelor",
          "PhD",
          "PhD",
          "Bachelor",
          "Bachelor",
          "Technical Degree",
          "Bachelor",
          "PhD",
          "Technical Degree",
          "PhD",
          "Bachelor",
          "Bachelor",
          "Master",
          "Master",
          "Technical Degree",
          "Technical Degree",
          "Technical Degree",
          "Master",
          "Master",
          "Bachelor",
          "Technical Degree",
          "Master",
          "PhD",
          "PhD",
          "Master",
          "Technical Degree",
          "Bachelor",
          "Technical Degree",
          "Master",
          "Bachelor",
          "Technical Degree",
          "Master",
          "PhD",
          "Master",
          "Technical Degree",
          "Technical Degree",
          "Bachelor",
          "PhD",
          "PhD",
          "Master",
          "Master",
          "Technical Degree",
          "PhD",
          "Technical Degree",
          "Bachelor",
          "Technical Degree",
          "Bachelor",
          "Bachelor",
          "Master",
          "Technical Degree",
          "PhD",
          "PhD",
          "Master",
          "Master",
          "PhD",
          "Master",
          "Master",
          "Technical Degree",
          "Technical Degree",
          "Technical Degree",
          "Technical Degree",
          "Master",
          "PhD",
          "Bachelor",
          "Technical Degree",
          "PhD",
          "Bachelor",
          "Master",
          "Bachelor",
          "Master",
          "Technical Degree",
          "Bachelor",
          "Technical Degree",
          "Technical Degree",
          "Technical Degree",
          "PhD",
          "Bachelor",
          "Technical Degree",
          "Master",
          "Bachelor",
          "PhD",
          "PhD",
          "Master",
          "Master",
          "PhD",
          "PhD",
          "Master",
          "Bachelor",
          "Bachelor",
          "Technical Degree",
          "Master",
          "PhD",
          "Bachelor",
          "Master",
          "Technical Degree",
          "PhD",
          "Technical Degree",
          "PhD",
          "Bachelor",
          "Master",
          "Bachelor",
          "Technical Degree",
          "Technical Degree",
          "Master",
          "Master",
          "PhD",
          "Master",
          "PhD",
          "Master",
          "PhD",
          "Technical Degree",
          "Bachelor",
          "Master",
          "Technical Degree",
          "Master",
          "Master",
          "Technical Degree",
          "Technical Degree",
          "Bachelor",
          "Bachelor",
          "Technical Degree",
          "Technical Degree",
          "PhD",
          "PhD",
          "Master",
          "PhD",
          "Technical Degree",
          "Bachelor",
          "PhD",
          "Technical Degree",
          "Bachelor",
          "Technical Degree",
          "PhD",
          "Master",
          "Master",
          "Master",
          "Bachelor",
          "Bachelor",
          "PhD",
          "Technical Degree",
          "Technical Degree",
          "Bachelor",
          "Bachelor",
          "Bachelor",
          "PhD",
          "Bachelor",
          "Master",
          "PhD",
          "Technical Degree",
          "PhD",
          "Bachelor",
          "PhD",
          "Technical Degree",
          "Master",
          "Master",
          "PhD",
          "Bachelor",
          "Bachelor",
          "PhD",
          "PhD",
          "Technical Degree",
          "Bachelor",
          "Technical Degree",
          "PhD",
          "Technical Degree",
          "Technical Degree",
          "Master",
          "Bachelor",
          "Bachelor",
          "Master",
          "Master",
          "PhD",
          "Technical Degree",
          "PhD",
          "PhD",
          "Technical Degree",
          "PhD",
          "Technical Degree",
          "PhD",
          "PhD",
          "Technical Degree",
          "Master",
          "Master",
          "Technical Degree",
          "PhD",
          "PhD",
          "PhD",
          "Technical Degree",
          "Technical Degree",
          "Bachelor",
          "PhD",
          "Bachelor",
          "Technical Degree",
          "Bachelor",
          "Technical Degree",
          "Technical Degree",
          "Master",
          "Bachelor",
          "Bachelor",
          "Technical Degree",
          "Bachelor",
          "Bachelor",
          "Technical Degree",
          "Master",
          "Master",
          "Technical Degree",
          "Technical Degree",
          "PhD",
          "Master",
          "Master",
          "Bachelor",
          "Technical Degree",
          "Bachelor",
          "Bachelor",
          "Bachelor",
          "Master",
          "Bachelor",
          "Master",
          "Bachelor",
          "Technical Degree",
          "Technical Degree",
          "Bachelor",
          "Bachelor",
          "PhD",
          "Technical Degree",
          "Master",
          "Bachelor",
          "Bachelor",
          "Master",
          "Bachelor",
          "Master",
          "PhD",
          "Technical Degree",
          "PhD",
          "PhD",
          "PhD",
          "Technical Degree",
          "PhD",
          "Technical Degree",
          "Technical Degree",
          "Master",
          "Master",
          "Master",
          "PhD",
          "PhD",
          "PhD",
          "Technical Degree",
          "Bachelor",
          "Bachelor",
          "Technical Degree",
          "Master",
          "PhD",
          "Technical Degree",
          "Technical Degree",
          "PhD",
          "PhD",
          "Technical Degree",
          "Master",
          "Technical Degree",
          "Technical Degree",
          "PhD",
          "Master",
          "Bachelor",
          "Technical Degree",
          "PhD"
         ],
         "xaxis": "x",
         "yaxis": "y"
        }
       ],
       "layout": {
        "barmode": "group",
        "legend": {
         "title": {
          "text": "churn"
         },
         "tracegroupgap": 0
        },
        "template": {
         "data": {
          "bar": [
           {
            "error_x": {
             "color": "#2a3f5f"
            },
            "error_y": {
             "color": "#2a3f5f"
            },
            "marker": {
             "line": {
              "color": "#E5ECF6",
              "width": 0.5
             },
             "pattern": {
              "fillmode": "overlay",
              "size": 10,
              "solidity": 0.2
             }
            },
            "type": "bar"
           }
          ],
          "barpolar": [
           {
            "marker": {
             "line": {
              "color": "#E5ECF6",
              "width": 0.5
             },
             "pattern": {
              "fillmode": "overlay",
              "size": 10,
              "solidity": 0.2
             }
            },
            "type": "barpolar"
           }
          ],
          "carpet": [
           {
            "aaxis": {
             "endlinecolor": "#2a3f5f",
             "gridcolor": "white",
             "linecolor": "white",
             "minorgridcolor": "white",
             "startlinecolor": "#2a3f5f"
            },
            "baxis": {
             "endlinecolor": "#2a3f5f",
             "gridcolor": "white",
             "linecolor": "white",
             "minorgridcolor": "white",
             "startlinecolor": "#2a3f5f"
            },
            "type": "carpet"
           }
          ],
          "choropleth": [
           {
            "colorbar": {
             "outlinewidth": 0,
             "ticks": ""
            },
            "type": "choropleth"
           }
          ],
          "contour": [
           {
            "colorbar": {
             "outlinewidth": 0,
             "ticks": ""
            },
            "colorscale": [
             [
              0,
              "#0d0887"
             ],
             [
              0.1111111111111111,
              "#46039f"
             ],
             [
              0.2222222222222222,
              "#7201a8"
             ],
             [
              0.3333333333333333,
              "#9c179e"
             ],
             [
              0.4444444444444444,
              "#bd3786"
             ],
             [
              0.5555555555555556,
              "#d8576b"
             ],
             [
              0.6666666666666666,
              "#ed7953"
             ],
             [
              0.7777777777777778,
              "#fb9f3a"
             ],
             [
              0.8888888888888888,
              "#fdca26"
             ],
             [
              1,
              "#f0f921"
             ]
            ],
            "type": "contour"
           }
          ],
          "contourcarpet": [
           {
            "colorbar": {
             "outlinewidth": 0,
             "ticks": ""
            },
            "type": "contourcarpet"
           }
          ],
          "heatmap": [
           {
            "colorbar": {
             "outlinewidth": 0,
             "ticks": ""
            },
            "colorscale": [
             [
              0,
              "#0d0887"
             ],
             [
              0.1111111111111111,
              "#46039f"
             ],
             [
              0.2222222222222222,
              "#7201a8"
             ],
             [
              0.3333333333333333,
              "#9c179e"
             ],
             [
              0.4444444444444444,
              "#bd3786"
             ],
             [
              0.5555555555555556,
              "#d8576b"
             ],
             [
              0.6666666666666666,
              "#ed7953"
             ],
             [
              0.7777777777777778,
              "#fb9f3a"
             ],
             [
              0.8888888888888888,
              "#fdca26"
             ],
             [
              1,
              "#f0f921"
             ]
            ],
            "type": "heatmap"
           }
          ],
          "histogram": [
           {
            "marker": {
             "pattern": {
              "fillmode": "overlay",
              "size": 10,
              "solidity": 0.2
             }
            },
            "type": "histogram"
           }
          ],
          "histogram2d": [
           {
            "colorbar": {
             "outlinewidth": 0,
             "ticks": ""
            },
            "colorscale": [
             [
              0,
              "#0d0887"
             ],
             [
              0.1111111111111111,
              "#46039f"
             ],
             [
              0.2222222222222222,
              "#7201a8"
             ],
             [
              0.3333333333333333,
              "#9c179e"
             ],
             [
              0.4444444444444444,
              "#bd3786"
             ],
             [
              0.5555555555555556,
              "#d8576b"
             ],
             [
              0.6666666666666666,
              "#ed7953"
             ],
             [
              0.7777777777777778,
              "#fb9f3a"
             ],
             [
              0.8888888888888888,
              "#fdca26"
             ],
             [
              1,
              "#f0f921"
             ]
            ],
            "type": "histogram2d"
           }
          ],
          "histogram2dcontour": [
           {
            "colorbar": {
             "outlinewidth": 0,
             "ticks": ""
            },
            "colorscale": [
             [
              0,
              "#0d0887"
             ],
             [
              0.1111111111111111,
              "#46039f"
             ],
             [
              0.2222222222222222,
              "#7201a8"
             ],
             [
              0.3333333333333333,
              "#9c179e"
             ],
             [
              0.4444444444444444,
              "#bd3786"
             ],
             [
              0.5555555555555556,
              "#d8576b"
             ],
             [
              0.6666666666666666,
              "#ed7953"
             ],
             [
              0.7777777777777778,
              "#fb9f3a"
             ],
             [
              0.8888888888888888,
              "#fdca26"
             ],
             [
              1,
              "#f0f921"
             ]
            ],
            "type": "histogram2dcontour"
           }
          ],
          "mesh3d": [
           {
            "colorbar": {
             "outlinewidth": 0,
             "ticks": ""
            },
            "type": "mesh3d"
           }
          ],
          "parcoords": [
           {
            "line": {
             "colorbar": {
              "outlinewidth": 0,
              "ticks": ""
             }
            },
            "type": "parcoords"
           }
          ],
          "pie": [
           {
            "automargin": true,
            "type": "pie"
           }
          ],
          "scatter": [
           {
            "fillpattern": {
             "fillmode": "overlay",
             "size": 10,
             "solidity": 0.2
            },
            "type": "scatter"
           }
          ],
          "scatter3d": [
           {
            "line": {
             "colorbar": {
              "outlinewidth": 0,
              "ticks": ""
             }
            },
            "marker": {
             "colorbar": {
              "outlinewidth": 0,
              "ticks": ""
             }
            },
            "type": "scatter3d"
           }
          ],
          "scattercarpet": [
           {
            "marker": {
             "colorbar": {
              "outlinewidth": 0,
              "ticks": ""
             }
            },
            "type": "scattercarpet"
           }
          ],
          "scattergeo": [
           {
            "marker": {
             "colorbar": {
              "outlinewidth": 0,
              "ticks": ""
             }
            },
            "type": "scattergeo"
           }
          ],
          "scattergl": [
           {
            "marker": {
             "colorbar": {
              "outlinewidth": 0,
              "ticks": ""
             }
            },
            "type": "scattergl"
           }
          ],
          "scattermap": [
           {
            "marker": {
             "colorbar": {
              "outlinewidth": 0,
              "ticks": ""
             }
            },
            "type": "scattermap"
           }
          ],
          "scattermapbox": [
           {
            "marker": {
             "colorbar": {
              "outlinewidth": 0,
              "ticks": ""
             }
            },
            "type": "scattermapbox"
           }
          ],
          "scatterpolar": [
           {
            "marker": {
             "colorbar": {
              "outlinewidth": 0,
              "ticks": ""
             }
            },
            "type": "scatterpolar"
           }
          ],
          "scatterpolargl": [
           {
            "marker": {
             "colorbar": {
              "outlinewidth": 0,
              "ticks": ""
             }
            },
            "type": "scatterpolargl"
           }
          ],
          "scatterternary": [
           {
            "marker": {
             "colorbar": {
              "outlinewidth": 0,
              "ticks": ""
             }
            },
            "type": "scatterternary"
           }
          ],
          "surface": [
           {
            "colorbar": {
             "outlinewidth": 0,
             "ticks": ""
            },
            "colorscale": [
             [
              0,
              "#0d0887"
             ],
             [
              0.1111111111111111,
              "#46039f"
             ],
             [
              0.2222222222222222,
              "#7201a8"
             ],
             [
              0.3333333333333333,
              "#9c179e"
             ],
             [
              0.4444444444444444,
              "#bd3786"
             ],
             [
              0.5555555555555556,
              "#d8576b"
             ],
             [
              0.6666666666666666,
              "#ed7953"
             ],
             [
              0.7777777777777778,
              "#fb9f3a"
             ],
             [
              0.8888888888888888,
              "#fdca26"
             ],
             [
              1,
              "#f0f921"
             ]
            ],
            "type": "surface"
           }
          ],
          "table": [
           {
            "cells": {
             "fill": {
              "color": "#EBF0F8"
             },
             "line": {
              "color": "white"
             }
            },
            "header": {
             "fill": {
              "color": "#C8D4E3"
             },
             "line": {
              "color": "white"
             }
            },
            "type": "table"
           }
          ]
         },
         "layout": {
          "annotationdefaults": {
           "arrowcolor": "#2a3f5f",
           "arrowhead": 0,
           "arrowwidth": 1
          },
          "autotypenumbers": "strict",
          "coloraxis": {
           "colorbar": {
            "outlinewidth": 0,
            "ticks": ""
           }
          },
          "colorscale": {
           "diverging": [
            [
             0,
             "#8e0152"
            ],
            [
             0.1,
             "#c51b7d"
            ],
            [
             0.2,
             "#de77ae"
            ],
            [
             0.3,
             "#f1b6da"
            ],
            [
             0.4,
             "#fde0ef"
            ],
            [
             0.5,
             "#f7f7f7"
            ],
            [
             0.6,
             "#e6f5d0"
            ],
            [
             0.7,
             "#b8e186"
            ],
            [
             0.8,
             "#7fbc41"
            ],
            [
             0.9,
             "#4d9221"
            ],
            [
             1,
             "#276419"
            ]
           ],
           "sequential": [
            [
             0,
             "#0d0887"
            ],
            [
             0.1111111111111111,
             "#46039f"
            ],
            [
             0.2222222222222222,
             "#7201a8"
            ],
            [
             0.3333333333333333,
             "#9c179e"
            ],
            [
             0.4444444444444444,
             "#bd3786"
            ],
            [
             0.5555555555555556,
             "#d8576b"
            ],
            [
             0.6666666666666666,
             "#ed7953"
            ],
            [
             0.7777777777777778,
             "#fb9f3a"
            ],
            [
             0.8888888888888888,
             "#fdca26"
            ],
            [
             1,
             "#f0f921"
            ]
           ],
           "sequentialminus": [
            [
             0,
             "#0d0887"
            ],
            [
             0.1111111111111111,
             "#46039f"
            ],
            [
             0.2222222222222222,
             "#7201a8"
            ],
            [
             0.3333333333333333,
             "#9c179e"
            ],
            [
             0.4444444444444444,
             "#bd3786"
            ],
            [
             0.5555555555555556,
             "#d8576b"
            ],
            [
             0.6666666666666666,
             "#ed7953"
            ],
            [
             0.7777777777777778,
             "#fb9f3a"
            ],
            [
             0.8888888888888888,
             "#fdca26"
            ],
            [
             1,
             "#f0f921"
            ]
           ]
          },
          "colorway": [
           "#636efa",
           "#EF553B",
           "#00cc96",
           "#ab63fa",
           "#FFA15A",
           "#19d3f3",
           "#FF6692",
           "#B6E880",
           "#FF97FF",
           "#FECB52"
          ],
          "font": {
           "color": "#2a3f5f"
          },
          "geo": {
           "bgcolor": "white",
           "lakecolor": "white",
           "landcolor": "#E5ECF6",
           "showlakes": true,
           "showland": true,
           "subunitcolor": "white"
          },
          "hoverlabel": {
           "align": "left"
          },
          "hovermode": "closest",
          "mapbox": {
           "style": "light"
          },
          "paper_bgcolor": "white",
          "plot_bgcolor": "#E5ECF6",
          "polar": {
           "angularaxis": {
            "gridcolor": "white",
            "linecolor": "white",
            "ticks": ""
           },
           "bgcolor": "#E5ECF6",
           "radialaxis": {
            "gridcolor": "white",
            "linecolor": "white",
            "ticks": ""
           }
          },
          "scene": {
           "xaxis": {
            "backgroundcolor": "#E5ECF6",
            "gridcolor": "white",
            "gridwidth": 2,
            "linecolor": "white",
            "showbackground": true,
            "ticks": "",
            "zerolinecolor": "white"
           },
           "yaxis": {
            "backgroundcolor": "#E5ECF6",
            "gridcolor": "white",
            "gridwidth": 2,
            "linecolor": "white",
            "showbackground": true,
            "ticks": "",
            "zerolinecolor": "white"
           },
           "zaxis": {
            "backgroundcolor": "#E5ECF6",
            "gridcolor": "white",
            "gridwidth": 2,
            "linecolor": "white",
            "showbackground": true,
            "ticks": "",
            "zerolinecolor": "white"
           }
          },
          "shapedefaults": {
           "line": {
            "color": "#2a3f5f"
           }
          },
          "ternary": {
           "aaxis": {
            "gridcolor": "white",
            "linecolor": "white",
            "ticks": ""
           },
           "baxis": {
            "gridcolor": "white",
            "linecolor": "white",
            "ticks": ""
           },
           "bgcolor": "#E5ECF6",
           "caxis": {
            "gridcolor": "white",
            "linecolor": "white",
            "ticks": ""
           }
          },
          "title": {
           "x": 0.05
          },
          "xaxis": {
           "automargin": true,
           "gridcolor": "white",
           "linecolor": "white",
           "ticks": "",
           "title": {
            "standoff": 15
           },
           "zerolinecolor": "white",
           "zerolinewidth": 2
          },
          "yaxis": {
           "automargin": true,
           "gridcolor": "white",
           "linecolor": "white",
           "ticks": "",
           "title": {
            "standoff": 15
           },
           "zerolinecolor": "white",
           "zerolinewidth": 2
          }
         }
        },
        "title": {
         "text": "Histograma da coluna educacao"
        },
        "xaxis": {
         "anchor": "y",
         "domain": [
          0,
          1
         ],
         "title": {
          "text": "educacao"
         }
        },
        "yaxis": {
         "anchor": "x",
         "domain": [
          0,
          1
         ],
         "title": {
          "text": "count"
         }
        }
       }
      }
     },
     "metadata": {},
     "output_type": "display_data"
    },
    {
     "data": {
      "application/vnd.plotly.v1+json": {
       "config": {
        "plotlyServerURL": "https://plot.ly"
       },
       "data": [
        {
         "alignmentgroup": "True",
         "bingroup": "x",
         "hovertemplate": "churn=0<br>regime_trabalho=%{x}<br>count=%{y}<extra></extra>",
         "legendgroup": "0",
         "marker": {
          "color": "#636efa",
          "pattern": {
           "shape": ""
          }
         },
         "name": "0",
         "offsetgroup": "0",
         "orientation": "v",
         "showlegend": true,
         "type": "histogram",
         "x": [
          "Remoto",
          "Remoto",
          "Híbrido",
          "Remoto",
          "Presencial",
          "Híbrido",
          "Remoto",
          "Remoto",
          "Híbrido",
          "Remoto",
          "Híbrido",
          "Presencial",
          "Presencial",
          "Remoto",
          "Presencial",
          "Híbrido",
          "Remoto",
          "Híbrido",
          "Presencial",
          "Remoto",
          "Presencial",
          "Remoto",
          "Presencial",
          "Remoto",
          "Híbrido",
          "Remoto",
          "Híbrido",
          "Híbrido",
          "Híbrido",
          "Presencial",
          "Remoto",
          "Híbrido",
          "Remoto",
          "Remoto",
          "Híbrido",
          "Remoto",
          "Híbrido",
          "Presencial",
          "Híbrido",
          "Presencial",
          "Remoto",
          "Híbrido",
          "Remoto",
          "Híbrido",
          "Híbrido",
          "Híbrido",
          "Presencial",
          "Remoto",
          "Remoto",
          "Remoto",
          "Híbrido",
          "Híbrido",
          "Remoto",
          "Remoto",
          "Híbrido",
          "Remoto",
          "Presencial",
          "Híbrido",
          "Presencial",
          "Presencial",
          "Presencial",
          "Híbrido",
          "Remoto",
          "Presencial",
          "Remoto",
          "Presencial",
          "Remoto",
          "Híbrido",
          "Presencial",
          "Presencial",
          "Remoto",
          "Híbrido",
          "Presencial",
          "Presencial",
          "Presencial",
          "Presencial",
          "Híbrido",
          "Remoto",
          "Híbrido",
          "Híbrido",
          "Remoto",
          "Presencial",
          "Presencial",
          "Híbrido",
          "Presencial",
          "Remoto",
          "Híbrido",
          "Presencial",
          "Híbrido",
          "Remoto",
          "Presencial",
          "Presencial",
          "Híbrido",
          "Presencial",
          "Presencial",
          "Remoto",
          "Remoto",
          "Híbrido",
          "Híbrido",
          "Remoto",
          "Presencial",
          "Híbrido",
          "Híbrido",
          "Remoto",
          "Remoto",
          "Híbrido",
          "Híbrido",
          "Presencial",
          "Presencial",
          "Presencial",
          "Remoto",
          "Presencial",
          "Remoto",
          "Presencial",
          "Híbrido",
          "Presencial",
          "Híbrido",
          "Presencial",
          "Remoto",
          "Presencial",
          "Remoto",
          "Remoto",
          "Presencial",
          "Híbrido",
          "Remoto",
          "Presencial",
          "Presencial",
          "Híbrido",
          "Híbrido",
          "Híbrido",
          "Remoto",
          "Remoto",
          "Presencial",
          "Presencial",
          "Híbrido",
          "Remoto",
          "Híbrido",
          "Remoto",
          "Remoto",
          "Híbrido",
          "Presencial",
          "Híbrido",
          "Presencial",
          "Híbrido",
          "Remoto",
          "Presencial",
          "Remoto",
          "Híbrido",
          "Híbrido",
          "Presencial",
          "Remoto",
          "Presencial",
          "Remoto",
          "Remoto",
          "Presencial",
          "Presencial",
          "Híbrido",
          "Híbrido",
          "Presencial",
          "Presencial",
          "Remoto",
          "Híbrido",
          "Presencial",
          "Híbrido",
          "Remoto",
          "Remoto",
          "Remoto",
          "Híbrido",
          "Presencial",
          "Presencial",
          "Presencial",
          "Remoto",
          "Remoto",
          "Remoto",
          "Híbrido",
          "Presencial",
          "Presencial",
          "Presencial",
          "Híbrido",
          "Híbrido",
          "Remoto",
          "Presencial",
          "Híbrido",
          "Híbrido",
          "Híbrido",
          "Remoto",
          "Remoto",
          "Híbrido",
          "Híbrido",
          "Presencial",
          "Presencial",
          "Presencial",
          "Presencial",
          "Híbrido",
          "Presencial",
          "Remoto",
          "Híbrido",
          "Remoto",
          "Presencial",
          "Híbrido",
          "Híbrido",
          "Híbrido",
          "Híbrido",
          "Híbrido",
          "Presencial",
          "Remoto",
          "Remoto",
          "Híbrido",
          "Remoto",
          "Remoto",
          "Presencial",
          "Remoto",
          "Híbrido",
          "Híbrido",
          "Remoto",
          "Híbrido",
          "Remoto",
          "Presencial",
          "Híbrido",
          "Híbrido",
          "Presencial",
          "Remoto",
          "Híbrido",
          "Híbrido",
          "Híbrido",
          "Presencial",
          "Híbrido",
          "Remoto",
          "Presencial",
          "Híbrido",
          "Presencial",
          "Remoto",
          "Presencial",
          "Presencial",
          "Remoto",
          "Híbrido",
          "Presencial",
          "Presencial",
          "Remoto",
          "Presencial",
          "Presencial",
          "Presencial",
          "Presencial",
          "Remoto",
          "Híbrido",
          "Remoto",
          "Híbrido",
          "Remoto",
          "Remoto",
          "Remoto",
          "Híbrido",
          "Remoto",
          "Remoto",
          "Presencial",
          "Híbrido",
          "Híbrido",
          "Presencial",
          "Remoto",
          "Híbrido",
          "Híbrido",
          "Remoto",
          "Presencial",
          "Presencial",
          "Híbrido",
          "Remoto",
          "Híbrido",
          "Presencial",
          "Presencial",
          "Remoto",
          "Híbrido",
          "Presencial",
          "Presencial",
          "Remoto",
          "Presencial",
          "Híbrido",
          "Presencial",
          "Remoto",
          "Remoto",
          "Presencial",
          "Presencial",
          "Híbrido",
          "Híbrido",
          "Presencial",
          "Presencial",
          "Híbrido",
          "Híbrido",
          "Híbrido",
          "Remoto",
          "Remoto",
          "Presencial",
          "Remoto",
          "Remoto",
          "Híbrido",
          "Presencial",
          "Presencial",
          "Híbrido",
          "Híbrido",
          "Presencial",
          "Híbrido",
          "Presencial",
          "Presencial",
          "Híbrido",
          "Presencial",
          "Híbrido",
          "Remoto",
          "Híbrido",
          "Presencial",
          "Remoto",
          "Remoto",
          "Remoto",
          "Remoto",
          "Híbrido",
          "Híbrido",
          "Remoto",
          "Híbrido",
          "Híbrido",
          "Presencial",
          "Remoto",
          "Remoto",
          "Híbrido",
          "Presencial",
          "Presencial",
          "Presencial",
          "Híbrido",
          "Remoto",
          "Híbrido",
          "Remoto",
          "Híbrido",
          "Remoto",
          "Remoto",
          "Híbrido",
          "Híbrido",
          "Presencial",
          "Remoto",
          "Híbrido",
          "Remoto",
          "Presencial",
          "Remoto",
          "Remoto",
          "Remoto",
          "Presencial",
          "Híbrido",
          "Híbrido",
          "Presencial",
          "Presencial",
          "Presencial",
          "Remoto",
          "Remoto",
          "Híbrido",
          "Híbrido",
          "Híbrido",
          "Remoto",
          "Híbrido",
          "Remoto",
          "Híbrido",
          "Remoto",
          "Presencial",
          "Presencial",
          "Presencial",
          "Remoto",
          "Presencial",
          "Híbrido",
          "Remoto",
          "Presencial",
          "Presencial",
          "Presencial",
          "Remoto",
          "Remoto",
          "Híbrido",
          "Presencial",
          "Presencial",
          "Presencial",
          "Híbrido",
          "Presencial",
          "Híbrido",
          "Híbrido",
          "Remoto",
          "Presencial",
          "Híbrido",
          "Remoto",
          "Remoto",
          "Híbrido",
          "Remoto",
          "Remoto",
          "Presencial",
          "Híbrido",
          "Presencial",
          "Remoto",
          "Presencial",
          "Híbrido",
          "Híbrido",
          "Remoto",
          "Híbrido",
          "Presencial",
          "Híbrido",
          "Remoto",
          "Remoto",
          "Presencial",
          "Híbrido",
          "Híbrido",
          "Híbrido",
          "Híbrido",
          "Remoto",
          "Híbrido",
          "Remoto",
          "Remoto",
          "Remoto",
          "Remoto",
          "Presencial",
          "Presencial",
          "Presencial",
          "Remoto",
          "Remoto",
          "Presencial",
          "Presencial",
          "Híbrido",
          "Híbrido",
          "Híbrido",
          "Híbrido",
          "Remoto",
          "Remoto",
          "Presencial",
          "Híbrido",
          "Remoto",
          "Presencial",
          "Presencial",
          "Presencial",
          "Presencial",
          "Remoto",
          "Remoto",
          "Presencial",
          "Presencial",
          "Presencial",
          "Presencial",
          "Híbrido",
          "Remoto",
          "Remoto",
          "Presencial",
          "Híbrido",
          "Remoto",
          "Híbrido",
          "Híbrido",
          "Remoto",
          "Remoto",
          "Híbrido",
          "Remoto",
          "Híbrido",
          "Presencial",
          "Híbrido",
          "Remoto",
          "Híbrido",
          "Presencial",
          "Híbrido",
          "Híbrido",
          "Remoto",
          "Remoto",
          "Híbrido",
          "Híbrido",
          "Remoto",
          "Presencial",
          "Presencial",
          "Híbrido",
          "Presencial",
          "Presencial",
          "Híbrido",
          "Remoto",
          "Remoto",
          "Híbrido",
          "Remoto",
          "Presencial",
          "Presencial",
          "Híbrido",
          "Híbrido",
          "Híbrido",
          "Presencial",
          "Híbrido",
          "Presencial",
          "Remoto",
          "Presencial",
          "Híbrido",
          "Presencial",
          "Remoto",
          "Híbrido",
          "Remoto",
          "Presencial",
          "Presencial",
          "Remoto",
          "Híbrido",
          "Presencial",
          "Presencial",
          "Remoto",
          "Remoto",
          "Remoto",
          "Híbrido",
          "Híbrido",
          "Híbrido",
          "Híbrido",
          "Remoto",
          "Remoto",
          "Remoto",
          "Remoto",
          "Híbrido",
          "Remoto",
          "Presencial",
          "Remoto",
          "Remoto",
          "Remoto",
          "Híbrido",
          "Presencial",
          "Híbrido",
          "Híbrido",
          "Remoto",
          "Híbrido",
          "Presencial",
          "Híbrido",
          "Remoto",
          "Híbrido",
          "Presencial",
          "Híbrido",
          "Presencial",
          "Remoto",
          "Híbrido",
          "Presencial",
          "Híbrido",
          "Híbrido",
          "Remoto",
          "Presencial",
          "Presencial",
          "Presencial",
          "Presencial",
          "Remoto",
          "Presencial",
          "Remoto",
          "Remoto",
          "Presencial",
          "Híbrido",
          "Remoto",
          "Remoto",
          "Remoto",
          "Remoto",
          "Presencial",
          "Remoto",
          "Remoto",
          "Híbrido",
          "Remoto",
          "Presencial",
          "Híbrido",
          "Remoto",
          "Remoto",
          "Presencial",
          "Presencial",
          "Remoto",
          "Híbrido",
          "Remoto",
          "Presencial",
          "Presencial",
          "Remoto",
          "Remoto",
          "Remoto",
          "Presencial",
          "Remoto",
          "Híbrido",
          "Presencial",
          "Remoto",
          "Remoto",
          "Presencial",
          "Remoto",
          "Remoto",
          "Remoto",
          "Presencial",
          "Híbrido",
          "Remoto",
          "Remoto",
          "Remoto",
          "Remoto",
          "Presencial",
          "Presencial",
          "Híbrido",
          "Remoto",
          "Remoto",
          "Presencial",
          "Remoto",
          "Presencial",
          "Presencial",
          "Presencial",
          "Presencial",
          "Presencial",
          "Presencial",
          "Híbrido",
          "Remoto",
          "Remoto",
          "Híbrido",
          "Híbrido",
          "Híbrido",
          "Remoto",
          "Remoto",
          "Híbrido",
          "Híbrido",
          "Presencial",
          "Presencial",
          "Presencial",
          "Remoto",
          "Presencial",
          "Remoto",
          "Presencial",
          "Remoto",
          "Presencial",
          "Remoto",
          "Remoto",
          "Remoto",
          "Remoto",
          "Híbrido",
          "Presencial",
          "Remoto",
          "Remoto",
          "Presencial",
          "Remoto",
          "Remoto",
          "Híbrido",
          "Híbrido",
          "Remoto",
          "Híbrido",
          "Presencial",
          "Presencial",
          "Híbrido",
          "Híbrido",
          "Híbrido",
          "Híbrido",
          "Presencial",
          "Remoto",
          "Híbrido",
          "Híbrido",
          "Remoto",
          "Híbrido",
          "Presencial",
          "Remoto",
          "Remoto",
          "Presencial",
          "Presencial",
          "Presencial",
          "Presencial",
          "Remoto",
          "Presencial",
          "Remoto",
          "Híbrido",
          "Presencial",
          "Híbrido",
          "Remoto",
          "Remoto",
          "Presencial",
          "Remoto",
          "Remoto",
          "Remoto",
          "Remoto",
          "Presencial",
          "Presencial",
          "Presencial",
          "Híbrido",
          "Remoto",
          "Híbrido",
          "Remoto",
          "Presencial",
          "Híbrido",
          "Presencial",
          "Presencial",
          "Presencial",
          "Híbrido",
          "Híbrido",
          "Presencial",
          "Remoto",
          "Híbrido",
          "Presencial",
          "Remoto",
          "Híbrido",
          "Híbrido",
          "Remoto",
          "Remoto",
          "Presencial",
          "Presencial",
          "Presencial",
          "Presencial",
          "Remoto",
          "Remoto",
          "Presencial",
          "Híbrido",
          "Remoto",
          "Remoto",
          "Híbrido",
          "Presencial",
          "Presencial",
          "Híbrido",
          "Híbrido",
          "Remoto",
          "Híbrido",
          "Presencial",
          "Remoto",
          "Híbrido",
          "Híbrido",
          "Híbrido",
          "Presencial",
          "Remoto",
          "Remoto",
          "Presencial",
          "Híbrido",
          "Remoto",
          "Presencial",
          "Presencial",
          "Presencial",
          "Presencial",
          "Híbrido",
          "Presencial",
          "Remoto",
          "Remoto",
          "Remoto",
          "Remoto",
          "Remoto",
          "Híbrido",
          "Híbrido",
          "Híbrido",
          "Remoto",
          "Híbrido",
          "Presencial",
          "Presencial",
          "Remoto",
          "Híbrido",
          "Híbrido",
          "Híbrido",
          "Híbrido",
          "Remoto",
          "Híbrido",
          "Remoto",
          "Presencial",
          "Remoto",
          "Híbrido",
          "Remoto",
          "Remoto",
          "Presencial",
          "Presencial",
          "Presencial",
          "Híbrido",
          "Presencial",
          "Híbrido",
          "Híbrido",
          "Híbrido",
          "Remoto",
          "Híbrido",
          "Híbrido",
          "Presencial",
          "Presencial",
          "Presencial",
          "Híbrido",
          "Remoto",
          "Híbrido",
          "Híbrido",
          "Remoto",
          "Híbrido",
          "Remoto",
          "Híbrido",
          "Presencial",
          "Híbrido",
          "Presencial",
          "Remoto",
          "Presencial",
          "Presencial",
          "Presencial",
          "Híbrido",
          "Híbrido",
          "Presencial",
          "Híbrido",
          "Híbrido",
          "Presencial",
          "Presencial",
          "Presencial",
          "Remoto",
          "Remoto",
          "Remoto",
          "Remoto",
          "Remoto",
          "Híbrido",
          "Remoto",
          "Remoto",
          "Remoto",
          "Híbrido",
          "Híbrido",
          "Remoto",
          "Híbrido",
          "Híbrido",
          "Presencial",
          "Presencial",
          "Remoto",
          "Presencial",
          "Híbrido",
          "Presencial",
          "Híbrido",
          "Remoto",
          "Presencial",
          "Híbrido",
          "Híbrido",
          "Remoto",
          "Remoto",
          "Remoto",
          "Híbrido",
          "Remoto",
          "Híbrido",
          "Híbrido",
          "Híbrido",
          "Remoto",
          "Presencial",
          "Presencial",
          "Presencial",
          "Remoto",
          "Remoto",
          "Presencial",
          "Remoto",
          "Presencial",
          "Híbrido",
          "Presencial",
          "Presencial",
          "Presencial",
          "Híbrido",
          "Presencial",
          "Presencial",
          "Presencial",
          "Híbrido",
          "Híbrido",
          "Remoto",
          "Híbrido",
          "Presencial",
          "Remoto",
          "Presencial",
          "Presencial",
          "Remoto",
          "Presencial",
          "Híbrido",
          "Remoto",
          "Presencial",
          "Remoto",
          "Remoto",
          "Remoto",
          "Remoto",
          "Híbrido",
          "Remoto",
          "Remoto",
          "Presencial",
          "Presencial",
          "Presencial",
          "Presencial",
          "Presencial",
          "Presencial",
          "Híbrido",
          "Híbrido",
          "Híbrido",
          "Híbrido",
          "Remoto",
          "Remoto",
          "Híbrido",
          "Presencial",
          "Presencial",
          "Híbrido",
          "Presencial",
          "Híbrido",
          "Híbrido",
          "Presencial",
          "Presencial",
          "Presencial",
          "Presencial",
          "Remoto",
          "Remoto",
          "Presencial",
          "Híbrido",
          "Presencial",
          "Remoto",
          "Remoto",
          "Remoto",
          "Presencial",
          "Remoto",
          "Híbrido",
          "Híbrido",
          "Remoto",
          "Presencial",
          "Presencial",
          "Híbrido",
          "Remoto",
          "Híbrido",
          "Presencial",
          "Híbrido",
          "Híbrido",
          "Híbrido",
          "Híbrido",
          "Remoto",
          "Híbrido",
          "Remoto",
          "Híbrido",
          "Remoto",
          "Remoto",
          "Híbrido",
          "Híbrido",
          "Presencial",
          "Remoto",
          "Presencial",
          "Híbrido",
          "Híbrido",
          "Remoto",
          "Remoto",
          "Presencial",
          "Híbrido",
          "Remoto",
          "Presencial",
          "Remoto",
          "Remoto",
          "Presencial",
          "Presencial",
          "Híbrido",
          "Remoto",
          "Presencial",
          "Híbrido",
          "Remoto",
          "Híbrido",
          "Presencial",
          "Híbrido",
          "Híbrido",
          "Presencial",
          "Híbrido",
          "Presencial",
          "Híbrido",
          "Presencial",
          "Híbrido",
          "Híbrido",
          "Híbrido",
          "Remoto",
          "Remoto",
          "Presencial",
          "Presencial",
          "Remoto",
          "Híbrido",
          "Remoto",
          "Presencial",
          "Remoto",
          "Remoto",
          "Remoto",
          "Presencial",
          "Presencial",
          "Presencial",
          "Remoto",
          "Presencial",
          "Remoto",
          "Híbrido",
          "Presencial",
          "Remoto",
          "Híbrido",
          "Remoto",
          "Presencial",
          "Remoto",
          "Presencial",
          "Presencial",
          "Híbrido",
          "Remoto",
          "Remoto",
          "Remoto",
          "Remoto",
          "Remoto",
          "Presencial",
          "Híbrido",
          "Remoto",
          "Remoto",
          "Híbrido",
          "Presencial",
          "Híbrido",
          "Híbrido",
          "Remoto",
          "Remoto",
          "Híbrido",
          "Presencial",
          "Remoto",
          "Híbrido",
          "Presencial",
          "Presencial",
          "Presencial",
          "Presencial",
          "Híbrido",
          "Remoto",
          "Híbrido",
          "Híbrido",
          "Híbrido",
          "Híbrido",
          "Remoto",
          "Híbrido",
          "Presencial",
          "Presencial",
          "Híbrido",
          "Híbrido",
          "Remoto",
          "Presencial",
          "Presencial",
          "Remoto",
          "Remoto",
          "Remoto",
          "Remoto",
          "Presencial",
          "Presencial",
          "Remoto",
          "Híbrido",
          "Híbrido",
          "Presencial",
          "Híbrido",
          "Remoto",
          "Remoto",
          "Presencial",
          "Híbrido",
          "Híbrido",
          "Presencial",
          "Presencial",
          "Remoto",
          "Híbrido",
          "Presencial",
          "Presencial",
          "Híbrido",
          "Presencial",
          "Híbrido",
          "Presencial",
          "Presencial",
          "Remoto",
          "Híbrido",
          "Híbrido",
          "Presencial",
          "Híbrido",
          "Presencial",
          "Híbrido",
          "Presencial",
          "Presencial",
          "Presencial",
          "Remoto",
          "Remoto",
          "Remoto",
          "Híbrido",
          "Presencial",
          "Presencial",
          "Presencial",
          "Remoto",
          "Presencial",
          "Remoto",
          "Remoto",
          "Presencial",
          "Híbrido",
          "Remoto",
          "Híbrido",
          "Híbrido",
          "Híbrido",
          "Presencial",
          "Híbrido",
          "Presencial",
          "Presencial",
          "Presencial",
          "Híbrido",
          "Híbrido",
          "Remoto",
          "Remoto",
          "Remoto",
          "Presencial",
          "Híbrido",
          "Remoto",
          "Remoto",
          "Híbrido",
          "Híbrido",
          "Remoto",
          "Híbrido",
          "Presencial",
          "Híbrido",
          "Híbrido",
          "Remoto",
          "Presencial",
          "Híbrido",
          "Remoto",
          "Híbrido",
          "Presencial",
          "Presencial",
          "Presencial",
          "Híbrido",
          "Presencial",
          "Presencial",
          "Remoto",
          "Remoto",
          "Híbrido",
          "Híbrido",
          "Híbrido",
          "Híbrido",
          "Remoto",
          "Remoto",
          "Híbrido",
          "Híbrido",
          "Remoto",
          "Remoto",
          "Presencial",
          "Híbrido",
          "Remoto",
          "Híbrido",
          "Presencial",
          "Remoto",
          "Presencial",
          "Remoto",
          "Remoto",
          "Remoto",
          "Presencial",
          "Híbrido",
          "Híbrido",
          "Híbrido",
          "Remoto",
          "Presencial",
          "Híbrido",
          "Presencial",
          "Remoto",
          "Híbrido",
          "Remoto",
          "Híbrido",
          "Híbrido",
          "Remoto",
          "Presencial",
          "Remoto",
          "Remoto",
          "Híbrido",
          "Remoto",
          "Presencial",
          "Remoto",
          "Remoto",
          "Híbrido",
          "Remoto",
          "Presencial",
          "Presencial",
          "Remoto",
          "Híbrido",
          "Presencial",
          "Remoto",
          "Híbrido",
          "Presencial",
          "Presencial",
          "Híbrido",
          "Presencial",
          "Remoto",
          "Presencial",
          "Remoto",
          "Remoto",
          "Híbrido",
          "Remoto",
          "Híbrido",
          "Presencial",
          "Híbrido",
          "Híbrido",
          "Remoto",
          "Híbrido",
          "Híbrido",
          "Presencial",
          "Presencial",
          "Híbrido",
          "Híbrido",
          "Híbrido",
          "Remoto",
          "Remoto",
          "Híbrido",
          "Presencial",
          "Presencial",
          "Presencial",
          "Presencial",
          "Híbrido",
          "Presencial",
          "Híbrido",
          "Remoto",
          "Híbrido",
          "Remoto",
          "Remoto",
          "Presencial",
          "Presencial",
          "Remoto",
          "Híbrido",
          "Remoto",
          "Híbrido",
          "Presencial",
          "Remoto",
          "Remoto",
          "Remoto",
          "Híbrido",
          "Presencial",
          "Presencial",
          "Híbrido",
          "Remoto",
          "Remoto",
          "Híbrido",
          "Híbrido",
          "Híbrido",
          "Híbrido",
          "Híbrido",
          "Remoto",
          "Remoto",
          "Remoto",
          "Híbrido",
          "Remoto",
          "Remoto",
          "Presencial",
          "Híbrido",
          "Híbrido",
          "Presencial",
          "Híbrido",
          "Presencial",
          "Remoto",
          "Presencial",
          "Remoto",
          "Presencial",
          "Híbrido",
          "Remoto",
          "Remoto",
          "Híbrido",
          "Híbrido",
          "Remoto",
          "Presencial",
          "Híbrido",
          "Presencial",
          "Presencial",
          "Presencial",
          "Presencial",
          "Híbrido",
          "Presencial",
          "Presencial",
          "Presencial",
          "Presencial",
          "Presencial",
          "Híbrido",
          "Presencial",
          "Presencial",
          "Presencial",
          "Remoto",
          "Presencial",
          "Remoto",
          "Remoto",
          "Presencial",
          "Híbrido",
          "Remoto",
          "Presencial",
          "Híbrido",
          "Híbrido",
          "Presencial",
          "Híbrido",
          "Remoto",
          "Híbrido",
          "Híbrido",
          "Presencial",
          "Remoto",
          "Remoto",
          "Híbrido",
          "Remoto",
          "Presencial",
          "Híbrido",
          "Presencial",
          "Híbrido",
          "Híbrido",
          "Presencial",
          "Presencial",
          "Presencial",
          "Presencial",
          "Presencial",
          "Híbrido",
          "Remoto",
          "Presencial",
          "Presencial",
          "Híbrido",
          "Híbrido",
          "Híbrido",
          "Híbrido",
          "Híbrido",
          "Remoto",
          "Remoto",
          "Presencial",
          "Presencial",
          "Remoto",
          "Presencial",
          "Remoto",
          "Remoto",
          "Remoto",
          "Remoto",
          "Presencial",
          "Presencial",
          "Presencial",
          "Híbrido",
          "Presencial",
          "Presencial",
          "Remoto",
          "Presencial",
          "Híbrido",
          "Híbrido",
          "Híbrido",
          "Remoto",
          "Híbrido",
          "Remoto",
          "Híbrido",
          "Presencial",
          "Híbrido",
          "Híbrido",
          "Híbrido",
          "Presencial",
          "Remoto",
          "Híbrido",
          "Remoto",
          "Remoto",
          "Remoto",
          "Híbrido",
          "Remoto",
          "Presencial",
          "Remoto",
          "Presencial",
          "Presencial",
          "Remoto",
          "Remoto",
          "Remoto",
          "Presencial",
          "Híbrido",
          "Híbrido",
          "Híbrido",
          "Presencial",
          "Híbrido",
          "Remoto",
          "Remoto",
          "Remoto",
          "Presencial",
          "Híbrido",
          "Híbrido",
          "Híbrido",
          "Remoto",
          "Híbrido",
          "Remoto",
          "Presencial",
          "Remoto",
          "Híbrido",
          "Híbrido",
          "Presencial",
          "Presencial",
          "Presencial",
          "Híbrido",
          "Presencial",
          "Presencial",
          "Remoto",
          "Remoto",
          "Híbrido",
          "Híbrido",
          "Presencial",
          "Remoto",
          "Híbrido",
          "Remoto",
          "Remoto",
          "Presencial",
          "Presencial",
          "Remoto",
          "Presencial",
          "Remoto",
          "Híbrido",
          "Presencial",
          "Híbrido",
          "Remoto",
          "Presencial",
          "Híbrido",
          "Presencial",
          "Híbrido",
          "Remoto",
          "Remoto",
          "Híbrido",
          "Remoto",
          "Híbrido",
          "Híbrido",
          "Híbrido",
          "Remoto",
          "Remoto",
          "Remoto",
          "Remoto",
          "Presencial",
          "Presencial",
          "Remoto",
          "Híbrido",
          "Presencial",
          "Remoto",
          "Presencial",
          "Remoto",
          "Presencial",
          "Presencial",
          "Híbrido",
          "Remoto",
          "Remoto",
          "Remoto",
          "Remoto",
          "Remoto",
          "Híbrido",
          "Híbrido",
          "Híbrido",
          "Presencial",
          "Híbrido",
          "Remoto",
          "Presencial",
          "Presencial",
          "Presencial",
          "Presencial",
          "Híbrido",
          "Híbrido",
          "Remoto",
          "Híbrido",
          "Presencial",
          "Remoto",
          "Remoto",
          "Remoto",
          "Remoto",
          "Presencial",
          "Presencial",
          "Remoto",
          "Híbrido",
          "Remoto",
          "Híbrido",
          "Presencial",
          "Remoto",
          "Remoto",
          "Presencial",
          "Remoto",
          "Híbrido",
          "Híbrido",
          "Híbrido",
          "Presencial",
          "Remoto",
          "Híbrido",
          "Remoto",
          "Remoto",
          "Remoto",
          "Presencial",
          "Remoto",
          "Presencial",
          "Presencial",
          "Híbrido",
          "Presencial",
          "Remoto",
          "Remoto",
          "Híbrido",
          "Presencial",
          "Híbrido",
          "Presencial",
          "Remoto",
          "Híbrido",
          "Presencial",
          "Presencial",
          "Híbrido",
          "Presencial",
          "Presencial",
          "Híbrido",
          "Remoto",
          "Híbrido",
          "Remoto",
          "Presencial",
          "Remoto",
          "Presencial",
          "Híbrido",
          "Remoto",
          "Híbrido",
          "Presencial",
          "Presencial",
          "Remoto",
          "Remoto",
          "Presencial",
          "Híbrido",
          "Híbrido",
          "Presencial",
          "Presencial",
          "Remoto",
          "Presencial",
          "Remoto",
          "Híbrido",
          "Remoto",
          "Remoto",
          "Remoto",
          "Remoto",
          "Presencial",
          "Híbrido",
          "Híbrido",
          "Presencial",
          "Presencial",
          "Remoto",
          "Remoto",
          "Híbrido",
          "Remoto",
          "Presencial",
          "Presencial",
          "Híbrido",
          "Presencial",
          "Remoto",
          "Híbrido",
          "Remoto",
          "Remoto",
          "Híbrido",
          "Remoto",
          "Presencial",
          "Presencial",
          "Remoto",
          "Remoto",
          "Presencial",
          "Remoto",
          "Remoto",
          "Remoto",
          "Presencial",
          "Híbrido",
          "Presencial",
          "Híbrido",
          "Híbrido",
          "Presencial",
          "Presencial",
          "Presencial",
          "Híbrido",
          "Remoto",
          "Presencial",
          "Remoto",
          "Remoto",
          "Presencial",
          "Remoto",
          "Presencial",
          "Híbrido",
          "Presencial",
          "Híbrido",
          "Híbrido",
          "Híbrido",
          "Presencial",
          "Presencial",
          "Híbrido",
          "Remoto",
          "Remoto",
          "Presencial",
          "Remoto",
          "Presencial",
          "Híbrido",
          "Presencial",
          "Remoto",
          "Híbrido",
          "Presencial",
          "Presencial",
          "Presencial",
          "Presencial",
          "Híbrido",
          "Presencial",
          "Remoto",
          "Híbrido",
          "Remoto",
          "Presencial",
          "Presencial",
          "Presencial",
          "Presencial",
          "Remoto",
          "Remoto",
          "Remoto",
          "Remoto",
          "Híbrido",
          "Presencial",
          "Presencial",
          "Híbrido",
          "Remoto",
          "Presencial",
          "Presencial",
          "Remoto",
          "Remoto",
          "Presencial",
          "Híbrido",
          "Presencial",
          "Presencial",
          "Remoto",
          "Híbrido",
          "Presencial",
          "Presencial",
          "Remoto",
          "Remoto",
          "Híbrido",
          "Híbrido",
          "Presencial",
          "Híbrido",
          "Híbrido",
          "Híbrido",
          "Híbrido",
          "Híbrido",
          "Remoto",
          "Híbrido",
          "Híbrido",
          "Híbrido",
          "Remoto",
          "Remoto",
          "Híbrido",
          "Híbrido",
          "Presencial",
          "Presencial",
          "Remoto",
          "Presencial",
          "Presencial",
          "Presencial",
          "Remoto",
          "Híbrido",
          "Remoto",
          "Híbrido",
          "Remoto",
          "Híbrido",
          "Presencial",
          "Híbrido",
          "Remoto",
          "Remoto",
          "Presencial",
          "Híbrido",
          "Híbrido",
          "Presencial",
          "Remoto",
          "Híbrido",
          "Remoto",
          "Presencial",
          "Presencial",
          "Presencial",
          "Presencial",
          "Remoto",
          "Remoto",
          "Remoto",
          "Híbrido",
          "Remoto",
          "Presencial",
          "Remoto",
          "Presencial",
          "Híbrido",
          "Híbrido",
          "Presencial",
          "Remoto",
          "Remoto",
          "Híbrido",
          "Presencial",
          "Presencial",
          "Híbrido",
          "Híbrido",
          "Híbrido",
          "Presencial",
          "Híbrido",
          "Remoto",
          "Híbrido",
          "Presencial",
          "Presencial",
          "Remoto",
          "Presencial",
          "Híbrido",
          "Presencial",
          "Presencial",
          "Presencial",
          "Presencial",
          "Híbrido",
          "Presencial",
          "Remoto",
          "Remoto",
          "Presencial",
          "Remoto",
          "Híbrido",
          "Híbrido",
          "Híbrido",
          "Híbrido",
          "Híbrido",
          "Remoto",
          "Remoto",
          "Híbrido",
          "Remoto",
          "Híbrido",
          "Híbrido",
          "Remoto",
          "Híbrido",
          "Remoto",
          "Remoto",
          "Híbrido",
          "Híbrido",
          "Presencial",
          "Híbrido",
          "Híbrido",
          "Presencial",
          "Híbrido",
          "Presencial",
          "Remoto",
          "Híbrido",
          "Híbrido",
          "Remoto",
          "Híbrido",
          "Remoto",
          "Híbrido",
          "Remoto",
          "Híbrido",
          "Híbrido",
          "Presencial",
          "Presencial",
          "Híbrido",
          "Remoto",
          "Presencial",
          "Presencial",
          "Presencial",
          "Presencial",
          "Presencial",
          "Remoto",
          "Híbrido",
          "Remoto",
          "Remoto",
          "Remoto",
          "Remoto",
          "Híbrido",
          "Presencial",
          "Híbrido",
          "Presencial",
          "Remoto",
          "Presencial",
          "Híbrido",
          "Híbrido",
          "Híbrido",
          "Remoto",
          "Presencial",
          "Híbrido",
          "Presencial",
          "Híbrido",
          "Remoto",
          "Presencial",
          "Híbrido",
          "Presencial"
         ],
         "xaxis": "x",
         "yaxis": "y"
        },
        {
         "alignmentgroup": "True",
         "bingroup": "x",
         "hovertemplate": "churn=1<br>regime_trabalho=%{x}<br>count=%{y}<extra></extra>",
         "legendgroup": "1",
         "marker": {
          "color": "#EF553B",
          "pattern": {
           "shape": ""
          }
         },
         "name": "1",
         "offsetgroup": "1",
         "orientation": "v",
         "showlegend": true,
         "type": "histogram",
         "x": [
          "Presencial",
          "Remoto",
          "Híbrido",
          "Remoto",
          "Híbrido",
          "Híbrido",
          "Remoto",
          "Presencial",
          "Híbrido",
          "Presencial",
          "Remoto",
          "Híbrido",
          "Remoto",
          "Híbrido",
          "Presencial",
          "Presencial",
          "Remoto",
          "Híbrido",
          "Híbrido",
          "Híbrido",
          "Híbrido",
          "Remoto",
          "Presencial",
          "Presencial",
          "Híbrido",
          "Presencial",
          "Híbrido",
          "Presencial",
          "Remoto",
          "Remoto",
          "Remoto",
          "Remoto",
          "Híbrido",
          "Remoto",
          "Remoto",
          "Presencial",
          "Híbrido",
          "Híbrido",
          "Remoto",
          "Híbrido",
          "Remoto",
          "Presencial",
          "Presencial",
          "Presencial",
          "Remoto",
          "Presencial",
          "Híbrido",
          "Remoto",
          "Remoto",
          "Presencial",
          "Híbrido",
          "Híbrido",
          "Remoto",
          "Remoto",
          "Híbrido",
          "Presencial",
          "Presencial",
          "Presencial",
          "Remoto",
          "Híbrido",
          "Presencial",
          "Presencial",
          "Remoto",
          "Híbrido",
          "Presencial",
          "Remoto",
          "Remoto",
          "Remoto",
          "Presencial",
          "Remoto",
          "Presencial",
          "Híbrido",
          "Híbrido",
          "Remoto",
          "Presencial",
          "Híbrido",
          "Remoto",
          "Remoto",
          "Híbrido",
          "Remoto",
          "Presencial",
          "Híbrido",
          "Híbrido",
          "Remoto",
          "Remoto",
          "Presencial",
          "Presencial",
          "Híbrido",
          "Remoto",
          "Presencial",
          "Remoto",
          "Presencial",
          "Remoto",
          "Presencial",
          "Híbrido",
          "Híbrido",
          "Híbrido",
          "Presencial",
          "Remoto",
          "Presencial",
          "Presencial",
          "Presencial",
          "Remoto",
          "Remoto",
          "Remoto",
          "Presencial",
          "Híbrido",
          "Híbrido",
          "Híbrido",
          "Presencial",
          "Híbrido",
          "Híbrido",
          "Híbrido",
          "Remoto",
          "Remoto",
          "Híbrido",
          "Híbrido",
          "Remoto",
          "Presencial",
          "Híbrido",
          "Presencial",
          "Remoto",
          "Remoto",
          "Híbrido",
          "Híbrido",
          "Remoto",
          "Híbrido",
          "Remoto",
          "Presencial",
          "Remoto",
          "Remoto",
          "Presencial",
          "Híbrido",
          "Presencial",
          "Híbrido",
          "Híbrido",
          "Presencial",
          "Presencial",
          "Remoto",
          "Presencial",
          "Presencial",
          "Híbrido",
          "Híbrido",
          "Presencial",
          "Presencial",
          "Híbrido",
          "Presencial",
          "Remoto",
          "Presencial",
          "Presencial",
          "Híbrido",
          "Remoto",
          "Presencial",
          "Híbrido",
          "Remoto",
          "Presencial",
          "Híbrido",
          "Presencial",
          "Remoto",
          "Remoto",
          "Híbrido",
          "Remoto",
          "Remoto",
          "Remoto",
          "Presencial",
          "Presencial",
          "Híbrido",
          "Remoto",
          "Híbrido",
          "Remoto",
          "Presencial",
          "Presencial",
          "Híbrido",
          "Presencial",
          "Remoto",
          "Híbrido",
          "Presencial",
          "Presencial",
          "Remoto",
          "Híbrido",
          "Presencial",
          "Híbrido",
          "Híbrido",
          "Presencial",
          "Presencial",
          "Remoto",
          "Remoto",
          "Híbrido",
          "Híbrido",
          "Presencial",
          "Híbrido",
          "Remoto",
          "Presencial",
          "Remoto",
          "Híbrido",
          "Híbrido",
          "Híbrido",
          "Remoto",
          "Híbrido",
          "Presencial",
          "Híbrido",
          "Remoto",
          "Presencial",
          "Remoto",
          "Híbrido",
          "Presencial",
          "Presencial",
          "Remoto",
          "Híbrido",
          "Híbrido",
          "Híbrido",
          "Híbrido",
          "Híbrido",
          "Híbrido",
          "Presencial",
          "Remoto",
          "Remoto",
          "Híbrido",
          "Remoto",
          "Híbrido",
          "Presencial",
          "Presencial",
          "Remoto",
          "Híbrido",
          "Remoto",
          "Presencial",
          "Remoto",
          "Remoto",
          "Híbrido",
          "Remoto",
          "Remoto",
          "Presencial",
          "Híbrido",
          "Remoto",
          "Remoto",
          "Híbrido",
          "Remoto",
          "Presencial",
          "Presencial",
          "Remoto",
          "Remoto",
          "Remoto",
          "Híbrido",
          "Presencial",
          "Híbrido",
          "Remoto",
          "Presencial",
          "Presencial",
          "Híbrido",
          "Híbrido",
          "Híbrido",
          "Remoto",
          "Presencial",
          "Remoto",
          "Híbrido",
          "Presencial",
          "Remoto",
          "Presencial",
          "Remoto",
          "Remoto",
          "Híbrido",
          "Presencial",
          "Híbrido",
          "Remoto",
          "Presencial",
          "Presencial",
          "Presencial",
          "Presencial",
          "Presencial",
          "Híbrido",
          "Presencial",
          "Remoto",
          "Presencial",
          "Remoto",
          "Remoto",
          "Remoto",
          "Híbrido",
          "Presencial",
          "Presencial",
          "Híbrido",
          "Híbrido",
          "Presencial",
          "Híbrido",
          "Remoto",
          "Híbrido",
          "Presencial"
         ],
         "xaxis": "x",
         "yaxis": "y"
        }
       ],
       "layout": {
        "barmode": "group",
        "legend": {
         "title": {
          "text": "churn"
         },
         "tracegroupgap": 0
        },
        "template": {
         "data": {
          "bar": [
           {
            "error_x": {
             "color": "#2a3f5f"
            },
            "error_y": {
             "color": "#2a3f5f"
            },
            "marker": {
             "line": {
              "color": "#E5ECF6",
              "width": 0.5
             },
             "pattern": {
              "fillmode": "overlay",
              "size": 10,
              "solidity": 0.2
             }
            },
            "type": "bar"
           }
          ],
          "barpolar": [
           {
            "marker": {
             "line": {
              "color": "#E5ECF6",
              "width": 0.5
             },
             "pattern": {
              "fillmode": "overlay",
              "size": 10,
              "solidity": 0.2
             }
            },
            "type": "barpolar"
           }
          ],
          "carpet": [
           {
            "aaxis": {
             "endlinecolor": "#2a3f5f",
             "gridcolor": "white",
             "linecolor": "white",
             "minorgridcolor": "white",
             "startlinecolor": "#2a3f5f"
            },
            "baxis": {
             "endlinecolor": "#2a3f5f",
             "gridcolor": "white",
             "linecolor": "white",
             "minorgridcolor": "white",
             "startlinecolor": "#2a3f5f"
            },
            "type": "carpet"
           }
          ],
          "choropleth": [
           {
            "colorbar": {
             "outlinewidth": 0,
             "ticks": ""
            },
            "type": "choropleth"
           }
          ],
          "contour": [
           {
            "colorbar": {
             "outlinewidth": 0,
             "ticks": ""
            },
            "colorscale": [
             [
              0,
              "#0d0887"
             ],
             [
              0.1111111111111111,
              "#46039f"
             ],
             [
              0.2222222222222222,
              "#7201a8"
             ],
             [
              0.3333333333333333,
              "#9c179e"
             ],
             [
              0.4444444444444444,
              "#bd3786"
             ],
             [
              0.5555555555555556,
              "#d8576b"
             ],
             [
              0.6666666666666666,
              "#ed7953"
             ],
             [
              0.7777777777777778,
              "#fb9f3a"
             ],
             [
              0.8888888888888888,
              "#fdca26"
             ],
             [
              1,
              "#f0f921"
             ]
            ],
            "type": "contour"
           }
          ],
          "contourcarpet": [
           {
            "colorbar": {
             "outlinewidth": 0,
             "ticks": ""
            },
            "type": "contourcarpet"
           }
          ],
          "heatmap": [
           {
            "colorbar": {
             "outlinewidth": 0,
             "ticks": ""
            },
            "colorscale": [
             [
              0,
              "#0d0887"
             ],
             [
              0.1111111111111111,
              "#46039f"
             ],
             [
              0.2222222222222222,
              "#7201a8"
             ],
             [
              0.3333333333333333,
              "#9c179e"
             ],
             [
              0.4444444444444444,
              "#bd3786"
             ],
             [
              0.5555555555555556,
              "#d8576b"
             ],
             [
              0.6666666666666666,
              "#ed7953"
             ],
             [
              0.7777777777777778,
              "#fb9f3a"
             ],
             [
              0.8888888888888888,
              "#fdca26"
             ],
             [
              1,
              "#f0f921"
             ]
            ],
            "type": "heatmap"
           }
          ],
          "histogram": [
           {
            "marker": {
             "pattern": {
              "fillmode": "overlay",
              "size": 10,
              "solidity": 0.2
             }
            },
            "type": "histogram"
           }
          ],
          "histogram2d": [
           {
            "colorbar": {
             "outlinewidth": 0,
             "ticks": ""
            },
            "colorscale": [
             [
              0,
              "#0d0887"
             ],
             [
              0.1111111111111111,
              "#46039f"
             ],
             [
              0.2222222222222222,
              "#7201a8"
             ],
             [
              0.3333333333333333,
              "#9c179e"
             ],
             [
              0.4444444444444444,
              "#bd3786"
             ],
             [
              0.5555555555555556,
              "#d8576b"
             ],
             [
              0.6666666666666666,
              "#ed7953"
             ],
             [
              0.7777777777777778,
              "#fb9f3a"
             ],
             [
              0.8888888888888888,
              "#fdca26"
             ],
             [
              1,
              "#f0f921"
             ]
            ],
            "type": "histogram2d"
           }
          ],
          "histogram2dcontour": [
           {
            "colorbar": {
             "outlinewidth": 0,
             "ticks": ""
            },
            "colorscale": [
             [
              0,
              "#0d0887"
             ],
             [
              0.1111111111111111,
              "#46039f"
             ],
             [
              0.2222222222222222,
              "#7201a8"
             ],
             [
              0.3333333333333333,
              "#9c179e"
             ],
             [
              0.4444444444444444,
              "#bd3786"
             ],
             [
              0.5555555555555556,
              "#d8576b"
             ],
             [
              0.6666666666666666,
              "#ed7953"
             ],
             [
              0.7777777777777778,
              "#fb9f3a"
             ],
             [
              0.8888888888888888,
              "#fdca26"
             ],
             [
              1,
              "#f0f921"
             ]
            ],
            "type": "histogram2dcontour"
           }
          ],
          "mesh3d": [
           {
            "colorbar": {
             "outlinewidth": 0,
             "ticks": ""
            },
            "type": "mesh3d"
           }
          ],
          "parcoords": [
           {
            "line": {
             "colorbar": {
              "outlinewidth": 0,
              "ticks": ""
             }
            },
            "type": "parcoords"
           }
          ],
          "pie": [
           {
            "automargin": true,
            "type": "pie"
           }
          ],
          "scatter": [
           {
            "fillpattern": {
             "fillmode": "overlay",
             "size": 10,
             "solidity": 0.2
            },
            "type": "scatter"
           }
          ],
          "scatter3d": [
           {
            "line": {
             "colorbar": {
              "outlinewidth": 0,
              "ticks": ""
             }
            },
            "marker": {
             "colorbar": {
              "outlinewidth": 0,
              "ticks": ""
             }
            },
            "type": "scatter3d"
           }
          ],
          "scattercarpet": [
           {
            "marker": {
             "colorbar": {
              "outlinewidth": 0,
              "ticks": ""
             }
            },
            "type": "scattercarpet"
           }
          ],
          "scattergeo": [
           {
            "marker": {
             "colorbar": {
              "outlinewidth": 0,
              "ticks": ""
             }
            },
            "type": "scattergeo"
           }
          ],
          "scattergl": [
           {
            "marker": {
             "colorbar": {
              "outlinewidth": 0,
              "ticks": ""
             }
            },
            "type": "scattergl"
           }
          ],
          "scattermap": [
           {
            "marker": {
             "colorbar": {
              "outlinewidth": 0,
              "ticks": ""
             }
            },
            "type": "scattermap"
           }
          ],
          "scattermapbox": [
           {
            "marker": {
             "colorbar": {
              "outlinewidth": 0,
              "ticks": ""
             }
            },
            "type": "scattermapbox"
           }
          ],
          "scatterpolar": [
           {
            "marker": {
             "colorbar": {
              "outlinewidth": 0,
              "ticks": ""
             }
            },
            "type": "scatterpolar"
           }
          ],
          "scatterpolargl": [
           {
            "marker": {
             "colorbar": {
              "outlinewidth": 0,
              "ticks": ""
             }
            },
            "type": "scatterpolargl"
           }
          ],
          "scatterternary": [
           {
            "marker": {
             "colorbar": {
              "outlinewidth": 0,
              "ticks": ""
             }
            },
            "type": "scatterternary"
           }
          ],
          "surface": [
           {
            "colorbar": {
             "outlinewidth": 0,
             "ticks": ""
            },
            "colorscale": [
             [
              0,
              "#0d0887"
             ],
             [
              0.1111111111111111,
              "#46039f"
             ],
             [
              0.2222222222222222,
              "#7201a8"
             ],
             [
              0.3333333333333333,
              "#9c179e"
             ],
             [
              0.4444444444444444,
              "#bd3786"
             ],
             [
              0.5555555555555556,
              "#d8576b"
             ],
             [
              0.6666666666666666,
              "#ed7953"
             ],
             [
              0.7777777777777778,
              "#fb9f3a"
             ],
             [
              0.8888888888888888,
              "#fdca26"
             ],
             [
              1,
              "#f0f921"
             ]
            ],
            "type": "surface"
           }
          ],
          "table": [
           {
            "cells": {
             "fill": {
              "color": "#EBF0F8"
             },
             "line": {
              "color": "white"
             }
            },
            "header": {
             "fill": {
              "color": "#C8D4E3"
             },
             "line": {
              "color": "white"
             }
            },
            "type": "table"
           }
          ]
         },
         "layout": {
          "annotationdefaults": {
           "arrowcolor": "#2a3f5f",
           "arrowhead": 0,
           "arrowwidth": 1
          },
          "autotypenumbers": "strict",
          "coloraxis": {
           "colorbar": {
            "outlinewidth": 0,
            "ticks": ""
           }
          },
          "colorscale": {
           "diverging": [
            [
             0,
             "#8e0152"
            ],
            [
             0.1,
             "#c51b7d"
            ],
            [
             0.2,
             "#de77ae"
            ],
            [
             0.3,
             "#f1b6da"
            ],
            [
             0.4,
             "#fde0ef"
            ],
            [
             0.5,
             "#f7f7f7"
            ],
            [
             0.6,
             "#e6f5d0"
            ],
            [
             0.7,
             "#b8e186"
            ],
            [
             0.8,
             "#7fbc41"
            ],
            [
             0.9,
             "#4d9221"
            ],
            [
             1,
             "#276419"
            ]
           ],
           "sequential": [
            [
             0,
             "#0d0887"
            ],
            [
             0.1111111111111111,
             "#46039f"
            ],
            [
             0.2222222222222222,
             "#7201a8"
            ],
            [
             0.3333333333333333,
             "#9c179e"
            ],
            [
             0.4444444444444444,
             "#bd3786"
            ],
            [
             0.5555555555555556,
             "#d8576b"
            ],
            [
             0.6666666666666666,
             "#ed7953"
            ],
            [
             0.7777777777777778,
             "#fb9f3a"
            ],
            [
             0.8888888888888888,
             "#fdca26"
            ],
            [
             1,
             "#f0f921"
            ]
           ],
           "sequentialminus": [
            [
             0,
             "#0d0887"
            ],
            [
             0.1111111111111111,
             "#46039f"
            ],
            [
             0.2222222222222222,
             "#7201a8"
            ],
            [
             0.3333333333333333,
             "#9c179e"
            ],
            [
             0.4444444444444444,
             "#bd3786"
            ],
            [
             0.5555555555555556,
             "#d8576b"
            ],
            [
             0.6666666666666666,
             "#ed7953"
            ],
            [
             0.7777777777777778,
             "#fb9f3a"
            ],
            [
             0.8888888888888888,
             "#fdca26"
            ],
            [
             1,
             "#f0f921"
            ]
           ]
          },
          "colorway": [
           "#636efa",
           "#EF553B",
           "#00cc96",
           "#ab63fa",
           "#FFA15A",
           "#19d3f3",
           "#FF6692",
           "#B6E880",
           "#FF97FF",
           "#FECB52"
          ],
          "font": {
           "color": "#2a3f5f"
          },
          "geo": {
           "bgcolor": "white",
           "lakecolor": "white",
           "landcolor": "#E5ECF6",
           "showlakes": true,
           "showland": true,
           "subunitcolor": "white"
          },
          "hoverlabel": {
           "align": "left"
          },
          "hovermode": "closest",
          "mapbox": {
           "style": "light"
          },
          "paper_bgcolor": "white",
          "plot_bgcolor": "#E5ECF6",
          "polar": {
           "angularaxis": {
            "gridcolor": "white",
            "linecolor": "white",
            "ticks": ""
           },
           "bgcolor": "#E5ECF6",
           "radialaxis": {
            "gridcolor": "white",
            "linecolor": "white",
            "ticks": ""
           }
          },
          "scene": {
           "xaxis": {
            "backgroundcolor": "#E5ECF6",
            "gridcolor": "white",
            "gridwidth": 2,
            "linecolor": "white",
            "showbackground": true,
            "ticks": "",
            "zerolinecolor": "white"
           },
           "yaxis": {
            "backgroundcolor": "#E5ECF6",
            "gridcolor": "white",
            "gridwidth": 2,
            "linecolor": "white",
            "showbackground": true,
            "ticks": "",
            "zerolinecolor": "white"
           },
           "zaxis": {
            "backgroundcolor": "#E5ECF6",
            "gridcolor": "white",
            "gridwidth": 2,
            "linecolor": "white",
            "showbackground": true,
            "ticks": "",
            "zerolinecolor": "white"
           }
          },
          "shapedefaults": {
           "line": {
            "color": "#2a3f5f"
           }
          },
          "ternary": {
           "aaxis": {
            "gridcolor": "white",
            "linecolor": "white",
            "ticks": ""
           },
           "baxis": {
            "gridcolor": "white",
            "linecolor": "white",
            "ticks": ""
           },
           "bgcolor": "#E5ECF6",
           "caxis": {
            "gridcolor": "white",
            "linecolor": "white",
            "ticks": ""
           }
          },
          "title": {
           "x": 0.05
          },
          "xaxis": {
           "automargin": true,
           "gridcolor": "white",
           "linecolor": "white",
           "ticks": "",
           "title": {
            "standoff": 15
           },
           "zerolinecolor": "white",
           "zerolinewidth": 2
          },
          "yaxis": {
           "automargin": true,
           "gridcolor": "white",
           "linecolor": "white",
           "ticks": "",
           "title": {
            "standoff": 15
           },
           "zerolinecolor": "white",
           "zerolinewidth": 2
          }
         }
        },
        "title": {
         "text": "Histograma da coluna regime_trabalho"
        },
        "xaxis": {
         "anchor": "y",
         "domain": [
          0,
          1
         ],
         "title": {
          "text": "regime_trabalho"
         }
        },
        "yaxis": {
         "anchor": "x",
         "domain": [
          0,
          1
         ],
         "title": {
          "text": "count"
         }
        }
       }
      }
     },
     "metadata": {},
     "output_type": "display_data"
    },
    {
     "data": {
      "application/vnd.plotly.v1+json": {
       "config": {
        "plotlyServerURL": "https://plot.ly"
       },
       "data": [
        {
         "alignmentgroup": "True",
         "bingroup": "x",
         "hovertemplate": "churn=0<br>tipo_demissao=%{x}<br>count=%{y}<extra></extra>",
         "legendgroup": "0",
         "marker": {
          "color": "#636efa",
          "pattern": {
           "shape": ""
          }
         },
         "name": "0",
         "offsetgroup": "0",
         "orientation": "v",
         "showlegend": true,
         "type": "histogram",
         "x": [
          null,
          null,
          null,
          null,
          null,
          null,
          null,
          null,
          null,
          null,
          null,
          null,
          null,
          null,
          null,
          null,
          null,
          null,
          null,
          null,
          null,
          null,
          null,
          null,
          null,
          null,
          null,
          null,
          null,
          null,
          null,
          null,
          null,
          null,
          null,
          null,
          null,
          null,
          null,
          null,
          null,
          null,
          null,
          null,
          null,
          null,
          null,
          null,
          null,
          null,
          null,
          null,
          null,
          null,
          null,
          null,
          null,
          null,
          null,
          null,
          null,
          null,
          null,
          null,
          null,
          null,
          null,
          null,
          null,
          null,
          null,
          null,
          null,
          null,
          null,
          null,
          null,
          null,
          null,
          null,
          null,
          null,
          null,
          null,
          null,
          null,
          null,
          null,
          null,
          null,
          null,
          null,
          null,
          null,
          null,
          null,
          null,
          null,
          null,
          null,
          null,
          null,
          null,
          null,
          null,
          null,
          null,
          null,
          null,
          null,
          null,
          null,
          null,
          null,
          null,
          null,
          null,
          null,
          null,
          null,
          null,
          null,
          null,
          null,
          null,
          null,
          null,
          null,
          null,
          null,
          null,
          null,
          null,
          null,
          null,
          null,
          null,
          null,
          null,
          null,
          null,
          null,
          null,
          null,
          null,
          null,
          null,
          null,
          null,
          null,
          null,
          null,
          null,
          null,
          null,
          null,
          null,
          null,
          null,
          null,
          null,
          null,
          null,
          null,
          null,
          null,
          null,
          null,
          null,
          null,
          null,
          null,
          null,
          null,
          null,
          null,
          null,
          null,
          null,
          null,
          null,
          null,
          null,
          null,
          null,
          null,
          null,
          null,
          null,
          null,
          null,
          null,
          null,
          null,
          null,
          null,
          null,
          null,
          null,
          null,
          null,
          null,
          null,
          null,
          null,
          null,
          null,
          null,
          null,
          null,
          null,
          null,
          null,
          null,
          null,
          null,
          null,
          null,
          null,
          null,
          null,
          null,
          null,
          null,
          null,
          null,
          null,
          null,
          null,
          null,
          null,
          null,
          null,
          null,
          null,
          null,
          null,
          null,
          null,
          null,
          null,
          null,
          null,
          null,
          null,
          null,
          null,
          null,
          null,
          null,
          null,
          null,
          null,
          null,
          null,
          null,
          null,
          null,
          null,
          null,
          null,
          null,
          null,
          null,
          null,
          null,
          null,
          null,
          null,
          null,
          null,
          null,
          null,
          null,
          null,
          null,
          null,
          null,
          null,
          null,
          null,
          null,
          null,
          null,
          null,
          null,
          null,
          null,
          null,
          null,
          null,
          null,
          null,
          null,
          null,
          null,
          null,
          null,
          null,
          null,
          null,
          null,
          null,
          null,
          null,
          null,
          null,
          null,
          null,
          null,
          null,
          null,
          null,
          null,
          null,
          null,
          null,
          null,
          null,
          null,
          null,
          null,
          null,
          null,
          null,
          null,
          null,
          null,
          null,
          null,
          null,
          null,
          null,
          null,
          null,
          null,
          null,
          null,
          null,
          null,
          null,
          null,
          null,
          null,
          null,
          null,
          null,
          null,
          null,
          null,
          null,
          null,
          null,
          null,
          null,
          null,
          null,
          null,
          null,
          null,
          null,
          null,
          null,
          null,
          null,
          null,
          null,
          null,
          null,
          null,
          null,
          null,
          null,
          null,
          null,
          null,
          null,
          null,
          null,
          null,
          null,
          null,
          null,
          null,
          null,
          null,
          null,
          null,
          null,
          null,
          null,
          null,
          null,
          null,
          null,
          null,
          null,
          null,
          null,
          null,
          null,
          null,
          null,
          null,
          null,
          null,
          null,
          null,
          null,
          null,
          null,
          null,
          null,
          null,
          null,
          null,
          null,
          null,
          null,
          null,
          null,
          null,
          null,
          null,
          null,
          null,
          null,
          null,
          null,
          null,
          null,
          null,
          null,
          null,
          null,
          null,
          null,
          null,
          null,
          null,
          null,
          null,
          null,
          null,
          null,
          null,
          null,
          null,
          null,
          null,
          null,
          null,
          null,
          null,
          null,
          null,
          null,
          null,
          null,
          null,
          null,
          null,
          null,
          null,
          null,
          null,
          null,
          null,
          null,
          null,
          null,
          null,
          null,
          null,
          null,
          null,
          null,
          null,
          null,
          null,
          null,
          null,
          null,
          null,
          null,
          null,
          null,
          null,
          null,
          null,
          null,
          null,
          null,
          null,
          null,
          null,
          null,
          null,
          null,
          null,
          null,
          null,
          null,
          null,
          null,
          null,
          null,
          null,
          null,
          null,
          null,
          null,
          null,
          null,
          null,
          null,
          null,
          null,
          null,
          null,
          null,
          null,
          null,
          null,
          null,
          null,
          null,
          null,
          null,
          null,
          null,
          null,
          null,
          null,
          null,
          null,
          null,
          null,
          null,
          null,
          null,
          null,
          null,
          null,
          null,
          null,
          null,
          null,
          null,
          null,
          null,
          null,
          null,
          null,
          null,
          null,
          null,
          null,
          null,
          null,
          null,
          null,
          null,
          null,
          null,
          null,
          null,
          null,
          null,
          null,
          null,
          null,
          null,
          null,
          null,
          null,
          null,
          null,
          null,
          null,
          null,
          null,
          null,
          null,
          null,
          null,
          null,
          null,
          null,
          null,
          null,
          null,
          null,
          null,
          null,
          null,
          null,
          null,
          null,
          null,
          null,
          null,
          null,
          null,
          null,
          null,
          null,
          null,
          null,
          null,
          null,
          null,
          null,
          null,
          null,
          null,
          null,
          null,
          null,
          null,
          null,
          null,
          null,
          null,
          null,
          null,
          null,
          null,
          null,
          null,
          null,
          null,
          null,
          null,
          null,
          null,
          null,
          null,
          null,
          null,
          null,
          null,
          null,
          null,
          null,
          null,
          null,
          null,
          null,
          null,
          null,
          null,
          null,
          null,
          null,
          null,
          null,
          null,
          null,
          null,
          null,
          null,
          null,
          null,
          null,
          null,
          null,
          null,
          null,
          null,
          null,
          null,
          null,
          null,
          null,
          null,
          null,
          null,
          null,
          null,
          null,
          null,
          null,
          null,
          null,
          null,
          null,
          null,
          null,
          null,
          null,
          null,
          null,
          null,
          null,
          null,
          null,
          null,
          null,
          null,
          null,
          null,
          null,
          null,
          null,
          null,
          null,
          null,
          null,
          null,
          null,
          null,
          null,
          null,
          null,
          null,
          null,
          null,
          null,
          null,
          null,
          null,
          null,
          null,
          null,
          null,
          null,
          null,
          null,
          null,
          null,
          null,
          null,
          null,
          null,
          null,
          null,
          null,
          null,
          null,
          null,
          null,
          null,
          null,
          null,
          null,
          null,
          null,
          null,
          null,
          null,
          null,
          null,
          null,
          null,
          null,
          null,
          null,
          null,
          null,
          null,
          null,
          null,
          null,
          null,
          null,
          null,
          null,
          null,
          null,
          null,
          null,
          null,
          null,
          null,
          null,
          null,
          null,
          null,
          null,
          null,
          null,
          null,
          null,
          null,
          null,
          null,
          null,
          null,
          null,
          null,
          null,
          null,
          null,
          null,
          null,
          null,
          null,
          null,
          null,
          null,
          null,
          null,
          null,
          null,
          null,
          null,
          null,
          null,
          null,
          null,
          null,
          null,
          null,
          null,
          null,
          null,
          null,
          null,
          null,
          null,
          null,
          null,
          null,
          null,
          null,
          null,
          null,
          null,
          null,
          null,
          null,
          null,
          null,
          null,
          null,
          null,
          null,
          null,
          null,
          null,
          null,
          null,
          null,
          null,
          null,
          null,
          null,
          null,
          null,
          null,
          null,
          null,
          null,
          null,
          null,
          null,
          null,
          null,
          null,
          null,
          null,
          null,
          null,
          null,
          null,
          null,
          null,
          null,
          null,
          null,
          null,
          null,
          null,
          null,
          null,
          null,
          null,
          null,
          null,
          null,
          null,
          null,
          null,
          null,
          null,
          null,
          null,
          null,
          null,
          null,
          null,
          null,
          null,
          null,
          null,
          null,
          null,
          null,
          null,
          null,
          null,
          null,
          null,
          null,
          null,
          null,
          null,
          null,
          null,
          null,
          null,
          null,
          null,
          null,
          null,
          null,
          null,
          null,
          null,
          null,
          null,
          null,
          null,
          null,
          null,
          null,
          null,
          null,
          null,
          null,
          null,
          null,
          null,
          null,
          null,
          null,
          null,
          null,
          null,
          null,
          null,
          null,
          null,
          null,
          null,
          null,
          null,
          null,
          null,
          null,
          null,
          null,
          null,
          null,
          null,
          null,
          null,
          null,
          null,
          null,
          null,
          null,
          null,
          null,
          null,
          null,
          null,
          null,
          null,
          null,
          null,
          null,
          null,
          null,
          null,
          null,
          null,
          null,
          null,
          null,
          null,
          null,
          null,
          null,
          null,
          null,
          null,
          null,
          null,
          null,
          null,
          null,
          null,
          null,
          null,
          null,
          null,
          null,
          null,
          null,
          null,
          null,
          null,
          null,
          null,
          null,
          null,
          null,
          null,
          null,
          null,
          null,
          null,
          null,
          null,
          null,
          null,
          null,
          null,
          null,
          null,
          null,
          null,
          null,
          null,
          null,
          null,
          null,
          null,
          null,
          null,
          null,
          null,
          null,
          null,
          null,
          null,
          null,
          null,
          null,
          null,
          null,
          null,
          null,
          null,
          null,
          null,
          null,
          null,
          null,
          null,
          null,
          null,
          null,
          null,
          null,
          null,
          null,
          null,
          null,
          null,
          null,
          null,
          null,
          null,
          null,
          null,
          null,
          null,
          null,
          null,
          null,
          null,
          null,
          null,
          null,
          null,
          null,
          null,
          null,
          null,
          null,
          null,
          null,
          null,
          null,
          null,
          null,
          null,
          null,
          null,
          null,
          null,
          null,
          null,
          null,
          null,
          null,
          null,
          null,
          null,
          null,
          null,
          null,
          null,
          null,
          null,
          null,
          null,
          null,
          null,
          null,
          null,
          null,
          null,
          null,
          null,
          null,
          null,
          null,
          null,
          null,
          null,
          null,
          null,
          null,
          null,
          null,
          null,
          null,
          null,
          null,
          null,
          null,
          null,
          null,
          null,
          null,
          null,
          null,
          null,
          null,
          null,
          null,
          null,
          null,
          null,
          null,
          null,
          null,
          null,
          null,
          null,
          null,
          null,
          null,
          null,
          null,
          null,
          null,
          null,
          null,
          null,
          null,
          null,
          null,
          null,
          null,
          null,
          null,
          null,
          null,
          null,
          null,
          null,
          null,
          null,
          null,
          null,
          null,
          null,
          null,
          null,
          null,
          null,
          null,
          null,
          null,
          null,
          null,
          null,
          null,
          null,
          null,
          null,
          null,
          null,
          null,
          null,
          null,
          null,
          null,
          null,
          null,
          null,
          null,
          null,
          null,
          null,
          null,
          null,
          null,
          null,
          null,
          null,
          null,
          null,
          null,
          null,
          null,
          null,
          null,
          null,
          null,
          null,
          null,
          null,
          null,
          null,
          null,
          null,
          null,
          null,
          null,
          null,
          null,
          null,
          null,
          null,
          null,
          null,
          null,
          null,
          null,
          null,
          null,
          null,
          null,
          null,
          null,
          null,
          null,
          null,
          null,
          null,
          null,
          null,
          null,
          null,
          null,
          null,
          null,
          null,
          null,
          null,
          null,
          null,
          null,
          null,
          null,
          null,
          null,
          null,
          null,
          null,
          null,
          null,
          null,
          null,
          null,
          null,
          null,
          null,
          null,
          null,
          null,
          null,
          null,
          null,
          null,
          null,
          null,
          null,
          null,
          null,
          null,
          null,
          null,
          null,
          null,
          null,
          null,
          null,
          null,
          null,
          null,
          null,
          null,
          null,
          null,
          null,
          null,
          null,
          null,
          null,
          null,
          null,
          null,
          null,
          null,
          null,
          null,
          null,
          null,
          null,
          null,
          null,
          null,
          null,
          null,
          null,
          null,
          null,
          null,
          null,
          null,
          null,
          null,
          null,
          null,
          null,
          null,
          null,
          null,
          null,
          null,
          null,
          null,
          null,
          null,
          null,
          null,
          null,
          null,
          null,
          null,
          null,
          null,
          null,
          null,
          null,
          null,
          null,
          null,
          null,
          null,
          null,
          null,
          null,
          null,
          null,
          null,
          null,
          null,
          null,
          null,
          null,
          null,
          null,
          null,
          null,
          null,
          null,
          null,
          null,
          null,
          null,
          null,
          null,
          null,
          null,
          null,
          null,
          null,
          null,
          null,
          null,
          null,
          null,
          null,
          null,
          null,
          null,
          null,
          null,
          null,
          null,
          null,
          null,
          null,
          null,
          null,
          null,
          null,
          null,
          null,
          null,
          null,
          null,
          null,
          null,
          null,
          null,
          null,
          null,
          null,
          null,
          null,
          null,
          null,
          null,
          null,
          null,
          null,
          null,
          null,
          null,
          null,
          null,
          null,
          null,
          null,
          null,
          null,
          null,
          null,
          null,
          null,
          null,
          null,
          null,
          null,
          null,
          null,
          null,
          null,
          null,
          null,
          null,
          null,
          null,
          null,
          null,
          null,
          null,
          null,
          null,
          null,
          null,
          null,
          null,
          null,
          null,
          null,
          null,
          null,
          null,
          null,
          null,
          null,
          null,
          null,
          null,
          null,
          null,
          null,
          null,
          null,
          null,
          null,
          null,
          null,
          null,
          null,
          null,
          null,
          null,
          null,
          null,
          null,
          null,
          null,
          null,
          null,
          null,
          null,
          null,
          null,
          null,
          null,
          null,
          null,
          null,
          null,
          null,
          null,
          null,
          null,
          null,
          null,
          null,
          null,
          null,
          null,
          null,
          null,
          null,
          null,
          null,
          null,
          null,
          null,
          null,
          null,
          null,
          null,
          null,
          null,
          null,
          null,
          null,
          null,
          null,
          null,
          null,
          null,
          null,
          null,
          null,
          null,
          null,
          null,
          null,
          null,
          null,
          null,
          null,
          null,
          null,
          null,
          null,
          null,
          null,
          null,
          null,
          null,
          null,
          null,
          null,
          null,
          null,
          null,
          null,
          null,
          null,
          null,
          null,
          null,
          null,
          null,
          null,
          null,
          null,
          null,
          null,
          null,
          null,
          null,
          null,
          null,
          null,
          null,
          null,
          null,
          null,
          null,
          null,
          null,
          null,
          null,
          null,
          null,
          null,
          null,
          null,
          null,
          null,
          null,
          null,
          null,
          null,
          null,
          null,
          null,
          null,
          null,
          null,
          null,
          null,
          null,
          null,
          null,
          null,
          null,
          null,
          null,
          null,
          null,
          null,
          null,
          null,
          null,
          null,
          null,
          null,
          null,
          null,
          null,
          null,
          null,
          null,
          null,
          null,
          null,
          null,
          null,
          null,
          null,
          null,
          null,
          null,
          null,
          null,
          null,
          null,
          null,
          null,
          null,
          null,
          null,
          null,
          null,
          null,
          null,
          null,
          null,
          null,
          null,
          null,
          null,
          null,
          null,
          null,
          null,
          null,
          null,
          null,
          null,
          null,
          null,
          null,
          null,
          null,
          null,
          null,
          null,
          null,
          null,
          null,
          null,
          null,
          null,
          null,
          null,
          null,
          null,
          null,
          null,
          null,
          null,
          null,
          null,
          null,
          null,
          null,
          null,
          null,
          null,
          null,
          null,
          null,
          null,
          null
         ],
         "xaxis": "x",
         "yaxis": "y"
        },
        {
         "alignmentgroup": "True",
         "bingroup": "x",
         "hovertemplate": "churn=1<br>tipo_demissao=%{x}<br>count=%{y}<extra></extra>",
         "legendgroup": "1",
         "marker": {
          "color": "#EF553B",
          "pattern": {
           "shape": ""
          }
         },
         "name": "1",
         "offsetgroup": "1",
         "orientation": "v",
         "showlegend": true,
         "type": "histogram",
         "x": [
          "Involuntária",
          "Voluntária",
          "Involuntária",
          "Involuntária",
          "Involuntária",
          "Involuntária",
          "Voluntária",
          "Voluntária",
          "Voluntária",
          "Involuntária",
          "Voluntária",
          "Voluntária",
          "Voluntária",
          "Involuntária",
          "Involuntária",
          "Voluntária",
          "Involuntária",
          "Involuntária",
          "Voluntária",
          "Voluntária",
          "Voluntária",
          "Voluntária",
          "Involuntária",
          "Involuntária",
          "Voluntária",
          "Voluntária",
          "Voluntária",
          "Voluntária",
          "Voluntária",
          "Involuntária",
          "Involuntária",
          "Voluntária",
          "Voluntária",
          "Voluntária",
          "Involuntária",
          "Voluntária",
          "Involuntária",
          "Involuntária",
          "Involuntária",
          "Voluntária",
          "Involuntária",
          "Involuntária",
          "Voluntária",
          "Involuntária",
          "Involuntária",
          "Involuntária",
          "Voluntária",
          "Involuntária",
          "Involuntária",
          "Voluntária",
          "Involuntária",
          "Involuntária",
          "Involuntária",
          "Involuntária",
          "Voluntária",
          "Voluntária",
          "Voluntária",
          "Voluntária",
          "Involuntária",
          "Voluntária",
          "Involuntária",
          "Involuntária",
          "Involuntária",
          "Involuntária",
          "Voluntária",
          "Voluntária",
          "Voluntária",
          "Voluntária",
          "Voluntária",
          "Voluntária",
          "Voluntária",
          "Involuntária",
          "Involuntária",
          "Involuntária",
          "Voluntária",
          "Voluntária",
          "Voluntária",
          "Voluntária",
          "Voluntária",
          "Voluntária",
          "Voluntária",
          "Involuntária",
          "Voluntária",
          "Involuntária",
          "Voluntária",
          "Voluntária",
          "Voluntária",
          "Involuntária",
          "Involuntária",
          "Involuntária",
          "Involuntária",
          "Voluntária",
          "Voluntária",
          "Involuntária",
          "Involuntária",
          "Involuntária",
          "Involuntária",
          "Voluntária",
          "Involuntária",
          "Voluntária",
          "Involuntária",
          "Involuntária",
          "Voluntária",
          "Voluntária",
          "Involuntária",
          "Involuntária",
          "Voluntária",
          "Voluntária",
          "Voluntária",
          "Involuntária",
          "Voluntária",
          "Voluntária",
          "Involuntária",
          "Voluntária",
          "Involuntária",
          "Voluntária",
          "Involuntária",
          "Involuntária",
          "Involuntária",
          "Voluntária",
          "Voluntária",
          "Involuntária",
          "Involuntária",
          "Voluntária",
          "Voluntária",
          "Voluntária",
          "Voluntária",
          "Involuntária",
          "Voluntária",
          "Voluntária",
          "Involuntária",
          "Voluntária",
          "Voluntária",
          "Voluntária",
          "Involuntária",
          "Involuntária",
          "Involuntária",
          "Involuntária",
          "Voluntária",
          "Voluntária",
          "Involuntária",
          "Involuntária",
          "Involuntária",
          "Voluntária",
          "Voluntária",
          "Involuntária",
          "Voluntária",
          "Voluntária",
          "Involuntária",
          "Involuntária",
          "Voluntária",
          "Voluntária",
          "Involuntária",
          "Involuntária",
          "Involuntária",
          "Voluntária",
          "Voluntária",
          "Involuntária",
          "Involuntária",
          "Involuntária",
          "Voluntária",
          "Involuntária",
          "Voluntária",
          "Voluntária",
          "Involuntária",
          "Involuntária",
          "Involuntária",
          "Voluntária",
          "Voluntária",
          "Involuntária",
          "Voluntária",
          "Voluntária",
          "Involuntária",
          "Involuntária",
          "Voluntária",
          "Involuntária",
          "Voluntária",
          "Involuntária",
          "Voluntária",
          "Involuntária",
          "Involuntária",
          "Voluntária",
          "Voluntária",
          "Involuntária",
          "Voluntária",
          "Voluntária",
          "Involuntária",
          "Involuntária",
          "Involuntária",
          "Voluntária",
          "Voluntária",
          "Voluntária",
          "Involuntária",
          "Voluntária",
          "Involuntária",
          "Voluntária",
          "Voluntária",
          "Involuntária",
          "Voluntária",
          "Involuntária",
          "Involuntária",
          "Involuntária",
          "Involuntária",
          "Voluntária",
          "Involuntária",
          "Voluntária",
          "Involuntária",
          "Voluntária",
          "Involuntária",
          "Voluntária",
          "Voluntária",
          "Involuntária",
          "Voluntária",
          "Voluntária",
          "Voluntária",
          "Involuntária",
          "Voluntária",
          "Involuntária",
          "Voluntária",
          "Voluntária",
          "Voluntária",
          "Voluntária",
          "Voluntária",
          "Involuntária",
          "Involuntária",
          "Voluntária",
          "Voluntária",
          "Voluntária",
          "Voluntária",
          "Involuntária",
          "Voluntária",
          "Involuntária",
          "Voluntária",
          "Involuntária",
          "Involuntária",
          "Voluntária",
          "Involuntária",
          "Involuntária",
          "Involuntária",
          "Voluntária",
          "Voluntária",
          "Voluntária",
          "Involuntária",
          "Voluntária",
          "Involuntária",
          "Involuntária",
          "Involuntária",
          "Voluntária",
          "Voluntária",
          "Voluntária",
          "Voluntária",
          "Voluntária",
          "Voluntária",
          "Voluntária",
          "Voluntária",
          "Involuntária",
          "Involuntária",
          "Voluntária",
          "Voluntária",
          "Involuntária",
          "Involuntária",
          "Voluntária",
          "Voluntária",
          "Voluntária",
          "Voluntária",
          "Involuntária",
          "Voluntária",
          "Involuntária",
          "Voluntária",
          "Involuntária",
          "Voluntária",
          "Voluntária",
          "Involuntária",
          "Involuntária",
          "Involuntária",
          "Involuntária",
          "Voluntária",
          "Involuntária",
          "Involuntária",
          "Involuntária",
          "Voluntária",
          "Voluntária",
          "Involuntária",
          "Voluntária",
          "Voluntária",
          "Voluntária"
         ],
         "xaxis": "x",
         "yaxis": "y"
        }
       ],
       "layout": {
        "barmode": "group",
        "legend": {
         "title": {
          "text": "churn"
         },
         "tracegroupgap": 0
        },
        "template": {
         "data": {
          "bar": [
           {
            "error_x": {
             "color": "#2a3f5f"
            },
            "error_y": {
             "color": "#2a3f5f"
            },
            "marker": {
             "line": {
              "color": "#E5ECF6",
              "width": 0.5
             },
             "pattern": {
              "fillmode": "overlay",
              "size": 10,
              "solidity": 0.2
             }
            },
            "type": "bar"
           }
          ],
          "barpolar": [
           {
            "marker": {
             "line": {
              "color": "#E5ECF6",
              "width": 0.5
             },
             "pattern": {
              "fillmode": "overlay",
              "size": 10,
              "solidity": 0.2
             }
            },
            "type": "barpolar"
           }
          ],
          "carpet": [
           {
            "aaxis": {
             "endlinecolor": "#2a3f5f",
             "gridcolor": "white",
             "linecolor": "white",
             "minorgridcolor": "white",
             "startlinecolor": "#2a3f5f"
            },
            "baxis": {
             "endlinecolor": "#2a3f5f",
             "gridcolor": "white",
             "linecolor": "white",
             "minorgridcolor": "white",
             "startlinecolor": "#2a3f5f"
            },
            "type": "carpet"
           }
          ],
          "choropleth": [
           {
            "colorbar": {
             "outlinewidth": 0,
             "ticks": ""
            },
            "type": "choropleth"
           }
          ],
          "contour": [
           {
            "colorbar": {
             "outlinewidth": 0,
             "ticks": ""
            },
            "colorscale": [
             [
              0,
              "#0d0887"
             ],
             [
              0.1111111111111111,
              "#46039f"
             ],
             [
              0.2222222222222222,
              "#7201a8"
             ],
             [
              0.3333333333333333,
              "#9c179e"
             ],
             [
              0.4444444444444444,
              "#bd3786"
             ],
             [
              0.5555555555555556,
              "#d8576b"
             ],
             [
              0.6666666666666666,
              "#ed7953"
             ],
             [
              0.7777777777777778,
              "#fb9f3a"
             ],
             [
              0.8888888888888888,
              "#fdca26"
             ],
             [
              1,
              "#f0f921"
             ]
            ],
            "type": "contour"
           }
          ],
          "contourcarpet": [
           {
            "colorbar": {
             "outlinewidth": 0,
             "ticks": ""
            },
            "type": "contourcarpet"
           }
          ],
          "heatmap": [
           {
            "colorbar": {
             "outlinewidth": 0,
             "ticks": ""
            },
            "colorscale": [
             [
              0,
              "#0d0887"
             ],
             [
              0.1111111111111111,
              "#46039f"
             ],
             [
              0.2222222222222222,
              "#7201a8"
             ],
             [
              0.3333333333333333,
              "#9c179e"
             ],
             [
              0.4444444444444444,
              "#bd3786"
             ],
             [
              0.5555555555555556,
              "#d8576b"
             ],
             [
              0.6666666666666666,
              "#ed7953"
             ],
             [
              0.7777777777777778,
              "#fb9f3a"
             ],
             [
              0.8888888888888888,
              "#fdca26"
             ],
             [
              1,
              "#f0f921"
             ]
            ],
            "type": "heatmap"
           }
          ],
          "histogram": [
           {
            "marker": {
             "pattern": {
              "fillmode": "overlay",
              "size": 10,
              "solidity": 0.2
             }
            },
            "type": "histogram"
           }
          ],
          "histogram2d": [
           {
            "colorbar": {
             "outlinewidth": 0,
             "ticks": ""
            },
            "colorscale": [
             [
              0,
              "#0d0887"
             ],
             [
              0.1111111111111111,
              "#46039f"
             ],
             [
              0.2222222222222222,
              "#7201a8"
             ],
             [
              0.3333333333333333,
              "#9c179e"
             ],
             [
              0.4444444444444444,
              "#bd3786"
             ],
             [
              0.5555555555555556,
              "#d8576b"
             ],
             [
              0.6666666666666666,
              "#ed7953"
             ],
             [
              0.7777777777777778,
              "#fb9f3a"
             ],
             [
              0.8888888888888888,
              "#fdca26"
             ],
             [
              1,
              "#f0f921"
             ]
            ],
            "type": "histogram2d"
           }
          ],
          "histogram2dcontour": [
           {
            "colorbar": {
             "outlinewidth": 0,
             "ticks": ""
            },
            "colorscale": [
             [
              0,
              "#0d0887"
             ],
             [
              0.1111111111111111,
              "#46039f"
             ],
             [
              0.2222222222222222,
              "#7201a8"
             ],
             [
              0.3333333333333333,
              "#9c179e"
             ],
             [
              0.4444444444444444,
              "#bd3786"
             ],
             [
              0.5555555555555556,
              "#d8576b"
             ],
             [
              0.6666666666666666,
              "#ed7953"
             ],
             [
              0.7777777777777778,
              "#fb9f3a"
             ],
             [
              0.8888888888888888,
              "#fdca26"
             ],
             [
              1,
              "#f0f921"
             ]
            ],
            "type": "histogram2dcontour"
           }
          ],
          "mesh3d": [
           {
            "colorbar": {
             "outlinewidth": 0,
             "ticks": ""
            },
            "type": "mesh3d"
           }
          ],
          "parcoords": [
           {
            "line": {
             "colorbar": {
              "outlinewidth": 0,
              "ticks": ""
             }
            },
            "type": "parcoords"
           }
          ],
          "pie": [
           {
            "automargin": true,
            "type": "pie"
           }
          ],
          "scatter": [
           {
            "fillpattern": {
             "fillmode": "overlay",
             "size": 10,
             "solidity": 0.2
            },
            "type": "scatter"
           }
          ],
          "scatter3d": [
           {
            "line": {
             "colorbar": {
              "outlinewidth": 0,
              "ticks": ""
             }
            },
            "marker": {
             "colorbar": {
              "outlinewidth": 0,
              "ticks": ""
             }
            },
            "type": "scatter3d"
           }
          ],
          "scattercarpet": [
           {
            "marker": {
             "colorbar": {
              "outlinewidth": 0,
              "ticks": ""
             }
            },
            "type": "scattercarpet"
           }
          ],
          "scattergeo": [
           {
            "marker": {
             "colorbar": {
              "outlinewidth": 0,
              "ticks": ""
             }
            },
            "type": "scattergeo"
           }
          ],
          "scattergl": [
           {
            "marker": {
             "colorbar": {
              "outlinewidth": 0,
              "ticks": ""
             }
            },
            "type": "scattergl"
           }
          ],
          "scattermap": [
           {
            "marker": {
             "colorbar": {
              "outlinewidth": 0,
              "ticks": ""
             }
            },
            "type": "scattermap"
           }
          ],
          "scattermapbox": [
           {
            "marker": {
             "colorbar": {
              "outlinewidth": 0,
              "ticks": ""
             }
            },
            "type": "scattermapbox"
           }
          ],
          "scatterpolar": [
           {
            "marker": {
             "colorbar": {
              "outlinewidth": 0,
              "ticks": ""
             }
            },
            "type": "scatterpolar"
           }
          ],
          "scatterpolargl": [
           {
            "marker": {
             "colorbar": {
              "outlinewidth": 0,
              "ticks": ""
             }
            },
            "type": "scatterpolargl"
           }
          ],
          "scatterternary": [
           {
            "marker": {
             "colorbar": {
              "outlinewidth": 0,
              "ticks": ""
             }
            },
            "type": "scatterternary"
           }
          ],
          "surface": [
           {
            "colorbar": {
             "outlinewidth": 0,
             "ticks": ""
            },
            "colorscale": [
             [
              0,
              "#0d0887"
             ],
             [
              0.1111111111111111,
              "#46039f"
             ],
             [
              0.2222222222222222,
              "#7201a8"
             ],
             [
              0.3333333333333333,
              "#9c179e"
             ],
             [
              0.4444444444444444,
              "#bd3786"
             ],
             [
              0.5555555555555556,
              "#d8576b"
             ],
             [
              0.6666666666666666,
              "#ed7953"
             ],
             [
              0.7777777777777778,
              "#fb9f3a"
             ],
             [
              0.8888888888888888,
              "#fdca26"
             ],
             [
              1,
              "#f0f921"
             ]
            ],
            "type": "surface"
           }
          ],
          "table": [
           {
            "cells": {
             "fill": {
              "color": "#EBF0F8"
             },
             "line": {
              "color": "white"
             }
            },
            "header": {
             "fill": {
              "color": "#C8D4E3"
             },
             "line": {
              "color": "white"
             }
            },
            "type": "table"
           }
          ]
         },
         "layout": {
          "annotationdefaults": {
           "arrowcolor": "#2a3f5f",
           "arrowhead": 0,
           "arrowwidth": 1
          },
          "autotypenumbers": "strict",
          "coloraxis": {
           "colorbar": {
            "outlinewidth": 0,
            "ticks": ""
           }
          },
          "colorscale": {
           "diverging": [
            [
             0,
             "#8e0152"
            ],
            [
             0.1,
             "#c51b7d"
            ],
            [
             0.2,
             "#de77ae"
            ],
            [
             0.3,
             "#f1b6da"
            ],
            [
             0.4,
             "#fde0ef"
            ],
            [
             0.5,
             "#f7f7f7"
            ],
            [
             0.6,
             "#e6f5d0"
            ],
            [
             0.7,
             "#b8e186"
            ],
            [
             0.8,
             "#7fbc41"
            ],
            [
             0.9,
             "#4d9221"
            ],
            [
             1,
             "#276419"
            ]
           ],
           "sequential": [
            [
             0,
             "#0d0887"
            ],
            [
             0.1111111111111111,
             "#46039f"
            ],
            [
             0.2222222222222222,
             "#7201a8"
            ],
            [
             0.3333333333333333,
             "#9c179e"
            ],
            [
             0.4444444444444444,
             "#bd3786"
            ],
            [
             0.5555555555555556,
             "#d8576b"
            ],
            [
             0.6666666666666666,
             "#ed7953"
            ],
            [
             0.7777777777777778,
             "#fb9f3a"
            ],
            [
             0.8888888888888888,
             "#fdca26"
            ],
            [
             1,
             "#f0f921"
            ]
           ],
           "sequentialminus": [
            [
             0,
             "#0d0887"
            ],
            [
             0.1111111111111111,
             "#46039f"
            ],
            [
             0.2222222222222222,
             "#7201a8"
            ],
            [
             0.3333333333333333,
             "#9c179e"
            ],
            [
             0.4444444444444444,
             "#bd3786"
            ],
            [
             0.5555555555555556,
             "#d8576b"
            ],
            [
             0.6666666666666666,
             "#ed7953"
            ],
            [
             0.7777777777777778,
             "#fb9f3a"
            ],
            [
             0.8888888888888888,
             "#fdca26"
            ],
            [
             1,
             "#f0f921"
            ]
           ]
          },
          "colorway": [
           "#636efa",
           "#EF553B",
           "#00cc96",
           "#ab63fa",
           "#FFA15A",
           "#19d3f3",
           "#FF6692",
           "#B6E880",
           "#FF97FF",
           "#FECB52"
          ],
          "font": {
           "color": "#2a3f5f"
          },
          "geo": {
           "bgcolor": "white",
           "lakecolor": "white",
           "landcolor": "#E5ECF6",
           "showlakes": true,
           "showland": true,
           "subunitcolor": "white"
          },
          "hoverlabel": {
           "align": "left"
          },
          "hovermode": "closest",
          "mapbox": {
           "style": "light"
          },
          "paper_bgcolor": "white",
          "plot_bgcolor": "#E5ECF6",
          "polar": {
           "angularaxis": {
            "gridcolor": "white",
            "linecolor": "white",
            "ticks": ""
           },
           "bgcolor": "#E5ECF6",
           "radialaxis": {
            "gridcolor": "white",
            "linecolor": "white",
            "ticks": ""
           }
          },
          "scene": {
           "xaxis": {
            "backgroundcolor": "#E5ECF6",
            "gridcolor": "white",
            "gridwidth": 2,
            "linecolor": "white",
            "showbackground": true,
            "ticks": "",
            "zerolinecolor": "white"
           },
           "yaxis": {
            "backgroundcolor": "#E5ECF6",
            "gridcolor": "white",
            "gridwidth": 2,
            "linecolor": "white",
            "showbackground": true,
            "ticks": "",
            "zerolinecolor": "white"
           },
           "zaxis": {
            "backgroundcolor": "#E5ECF6",
            "gridcolor": "white",
            "gridwidth": 2,
            "linecolor": "white",
            "showbackground": true,
            "ticks": "",
            "zerolinecolor": "white"
           }
          },
          "shapedefaults": {
           "line": {
            "color": "#2a3f5f"
           }
          },
          "ternary": {
           "aaxis": {
            "gridcolor": "white",
            "linecolor": "white",
            "ticks": ""
           },
           "baxis": {
            "gridcolor": "white",
            "linecolor": "white",
            "ticks": ""
           },
           "bgcolor": "#E5ECF6",
           "caxis": {
            "gridcolor": "white",
            "linecolor": "white",
            "ticks": ""
           }
          },
          "title": {
           "x": 0.05
          },
          "xaxis": {
           "automargin": true,
           "gridcolor": "white",
           "linecolor": "white",
           "ticks": "",
           "title": {
            "standoff": 15
           },
           "zerolinecolor": "white",
           "zerolinewidth": 2
          },
          "yaxis": {
           "automargin": true,
           "gridcolor": "white",
           "linecolor": "white",
           "ticks": "",
           "title": {
            "standoff": 15
           },
           "zerolinecolor": "white",
           "zerolinewidth": 2
          }
         }
        },
        "title": {
         "text": "Histograma da coluna tipo_demissao"
        },
        "xaxis": {
         "anchor": "y",
         "domain": [
          0,
          1
         ],
         "title": {
          "text": "tipo_demissao"
         }
        },
        "yaxis": {
         "anchor": "x",
         "domain": [
          0,
          1
         ],
         "title": {
          "text": "count"
         }
        }
       }
      }
     },
     "metadata": {},
     "output_type": "display_data"
    },
    {
     "data": {
      "application/vnd.plotly.v1+json": {
       "config": {
        "plotlyServerURL": "https://plot.ly"
       },
       "data": [
        {
         "alignmentgroup": "True",
         "bingroup": "x",
         "hovertemplate": "churn=0<br>cargo=%{x}<br>count=%{y}<extra></extra>",
         "legendgroup": "0",
         "marker": {
          "color": "#636efa",
          "pattern": {
           "shape": ""
          }
         },
         "name": "0",
         "offsetgroup": "0",
         "orientation": "v",
         "showlegend": true,
         "type": "histogram",
         "x": [
          "Senior Developer",
          "UX Designer",
          "Tech Lead",
          "QA Engineer",
          "Senior Developer",
          "Junior Developer",
          "DevOps Engineer",
          "DevOps Engineer",
          "QA Engineer",
          "Junior Developer",
          "DevOps Engineer",
          "DevOps Engineer",
          "DevOps Engineer",
          "Data Scientist",
          "Junior Developer",
          "UX Designer",
          "DevOps Engineer",
          "Tech Lead",
          "Junior Developer",
          "Data Scientist",
          "DevOps Engineer",
          "Junior Developer",
          "UX Designer",
          "Tech Lead",
          "Tech Lead",
          "QA Engineer",
          "Senior Developer",
          "QA Engineer",
          "UX Designer",
          "UX Designer",
          "Product Manager",
          "DevOps Engineer",
          "Junior Developer",
          "UX Designer",
          "Product Manager",
          "QA Engineer",
          "DevOps Engineer",
          "Data Scientist",
          "Junior Developer",
          "UX Designer",
          "UX Designer",
          "DevOps Engineer",
          "UX Designer",
          "Tech Lead",
          "Senior Developer",
          "Tech Lead",
          "Junior Developer",
          "Data Scientist",
          "Data Scientist",
          "QA Engineer",
          "Tech Lead",
          "Tech Lead",
          "Junior Developer",
          "Data Scientist",
          "Tech Lead",
          "Junior Developer",
          "Product Manager",
          "Junior Developer",
          "QA Engineer",
          "Product Manager",
          "Product Manager",
          "Junior Developer",
          "UX Designer",
          "QA Engineer",
          "Senior Developer",
          "DevOps Engineer",
          "Senior Developer",
          "Product Manager",
          "QA Engineer",
          "Senior Developer",
          "Junior Developer",
          "Tech Lead",
          "Senior Developer",
          "Product Manager",
          "Senior Developer",
          "UX Designer",
          "Data Scientist",
          "DevOps Engineer",
          "DevOps Engineer",
          "Junior Developer",
          "Product Manager",
          "Tech Lead",
          "Senior Developer",
          "QA Engineer",
          "Data Scientist",
          "Junior Developer",
          "Product Manager",
          "QA Engineer",
          "Junior Developer",
          "DevOps Engineer",
          "Data Scientist",
          "Senior Developer",
          "Junior Developer",
          "Product Manager",
          "QA Engineer",
          "QA Engineer",
          "Tech Lead",
          "Senior Developer",
          "QA Engineer",
          "Data Scientist",
          "UX Designer",
          "DevOps Engineer",
          "Junior Developer",
          "DevOps Engineer",
          "QA Engineer",
          "UX Designer",
          "Tech Lead",
          "DevOps Engineer",
          "Tech Lead",
          "QA Engineer",
          "Tech Lead",
          "Tech Lead",
          "Product Manager",
          "Data Scientist",
          "DevOps Engineer",
          "Senior Developer",
          "Product Manager",
          "Data Scientist",
          "Data Scientist",
          "DevOps Engineer",
          "DevOps Engineer",
          "UX Designer",
          "UX Designer",
          "Junior Developer",
          "Senior Developer",
          "UX Designer",
          "Junior Developer",
          "Data Scientist",
          "Senior Developer",
          "QA Engineer",
          "DevOps Engineer",
          "Data Scientist",
          "Tech Lead",
          "Senior Developer",
          "DevOps Engineer",
          "Tech Lead",
          "QA Engineer",
          "Data Scientist",
          "UX Designer",
          "Data Scientist",
          "Tech Lead",
          "QA Engineer",
          "QA Engineer",
          "DevOps Engineer",
          "Senior Developer",
          "Junior Developer",
          "Senior Developer",
          "QA Engineer",
          "DevOps Engineer",
          "DevOps Engineer",
          "Senior Developer",
          "QA Engineer",
          "Junior Developer",
          "DevOps Engineer",
          "Senior Developer",
          "DevOps Engineer",
          "Data Scientist",
          "Junior Developer",
          "UX Designer",
          "Junior Developer",
          "QA Engineer",
          "Product Manager",
          "Senior Developer",
          "Senior Developer",
          "Product Manager",
          "QA Engineer",
          "Senior Developer",
          "Data Scientist",
          "Junior Developer",
          "Senior Developer",
          "QA Engineer",
          "DevOps Engineer",
          "Junior Developer",
          "UX Designer",
          "Product Manager",
          "Data Scientist",
          "QA Engineer",
          "QA Engineer",
          "Data Scientist",
          "DevOps Engineer",
          "Junior Developer",
          "Data Scientist",
          "Tech Lead",
          "Product Manager",
          "QA Engineer",
          "DevOps Engineer",
          "DevOps Engineer",
          "Tech Lead",
          "Data Scientist",
          "Junior Developer",
          "Senior Developer",
          "UX Designer",
          "Junior Developer",
          "UX Designer",
          "Data Scientist",
          "QA Engineer",
          "Data Scientist",
          "Junior Developer",
          "UX Designer",
          "Data Scientist",
          "Tech Lead",
          "Product Manager",
          "QA Engineer",
          "Junior Developer",
          "DevOps Engineer",
          "DevOps Engineer",
          "QA Engineer",
          "Product Manager",
          "Senior Developer",
          "QA Engineer",
          "Data Scientist",
          "Senior Developer",
          "Junior Developer",
          "QA Engineer",
          "Product Manager",
          "UX Designer",
          "Senior Developer",
          "Tech Lead",
          "Junior Developer",
          "QA Engineer",
          "DevOps Engineer",
          "UX Designer",
          "Junior Developer",
          "DevOps Engineer",
          "Junior Developer",
          "Junior Developer",
          "DevOps Engineer",
          "Tech Lead",
          "Data Scientist",
          "Product Manager",
          "DevOps Engineer",
          "Product Manager",
          "Data Scientist",
          "DevOps Engineer",
          "Tech Lead",
          "UX Designer",
          "UX Designer",
          "Product Manager",
          "QA Engineer",
          "Senior Developer",
          "Data Scientist",
          "Senior Developer",
          "Senior Developer",
          "Tech Lead",
          "Senior Developer",
          "Junior Developer",
          "QA Engineer",
          "Data Scientist",
          "Data Scientist",
          "Product Manager",
          "DevOps Engineer",
          "Tech Lead",
          "Data Scientist",
          "Junior Developer",
          "Data Scientist",
          "Tech Lead",
          "QA Engineer",
          "Tech Lead",
          "UX Designer",
          "Tech Lead",
          "QA Engineer",
          "Tech Lead",
          "Senior Developer",
          "Product Manager",
          "DevOps Engineer",
          "Product Manager",
          "QA Engineer",
          "Data Scientist",
          "DevOps Engineer",
          "QA Engineer",
          "QA Engineer",
          "Junior Developer",
          "Product Manager",
          "Tech Lead",
          "Product Manager",
          "UX Designer",
          "DevOps Engineer",
          "DevOps Engineer",
          "QA Engineer",
          "Product Manager",
          "QA Engineer",
          "Junior Developer",
          "DevOps Engineer",
          "Junior Developer",
          "UX Designer",
          "Senior Developer",
          "Product Manager",
          "Tech Lead",
          "Tech Lead",
          "Product Manager",
          "Junior Developer",
          "Tech Lead",
          "Junior Developer",
          "Tech Lead",
          "Tech Lead",
          "UX Designer",
          "Product Manager",
          "Data Scientist",
          "Product Manager",
          "Data Scientist",
          "Senior Developer",
          "Product Manager",
          "UX Designer",
          "Tech Lead",
          "Senior Developer",
          "Tech Lead",
          "QA Engineer",
          "DevOps Engineer",
          "QA Engineer",
          "Product Manager",
          "UX Designer",
          "DevOps Engineer",
          "Data Scientist",
          "UX Designer",
          "Senior Developer",
          "Tech Lead",
          "DevOps Engineer",
          "Junior Developer",
          "Data Scientist",
          "Tech Lead",
          "Senior Developer",
          "Tech Lead",
          "Junior Developer",
          "Junior Developer",
          "Product Manager",
          "Senior Developer",
          "DevOps Engineer",
          "QA Engineer",
          "Junior Developer",
          "Senior Developer",
          "Product Manager",
          "DevOps Engineer",
          "Junior Developer",
          "DevOps Engineer",
          "UX Designer",
          "Tech Lead",
          "Junior Developer",
          "Data Scientist",
          "Tech Lead",
          "Data Scientist",
          "Tech Lead",
          "Junior Developer",
          "Tech Lead",
          "Senior Developer",
          "Data Scientist",
          "QA Engineer",
          "Tech Lead",
          "Data Scientist",
          "QA Engineer",
          "QA Engineer",
          "QA Engineer",
          "DevOps Engineer",
          "Data Scientist",
          "QA Engineer",
          "Tech Lead",
          "Senior Developer",
          "Data Scientist",
          "UX Designer",
          "UX Designer",
          "QA Engineer",
          "Product Manager",
          "Senior Developer",
          "QA Engineer",
          "DevOps Engineer",
          "DevOps Engineer",
          "DevOps Engineer",
          "Product Manager",
          "Product Manager",
          "Senior Developer",
          "Junior Developer",
          "Senior Developer",
          "DevOps Engineer",
          "Junior Developer",
          "UX Designer",
          "Data Scientist",
          "UX Designer",
          "Data Scientist",
          "Tech Lead",
          "Product Manager",
          "QA Engineer",
          "Junior Developer",
          "Junior Developer",
          "QA Engineer",
          "UX Designer",
          "DevOps Engineer",
          "DevOps Engineer",
          "Data Scientist",
          "Product Manager",
          "Data Scientist",
          "Product Manager",
          "DevOps Engineer",
          "Tech Lead",
          "DevOps Engineer",
          "DevOps Engineer",
          "Senior Developer",
          "QA Engineer",
          "Senior Developer",
          "QA Engineer",
          "UX Designer",
          "UX Designer",
          "DevOps Engineer",
          "Data Scientist",
          "UX Designer",
          "QA Engineer",
          "Senior Developer",
          "Junior Developer",
          "Tech Lead",
          "Junior Developer",
          "Senior Developer",
          "Senior Developer",
          "Tech Lead",
          "UX Designer",
          "Product Manager",
          "DevOps Engineer",
          "DevOps Engineer",
          "Tech Lead",
          "Tech Lead",
          "Tech Lead",
          "QA Engineer",
          "Junior Developer",
          "QA Engineer",
          "Tech Lead",
          "Product Manager",
          "QA Engineer",
          "Data Scientist",
          "Junior Developer",
          "DevOps Engineer",
          "Product Manager",
          "UX Designer",
          "QA Engineer",
          "Tech Lead",
          "DevOps Engineer",
          "Tech Lead",
          "Tech Lead",
          "UX Designer",
          "DevOps Engineer",
          "Product Manager",
          "Tech Lead",
          "Junior Developer",
          "Product Manager",
          "Product Manager",
          "Junior Developer",
          "Senior Developer",
          "Product Manager",
          "Data Scientist",
          "Product Manager",
          "Tech Lead",
          "Product Manager",
          "QA Engineer",
          "Junior Developer",
          "Junior Developer",
          "Product Manager",
          "QA Engineer",
          "QA Engineer",
          "Senior Developer",
          "UX Designer",
          "UX Designer",
          "Senior Developer",
          "Product Manager",
          "Junior Developer",
          "QA Engineer",
          "Tech Lead",
          "Product Manager",
          "UX Designer",
          "QA Engineer",
          "Junior Developer",
          "QA Engineer",
          "QA Engineer",
          "Junior Developer",
          "Tech Lead",
          "UX Designer",
          "QA Engineer",
          "Tech Lead",
          "Product Manager",
          "DevOps Engineer",
          "UX Designer",
          "DevOps Engineer",
          "Senior Developer",
          "Junior Developer",
          "UX Designer",
          "Senior Developer",
          "Junior Developer",
          "Data Scientist",
          "Senior Developer",
          "QA Engineer",
          "Data Scientist",
          "Tech Lead",
          "Tech Lead",
          "Tech Lead",
          "UX Designer",
          "Product Manager",
          "Junior Developer",
          "Data Scientist",
          "UX Designer",
          "QA Engineer",
          "DevOps Engineer",
          "QA Engineer",
          "UX Designer",
          "Tech Lead",
          "QA Engineer",
          "Senior Developer",
          "Tech Lead",
          "Senior Developer",
          "QA Engineer",
          "UX Designer",
          "DevOps Engineer",
          "Junior Developer",
          "DevOps Engineer",
          "DevOps Engineer",
          "Tech Lead",
          "DevOps Engineer",
          "Data Scientist",
          "Senior Developer",
          "Product Manager",
          "DevOps Engineer",
          "Senior Developer",
          "Tech Lead",
          "Junior Developer",
          "UX Designer",
          "Senior Developer",
          "UX Designer",
          "Junior Developer",
          "Senior Developer",
          "Tech Lead",
          "Data Scientist",
          "QA Engineer",
          "Tech Lead",
          "Senior Developer",
          "QA Engineer",
          "QA Engineer",
          "DevOps Engineer",
          "Product Manager",
          "Data Scientist",
          "UX Designer",
          "Junior Developer",
          "Senior Developer",
          "UX Designer",
          "Product Manager",
          "DevOps Engineer",
          "Senior Developer",
          "Junior Developer",
          "DevOps Engineer",
          "DevOps Engineer",
          "Junior Developer",
          "Product Manager",
          "QA Engineer",
          "QA Engineer",
          "Junior Developer",
          "Junior Developer",
          "Senior Developer",
          "Senior Developer",
          "QA Engineer",
          "QA Engineer",
          "Product Manager",
          "Product Manager",
          "Senior Developer",
          "Product Manager",
          "Product Manager",
          "QA Engineer",
          "UX Designer",
          "QA Engineer",
          "Senior Developer",
          "QA Engineer",
          "Data Scientist",
          "DevOps Engineer",
          "QA Engineer",
          "Junior Developer",
          "Data Scientist",
          "QA Engineer",
          "Junior Developer",
          "Tech Lead",
          "Senior Developer",
          "UX Designer",
          "Senior Developer",
          "Tech Lead",
          "Product Manager",
          "Data Scientist",
          "UX Designer",
          "Junior Developer",
          "Data Scientist",
          "DevOps Engineer",
          "QA Engineer",
          "DevOps Engineer",
          "Product Manager",
          "DevOps Engineer",
          "Product Manager",
          "UX Designer",
          "Senior Developer",
          "Data Scientist",
          "Product Manager",
          "QA Engineer",
          "Tech Lead",
          "Data Scientist",
          "UX Designer",
          "QA Engineer",
          "Product Manager",
          "UX Designer",
          "Data Scientist",
          "Data Scientist",
          "Junior Developer",
          "UX Designer",
          "Tech Lead",
          "UX Designer",
          "UX Designer",
          "Senior Developer",
          "DevOps Engineer",
          "UX Designer",
          "Product Manager",
          "UX Designer",
          "DevOps Engineer",
          "UX Designer",
          "Tech Lead",
          "Product Manager",
          "DevOps Engineer",
          "UX Designer",
          "Tech Lead",
          "Junior Developer",
          "Tech Lead",
          "Data Scientist",
          "Tech Lead",
          "UX Designer",
          "Product Manager",
          "Tech Lead",
          "QA Engineer",
          "Data Scientist",
          "Product Manager",
          "DevOps Engineer",
          "Junior Developer",
          "Senior Developer",
          "QA Engineer",
          "Data Scientist",
          "UX Designer",
          "Junior Developer",
          "Tech Lead",
          "Tech Lead",
          "Product Manager",
          "Junior Developer",
          "Product Manager",
          "QA Engineer",
          "Product Manager",
          "Product Manager",
          "DevOps Engineer",
          "QA Engineer",
          "Junior Developer",
          "Senior Developer",
          "Junior Developer",
          "Tech Lead",
          "DevOps Engineer",
          "QA Engineer",
          "DevOps Engineer",
          "DevOps Engineer",
          "Senior Developer",
          "DevOps Engineer",
          "Senior Developer",
          "Junior Developer",
          "DevOps Engineer",
          "Product Manager",
          "UX Designer",
          "DevOps Engineer",
          "UX Designer",
          "Senior Developer",
          "Data Scientist",
          "DevOps Engineer",
          "DevOps Engineer",
          "Senior Developer",
          "Junior Developer",
          "Product Manager",
          "QA Engineer",
          "Junior Developer",
          "DevOps Engineer",
          "Junior Developer",
          "Tech Lead",
          "Junior Developer",
          "DevOps Engineer",
          "UX Designer",
          "DevOps Engineer",
          "Product Manager",
          "Data Scientist",
          "Senior Developer",
          "Junior Developer",
          "Product Manager",
          "Data Scientist",
          "Senior Developer",
          "DevOps Engineer",
          "Product Manager",
          "DevOps Engineer",
          "Data Scientist",
          "Product Manager",
          "Data Scientist",
          "Product Manager",
          "Junior Developer",
          "UX Designer",
          "Junior Developer",
          "Product Manager",
          "QA Engineer",
          "DevOps Engineer",
          "Tech Lead",
          "UX Designer",
          "DevOps Engineer",
          "DevOps Engineer",
          "Junior Developer",
          "Data Scientist",
          "Data Scientist",
          "Data Scientist",
          "Senior Developer",
          "QA Engineer",
          "Senior Developer",
          "Senior Developer",
          "Product Manager",
          "Junior Developer",
          "Senior Developer",
          "Data Scientist",
          "Tech Lead",
          "QA Engineer",
          "QA Engineer",
          "Product Manager",
          "Data Scientist",
          "Junior Developer",
          "Senior Developer",
          "QA Engineer",
          "DevOps Engineer",
          "QA Engineer",
          "QA Engineer",
          "Junior Developer",
          "Tech Lead",
          "DevOps Engineer",
          "UX Designer",
          "Tech Lead",
          "DevOps Engineer",
          "QA Engineer",
          "Tech Lead",
          "Junior Developer",
          "QA Engineer",
          "Junior Developer",
          "QA Engineer",
          "Senior Developer",
          "Tech Lead",
          "UX Designer",
          "Tech Lead",
          "Data Scientist",
          "Product Manager",
          "Tech Lead",
          "QA Engineer",
          "UX Designer",
          "DevOps Engineer",
          "Junior Developer",
          "Senior Developer",
          "Junior Developer",
          "Product Manager",
          "Data Scientist",
          "Junior Developer",
          "QA Engineer",
          "QA Engineer",
          "Product Manager",
          "QA Engineer",
          "Data Scientist",
          "Data Scientist",
          "Senior Developer",
          "Senior Developer",
          "Data Scientist",
          "Junior Developer",
          "Senior Developer",
          "Tech Lead",
          "Senior Developer",
          "DevOps Engineer",
          "Product Manager",
          "Tech Lead",
          "DevOps Engineer",
          "Product Manager",
          "Junior Developer",
          "UX Designer",
          "Tech Lead",
          "UX Designer",
          "Product Manager",
          "Tech Lead",
          "Junior Developer",
          "Product Manager",
          "Tech Lead",
          "Product Manager",
          "QA Engineer",
          "Product Manager",
          "Data Scientist",
          "Junior Developer",
          "Product Manager",
          "Tech Lead",
          "UX Designer",
          "Data Scientist",
          "QA Engineer",
          "UX Designer",
          "Senior Developer",
          "Tech Lead",
          "Product Manager",
          "Data Scientist",
          "Data Scientist",
          "Senior Developer",
          "UX Designer",
          "UX Designer",
          "QA Engineer",
          "QA Engineer",
          "Senior Developer",
          "Product Manager",
          "Senior Developer",
          "UX Designer",
          "DevOps Engineer",
          "QA Engineer",
          "Product Manager",
          "Junior Developer",
          "Product Manager",
          "Junior Developer",
          "Tech Lead",
          "Tech Lead",
          "UX Designer",
          "Data Scientist",
          "DevOps Engineer",
          "Junior Developer",
          "Data Scientist",
          "UX Designer",
          "QA Engineer",
          "Data Scientist",
          "QA Engineer",
          "Senior Developer",
          "Junior Developer",
          "Product Manager",
          "Data Scientist",
          "Tech Lead",
          "QA Engineer",
          "Data Scientist",
          "Data Scientist",
          "Tech Lead",
          "Senior Developer",
          "Product Manager",
          "QA Engineer",
          "QA Engineer",
          "DevOps Engineer",
          "UX Designer",
          "Tech Lead",
          "Junior Developer",
          "Junior Developer",
          "DevOps Engineer",
          "Tech Lead",
          "UX Designer",
          "Tech Lead",
          "Tech Lead",
          "Tech Lead",
          "Senior Developer",
          "Senior Developer",
          "Product Manager",
          "Senior Developer",
          "DevOps Engineer",
          "Tech Lead",
          "QA Engineer",
          "Data Scientist",
          "UX Designer",
          "Data Scientist",
          "UX Designer",
          "Senior Developer",
          "QA Engineer",
          "Junior Developer",
          "Product Manager",
          "Junior Developer",
          "Product Manager",
          "Product Manager",
          "Tech Lead",
          "Data Scientist",
          "Tech Lead",
          "Product Manager",
          "Product Manager",
          "DevOps Engineer",
          "UX Designer",
          "Senior Developer",
          "Senior Developer",
          "Tech Lead",
          "Product Manager",
          "Junior Developer",
          "Senior Developer",
          "Data Scientist",
          "Product Manager",
          "Junior Developer",
          "QA Engineer",
          "Product Manager",
          "DevOps Engineer",
          "Junior Developer",
          "DevOps Engineer",
          "Data Scientist",
          "Product Manager",
          "Product Manager",
          "UX Designer",
          "DevOps Engineer",
          "QA Engineer",
          "Data Scientist",
          "Data Scientist",
          "Data Scientist",
          "UX Designer",
          "Product Manager",
          "UX Designer",
          "Senior Developer",
          "Product Manager",
          "Product Manager",
          "Tech Lead",
          "Product Manager",
          "QA Engineer",
          "Tech Lead",
          "DevOps Engineer",
          "UX Designer",
          "Tech Lead",
          "QA Engineer",
          "Product Manager",
          "Junior Developer",
          "Senior Developer",
          "Junior Developer",
          "Junior Developer",
          "Junior Developer",
          "Tech Lead",
          "Product Manager",
          "Product Manager",
          "Senior Developer",
          "Tech Lead",
          "DevOps Engineer",
          "Tech Lead",
          "Product Manager",
          "Product Manager",
          "Junior Developer",
          "Tech Lead",
          "Senior Developer",
          "UX Designer",
          "Data Scientist",
          "Data Scientist",
          "UX Designer",
          "Tech Lead",
          "Data Scientist",
          "Data Scientist",
          "DevOps Engineer",
          "Product Manager",
          "Data Scientist",
          "Junior Developer",
          "UX Designer",
          "Tech Lead",
          "Junior Developer",
          "Junior Developer",
          "Junior Developer",
          "Product Manager",
          "Junior Developer",
          "UX Designer",
          "UX Designer",
          "UX Designer",
          "Senior Developer",
          "DevOps Engineer",
          "Data Scientist",
          "QA Engineer",
          "QA Engineer",
          "DevOps Engineer",
          "Tech Lead",
          "Junior Developer",
          "QA Engineer",
          "Senior Developer",
          "DevOps Engineer",
          "Data Scientist",
          "Data Scientist",
          "Junior Developer",
          "Tech Lead",
          "Tech Lead",
          "DevOps Engineer",
          "Data Scientist",
          "Tech Lead",
          "Senior Developer",
          "QA Engineer",
          "DevOps Engineer",
          "Data Scientist",
          "UX Designer",
          "Junior Developer",
          "QA Engineer",
          "DevOps Engineer",
          "Tech Lead",
          "Junior Developer",
          "QA Engineer",
          "Tech Lead",
          "QA Engineer",
          "Tech Lead",
          "QA Engineer",
          "DevOps Engineer",
          "Junior Developer",
          "Tech Lead",
          "Data Scientist",
          "UX Designer",
          "DevOps Engineer",
          "DevOps Engineer",
          "Junior Developer",
          "QA Engineer",
          "Data Scientist",
          "Product Manager",
          "DevOps Engineer",
          "DevOps Engineer",
          "QA Engineer",
          "Tech Lead",
          "Junior Developer",
          "Data Scientist",
          "QA Engineer",
          "QA Engineer",
          "Senior Developer",
          "Tech Lead",
          "Data Scientist",
          "Senior Developer",
          "Tech Lead",
          "Senior Developer",
          "Product Manager",
          "Senior Developer",
          "Junior Developer",
          "Product Manager",
          "UX Designer",
          "Tech Lead",
          "Product Manager",
          "Data Scientist",
          "QA Engineer",
          "Product Manager",
          "QA Engineer",
          "Product Manager",
          "Tech Lead",
          "DevOps Engineer",
          "DevOps Engineer",
          "Tech Lead",
          "Product Manager",
          "DevOps Engineer",
          "Junior Developer",
          "Tech Lead",
          "UX Designer",
          "Product Manager",
          "Product Manager",
          "UX Designer",
          "Data Scientist",
          "Data Scientist",
          "Senior Developer",
          "Product Manager",
          "QA Engineer",
          "QA Engineer",
          "QA Engineer",
          "Data Scientist",
          "Tech Lead",
          "Junior Developer",
          "Product Manager",
          "UX Designer",
          "UX Designer",
          "DevOps Engineer",
          "QA Engineer",
          "DevOps Engineer",
          "Senior Developer",
          "Data Scientist",
          "Junior Developer",
          "UX Designer",
          "Tech Lead",
          "Junior Developer",
          "Product Manager",
          "DevOps Engineer",
          "Junior Developer",
          "Product Manager",
          "Senior Developer",
          "Junior Developer",
          "Product Manager",
          "Data Scientist",
          "Senior Developer",
          "Junior Developer",
          "UX Designer",
          "Data Scientist",
          "Product Manager",
          "Junior Developer",
          "QA Engineer",
          "Junior Developer",
          "QA Engineer",
          "Data Scientist",
          "Junior Developer",
          "Tech Lead",
          "Product Manager",
          "QA Engineer",
          "QA Engineer",
          "Senior Developer",
          "Senior Developer",
          "Data Scientist",
          "Product Manager",
          "DevOps Engineer",
          "Product Manager",
          "Data Scientist",
          "Senior Developer",
          "QA Engineer",
          "QA Engineer",
          "Data Scientist",
          "UX Designer",
          "DevOps Engineer",
          "Data Scientist",
          "QA Engineer",
          "UX Designer",
          "Senior Developer",
          "Tech Lead",
          "UX Designer",
          "Tech Lead",
          "Senior Developer",
          "Junior Developer",
          "QA Engineer",
          "Data Scientist",
          "Senior Developer",
          "Junior Developer",
          "Junior Developer",
          "Senior Developer",
          "Product Manager",
          "Tech Lead",
          "Junior Developer",
          "DevOps Engineer",
          "Senior Developer",
          "QA Engineer",
          "Product Manager",
          "UX Designer",
          "Junior Developer",
          "Product Manager",
          "QA Engineer",
          "Product Manager",
          "Data Scientist",
          "QA Engineer",
          "Product Manager",
          "DevOps Engineer",
          "UX Designer",
          "Junior Developer",
          "Junior Developer",
          "Tech Lead",
          "QA Engineer",
          "Tech Lead",
          "Data Scientist",
          "QA Engineer",
          "Tech Lead",
          "QA Engineer",
          "Junior Developer",
          "Data Scientist",
          "Data Scientist",
          "Senior Developer",
          "Product Manager",
          "Product Manager",
          "UX Designer",
          "Data Scientist",
          "DevOps Engineer",
          "Senior Developer",
          "DevOps Engineer",
          "Senior Developer",
          "UX Designer",
          "Senior Developer",
          "Senior Developer",
          "Senior Developer",
          "QA Engineer",
          "Junior Developer",
          "Data Scientist",
          "QA Engineer",
          "Product Manager",
          "Data Scientist",
          "DevOps Engineer",
          "UX Designer",
          "UX Designer",
          "Junior Developer",
          "Product Manager",
          "QA Engineer",
          "DevOps Engineer",
          "Junior Developer",
          "Senior Developer",
          "QA Engineer",
          "Junior Developer",
          "Product Manager",
          "Senior Developer",
          "Junior Developer",
          "Tech Lead",
          "Product Manager",
          "Tech Lead",
          "Product Manager",
          "Data Scientist",
          "Senior Developer",
          "Product Manager",
          "Tech Lead",
          "Junior Developer",
          "Junior Developer",
          "UX Designer",
          "Tech Lead",
          "Tech Lead",
          "DevOps Engineer",
          "Tech Lead",
          "QA Engineer",
          "UX Designer",
          "Data Scientist",
          "DevOps Engineer",
          "Junior Developer",
          "Data Scientist",
          "Senior Developer",
          "Data Scientist",
          "Product Manager",
          "Tech Lead",
          "DevOps Engineer",
          "Data Scientist",
          "Senior Developer",
          "Data Scientist",
          "Product Manager",
          "Data Scientist",
          "Product Manager",
          "Data Scientist",
          "Junior Developer",
          "Tech Lead",
          "QA Engineer",
          "Data Scientist",
          "Data Scientist",
          "UX Designer",
          "UX Designer",
          "QA Engineer",
          "QA Engineer",
          "Junior Developer",
          "Product Manager",
          "DevOps Engineer",
          "Senior Developer",
          "Data Scientist",
          "Product Manager",
          "DevOps Engineer",
          "QA Engineer",
          "UX Designer",
          "DevOps Engineer",
          "DevOps Engineer",
          "Data Scientist",
          "Data Scientist",
          "Data Scientist",
          "QA Engineer",
          "Tech Lead",
          "UX Designer",
          "Junior Developer",
          "Junior Developer",
          "Tech Lead",
          "Senior Developer",
          "DevOps Engineer",
          "Junior Developer",
          "Senior Developer",
          "Senior Developer",
          "Data Scientist",
          "Product Manager",
          "Senior Developer",
          "QA Engineer",
          "DevOps Engineer",
          "Product Manager",
          "Junior Developer",
          "Product Manager",
          "Tech Lead",
          "QA Engineer",
          "Senior Developer",
          "UX Designer",
          "Junior Developer",
          "DevOps Engineer",
          "Senior Developer",
          "Data Scientist",
          "Product Manager",
          "Senior Developer",
          "Junior Developer",
          "UX Designer",
          "UX Designer",
          "Senior Developer",
          "DevOps Engineer",
          "Senior Developer",
          "Data Scientist",
          "UX Designer",
          "Data Scientist",
          "Tech Lead",
          "Tech Lead",
          "DevOps Engineer",
          "DevOps Engineer",
          "Product Manager",
          "Junior Developer",
          "Data Scientist",
          "QA Engineer",
          "Tech Lead",
          "QA Engineer",
          "QA Engineer",
          "QA Engineer",
          "Data Scientist",
          "QA Engineer",
          "Junior Developer",
          "Product Manager",
          "Senior Developer",
          "Product Manager",
          "Data Scientist",
          "Tech Lead",
          "Senior Developer",
          "Junior Developer",
          "Product Manager",
          "Tech Lead",
          "DevOps Engineer",
          "Data Scientist",
          "Senior Developer",
          "Senior Developer",
          "Product Manager",
          "Tech Lead",
          "DevOps Engineer",
          "QA Engineer",
          "UX Designer",
          "UX Designer",
          "Senior Developer",
          "Data Scientist",
          "Junior Developer",
          "DevOps Engineer",
          "Data Scientist",
          "Junior Developer",
          "Tech Lead",
          "DevOps Engineer",
          "Product Manager",
          "UX Designer",
          "DevOps Engineer",
          "Senior Developer",
          "Data Scientist",
          "Tech Lead",
          "UX Designer",
          "Product Manager",
          "Junior Developer",
          "Senior Developer",
          "QA Engineer",
          "Junior Developer",
          "Senior Developer",
          "Tech Lead",
          "Product Manager",
          "Product Manager",
          "Senior Developer",
          "Product Manager",
          "Junior Developer",
          "Senior Developer",
          "Data Scientist",
          "Tech Lead",
          "Product Manager",
          "Data Scientist",
          "DevOps Engineer",
          "QA Engineer",
          "DevOps Engineer",
          "Tech Lead",
          "DevOps Engineer",
          "UX Designer",
          "Tech Lead",
          "QA Engineer",
          "Tech Lead",
          "UX Designer",
          "Product Manager",
          "Tech Lead",
          "DevOps Engineer",
          "Tech Lead",
          "Tech Lead",
          "QA Engineer",
          "Senior Developer",
          "Senior Developer",
          "Senior Developer",
          "QA Engineer",
          "UX Designer",
          "UX Designer",
          "Product Manager",
          "Junior Developer",
          "Junior Developer",
          "Junior Developer",
          "UX Designer",
          "QA Engineer",
          "Senior Developer",
          "Product Manager",
          "DevOps Engineer",
          "QA Engineer",
          "Tech Lead",
          "UX Designer",
          "QA Engineer",
          "Data Scientist",
          "UX Designer",
          "Data Scientist",
          "Tech Lead",
          "Junior Developer",
          "Data Scientist",
          "UX Designer",
          "Product Manager",
          "Tech Lead",
          "Junior Developer",
          "DevOps Engineer",
          "DevOps Engineer",
          "UX Designer",
          "DevOps Engineer",
          "QA Engineer",
          "Product Manager",
          "Tech Lead",
          "Data Scientist",
          "QA Engineer",
          "UX Designer",
          "Senior Developer",
          "Tech Lead",
          "Junior Developer",
          "Senior Developer",
          "Junior Developer",
          "Junior Developer",
          "Data Scientist",
          "Tech Lead",
          "Product Manager",
          "Data Scientist",
          "Junior Developer",
          "Data Scientist",
          "Product Manager",
          "UX Designer",
          "DevOps Engineer",
          "DevOps Engineer",
          "Tech Lead",
          "UX Designer",
          "Senior Developer",
          "Junior Developer",
          "QA Engineer",
          "Senior Developer",
          "Junior Developer",
          "DevOps Engineer",
          "QA Engineer",
          "DevOps Engineer",
          "Tech Lead",
          "Tech Lead",
          "Junior Developer",
          "Junior Developer",
          "Senior Developer",
          "Data Scientist",
          "QA Engineer",
          "Tech Lead",
          "DevOps Engineer",
          "Junior Developer",
          "Tech Lead",
          "QA Engineer",
          "Product Manager",
          "UX Designer",
          "QA Engineer",
          "DevOps Engineer",
          "Junior Developer",
          "Data Scientist",
          "DevOps Engineer",
          "Junior Developer",
          "QA Engineer",
          "DevOps Engineer",
          "Junior Developer",
          "Senior Developer",
          "Senior Developer",
          "Senior Developer",
          "Senior Developer",
          "UX Designer",
          "Tech Lead",
          "Product Manager",
          "Junior Developer",
          "Data Scientist",
          "Senior Developer",
          "Tech Lead",
          "Junior Developer",
          "Data Scientist",
          "Senior Developer",
          "Data Scientist",
          "Product Manager",
          "UX Designer",
          "Junior Developer",
          "DevOps Engineer",
          "UX Designer",
          "Data Scientist",
          "UX Designer",
          "Junior Developer",
          "Senior Developer",
          "Tech Lead",
          "Data Scientist",
          "QA Engineer",
          "Junior Developer",
          "Tech Lead",
          "Data Scientist",
          "Data Scientist",
          "QA Engineer",
          "Data Scientist",
          "Data Scientist",
          "QA Engineer",
          "Junior Developer",
          "Tech Lead",
          "Data Scientist",
          "Senior Developer",
          "Data Scientist",
          "QA Engineer",
          "UX Designer",
          "DevOps Engineer",
          "Data Scientist",
          "Senior Developer",
          "Junior Developer",
          "Product Manager",
          "Junior Developer",
          "Product Manager",
          "UX Designer",
          "Junior Developer",
          "Junior Developer",
          "QA Engineer",
          "Junior Developer",
          "Product Manager",
          "Product Manager",
          "DevOps Engineer",
          "Junior Developer",
          "Senior Developer",
          "QA Engineer",
          "QA Engineer",
          "DevOps Engineer",
          "Product Manager",
          "Product Manager",
          "Senior Developer",
          "Junior Developer",
          "Product Manager",
          "DevOps Engineer",
          "Tech Lead",
          "Junior Developer",
          "DevOps Engineer",
          "Tech Lead",
          "Data Scientist",
          "Junior Developer",
          "QA Engineer",
          "Data Scientist",
          "Junior Developer",
          "UX Designer",
          "Tech Lead",
          "QA Engineer",
          "Data Scientist",
          "Tech Lead",
          "Junior Developer",
          "Data Scientist",
          "DevOps Engineer",
          "QA Engineer",
          "DevOps Engineer",
          "DevOps Engineer",
          "DevOps Engineer",
          "Data Scientist",
          "QA Engineer",
          "DevOps Engineer",
          "Product Manager",
          "Product Manager",
          "Junior Developer",
          "Senior Developer",
          "Senior Developer",
          "Data Scientist",
          "QA Engineer",
          "Product Manager",
          "Product Manager",
          "Senior Developer",
          "QA Engineer",
          "Data Scientist",
          "QA Engineer",
          "DevOps Engineer",
          "Data Scientist",
          "DevOps Engineer",
          "Product Manager",
          "Data Scientist",
          "QA Engineer",
          "Junior Developer",
          "Product Manager",
          "Product Manager",
          "Product Manager",
          "Senior Developer",
          "Junior Developer",
          "Tech Lead",
          "DevOps Engineer",
          "Data Scientist",
          "UX Designer",
          "Senior Developer",
          "Data Scientist",
          "QA Engineer",
          "Junior Developer",
          "Senior Developer",
          "Data Scientist",
          "Product Manager",
          "Junior Developer",
          "Junior Developer",
          "Data Scientist",
          "UX Designer",
          "QA Engineer",
          "Data Scientist",
          "Junior Developer",
          "Tech Lead",
          "Junior Developer",
          "Product Manager",
          "Data Scientist",
          "Tech Lead",
          "Data Scientist",
          "Data Scientist",
          "Junior Developer",
          "DevOps Engineer",
          "Tech Lead",
          "UX Designer",
          "Product Manager",
          "DevOps Engineer",
          "Product Manager",
          "Data Scientist",
          "UX Designer",
          "Product Manager",
          "DevOps Engineer",
          "Product Manager",
          "Junior Developer",
          "UX Designer",
          "Product Manager",
          "Product Manager",
          "Tech Lead",
          "DevOps Engineer",
          "UX Designer",
          "Senior Developer",
          "DevOps Engineer",
          "DevOps Engineer",
          "Senior Developer",
          "Product Manager",
          "DevOps Engineer",
          "DevOps Engineer",
          "DevOps Engineer",
          "Junior Developer",
          "UX Designer",
          "QA Engineer",
          "Product Manager",
          "Data Scientist",
          "Product Manager",
          "Data Scientist",
          "UX Designer",
          "QA Engineer",
          "Product Manager",
          "QA Engineer",
          "Tech Lead",
          "DevOps Engineer",
          "DevOps Engineer",
          "UX Designer",
          "Tech Lead",
          "Data Scientist",
          "Product Manager",
          "Product Manager",
          "UX Designer",
          "Senior Developer",
          "DevOps Engineer",
          "Tech Lead",
          "Junior Developer",
          "Tech Lead",
          "Data Scientist",
          "UX Designer",
          "Senior Developer",
          "QA Engineer",
          "UX Designer",
          "Senior Developer",
          "Tech Lead",
          "UX Designer",
          "DevOps Engineer",
          "Data Scientist",
          "DevOps Engineer",
          "DevOps Engineer",
          "Data Scientist",
          "UX Designer",
          "Product Manager",
          "QA Engineer",
          "Senior Developer",
          "UX Designer",
          "UX Designer",
          "Product Manager",
          "QA Engineer",
          "Senior Developer",
          "Tech Lead",
          "Data Scientist",
          "Data Scientist",
          "Junior Developer",
          "Product Manager",
          "QA Engineer",
          "Data Scientist",
          "DevOps Engineer",
          "Senior Developer",
          "UX Designer",
          "Tech Lead",
          "Product Manager",
          "Junior Developer",
          "DevOps Engineer",
          "UX Designer",
          "Senior Developer",
          "DevOps Engineer",
          "Junior Developer",
          "Tech Lead",
          "Data Scientist",
          "Junior Developer",
          "DevOps Engineer",
          "DevOps Engineer",
          "Junior Developer",
          "UX Designer",
          "Data Scientist",
          "Product Manager",
          "Junior Developer",
          "Product Manager",
          "UX Designer",
          "QA Engineer",
          "Junior Developer",
          "Tech Lead",
          "Junior Developer",
          "QA Engineer",
          "Product Manager",
          "Tech Lead",
          "Senior Developer",
          "Senior Developer",
          "Data Scientist",
          "Junior Developer",
          "Data Scientist",
          "Data Scientist",
          "Tech Lead",
          "DevOps Engineer",
          "Data Scientist",
          "Data Scientist",
          "UX Designer",
          "DevOps Engineer",
          "Tech Lead",
          "Data Scientist",
          "DevOps Engineer",
          "QA Engineer",
          "Tech Lead",
          "UX Designer",
          "Tech Lead",
          "Data Scientist",
          "Tech Lead",
          "Senior Developer",
          "Tech Lead",
          "Tech Lead",
          "QA Engineer",
          "Product Manager",
          "QA Engineer",
          "Tech Lead",
          "Product Manager",
          "Product Manager",
          "QA Engineer",
          "Senior Developer",
          "QA Engineer",
          "QA Engineer"
         ],
         "xaxis": "x",
         "yaxis": "y"
        },
        {
         "alignmentgroup": "True",
         "bingroup": "x",
         "hovertemplate": "churn=1<br>cargo=%{x}<br>count=%{y}<extra></extra>",
         "legendgroup": "1",
         "marker": {
          "color": "#EF553B",
          "pattern": {
           "shape": ""
          }
         },
         "name": "1",
         "offsetgroup": "1",
         "orientation": "v",
         "showlegend": true,
         "type": "histogram",
         "x": [
          "Product Manager",
          "Junior Developer",
          "UX Designer",
          "Senior Developer",
          "Product Manager",
          "Senior Developer",
          "QA Engineer",
          "Data Scientist",
          "QA Engineer",
          "Junior Developer",
          "UX Designer",
          "Senior Developer",
          "UX Designer",
          "Product Manager",
          "Senior Developer",
          "Senior Developer",
          "DevOps Engineer",
          "Data Scientist",
          "Tech Lead",
          "DevOps Engineer",
          "Junior Developer",
          "QA Engineer",
          "Junior Developer",
          "Junior Developer",
          "Product Manager",
          "Senior Developer",
          "DevOps Engineer",
          "Tech Lead",
          "Product Manager",
          "Senior Developer",
          "Tech Lead",
          "UX Designer",
          "QA Engineer",
          "Product Manager",
          "QA Engineer",
          "Product Manager",
          "Tech Lead",
          "Data Scientist",
          "Junior Developer",
          "Data Scientist",
          "Tech Lead",
          "QA Engineer",
          "Product Manager",
          "UX Designer",
          "Data Scientist",
          "Product Manager",
          "Data Scientist",
          "Product Manager",
          "Junior Developer",
          "Senior Developer",
          "Product Manager",
          "UX Designer",
          "Tech Lead",
          "QA Engineer",
          "Data Scientist",
          "Data Scientist",
          "Junior Developer",
          "Junior Developer",
          "UX Designer",
          "Data Scientist",
          "QA Engineer",
          "UX Designer",
          "Tech Lead",
          "Product Manager",
          "Data Scientist",
          "DevOps Engineer",
          "Data Scientist",
          "UX Designer",
          "UX Designer",
          "Tech Lead",
          "UX Designer",
          "Tech Lead",
          "UX Designer",
          "Product Manager",
          "Product Manager",
          "DevOps Engineer",
          "Data Scientist",
          "Junior Developer",
          "QA Engineer",
          "Data Scientist",
          "QA Engineer",
          "Tech Lead",
          "UX Designer",
          "UX Designer",
          "Product Manager",
          "Product Manager",
          "Senior Developer",
          "UX Designer",
          "DevOps Engineer",
          "QA Engineer",
          "Product Manager",
          "UX Designer",
          "UX Designer",
          "DevOps Engineer",
          "Junior Developer",
          "Product Manager",
          "Senior Developer",
          "UX Designer",
          "Senior Developer",
          "Senior Developer",
          "UX Designer",
          "Product Manager",
          "DevOps Engineer",
          "DevOps Engineer",
          "Senior Developer",
          "QA Engineer",
          "Tech Lead",
          "Senior Developer",
          "QA Engineer",
          "Tech Lead",
          "DevOps Engineer",
          "DevOps Engineer",
          "Data Scientist",
          "Product Manager",
          "UX Designer",
          "Senior Developer",
          "Junior Developer",
          "Senior Developer",
          "Data Scientist",
          "QA Engineer",
          "QA Engineer",
          "Product Manager",
          "Senior Developer",
          "DevOps Engineer",
          "Senior Developer",
          "QA Engineer",
          "Product Manager",
          "DevOps Engineer",
          "DevOps Engineer",
          "UX Designer",
          "Product Manager",
          "UX Designer",
          "Product Manager",
          "Data Scientist",
          "UX Designer",
          "Junior Developer",
          "Tech Lead",
          "Data Scientist",
          "Tech Lead",
          "QA Engineer",
          "DevOps Engineer",
          "DevOps Engineer",
          "Tech Lead",
          "DevOps Engineer",
          "Junior Developer",
          "UX Designer",
          "Tech Lead",
          "Senior Developer",
          "QA Engineer",
          "Junior Developer",
          "UX Designer",
          "DevOps Engineer",
          "DevOps Engineer",
          "Tech Lead",
          "Junior Developer",
          "DevOps Engineer",
          "QA Engineer",
          "Tech Lead",
          "QA Engineer",
          "Junior Developer",
          "DevOps Engineer",
          "Junior Developer",
          "UX Designer",
          "Data Scientist",
          "Data Scientist",
          "Senior Developer",
          "UX Designer",
          "Data Scientist",
          "QA Engineer",
          "Junior Developer",
          "Product Manager",
          "QA Engineer",
          "Junior Developer",
          "DevOps Engineer",
          "Senior Developer",
          "Junior Developer",
          "UX Designer",
          "Data Scientist",
          "QA Engineer",
          "Junior Developer",
          "QA Engineer",
          "DevOps Engineer",
          "Product Manager",
          "Junior Developer",
          "Senior Developer",
          "UX Designer",
          "Junior Developer",
          "QA Engineer",
          "Junior Developer",
          "Data Scientist",
          "Senior Developer",
          "Product Manager",
          "Senior Developer",
          "Senior Developer",
          "UX Designer",
          "Senior Developer",
          "QA Engineer",
          "Junior Developer",
          "Junior Developer",
          "Senior Developer",
          "Junior Developer",
          "Data Scientist",
          "Tech Lead",
          "QA Engineer",
          "QA Engineer",
          "UX Designer",
          "Tech Lead",
          "Junior Developer",
          "Data Scientist",
          "Product Manager",
          "UX Designer",
          "UX Designer",
          "DevOps Engineer",
          "UX Designer",
          "Senior Developer",
          "Senior Developer",
          "QA Engineer",
          "UX Designer",
          "QA Engineer",
          "Product Manager",
          "Product Manager",
          "Tech Lead",
          "Data Scientist",
          "Data Scientist",
          "DevOps Engineer",
          "DevOps Engineer",
          "Senior Developer",
          "Tech Lead",
          "UX Designer",
          "Data Scientist",
          "Junior Developer",
          "Data Scientist",
          "UX Designer",
          "Senior Developer",
          "QA Engineer",
          "QA Engineer",
          "DevOps Engineer",
          "DevOps Engineer",
          "Tech Lead",
          "Product Manager",
          "Data Scientist",
          "Data Scientist",
          "DevOps Engineer",
          "Senior Developer",
          "Product Manager",
          "QA Engineer",
          "Product Manager",
          "Senior Developer",
          "Senior Developer",
          "Junior Developer",
          "Senior Developer",
          "Product Manager",
          "Junior Developer",
          "Tech Lead",
          "Senior Developer",
          "DevOps Engineer",
          "UX Designer",
          "QA Engineer",
          "Junior Developer",
          "DevOps Engineer",
          "Junior Developer",
          "UX Designer",
          "Data Scientist",
          "Tech Lead",
          "UX Designer",
          "Data Scientist",
          "Tech Lead",
          "Junior Developer",
          "Senior Developer",
          "Product Manager",
          "UX Designer",
          "Junior Developer",
          "Junior Developer",
          "DevOps Engineer",
          "QA Engineer",
          "Tech Lead",
          "Tech Lead",
          "Product Manager",
          "QA Engineer",
          "Junior Developer",
          "QA Engineer",
          "Product Manager",
          "Junior Developer",
          "Tech Lead",
          "UX Designer",
          "Senior Developer"
         ],
         "xaxis": "x",
         "yaxis": "y"
        }
       ],
       "layout": {
        "barmode": "group",
        "legend": {
         "title": {
          "text": "churn"
         },
         "tracegroupgap": 0
        },
        "template": {
         "data": {
          "bar": [
           {
            "error_x": {
             "color": "#2a3f5f"
            },
            "error_y": {
             "color": "#2a3f5f"
            },
            "marker": {
             "line": {
              "color": "#E5ECF6",
              "width": 0.5
             },
             "pattern": {
              "fillmode": "overlay",
              "size": 10,
              "solidity": 0.2
             }
            },
            "type": "bar"
           }
          ],
          "barpolar": [
           {
            "marker": {
             "line": {
              "color": "#E5ECF6",
              "width": 0.5
             },
             "pattern": {
              "fillmode": "overlay",
              "size": 10,
              "solidity": 0.2
             }
            },
            "type": "barpolar"
           }
          ],
          "carpet": [
           {
            "aaxis": {
             "endlinecolor": "#2a3f5f",
             "gridcolor": "white",
             "linecolor": "white",
             "minorgridcolor": "white",
             "startlinecolor": "#2a3f5f"
            },
            "baxis": {
             "endlinecolor": "#2a3f5f",
             "gridcolor": "white",
             "linecolor": "white",
             "minorgridcolor": "white",
             "startlinecolor": "#2a3f5f"
            },
            "type": "carpet"
           }
          ],
          "choropleth": [
           {
            "colorbar": {
             "outlinewidth": 0,
             "ticks": ""
            },
            "type": "choropleth"
           }
          ],
          "contour": [
           {
            "colorbar": {
             "outlinewidth": 0,
             "ticks": ""
            },
            "colorscale": [
             [
              0,
              "#0d0887"
             ],
             [
              0.1111111111111111,
              "#46039f"
             ],
             [
              0.2222222222222222,
              "#7201a8"
             ],
             [
              0.3333333333333333,
              "#9c179e"
             ],
             [
              0.4444444444444444,
              "#bd3786"
             ],
             [
              0.5555555555555556,
              "#d8576b"
             ],
             [
              0.6666666666666666,
              "#ed7953"
             ],
             [
              0.7777777777777778,
              "#fb9f3a"
             ],
             [
              0.8888888888888888,
              "#fdca26"
             ],
             [
              1,
              "#f0f921"
             ]
            ],
            "type": "contour"
           }
          ],
          "contourcarpet": [
           {
            "colorbar": {
             "outlinewidth": 0,
             "ticks": ""
            },
            "type": "contourcarpet"
           }
          ],
          "heatmap": [
           {
            "colorbar": {
             "outlinewidth": 0,
             "ticks": ""
            },
            "colorscale": [
             [
              0,
              "#0d0887"
             ],
             [
              0.1111111111111111,
              "#46039f"
             ],
             [
              0.2222222222222222,
              "#7201a8"
             ],
             [
              0.3333333333333333,
              "#9c179e"
             ],
             [
              0.4444444444444444,
              "#bd3786"
             ],
             [
              0.5555555555555556,
              "#d8576b"
             ],
             [
              0.6666666666666666,
              "#ed7953"
             ],
             [
              0.7777777777777778,
              "#fb9f3a"
             ],
             [
              0.8888888888888888,
              "#fdca26"
             ],
             [
              1,
              "#f0f921"
             ]
            ],
            "type": "heatmap"
           }
          ],
          "histogram": [
           {
            "marker": {
             "pattern": {
              "fillmode": "overlay",
              "size": 10,
              "solidity": 0.2
             }
            },
            "type": "histogram"
           }
          ],
          "histogram2d": [
           {
            "colorbar": {
             "outlinewidth": 0,
             "ticks": ""
            },
            "colorscale": [
             [
              0,
              "#0d0887"
             ],
             [
              0.1111111111111111,
              "#46039f"
             ],
             [
              0.2222222222222222,
              "#7201a8"
             ],
             [
              0.3333333333333333,
              "#9c179e"
             ],
             [
              0.4444444444444444,
              "#bd3786"
             ],
             [
              0.5555555555555556,
              "#d8576b"
             ],
             [
              0.6666666666666666,
              "#ed7953"
             ],
             [
              0.7777777777777778,
              "#fb9f3a"
             ],
             [
              0.8888888888888888,
              "#fdca26"
             ],
             [
              1,
              "#f0f921"
             ]
            ],
            "type": "histogram2d"
           }
          ],
          "histogram2dcontour": [
           {
            "colorbar": {
             "outlinewidth": 0,
             "ticks": ""
            },
            "colorscale": [
             [
              0,
              "#0d0887"
             ],
             [
              0.1111111111111111,
              "#46039f"
             ],
             [
              0.2222222222222222,
              "#7201a8"
             ],
             [
              0.3333333333333333,
              "#9c179e"
             ],
             [
              0.4444444444444444,
              "#bd3786"
             ],
             [
              0.5555555555555556,
              "#d8576b"
             ],
             [
              0.6666666666666666,
              "#ed7953"
             ],
             [
              0.7777777777777778,
              "#fb9f3a"
             ],
             [
              0.8888888888888888,
              "#fdca26"
             ],
             [
              1,
              "#f0f921"
             ]
            ],
            "type": "histogram2dcontour"
           }
          ],
          "mesh3d": [
           {
            "colorbar": {
             "outlinewidth": 0,
             "ticks": ""
            },
            "type": "mesh3d"
           }
          ],
          "parcoords": [
           {
            "line": {
             "colorbar": {
              "outlinewidth": 0,
              "ticks": ""
             }
            },
            "type": "parcoords"
           }
          ],
          "pie": [
           {
            "automargin": true,
            "type": "pie"
           }
          ],
          "scatter": [
           {
            "fillpattern": {
             "fillmode": "overlay",
             "size": 10,
             "solidity": 0.2
            },
            "type": "scatter"
           }
          ],
          "scatter3d": [
           {
            "line": {
             "colorbar": {
              "outlinewidth": 0,
              "ticks": ""
             }
            },
            "marker": {
             "colorbar": {
              "outlinewidth": 0,
              "ticks": ""
             }
            },
            "type": "scatter3d"
           }
          ],
          "scattercarpet": [
           {
            "marker": {
             "colorbar": {
              "outlinewidth": 0,
              "ticks": ""
             }
            },
            "type": "scattercarpet"
           }
          ],
          "scattergeo": [
           {
            "marker": {
             "colorbar": {
              "outlinewidth": 0,
              "ticks": ""
             }
            },
            "type": "scattergeo"
           }
          ],
          "scattergl": [
           {
            "marker": {
             "colorbar": {
              "outlinewidth": 0,
              "ticks": ""
             }
            },
            "type": "scattergl"
           }
          ],
          "scattermap": [
           {
            "marker": {
             "colorbar": {
              "outlinewidth": 0,
              "ticks": ""
             }
            },
            "type": "scattermap"
           }
          ],
          "scattermapbox": [
           {
            "marker": {
             "colorbar": {
              "outlinewidth": 0,
              "ticks": ""
             }
            },
            "type": "scattermapbox"
           }
          ],
          "scatterpolar": [
           {
            "marker": {
             "colorbar": {
              "outlinewidth": 0,
              "ticks": ""
             }
            },
            "type": "scatterpolar"
           }
          ],
          "scatterpolargl": [
           {
            "marker": {
             "colorbar": {
              "outlinewidth": 0,
              "ticks": ""
             }
            },
            "type": "scatterpolargl"
           }
          ],
          "scatterternary": [
           {
            "marker": {
             "colorbar": {
              "outlinewidth": 0,
              "ticks": ""
             }
            },
            "type": "scatterternary"
           }
          ],
          "surface": [
           {
            "colorbar": {
             "outlinewidth": 0,
             "ticks": ""
            },
            "colorscale": [
             [
              0,
              "#0d0887"
             ],
             [
              0.1111111111111111,
              "#46039f"
             ],
             [
              0.2222222222222222,
              "#7201a8"
             ],
             [
              0.3333333333333333,
              "#9c179e"
             ],
             [
              0.4444444444444444,
              "#bd3786"
             ],
             [
              0.5555555555555556,
              "#d8576b"
             ],
             [
              0.6666666666666666,
              "#ed7953"
             ],
             [
              0.7777777777777778,
              "#fb9f3a"
             ],
             [
              0.8888888888888888,
              "#fdca26"
             ],
             [
              1,
              "#f0f921"
             ]
            ],
            "type": "surface"
           }
          ],
          "table": [
           {
            "cells": {
             "fill": {
              "color": "#EBF0F8"
             },
             "line": {
              "color": "white"
             }
            },
            "header": {
             "fill": {
              "color": "#C8D4E3"
             },
             "line": {
              "color": "white"
             }
            },
            "type": "table"
           }
          ]
         },
         "layout": {
          "annotationdefaults": {
           "arrowcolor": "#2a3f5f",
           "arrowhead": 0,
           "arrowwidth": 1
          },
          "autotypenumbers": "strict",
          "coloraxis": {
           "colorbar": {
            "outlinewidth": 0,
            "ticks": ""
           }
          },
          "colorscale": {
           "diverging": [
            [
             0,
             "#8e0152"
            ],
            [
             0.1,
             "#c51b7d"
            ],
            [
             0.2,
             "#de77ae"
            ],
            [
             0.3,
             "#f1b6da"
            ],
            [
             0.4,
             "#fde0ef"
            ],
            [
             0.5,
             "#f7f7f7"
            ],
            [
             0.6,
             "#e6f5d0"
            ],
            [
             0.7,
             "#b8e186"
            ],
            [
             0.8,
             "#7fbc41"
            ],
            [
             0.9,
             "#4d9221"
            ],
            [
             1,
             "#276419"
            ]
           ],
           "sequential": [
            [
             0,
             "#0d0887"
            ],
            [
             0.1111111111111111,
             "#46039f"
            ],
            [
             0.2222222222222222,
             "#7201a8"
            ],
            [
             0.3333333333333333,
             "#9c179e"
            ],
            [
             0.4444444444444444,
             "#bd3786"
            ],
            [
             0.5555555555555556,
             "#d8576b"
            ],
            [
             0.6666666666666666,
             "#ed7953"
            ],
            [
             0.7777777777777778,
             "#fb9f3a"
            ],
            [
             0.8888888888888888,
             "#fdca26"
            ],
            [
             1,
             "#f0f921"
            ]
           ],
           "sequentialminus": [
            [
             0,
             "#0d0887"
            ],
            [
             0.1111111111111111,
             "#46039f"
            ],
            [
             0.2222222222222222,
             "#7201a8"
            ],
            [
             0.3333333333333333,
             "#9c179e"
            ],
            [
             0.4444444444444444,
             "#bd3786"
            ],
            [
             0.5555555555555556,
             "#d8576b"
            ],
            [
             0.6666666666666666,
             "#ed7953"
            ],
            [
             0.7777777777777778,
             "#fb9f3a"
            ],
            [
             0.8888888888888888,
             "#fdca26"
            ],
            [
             1,
             "#f0f921"
            ]
           ]
          },
          "colorway": [
           "#636efa",
           "#EF553B",
           "#00cc96",
           "#ab63fa",
           "#FFA15A",
           "#19d3f3",
           "#FF6692",
           "#B6E880",
           "#FF97FF",
           "#FECB52"
          ],
          "font": {
           "color": "#2a3f5f"
          },
          "geo": {
           "bgcolor": "white",
           "lakecolor": "white",
           "landcolor": "#E5ECF6",
           "showlakes": true,
           "showland": true,
           "subunitcolor": "white"
          },
          "hoverlabel": {
           "align": "left"
          },
          "hovermode": "closest",
          "mapbox": {
           "style": "light"
          },
          "paper_bgcolor": "white",
          "plot_bgcolor": "#E5ECF6",
          "polar": {
           "angularaxis": {
            "gridcolor": "white",
            "linecolor": "white",
            "ticks": ""
           },
           "bgcolor": "#E5ECF6",
           "radialaxis": {
            "gridcolor": "white",
            "linecolor": "white",
            "ticks": ""
           }
          },
          "scene": {
           "xaxis": {
            "backgroundcolor": "#E5ECF6",
            "gridcolor": "white",
            "gridwidth": 2,
            "linecolor": "white",
            "showbackground": true,
            "ticks": "",
            "zerolinecolor": "white"
           },
           "yaxis": {
            "backgroundcolor": "#E5ECF6",
            "gridcolor": "white",
            "gridwidth": 2,
            "linecolor": "white",
            "showbackground": true,
            "ticks": "",
            "zerolinecolor": "white"
           },
           "zaxis": {
            "backgroundcolor": "#E5ECF6",
            "gridcolor": "white",
            "gridwidth": 2,
            "linecolor": "white",
            "showbackground": true,
            "ticks": "",
            "zerolinecolor": "white"
           }
          },
          "shapedefaults": {
           "line": {
            "color": "#2a3f5f"
           }
          },
          "ternary": {
           "aaxis": {
            "gridcolor": "white",
            "linecolor": "white",
            "ticks": ""
           },
           "baxis": {
            "gridcolor": "white",
            "linecolor": "white",
            "ticks": ""
           },
           "bgcolor": "#E5ECF6",
           "caxis": {
            "gridcolor": "white",
            "linecolor": "white",
            "ticks": ""
           }
          },
          "title": {
           "x": 0.05
          },
          "xaxis": {
           "automargin": true,
           "gridcolor": "white",
           "linecolor": "white",
           "ticks": "",
           "title": {
            "standoff": 15
           },
           "zerolinecolor": "white",
           "zerolinewidth": 2
          },
          "yaxis": {
           "automargin": true,
           "gridcolor": "white",
           "linecolor": "white",
           "ticks": "",
           "title": {
            "standoff": 15
           },
           "zerolinecolor": "white",
           "zerolinewidth": 2
          }
         }
        },
        "title": {
         "text": "Histograma da coluna cargo"
        },
        "xaxis": {
         "anchor": "y",
         "domain": [
          0,
          1
         ],
         "title": {
          "text": "cargo"
         }
        },
        "yaxis": {
         "anchor": "x",
         "domain": [
          0,
          1
         ],
         "title": {
          "text": "count"
         }
        }
       }
      }
     },
     "metadata": {},
     "output_type": "display_data"
    }
   ],
   "source": [
    "for col in colunas_categoricas:\n",
    "  fig = px.histogram(df, x=col, color='churn', title=f'Histograma da coluna {col}', barmode='group')\n",
    "  fig.show()"
   ]
  },
  {
   "cell_type": "code",
   "execution_count": null,
   "metadata": {},
   "outputs": [],
   "source": []
  }
 ],
 "metadata": {
  "kernelspec": {
   "display_name": "random_forest_churn-JQErwaSq",
   "language": "python",
   "name": "python3"
  },
  "language_info": {
   "codemirror_mode": {
    "name": "ipython",
    "version": 3
   },
   "file_extension": ".py",
   "mimetype": "text/x-python",
   "name": "python",
   "nbconvert_exporter": "python",
   "pygments_lexer": "ipython3",
   "version": "3.13.0"
  }
 },
 "nbformat": 4,
 "nbformat_minor": 2
}
